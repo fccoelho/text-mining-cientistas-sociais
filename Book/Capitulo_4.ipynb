{
 "cells": [
  {
   "cell_type": "markdown",
   "metadata": {},
   "source": [
    "# Aplicando modelagem de assuntos ao DHBB\n",
    "Neste capítulo vamos explorar ferramentas de modelagem de assuntos e explorar aplicações ao DHBB. Como sempre, começamos com alguns imports familiares."
   ]
  },
  {
   "cell_type": "code",
   "execution_count": 1,
   "metadata": {
    "tags": [
     "hide-input"
    ],
    "ExecuteTime": {
     "end_time": "2023-10-11T12:21:07.460411990Z",
     "start_time": "2023-10-11T12:21:07.459152021Z"
    }
   },
   "outputs": [],
   "source": [
    "import warnings\n",
    "warnings.filterwarnings('ignore')"
   ]
  },
  {
   "cell_type": "code",
   "execution_count": 10,
   "metadata": {
    "ExecuteTime": {
     "end_time": "2023-10-11T12:22:38.516490925Z",
     "start_time": "2023-10-11T12:22:38.463503579Z"
    }
   },
   "outputs": [],
   "source": [
    "import os, glob, pickle\n",
    "import numpy as np\n",
    "import spacy\n",
    "from spacy import displacy\n",
    "from sqlalchemy import create_engine, text\n",
    "from dhbbmining import *\n",
    "import ipywidgets as widgets\n",
    "from tqdm import tqdm"
   ]
  },
  {
   "cell_type": "markdown",
   "metadata": {},
   "source": [
    "Vamos também carregar o modelo de NLP para a língua portuguesa do Spacy:"
   ]
  },
  {
   "cell_type": "code",
   "execution_count": 3,
   "metadata": {
    "ExecuteTime": {
     "end_time": "2023-10-11T12:21:12.892257514Z",
     "start_time": "2023-10-11T12:21:12.877250397Z"
    }
   },
   "outputs": [],
   "source": [
    "# Descomente a linha abaixo para instalar\n",
    "#!python3 -m spacy download pt_core_news_sm"
   ]
  },
  {
   "cell_type": "code",
   "execution_count": 4,
   "metadata": {
    "ExecuteTime": {
     "end_time": "2023-10-11T12:21:17.148553898Z",
     "start_time": "2023-10-11T12:21:16.338253240Z"
    }
   },
   "outputs": [],
   "source": [
    "nlp = spacy.load(\"pt_core_news_sm\")"
   ]
  },
  {
   "cell_type": "markdown",
   "metadata": {},
   "source": [
    "Agora faremos alguns imports novos, particularmente da biblioteca [Gensim](https://radimrehurek.com/gensim), que nos oferece as ferramentas que necessitamos para modelagem de assuntos."
   ]
  },
  {
   "cell_type": "code",
   "execution_count": 5,
   "metadata": {
    "ExecuteTime": {
     "end_time": "2023-10-11T12:21:19.532199866Z",
     "start_time": "2023-10-11T12:21:18.996642728Z"
    }
   },
   "outputs": [],
   "source": [
    "from string import punctuation\n",
    "from gensim.test.utils import datapath\n",
    "from gensim import utils\n",
    "from gensim.models import Word2Vec, word2vec"
   ]
  },
  {
   "cell_type": "markdown",
   "metadata": {},
   "source": [
    "Para minimizar o uso de memória, vamos construir uma classe para representar o nosso corpus como um iterador, operando diretamente do banco de dados. Desta forma, ao fazer nossas análises, podemos carregar um documento por vez para alimentar os modelos, sem a necessidade de manter todo o corpus na memória, economizando memória RAM."
   ]
  },
  {
   "cell_type": "code",
   "execution_count": 8,
   "metadata": {
    "ExecuteTime": {
     "end_time": "2023-10-11T12:22:23.779499972Z",
     "start_time": "2023-10-11T12:22:23.747113351Z"
    }
   },
   "outputs": [],
   "source": [
    "eng = create_engine(\"sqlite:///minha_tabela.sqlite\")\n",
    "\n",
    "class DHBBCorpus:\n",
    "    \"\"\"\n",
    "    Iterador de documentos quebrados em frases\n",
    "    \"\"\"\n",
    "    def __init__(self, ndocs=10000):\n",
    "        self.ndocs = min(7687,ndocs)\n",
    "        self.counter = 1\n",
    "    def __iter__(self):\n",
    "        with eng.connect() as con:\n",
    "            res = con.execute(text(f'select corpo from resultados limit {self.ndocs};'))\n",
    "            for doc in res:\n",
    "                d = self.pre_process(doc[0])\n",
    "                if self.counter%10 == 0:\n",
    "                    print (f\"Verbete {self.counter} de {6*self.ndocs}\\r\", end='')\n",
    "                for s in d:\n",
    "                    yield s\n",
    "                self.counter += 1\n",
    "    def pre_process(self, doc):\n",
    "        n = nlp(doc, disable=['tagger', 'ner','entity-linker', 'textcat','entity-ruler','merge-noun-chunks','merge-entities','merge-subtokens'])\n",
    "        results = []\n",
    "        for sentence in n.sents:\n",
    "            s = sentence.text.split()\n",
    "            if not s:\n",
    "                continue\n",
    "            results.append([token.strip().strip(punctuation) for token in s if token.strip().strip(punctuation)])\n",
    "        return results\n",
    "        "
   ]
  },
  {
   "cell_type": "markdown",
   "metadata": {},
   "source": [
    "Abaixo um pequeno exemplo de como a classe `DHBBCorpus` funciona:"
   ]
  },
  {
   "cell_type": "code",
   "execution_count": 11,
   "metadata": {
    "ExecuteTime": {
     "end_time": "2023-10-11T12:22:51.192007949Z",
     "start_time": "2023-10-11T12:22:51.088970047Z"
    }
   },
   "outputs": [
    {
     "name": "stdout",
     "output_type": "stream",
     "text": [
      "['«Floriano', 'Lopes', 'Rubim»', 'nasceu', 'em', 'Alegre', 'ES', 'no', 'dia', '18', 'de', 'janeiro', 'de', '1912', 'filho', 'de', 'Francisco', 'Lopes', 'Rubim', 'funcionário', 'público', 'e', 'de', 'Maria', 'Sílvia', 'Lousada', 'Rubim']\n"
     ]
    }
   ],
   "source": [
    "DC = DHBBCorpus(5)\n",
    "for f in DC:\n",
    "    print(f)\n",
    "    break\n",
    "    "
   ]
  },
  {
   "cell_type": "markdown",
   "metadata": {},
   "source": [
    "## Word2vec \n",
    "Vamos começar pelo treinamento de um modelo word2vec. Este modelo itera 6 vezes sobre o corpus logo, devemos ver o contador atingir 46122. Estas repetições são necessárias para permitir a melhor estimação da representação vetorial das palavras em um espaço semântico."
   ]
  },
  {
   "cell_type": "code",
   "execution_count": 13,
   "metadata": {
    "ExecuteTime": {
     "end_time": "2023-10-11T12:34:52.402134253Z",
     "start_time": "2023-10-11T12:34:51.433889382Z"
    }
   },
   "outputs": [],
   "source": [
    "if os.path.exists('dhbb.w2v'):\n",
    "    model = Word2Vec.load('dhbb.w2v')\n",
    "else:\n",
    "    DC = DHBBCorpus()\n",
    "    model = Word2Vec(sentences=DC, workers=32)\n",
    "    model.save('dhbb.w2v')"
   ]
  },
  {
   "cell_type": "markdown",
   "metadata": {},
   "source": [
    "### Explorando o modelo\n",
    "Como dito anteriormente o modelo do Word2Vec representa cada palavra do vocabulário do corpus como um vetor. Vejamos as dez primeiras palavras:"
   ]
  },
  {
   "cell_type": "code",
   "execution_count": 14,
   "metadata": {
    "ExecuteTime": {
     "end_time": "2023-10-11T12:34:54.092888726Z",
     "start_time": "2023-10-11T12:34:54.036419892Z"
    }
   },
   "outputs": [
    {
     "name": "stdout",
     "output_type": "stream",
     "text": [
      "de\n",
      "a\n",
      "do\n",
      "e\n",
      "da\n",
      "o\n",
      "em\n",
      "que\n",
      "no\n",
      "na\n"
     ]
    }
   ],
   "source": [
    "for i, word in enumerate(model.wv.index_to_key):\n",
    "    if i == 10:\n",
    "        break\n",
    "    print(word)"
   ]
  },
  {
   "cell_type": "markdown",
   "metadata": {},
   "source": [
    "Enquanto vetores podemos realizar operações aritméticas entre eles. Por exemplo se subtrairmos os vetores de *Deputado* e  *deputado* encontraremos que a magnitude do vetor resultante é bem pequena, pois estão muito próximos no espaço vetorial:"
   ]
  },
  {
   "cell_type": "code",
   "execution_count": 15,
   "metadata": {
    "ExecuteTime": {
     "end_time": "2023-10-11T12:34:56.011827359Z",
     "start_time": "2023-10-11T12:34:55.964105946Z"
    }
   },
   "outputs": [
    {
     "name": "stdout",
     "output_type": "stream",
     "text": [
      "Todos os vetores tem dimensão 100\n"
     ]
    },
    {
     "data": {
      "text/plain": "24.32071"
     },
     "execution_count": 15,
     "metadata": {},
     "output_type": "execute_result"
    }
   ],
   "source": [
    "vec = model.wv['Deputado'] - model.wv['deputado']\n",
    "print(f\"Todos os vetores tem dimensão {len(vec)}\")\n",
    "np.linalg.norm(vec)\n"
   ]
  },
  {
   "cell_type": "markdown",
   "metadata": {},
   "source": [
    "O tamanho total do vocabulário (palavras distintas) é de:"
   ]
  },
  {
   "cell_type": "code",
   "execution_count": 16,
   "metadata": {
    "ExecuteTime": {
     "end_time": "2023-10-11T12:34:57.836800347Z",
     "start_time": "2023-10-11T12:34:57.800434410Z"
    }
   },
   "outputs": [
    {
     "name": "stdout",
     "output_type": "stream",
     "text": [
      "38762 palavras\n"
     ]
    }
   ],
   "source": [
    "print(f\"{len(model.wv.index_to_key)} palavras\")"
   ]
  },
  {
   "cell_type": "markdown",
   "metadata": {},
   "source": [
    "Usando a mesma lógica de operações sobre os vetores, podemos usar palavras como representantes de seu significado, efetivamente estabelecendo um cálculo conceitual. Por exemplo: Abaixo vamos buscar as palavras mais similares semanticamente com o conceito de **direita** e ao mesmos antagônicas ao conceito de \"Comunista\". Como o corpus do DHBB tem um claro viés político, vemos o termo *direita* tomar a conotação política usual."
   ]
  },
  {
   "cell_type": "code",
   "execution_count": 17,
   "metadata": {
    "ExecuteTime": {
     "end_time": "2023-10-11T12:34:59.310126505Z",
     "start_time": "2023-10-11T12:34:59.185506019Z"
    }
   },
   "outputs": [
    {
     "data": {
      "text/plain": "[('progressistas', 0.5529391169548035),\n ('segmentos', 0.5388556718826294),\n ('conservadores', 0.5193644165992737),\n ('antigetulistas', 0.515348494052887),\n ('setores', 0.5146178603172302),\n ('nacionalistas', 0.5058426856994629),\n ('esquerda', 0.5054914951324463),\n ('oposição', 0.4820389747619629),\n ('extrema', 0.47334492206573486),\n ('oposicionistas', 0.4595625698566437),\n ('adeptos', 0.44704267382621765),\n ('udenistas', 0.44662249088287354),\n ('centro-esquerda', 0.44410112500190735),\n ('radicais', 0.43817466497421265),\n ('pessedistas', 0.4352889060974121),\n ('moderados', 0.4338815212249756),\n ('liberais', 0.43283340334892273),\n ('jovens', 0.43128761649131775),\n ('grupos', 0.42958810925483704),\n ('ambientalistas', 0.42890769243240356)]"
     },
     "execution_count": 17,
     "metadata": {},
     "output_type": "execute_result"
    }
   ],
   "source": [
    "model.wv.most_similar(positive=['direita'],negative=['Comunista'], topn=20)"
   ]
  },
  {
   "cell_type": "markdown",
   "metadata": {},
   "source": [
    "O número total de tokens no corpus é de:"
   ]
  },
  {
   "cell_type": "code",
   "execution_count": 18,
   "metadata": {
    "ExecuteTime": {
     "end_time": "2023-10-11T12:35:00.965087505Z",
     "start_time": "2023-10-11T12:35:00.935723550Z"
    }
   },
   "outputs": [
    {
     "data": {
      "text/plain": "8713256"
     },
     "execution_count": 18,
     "metadata": {},
     "output_type": "execute_result"
    }
   ],
   "source": [
    "model.corpus_total_words"
   ]
  },
  {
   "cell_type": "markdown",
   "metadata": {},
   "source": [
    "### Visualizando os vetores de palavras\n",
    "Como os palavras estão inseridas um espaço vetorial de dimensão 100, fica difícil visualizar o seu posicionamento relativo mas podemos nos utilizar de métodos de redução de dimensionalidade com o [TSNE](https://en.wikipedia.org/wiki/T-distributed_stochastic_neighbor_embedding), para visualizarmos um pequeno numero (200) delas."
   ]
  },
  {
   "cell_type": "code",
   "execution_count": 19,
   "metadata": {
    "ExecuteTime": {
     "end_time": "2023-10-11T12:35:02.975487603Z",
     "start_time": "2023-10-11T12:35:02.047007620Z"
    }
   },
   "outputs": [],
   "source": [
    "from sklearn.decomposition import IncrementalPCA    # inital reduction\n",
    "from sklearn.manifold import TSNE                   # final reduction\n",
    "import numpy as np                                  # array handling\n",
    "\n",
    "\n",
    "def reduce_dimensions(model):\n",
    "    num_dimensions = 2  # final num dimensions (2D, 3D, etc)\n",
    "\n",
    "    vectors = [] # positions in vector space\n",
    "    labels = [] # keep track of words to label our data again later\n",
    "    i = 0\n",
    "    for word in model.wv.index_to_key:\n",
    "        vectors.append(model.wv[word])\n",
    "        labels.append(word)\n",
    "        i+=1\n",
    "        if i>200:\n",
    "            break\n",
    "\n",
    "    # convert both lists into numpy vectors for reduction\n",
    "    vectors = np.asarray(vectors)\n",
    "    labels = np.asarray(labels)\n",
    "\n",
    "    # reduce using t-SNE\n",
    "    vectors = np.asarray(vectors)\n",
    "    tsne = TSNE(n_components=num_dimensions, random_state=0)\n",
    "    vectors = tsne.fit_transform(vectors)\n",
    "\n",
    "    x_vals = [v[0] for v in vectors]\n",
    "    y_vals = [v[1] for v in vectors]\n",
    "    return x_vals, y_vals, labels\n",
    "\n",
    "\n",
    "x_vals, y_vals, labels = reduce_dimensions(model)\n",
    "\n",
    "def plot_with_plotly(x_vals, y_vals, labels, plot_in_notebook=True):\n",
    "    from plotly.offline import init_notebook_mode, iplot, plot\n",
    "    import plotly.graph_objs as go\n",
    "    layout = go.Layout(\n",
    "        autosize=False,\n",
    "        width=800,\n",
    "        height=600\n",
    "    )\n",
    "\n",
    "    trace = go.Scatter(x=x_vals, y=y_vals, mode='text', text=labels, opacity=0.8)\n",
    "    data = [trace]\n",
    "    fig = go.Figure(\n",
    "    data= data,\n",
    "    layout= layout)\n",
    "\n",
    "    if plot_in_notebook:\n",
    "        init_notebook_mode(connected=True)\n",
    "        iplot(fig, filename='word-embedding-plot')\n",
    "    else:\n",
    "        plot(fig, filename='word-embedding-plot.html')"
   ]
  },
  {
   "cell_type": "code",
   "execution_count": 21,
   "metadata": {
    "ExecuteTime": {
     "end_time": "2023-10-11T12:35:37.373066338Z",
     "start_time": "2023-10-11T12:35:36.086616210Z"
    }
   },
   "outputs": [
    {
     "data": {
      "text/html": "        <script type=\"text/javascript\">\n        window.PlotlyConfig = {MathJaxConfig: 'local'};\n        if (window.MathJax && window.MathJax.Hub && window.MathJax.Hub.Config) {window.MathJax.Hub.Config({SVG: {font: \"STIX-Web\"}});}\n        if (typeof require !== 'undefined') {\n        require.undef(\"plotly\");\n        requirejs.config({\n            paths: {\n                'plotly': ['https://cdn.plot.ly/plotly-2.26.0.min']\n            }\n        });\n        require(['plotly'], function(Plotly) {\n            window._Plotly = Plotly;\n        });\n        }\n        </script>\n        "
     },
     "metadata": {},
     "output_type": "display_data"
    },
    {
     "data": {
      "application/vnd.plotly.v1+json": {
       "data": [
        {
         "mode": "text",
         "opacity": 0.8,
         "text": [
          "de",
          "a",
          "do",
          "e",
          "da",
          "o",
          "em",
          "que",
          "no",
          "na",
          "para",
          "com",
          "foi",
          "dos",
          "ao",
          "Em",
          "à",
          "por",
          "os",
          "uma",
          "um",
          "pelo",
          "como",
          "das",
          "governo",
          "ano",
          "as",
          "presidente",
          "sua",
          "se",
          "pela",
          "seu",
          "Partido",
          "Rio",
          "não",
          "outubro",
          "No",
          "Câmara",
          "dia",
          "A",
          "Paulo",
          "deputado",
          "seguinte",
          "novembro",
          "Nacional",
          "São",
          "Comissão",
          "mandato",
          "entre",
          "O",
          "federal",
          "mais",
          "até",
          "Brasil",
          "janeiro",
          "Janeiro",
          "estado",
          "também",
          "política",
          "fevereiro",
          "cargo",
          "legenda",
          "mesmo",
          "março",
          "sobre",
          "partido",
          "então",
          "Federal",
          "República",
          "ainda",
          "abril",
          "eleições",
          "presidência",
          "país",
          "José",
          "contra",
          "quando",
          "João",
          "anos",
          "Social",
          "dezembro",
          "ser",
          "teve",
          "Estado",
          "ministro",
          "aos",
          "Vargas",
          "maio",
          "pleito",
          "Brasileiro",
          "nas",
          "eleito",
          "Foi",
          "qual",
          "era",
          "assumiu",
          "membro",
          "Com",
          "setembro",
          "nacional",
          "depois",
          "mas",
          "agosto",
          "nos",
          "seus",
          "candidato",
          "passou",
          "Democrático",
          "tornou-se",
          "às",
          "movimento",
          "julho",
          "PMDB",
          "sendo",
          "Ainda",
          "Deputados",
          "Congresso",
          "estadual",
          "onde",
          "Senado",
          "filho",
          "durante",
          "apoio",
          "votos",
          "junho",
          "general",
          "Na",
          "nasceu",
          "Minas",
          "novo",
          "dois",
          "governador",
          "segundo",
          "já",
          "militar",
          "desse",
          "Assembléia",
          "após",
          "foram",
          "mês",
          "Carlos",
          "Ministério",
          "tendo",
          "Justiça",
          "primeiro",
          "projeto",
          "suas",
          "campanha",
          "período",
          "Grande",
          "Sul",
          "candidatura",
          "início",
          "comissão",
          "vez",
          "fim",
          "regime",
          "ou",
          "Escola",
          "participou",
          "Universidade",
          "nova",
          "oposição",
          "1964",
          "sido",
          "partir",
          "Luís",
          "nomeado",
          "Constituição",
          "posse",
          "políticos",
          "Militar",
          "criação",
          "quem",
          "legislatura",
          "Fernando",
          "favor",
          "capital",
          "processo",
          "reforma",
          "Silva",
          "titular",
          "nº",
          "curso",
          "três",
          "cidade",
          "Exército",
          "Antônio",
          "Durante",
          "PSD",
          "Faculdade",
          "chefe",
          "suplente",
          "Distrito",
          "PTB",
          "jornal",
          "direito",
          "Conselho",
          "deixou",
          "elegeu-se",
          "vice-presidente"
         ],
         "x": [
          -0.9388281106948853,
          -1.6382620334625244,
          -3.6576712131500244,
          -0.4992700517177582,
          -2.380222797393799,
          -4.281491279602051,
          1.4293283224105835,
          0.6980834603309631,
          -4.350240230560303,
          -2.686955451965332,
          -0.5945330262184143,
          -1.519628643989563,
          -10.484705924987793,
          8.575089454650879,
          -4.886443614959717,
          2.7704062461853027,
          -4.200926303863525,
          -6.466333866119385,
          7.946146011352539,
          -1.6505945920944214,
          -4.587985992431641,
          -6.251397609710693,
          -11.296868324279785,
          -6.118083477020264,
          6.196450233459473,
          7.56718635559082,
          -6.361149311065674,
          0.29506853222846985,
          -1.0301437377929688,
          -8.732864379882812,
          -3.531989097595215,
          -3.749105930328369,
          -11.583327293395996,
          -1.9636858701705933,
          1.084067463874817,
          4.810806751251221,
          -4.839883804321289,
          4.825193405151367,
          7.246840000152588,
          -1.9201804399490356,
          -3.6085124015808105,
          5.9466753005981445,
          -5.680171012878418,
          4.256604194641113,
          -5.578423976898193,
          -2.955911636352539,
          3.339595079421997,
          9.744671821594238,
          -0.3768833577632904,
          -4.817476272583008,
          1.837084412574768,
          1.1041994094848633,
          2.5263607501983643,
          8.268503189086914,
          5.903718948364258,
          -3.365374803543091,
          8.463934898376465,
          -0.4719345271587372,
          1.742734432220459,
          6.170801162719727,
          9.76058292388916,
          2.593431234359741,
          -5.6336989402771,
          5.357739448547363,
          -2.5838541984558105,
          5.503264904022217,
          -1.0638394355773926,
          0.6331999897956848,
          -4.081012725830078,
          -0.2797571122646332,
          5.4517998695373535,
          12.157496452331543,
          0.07994285970926285,
          8.157537460327148,
          -3.7916595935821533,
          -2.216449022293091,
          1.3299891948699951,
          -4.57464075088501,
          2.476456642150879,
          -5.4864091873168945,
          4.938490390777588,
          -10.974804878234863,
          -8.191272735595703,
          9.391851425170898,
          8.993837356567383,
          8.734892845153809,
          -6.711580753326416,
          4.59858512878418,
          12.13145637512207,
          -5.529040336608887,
          -5.965207099914551,
          -9.191069602966309,
          -10.665385246276855,
          0.966606855392456,
          -9.623601913452148,
          -7.552295684814453,
          0.08426185697317123,
          -1.4638211727142334,
          4.491586685180664,
          -1.873803973197937,
          -0.10426633805036545,
          0.37807369232177734,
          5.277987003326416,
          8.975841522216797,
          7.571262359619141,
          6.735087871551514,
          -7.065324306488037,
          3.4644217491149902,
          -9.827247619628906,
          -5.665004730224609,
          6.020706653594971,
          5.034205436706543,
          5.258695125579834,
          -10.748905181884766,
          2.8415920734405518,
          3.3876566886901855,
          6.388216972351074,
          1.8255462646484375,
          1.0213226079940796,
          6.1787214279174805,
          -8.886666297912598,
          0.5539000034332275,
          4.553494930267334,
          4.345030784606934,
          4.617827892303467,
          -0.4387162923812866,
          -2.4755702018737793,
          -2.0411503314971924,
          0.1866084188222885,
          -1.8733407258987427,
          2.308663845062256,
          6.093300819396973,
          -2.6141865253448486,
          0.38835597038269043,
          -1.2460674047470093,
          -5.551693439483643,
          4.821107864379883,
          -0.1598750650882721,
          -8.059385299682617,
          7.506811141967773,
          -2.5093257427215576,
          8.971755027770996,
          -8.439135551452637,
          -3.6342201232910156,
          -2.621062755584717,
          5.188832759857178,
          -6.611318111419678,
          6.284336566925049,
          6.071563720703125,
          -3.352307081222534,
          0.3709772527217865,
          6.617151737213135,
          2.8512063026428223,
          2.7589497566223145,
          0.7882829904556274,
          2.632612466812134,
          6.455399036407471,
          -0.009458212181925774,
          5.371397972106934,
          -8.537596702575684,
          5.416593551635742,
          -1.4360511302947998,
          4.583040714263916,
          -0.7985923886299133,
          -11.470120429992676,
          1.902501106262207,
          -3.3048300743103027,
          -9.064685821533203,
          3.4853219985961914,
          1.0389593839645386,
          3.657959461212158,
          -0.0011998298577964306,
          2.7072489261627197,
          -1.1756913661956787,
          2.7636735439300537,
          -2.402061939239502,
          -2.206299304962158,
          2.3344838619232178,
          5.76106595993042,
          3.3196780681610107,
          -3.3383049964904785,
          1.4243861436843872,
          4.631651401519775,
          5.200361728668213,
          2.2285993099212646,
          2.167314291000366,
          -0.2992115318775177,
          -2.9253711700439453,
          0.6490933299064636,
          4.816654682159424,
          5.395519733428955,
          -0.44431212544441223,
          1.1914132833480835,
          7.57905912399292,
          4.736921787261963,
          4.869649410247803,
          4.1063127517700195,
          7.30891227722168,
          -7.321595191955566,
          -9.543251037597656,
          0.4442548453807831
         ],
         "y": [
          0.45612308382987976,
          2.255239486694336,
          1.514074444770813,
          0.2105221152305603,
          2.2115073204040527,
          1.490261197090149,
          4.343844413757324,
          1.847637414932251,
          2.726806879043579,
          4.0361504554748535,
          1.6942051649093628,
          5.842266082763672,
          -1.631290316581726,
          2.9257919788360596,
          5.242559432983398,
          6.959277629852295,
          5.532261371612549,
          2.4660861492156982,
          2.7960219383239746,
          2.6129024028778076,
          0.7850370407104492,
          2.444608688354492,
          -3.778663158416748,
          8.632448196411133,
          -10.118231773376465,
          6.601555824279785,
          8.769014358520508,
          -10.18911075592041,
          2.9029297828674316,
          3.1852657794952393,
          3.846412420272827,
          0.7400281429290771,
          3.173860549926758,
          -6.3767523765563965,
          0.004618980921804905,
          13.034424781799316,
          3.5468504428863525,
          -7.913296222686768,
          7.803289890289307,
          3.2696311473846436,
          -5.311695098876953,
          -11.010894775390625,
          -1.003868818283081,
          12.639315605163574,
          -8.127418518066406,
          -7.732326030731201,
          -11.632083892822266,
          -4.949147701263428,
          7.763996601104736,
          1.612699270248413,
          -6.055457592010498,
          0.9008937478065491,
          5.078145503997803,
          -0.7561007738113403,
          12.39311408996582,
          -10.270452499389648,
          -1.9758148193359375,
          -0.730741024017334,
          -1.4680187702178955,
          11.784029006958008,
          -4.281100749969482,
          -4.022994518280029,
          -1.1223623752593994,
          12.098172187805176,
          7.274731636047363,
          -4.700795650482178,
          -0.8994447588920593,
          -4.938631057739258,
          -2.55654239654541,
          -0.6869896054267883,
          11.572763442993164,
          0.10822455585002899,
          -10.776779174804688,
          -0.8819499611854553,
          -4.128664016723633,
          9.086407661437988,
          3.4164657592773438,
          -4.094879627227783,
          10.585755348205566,
          -6.994410514831543,
          12.098648071289062,
          -0.48060205578804016,
          -2.136537551879883,
          -1.7849531173706055,
          -9.387980461120605,
          3.8933839797973633,
          4.425793647766113,
          11.80284309387207,
          0.11019191890954971,
          -7.831305027008057,
          8.43406867980957,
          -5.917855739593506,
          -1.8108912706375122,
          2.265772819519043,
          -1.6196107864379883,
          -4.231769561767578,
          -8.9927339553833,
          5.924147129058838,
          11.405815124511719,
          0.560364305973053,
          4.929851531982422,
          1.3161344528198242,
          11.065997123718262,
          2.846140146255493,
          2.579747438430786,
          -3.801776885986328,
          -4.1966633796691895,
          -4.439092636108398,
          -3.4516446590423584,
          7.609616756439209,
          -1.245855450630188,
          11.078883171081543,
          -5.05971097946167,
          -0.7758582830429077,
          7.290314674377441,
          -6.532832145690918,
          -6.990629196166992,
          -5.97470760345459,
          2.868279218673706,
          -6.241917133331299,
          6.303874969482422,
          6.496702194213867,
          -2.907036781311035,
          -5.794785976409912,
          11.10966682434082,
          -6.419316291809082,
          4.308348178863525,
          -4.7699737548828125,
          -2.12892746925354,
          -0.8038827776908875,
          0.557529866695404,
          -10.241005897521973,
          -0.5005605816841125,
          -0.17184734344482422,
          -2.1326100826263428,
          -0.2103201448917389,
          -7.865352153778076,
          5.14427375793457,
          -0.905430793762207,
          6.73744535446167,
          -3.2590410709381104,
          -9.323281288146973,
          1.0301371812820435,
          -1.3826543092727661,
          -0.5389760136604309,
          0.431002676486969,
          9.006185531616211,
          -2.837433338165283,
          1.385231614112854,
          -10.304743766784668,
          -3.4887266159057617,
          -3.3521955013275146,
          2.794616222381592,
          -11.803040504455566,
          -1.17159903049469,
          1.9008909463882446,
          -0.07665527611970901,
          0.7850316166877747,
          4.182003021240234,
          -3.079592227935791,
          4.669587135314941,
          1.1208066940307617,
          -2.77463436126709,
          -1.9031169414520264,
          -1.2073616981506348,
          4.790650844573975,
          -4.450724124908447,
          -6.0755414962768555,
          -9.512365341186523,
          -3.2021384239196777,
          0.5093189477920532,
          -5.172869682312012,
          -0.8208730220794678,
          -3.5702500343322754,
          -8.179299354553223,
          -1.9702116250991821,
          9.14014720916748,
          -2.735517740249634,
          0.5991585850715637,
          -0.8570407629013062,
          -2.932124614715576,
          -8.986001014709473,
          9.017524719238281,
          2.9758806228637695,
          0.5461168885231018,
          -2.9844696521759033,
          -5.915985584259033,
          -3.966383457183838,
          6.6124587059021,
          -4.8381829261779785,
          4.511687755584717,
          -8.041621208190918,
          -9.162254333496094,
          -5.97634220123291,
          -4.909433841705322,
          -1.3345420360565186,
          2.125370740890503,
          -8.066200256347656,
          -4.235518932342529,
          -5.401586532592773,
          -9.657474517822266
         ],
         "type": "scatter"
        }
       ],
       "layout": {
        "autosize": false,
        "height": 600,
        "template": {
         "data": {
          "barpolar": [
           {
            "marker": {
             "line": {
              "color": "#E5ECF6",
              "width": 0.5
             },
             "pattern": {
              "fillmode": "overlay",
              "size": 10,
              "solidity": 0.2
             }
            },
            "type": "barpolar"
           }
          ],
          "bar": [
           {
            "error_x": {
             "color": "#2a3f5f"
            },
            "error_y": {
             "color": "#2a3f5f"
            },
            "marker": {
             "line": {
              "color": "#E5ECF6",
              "width": 0.5
             },
             "pattern": {
              "fillmode": "overlay",
              "size": 10,
              "solidity": 0.2
             }
            },
            "type": "bar"
           }
          ],
          "carpet": [
           {
            "aaxis": {
             "endlinecolor": "#2a3f5f",
             "gridcolor": "white",
             "linecolor": "white",
             "minorgridcolor": "white",
             "startlinecolor": "#2a3f5f"
            },
            "baxis": {
             "endlinecolor": "#2a3f5f",
             "gridcolor": "white",
             "linecolor": "white",
             "minorgridcolor": "white",
             "startlinecolor": "#2a3f5f"
            },
            "type": "carpet"
           }
          ],
          "choropleth": [
           {
            "colorbar": {
             "outlinewidth": 0,
             "ticks": ""
            },
            "type": "choropleth"
           }
          ],
          "contourcarpet": [
           {
            "colorbar": {
             "outlinewidth": 0,
             "ticks": ""
            },
            "type": "contourcarpet"
           }
          ],
          "contour": [
           {
            "colorbar": {
             "outlinewidth": 0,
             "ticks": ""
            },
            "colorscale": [
             [
              0.0,
              "#0d0887"
             ],
             [
              0.1111111111111111,
              "#46039f"
             ],
             [
              0.2222222222222222,
              "#7201a8"
             ],
             [
              0.3333333333333333,
              "#9c179e"
             ],
             [
              0.4444444444444444,
              "#bd3786"
             ],
             [
              0.5555555555555556,
              "#d8576b"
             ],
             [
              0.6666666666666666,
              "#ed7953"
             ],
             [
              0.7777777777777778,
              "#fb9f3a"
             ],
             [
              0.8888888888888888,
              "#fdca26"
             ],
             [
              1.0,
              "#f0f921"
             ]
            ],
            "type": "contour"
           }
          ],
          "heatmapgl": [
           {
            "colorbar": {
             "outlinewidth": 0,
             "ticks": ""
            },
            "colorscale": [
             [
              0.0,
              "#0d0887"
             ],
             [
              0.1111111111111111,
              "#46039f"
             ],
             [
              0.2222222222222222,
              "#7201a8"
             ],
             [
              0.3333333333333333,
              "#9c179e"
             ],
             [
              0.4444444444444444,
              "#bd3786"
             ],
             [
              0.5555555555555556,
              "#d8576b"
             ],
             [
              0.6666666666666666,
              "#ed7953"
             ],
             [
              0.7777777777777778,
              "#fb9f3a"
             ],
             [
              0.8888888888888888,
              "#fdca26"
             ],
             [
              1.0,
              "#f0f921"
             ]
            ],
            "type": "heatmapgl"
           }
          ],
          "heatmap": [
           {
            "colorbar": {
             "outlinewidth": 0,
             "ticks": ""
            },
            "colorscale": [
             [
              0.0,
              "#0d0887"
             ],
             [
              0.1111111111111111,
              "#46039f"
             ],
             [
              0.2222222222222222,
              "#7201a8"
             ],
             [
              0.3333333333333333,
              "#9c179e"
             ],
             [
              0.4444444444444444,
              "#bd3786"
             ],
             [
              0.5555555555555556,
              "#d8576b"
             ],
             [
              0.6666666666666666,
              "#ed7953"
             ],
             [
              0.7777777777777778,
              "#fb9f3a"
             ],
             [
              0.8888888888888888,
              "#fdca26"
             ],
             [
              1.0,
              "#f0f921"
             ]
            ],
            "type": "heatmap"
           }
          ],
          "histogram2dcontour": [
           {
            "colorbar": {
             "outlinewidth": 0,
             "ticks": ""
            },
            "colorscale": [
             [
              0.0,
              "#0d0887"
             ],
             [
              0.1111111111111111,
              "#46039f"
             ],
             [
              0.2222222222222222,
              "#7201a8"
             ],
             [
              0.3333333333333333,
              "#9c179e"
             ],
             [
              0.4444444444444444,
              "#bd3786"
             ],
             [
              0.5555555555555556,
              "#d8576b"
             ],
             [
              0.6666666666666666,
              "#ed7953"
             ],
             [
              0.7777777777777778,
              "#fb9f3a"
             ],
             [
              0.8888888888888888,
              "#fdca26"
             ],
             [
              1.0,
              "#f0f921"
             ]
            ],
            "type": "histogram2dcontour"
           }
          ],
          "histogram2d": [
           {
            "colorbar": {
             "outlinewidth": 0,
             "ticks": ""
            },
            "colorscale": [
             [
              0.0,
              "#0d0887"
             ],
             [
              0.1111111111111111,
              "#46039f"
             ],
             [
              0.2222222222222222,
              "#7201a8"
             ],
             [
              0.3333333333333333,
              "#9c179e"
             ],
             [
              0.4444444444444444,
              "#bd3786"
             ],
             [
              0.5555555555555556,
              "#d8576b"
             ],
             [
              0.6666666666666666,
              "#ed7953"
             ],
             [
              0.7777777777777778,
              "#fb9f3a"
             ],
             [
              0.8888888888888888,
              "#fdca26"
             ],
             [
              1.0,
              "#f0f921"
             ]
            ],
            "type": "histogram2d"
           }
          ],
          "histogram": [
           {
            "marker": {
             "pattern": {
              "fillmode": "overlay",
              "size": 10,
              "solidity": 0.2
             }
            },
            "type": "histogram"
           }
          ],
          "mesh3d": [
           {
            "colorbar": {
             "outlinewidth": 0,
             "ticks": ""
            },
            "type": "mesh3d"
           }
          ],
          "parcoords": [
           {
            "line": {
             "colorbar": {
              "outlinewidth": 0,
              "ticks": ""
             }
            },
            "type": "parcoords"
           }
          ],
          "pie": [
           {
            "automargin": true,
            "type": "pie"
           }
          ],
          "scatter3d": [
           {
            "line": {
             "colorbar": {
              "outlinewidth": 0,
              "ticks": ""
             }
            },
            "marker": {
             "colorbar": {
              "outlinewidth": 0,
              "ticks": ""
             }
            },
            "type": "scatter3d"
           }
          ],
          "scattercarpet": [
           {
            "marker": {
             "colorbar": {
              "outlinewidth": 0,
              "ticks": ""
             }
            },
            "type": "scattercarpet"
           }
          ],
          "scattergeo": [
           {
            "marker": {
             "colorbar": {
              "outlinewidth": 0,
              "ticks": ""
             }
            },
            "type": "scattergeo"
           }
          ],
          "scattergl": [
           {
            "marker": {
             "colorbar": {
              "outlinewidth": 0,
              "ticks": ""
             }
            },
            "type": "scattergl"
           }
          ],
          "scattermapbox": [
           {
            "marker": {
             "colorbar": {
              "outlinewidth": 0,
              "ticks": ""
             }
            },
            "type": "scattermapbox"
           }
          ],
          "scatterpolargl": [
           {
            "marker": {
             "colorbar": {
              "outlinewidth": 0,
              "ticks": ""
             }
            },
            "type": "scatterpolargl"
           }
          ],
          "scatterpolar": [
           {
            "marker": {
             "colorbar": {
              "outlinewidth": 0,
              "ticks": ""
             }
            },
            "type": "scatterpolar"
           }
          ],
          "scatter": [
           {
            "fillpattern": {
             "fillmode": "overlay",
             "size": 10,
             "solidity": 0.2
            },
            "type": "scatter"
           }
          ],
          "scatterternary": [
           {
            "marker": {
             "colorbar": {
              "outlinewidth": 0,
              "ticks": ""
             }
            },
            "type": "scatterternary"
           }
          ],
          "surface": [
           {
            "colorbar": {
             "outlinewidth": 0,
             "ticks": ""
            },
            "colorscale": [
             [
              0.0,
              "#0d0887"
             ],
             [
              0.1111111111111111,
              "#46039f"
             ],
             [
              0.2222222222222222,
              "#7201a8"
             ],
             [
              0.3333333333333333,
              "#9c179e"
             ],
             [
              0.4444444444444444,
              "#bd3786"
             ],
             [
              0.5555555555555556,
              "#d8576b"
             ],
             [
              0.6666666666666666,
              "#ed7953"
             ],
             [
              0.7777777777777778,
              "#fb9f3a"
             ],
             [
              0.8888888888888888,
              "#fdca26"
             ],
             [
              1.0,
              "#f0f921"
             ]
            ],
            "type": "surface"
           }
          ],
          "table": [
           {
            "cells": {
             "fill": {
              "color": "#EBF0F8"
             },
             "line": {
              "color": "white"
             }
            },
            "header": {
             "fill": {
              "color": "#C8D4E3"
             },
             "line": {
              "color": "white"
             }
            },
            "type": "table"
           }
          ]
         },
         "layout": {
          "annotationdefaults": {
           "arrowcolor": "#2a3f5f",
           "arrowhead": 0,
           "arrowwidth": 1
          },
          "autotypenumbers": "strict",
          "coloraxis": {
           "colorbar": {
            "outlinewidth": 0,
            "ticks": ""
           }
          },
          "colorscale": {
           "diverging": [
            [
             0,
             "#8e0152"
            ],
            [
             0.1,
             "#c51b7d"
            ],
            [
             0.2,
             "#de77ae"
            ],
            [
             0.3,
             "#f1b6da"
            ],
            [
             0.4,
             "#fde0ef"
            ],
            [
             0.5,
             "#f7f7f7"
            ],
            [
             0.6,
             "#e6f5d0"
            ],
            [
             0.7,
             "#b8e186"
            ],
            [
             0.8,
             "#7fbc41"
            ],
            [
             0.9,
             "#4d9221"
            ],
            [
             1,
             "#276419"
            ]
           ],
           "sequential": [
            [
             0.0,
             "#0d0887"
            ],
            [
             0.1111111111111111,
             "#46039f"
            ],
            [
             0.2222222222222222,
             "#7201a8"
            ],
            [
             0.3333333333333333,
             "#9c179e"
            ],
            [
             0.4444444444444444,
             "#bd3786"
            ],
            [
             0.5555555555555556,
             "#d8576b"
            ],
            [
             0.6666666666666666,
             "#ed7953"
            ],
            [
             0.7777777777777778,
             "#fb9f3a"
            ],
            [
             0.8888888888888888,
             "#fdca26"
            ],
            [
             1.0,
             "#f0f921"
            ]
           ],
           "sequentialminus": [
            [
             0.0,
             "#0d0887"
            ],
            [
             0.1111111111111111,
             "#46039f"
            ],
            [
             0.2222222222222222,
             "#7201a8"
            ],
            [
             0.3333333333333333,
             "#9c179e"
            ],
            [
             0.4444444444444444,
             "#bd3786"
            ],
            [
             0.5555555555555556,
             "#d8576b"
            ],
            [
             0.6666666666666666,
             "#ed7953"
            ],
            [
             0.7777777777777778,
             "#fb9f3a"
            ],
            [
             0.8888888888888888,
             "#fdca26"
            ],
            [
             1.0,
             "#f0f921"
            ]
           ]
          },
          "colorway": [
           "#636efa",
           "#EF553B",
           "#00cc96",
           "#ab63fa",
           "#FFA15A",
           "#19d3f3",
           "#FF6692",
           "#B6E880",
           "#FF97FF",
           "#FECB52"
          ],
          "font": {
           "color": "#2a3f5f"
          },
          "geo": {
           "bgcolor": "white",
           "lakecolor": "white",
           "landcolor": "#E5ECF6",
           "showlakes": true,
           "showland": true,
           "subunitcolor": "white"
          },
          "hoverlabel": {
           "align": "left"
          },
          "hovermode": "closest",
          "mapbox": {
           "style": "light"
          },
          "paper_bgcolor": "white",
          "plot_bgcolor": "#E5ECF6",
          "polar": {
           "angularaxis": {
            "gridcolor": "white",
            "linecolor": "white",
            "ticks": ""
           },
           "bgcolor": "#E5ECF6",
           "radialaxis": {
            "gridcolor": "white",
            "linecolor": "white",
            "ticks": ""
           }
          },
          "scene": {
           "xaxis": {
            "backgroundcolor": "#E5ECF6",
            "gridcolor": "white",
            "gridwidth": 2,
            "linecolor": "white",
            "showbackground": true,
            "ticks": "",
            "zerolinecolor": "white"
           },
           "yaxis": {
            "backgroundcolor": "#E5ECF6",
            "gridcolor": "white",
            "gridwidth": 2,
            "linecolor": "white",
            "showbackground": true,
            "ticks": "",
            "zerolinecolor": "white"
           },
           "zaxis": {
            "backgroundcolor": "#E5ECF6",
            "gridcolor": "white",
            "gridwidth": 2,
            "linecolor": "white",
            "showbackground": true,
            "ticks": "",
            "zerolinecolor": "white"
           }
          },
          "shapedefaults": {
           "line": {
            "color": "#2a3f5f"
           }
          },
          "ternary": {
           "aaxis": {
            "gridcolor": "white",
            "linecolor": "white",
            "ticks": ""
           },
           "baxis": {
            "gridcolor": "white",
            "linecolor": "white",
            "ticks": ""
           },
           "bgcolor": "#E5ECF6",
           "caxis": {
            "gridcolor": "white",
            "linecolor": "white",
            "ticks": ""
           }
          },
          "title": {
           "x": 0.05
          },
          "xaxis": {
           "automargin": true,
           "gridcolor": "white",
           "linecolor": "white",
           "ticks": "",
           "title": {
            "standoff": 15
           },
           "zerolinecolor": "white",
           "zerolinewidth": 2
          },
          "yaxis": {
           "automargin": true,
           "gridcolor": "white",
           "linecolor": "white",
           "ticks": "",
           "title": {
            "standoff": 15
           },
           "zerolinecolor": "white",
           "zerolinewidth": 2
          }
         }
        },
        "width": 800
       },
       "config": {
        "showLink": false,
        "linkText": "Export to plot.ly",
        "plotlyServerURL": "https://plot.ly"
       }
      },
      "text/html": "<div>                            <div id=\"e9424902-cd63-443b-812a-c72f2889171b\" class=\"plotly-graph-div\" style=\"height:600px; width:800px;\"></div>            <script type=\"text/javascript\">                require([\"plotly\"], function(Plotly) {                    window.PLOTLYENV=window.PLOTLYENV || {};                                    if (document.getElementById(\"e9424902-cd63-443b-812a-c72f2889171b\")) {                    Plotly.newPlot(                        \"e9424902-cd63-443b-812a-c72f2889171b\",                        [{\"mode\":\"text\",\"opacity\":0.8,\"text\":[\"de\",\"a\",\"do\",\"e\",\"da\",\"o\",\"em\",\"que\",\"no\",\"na\",\"para\",\"com\",\"foi\",\"dos\",\"ao\",\"Em\",\"\\u00e0\",\"por\",\"os\",\"uma\",\"um\",\"pelo\",\"como\",\"das\",\"governo\",\"ano\",\"as\",\"presidente\",\"sua\",\"se\",\"pela\",\"seu\",\"Partido\",\"Rio\",\"n\\u00e3o\",\"outubro\",\"No\",\"C\\u00e2mara\",\"dia\",\"A\",\"Paulo\",\"deputado\",\"seguinte\",\"novembro\",\"Nacional\",\"S\\u00e3o\",\"Comiss\\u00e3o\",\"mandato\",\"entre\",\"O\",\"federal\",\"mais\",\"at\\u00e9\",\"Brasil\",\"janeiro\",\"Janeiro\",\"estado\",\"tamb\\u00e9m\",\"pol\\u00edtica\",\"fevereiro\",\"cargo\",\"legenda\",\"mesmo\",\"mar\\u00e7o\",\"sobre\",\"partido\",\"ent\\u00e3o\",\"Federal\",\"Rep\\u00fablica\",\"ainda\",\"abril\",\"elei\\u00e7\\u00f5es\",\"presid\\u00eancia\",\"pa\\u00eds\",\"Jos\\u00e9\",\"contra\",\"quando\",\"Jo\\u00e3o\",\"anos\",\"Social\",\"dezembro\",\"ser\",\"teve\",\"Estado\",\"ministro\",\"aos\",\"Vargas\",\"maio\",\"pleito\",\"Brasileiro\",\"nas\",\"eleito\",\"Foi\",\"qual\",\"era\",\"assumiu\",\"membro\",\"Com\",\"setembro\",\"nacional\",\"depois\",\"mas\",\"agosto\",\"nos\",\"seus\",\"candidato\",\"passou\",\"Democr\\u00e1tico\",\"tornou-se\",\"\\u00e0s\",\"movimento\",\"julho\",\"PMDB\",\"sendo\",\"Ainda\",\"Deputados\",\"Congresso\",\"estadual\",\"onde\",\"Senado\",\"filho\",\"durante\",\"apoio\",\"votos\",\"junho\",\"general\",\"Na\",\"nasceu\",\"Minas\",\"novo\",\"dois\",\"governador\",\"segundo\",\"j\\u00e1\",\"militar\",\"desse\",\"Assembl\\u00e9ia\",\"ap\\u00f3s\",\"foram\",\"m\\u00eas\",\"Carlos\",\"Minist\\u00e9rio\",\"tendo\",\"Justi\\u00e7a\",\"primeiro\",\"projeto\",\"suas\",\"campanha\",\"per\\u00edodo\",\"Grande\",\"Sul\",\"candidatura\",\"in\\u00edcio\",\"comiss\\u00e3o\",\"vez\",\"fim\",\"regime\",\"ou\",\"Escola\",\"participou\",\"Universidade\",\"nova\",\"oposi\\u00e7\\u00e3o\",\"1964\",\"sido\",\"partir\",\"Lu\\u00eds\",\"nomeado\",\"Constitui\\u00e7\\u00e3o\",\"posse\",\"pol\\u00edticos\",\"Militar\",\"cria\\u00e7\\u00e3o\",\"quem\",\"legislatura\",\"Fernando\",\"favor\",\"capital\",\"processo\",\"reforma\",\"Silva\",\"titular\",\"n\\u00ba\",\"curso\",\"tr\\u00eas\",\"cidade\",\"Ex\\u00e9rcito\",\"Ant\\u00f4nio\",\"Durante\",\"PSD\",\"Faculdade\",\"chefe\",\"suplente\",\"Distrito\",\"PTB\",\"jornal\",\"direito\",\"Conselho\",\"deixou\",\"elegeu-se\",\"vice-presidente\"],\"x\":[-0.9388281106948853,-1.6382620334625244,-3.6576712131500244,-0.4992700517177582,-2.380222797393799,-4.281491279602051,1.4293283224105835,0.6980834603309631,-4.350240230560303,-2.686955451965332,-0.5945330262184143,-1.519628643989563,-10.484705924987793,8.575089454650879,-4.886443614959717,2.7704062461853027,-4.200926303863525,-6.466333866119385,7.946146011352539,-1.6505945920944214,-4.587985992431641,-6.251397609710693,-11.296868324279785,-6.118083477020264,6.196450233459473,7.56718635559082,-6.361149311065674,0.29506853222846985,-1.0301437377929688,-8.732864379882812,-3.531989097595215,-3.749105930328369,-11.583327293395996,-1.9636858701705933,1.084067463874817,4.810806751251221,-4.839883804321289,4.825193405151367,7.246840000152588,-1.9201804399490356,-3.6085124015808105,5.9466753005981445,-5.680171012878418,4.256604194641113,-5.578423976898193,-2.955911636352539,3.339595079421997,9.744671821594238,-0.3768833577632904,-4.817476272583008,1.837084412574768,1.1041994094848633,2.5263607501983643,8.268503189086914,5.903718948364258,-3.365374803543091,8.463934898376465,-0.4719345271587372,1.742734432220459,6.170801162719727,9.76058292388916,2.593431234359741,-5.6336989402771,5.357739448547363,-2.5838541984558105,5.503264904022217,-1.0638394355773926,0.6331999897956848,-4.081012725830078,-0.2797571122646332,5.4517998695373535,12.157496452331543,0.07994285970926285,8.157537460327148,-3.7916595935821533,-2.216449022293091,1.3299891948699951,-4.57464075088501,2.476456642150879,-5.4864091873168945,4.938490390777588,-10.974804878234863,-8.191272735595703,9.391851425170898,8.993837356567383,8.734892845153809,-6.711580753326416,4.59858512878418,12.13145637512207,-5.529040336608887,-5.965207099914551,-9.191069602966309,-10.665385246276855,0.966606855392456,-9.623601913452148,-7.552295684814453,0.08426185697317123,-1.4638211727142334,4.491586685180664,-1.873803973197937,-0.10426633805036545,0.37807369232177734,5.277987003326416,8.975841522216797,7.571262359619141,6.735087871551514,-7.065324306488037,3.4644217491149902,-9.827247619628906,-5.665004730224609,6.020706653594971,5.034205436706543,5.258695125579834,-10.748905181884766,2.8415920734405518,3.3876566886901855,6.388216972351074,1.8255462646484375,1.0213226079940796,6.1787214279174805,-8.886666297912598,0.5539000034332275,4.553494930267334,4.345030784606934,4.617827892303467,-0.4387162923812866,-2.4755702018737793,-2.0411503314971924,0.1866084188222885,-1.8733407258987427,2.308663845062256,6.093300819396973,-2.6141865253448486,0.38835597038269043,-1.2460674047470093,-5.551693439483643,4.821107864379883,-0.1598750650882721,-8.059385299682617,7.506811141967773,-2.5093257427215576,8.971755027770996,-8.439135551452637,-3.6342201232910156,-2.621062755584717,5.188832759857178,-6.611318111419678,6.284336566925049,6.071563720703125,-3.352307081222534,0.3709772527217865,6.617151737213135,2.8512063026428223,2.7589497566223145,0.7882829904556274,2.632612466812134,6.455399036407471,-0.009458212181925774,5.371397972106934,-8.537596702575684,5.416593551635742,-1.4360511302947998,4.583040714263916,-0.7985923886299133,-11.470120429992676,1.902501106262207,-3.3048300743103027,-9.064685821533203,3.4853219985961914,1.0389593839645386,3.657959461212158,-0.0011998298577964306,2.7072489261627197,-1.1756913661956787,2.7636735439300537,-2.402061939239502,-2.206299304962158,2.3344838619232178,5.76106595993042,3.3196780681610107,-3.3383049964904785,1.4243861436843872,4.631651401519775,5.200361728668213,2.2285993099212646,2.167314291000366,-0.2992115318775177,-2.9253711700439453,0.6490933299064636,4.816654682159424,5.395519733428955,-0.44431212544441223,1.1914132833480835,7.57905912399292,4.736921787261963,4.869649410247803,4.1063127517700195,7.30891227722168,-7.321595191955566,-9.543251037597656,0.4442548453807831],\"y\":[0.45612308382987976,2.255239486694336,1.514074444770813,0.2105221152305603,2.2115073204040527,1.490261197090149,4.343844413757324,1.847637414932251,2.726806879043579,4.0361504554748535,1.6942051649093628,5.842266082763672,-1.631290316581726,2.9257919788360596,5.242559432983398,6.959277629852295,5.532261371612549,2.4660861492156982,2.7960219383239746,2.6129024028778076,0.7850370407104492,2.444608688354492,-3.778663158416748,8.632448196411133,-10.118231773376465,6.601555824279785,8.769014358520508,-10.18911075592041,2.9029297828674316,3.1852657794952393,3.846412420272827,0.7400281429290771,3.173860549926758,-6.3767523765563965,0.004618980921804905,13.034424781799316,3.5468504428863525,-7.913296222686768,7.803289890289307,3.2696311473846436,-5.311695098876953,-11.010894775390625,-1.003868818283081,12.639315605163574,-8.127418518066406,-7.732326030731201,-11.632083892822266,-4.949147701263428,7.763996601104736,1.612699270248413,-6.055457592010498,0.9008937478065491,5.078145503997803,-0.7561007738113403,12.39311408996582,-10.270452499389648,-1.9758148193359375,-0.730741024017334,-1.4680187702178955,11.784029006958008,-4.281100749969482,-4.022994518280029,-1.1223623752593994,12.098172187805176,7.274731636047363,-4.700795650482178,-0.8994447588920593,-4.938631057739258,-2.55654239654541,-0.6869896054267883,11.572763442993164,0.10822455585002899,-10.776779174804688,-0.8819499611854553,-4.128664016723633,9.086407661437988,3.4164657592773438,-4.094879627227783,10.585755348205566,-6.994410514831543,12.098648071289062,-0.48060205578804016,-2.136537551879883,-1.7849531173706055,-9.387980461120605,3.8933839797973633,4.425793647766113,11.80284309387207,0.11019191890954971,-7.831305027008057,8.43406867980957,-5.917855739593506,-1.8108912706375122,2.265772819519043,-1.6196107864379883,-4.231769561767578,-8.9927339553833,5.924147129058838,11.405815124511719,0.560364305973053,4.929851531982422,1.3161344528198242,11.065997123718262,2.846140146255493,2.579747438430786,-3.801776885986328,-4.1966633796691895,-4.439092636108398,-3.4516446590423584,7.609616756439209,-1.245855450630188,11.078883171081543,-5.05971097946167,-0.7758582830429077,7.290314674377441,-6.532832145690918,-6.990629196166992,-5.97470760345459,2.868279218673706,-6.241917133331299,6.303874969482422,6.496702194213867,-2.907036781311035,-5.794785976409912,11.10966682434082,-6.419316291809082,4.308348178863525,-4.7699737548828125,-2.12892746925354,-0.8038827776908875,0.557529866695404,-10.241005897521973,-0.5005605816841125,-0.17184734344482422,-2.1326100826263428,-0.2103201448917389,-7.865352153778076,5.14427375793457,-0.905430793762207,6.73744535446167,-3.2590410709381104,-9.323281288146973,1.0301371812820435,-1.3826543092727661,-0.5389760136604309,0.431002676486969,9.006185531616211,-2.837433338165283,1.385231614112854,-10.304743766784668,-3.4887266159057617,-3.3521955013275146,2.794616222381592,-11.803040504455566,-1.17159903049469,1.9008909463882446,-0.07665527611970901,0.7850316166877747,4.182003021240234,-3.079592227935791,4.669587135314941,1.1208066940307617,-2.77463436126709,-1.9031169414520264,-1.2073616981506348,4.790650844573975,-4.450724124908447,-6.0755414962768555,-9.512365341186523,-3.2021384239196777,0.5093189477920532,-5.172869682312012,-0.8208730220794678,-3.5702500343322754,-8.179299354553223,-1.9702116250991821,9.14014720916748,-2.735517740249634,0.5991585850715637,-0.8570407629013062,-2.932124614715576,-8.986001014709473,9.017524719238281,2.9758806228637695,0.5461168885231018,-2.9844696521759033,-5.915985584259033,-3.966383457183838,6.6124587059021,-4.8381829261779785,4.511687755584717,-8.041621208190918,-9.162254333496094,-5.97634220123291,-4.909433841705322,-1.3345420360565186,2.125370740890503,-8.066200256347656,-4.235518932342529,-5.401586532592773,-9.657474517822266],\"type\":\"scatter\"}],                        {\"autosize\":false,\"height\":600,\"template\":{\"data\":{\"barpolar\":[{\"marker\":{\"line\":{\"color\":\"#E5ECF6\",\"width\":0.5},\"pattern\":{\"fillmode\":\"overlay\",\"size\":10,\"solidity\":0.2}},\"type\":\"barpolar\"}],\"bar\":[{\"error_x\":{\"color\":\"#2a3f5f\"},\"error_y\":{\"color\":\"#2a3f5f\"},\"marker\":{\"line\":{\"color\":\"#E5ECF6\",\"width\":0.5},\"pattern\":{\"fillmode\":\"overlay\",\"size\":10,\"solidity\":0.2}},\"type\":\"bar\"}],\"carpet\":[{\"aaxis\":{\"endlinecolor\":\"#2a3f5f\",\"gridcolor\":\"white\",\"linecolor\":\"white\",\"minorgridcolor\":\"white\",\"startlinecolor\":\"#2a3f5f\"},\"baxis\":{\"endlinecolor\":\"#2a3f5f\",\"gridcolor\":\"white\",\"linecolor\":\"white\",\"minorgridcolor\":\"white\",\"startlinecolor\":\"#2a3f5f\"},\"type\":\"carpet\"}],\"choropleth\":[{\"colorbar\":{\"outlinewidth\":0,\"ticks\":\"\"},\"type\":\"choropleth\"}],\"contourcarpet\":[{\"colorbar\":{\"outlinewidth\":0,\"ticks\":\"\"},\"type\":\"contourcarpet\"}],\"contour\":[{\"colorbar\":{\"outlinewidth\":0,\"ticks\":\"\"},\"colorscale\":[[0.0,\"#0d0887\"],[0.1111111111111111,\"#46039f\"],[0.2222222222222222,\"#7201a8\"],[0.3333333333333333,\"#9c179e\"],[0.4444444444444444,\"#bd3786\"],[0.5555555555555556,\"#d8576b\"],[0.6666666666666666,\"#ed7953\"],[0.7777777777777778,\"#fb9f3a\"],[0.8888888888888888,\"#fdca26\"],[1.0,\"#f0f921\"]],\"type\":\"contour\"}],\"heatmapgl\":[{\"colorbar\":{\"outlinewidth\":0,\"ticks\":\"\"},\"colorscale\":[[0.0,\"#0d0887\"],[0.1111111111111111,\"#46039f\"],[0.2222222222222222,\"#7201a8\"],[0.3333333333333333,\"#9c179e\"],[0.4444444444444444,\"#bd3786\"],[0.5555555555555556,\"#d8576b\"],[0.6666666666666666,\"#ed7953\"],[0.7777777777777778,\"#fb9f3a\"],[0.8888888888888888,\"#fdca26\"],[1.0,\"#f0f921\"]],\"type\":\"heatmapgl\"}],\"heatmap\":[{\"colorbar\":{\"outlinewidth\":0,\"ticks\":\"\"},\"colorscale\":[[0.0,\"#0d0887\"],[0.1111111111111111,\"#46039f\"],[0.2222222222222222,\"#7201a8\"],[0.3333333333333333,\"#9c179e\"],[0.4444444444444444,\"#bd3786\"],[0.5555555555555556,\"#d8576b\"],[0.6666666666666666,\"#ed7953\"],[0.7777777777777778,\"#fb9f3a\"],[0.8888888888888888,\"#fdca26\"],[1.0,\"#f0f921\"]],\"type\":\"heatmap\"}],\"histogram2dcontour\":[{\"colorbar\":{\"outlinewidth\":0,\"ticks\":\"\"},\"colorscale\":[[0.0,\"#0d0887\"],[0.1111111111111111,\"#46039f\"],[0.2222222222222222,\"#7201a8\"],[0.3333333333333333,\"#9c179e\"],[0.4444444444444444,\"#bd3786\"],[0.5555555555555556,\"#d8576b\"],[0.6666666666666666,\"#ed7953\"],[0.7777777777777778,\"#fb9f3a\"],[0.8888888888888888,\"#fdca26\"],[1.0,\"#f0f921\"]],\"type\":\"histogram2dcontour\"}],\"histogram2d\":[{\"colorbar\":{\"outlinewidth\":0,\"ticks\":\"\"},\"colorscale\":[[0.0,\"#0d0887\"],[0.1111111111111111,\"#46039f\"],[0.2222222222222222,\"#7201a8\"],[0.3333333333333333,\"#9c179e\"],[0.4444444444444444,\"#bd3786\"],[0.5555555555555556,\"#d8576b\"],[0.6666666666666666,\"#ed7953\"],[0.7777777777777778,\"#fb9f3a\"],[0.8888888888888888,\"#fdca26\"],[1.0,\"#f0f921\"]],\"type\":\"histogram2d\"}],\"histogram\":[{\"marker\":{\"pattern\":{\"fillmode\":\"overlay\",\"size\":10,\"solidity\":0.2}},\"type\":\"histogram\"}],\"mesh3d\":[{\"colorbar\":{\"outlinewidth\":0,\"ticks\":\"\"},\"type\":\"mesh3d\"}],\"parcoords\":[{\"line\":{\"colorbar\":{\"outlinewidth\":0,\"ticks\":\"\"}},\"type\":\"parcoords\"}],\"pie\":[{\"automargin\":true,\"type\":\"pie\"}],\"scatter3d\":[{\"line\":{\"colorbar\":{\"outlinewidth\":0,\"ticks\":\"\"}},\"marker\":{\"colorbar\":{\"outlinewidth\":0,\"ticks\":\"\"}},\"type\":\"scatter3d\"}],\"scattercarpet\":[{\"marker\":{\"colorbar\":{\"outlinewidth\":0,\"ticks\":\"\"}},\"type\":\"scattercarpet\"}],\"scattergeo\":[{\"marker\":{\"colorbar\":{\"outlinewidth\":0,\"ticks\":\"\"}},\"type\":\"scattergeo\"}],\"scattergl\":[{\"marker\":{\"colorbar\":{\"outlinewidth\":0,\"ticks\":\"\"}},\"type\":\"scattergl\"}],\"scattermapbox\":[{\"marker\":{\"colorbar\":{\"outlinewidth\":0,\"ticks\":\"\"}},\"type\":\"scattermapbox\"}],\"scatterpolargl\":[{\"marker\":{\"colorbar\":{\"outlinewidth\":0,\"ticks\":\"\"}},\"type\":\"scatterpolargl\"}],\"scatterpolar\":[{\"marker\":{\"colorbar\":{\"outlinewidth\":0,\"ticks\":\"\"}},\"type\":\"scatterpolar\"}],\"scatter\":[{\"fillpattern\":{\"fillmode\":\"overlay\",\"size\":10,\"solidity\":0.2},\"type\":\"scatter\"}],\"scatterternary\":[{\"marker\":{\"colorbar\":{\"outlinewidth\":0,\"ticks\":\"\"}},\"type\":\"scatterternary\"}],\"surface\":[{\"colorbar\":{\"outlinewidth\":0,\"ticks\":\"\"},\"colorscale\":[[0.0,\"#0d0887\"],[0.1111111111111111,\"#46039f\"],[0.2222222222222222,\"#7201a8\"],[0.3333333333333333,\"#9c179e\"],[0.4444444444444444,\"#bd3786\"],[0.5555555555555556,\"#d8576b\"],[0.6666666666666666,\"#ed7953\"],[0.7777777777777778,\"#fb9f3a\"],[0.8888888888888888,\"#fdca26\"],[1.0,\"#f0f921\"]],\"type\":\"surface\"}],\"table\":[{\"cells\":{\"fill\":{\"color\":\"#EBF0F8\"},\"line\":{\"color\":\"white\"}},\"header\":{\"fill\":{\"color\":\"#C8D4E3\"},\"line\":{\"color\":\"white\"}},\"type\":\"table\"}]},\"layout\":{\"annotationdefaults\":{\"arrowcolor\":\"#2a3f5f\",\"arrowhead\":0,\"arrowwidth\":1},\"autotypenumbers\":\"strict\",\"coloraxis\":{\"colorbar\":{\"outlinewidth\":0,\"ticks\":\"\"}},\"colorscale\":{\"diverging\":[[0,\"#8e0152\"],[0.1,\"#c51b7d\"],[0.2,\"#de77ae\"],[0.3,\"#f1b6da\"],[0.4,\"#fde0ef\"],[0.5,\"#f7f7f7\"],[0.6,\"#e6f5d0\"],[0.7,\"#b8e186\"],[0.8,\"#7fbc41\"],[0.9,\"#4d9221\"],[1,\"#276419\"]],\"sequential\":[[0.0,\"#0d0887\"],[0.1111111111111111,\"#46039f\"],[0.2222222222222222,\"#7201a8\"],[0.3333333333333333,\"#9c179e\"],[0.4444444444444444,\"#bd3786\"],[0.5555555555555556,\"#d8576b\"],[0.6666666666666666,\"#ed7953\"],[0.7777777777777778,\"#fb9f3a\"],[0.8888888888888888,\"#fdca26\"],[1.0,\"#f0f921\"]],\"sequentialminus\":[[0.0,\"#0d0887\"],[0.1111111111111111,\"#46039f\"],[0.2222222222222222,\"#7201a8\"],[0.3333333333333333,\"#9c179e\"],[0.4444444444444444,\"#bd3786\"],[0.5555555555555556,\"#d8576b\"],[0.6666666666666666,\"#ed7953\"],[0.7777777777777778,\"#fb9f3a\"],[0.8888888888888888,\"#fdca26\"],[1.0,\"#f0f921\"]]},\"colorway\":[\"#636efa\",\"#EF553B\",\"#00cc96\",\"#ab63fa\",\"#FFA15A\",\"#19d3f3\",\"#FF6692\",\"#B6E880\",\"#FF97FF\",\"#FECB52\"],\"font\":{\"color\":\"#2a3f5f\"},\"geo\":{\"bgcolor\":\"white\",\"lakecolor\":\"white\",\"landcolor\":\"#E5ECF6\",\"showlakes\":true,\"showland\":true,\"subunitcolor\":\"white\"},\"hoverlabel\":{\"align\":\"left\"},\"hovermode\":\"closest\",\"mapbox\":{\"style\":\"light\"},\"paper_bgcolor\":\"white\",\"plot_bgcolor\":\"#E5ECF6\",\"polar\":{\"angularaxis\":{\"gridcolor\":\"white\",\"linecolor\":\"white\",\"ticks\":\"\"},\"bgcolor\":\"#E5ECF6\",\"radialaxis\":{\"gridcolor\":\"white\",\"linecolor\":\"white\",\"ticks\":\"\"}},\"scene\":{\"xaxis\":{\"backgroundcolor\":\"#E5ECF6\",\"gridcolor\":\"white\",\"gridwidth\":2,\"linecolor\":\"white\",\"showbackground\":true,\"ticks\":\"\",\"zerolinecolor\":\"white\"},\"yaxis\":{\"backgroundcolor\":\"#E5ECF6\",\"gridcolor\":\"white\",\"gridwidth\":2,\"linecolor\":\"white\",\"showbackground\":true,\"ticks\":\"\",\"zerolinecolor\":\"white\"},\"zaxis\":{\"backgroundcolor\":\"#E5ECF6\",\"gridcolor\":\"white\",\"gridwidth\":2,\"linecolor\":\"white\",\"showbackground\":true,\"ticks\":\"\",\"zerolinecolor\":\"white\"}},\"shapedefaults\":{\"line\":{\"color\":\"#2a3f5f\"}},\"ternary\":{\"aaxis\":{\"gridcolor\":\"white\",\"linecolor\":\"white\",\"ticks\":\"\"},\"baxis\":{\"gridcolor\":\"white\",\"linecolor\":\"white\",\"ticks\":\"\"},\"bgcolor\":\"#E5ECF6\",\"caxis\":{\"gridcolor\":\"white\",\"linecolor\":\"white\",\"ticks\":\"\"}},\"title\":{\"x\":0.05},\"xaxis\":{\"automargin\":true,\"gridcolor\":\"white\",\"linecolor\":\"white\",\"ticks\":\"\",\"title\":{\"standoff\":15},\"zerolinecolor\":\"white\",\"zerolinewidth\":2},\"yaxis\":{\"automargin\":true,\"gridcolor\":\"white\",\"linecolor\":\"white\",\"ticks\":\"\",\"title\":{\"standoff\":15},\"zerolinecolor\":\"white\",\"zerolinewidth\":2}}},\"width\":800},                        {\"responsive\": true}                    ).then(function(){\n                            \nvar gd = document.getElementById('e9424902-cd63-443b-812a-c72f2889171b');\nvar x = new MutationObserver(function (mutations, observer) {{\n        var display = window.getComputedStyle(gd).display;\n        if (!display || display === 'none') {{\n            console.log([gd, 'removed!']);\n            Plotly.purge(gd);\n            observer.disconnect();\n        }}\n}});\n\n// Listen for the removal of the full notebook cells\nvar notebookContainer = gd.closest('#notebook-container');\nif (notebookContainer) {{\n    x.observe(notebookContainer, {childList: true});\n}}\n\n// Listen for the clearing of the current output cell\nvar outputEl = gd.closest('.output');\nif (outputEl) {{\n    x.observe(outputEl, {childList: true});\n}}\n\n                        })                };                });            </script>        </div>"
     },
     "metadata": {},
     "output_type": "display_data"
    }
   ],
   "source": [
    "plot_with_plotly(x_vals, y_vals, labels)"
   ]
  },
  {
   "cell_type": "markdown",
   "metadata": {},
   "source": [
    "Outros exemplos de combinação de conceitos."
   ]
  },
  {
   "cell_type": "code",
   "execution_count": 22,
   "metadata": {
    "ExecuteTime": {
     "end_time": "2023-10-11T12:36:04.475999720Z",
     "start_time": "2023-10-11T12:36:04.402148160Z"
    }
   },
   "outputs": [
    {
     "data": {
      "text/plain": "[('deputada', 0.707239031791687),\n ('senadora', 0.6504750847816467),\n ('governadora', 0.5311956405639648),\n ('vaga', 0.5001533031463623),\n ('senador', 0.49622222781181335),\n ('bancada', 0.49382296204566956),\n ('prefeita', 0.4898069202899933),\n ('esposa', 0.4874173700809479),\n ('vereadora', 0.477497398853302),\n ('ex-deputado', 0.4704161286354065)]"
     },
     "execution_count": 22,
     "metadata": {},
     "output_type": "execute_result"
    }
   ],
   "source": [
    "model.wv.most_similar(positive=['deputado', 'mulher'], negative=['homem'])"
   ]
  },
  {
   "cell_type": "code",
   "execution_count": 23,
   "metadata": {
    "ExecuteTime": {
     "end_time": "2023-10-11T12:36:05.067892059Z",
     "start_time": "2023-10-11T12:36:04.979397341Z"
    }
   },
   "outputs": [
    {
     "data": {
      "text/plain": "[('Aracaju', 0.7568933963775635),\n ('Fortaleza', 0.7413235306739807),\n ('Maceió', 0.7330026030540466),\n ('Manaus', 0.729759693145752),\n ('Curitiba', 0.722693920135498),\n ('Teresina', 0.7146587371826172),\n ('Cuiabá', 0.7008069753646851),\n ('Dourados', 0.6986944675445557),\n ('Belém', 0.6970897912979126),\n ('Goiânia', 0.6968613862991333)]"
     },
     "execution_count": 23,
     "metadata": {},
     "output_type": "execute_result"
    }
   ],
   "source": [
    "model.wv.most_similar(positive=['Sergipe', 'Salvador'], negative=['Bahia'])"
   ]
  },
  {
   "cell_type": "code",
   "execution_count": 24,
   "metadata": {
    "ExecuteTime": {
     "end_time": "2023-10-11T12:36:05.955791177Z",
     "start_time": "2023-10-11T12:36:05.855529187Z"
    }
   },
   "outputs": [
    {
     "data": {
      "text/plain": "[('independente”', 0.5179454684257507),\n ('Iniciando-se', 0.47886374592781067),\n ('turística', 0.477364718914032),\n ('duradouras', 0.4718947410583496),\n ('“política', 0.4573584198951721),\n ('induzida', 0.45302215218544006),\n ('marxista”', 0.4503825306892395),\n ('conflituosas', 0.45008936524391174),\n ('pragmática', 0.4451919496059418),\n ('stalinista', 0.4449922740459442)]"
     },
     "execution_count": 24,
     "metadata": {},
     "output_type": "execute_result"
    }
   ],
   "source": [
    "model.wv.most_similar(positive=['congressista', 'política'], negative=['homem'])"
   ]
  },
  {
   "cell_type": "code",
   "execution_count": 25,
   "metadata": {
    "ExecuteTime": {
     "end_time": "2023-10-11T12:36:07.808515889Z",
     "start_time": "2023-10-11T12:36:07.758370467Z"
    }
   },
   "outputs": [
    {
     "data": {
      "text/plain": "array([-1.1804812 ,  0.17904007,  2.7701726 ,  2.2788234 , -2.3939579 ,\n       -1.6261489 ,  3.037264  , -1.5370936 ,  0.1686287 ,  1.7679174 ,\n       -0.6206008 , -1.4379971 ,  0.9625195 ,  5.3786445 , -1.5540149 ,\n       -0.00777411, -1.401691  , -4.2874527 , -0.82898766,  1.8527349 ,\n        1.1073897 ,  0.4124229 , -1.7202759 , -1.9285159 ,  0.22249055,\n       -0.1637733 ,  0.3505941 , -1.6477919 ,  3.5996528 , -1.884695  ,\n        0.70941716,  2.4855223 ,  0.19784053,  1.0554858 , -2.0812526 ,\n        0.25975254,  1.0439771 ,  0.40970242,  0.78404856, -2.2612848 ,\n        1.7169695 ,  0.73526394,  1.4105549 ,  4.066178  , -0.40555423,\n        1.8521545 ,  3.7054353 ,  1.3822607 , -4.056506  ,  1.9932911 ,\n        0.89136565, -2.6281335 ,  3.6849546 ,  3.6759586 , -0.3893448 ,\n       -0.93963474,  3.059989  ,  0.07065499, -0.69516784, -1.2888556 ,\n        0.92977023, -1.6649121 ,  2.6862006 , -2.4784298 ,  1.8600826 ,\n        0.779212  ,  2.1920981 , -1.9809456 , -2.688896  ,  0.60114765,\n       -2.3174565 ,  0.08518887,  0.43477178,  1.2217847 ,  0.9667772 ,\n        1.8949485 ,  1.2996533 ,  2.6153111 , -0.04217112,  0.72740364,\n       -0.7117096 , -0.73151827,  0.16029513,  0.06895769, -0.17937306,\n        0.48638743, -0.52041715, -2.0970736 , -1.1521842 , -3.9579785 ,\n        0.51819354,  0.12455559,  2.2292786 ,  0.33785737, -0.4980077 ,\n       -2.9939485 , -2.5539153 , -1.4805562 ,  3.1075735 ,  0.99266756],\n      dtype=float32)"
     },
     "execution_count": 25,
     "metadata": {},
     "output_type": "execute_result"
    }
   ],
   "source": [
    "model.wv['congressista'] + model.wv['política']-model.wv['homem']"
   ]
  },
  {
   "cell_type": "markdown",
   "metadata": {},
   "source": [
    "## Word Movers Distance\n",
    "Este método permite que calculemos a distância entre dois documentos mesmo que estes não contenham palavras em comum. Este método foi proposto no artigo [\"From Word Embeddings To Document Distances\"](http://jmlr.org/proceedings/papers/v37/kusnerb15.pdf)."
   ]
  },
  {
   "cell_type": "code",
   "execution_count": 30,
   "metadata": {
    "ExecuteTime": {
     "end_time": "2023-10-11T13:31:18.626869235Z",
     "start_time": "2023-10-11T13:31:17.794838958Z"
    }
   },
   "outputs": [
    {
     "data": {
      "text/plain": "1.0211877866713601"
     },
     "execution_count": 30,
     "metadata": {},
     "output_type": "execute_result"
    }
   ],
   "source": [
    "DC = list(DHBBCorpus(5))\n",
    "model.wv.wmdistance(document1=DC[1],document2=DC[2])"
   ]
  },
  {
   "cell_type": "code",
   "execution_count": 31,
   "metadata": {
    "ExecuteTime": {
     "end_time": "2023-10-11T13:31:20.496593427Z",
     "start_time": "2023-10-11T13:31:20.464267808Z"
    }
   },
   "outputs": [
    {
     "name": "stdout",
     "output_type": "stream",
     "text": [
      "['Bacharel', 'em', 'ciências', 'jurídicas', 'e', 'sociais', 'pela', 'Faculdade', 'de', 'Direito', 'da', 'Universidade', 'do', 'Espírito', 'Santo', 'formou-se', 'também', 'na', 'Escola', 'de', 'Educação', 'Física', 'do', 'Rio', 'de', 'Janeiro', 'então', 'Distrito', 'Federal', 'em', '1941']\n",
      "['Nesse', 'mesmo', 'ano', 'ingressou', 'na', 'Força', 'Policial', 'do', 'Espírito', 'Santo', 'onde', 'faria', 'carreira']\n"
     ]
    }
   ],
   "source": [
    "print(DC[1])\n",
    "print(DC[2])"
   ]
  },
  {
   "cell_type": "markdown",
   "metadata": {},
   "source": [
    "Vamos comparar o documento 1 acima (*Era presidido por João Câncio da Silva*) com outro sem nenhuma palavra em comum, e veremos que é possível calcular uma distância."
   ]
  },
  {
   "cell_type": "code",
   "execution_count": 32,
   "metadata": {
    "ExecuteTime": {
     "end_time": "2023-10-11T13:31:23.479821794Z",
     "start_time": "2023-10-11T13:31:23.430098444Z"
    }
   },
   "outputs": [
    {
     "data": {
      "text/plain": "0.9262080324851342"
     },
     "execution_count": 32,
     "metadata": {},
     "output_type": "execute_result"
    }
   ],
   "source": [
    "model.wv.wmdistance(document1=DC[1],document2='frequentou a escola religiosa em Niteroi e formou-se em 1935 pela UFF'.split())"
   ]
  },
  {
   "cell_type": "markdown",
   "metadata": {},
   "source": [
    "## Visualizando a Vizinança Semântica\n",
    "Por meio do programa [SemanticTree](https://github.com/fccoelho/SemanticTree), podemos construir uma visualização animada da vizinhança semântica em uma rede."
   ]
  },
  {
   "cell_type": "code",
   "execution_count": 37,
   "metadata": {
    "ExecuteTime": {
     "end_time": "2023-10-11T14:02:22.222274245Z",
     "start_time": "2023-10-11T14:02:20.109430531Z"
    }
   },
   "outputs": [
    {
     "name": "stdout",
     "output_type": "stream",
     "text": [
      "usage: semanticTree [-h] [-w W] [-n N] [-s SIM] [-S SIZE]\r\n",
      "                    [-o {image,animation}]\r\n",
      "                    model\r\n",
      "\r\n",
      "Visualize the semantic neighborhood of a term. given a Gensim's Word2vec\r\n",
      "trained model\r\n",
      "\r\n",
      "positional arguments:\r\n",
      "  model                 file name of a Gensim's Word2vec model.\r\n",
      "\r\n",
      "options:\r\n",
      "  -h, --help            show this help message and exit\r\n",
      "  -w W                  the word or bi_gram to analyze\r\n",
      "  -n N                  Max number of neighbors to scan.\r\n",
      "  -s SIM, --sim SIM     minimum similarity to be a neighbor\r\n",
      "  -S SIZE, --size SIZE  Maximum size of the three\r\n",
      "  -o {image,animation}, --output {image,animation}\r\n",
      "                        Type of visualization\r\n"
     ]
    }
   ],
   "source": [
    "!semanticTree -h"
   ]
  },
  {
   "cell_type": "markdown",
   "metadata": {},
   "source": [
    "Para aplicar ao nosso modelo, focando no conceito de política, o comando abaixo pode ser usado:"
   ]
  },
  {
   "cell_type": "code",
   "execution_count": 39,
   "metadata": {
    "ExecuteTime": {
     "end_time": "2023-10-11T14:07:34.778998142Z",
     "start_time": "2023-10-11T14:03:52.292179520Z"
    }
   },
   "outputs": [
    {
     "name": "stdout",
     "output_type": "stream",
     "text": [
      "Loading Data...\r\n",
      "Detected Word2Vec model\r\n",
      "Building graph...\r\n"
     ]
    }
   ],
   "source": [
    "!semanticTree -w política dhbb.w2v"
   ]
  },
  {
   "cell_type": "markdown",
   "metadata": {},
   "source": [
    "![rede](gource.png)"
   ]
  },
  {
   "cell_type": "markdown",
   "metadata": {},
   "source": []
  }
 ],
 "metadata": {
  "hide_input": false,
  "kernelspec": {
   "display_name": "Python 3.10.6 64-bit",
   "language": "python",
   "name": "python3"
  },
  "language_info": {
   "codemirror_mode": {
    "name": "ipython",
    "version": 3
   },
   "file_extension": ".py",
   "mimetype": "text/x-python",
   "name": "python",
   "nbconvert_exporter": "python",
   "pygments_lexer": "ipython3",
   "version": "3.10.6"
  },
  "latex_envs": {
   "LaTeX_envs_menu_present": true,
   "autoclose": false,
   "autocomplete": true,
   "bibliofile": "biblio.bib",
   "cite_by": "apalike",
   "current_citInitial": 1,
   "eqLabelWithNumbers": true,
   "eqNumInitial": 1,
   "hotkeys": {
    "equation": "Ctrl-E",
    "itemize": "Ctrl-I"
   },
   "labels_anchors": false,
   "latex_user_defs": false,
   "report_style_numbering": false,
   "user_envs_cfg": false
  },
  "nbTranslate": {
   "displayLangs": [
    "*"
   ],
   "hotkey": "alt-t",
   "langInMainMenu": true,
   "sourceLang": "en",
   "targetLang": "fr",
   "useGoogleTranslate": true
  },
  "toc": {
   "base_numbering": 1,
   "nav_menu": {},
   "number_sections": true,
   "sideBar": true,
   "skip_h1_title": false,
   "title_cell": "Table of Contents",
   "title_sidebar": "Contents",
   "toc_cell": false,
   "toc_position": {},
   "toc_section_display": true,
   "toc_window_display": false
  },
  "varInspector": {
   "cols": {
    "lenName": 16,
    "lenType": 16,
    "lenVar": 40
   },
   "kernels_config": {
    "python": {
     "delete_cmd_postfix": "",
     "delete_cmd_prefix": "del ",
     "library": "var_list.py",
     "varRefreshCmd": "print(var_dic_list())"
    },
    "r": {
     "delete_cmd_postfix": ") ",
     "delete_cmd_prefix": "rm(",
     "library": "var_list.r",
     "varRefreshCmd": "cat(var_dic_list()) "
    }
   },
   "types_to_exclude": [
    "module",
    "function",
    "builtin_function_or_method",
    "instance",
    "_Feature"
   ],
   "window_display": false
  },
  "vscode": {
   "interpreter": {
    "hash": "e7370f93d1d0cde622a1f8e1c04877d8463912d04d973331ad4851f04de6915a"
   }
  }
 },
 "nbformat": 4,
 "nbformat_minor": 4
}
