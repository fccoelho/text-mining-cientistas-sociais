{
 "cells": [
  {
   "cell_type": "markdown",
   "metadata": {},
   "source": [
    "# Contando Palavras\n",
    "Neste capítulo iremos começar a interagir com os textos no nível da linguagem, por meio das ferramentas do Processamento de Linguagem Natural (PLN). Vamos progredir gradualmente nossa representação da linguagem a partir da morfologia, passando pela sintaxe e chegando à semântica. \n",
    "\n",
    "Nesta etapa, faremos uso de biliotecas especializadas em PLN como o [NLTK](https://www.nltk.org/) e a [Spacy](https://spacy.io/). "
   ]
  },
  {
   "cell_type": "code",
   "execution_count": 37,
   "metadata": {
    "tags": [
     "hide-input"
    ]
   },
   "outputs": [],
   "source": [
    "import warnings\n",
    "warnings.filterwarnings('ignore')"
   ]
  },
  {
   "cell_type": "code",
   "execution_count": 38,
   "metadata": {
    "pycharm": {
     "is_executing": false
    }
   },
   "outputs": [
    {
     "name": "stdout",
     "output_type": "stream",
     "text": [
      "%pylab is deprecated, use %matplotlib inline and import the required libraries.\n",
      "Populating the interactive namespace from numpy and matplotlib\n"
     ]
    }
   ],
   "source": [
    "import nltk\n",
    "import spacy\n",
    "from collections import Counter\n",
    "import pandas as pd\n",
    "from sqlalchemy import create_engine\n",
    "%pylab inline"
   ]
  },
  {
   "cell_type": "markdown",
   "metadata": {},
   "source": [
    "Bibliotecas de PLN requerem o carregamento de modelos de liguagem para funcionar de maneira apropriada: para este capitulo iremos carregar os modelos específicos da lingua portuguesa. Para isso precisamos executar comandos no terminal do sistema operacional:"
   ]
  },
  {
   "cell_type": "code",
   "execution_count": 39,
   "metadata": {
    "pycharm": {
     "is_executing": false
    }
   },
   "outputs": [],
   "source": [
    "# Descomente a linha abaixo para instalar o modelo para a língua portuguesa.\n",
    "# !python3 -m spacy download pt_core_news_sm"
   ]
  },
  {
   "cell_type": "markdown",
   "metadata": {},
   "source": [
    "Para contar as palavras de um texto, é preciso primeiro separá-las uma a uma. A este processo dá-se o nome de tokenização, e é típicamente fácil de fazer mal-feito e difícil de fazer bem-feito.\n",
    "\n",
    "Primeiramente precisaremos carregar os verbetes com a função que criamos no capítulo 1."
   ]
  },
  {
   "cell_type": "code",
   "execution_count": 40,
   "metadata": {
    "pycharm": {
     "is_executing": false
    }
   },
   "outputs": [],
   "source": [
    "import glob, os\n",
    "caminho = \"../dhbb/text/*.text\"\n",
    "arquivos  = glob.glob(caminho)\n",
    "\n",
    "def tabula_verbete(n=None):\n",
    "    \"\"\"\n",
    "    Carrega todos os verbetes disponíveis, ou os primeiros n.\n",
    "    n:  número de verbetes a tabular\n",
    "    \"\"\"\n",
    "    if n is None:\n",
    "        n = len(arquivos)\n",
    "    linhas = []\n",
    "    for a in arquivos[:n]:\n",
    "        with open (a, 'r', encoding='utf8') as f:\n",
    "            verbete = f.read()\n",
    "        cabeçalho = verbete.split('---')[1]\n",
    "        campos = {l.split(':')[0].strip() :l.split(':')[1].strip() for l in cabeçalho.split('\\n')[:4] if l}\n",
    "        campos['arquivo'] = os.path.split(a)[1]\n",
    "        campos['cargos'] = pd.np.nan if 'cargos:' not in cabeçalho else cabeçalho.split('cargos:')[1]\n",
    "        campos['corpo'] = verbete.split('---')[2]\n",
    "        linhas.append(campos)\n",
    "    tabela = pd.DataFrame(data = linhas, columns=['arquivo','title', 'natureza', 'sexo', 'cargos', 'corpo'])\n",
    "    return tabela"
   ]
  },
  {
   "cell_type": "markdown",
   "metadata": {},
   "source": [
    "## Lendo os verbetes do Banco de Dados"
   ]
  },
  {
   "cell_type": "code",
   "execution_count": 41,
   "metadata": {
    "pycharm": {
     "is_executing": false
    }
   },
   "outputs": [],
   "source": [
    "tabela = tabula_verbete()"
   ]
  },
  {
   "cell_type": "code",
   "execution_count": 42,
   "metadata": {},
   "outputs": [
    {
     "data": {
      "text/html": [
       "<div>\n",
       "<style scoped>\n",
       "    .dataframe tbody tr th:only-of-type {\n",
       "        vertical-align: middle;\n",
       "    }\n",
       "\n",
       "    .dataframe tbody tr th {\n",
       "        vertical-align: top;\n",
       "    }\n",
       "\n",
       "    .dataframe thead th {\n",
       "        text-align: right;\n",
       "    }\n",
       "</style>\n",
       "<table border=\"1\" class=\"dataframe\">\n",
       "  <thead>\n",
       "    <tr style=\"text-align: right;\">\n",
       "      <th></th>\n",
       "      <th>index</th>\n",
       "      <th>arquivo</th>\n",
       "      <th>title</th>\n",
       "      <th>natureza</th>\n",
       "      <th>sexo</th>\n",
       "      <th>cargos</th>\n",
       "      <th>corpo</th>\n",
       "    </tr>\n",
       "  </thead>\n",
       "  <tbody>\n",
       "    <tr>\n",
       "      <th>0</th>\n",
       "      <td>1</td>\n",
       "      <td>4361.text</td>\n",
       "      <td>PRATES, Mílton</td>\n",
       "      <td>biográfico</td>\n",
       "      <td>m</td>\n",
       "      <td>\\n - const. 1946\\n - dep. fed. MG 1946-1951 \\n</td>\n",
       "      <td>\\n\\n«Luís Mílton Prates» nasceu em Montes Clar...</td>\n",
       "    </tr>\n",
       "    <tr>\n",
       "      <th>1</th>\n",
       "      <td>2</td>\n",
       "      <td>5224.text</td>\n",
       "      <td>SUREK, Alberto</td>\n",
       "      <td>biográfico</td>\n",
       "      <td>m</td>\n",
       "      <td>\\n - const. 1934\\n - dep. fed. prof. 1935-193...</td>\n",
       "      <td>\\n\\n«Alberto Surek» nasceu em Araucária (PR) n...</td>\n",
       "    </tr>\n",
       "    <tr>\n",
       "      <th>2</th>\n",
       "      <td>3</td>\n",
       "      <td>5039.text</td>\n",
       "      <td>SILVA, Luís Gonzaga do Nascimento e</td>\n",
       "      <td>biográfico</td>\n",
       "      <td>m</td>\n",
       "      <td>\\n - pres. BNH 1965-1966\\n - min. Trab. 1966-...</td>\n",
       "      <td>\\n\\n«Luís Gonzaga do Nascimento e Silva» nasce...</td>\n",
       "    </tr>\n",
       "    <tr>\n",
       "      <th>3</th>\n",
       "      <td>5</td>\n",
       "      <td>756.text</td>\n",
       "      <td>BORJA, Célio</td>\n",
       "      <td>biográfico</td>\n",
       "      <td>m</td>\n",
       "      <td>\\n - dep. fed. GB 1971-1975\\n - dep. fed. RJ 1...</td>\n",
       "      <td>\\n\\n«Célio de Oliveira Borja» nasceu no Rio de...</td>\n",
       "    </tr>\n",
       "    <tr>\n",
       "      <th>4</th>\n",
       "      <td>6</td>\n",
       "      <td>5352.text</td>\n",
       "      <td>TORRES, Fontes</td>\n",
       "      <td>biográfico</td>\n",
       "      <td>m</td>\n",
       "      <td>\\n - dep. fed. RJ 1964-1967 \\n</td>\n",
       "      <td>\\n\\n«José Fontes Torres» nasceu em Santo Antôn...</td>\n",
       "    </tr>\n",
       "  </tbody>\n",
       "</table>\n",
       "</div>"
      ],
      "text/plain": [
       "   index    arquivo                                title    natureza sexo  \\\n",
       "0      1  4361.text                       PRATES, Mílton  biográfico    m   \n",
       "1      2  5224.text                       SUREK, Alberto  biográfico    m   \n",
       "2      3  5039.text  SILVA, Luís Gonzaga do Nascimento e  biográfico    m   \n",
       "3      5   756.text                         BORJA, Célio  biográfico    m   \n",
       "4      6  5352.text                       TORRES, Fontes  biográfico    m   \n",
       "\n",
       "                                              cargos  \\\n",
       "0     \\n - const. 1946\\n - dep. fed. MG 1946-1951 \\n   \n",
       "1   \\n - const. 1934\\n - dep. fed. prof. 1935-193...   \n",
       "2   \\n - pres. BNH 1965-1966\\n - min. Trab. 1966-...   \n",
       "3  \\n - dep. fed. GB 1971-1975\\n - dep. fed. RJ 1...   \n",
       "4                     \\n - dep. fed. RJ 1964-1967 \\n   \n",
       "\n",
       "                                               corpo  \n",
       "0  \\n\\n«Luís Mílton Prates» nasceu em Montes Clar...  \n",
       "1  \\n\\n«Alberto Surek» nasceu em Araucária (PR) n...  \n",
       "2  \\n\\n«Luís Gonzaga do Nascimento e Silva» nasce...  \n",
       "3  \\n\\n«Célio de Oliveira Borja» nasceu no Rio de...  \n",
       "4  \\n\\n«José Fontes Torres» nasceu em Santo Antôn...  "
      ]
     },
     "execution_count": 42,
     "metadata": {},
     "output_type": "execute_result"
    }
   ],
   "source": [
    "eng = create_engine(\"sqlite:///minha_tabela.sqlite\")\n",
    "#dhbb = pd.read_sql_table('resultados')\n",
    "biograficos = pd.read_sql_query('select * from resultados where natureza=\"biográfico\"', con=eng)\n",
    "biograficos.head()"
   ]
  },
  {
   "cell_type": "markdown",
   "metadata": {},
   "source": [
    "## Tokenização com o NLTK"
   ]
  },
  {
   "cell_type": "code",
   "execution_count": 43,
   "metadata": {},
   "outputs": [
    {
     "name": "stderr",
     "output_type": "stream",
     "text": [
      "[nltk_data] Downloading package punkt to /home/fccoelho/nltk_data...\n",
      "[nltk_data]   Package punkt is already up-to-date!\n"
     ]
    },
    {
     "data": {
      "text/plain": [
       "True"
      ]
     },
     "execution_count": 43,
     "metadata": {},
     "output_type": "execute_result"
    }
   ],
   "source": [
    "nltk.download('punkt')"
   ]
  },
  {
   "cell_type": "code",
   "execution_count": 44,
   "metadata": {
    "pycharm": {
     "is_executing": false
    }
   },
   "outputs": [
    {
     "data": {
      "text/plain": [
       "['«', 'Luís', 'Mílton', 'Prates', '»', 'nasceu', 'em', 'Montes', 'Claros', '(']"
      ]
     },
     "execution_count": 44,
     "metadata": {},
     "output_type": "execute_result"
    }
   ],
   "source": [
    "palavras = nltk.word_tokenize(biograficos.corpo[0])\n",
    "palavras[:10]"
   ]
  },
  {
   "cell_type": "markdown",
   "metadata": {},
   "source": [
    "Uma vez \"tokenizado\" o texto, podemos contar as palavras muito simplesmente usando a função `Counter`do Python"
   ]
  },
  {
   "cell_type": "code",
   "execution_count": 45,
   "metadata": {
    "pycharm": {
     "is_executing": false
    }
   },
   "outputs": [
    {
     "data": {
      "text/plain": [
       "[('de', 17),\n",
       " ('.', 14),\n",
       " (',', 10),\n",
       " ('do', 9),\n",
       " ('a', 6),\n",
       " ('da', 5),\n",
       " ('em', 4),\n",
       " ('e', 4),\n",
       " ('(', 3),\n",
       " (')', 3)]"
      ]
     },
     "execution_count": 45,
     "metadata": {},
     "output_type": "execute_result"
    }
   ],
   "source": [
    "c = Counter(palavras)\n",
    "c.most_common(n=10)"
   ]
  },
  {
   "cell_type": "markdown",
   "metadata": {},
   "source": [
    "Outra maneira de fazer isso seria usando o NLTK. Com a vantagem de ainda podermos visualizar graficamente."
   ]
  },
  {
   "cell_type": "code",
   "execution_count": 46,
   "metadata": {
    "pycharm": {
     "is_executing": false
    }
   },
   "outputs": [
    {
     "data": {
      "image/png": "[encoded data removed]",
      "text/plain": [
       "<Figure size 1080x360 with 1 Axes>"
      ]
     },
     "metadata": {
      "needs_background": "light"
     },
     "output_type": "display_data"
    }
   ],
   "source": [
    "figure(figsize=(15,5))\n",
    "fd = nltk.FreqDist([p.lower() for p in palavras])\n",
    "fd.plot();"
   ]
  },
  {
   "cell_type": "code",
   "execution_count": 47,
   "metadata": {},
   "outputs": [
    {
     "name": "stdout",
     "output_type": "stream",
     "text": [
      "Numero de tokens: 252\n",
      "Tamanho do Vocabulário: 151\n"
     ]
    }
   ],
   "source": [
    "print(\"Numero de tokens:\", len(palavras))\n",
    "print(\"Tamanho do Vocabulário:\", len(set([p.lower() for p in palavras])))"
   ]
  },
  {
   "cell_type": "markdown",
   "metadata": {},
   "source": [
    "Como vemos no exemplo acima, as palavras mais frequentes não muito informativas. Muitas vezes pode ser útil removê-las da análise. Linguistas costumams chamar este tipo de palavras de **stop-words**. Alem disso, vamos tambem remover as pontuaçoes. "
   ]
  },
  {
   "cell_type": "markdown",
   "metadata": {},
   "source": [
    "### Removendo as Stopwords"
   ]
  },
  {
   "cell_type": "code",
   "execution_count": 48,
   "metadata": {},
   "outputs": [
    {
     "name": "stderr",
     "output_type": "stream",
     "text": [
      "[nltk_data] Downloading package stopwords to\n",
      "[nltk_data]     /home/fccoelho/nltk_data...\n",
      "[nltk_data]   Package stopwords is already up-to-date!\n"
     ]
    },
    {
     "data": {
      "text/plain": [
       "True"
      ]
     },
     "execution_count": 48,
     "metadata": {},
     "output_type": "execute_result"
    }
   ],
   "source": [
    "nltk.download('stopwords')"
   ]
  },
  {
   "cell_type": "markdown",
   "metadata": {},
   "source": [
    "Vamos juntas as stopwords e a pontuação em uma única lista:"
   ]
  },
  {
   "cell_type": "code",
   "execution_count": 49,
   "metadata": {
    "pycharm": {
     "is_executing": false
    }
   },
   "outputs": [
    {
     "name": "stdout",
     "output_type": "stream",
     "text": [
      "!\"#$%&'()*+,-./:;<=>?@[\\]^_`{|}~\n"
     ]
    },
    {
     "data": {
      "text/plain": [
       "['a',\n",
       " 'à',\n",
       " 'ao',\n",
       " 'aos',\n",
       " 'aquela',\n",
       " 'aquelas',\n",
       " 'aquele',\n",
       " 'aqueles',\n",
       " 'aquilo',\n",
       " 'as']"
      ]
     },
     "execution_count": 49,
     "metadata": {},
     "output_type": "execute_result"
    }
   ],
   "source": [
    "sw = nltk.corpus.stopwords.words('portuguese')\n",
    "from string import punctuation\n",
    "print(punctuation)\n",
    "sw[:10]"
   ]
  },
  {
   "cell_type": "code",
   "execution_count": 50,
   "metadata": {
    "pycharm": {
     "is_executing": false
    }
   },
   "outputs": [
    {
     "data": {
      "image/png": "[encoded data removed]",
      "text/plain": [
       "<Figure size 1080x360 with 1 Axes>"
      ]
     },
     "metadata": {
      "needs_background": "light"
     },
     "output_type": "display_data"
    }
   ],
   "source": [
    "figure(figsize=(15,5))\n",
    "fd = nltk.FreqDist([p for p in palavras if p not in sw+list(punctuation)])\n",
    "fd.plot();"
   ]
  },
  {
   "cell_type": "markdown",
   "metadata": {},
   "source": [
    "# Analizando coleções de textos\n",
    "Acima analizamos o conteúdo de apenas um verbete, mas seria bem mais relevante podermos fazer a análise em uma coleção de verbetes. Para isso aprenderemos a criar um objeto `TextCollection` que como o nome diz, representa uma coleção de texto, mas que nos permite a realização de análises a nível de coleção."
   ]
  },
  {
   "cell_type": "code",
   "execution_count": 51,
   "metadata": {
    "pycharm": {
     "is_executing": false
    }
   },
   "outputs": [],
   "source": [
    "tc = nltk.TextCollection([nltk.word_tokenize(c) for c in biograficos.corpo])"
   ]
  },
  {
   "cell_type": "code",
   "execution_count": 52,
   "metadata": {
    "pycharm": {
     "is_executing": false
    }
   },
   "outputs": [
    {
     "data": {
      "text/plain": [
       "FreqDist({',': 587463, 'de': 517135, '.': 259247, 'do': 226381, 'a': 214979, 'e': 192479, 'da': 181854, 'em': 153158, 'o': 148578, ')': 87927, ...})"
      ]
     },
     "execution_count": 52,
     "metadata": {},
     "output_type": "execute_result"
    }
   ],
   "source": [
    "nltk.FreqDist(tc)"
   ]
  },
  {
   "cell_type": "code",
   "execution_count": 53,
   "metadata": {},
   "outputs": [
    {
     "name": "stdout",
     "output_type": "stream",
     "text": [
      "Displaying 25 of 10181 matches:\n",
      "Alberto Surek » nasceu em Araucária ( PR ) no dia 21 de abril de 1899 , filho de Martim Surek e de Maria Surek . Fez os primeiros estudos em sua cida\n",
      "mento e Silva » nasceu em Itajubá ( MG ) no dia 24 de janeiro de 1915 , filho do advogado Francisco Eulálio do Nascimento e Silva Filho e de Maria do\n",
      "iro de 1915 , filho do advogado Francisco Eulálio do Nascimento e Silva Filho e de Maria do Rosário Bento do Nascimento e Silva . Em sua família , de\n",
      "dispendioso instrumento de corrupção e subversão ” , segundo Luís Viana Filho . Nascimento e Silva empenhou-se na reforma e , ainda em novembro de 19\n",
      "transformando-o em decreto-lei ainda em 1966 . De acordo com Luís Viana Filho , “ entre os trabalhadores a medida produziu bom efeito . Golberi [ do \n",
      "nto e Silva , falecida em 1986 , com quem teve um casal de filhos . Seu filho Luís Roberto do Nascimento e Silva foi ministro da Cultura entre 1993 e\n",
      " Rio de Janeiro , então Distrito Federal , no dia 15 de julho de 1928 , filho de Francisco Filinto de Oliveira Borja e de Maria Benjamin Borja . Fez \n",
      " , então distrito de Barra Mansa ( RJ ) , no dia 2 de janeiro de 1916 , filho de Francisco C. Torres Sobrinho e de Emiliana Fontes Torres . Fez os es\n",
      "Rio de Janeiro , então Distrito Federal , no dia 19 de novembro de 1937 filho do médico José Dauster Mota e Silva e de Josefa Magalhães e Silva , pro\n",
      "io de Janeiro , então Distrito Federal , no dia 7 de dezembro de 1901 , filho de Augusto Amaral Peixoto e de Alice Monteiro Amaral Peixoto . Seu pai \n",
      "u a cadeira na Câmara Federal , preenchendo a vaga aberta por Luís Gama Filho , nomeado ministro do Tribunal de Contas do Distrito Federal . Diante d\n",
      " inconstitucional , já que o sucessor legal do presidente era João Café Filho , vice-presidente da República . Na madrugada do dia 24 , Augusto Amara\n",
      "o tornou-se opositor do novo governo chefiado pelo vice-presidente Café Filho . Em novembro de 1955 , foi solidário com o movimento militar empreendi\n",
      "tou do poder o presidente interino Carlos Luz e a seguir o próprio Café Filho para garantir a posse de Juscelino Kubitschek , vencedor das eleições p\n",
      "do da Guanabara na vaga aberta pela aposentadoria do ministro João Café Filho . Aposentou-se em novembro de 1971 , por ter atingido o limite de idade\n",
      " de 1984 . Era casado com Maria Luísa Amaral Peixoto , com quem teve um filho . Escreveu , ainda inéditas , « Recordações revolucionárias e políticas\n",
      "o Leivas Otero » nasceu em Rio Grande ( RS ) no dia 4 de maio de 1912 , filho de Carlos Alberto de Otero e de Maria José Leivas Otero . Seu irmão Aug\n",
      "naltina ( GO ) , hoje Distrito Federal , no dia 31 de outubro de 1905 , filho de Salviano Monteiro Guimarães e de Olívia de Campos Guimarães . Formou\n",
      " Araújo Pomar » nasceu em Óbidos ( PA ) no dia 23 de setembro de 1913 , filho de Filipe Cossio Pomar e de Rosa de Araújo Pomar . Passou a infância em\n",
      ", enquanto Elza Monerat , José Morais , Aldo Arantes , Vladimir Pomar , filho de Pedro Pomar , Aroldo Lima e Jover Teles foram presos . Pedro Pomar f\n",
      "iz Ramos » nasceu em Araripina ( PE ) , no dia 22 de setembro de 1939 , filho de Manuel Ramos de Barros e de Maria de Lurdes Muniz Ramos . O pai , do\n",
      " de Andrada » nasceu em Barbacena ( MG ) no dia 5 de setembro de 1870 , filho de Antônio Carlos Ribeiro de Andrada e de Adelaide Feliciano Duarte de \n",
      " Câmara dos Deputados , do deputado pernambucano Manuel Francisco Sousa Filho por seu colega gaúcho Ildefonso Simões Lopes . Cresceu , também , o apo\n",
      "relatórios oficiais e pareceres , e numerosos discursos . Em 1946 , seu filho Fábio Andrada organizou uma coletânea de artigos intitulada « Antônio C\n",
      "ia de município com o nome de Antônio Carlos . « Afrânio de Melo Franco Filho » nasceu em Belo Horizonte no dia 28 de junho de 1901 , filho de Afrâni\n"
     ]
    }
   ],
   "source": [
    "tc.concordance('filho', width=150)"
   ]
  },
  {
   "cell_type": "code",
   "execution_count": 23,
   "metadata": {
    "pycharm": {
     "is_executing": false
    }
   },
   "outputs": [
    {
     "data": {
      "text/plain": [
       "ConcordanceLine(left=['casado', 'com', 'Noemi', 'de', 'Sá', 'Lessa', 'Prates', '.', 'Publicou', '«', 'Gente', 'boa', '»', ',', 'obra', 'de', 'literatura', 'regional', '.', '«', 'Alberto', 'Surek', '»', 'nasceu', 'em', 'Araucária', '(', 'PR', ')', 'no', 'dia', '21', 'de', 'abril', 'de', '1899', ','], query='filho', right=['de', 'Martim', 'Surek', 'e', 'de', 'Maria', 'Surek', '.', 'Fez', 'os', 'primeiros', 'estudos', 'em', 'sua', 'cidade', 'natal', 'e', 'de', '1912', 'a', '1915', 'cursou', 'o', 'Ginásio', 'Diocesano', ',', 'em', 'Curitiba', '.', 'Guarda-livros', 'da', 'firma', 'Magalhães', 'e', 'Companhia', ','], offset=270, left_print='Alberto Surek » nasceu em Araucária ( PR ) no dia 21 de abril de 1899 ,', right_print='de Martim Surek e de Maria Surek . Fez os primeiros estudos em sua cida', line='Alberto Surek » nasceu em Araucária ( PR ) no dia 21 de abril de 1899 , filho de Martim Surek e de Maria Surek . Fez os primeiros estudos em sua cida')"
      ]
     },
     "execution_count": 23,
     "metadata": {},
     "output_type": "execute_result"
    }
   ],
   "source": [
    "linhas = tc.concordance_list('filho',width=150)\n",
    "linhas[0]"
   ]
  },
  {
   "cell_type": "code",
   "execution_count": 54,
   "metadata": {},
   "outputs": [
    {
     "name": "stdout",
     "output_type": "stream",
     "text": [
      "de Martim Surek e de Maria Surek . Fez os primeiros estudos em sua cidade natal e de 1912 a 1915 cursou o Ginásio Diocesano , em Curitiba . Guarda-livros da firma Magalhães e Companhia ,\n"
     ]
    }
   ],
   "source": [
    "print(*linhas[0].right)"
   ]
  },
  {
   "cell_type": "markdown",
   "metadata": {
    "pycharm": {
     "is_executing": false
    }
   },
   "source": [
    "## Exercício\n",
    "Utilizando a ferramenta de concordance, procure extrair a filiação dos verbetados, escrevendo uma função que percorra todas as ocorrências da palavra \"filho\", separando aquelas com sentido de indicação de filiação."
   ]
  },
  {
   "cell_type": "code",
   "execution_count": 55,
   "metadata": {
    "tags": []
   },
   "outputs": [
    {
     "name": "stdout",
     "output_type": "stream",
     "text": [
      "Processando 11028 linhas\n",
      "Pai: Martim Surek \n",
      " Mãe: Maria Surek\n",
      "Pai: advogado Francisco Eulálio do Nascimento \n",
      " Mãe: Silva Filho Maria do Rosário Bento do Nascimento Silva\n",
      "Pai: Francisco Filinto de Oliveira Borja \n",
      " Mãe: Maria Benjamin Borja\n",
      "Pai: Francisco C. Torres Sobrinho \n",
      " Mãe: Emiliana Fontes Torres\n",
      "Pai: médico José Dauster Mota \n",
      " Mãe: Silva Josefa Magalhães Silva\n",
      "Pai: Augusto Amaral Peixoto \n",
      " Mãe: Alice Monteiro Amaral Peixoto\n",
      "Pai: Carlos Alberto de Otero \n",
      " Mãe: Maria José Leivas Otero\n",
      "Pai: Salviano Monteiro Guimarães \n",
      " Mãe: Olívia Campos Guimarães\n",
      "Pai: Filipe Cossio Pomar \n",
      " Mãe: Rosa Araújo Pomar\n",
      "Pai: Pedro Pomar \n",
      " Mãe: desconhecida.\n",
      "Encontramos progenitores em 6459 linhas\n"
     ]
    }
   ],
   "source": [
    "def parse_progenitores(linha):\n",
    "    '''\n",
    "    A partir de uma linha do DHBB contendo nomes de pai e mãe, extrai os nomes e os retorna\n",
    "    '''\n",
    "    right = linha.right[1:]\n",
    "    try:\n",
    "        pos_virg = right.index(',')\n",
    "    except ValueError:\n",
    "        pos_virg = 100\n",
    "    try:\n",
    "        pos_pt = right.index('.')\n",
    "    except ValueError:\n",
    "        pos_pt = 100\n",
    "    fim = min(pos_virg, pos_pt)\n",
    "    pais = right[:fim]\n",
    "    if 'e' in pais:\n",
    "        pai = \" \".join(pais[:pais.index('e')])\n",
    "        mae = \" \".join([p for p in pais[pais.index('e'):] if p not in [',', 'de', 'e']])\n",
    "    else:\n",
    "        pai = \" \".join(pais)\n",
    "        mae = \"desconhecida.\"\n",
    "    return pai, mae\n",
    "\n",
    "def encontra_pais(tc):\n",
    "    linhas = tc.concordance_list('filho',width=180, lines=50000) + tc.concordance_list('filha',width=180, lines=50000)\n",
    "    print(\"Processando {} linhas\".format(len(linhas)))\n",
    "    i = 0\n",
    "    for linha in linhas:\n",
    "        if linha.right[0] not in ['de', 'da', 'do']:\n",
    "            continue\n",
    "        pai, mae = parse_progenitores(linha)\n",
    "        i += 1\n",
    "        if i <11:\n",
    "            print(\"Pai:\",pai, '\\n', \"Mãe:\", mae)\n",
    "    print(\"Encontramos progenitores em {} linhas\".format(i))\n",
    "encontra_pais(tc)"
   ]
  },
  {
   "cell_type": "code",
   "execution_count": 56,
   "metadata": {
    "pycharm": {
     "is_executing": false
    }
   },
   "outputs": [
    {
     "data": {
      "image/png": "[encoded data removed]",
      "text/plain": [
       "<Figure size 432x288 with 1 Axes>"
      ]
     },
     "metadata": {
      "needs_background": "light"
     },
     "output_type": "display_data"
    }
   ],
   "source": [
    "tc.dispersion_plot(['deputado', 'senador', 'prefeito', 'governador'])"
   ]
  },
  {
   "cell_type": "markdown",
   "metadata": {},
   "source": [
    "# Separando frases\n",
    "Além de quebrar os textos em seus tokens constituintes, podemos também dividi-los por frases, o que pode ser mais convenientes para certas análises. Para isso utilizamos a função `sent_tokenize` do nltk."
   ]
  },
  {
   "cell_type": "code",
   "execution_count": 57,
   "metadata": {
    "pycharm": {
     "is_executing": false
    }
   },
   "outputs": [
    {
     "data": {
      "text/plain": [
       "['\\n\\n«Luís Mílton Prates» nasceu em Montes Claros (MG) no dia 7 de janeiro de\\n1888.',\n",
       " 'Realizou os estudos secundários no Colégio São Norberto.',\n",
       " 'De formação\\ncatólica, estudou filosofia com o padre redentorista Henrique Brandão.',\n",
       " 'No pleito de dezembro de 1945 foi eleito suplente de deputado por Minas\\nGerais à Assembléia Nacional Constituinte na legenda do Partido Social\\nDemocrático (PSD), assumindo o mandato em fevereiro do ano seguinte.',\n",
       " 'Participou dos trabalhos constituintes e, com a promulgação da nova\\nCarta (18/9/1946), passou a exercer mandato ordinário.',\n",
       " 'Em 1947 presidiu\\na comissão de inquérito da Câmara que apurou as causas do\\ncongestionamento do porto de Santos, responsável por vultosos prejuízos\\nà economia nacional.',\n",
       " 'Nessa legislatura integrou ainda a Comissão\\nEspecial de Pecuária e foi presidente da Comissão de Indústria e\\nComércio da Câmara dos Deputados.',\n",
       " 'Em outubro de 1950 obteve de novo uma\\nsuplência de deputado federal por Minas Gerais, sempre na legenda do\\nPSD.',\n",
       " 'Deixando a Câmara em janeiro de 1951, não voltou a exercer mandato.',\n",
       " 'Em 1954 tornou-se membro do conselho consultivo do Banco do Nordeste,\\ncargo que ocupou até 1960.',\n",
       " 'Também jornalista, foi oficial-de-gabinete do\\nMinistério da Viação e Obras Públicas.',\n",
       " 'Faleceu em sua cidade natal no dia 1º de setembro de 1974.',\n",
       " 'Era casado com Noemi de Sá Lessa Prates.',\n",
       " 'Publicou «Gente boa», obra de literatura regional.']"
      ]
     },
     "execution_count": 57,
     "metadata": {},
     "output_type": "execute_result"
    }
   ],
   "source": [
    "nltk.tokenize.sent_tokenize(biograficos.corpo[0])"
   ]
  },
  {
   "cell_type": "markdown",
   "metadata": {
    "pycharm": {
     "is_executing": false
    }
   },
   "source": [
    "# Busca textual\n",
    "Realizar uma busca textual em uma coleção de textos é muito mais eficiente do que simplesmente realizar operações sobre coleções de strings. Neste capítulo iremos examinar como \"indexar\" o DHBB, usando um simples indexador/buscador chamado [whoosh](https://whoosh.readthedocs.io). "
   ]
  },
  {
   "cell_type": "code",
   "execution_count": 28,
   "metadata": {},
   "outputs": [],
   "source": [
    "from whoosh import index \n",
    "import os\n",
    "from whoosh.fields import *\n",
    "from IPython.core.display import display, HTML"
   ]
  },
  {
   "cell_type": "code",
   "execution_count": 29,
   "metadata": {},
   "outputs": [],
   "source": [
    "schema = Schema(title=TEXT(stored=True), sexo=ID(stored=True), caminho=ID(stored=True), corpo=TEXT(stored=True))"
   ]
  },
  {
   "cell_type": "code",
   "execution_count": 30,
   "metadata": {
    "scrolled": true
   },
   "outputs": [],
   "source": [
    "if not os.path.exists('indexdir'):\n",
    "    os.mkdir('indexdir')\n",
    "    ix = index.create_in(\"indexdir\", schema)\n",
    "else:\n",
    "    # ix = index.open_dir('indexdir') # se quiser adicionar novos documentos ao índice\n",
    "    ix = index.create_in(\"indexdir\", schema) # se Quiser começar do zero"
   ]
  },
  {
   "cell_type": "code",
   "execution_count": 31,
   "metadata": {},
   "outputs": [],
   "source": [
    "writer = ix.writer()"
   ]
  },
  {
   "cell_type": "code",
   "execution_count": 32,
   "metadata": {},
   "outputs": [],
   "source": [
    "for v in biograficos.itertuples():\n",
    "    if pd.isnull(v.sexo):\n",
    "        writer.add_document(title=v.title,sexo='na', caminho=v.arquivo,corpo=v.corpo)\n",
    "    else:\n",
    "        writer.add_document(title=v.title,sexo=v.sexo, caminho=v.arquivo,corpo=v.corpo)\n",
    "writer.commit()"
   ]
  },
  {
   "cell_type": "code",
   "execution_count": 33,
   "metadata": {},
   "outputs": [],
   "source": [
    "from whoosh.qparser import QueryParser\n",
    "from whoosh import qparser"
   ]
  },
  {
   "cell_type": "code",
   "execution_count": 34,
   "metadata": {},
   "outputs": [],
   "source": [
    "def busca(consulta):\n",
    "    qp = QueryParser(\"corpo\", ix.schema)\n",
    "    qp.add_plugin(qparser.EveryPlugin())\n",
    "    query = qp.parse(consulta)\n",
    "    \n",
    "    with ix.searcher() as searcher:\n",
    "        results = [(dict(hit),hit.highlights(\"corpo\")) for hit in searcher.search(query, limit=10)]\n",
    "    return results\n",
    "    "
   ]
  },
  {
   "cell_type": "code",
   "execution_count": 35,
   "metadata": {},
   "outputs": [],
   "source": [
    "resultados = busca('assassin*')\n"
   ]
  },
  {
   "cell_type": "code",
   "execution_count": 36,
   "metadata": {
    "scrolled": true
   },
   "outputs": [
    {
     "name": "stdout",
     "output_type": "stream",
     "text": [
      "Resultados: 10\n",
      "PASCOAL, Hildebrando\n"
     ]
    },
    {
     "data": {
      "text/html": [
       "nacional, foi o <b class=\"match term0\">assassinato</b> do mecânico...também foram <b class=\"match term1\">assassinadas</b>, o que levou...anos de prisão pelo <b class=\"match term0\">assassinato</b> de Sebastião"
      ],
      "text/plain": [
       "<IPython.core.display.HTML object>"
      ]
     },
     "metadata": {},
     "output_type": "display_data"
    },
    {
     "name": "stdout",
     "output_type": "stream",
     "text": [
      "PASCOAL, Hildebrando\n"
     ]
    },
    {
     "data": {
      "text/html": [
       "nacional, foi o <b class=\"match term0\">assassinato</b> do mecânico...também foram <b class=\"match term1\">assassinadas</b>, o que levou...foi\n",
       "indiciado por <b class=\"match term0\">assassinato</b>, envolvimento"
      ],
      "text/plain": [
       "<IPython.core.display.HTML object>"
      ]
     },
     "metadata": {},
     "output_type": "display_data"
    },
    {
     "name": "stdout",
     "output_type": "stream",
     "text": [
      "RIPPOL, Valdemar\n"
     ]
    },
    {
     "data": {
      "text/html": [
       "janeiro de 1934 foi <b class=\"match term2\">assassinado</b> a machadadas...o acusado do <b class=\"match term0\">assassinato</b>, Pedro Borges...Cunha; na segunda, o\n",
       "<b class=\"match term3\">assassino</b> seria um oficial"
      ],
      "text/plain": [
       "<IPython.core.display.HTML object>"
      ]
     },
     "metadata": {},
     "output_type": "display_data"
    },
    {
     "name": "stdout",
     "output_type": "stream",
     "text": [
      "RIPPOL, Valdemar\n"
     ]
    },
    {
     "data": {
      "text/html": [
       "janeiro de 1934 foi <b class=\"match term2\">assassinado</b> a machadadas...o acusado do <b class=\"match term0\">assassinato</b>, Pedro Borges...Cunha; na segunda, o\n",
       "<b class=\"match term3\">assassino</b> seria um oficial"
      ],
      "text/plain": [
       "<IPython.core.display.HTML object>"
      ]
     },
     "metadata": {},
     "output_type": "display_data"
    },
    {
     "name": "stdout",
     "output_type": "stream",
     "text": [
      "CUNHA, Francisco Flores da\n"
     ]
    },
    {
     "data": {
      "text/html": [
       "de cumplicidade no\n",
       "<b class=\"match term0\">assassinato</b> do jornalista...delas, Rippoll fora\n",
       "<b class=\"match term2\">assassinado</b> pelo uruguaio...versão dizia que o <b class=\"match term3\">assassino</b> seria um\n",
       "oficial"
      ],
      "text/plain": [
       "<IPython.core.display.HTML object>"
      ]
     },
     "metadata": {},
     "output_type": "display_data"
    },
    {
     "name": "stdout",
     "output_type": "stream",
     "text": [
      "CUNHA, Francisco Flores da\n"
     ]
    },
    {
     "data": {
      "text/html": [
       "de cumplicidade no\n",
       "<b class=\"match term0\">assassinato</b> do jornalista...delas, Rippoll fora\n",
       "<b class=\"match term2\">assassinado</b> pelo uruguaio...versão dizia que o <b class=\"match term3\">assassino</b> seria um\n",
       "oficial"
      ],
      "text/plain": [
       "<IPython.core.display.HTML object>"
      ]
     },
     "metadata": {},
     "output_type": "display_data"
    },
    {
     "name": "stdout",
     "output_type": "stream",
     "text": [
      "MENDES, Chico\n"
     ]
    },
    {
     "data": {
      "text/html": [
       "os responsáveis pelo <b class=\"match term0\">assassinato</b> de Wilson\n",
       "Pinheiro...Um mês depois do <b class=\"match term0\">assassinato</b> foi realizado...tempo de\n",
       "morte: o <b class=\"match term0\">assassinato</b> de Chico Mendes"
      ],
      "text/plain": [
       "<IPython.core.display.HTML object>"
      ]
     },
     "metadata": {},
     "output_type": "display_data"
    },
    {
     "name": "stdout",
     "output_type": "stream",
     "text": [
      "MENDES, Chico\n"
     ]
    },
    {
     "data": {
      "text/html": [
       "Chico Mendes foi <b class=\"match term2\">assassinado</b> em sua residência...Um mês depois do <b class=\"match term0\">assassinato</b> foi realizado...tempo de\n",
       "morte: o <b class=\"match term0\">assassinato</b> de Chico Mendes"
      ],
      "text/plain": [
       "<IPython.core.display.HTML object>"
      ]
     },
     "metadata": {},
     "output_type": "display_data"
    },
    {
     "name": "stdout",
     "output_type": "stream",
     "text": [
      "CUNHA NETO, Augusto\n"
     ]
    },
    {
     "data": {
      "text/html": [
       "mês, Cunha Neto foi\n",
       "<b class=\"match term2\">assassinado</b> com nove tiros...Na\n",
       "ocasião, o <b class=\"match term3\">assassino</b> declarou à polícia"
      ],
      "text/plain": [
       "<IPython.core.display.HTML object>"
      ]
     },
     "metadata": {},
     "output_type": "display_data"
    },
    {
     "name": "stdout",
     "output_type": "stream",
     "text": [
      "CUNHA NETO, Augusto\n"
     ]
    },
    {
     "data": {
      "text/html": [
       "mês, Cunha Neto foi\n",
       "<b class=\"match term2\">assassinado</b> com nove tiros...Na\n",
       "ocasião, o <b class=\"match term3\">assassino</b> declarou à polícia"
      ],
      "text/plain": [
       "<IPython.core.display.HTML object>"
      ]
     },
     "metadata": {},
     "output_type": "display_data"
    }
   ],
   "source": [
    "print('Resultados:', len(resultados))\n",
    "for res in resultados[:10]:\n",
    "    print(res[0]['title'])\n",
    "    display(HTML(res[1]))\n",
    "   # encontra_pais(nltk.Text(nltk.tokenize.wordpunct_tokenize(res[0]['corpo'])))"
   ]
  },
  {
   "cell_type": "code",
   "execution_count": null,
   "metadata": {},
   "outputs": [],
   "source": []
  }
 ],
 "metadata": {
  "kernelspec": {
   "display_name": "Python 3 (ipykernel)",
   "language": "python",
   "name": "python3"
  },
  "language_info": {
   "codemirror_mode": {
    "name": "ipython",
    "version": 3
   },
   "file_extension": ".py",
   "mimetype": "text/x-python",
   "name": "python",
   "nbconvert_exporter": "python",
   "pygments_lexer": "ipython3",
   "version": "3.10.6"
  },
  "latex_envs": {
   "LaTeX_envs_menu_present": true,
   "autoclose": false,
   "autocomplete": true,
   "bibliofile": "biblio.bib",
   "cite_by": "apalike",
   "current_citInitial": 1,
   "eqLabelWithNumbers": true,
   "eqNumInitial": 1,
   "hotkeys": {
    "equation": "Ctrl-E",
    "itemize": "Ctrl-I"
   },
   "labels_anchors": false,
   "latex_user_defs": false,
   "report_style_numbering": false,
   "user_envs_cfg": false
  },
  "latex_metadata": {
   "affiliation": "FGV-EMAp",
   "author": "Flávio Codeço Coelho",
   "bib": "notebook.bib",
   "title": "Processamento de Linguagem Natural"
  },
  "pycharm": {
   "stem_cell": {
    "cell_type": "raw",
    "metadata": {
     "collapsed": false
    },
    "source": []
   }
  }
 },
 "nbformat": 4,
 "nbformat_minor": 4
}
