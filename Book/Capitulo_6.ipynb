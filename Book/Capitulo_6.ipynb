{
 "cells": [
  {
   "cell_type": "markdown",
   "id": "6c9c3521-e56e-4a09-8060-a2eb3c352080",
   "metadata": {},
   "source": [
    "# Analizando Redes de Colaboração Científica\n",
    "Para podermos analizar redes de colaboração em publicações científicas, precisamos antes construir um banco de referências. Para isso iremos utilizar [este código](https://github.com/fccoelho/pubmed_downloader/blob/master/fetch2pgsql.py). Este script foi construído como uma ferramenta para a construção de um banco de referências sobre `COVID19` para as análises deste capitulo. Caso o leitor deseje, pode também modificar o script para atender seus interesses pessoais de busca bibliográficas.\n",
    "\n",
    "Começamos abaixo com uma busca de no máximo 500 artigos por palavra-chave. Esta linha de comando irá gerar um banco de dados chamado `pubmed.sqlite`."
   ]
  },
  {
   "cell_type": "code",
   "execution_count": null,
   "id": "88ed1d45-d9f3-4008-ae6f-d0b681d7b28f",
   "metadata": {
    "tags": [
     "hide-output"
    ],
    "is_executing": true,
    "ExecuteTime": {
     "start_time": "2023-10-11T14:40:36.447117094Z"
    }
   },
   "outputs": [
    {
     "name": "stdout",
     "output_type": "stream",
     "text": [
      "Fetching results for covid19\r\n",
      "Found 500 items\r\n",
      " 27%|███████████▏                             | 136/500 [01:48<04:48,  1.26it/s]"
     ]
    }
   ],
   "source": [
    "!./fetch2sql.py --count 500"
   ]
  },
  {
   "cell_type": "markdown",
   "id": "13744760-461e-4319-a0ca-29666c0aeaac",
   "metadata": {},
   "source": [
    "### Buscas no Corpus\n",
    "Este banco de dados foi configurado com indexação automática do seu conteúdo. Logo podemos escrever uma simples função para realizar as buscas:"
   ]
  },
  {
   "cell_type": "code",
   "execution_count": 34,
   "id": "f3ea0930-d536-4ee3-a748-46ddef6d7f71",
   "metadata": {},
   "outputs": [],
   "source": [
    "from sqlalchemy import create_engine, text\n",
    "from IPython.core.display import display, HTML"
   ]
  },
  {
   "cell_type": "code",
   "execution_count": 35,
   "id": "611ca08b-be70-44a6-8a27-dcc558a24867",
   "metadata": {},
   "outputs": [],
   "source": [
    "def busca(q):\n",
    "    engine = create_engine(f\"sqlite:///pubmed.sqlite\")\n",
    "    with engine.connect() as con:\n",
    "        res = con.execute(text(f\"select rowid, title,highlight(article_fts, 1, '<b>', '</b>') from article_fts('{q}');\")).fetchall()\n",
    "    del engine\n",
    "    return res"
   ]
  },
  {
   "cell_type": "code",
   "execution_count": 36,
   "id": "477eb385-07ce-42c9-a7ea-0dd139d34854",
   "metadata": {},
   "outputs": [
    {
     "data": {
      "text/plain": [
       "36499351"
      ]
     },
     "metadata": {},
     "output_type": "display_data"
    },
    {
     "data": {
      "text/plain": [
       "'Pathological Roles of Pulmonary Cells in Acute Lung Injury: Lessons from Clinical Practice.'"
      ]
     },
     "metadata": {},
     "output_type": "display_data"
    },
    {
     "data": {
      "text/html": [
       "Interstitial lung diseases (ILD) are relatively rare and sometimes become life threatening. In particular, rapidly progressive ILD, which frequently presents as acute lung injury (ALI) on lung histopathology, shows poor prognosis if proper and immediate treatments are not initiated. These devastating conditions include acute exacerbation of idiopathic pulmonary fibrosis (AE-IPF), clinically amyopathic dermatomyositis (CADM), epidermal growth factor receptor-tyrosine kinase inhibitor (EGFR-TKI)-induced lung injury, and severe acute respiratory syndrome coronavirus 2 (SARS-<b>CoV2</b>) infection named coronavirus disease 2019 (COVID-19). In this review, clinical information, physical findings, laboratory examinations, and findings on lung high-resolution computed tomography and lung histopathology are presented, focusing on majorly damaged cells in each disease. Furthermore, treatments that should be immediately initiated in clinical practice for each disease are illustrated to save patients with these diseases."
      ],
      "text/plain": [
       "<IPython.core.display.HTML object>"
      ]
     },
     "metadata": {},
     "output_type": "display_data"
    },
    {
     "data": {
      "text/plain": [
       "36501018"
      ]
     },
     "metadata": {},
     "output_type": "display_data"
    },
    {
     "data": {
      "text/plain": [
       "'Predictors of Sarcopenia in Outpatients with Post-Critical SARS-CoV2 Disease. Nutritional Ultrasound of Rectus Femoris Muscle, a Potential Tool.'"
      ]
     },
     "metadata": {},
     "output_type": "display_data"
    },
    {
     "data": {
      "text/html": [
       "The loss of muscle mass in post-critical COVID-19 outpatients is difficult to assess due to the limitations of techniques and the high prevalence of obesity. Ultrasound is an emerging technique for evaluating body composition. The aim is to evaluate sarcopenia and its risk factors, determining ultrasound usefulness as a potential tool for this purpose according to established techniques, such as the bioimpedance vector analysis (BIVA), handgrip strength, and timed up-and-go test."
      ],
      "text/plain": [
       "<IPython.core.display.HTML object>"
      ]
     },
     "metadata": {},
     "output_type": "display_data"
    },
    {
     "data": {
      "text/plain": [
       "36503438"
      ]
     },
     "metadata": {},
     "output_type": "display_data"
    },
    {
     "data": {
      "text/plain": [
       "'Severe COVID-19-associated myocarditis with cardiogenic shock - management with assist devices - a case report & review.'"
      ]
     },
     "metadata": {},
     "output_type": "display_data"
    },
    {
     "data": {
      "text/html": [
       "Primary viral myocarditis associated with severe acute respiratory syndrome coronavirus 2 (SARS-<b>Cov2</b>) infection is a rare diagnosis."
      ],
      "text/plain": [
       "<IPython.core.display.HTML object>"
      ]
     },
     "metadata": {},
     "output_type": "display_data"
    },
    {
     "data": {
      "text/plain": [
       "36505528"
      ]
     },
     "metadata": {},
     "output_type": "display_data"
    },
    {
     "data": {
      "text/plain": [
       "'Seroprevalence of SARS-CoV 2 antibodies & its determinants in children of 5-to-18-year age group in an urban setting, Kerala.'"
      ]
     },
     "metadata": {},
     "output_type": "display_data"
    },
    {
     "data": {
      "text/html": [
       "There were limited data on the true burden of COVID 19 infection in children since the majority of the infections are asymptomatic or paucisymptomatic. This study aimed to measure the prevalence of SARS <b>CoV2</b> antibodies in children of the 5-to-18 years age group."
      ],
      "text/plain": [
       "<IPython.core.display.HTML object>"
      ]
     },
     "metadata": {},
     "output_type": "display_data"
    },
    {
     "data": {
      "text/plain": [
       "36506002"
      ]
     },
     "metadata": {},
     "output_type": "display_data"
    },
    {
     "data": {
      "text/plain": [
       "'Maternal fructose boosts the effects of a Western-type diet increasing SARS-COV-2 cell entry factors in male offspring.'"
      ]
     },
     "metadata": {},
     "output_type": "display_data"
    },
    {
     "data": {
      "text/html": [
       "Fructose-rich beverages and foods consumption correlates with the epidemic rise in cardiovascular disease, diabetes and obesity. Severity of COVID-19 has been related to these metabolic diseases. Fructose-rich foods could place people at an increased risk for severe COVID-19. We investigated whether maternal fructose intake in offspring affects hepatic and ileal gene expression of proteins that permit SARS-<b>CoV2</b> entry to the cell. Carbohydrates were supplied to pregnant rats in drinking water. Adult and young male descendants subjected to water, liquid fructose alone or as a part of a Western diet, were studied. Maternal fructose reduced hepatic SARS-<b>CoV2</b> entry factors expression in older offspring. On the contrary, maternal fructose boosted the Western diet-induced increase in viral entry factors expression in ileum of young descendants. Maternal fructose intake produced a fetal programming that increases hepatic viral protection and, in contrast, exacerbates fructose plus cholesterol-induced diminution in SARS-<b>CoV2</b> protection in small intestine of progeny."
      ],
      "text/plain": [
       "<IPython.core.display.HTML object>"
      ]
     },
     "metadata": {},
     "output_type": "display_data"
    },
    {
     "data": {
      "text/plain": [
       "36507223"
      ]
     },
     "metadata": {},
     "output_type": "display_data"
    },
    {
     "data": {
      "text/plain": [
       "'Ad26.COV2.S priming provided a solid immunological base for mRNA-based COVID-19 booster vaccination.'"
      ]
     },
     "metadata": {},
     "output_type": "display_data"
    },
    {
     "data": {
      "text/html": [
       "The emergence of novel SARS-CoV-2 variants led to the recommendation of booster vaccinations after Ad26.<b>COV2</b>.S priming. It was previously shown that heterologous booster vaccination induces high antibody levels, but how heterologous boosters affect other functional aspects of the immune response remained unknown. Here, we performed immunological profiling of Ad26.<b>COV2</b>.S-primed individuals before and after homologous or heterologous (mRNA-1273 or BNT162b2) booster. Booster vaccinations increased functional antibodies targeting ancestral SARS-CoV-2 and emerging variants. Especially heterologous booster vaccinations induced high levels of functional antibodies. In contrast, T cell responses were similar in magnitude following homologous or heterologous booster vaccination, and retained cross-reactivity towards variants. Booster vaccination led to a minimal expansion of SARS-CoV-2-specific T cell clones and no increase in breadth of the T cell repertoire. In conclusion, we show that Ad26.<b>COV2</b>.S priming vaccination provided a solid immunological base for heterologous boosting, increasing humoral and cellular responses targeting emerging variants of concern."
      ],
      "text/plain": [
       "<IPython.core.display.HTML object>"
      ]
     },
     "metadata": {},
     "output_type": "display_data"
    },
    {
     "data": {
      "text/plain": [
       "36510222"
      ]
     },
     "metadata": {},
     "output_type": "display_data"
    },
    {
     "data": {
      "text/plain": [
       "'Longitudinal transcriptional analysis of peripheral blood leukocytes in COVID-19 convalescent donors.'"
      ]
     },
     "metadata": {},
     "output_type": "display_data"
    },
    {
     "data": {
      "text/html": [
       "SARS-<b>CoV2</b> can induce a strong host immune response. Many studies have evaluated antibody response following SARS-<b>CoV2</b> infections. This study investigated the immune response and T cell receptor diversity in people who had recovered from SARS-<b>CoV2</b> infection (COVID-19)."
      ],
      "text/plain": [
       "<IPython.core.display.HTML object>"
      ]
     },
     "metadata": {},
     "output_type": "display_data"
    },
    {
     "data": {
      "text/plain": [
       "36510647"
      ]
     },
     "metadata": {},
     "output_type": "display_data"
    },
    {
     "data": {
      "text/plain": [
       "\"Increased incidence of Graves'' disease during the SARS-CoV2 pandemic.\""
      ]
     },
     "metadata": {},
     "output_type": "display_data"
    },
    {
     "data": {
      "text/html": [
       "COVID-19 has a wide spectrum of clinical severity and there is evidence that SARS-<b>Cov2</b> affects several organs and systems. Among the organs affected since the beginning of the pandemic, the relationship between SARS-CoV-2 infection and thyroid involvement has been demonstrated. Novel and highly effective mRNA and DNA-based vaccines have been rapidly developed to decrease SARS-CoV-2 morbidity and mortality. Early after mass vaccinations, cases of thyroid dysfunction mainly including episodes of subacute thyroiditis, began to be reported like adverse effects. The objective of this study is to determine the impact of the pandemic, both due to SARS-<b>CoV2</b> infections and vaccinations, on the incidence of Graves´ disease."
      ],
      "text/plain": [
       "<IPython.core.display.HTML object>"
      ]
     },
     "metadata": {},
     "output_type": "display_data"
    },
    {
     "data": {
      "text/plain": [
       "36511263"
      ]
     },
     "metadata": {},
     "output_type": "display_data"
    },
    {
     "data": {
      "text/plain": [
       "'Factors Associated with Vaccine Breakthrough Incidence among Health Care Workers Vaccinated with Inactivated SARS-CoV2 Vaccine (CoronaVac).'"
      ]
     },
     "metadata": {},
     "output_type": "display_data"
    },
    {
     "data": {
      "text/html": [
       "Healthcare workers (HCWs) run a high risk of severe acute respiratory syndrome coronavirus 2 (SARS-CoV-2). The HCWs are prone to the SARS-CoV-2 infection in the hospital despite being fully vaccinated. The present study aimed to address the factors associated with the coronavirus disease 2019 (COVID-19) vaccine breakthrough among HCWs."
      ],
      "text/plain": [
       "<IPython.core.display.HTML object>"
      ]
     },
     "metadata": {},
     "output_type": "display_data"
    },
    {
     "data": {
      "text/plain": [
       "36514704"
      ]
     },
     "metadata": {},
     "output_type": "display_data"
    },
    {
     "data": {
      "text/plain": [
       "'Remdesivir-Induced Liver Injury in a Patient With Coronavirus Disease 2019 and History of Congestive Hepatopathy.'"
      ]
     },
     "metadata": {},
     "output_type": "display_data"
    },
    {
     "data": {
      "text/html": [
       "Remdesivir is an antiviral agent used as supportive care in adults with SARS-<b>COV2</b>-induced pneumonia. We report a case of an 81-year-old patient who developed hepatocellular acute liver injury 48 hours after initiating remdesivir. During the investigation, other causes of hepatotoxicity were excluded. A decrease in transaminases and international normalized ratio (INR) was observed 24 hours after cessation of remdesivir. An abdominal CT demonstrated hepatic congestion, retrograde hepatic venous opacification shortly after intravenous contrast injection, and dilatation of hepatic veins and inferior vena cava. We suggest congestive hepatopathy secondary to remdesivir as a possible component of liver injury."
      ],
      "text/plain": [
       "<IPython.core.display.HTML object>"
      ]
     },
     "metadata": {},
     "output_type": "display_data"
    }
   ],
   "source": [
    "for pmid, title, a in busca('cov2'):\n",
    "    display(pmid, title, HTML(a))"
   ]
  },
  {
   "cell_type": "markdown",
   "id": "0fe42507-50a0-4b0e-83e0-f4f24b788782",
   "metadata": {},
   "source": [
    "### Redes de Citações\n",
    "Nosso código de coleta de artigos no PubMed também construiu uma tabela de citações de cada artigo baixado."
   ]
  },
  {
   "cell_type": "code",
   "execution_count": 37,
   "id": "0f3c5cac-1fa3-4b48-b206-69e03f9b0c6c",
   "metadata": {},
   "outputs": [],
   "source": [
    "import networkx as nx"
   ]
  },
  {
   "cell_type": "code",
   "execution_count": null,
   "id": "6c602da5-6b48-4fec-86b9-9f38c9e201f1",
   "metadata": {},
   "outputs": [],
   "source": []
  },
  {
   "cell_type": "markdown",
   "id": "ccc09c97-cf27-4ee1-ad12-ed72bc3d5039",
   "metadata": {},
   "source": [
    "Vamos começar com um id de artigo que possua citações. Mas antes precisamos escrever uma função para buscar os vizinhos futuros, ou seja, os artigos que os citam."
   ]
  },
  {
   "cell_type": "code",
   "execution_count": 38,
   "id": "2106e7f1-901a-4ce9-b6f8-0cce2a1aed3e",
   "metadata": {},
   "outputs": [],
   "source": [
    "def get_neighbors(pmid):\n",
    "    engine = create_engine('sqlite:///pubmed.sqlite',\n",
    "                                    echo=False)\n",
    "    sql = f\"select cited_by from citations_covid19 where pmid={pmid};\"\n",
    "    res = engine.execute(sql).fetchone()\n",
    "    if res is not None:\n",
    "        return res[0].split('|')    "
   ]
  },
  {
   "cell_type": "markdown",
   "id": "ebf143b6-de8d-4f51-92bf-96d06a879d5c",
   "metadata": {},
   "source": [
    "Na função acima, caso não existam citações registradas, a sua saída será `None`."
   ]
  },
  {
   "cell_type": "code",
   "execution_count": 39,
   "id": "6e6592bd-c398-419b-ba55-78ed3d8af42a",
   "metadata": {},
   "outputs": [
    {
     "data": {
      "text/plain": [
       "['36502408', '36496350']"
      ]
     },
     "execution_count": 39,
     "metadata": {},
     "output_type": "execute_result"
    }
   ],
   "source": [
    "get_neighbors(36502386)"
   ]
  },
  {
   "cell_type": "markdown",
   "id": "dfd34801-9fc1-49aa-b8e4-036edf0dce53",
   "metadata": {},
   "source": [
    "Para construir a rede de citações, vamos usar um objeto fila (queue em inglês) do tipo FIFO (first in, first out). O código abaixo começa por um artigo que será a raiz da rede e o adiciona à fila. Em seguida, usando a função `get_neighbors` acima encontramos os artigos que o citam, criamos arestas na rede e os adicionamos à fila. O loop while repete estas operações até que a fila esteja vazia."
   ]
  },
  {
   "cell_type": "code",
   "execution_count": 44,
   "id": "db0ef821-640b-4db3-9a4b-4c0b29c98c35",
   "metadata": {},
   "outputs": [
    {
     "data": {
      "image/png": "[encoded data removed]",
      "text/plain": [
       "<Figure size 432x288 with 1 Axes>"
      ]
     },
     "metadata": {},
     "output_type": "display_data"
    }
   ],
   "source": [
    "from queue import SimpleQueue\n",
    "q = SimpleQueue()\n",
    "raiz = 36508742\n",
    "q.put(raiz)\n",
    "árvore = nx.DiGraph()\n",
    "while True:\n",
    "    if q.empty():\n",
    "        break\n",
    "    nó = q.get()\n",
    "    vizinhos = get_neighbors(nó)\n",
    "    if isinstance(vizinhos, list):\n",
    "        for v in vizinhos:\n",
    "            árvore.add_edge(nó, v)\n",
    "            q.put(int(v))\n",
    "# pos = nx.nx_agraph.graphviz_layout(árvore, prog=\"twopi\", args=\"\")\n",
    "pos = nx.kamada_kawai_layout(árvore)\n",
    "nx.draw(árvore, pos, with_labels=True)\n",
    "nx.draw_networkx_nodes(árvore, pos, node_size=2000, nodelist=[raiz], node_color=\"tab:orange\");"
   ]
  },
  {
   "cell_type": "markdown",
   "id": "b9c5775e-4ca4-4487-8791-956e4e573d56",
   "metadata": {},
   "source": [
    "## Estabelecendo um Gerador de Artigos\n",
    "Como de costume em análise de textos precisamos estabelecer uma metodologia de acesso gradual ao corpus para evitar problemas de consumo excessivo de memória. Neste espírito vamos começar construindo um um gerador que nos entregue um artigo por vez, a partir do nosso banco de dados."
   ]
  },
  {
   "cell_type": "code",
   "execution_count": 45,
   "id": "ff0363ec-209e-4ff4-8bb6-13b37129a91e",
   "metadata": {},
   "outputs": [],
   "source": [
    "from gensim import utils\n",
    "from sqlalchemy import create_engine"
   ]
  },
  {
   "cell_type": "code",
   "execution_count": 46,
   "id": "fcdf43be-8dd9-4edd-83be-7b565851d852",
   "metadata": {},
   "outputs": [],
   "source": [
    "class StreamCorpus(object):\n",
    "    def __init__(self, table, limit=100):\n",
    "        \"\"\"\n",
    "        Iterador sobre o corpus no banco SQLite\n",
    "        :param table: nome da tabela\n",
    "        :param limit: limite de artigos\n",
    "        \"\"\"\n",
    "        self.engine = create_engine('sqlite:///pubmed.sqlite',\n",
    "                                    echo=False)\n",
    "        self.limit = limit\n",
    "        self.table = table\n",
    "        self.conn = self.engine.connect()\n",
    "\n",
    "    @property\n",
    "    def text_gen(self):\n",
    "        return (str(text[0]) for text in\n",
    "                self.conn.execute(f\"SELECT abstract FROM {self.table} limit {self.limit}\").fetchall() if\n",
    "                text[0].strip() != '')\n",
    "\n",
    "    def __iter__(self):\n",
    "        for doc in self.text_gen:\n",
    "            yield list(utils.simple_tokenize(doc))\n",
    "        self.conn.close()\n"
   ]
  },
  {
   "cell_type": "markdown",
   "id": "9b5d830e-c50c-4e9a-a8d4-f4e0ee9bbde6",
   "metadata": {},
   "source": [
    "O código acima retorna os resumos tokenizados das referências armazenadas no banco de dados. Vamos examinar alguns destes resumos."
   ]
  },
  {
   "cell_type": "code",
   "execution_count": 47,
   "id": "e3b1547f-4299-44b6-9125-44a96db3cdef",
   "metadata": {},
   "outputs": [
    {
     "name": "stdout",
     "output_type": "stream",
     "text": [
      "['This', 'article', 'explores', 'the', 'question', 'of', 'why', 'the', 'nine', 'pandemics', 'prior', 'to', 'COVID', 'which', 'have', 'affected', 'millions', 'of', 'people', 'since', 'the', 'second', 'half', 'of', 'the', 'th', 'century', 'were', 'not', 'recorded', 'in', 'collective', 'memory', 'despite', 'their', 'magnitude', 'and', 'extent', 'Thus', 'it', 'proposes', 'a', 'reading', 'of', 'the', 'pandemic', 'as', 'one', 'component', 'of', 'a', 'wider', 'syndemic', 'made', 'up', 'of', 'contagious', 'diseases', 'climate', 'change', 'and', 'malnutrition', 'This', 'piece', 'offers', 'a', 'narrative', 'of', 'the', 'origins', 'development', 'and', 'prospects', 'of', 'the', 'pandemic', 'within', 'the', 'dynamics', 'of', 'the', 'global', 'food', 'system', 'and', 'national', 'economic', 'and', 'political', 'systems', 'highlighting', 'components', 'and', 'connections', 'It', 'includes', 'a', 'warning', 'that', 'along', 'with', 'climate', 'change', 'and', 'malnutrition', 'undernourishment', 'obesity', 'pandemics', 'are', 'known', 'and', 'expected', 'outcomes', 'of', 'the', 'workings', 'of', 'a', 'socio', 'political', 'system', 'that', 'as', 'in', 'the', 'case', 'of', 'other', 'components', 'of', 'the', 'syndemic', 'by', 'naturalizing', 'causes', 'and', 'individualizing', 'consequences', 'conspire', 'against', 'the', 'creation', 'of', 'narratives', 'that', 'go', 'beyond', 'cosmetic', 'changes']\n",
      "['The', 'decline', 'in', 'vaccination', 'coverage', 'associated', 'with', 'the', 'population', 's', 'mistrust', 'of', 'vaccines', 'has', 'been', 'defined', 'as', 'a', 'global', 'health', 'threat', 'Adopting', 'a', 'qualitative', 'approach', 'centered', 'on', 'the', 'social', 'significance', 'of', 'vaccines', 'we', 'conducted', 'semi', 'structured', 'interviews', 'with', 'mothers', 'and', 'fathers', 'in', 'the', 'City', 'of', 'Buenos', 'Aires', 'between', 'July', 'and', 'December', 'We', 'describe', 'and', 'analyze', 'their', 'knowledge', 'and', 'the', 'arguments', 'used', 'to', 'justify', 'their', 'acceptance', 'or', 'reluctance', 'to', 'vaccinate', 'their', 'children', 'in', 'the', 'context', 'of', 'COVID', 'The', 'results', 'show', 'that', 'the', 'studied', 'population', 'possesses', 'knowledge', 'about', 'vaccines', 'and', 'accepts', 'them', 'as', 'a', 'preventive', 'practice', 'Nonetheless', 'it', 'was', 'possible', 'to', 'identify', 'a', 'broad', 'spectrum', 'of', 'attitudes', 'towards', 'vaccination', 'including', 'more', 'reticent', 'positions', 'based', 'on', 'concerns', 'regarding', 'their', 'safety', 'adverse', 'effects', 'and', 'the', 'need', 'to', 'apply', 'them', 'for', 'eradicated', 'diseases', 'proposing', 'vaccination', 'as', 'an', 'optional', 'and', 'complementary', 'practice', 'to', 'other', 'care', 'practices', 'Arguments', 'are', 'organized', 'under', 'the', 'assumption', 'of', 'individual', 'and', 'moral', 'responsibility', 'for', 'health', 'care', 'an', 'expression', 'of', 'the', 'current', 'sociocultural', 'and', 'health', 'backdrop']\n",
      "['This', 'article', 'summarizes', 'the', 'strategies', 'used', 'to', 'rapidly', 'develop', 'COVID', 'vaccines', 'and', 'distribute', 'them', 'globally', 'with', 'an', 'emphasis', 'on', 'vaccines', 'developed', 'in', 'western', 'nations', 'It', 'is', 'based', 'on', 'interviews', 'and', 'information', 'gathered', 'regarding', 'the', 'response', 'to', 'the', 'pandemic', 'both', 'from', 'international', 'organizations', 'and', 'official', 'documents', 'from', 'Brazil', 'Argentina', 'Colombia', 'Peru', 'and', 'Mexico', 'While', 'vaccine', 'development', 'has', 'been', 'hailed', 'as', 'successful', 'their', 'global', 'distribution', 'has', 'been', 'highly', 'unequal', 'We', 'look', 'at', 'how', 'the', 'pandemic', 'succeeded', 'in', 'mobilizing', 'large', 'quantities', 'of', 'government', 'resources', 'and', 'how', 'citizens', 'volunteered', 'their', 'bodies', 'so', 'that', 'clinical', 'trials', 'could', 'be', 'completed', 'quickly', 'However', 'patents', 'prevented', 'the', 'expansion', 'of', 'manufacturing', 'capacity', 'and', 'the', 'governments', 'of', 'a', 'few', 'wealthy', 'countries', 'prioritized', 'the', 'protection', 'and', 'in', 'some', 'cases', 'overprotection', 'of', 'their', 'citizens', 'at', 'the', 'expense', 'of', 'protecting', 'the', 'rest', 'of', 'world', 's', 'population', 'Among', 'the', 'major', 'beneficiaries', 'of', 'the', 'global', 'response', 'to', 'the', 'pandemic', 'are', 'the', 'leading', 'vaccine', 'companies', 'their', 'executives', 'and', 'investors', 'The', 'article', 'concludes', 'with', 'some', 'of', 'the', 'lessons', 'learned', 'in', 'this', 'process']\n"
     ]
    }
   ],
   "source": [
    "SC = StreamCorpus('covid19', 1000)\n",
    "i = 0\n",
    "for abs in SC:\n",
    "    print (abs)\n",
    "    if i == 2:\n",
    "        break\n",
    "    i += 1\n"
   ]
  },
  {
   "cell_type": "markdown",
   "id": "cddc609b-9e01-4bfc-be7f-98273d8669a7",
   "metadata": {},
   "source": [
    "## Construindo Modelos Vetoriais"
   ]
  },
  {
   "cell_type": "code",
   "execution_count": 48,
   "id": "e5766b52-d587-4b61-a6c3-3fd3f8eba031",
   "metadata": {},
   "outputs": [],
   "source": [
    "from gensim.models import Doc2Vec, FastText, KeyedVectors, Word2Vec\n",
    "from gensim.models.doc2vec import TaggedLineDocument\n",
    "from gensim.models.word2vec import LineSentence\n",
    "from gensim.similarities.annoy import AnnoyIndexer\n",
    "from gensim.utils import save_as_line_sentence"
   ]
  },
  {
   "cell_type": "code",
   "execution_count": 49,
   "id": "9afba342-e047-435f-8936-4cf40238a682",
   "metadata": {},
   "outputs": [],
   "source": [
    "class Embeddings:\n",
    "    def __init__(self,table_name, filename, corpus_size):\n",
    "        \"\"\"\n",
    "        Create embeddings based on a corpus\n",
    "        :param filename: file name where the corpus with be temporarily dumped.\n",
    "        :param corpus_size: number of documents to be used to build the embeddings\n",
    "        \"\"\"\n",
    "        self.table_name = table_name\n",
    "        self.filename = filename\n",
    "        self.corpus_size = corpus_size\n",
    "\n",
    "    def dump_to_corpus_file(self, table_name):\n",
    "        stream_corpus = StreamCorpus(self.table_name, self.corpus_size)\n",
    "        save_as_line_sentence(stream_corpus, self.filename)\n",
    "\n",
    "    def gen_wor2vec(self):\n",
    "        \"\"\"\n",
    "        Build Word2Vec embedding\n",
    "        :return:\n",
    "        \"\"\"\n",
    "        model = Word2Vec(sentences=LineSentence(self.filename), workers=8)\n",
    "        model.save(f\"{self.filename.split('.')[0]}.w2v\")\n",
    "        return model\n",
    "    \n",
    "    def gen_WMD(self):\n",
    "        model = Word2Vec\n",
    "\n",
    "    def gen_fasttext(self):\n",
    "        model = FastText(sentences=LineSentence(self.filename), workers=8)\n",
    "        model.save(f\"{self.filename.split('.')[0]}.ft\")\n",
    "        return model\n",
    "\n",
    "    def gen_doc2vec(self):\n",
    "        model = Doc2Vec(documents=TaggedLineDocument(self.filename), workers=8)\n",
    "        model.save(f\"{self.filename.split('.')[0]}.d2v\")\n",
    "        return model"
   ]
  },
  {
   "cell_type": "markdown",
   "id": "052cfc5b-99db-4405-9086-5734804e7cf0",
   "metadata": {},
   "source": [
    "### Modelo Word2Vec"
   ]
  },
  {
   "cell_type": "code",
   "execution_count": 50,
   "id": "a7365ab6-7d42-4c0d-852c-8893086f49a5",
   "metadata": {},
   "outputs": [],
   "source": [
    "# del SC\n",
    "E = Embeddings('covid19','articles.txt',1000)\n",
    "E.dump_to_corpus_file('articles')\n",
    "mwv = E.gen_wor2vec()"
   ]
  },
  {
   "cell_type": "code",
   "execution_count": 51,
   "id": "3cc2268d-7ded-47ce-85d9-29c742e8ba6b",
   "metadata": {},
   "outputs": [
    {
     "data": {
      "text/plain": [
       "[('syndrome', 0.9543189406394958),\n",
       " ('respiratory', 0.9537762403488159),\n",
       " ('acute', 0.9496352076530457),\n",
       " ('infection', 0.9480603337287903),\n",
       " ('coronavirus', 0.9478137493133545),\n",
       " ('severe', 0.9424639344215393),\n",
       " ('disease', 0.918355405330658),\n",
       " ('CoV', 0.915025532245636),\n",
       " ('corona', 0.914029061794281),\n",
       " ('caused', 0.8789240717887878)]"
      ]
     },
     "execution_count": 51,
     "metadata": {},
     "output_type": "execute_result"
    }
   ],
   "source": [
    "mwv.wv.most_similar('SARS')"
   ]
  },
  {
   "cell_type": "markdown",
   "id": "a2414740-6ec7-4e99-83b4-8d2b2a809865",
   "metadata": {},
   "source": [
    "### Modelo \"Fast Text\"\n",
    "O modelo Fast text nos permite lidar com variações morfológicas das palavras"
   ]
  },
  {
   "cell_type": "code",
   "execution_count": 52,
   "id": "b2db652d-623c-4ea9-8e68-a724ae0089f1",
   "metadata": {},
   "outputs": [],
   "source": [
    "E = Embeddings('covid19','articles.txt',1000)\n",
    "E.dump_to_corpus_file('articles')\n",
    "mft = E.gen_fasttext()"
   ]
  },
  {
   "cell_type": "code",
   "execution_count": 53,
   "id": "c898e248-4a9d-4ea8-a2d2-6ddf77cf14af",
   "metadata": {},
   "outputs": [
    {
     "data": {
      "text/plain": [
       "[('CoV', 0.9942441582679749),\n",
       " ('coronaviruses', 0.9934917092323303),\n",
       " ('virus', 0.993304967880249),\n",
       " ('infect', 0.9931924343109131),\n",
       " ('corona', 0.9928044676780701),\n",
       " ('ARS', 0.9926421642303467),\n",
       " ('syndrome', 0.9925889372825623),\n",
       " ('pseudovirus', 0.9925788640975952),\n",
       " ('Syndrome', 0.9924823045730591),\n",
       " ('Coronaviridae', 0.9921442270278931)]"
      ]
     },
     "execution_count": 53,
     "metadata": {},
     "output_type": "execute_result"
    }
   ],
   "source": [
    "mft.wv.most_similar('SARS')"
   ]
  },
  {
   "cell_type": "markdown",
   "id": "2351c39a-0bd9-4827-8aef-37a9eff5ab44",
   "metadata": {},
   "source": [
    "### Modelo Doc2Vec\n",
    "Este modelo constroi uma representação vetorial dos documentos permitindo consultas de similaridade entre artigos."
   ]
  },
  {
   "cell_type": "code",
   "execution_count": 54,
   "id": "3f3b8bfc-592c-4015-b356-62befc89bfe5",
   "metadata": {},
   "outputs": [],
   "source": [
    "E = Embeddings('covid19','articles.txt',1000)\n",
    "E.dump_to_corpus_file('articles')\n",
    "mdv = E.gen_doc2vec()"
   ]
  },
  {
   "cell_type": "markdown",
   "id": "3e517e7d-e022-4e5b-8837-368a9fec39e9",
   "metadata": {},
   "source": [
    "Podemos encontrar quais os documentos mais similar a um texto (já tokenizado):"
   ]
  },
  {
   "cell_type": "code",
   "execution_count": 55,
   "id": "be8f36cb-68d4-4f34-aa30-2de0134ef91a",
   "metadata": {},
   "outputs": [
    {
     "data": {
      "text/plain": [
       "[(123, 0.9564133882522583),\n",
       " (70, 0.9324836134910583),\n",
       " (564, 0.9246233701705933),\n",
       " (46, 0.9208188652992249),\n",
       " (567, 0.9157204627990723),\n",
       " (81, 0.9155042767524719),\n",
       " (3, 0.9149802923202515),\n",
       " (563, 0.9073331952095032),\n",
       " (148, 0.9021652340888977),\n",
       " (852, 0.9019087553024292)]"
      ]
     },
     "execution_count": 55,
     "metadata": {},
     "output_type": "execute_result"
    }
   ],
   "source": [
    "texto = ['Spontaneous', 'adverse', 'reaction', 'reports', 'of', 'sudden', 'hearing', 'loss', 'have', 'been', \n",
    "         'observed', 'and', 'a', 'population', 'based', 'cohort', 'study', 'conducted', 'in', 'Israel', 'showed', \n",
    "         'an', 'increase', 'in', 'the', 'incidence', 'of', 'sudden', 'sensorineural', 'hearing', 'loss', 'SSNHL', \n",
    "         'following', 'vaccination', 'with', 'messenger', 'RNA', 'COVID', 'vaccine', 'BNT', 'b', 'Pfizer', 'BioNTech', \n",
    "         'However', 'in', 'this', 'setting', 'the', 'possibility', 'of', 'confounding', 'remained']\n",
    "inferred_vector = mdv.infer_vector(texto)\n",
    "sims = mdv.dv.most_similar([inferred_vector], topn=10)\n",
    "sims"
   ]
  },
  {
   "cell_type": "markdown",
   "id": "8d34a8de-6424-4c98-9a6b-a50e2d8b1354",
   "metadata": {},
   "source": [
    "## Consultando a partir do Google Acadêmico  (GA)"
   ]
  },
  {
   "cell_type": "code",
   "execution_count": 56,
   "id": "1b71a34e-8eba-4526-b0d0-76e6a9a18c17",
   "metadata": {},
   "outputs": [],
   "source": [
    "from scholarly import scholarly\n",
    "import pandas as pd"
   ]
  },
  {
   "cell_type": "markdown",
   "id": "6551bc76-4924-4f63-8ff9-f1cf736c61b1",
   "metadata": {},
   "source": [
    "No GA podemos facilmente buscar por autor. Por exemplo:"
   ]
  },
  {
   "cell_type": "code",
   "execution_count": 57,
   "id": "a89d1889-ebaf-404c-9d0c-5d0e5cbaf762",
   "metadata": {},
   "outputs": [
    {
     "data": {
      "text/plain": [
       "{'container_type': 'Author',\n",
       " 'filled': [],\n",
       " 'source': <AuthorSource.SEARCH_AUTHOR_SNIPPETS: 'SEARCH_AUTHOR_SNIPPETS'>,\n",
       " 'scholar_id': 'rbgNVw0AAAAJ',\n",
       " 'url_picture': 'https://scholar.google.com/citations?view_op=medium_photo&user=rbgNVw0AAAAJ',\n",
       " 'name': 'Noam Chomsky',\n",
       " 'affiliation': 'Professor of Linguistics (Emeritus), MIT',\n",
       " 'email_domain': '',\n",
       " 'interests': ['Linguistic Theory',\n",
       "  'Syntax',\n",
       "  'Semantics',\n",
       "  'Philosophy of Language'],\n",
       " 'citedby': 469642}"
      ]
     },
     "execution_count": 57,
     "metadata": {},
     "output_type": "execute_result"
    }
   ],
   "source": [
    "search_query = scholarly.search_author('Noam Chomsky')\n",
    "author = next(search_query)\n",
    "author"
   ]
  },
  {
   "cell_type": "markdown",
   "id": "c61d6f76-4c2c-44e9-94cc-735b4c9cfebe",
   "metadata": {},
   "source": [
    "E então podemos listar suas publicações:"
   ]
  },
  {
   "cell_type": "code",
   "execution_count": 58,
   "id": "4a2474f1-21f8-4881-8a4c-e9c935e506b3",
   "metadata": {},
   "outputs": [],
   "source": [
    "pubs = []\n",
    "author = scholarly.fill(author) # Pegando mais detalhes\n",
    "for pub in author['publications']:\n",
    "    # pub = scholarly.fill(pub)\n",
    "    pubs.append(pub)"
   ]
  },
  {
   "cell_type": "code",
   "execution_count": 59,
   "id": "f8c800f1-63ad-42a4-b9f2-e2bf56e27d9f",
   "metadata": {},
   "outputs": [
    {
     "data": {
      "text/html": [
       "<div>\n",
       "<style scoped>\n",
       "    .dataframe tbody tr th:only-of-type {\n",
       "        vertical-align: middle;\n",
       "    }\n",
       "\n",
       "    .dataframe tbody tr th {\n",
       "        vertical-align: top;\n",
       "    }\n",
       "\n",
       "    .dataframe thead th {\n",
       "        text-align: right;\n",
       "    }\n",
       "</style>\n",
       "<table border=\"1\" class=\"dataframe\">\n",
       "  <thead>\n",
       "    <tr style=\"text-align: right;\">\n",
       "      <th></th>\n",
       "      <th>container_type</th>\n",
       "      <th>source</th>\n",
       "      <th>bib</th>\n",
       "      <th>filled</th>\n",
       "      <th>author_pub_id</th>\n",
       "      <th>num_citations</th>\n",
       "      <th>citedby_url</th>\n",
       "      <th>cites_id</th>\n",
       "    </tr>\n",
       "  </thead>\n",
       "  <tbody>\n",
       "    <tr>\n",
       "      <th>0</th>\n",
       "      <td>Publication</td>\n",
       "      <td>PublicationSource.AUTHOR_PUBLICATION_ENTRY</td>\n",
       "      <td>{'title': 'Aspects of the Theory of Syntax', '...</td>\n",
       "      <td>False</td>\n",
       "      <td>rbgNVw0AAAAJ:znQEAXyEQe8C</td>\n",
       "      <td>46180</td>\n",
       "      <td>https://scholar.google.com/scholar?oi=bibs&amp;hl=...</td>\n",
       "      <td>[1562037976341778186, 12173110054263842167]</td>\n",
       "    </tr>\n",
       "    <tr>\n",
       "      <th>1</th>\n",
       "      <td>Publication</td>\n",
       "      <td>PublicationSource.AUTHOR_PUBLICATION_ENTRY</td>\n",
       "      <td>{'title': 'The minimalist program', 'pub_year'...</td>\n",
       "      <td>False</td>\n",
       "      <td>rbgNVw0AAAAJ:u-x6o8ySG0sC</td>\n",
       "      <td>31996</td>\n",
       "      <td>https://scholar.google.com/scholar?oi=bibs&amp;hl=...</td>\n",
       "      <td>[8207792600950810812, 13969899446789541878]</td>\n",
       "    </tr>\n",
       "    <tr>\n",
       "      <th>2</th>\n",
       "      <td>Publication</td>\n",
       "      <td>PublicationSource.AUTHOR_PUBLICATION_ENTRY</td>\n",
       "      <td>{'title': 'Syntactic structures', 'pub_year': ...</td>\n",
       "      <td>False</td>\n",
       "      <td>rbgNVw0AAAAJ:9yKSN-GCB0IC</td>\n",
       "      <td>29918</td>\n",
       "      <td>https://scholar.google.com/scholar?oi=bibs&amp;hl=...</td>\n",
       "      <td>[2377703172325862585, 2983526281934768995, 485...</td>\n",
       "    </tr>\n",
       "    <tr>\n",
       "      <th>3</th>\n",
       "      <td>Publication</td>\n",
       "      <td>PublicationSource.AUTHOR_PUBLICATION_ENTRY</td>\n",
       "      <td>{'title': 'Lectures on government and binding:...</td>\n",
       "      <td>False</td>\n",
       "      <td>rbgNVw0AAAAJ:uDl620nrkPcC</td>\n",
       "      <td>28480</td>\n",
       "      <td>https://scholar.google.com/scholar?oi=bibs&amp;hl=...</td>\n",
       "      <td>[14028218170953085261, 4036591927768088961, 56...</td>\n",
       "    </tr>\n",
       "    <tr>\n",
       "      <th>4</th>\n",
       "      <td>Publication</td>\n",
       "      <td>PublicationSource.AUTHOR_PUBLICATION_ENTRY</td>\n",
       "      <td>{'title': 'The sound pattern of English.', 'pu...</td>\n",
       "      <td>False</td>\n",
       "      <td>rbgNVw0AAAAJ:2osOgNQ5qMEC</td>\n",
       "      <td>18935</td>\n",
       "      <td>https://scholar.google.com/scholar?oi=bibs&amp;hl=...</td>\n",
       "      <td>[1979786673247734672, 8099357462174375894]</td>\n",
       "    </tr>\n",
       "    <tr>\n",
       "      <th>...</th>\n",
       "      <td>...</td>\n",
       "      <td>...</td>\n",
       "      <td>...</td>\n",
       "      <td>...</td>\n",
       "      <td>...</td>\n",
       "      <td>...</td>\n",
       "      <td>...</td>\n",
       "      <td>...</td>\n",
       "    </tr>\n",
       "    <tr>\n",
       "      <th>2526</th>\n",
       "      <td>Publication</td>\n",
       "      <td>PublicationSource.AUTHOR_PUBLICATION_ENTRY</td>\n",
       "      <td>{'title': 'EDITOR: Murray Eden EDITORIAL BOARD...</td>\n",
       "      <td>False</td>\n",
       "      <td>rbgNVw0AAAAJ:4MWp96NkSFoC</td>\n",
       "      <td>0</td>\n",
       "      <td>NaN</td>\n",
       "      <td>NaN</td>\n",
       "    </tr>\n",
       "    <tr>\n",
       "      <th>2527</th>\n",
       "      <td>Publication</td>\n",
       "      <td>PublicationSource.AUTHOR_PUBLICATION_ENTRY</td>\n",
       "      <td>{'title': 'EINGEGANGENE SCHRIFTEN', 'citation'...</td>\n",
       "      <td>False</td>\n",
       "      <td>rbgNVw0AAAAJ:BUYA1_V_uYcC</td>\n",
       "      <td>0</td>\n",
       "      <td>NaN</td>\n",
       "      <td>NaN</td>\n",
       "    </tr>\n",
       "    <tr>\n",
       "      <th>2528</th>\n",
       "      <td>Publication</td>\n",
       "      <td>PublicationSource.AUTHOR_PUBLICATION_ENTRY</td>\n",
       "      <td>{'title': 'AJ Kfoury', 'citation': ''}</td>\n",
       "      <td>False</td>\n",
       "      <td>rbgNVw0AAAAJ:EkHepimYqZsC</td>\n",
       "      <td>0</td>\n",
       "      <td>NaN</td>\n",
       "      <td>NaN</td>\n",
       "    </tr>\n",
       "    <tr>\n",
       "      <th>2529</th>\n",
       "      <td>Publication</td>\n",
       "      <td>PublicationSource.AUTHOR_PUBLICATION_ENTRY</td>\n",
       "      <td>{'title': 'EDITOR: Murray Eden', 'citation': ''}</td>\n",
       "      <td>False</td>\n",
       "      <td>rbgNVw0AAAAJ:yB1At4FlUx8C</td>\n",
       "      <td>0</td>\n",
       "      <td>NaN</td>\n",
       "      <td>NaN</td>\n",
       "    </tr>\n",
       "    <tr>\n",
       "      <th>2530</th>\n",
       "      <td>Publication</td>\n",
       "      <td>PublicationSource.AUTHOR_PUBLICATION_ENTRY</td>\n",
       "      <td>{'title': 'Cumulatiw Contents of Voluares II t...</td>\n",
       "      <td>False</td>\n",
       "      <td>rbgNVw0AAAAJ:9Nmd_mFXekcC</td>\n",
       "      <td>0</td>\n",
       "      <td>NaN</td>\n",
       "      <td>NaN</td>\n",
       "    </tr>\n",
       "  </tbody>\n",
       "</table>\n",
       "<p>2531 rows × 8 columns</p>\n",
       "</div>"
      ],
      "text/plain": [
       "     container_type                                      source  \\\n",
       "0       Publication  PublicationSource.AUTHOR_PUBLICATION_ENTRY   \n",
       "1       Publication  PublicationSource.AUTHOR_PUBLICATION_ENTRY   \n",
       "2       Publication  PublicationSource.AUTHOR_PUBLICATION_ENTRY   \n",
       "3       Publication  PublicationSource.AUTHOR_PUBLICATION_ENTRY   \n",
       "4       Publication  PublicationSource.AUTHOR_PUBLICATION_ENTRY   \n",
       "...             ...                                         ...   \n",
       "2526    Publication  PublicationSource.AUTHOR_PUBLICATION_ENTRY   \n",
       "2527    Publication  PublicationSource.AUTHOR_PUBLICATION_ENTRY   \n",
       "2528    Publication  PublicationSource.AUTHOR_PUBLICATION_ENTRY   \n",
       "2529    Publication  PublicationSource.AUTHOR_PUBLICATION_ENTRY   \n",
       "2530    Publication  PublicationSource.AUTHOR_PUBLICATION_ENTRY   \n",
       "\n",
       "                                                    bib  filled  \\\n",
       "0     {'title': 'Aspects of the Theory of Syntax', '...   False   \n",
       "1     {'title': 'The minimalist program', 'pub_year'...   False   \n",
       "2     {'title': 'Syntactic structures', 'pub_year': ...   False   \n",
       "3     {'title': 'Lectures on government and binding:...   False   \n",
       "4     {'title': 'The sound pattern of English.', 'pu...   False   \n",
       "...                                                 ...     ...   \n",
       "2526  {'title': 'EDITOR: Murray Eden EDITORIAL BOARD...   False   \n",
       "2527  {'title': 'EINGEGANGENE SCHRIFTEN', 'citation'...   False   \n",
       "2528             {'title': 'AJ Kfoury', 'citation': ''}   False   \n",
       "2529   {'title': 'EDITOR: Murray Eden', 'citation': ''}   False   \n",
       "2530  {'title': 'Cumulatiw Contents of Voluares II t...   False   \n",
       "\n",
       "                  author_pub_id  num_citations  \\\n",
       "0     rbgNVw0AAAAJ:znQEAXyEQe8C          46180   \n",
       "1     rbgNVw0AAAAJ:u-x6o8ySG0sC          31996   \n",
       "2     rbgNVw0AAAAJ:9yKSN-GCB0IC          29918   \n",
       "3     rbgNVw0AAAAJ:uDl620nrkPcC          28480   \n",
       "4     rbgNVw0AAAAJ:2osOgNQ5qMEC          18935   \n",
       "...                         ...            ...   \n",
       "2526  rbgNVw0AAAAJ:4MWp96NkSFoC              0   \n",
       "2527  rbgNVw0AAAAJ:BUYA1_V_uYcC              0   \n",
       "2528  rbgNVw0AAAAJ:EkHepimYqZsC              0   \n",
       "2529  rbgNVw0AAAAJ:yB1At4FlUx8C              0   \n",
       "2530  rbgNVw0AAAAJ:9Nmd_mFXekcC              0   \n",
       "\n",
       "                                            citedby_url  \\\n",
       "0     https://scholar.google.com/scholar?oi=bibs&hl=...   \n",
       "1     https://scholar.google.com/scholar?oi=bibs&hl=...   \n",
       "2     https://scholar.google.com/scholar?oi=bibs&hl=...   \n",
       "3     https://scholar.google.com/scholar?oi=bibs&hl=...   \n",
       "4     https://scholar.google.com/scholar?oi=bibs&hl=...   \n",
       "...                                                 ...   \n",
       "2526                                                NaN   \n",
       "2527                                                NaN   \n",
       "2528                                                NaN   \n",
       "2529                                                NaN   \n",
       "2530                                                NaN   \n",
       "\n",
       "                                               cites_id  \n",
       "0           [1562037976341778186, 12173110054263842167]  \n",
       "1           [8207792600950810812, 13969899446789541878]  \n",
       "2     [2377703172325862585, 2983526281934768995, 485...  \n",
       "3     [14028218170953085261, 4036591927768088961, 56...  \n",
       "4            [1979786673247734672, 8099357462174375894]  \n",
       "...                                                 ...  \n",
       "2526                                                NaN  \n",
       "2527                                                NaN  \n",
       "2528                                                NaN  \n",
       "2529                                                NaN  \n",
       "2530                                                NaN  \n",
       "\n",
       "[2531 rows x 8 columns]"
      ]
     },
     "execution_count": 59,
     "metadata": {},
     "output_type": "execute_result"
    }
   ],
   "source": [
    "dfpubs = pd.DataFrame(pubs)\n",
    "dfpubs"
   ]
  },
  {
   "cell_type": "code",
   "execution_count": null,
   "id": "8a41b335-1d87-4d9d-9be8-e7eca33f5a74",
   "metadata": {},
   "outputs": [],
   "source": []
  }
 ],
 "metadata": {
  "kernelspec": {
   "display_name": "Python 3 (ipykernel)",
   "language": "python",
   "name": "python3"
  },
  "language_info": {
   "codemirror_mode": {
    "name": "ipython",
    "version": 3
   },
   "file_extension": ".py",
   "mimetype": "text/x-python",
   "name": "python",
   "nbconvert_exporter": "python",
   "pygments_lexer": "ipython3",
   "version": "3.10.6"
  }
 },
 "nbformat": 4,
 "nbformat_minor": 5
}
