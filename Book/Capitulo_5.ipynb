{
 "cells": [
  {
   "cell_type": "markdown",
   "metadata": {},
   "source": [
    "# Construindo um Classificador de Textos\n",
    "Uma das aplicações mais comuns em mineração de textos é a classificações de documentos em categorias pré-definidas, sejam elas autorais, temáticas, temporais ou outras. \n",
    "\n",
    "Neste capítulo iremos explorar os passos necessários para o desenvolvimento de um classificador de documentos utilizando as análises feitas sobre o corpus do DHBB nos capítulos anteriores.\n",
    "\n",
    "Para esta tarefa utilizaremos modelos de machine learning clássicos disponibilizados na biblioteca [Scikit-Learn](https://scikit-learn.org/). Começaremos então importando algumas funcionalidades a partir do Scikit-Learn. Os demais imports já foram utilizados anteriormente."
   ]
  },
  {
   "cell_type": "code",
   "metadata": {
    "tags": [
     "hide-input"
    ],
    "ExecuteTime": {
     "end_time": "2025-05-08T19:17:55.665572Z",
     "start_time": "2025-05-08T19:17:55.655301Z"
    }
   },
   "source": [
    "import warnings\n",
    "warnings.filterwarnings('ignore')"
   ],
   "outputs": [],
   "execution_count": 1
  },
  {
   "cell_type": "code",
   "metadata": {
    "ExecuteTime": {
     "end_time": "2025-05-08T19:18:02.345619Z",
     "start_time": "2025-05-08T19:17:56.351408Z"
    }
   },
   "source": [
    "from sklearn.ensemble import RandomForestClassifier, VotingClassifier\n",
    "from sklearn.ensemble import ExtraTreesClassifier\n",
    "from sklearn.pipeline import make_pipeline\n",
    "from sklearn.svm import SVC\n",
    "from sklearn.metrics import classification_report\n",
    "from sklearn.model_selection import StratifiedKFold, cross_val_score, cross_val_predict, train_test_split\n",
    "from sklearn.metrics import roc_curve, auc\n",
    "from sklearn.preprocessing import StandardScaler\n",
    "from gensim.models import Word2Vec, word2vec\n",
    "import spacy\n",
    "from spacy import displacy\n",
    "from string import punctuation\n",
    "from sqlalchemy import create_engine\n",
    "import pandas as pd\n",
    "import numpy as np\n",
    "import os"
   ],
   "outputs": [],
   "execution_count": 2
  },
  {
   "cell_type": "markdown",
   "metadata": {},
   "source": [
    "## Preparando o corpus\n",
    "Vamos utilizar o corpus do DHBB conforme armazenado na biblioteca SQLite anteriormente. Abaixo iremos desenvolver um iterador sobre o corpus que fará um preprocessamento básico dos documentos."
   ]
  },
  {
   "cell_type": "code",
   "metadata": {
    "ExecuteTime": {
     "end_time": "2025-05-08T19:18:08.381209Z",
     "start_time": "2025-05-08T19:18:07.218059Z"
    }
   },
   "source": [
    "eng = create_engine(\"sqlite:///minha_tabela.sqlite\")\n",
    "nlp = spacy.load(\"pt_core_news_sm\")\n",
    "class DHBBCorpus:\n",
    "    def __init__(self, ndocs=10000, process=True):\n",
    "        self.process = process\n",
    "        self.ndocs = min(7838,ndocs)\n",
    "        self.counter = 1\n",
    "    def __iter__(self):\n",
    "        with eng.connect() as con:\n",
    "            res = con.execute(f'select corpo from resultados limit {self.ndocs};')\n",
    "            for doc in res:\n",
    "                if self.process:\n",
    "                    d = self.pre_process(doc[0])\n",
    "                else: \n",
    "                    d = doc[0]\n",
    "                if self.counter%10 == 0:\n",
    "                    print (f\"Verbete {self.counter} de {self.ndocs}\\r\", end='')\n",
    "                \n",
    "                yield d\n",
    "                self.counter += 1\n",
    "    def pre_process(self, doc):\n",
    "        n = nlp(doc, disable=['tagger', 'ner','entity-linker', 'textcat','entity-ruler','merge-noun-chunks','merge-entities','merge-subtokens'])\n",
    "        results = [token.text.strip().strip(punctuation) for token in n if not token.is_stop]\n",
    "        return results"
   ],
   "outputs": [],
   "execution_count": 3
  },
  {
   "cell_type": "markdown",
   "metadata": {},
   "source": [
    "## Carregando o Modelo Word2vec\n",
    "Vamos utilizar a representação vetorial do corpus construida anteriormente como base para o treinamento do classificador. "
   ]
  },
  {
   "cell_type": "code",
   "execution_count": 4,
   "metadata": {
    "ExecuteTime": {
     "end_time": "2023-10-11T14:08:06.407543673Z",
     "start_time": "2023-10-11T14:08:05.254113389Z"
    }
   },
   "outputs": [],
   "source": [
    "model = Word2Vec.load('dhbb.w2v')"
   ]
  },
  {
   "cell_type": "code",
   "execution_count": 5,
   "metadata": {
    "ExecuteTime": {
     "end_time": "2023-10-11T14:08:07.296012578Z",
     "start_time": "2023-10-11T14:08:07.255498159Z"
    }
   },
   "outputs": [
    {
     "data": {
      "text/plain": "(38762, 100)"
     },
     "execution_count": 5,
     "metadata": {},
     "output_type": "execute_result"
    }
   ],
   "source": [
    "model.wv.vectors.shape"
   ]
  },
  {
   "cell_type": "markdown",
   "metadata": {},
   "source": [
    "Como  o word2vec é uma representação vetorial do vocabulário do corpus, e desejamos treinar um modelo para classificar documentos, precisamos primeiro construir uma representação dos documentos do corpus no mesmo espaço vetorial gerado pelo Word2vec.\n",
    "\n",
    "Na função abaixo, contruimos um vetor de documento que é a média dos vetores das palavras únicas que este contém."
   ]
  },
  {
   "cell_type": "code",
   "execution_count": 6,
   "metadata": {
    "code_folding": [],
    "ExecuteTime": {
     "end_time": "2023-10-11T14:08:10.089467897Z",
     "start_time": "2023-10-11T14:08:10.064802108Z"
    }
   },
   "outputs": [],
   "source": [
    "def build_document_vector(text):\n",
    "    \"\"\"\n",
    "    Build a scaled vector for the document (mean of the words present in it)\n",
    "    :param text: document to be vectorized (tokenized)\n",
    "    :param model: word2vec model\n",
    "    :return:\n",
    "    \"\"\"\n",
    "    feature_count = model.wv.vectors.shape[1]\n",
    "    vec = np.zeros(feature_count).reshape((1, feature_count))\n",
    "    count = 0.\n",
    "    \n",
    "\n",
    "    for word in text:\n",
    "        try:\n",
    "            vec += model.wv[word].reshape((1, feature_count))\n",
    "            count += 1.\n",
    "        except KeyError:\n",
    "            continue\n",
    "    if count != 0:\n",
    "        vec /= count\n",
    "    return vec"
   ]
  },
  {
   "cell_type": "code",
   "execution_count": 7,
   "metadata": {
    "ExecuteTime": {
     "end_time": "2023-10-11T14:08:11.177585830Z",
     "start_time": "2023-10-11T14:08:11.119239268Z"
    }
   },
   "outputs": [],
   "source": [
    "\n",
    "def gera_docv(n):\n",
    "    corpus = DHBBCorpus(n)\n",
    "    for doc in corpus:\n",
    "        v = build_document_vector(set(doc))\n",
    "        yield v\n"
   ]
  },
  {
   "cell_type": "markdown",
   "metadata": {},
   "source": [
    "## Preparando os dados treinamento do Classificador\n",
    "Abaixo vamos calcular os vetores dos documentos no espaço definido pelo W2V. Como este é um processo longo vamos salvar o resultado, para não ter que re-gerar os vetores de documento das próximas vezes."
   ]
  },
  {
   "cell_type": "code",
   "execution_count": 8,
   "metadata": {
    "ExecuteTime": {
     "end_time": "2023-10-11T14:08:13.587285932Z",
     "start_time": "2023-10-11T14:08:13.149671055Z"
    }
   },
   "outputs": [
    {
     "data": {
      "text/plain": "      Unnamed: 0         0         1         2         3         4         5  \\\n0              0  0.251411 -0.092618 -0.367610  0.156986 -0.339056 -0.080486   \n1              1 -0.444796 -0.107734 -0.371062  0.248178 -0.342896  0.180991   \n2              2 -0.186797 -0.099321 -0.489939  0.603691 -0.220742  0.163514   \n3              3 -0.015474 -0.331179 -0.188871  0.071852 -0.118083  0.273842   \n4              4 -0.069459  0.000653 -0.267939  0.539355 -0.167328 -0.028850   \n...          ...       ...       ...       ...       ...       ...       ...   \n7833        7833 -0.069599  0.153431 -0.571671  0.378038 -0.248409 -0.060014   \n7834        7834 -0.170249 -0.081334 -0.492545  0.443016 -0.041892  0.183765   \n7835        7835 -0.382044 -0.422822 -0.587220  0.320492 -0.226514  0.172044   \n7836        7836  0.226604 -0.230992 -0.294525 -0.005927 -0.293173  0.076686   \n7837        7837 -0.403669 -0.057501 -0.323550  0.505035  0.161119  0.269930   \n\n             6         7         8  ...        90        91        92  \\\n0     0.192228 -0.230927 -0.129720  ... -0.354930  0.257672 -0.182260   \n1     0.622804  0.390060 -0.197826  ...  0.162281 -0.923582 -0.449693   \n2     0.201998 -0.068645 -0.170712  ...  0.309139 -0.249686 -0.252961   \n3     0.244981 -0.070634 -0.275265  ...  0.048260  0.186905 -0.201033   \n4     0.572703  0.225255 -0.364476  ...  0.073481 -0.567660 -0.298699   \n...        ...       ...       ...  ...       ...       ...       ...   \n7833  0.452256  0.176986 -0.235890  ... -0.191336 -0.586688 -0.180140   \n7834  0.371429  0.106385 -0.080806  ...  0.225322 -0.254757 -0.258577   \n7835  0.616719 -0.043985 -0.258257  ... -0.005524 -0.341694 -0.393351   \n7836  0.057251 -0.154211 -0.186203  ... -0.148946  0.358122 -0.054703   \n7837  0.552717  0.165518 -0.195108  ...  0.346420 -0.500232 -0.054664   \n\n            93        94        95        96        97        98        99  \n0    -0.072084  0.155995  0.025738 -0.186744 -0.309680  0.003222  0.116559  \n1    -0.194215  0.884861  0.355686  0.418442 -0.504399 -1.110405  0.292351  \n2    -0.000214  0.428697  0.477869  0.114001 -0.259199 -0.860501  0.281628  \n3    -0.294315 -0.119009  0.070466 -0.013867 -0.257075 -0.069757  0.215312  \n4    -0.237357  0.528733  0.298273  0.037333 -0.491313 -0.742250  0.370616  \n...        ...       ...       ...       ...       ...       ...       ...  \n7833 -0.130464  0.625573  0.382755  0.069184 -0.546153 -0.663578  0.326829  \n7834  0.014742  0.309729  0.376458  0.032279 -0.256777 -0.743823  0.226570  \n7835 -0.104909  0.011569  0.355231  0.376438 -0.383147 -0.443361  0.176735  \n7836 -0.052285  0.038732  0.011719 -0.135485 -0.256960  0.012294  0.020287  \n7837  0.061566  0.117811  0.438892  0.224275 -0.340123 -0.692458  0.498602  \n\n[7838 rows x 101 columns]",
      "text/html": "<div>\n<style scoped>\n    .dataframe tbody tr th:only-of-type {\n        vertical-align: middle;\n    }\n\n    .dataframe tbody tr th {\n        vertical-align: top;\n    }\n\n    .dataframe thead th {\n        text-align: right;\n    }\n</style>\n<table border=\"1\" class=\"dataframe\">\n  <thead>\n    <tr style=\"text-align: right;\">\n      <th></th>\n      <th>Unnamed: 0</th>\n      <th>0</th>\n      <th>1</th>\n      <th>2</th>\n      <th>3</th>\n      <th>4</th>\n      <th>5</th>\n      <th>6</th>\n      <th>7</th>\n      <th>8</th>\n      <th>...</th>\n      <th>90</th>\n      <th>91</th>\n      <th>92</th>\n      <th>93</th>\n      <th>94</th>\n      <th>95</th>\n      <th>96</th>\n      <th>97</th>\n      <th>98</th>\n      <th>99</th>\n    </tr>\n  </thead>\n  <tbody>\n    <tr>\n      <th>0</th>\n      <td>0</td>\n      <td>0.251411</td>\n      <td>-0.092618</td>\n      <td>-0.367610</td>\n      <td>0.156986</td>\n      <td>-0.339056</td>\n      <td>-0.080486</td>\n      <td>0.192228</td>\n      <td>-0.230927</td>\n      <td>-0.129720</td>\n      <td>...</td>\n      <td>-0.354930</td>\n      <td>0.257672</td>\n      <td>-0.182260</td>\n      <td>-0.072084</td>\n      <td>0.155995</td>\n      <td>0.025738</td>\n      <td>-0.186744</td>\n      <td>-0.309680</td>\n      <td>0.003222</td>\n      <td>0.116559</td>\n    </tr>\n    <tr>\n      <th>1</th>\n      <td>1</td>\n      <td>-0.444796</td>\n      <td>-0.107734</td>\n      <td>-0.371062</td>\n      <td>0.248178</td>\n      <td>-0.342896</td>\n      <td>0.180991</td>\n      <td>0.622804</td>\n      <td>0.390060</td>\n      <td>-0.197826</td>\n      <td>...</td>\n      <td>0.162281</td>\n      <td>-0.923582</td>\n      <td>-0.449693</td>\n      <td>-0.194215</td>\n      <td>0.884861</td>\n      <td>0.355686</td>\n      <td>0.418442</td>\n      <td>-0.504399</td>\n      <td>-1.110405</td>\n      <td>0.292351</td>\n    </tr>\n    <tr>\n      <th>2</th>\n      <td>2</td>\n      <td>-0.186797</td>\n      <td>-0.099321</td>\n      <td>-0.489939</td>\n      <td>0.603691</td>\n      <td>-0.220742</td>\n      <td>0.163514</td>\n      <td>0.201998</td>\n      <td>-0.068645</td>\n      <td>-0.170712</td>\n      <td>...</td>\n      <td>0.309139</td>\n      <td>-0.249686</td>\n      <td>-0.252961</td>\n      <td>-0.000214</td>\n      <td>0.428697</td>\n      <td>0.477869</td>\n      <td>0.114001</td>\n      <td>-0.259199</td>\n      <td>-0.860501</td>\n      <td>0.281628</td>\n    </tr>\n    <tr>\n      <th>3</th>\n      <td>3</td>\n      <td>-0.015474</td>\n      <td>-0.331179</td>\n      <td>-0.188871</td>\n      <td>0.071852</td>\n      <td>-0.118083</td>\n      <td>0.273842</td>\n      <td>0.244981</td>\n      <td>-0.070634</td>\n      <td>-0.275265</td>\n      <td>...</td>\n      <td>0.048260</td>\n      <td>0.186905</td>\n      <td>-0.201033</td>\n      <td>-0.294315</td>\n      <td>-0.119009</td>\n      <td>0.070466</td>\n      <td>-0.013867</td>\n      <td>-0.257075</td>\n      <td>-0.069757</td>\n      <td>0.215312</td>\n    </tr>\n    <tr>\n      <th>4</th>\n      <td>4</td>\n      <td>-0.069459</td>\n      <td>0.000653</td>\n      <td>-0.267939</td>\n      <td>0.539355</td>\n      <td>-0.167328</td>\n      <td>-0.028850</td>\n      <td>0.572703</td>\n      <td>0.225255</td>\n      <td>-0.364476</td>\n      <td>...</td>\n      <td>0.073481</td>\n      <td>-0.567660</td>\n      <td>-0.298699</td>\n      <td>-0.237357</td>\n      <td>0.528733</td>\n      <td>0.298273</td>\n      <td>0.037333</td>\n      <td>-0.491313</td>\n      <td>-0.742250</td>\n      <td>0.370616</td>\n    </tr>\n    <tr>\n      <th>...</th>\n      <td>...</td>\n      <td>...</td>\n      <td>...</td>\n      <td>...</td>\n      <td>...</td>\n      <td>...</td>\n      <td>...</td>\n      <td>...</td>\n      <td>...</td>\n      <td>...</td>\n      <td>...</td>\n      <td>...</td>\n      <td>...</td>\n      <td>...</td>\n      <td>...</td>\n      <td>...</td>\n      <td>...</td>\n      <td>...</td>\n      <td>...</td>\n      <td>...</td>\n      <td>...</td>\n    </tr>\n    <tr>\n      <th>7833</th>\n      <td>7833</td>\n      <td>-0.069599</td>\n      <td>0.153431</td>\n      <td>-0.571671</td>\n      <td>0.378038</td>\n      <td>-0.248409</td>\n      <td>-0.060014</td>\n      <td>0.452256</td>\n      <td>0.176986</td>\n      <td>-0.235890</td>\n      <td>...</td>\n      <td>-0.191336</td>\n      <td>-0.586688</td>\n      <td>-0.180140</td>\n      <td>-0.130464</td>\n      <td>0.625573</td>\n      <td>0.382755</td>\n      <td>0.069184</td>\n      <td>-0.546153</td>\n      <td>-0.663578</td>\n      <td>0.326829</td>\n    </tr>\n    <tr>\n      <th>7834</th>\n      <td>7834</td>\n      <td>-0.170249</td>\n      <td>-0.081334</td>\n      <td>-0.492545</td>\n      <td>0.443016</td>\n      <td>-0.041892</td>\n      <td>0.183765</td>\n      <td>0.371429</td>\n      <td>0.106385</td>\n      <td>-0.080806</td>\n      <td>...</td>\n      <td>0.225322</td>\n      <td>-0.254757</td>\n      <td>-0.258577</td>\n      <td>0.014742</td>\n      <td>0.309729</td>\n      <td>0.376458</td>\n      <td>0.032279</td>\n      <td>-0.256777</td>\n      <td>-0.743823</td>\n      <td>0.226570</td>\n    </tr>\n    <tr>\n      <th>7835</th>\n      <td>7835</td>\n      <td>-0.382044</td>\n      <td>-0.422822</td>\n      <td>-0.587220</td>\n      <td>0.320492</td>\n      <td>-0.226514</td>\n      <td>0.172044</td>\n      <td>0.616719</td>\n      <td>-0.043985</td>\n      <td>-0.258257</td>\n      <td>...</td>\n      <td>-0.005524</td>\n      <td>-0.341694</td>\n      <td>-0.393351</td>\n      <td>-0.104909</td>\n      <td>0.011569</td>\n      <td>0.355231</td>\n      <td>0.376438</td>\n      <td>-0.383147</td>\n      <td>-0.443361</td>\n      <td>0.176735</td>\n    </tr>\n    <tr>\n      <th>7836</th>\n      <td>7836</td>\n      <td>0.226604</td>\n      <td>-0.230992</td>\n      <td>-0.294525</td>\n      <td>-0.005927</td>\n      <td>-0.293173</td>\n      <td>0.076686</td>\n      <td>0.057251</td>\n      <td>-0.154211</td>\n      <td>-0.186203</td>\n      <td>...</td>\n      <td>-0.148946</td>\n      <td>0.358122</td>\n      <td>-0.054703</td>\n      <td>-0.052285</td>\n      <td>0.038732</td>\n      <td>0.011719</td>\n      <td>-0.135485</td>\n      <td>-0.256960</td>\n      <td>0.012294</td>\n      <td>0.020287</td>\n    </tr>\n    <tr>\n      <th>7837</th>\n      <td>7837</td>\n      <td>-0.403669</td>\n      <td>-0.057501</td>\n      <td>-0.323550</td>\n      <td>0.505035</td>\n      <td>0.161119</td>\n      <td>0.269930</td>\n      <td>0.552717</td>\n      <td>0.165518</td>\n      <td>-0.195108</td>\n      <td>...</td>\n      <td>0.346420</td>\n      <td>-0.500232</td>\n      <td>-0.054664</td>\n      <td>0.061566</td>\n      <td>0.117811</td>\n      <td>0.438892</td>\n      <td>0.224275</td>\n      <td>-0.340123</td>\n      <td>-0.692458</td>\n      <td>0.498602</td>\n    </tr>\n  </tbody>\n</table>\n<p>7838 rows × 101 columns</p>\n</div>"
     },
     "execution_count": 8,
     "metadata": {},
     "output_type": "execute_result"
    }
   ],
   "source": [
    "if os.path.exists('doc_feature_matrix.csv.gz'):\n",
    "    data = pd.read_csv('doc_feature_matrix.csv.gz')\n",
    "else:\n",
    "    gerador = gera_docv(10000)\n",
    "    data = pd.DataFrame(data=np.vstack([a for a in gerador]), columns=range(100))\n",
    "    data.to_csv('doc_feature_matrix.csv.gz')\n",
    "data"
   ]
  },
  {
   "cell_type": "markdown",
   "metadata": {},
   "source": [
    "### Definindo a categoria de cada documento para o treinamento\n",
    "Nosso objetvo será diferenciar entre verbetes *temáticos* e *biográficos*."
   ]
  },
  {
   "cell_type": "code",
   "execution_count": 9,
   "metadata": {
    "ExecuteTime": {
     "end_time": "2023-10-11T14:08:16.565910331Z",
     "start_time": "2023-10-11T14:08:16.523133874Z"
    }
   },
   "outputs": [
    {
     "name": "stdout",
     "output_type": "stream",
     "text": [
      "Número de verbetes temáticos: 973\n"
     ]
    }
   ],
   "source": [
    "def gera_alvo():\n",
    "    df = pd.read_sql_query('select natureza from resultados', con=eng)\n",
    "    alvo = df.natureza.values=='biográfico'\n",
    "    return alvo\n",
    "Y = gera_alvo()\n",
    "print(f\"Número de verbetes temáticos: {len(Y)-sum(Y)}\")"
   ]
  },
  {
   "cell_type": "code",
   "execution_count": 10,
   "metadata": {
    "ExecuteTime": {
     "end_time": "2023-10-11T14:08:18.077679874Z",
     "start_time": "2023-10-11T14:08:17.804311580Z"
    }
   },
   "outputs": [],
   "source": [
    "df = pd.read_sql_query('select * from resultados', con=eng)"
   ]
  },
  {
   "cell_type": "code",
   "execution_count": 11,
   "metadata": {
    "ExecuteTime": {
     "end_time": "2023-10-11T14:08:19.160221223Z",
     "start_time": "2023-10-11T14:08:19.126293954Z"
    }
   },
   "outputs": [
    {
     "data": {
      "text/plain": "natureza\nbiográfico    6865\ntemático       973\nName: count, dtype: int64"
     },
     "execution_count": 11,
     "metadata": {},
     "output_type": "execute_result"
    }
   ],
   "source": [
    "df.natureza.value_counts()"
   ]
  },
  {
   "cell_type": "markdown",
   "metadata": {},
   "source": [
    "Vamos dividir a tabela de vetores de documentos em Biográficos e temáticos"
   ]
  },
  {
   "cell_type": "code",
   "execution_count": 12,
   "metadata": {
    "ExecuteTime": {
     "end_time": "2023-10-11T14:08:22.433830958Z",
     "start_time": "2023-10-11T14:08:22.390471851Z"
    }
   },
   "outputs": [],
   "source": [
    "biog = data.iloc[Y]\n",
    "tem = data.iloc[~Y]"
   ]
  },
  {
   "cell_type": "markdown",
   "metadata": {},
   "source": [
    "Como o número de verbetes biográficos é muito maior, vamos tomar iguais numeros de cada tipo para equilibrar o nosso conjunto de treinamento de documentos."
   ]
  },
  {
   "cell_type": "code",
   "execution_count": 29,
   "metadata": {
    "ExecuteTime": {
     "end_time": "2023-10-11T14:17:07.824181037Z",
     "start_time": "2023-10-11T14:17:07.755577767Z"
    }
   },
   "outputs": [
    {
     "data": {
      "text/plain": "      Unnamed: 0         0         1         2         3         4         5  \\\n0              0  0.251411 -0.092618 -0.367610  0.156986 -0.339056 -0.080486   \n1              1 -0.444796 -0.107734 -0.371062  0.248178 -0.342896  0.180991   \n2              2 -0.186797 -0.099321 -0.489939  0.603691 -0.220742  0.163514   \n3              3 -0.015474 -0.331179 -0.188871  0.071852 -0.118083  0.273842   \n5              5 -0.006569  0.070158 -0.556755  0.210324 -0.502553  0.172335   \n...          ...       ...       ...       ...       ...       ...       ...   \n7777        7777 -0.198130  0.248924 -0.391260  0.590541  0.014977  0.136703   \n7789        7789 -0.526813 -0.189568 -0.614463  0.543363 -0.153835  0.249338   \n7807        7807 -0.165131  0.094592 -0.568769  0.634284 -0.098892  0.067542   \n7810        7810 -0.123791 -0.083936 -0.556963  0.379353 -0.414466  0.012076   \n7825        7825 -0.094048 -0.557241 -0.160725  0.179252 -0.370820  0.311982   \n\n             6         7         8  ...        90        91        92  \\\n0     0.192228 -0.230927 -0.129720  ... -0.354930  0.257672 -0.182260   \n1     0.622804  0.390060 -0.197826  ...  0.162281 -0.923582 -0.449693   \n2     0.201998 -0.068645 -0.170712  ...  0.309139 -0.249686 -0.252961   \n3     0.244981 -0.070634 -0.275265  ...  0.048260  0.186905 -0.201033   \n5     0.327112  0.091819 -0.085008  ... -0.014528 -0.428668 -0.278508   \n...        ...       ...       ...  ...       ...       ...       ...   \n7777  0.092994  0.224973 -0.408088  ...  0.246091 -0.581098 -0.312761   \n7789  0.536001  0.091591 -0.083802  ...  0.000970 -0.115585 -0.267506   \n7807  0.166902  0.170849 -0.234814  ...  0.101010 -0.432262 -0.166351   \n7810  0.205557 -0.324124 -0.108826  ... -0.144140  0.202595 -0.318131   \n7825  0.407939 -0.041410 -0.283813  ...  0.277637 -0.016072 -0.456867   \n\n            93        94        95        96        97        98        99  \n0    -0.072084  0.155995  0.025738 -0.186744 -0.309680  0.003222  0.116559  \n1    -0.194215  0.884861  0.355686  0.418442 -0.504399 -1.110405  0.292351  \n2    -0.000214  0.428697  0.477869  0.114001 -0.259199 -0.860501  0.281628  \n3    -0.294315 -0.119009  0.070466 -0.013867 -0.257075 -0.069757  0.215312  \n5    -0.156567  0.553669  0.141698 -0.004496 -0.401562 -0.514297  0.100853  \n...        ...       ...       ...       ...       ...       ...       ...  \n7777 -0.034015  0.733376  0.460601  0.386440 -0.451271 -1.092295  0.235936  \n7789 -0.000516 -0.292849  0.098837 -0.041638 -0.100240 -0.336108  0.313756  \n7807 -0.099340  0.479865  0.669177  0.193949 -0.248294 -0.799425  0.576188  \n7810 -0.016879  0.310178  0.209647  0.001082 -0.242404 -0.379883  0.214805  \n7825 -0.087659  0.154075  0.054906  0.358063 -0.294701 -0.336736  0.046304  \n\n[1936 rows x 101 columns]",
      "text/html": "<div>\n<style scoped>\n    .dataframe tbody tr th:only-of-type {\n        vertical-align: middle;\n    }\n\n    .dataframe tbody tr th {\n        vertical-align: top;\n    }\n\n    .dataframe thead th {\n        text-align: right;\n    }\n</style>\n<table border=\"1\" class=\"dataframe\">\n  <thead>\n    <tr style=\"text-align: right;\">\n      <th></th>\n      <th>Unnamed: 0</th>\n      <th>0</th>\n      <th>1</th>\n      <th>2</th>\n      <th>3</th>\n      <th>4</th>\n      <th>5</th>\n      <th>6</th>\n      <th>7</th>\n      <th>8</th>\n      <th>...</th>\n      <th>90</th>\n      <th>91</th>\n      <th>92</th>\n      <th>93</th>\n      <th>94</th>\n      <th>95</th>\n      <th>96</th>\n      <th>97</th>\n      <th>98</th>\n      <th>99</th>\n    </tr>\n  </thead>\n  <tbody>\n    <tr>\n      <th>0</th>\n      <td>0</td>\n      <td>0.251411</td>\n      <td>-0.092618</td>\n      <td>-0.367610</td>\n      <td>0.156986</td>\n      <td>-0.339056</td>\n      <td>-0.080486</td>\n      <td>0.192228</td>\n      <td>-0.230927</td>\n      <td>-0.129720</td>\n      <td>...</td>\n      <td>-0.354930</td>\n      <td>0.257672</td>\n      <td>-0.182260</td>\n      <td>-0.072084</td>\n      <td>0.155995</td>\n      <td>0.025738</td>\n      <td>-0.186744</td>\n      <td>-0.309680</td>\n      <td>0.003222</td>\n      <td>0.116559</td>\n    </tr>\n    <tr>\n      <th>1</th>\n      <td>1</td>\n      <td>-0.444796</td>\n      <td>-0.107734</td>\n      <td>-0.371062</td>\n      <td>0.248178</td>\n      <td>-0.342896</td>\n      <td>0.180991</td>\n      <td>0.622804</td>\n      <td>0.390060</td>\n      <td>-0.197826</td>\n      <td>...</td>\n      <td>0.162281</td>\n      <td>-0.923582</td>\n      <td>-0.449693</td>\n      <td>-0.194215</td>\n      <td>0.884861</td>\n      <td>0.355686</td>\n      <td>0.418442</td>\n      <td>-0.504399</td>\n      <td>-1.110405</td>\n      <td>0.292351</td>\n    </tr>\n    <tr>\n      <th>2</th>\n      <td>2</td>\n      <td>-0.186797</td>\n      <td>-0.099321</td>\n      <td>-0.489939</td>\n      <td>0.603691</td>\n      <td>-0.220742</td>\n      <td>0.163514</td>\n      <td>0.201998</td>\n      <td>-0.068645</td>\n      <td>-0.170712</td>\n      <td>...</td>\n      <td>0.309139</td>\n      <td>-0.249686</td>\n      <td>-0.252961</td>\n      <td>-0.000214</td>\n      <td>0.428697</td>\n      <td>0.477869</td>\n      <td>0.114001</td>\n      <td>-0.259199</td>\n      <td>-0.860501</td>\n      <td>0.281628</td>\n    </tr>\n    <tr>\n      <th>3</th>\n      <td>3</td>\n      <td>-0.015474</td>\n      <td>-0.331179</td>\n      <td>-0.188871</td>\n      <td>0.071852</td>\n      <td>-0.118083</td>\n      <td>0.273842</td>\n      <td>0.244981</td>\n      <td>-0.070634</td>\n      <td>-0.275265</td>\n      <td>...</td>\n      <td>0.048260</td>\n      <td>0.186905</td>\n      <td>-0.201033</td>\n      <td>-0.294315</td>\n      <td>-0.119009</td>\n      <td>0.070466</td>\n      <td>-0.013867</td>\n      <td>-0.257075</td>\n      <td>-0.069757</td>\n      <td>0.215312</td>\n    </tr>\n    <tr>\n      <th>5</th>\n      <td>5</td>\n      <td>-0.006569</td>\n      <td>0.070158</td>\n      <td>-0.556755</td>\n      <td>0.210324</td>\n      <td>-0.502553</td>\n      <td>0.172335</td>\n      <td>0.327112</td>\n      <td>0.091819</td>\n      <td>-0.085008</td>\n      <td>...</td>\n      <td>-0.014528</td>\n      <td>-0.428668</td>\n      <td>-0.278508</td>\n      <td>-0.156567</td>\n      <td>0.553669</td>\n      <td>0.141698</td>\n      <td>-0.004496</td>\n      <td>-0.401562</td>\n      <td>-0.514297</td>\n      <td>0.100853</td>\n    </tr>\n    <tr>\n      <th>...</th>\n      <td>...</td>\n      <td>...</td>\n      <td>...</td>\n      <td>...</td>\n      <td>...</td>\n      <td>...</td>\n      <td>...</td>\n      <td>...</td>\n      <td>...</td>\n      <td>...</td>\n      <td>...</td>\n      <td>...</td>\n      <td>...</td>\n      <td>...</td>\n      <td>...</td>\n      <td>...</td>\n      <td>...</td>\n      <td>...</td>\n      <td>...</td>\n      <td>...</td>\n      <td>...</td>\n    </tr>\n    <tr>\n      <th>7777</th>\n      <td>7777</td>\n      <td>-0.198130</td>\n      <td>0.248924</td>\n      <td>-0.391260</td>\n      <td>0.590541</td>\n      <td>0.014977</td>\n      <td>0.136703</td>\n      <td>0.092994</td>\n      <td>0.224973</td>\n      <td>-0.408088</td>\n      <td>...</td>\n      <td>0.246091</td>\n      <td>-0.581098</td>\n      <td>-0.312761</td>\n      <td>-0.034015</td>\n      <td>0.733376</td>\n      <td>0.460601</td>\n      <td>0.386440</td>\n      <td>-0.451271</td>\n      <td>-1.092295</td>\n      <td>0.235936</td>\n    </tr>\n    <tr>\n      <th>7789</th>\n      <td>7789</td>\n      <td>-0.526813</td>\n      <td>-0.189568</td>\n      <td>-0.614463</td>\n      <td>0.543363</td>\n      <td>-0.153835</td>\n      <td>0.249338</td>\n      <td>0.536001</td>\n      <td>0.091591</td>\n      <td>-0.083802</td>\n      <td>...</td>\n      <td>0.000970</td>\n      <td>-0.115585</td>\n      <td>-0.267506</td>\n      <td>-0.000516</td>\n      <td>-0.292849</td>\n      <td>0.098837</td>\n      <td>-0.041638</td>\n      <td>-0.100240</td>\n      <td>-0.336108</td>\n      <td>0.313756</td>\n    </tr>\n    <tr>\n      <th>7807</th>\n      <td>7807</td>\n      <td>-0.165131</td>\n      <td>0.094592</td>\n      <td>-0.568769</td>\n      <td>0.634284</td>\n      <td>-0.098892</td>\n      <td>0.067542</td>\n      <td>0.166902</td>\n      <td>0.170849</td>\n      <td>-0.234814</td>\n      <td>...</td>\n      <td>0.101010</td>\n      <td>-0.432262</td>\n      <td>-0.166351</td>\n      <td>-0.099340</td>\n      <td>0.479865</td>\n      <td>0.669177</td>\n      <td>0.193949</td>\n      <td>-0.248294</td>\n      <td>-0.799425</td>\n      <td>0.576188</td>\n    </tr>\n    <tr>\n      <th>7810</th>\n      <td>7810</td>\n      <td>-0.123791</td>\n      <td>-0.083936</td>\n      <td>-0.556963</td>\n      <td>0.379353</td>\n      <td>-0.414466</td>\n      <td>0.012076</td>\n      <td>0.205557</td>\n      <td>-0.324124</td>\n      <td>-0.108826</td>\n      <td>...</td>\n      <td>-0.144140</td>\n      <td>0.202595</td>\n      <td>-0.318131</td>\n      <td>-0.016879</td>\n      <td>0.310178</td>\n      <td>0.209647</td>\n      <td>0.001082</td>\n      <td>-0.242404</td>\n      <td>-0.379883</td>\n      <td>0.214805</td>\n    </tr>\n    <tr>\n      <th>7825</th>\n      <td>7825</td>\n      <td>-0.094048</td>\n      <td>-0.557241</td>\n      <td>-0.160725</td>\n      <td>0.179252</td>\n      <td>-0.370820</td>\n      <td>0.311982</td>\n      <td>0.407939</td>\n      <td>-0.041410</td>\n      <td>-0.283813</td>\n      <td>...</td>\n      <td>0.277637</td>\n      <td>-0.016072</td>\n      <td>-0.456867</td>\n      <td>-0.087659</td>\n      <td>0.154075</td>\n      <td>0.054906</td>\n      <td>0.358063</td>\n      <td>-0.294701</td>\n      <td>-0.336736</td>\n      <td>0.046304</td>\n    </tr>\n  </tbody>\n</table>\n<p>1936 rows × 101 columns</p>\n</div>"
     },
     "execution_count": 29,
     "metadata": {},
     "output_type": "execute_result"
    }
   ],
   "source": [
    "data2 = pd.concat([biog[:963],tem],axis=0)\n",
    "Y2 = np.array([True]*963 + [False]*len(tem))\n",
    "data2"
   ]
  },
  {
   "cell_type": "code",
   "execution_count": 20,
   "metadata": {
    "ExecuteTime": {
     "end_time": "2023-10-11T14:13:38.048583761Z",
     "start_time": "2023-10-11T14:13:37.981644584Z"
    }
   },
   "outputs": [],
   "source": [
    "from matplotlib import pyplot as plt\n",
    "%matplotlib inline\n",
    "def print_class_report(Xtest, Ytest, clf, clf_name):\n",
    "    \"\"\"\n",
    "    Imprime relatório de classificação\n",
    "    :param Xtest:\n",
    "    :param Ytest:\n",
    "    :param clf: classificador trainado\n",
    "    :param clf_name: nome do classificador\n",
    "    \"\"\"\n",
    "    y_predict = clf.predict(Xtest)\n",
    "    print('\\nRelatório de classificação para {}:\\n'.format(clf_name))\n",
    "    print(classification_report(Ytest, y_predict, target_names=['Temático', 'Biográfico']))\n",
    "    \n",
    "\n",
    "def plot_roc(probas):\n",
    "    tprs = []\n",
    "    fprs = []\n",
    "\n",
    "\n",
    "    labels = ['False positive rate', 'True Positive rate']\n",
    "    for k, v in probas.items():\n",
    "        roc_aucs = []\n",
    "        for j, fold in enumerate(v):\n",
    "            try:\n",
    "                fpr, tpr, thresholds = roc_curve(fold[1], fold[0][:, 1])\n",
    "            except IndexError:\n",
    "                print(fold[0], fold[0].shape)\n",
    "                continue\n",
    "            roc_aucs.append(auc(fpr, tpr))\n",
    "            tprs.append([float(t) for t in tpr])\n",
    "            fprs.append([float(f) for f in fpr])\n",
    "\n",
    "        print('{}: AUCs: {}'.format(k, str(roc_aucs)))\n",
    "    plt.scatter(fprs, tprs, [], \"Curva ROC \", \"points\", 0, 0)\n",
    "    "
   ]
  },
  {
   "cell_type": "markdown",
   "metadata": {},
   "source": [
    "## Definindo os modelos\n",
    "Vamos comparar a performance de 3 modelos. Dois tipos de modelos de \"ensemble\", *Random forest* e *Extra Trees* e um terceiro baseado na segmentação do espaço vetorial, o SVC."
   ]
  },
  {
   "cell_type": "code",
   "execution_count": 21,
   "metadata": {
    "ExecuteTime": {
     "end_time": "2023-10-11T14:13:40.408978520Z",
     "start_time": "2023-10-11T14:13:40.355545676Z"
    }
   },
   "outputs": [],
   "source": [
    "rfclf = make_pipeline(StandardScaler(),RandomForestClassifier(n_estimators=400, criterion='entropy', n_jobs=-1, min_samples_leaf=3, warm_start=True, verbose=0))\n",
    "etclf = make_pipeline(StandardScaler(),ExtraTreesClassifier(n_estimators=400, n_jobs=-1,min_samples_leaf=3, warm_start=True, verbose=0))\n",
    "svcclf = make_pipeline(StandardScaler(),SVC(probability=True))"
   ]
  },
  {
   "cell_type": "markdown",
   "metadata": {},
   "source": [
    "Adicionalmente iremos usar um Classificador por votos que procurará combinar o melhor dos três modelos acima em uma classificação por votação."
   ]
  },
  {
   "cell_type": "code",
   "execution_count": 22,
   "metadata": {
    "ExecuteTime": {
     "end_time": "2023-10-11T14:13:47.372999711Z",
     "start_time": "2023-10-11T14:13:47.329422913Z"
    }
   },
   "outputs": [],
   "source": [
    "vcclf = VotingClassifier(estimators=[('rf', rfclf), ('et', etclf),('svc', svcclf)], \n",
    "                         voting='soft', weights=[1,1,1])"
   ]
  },
  {
   "cell_type": "markdown",
   "metadata": {},
   "source": [
    "## Treinando e validando o classificador"
   ]
  },
  {
   "cell_type": "markdown",
   "metadata": {},
   "source": [
    "Os modelos serão treinados usando um esquema de validação cruzada de cinco rodadas com randomização."
   ]
  },
  {
   "cell_type": "code",
   "execution_count": 24,
   "metadata": {
    "run_control": {
     "marked": true
    },
    "ExecuteTime": {
     "end_time": "2023-10-11T14:14:43.351364202Z",
     "start_time": "2023-10-11T14:13:53.501046870Z"
    }
   },
   "outputs": [
    {
     "name": "stdout",
     "output_type": "stream",
     "text": [
      "==> Fitting:\n",
      "==> Scoring:\n",
      "==> Fitting:\n",
      "==> Scoring:\n",
      "==> Fitting:\n",
      "==> Scoring:\n",
      "==> Fitting:\n",
      "==> Scoring:\n",
      "==> Fitting:\n",
      "==> Scoring:\n",
      "\n",
      "Relatório de classificação para ET:\n",
      "\n",
      "              precision    recall  f1-score   support\n",
      "\n",
      "    Temático       0.97      0.76      0.85       241\n",
      "  Biográfico       0.80      0.98      0.88       243\n",
      "\n",
      "    accuracy                           0.87       484\n",
      "   macro avg       0.89      0.87      0.87       484\n",
      "weighted avg       0.89      0.87      0.87       484\n",
      "\n",
      "\n",
      "Relatório de classificação para RF:\n",
      "              precision    recall  f1-score   support\n",
      "\n",
      "    Temático       0.99      0.84      0.91       241\n",
      "  Biográfico       0.86      0.99      0.92       243\n",
      "\n",
      "    accuracy                           0.92       484\n",
      "   macro avg       0.93      0.92      0.92       484\n",
      "weighted avg       0.93      0.92      0.92       484\n",
      "\n",
      "\n",
      "Relatório de classificação para SVC:\n",
      "\n",
      "              precision    recall  f1-score   support\n",
      "\n",
      "    Temático       0.94      0.70      0.80       241\n",
      "  Biográfico       0.76      0.95      0.85       243\n",
      "\n",
      "    accuracy                           0.83       484\n",
      "   macro avg       0.85      0.83      0.82       484\n",
      "weighted avg       0.85      0.83      0.82       484\n",
      "\n",
      "Relatório de classificação para Voting:\n",
      "\n",
      "              precision    recall  f1-score   support\n",
      "\n",
      "    Temático       0.94      0.82      0.87       241\n",
      "  Biográfico       0.84      0.95      0.89       243\n",
      "\n",
      "    accuracy                           0.88       484\n",
      "   macro avg       0.89      0.88      0.88       484\n",
      "weighted avg       0.89      0.88      0.88       484\n"
     ]
    }
   ],
   "source": [
    "from collections import defaultdict\n",
    "from sklearn.metrics import RocCurveDisplay\n",
    "\n",
    "acc_hist = defaultdict(lambda: [])\n",
    "X2 = data2.values\n",
    "\n",
    "Xtrain,Xtest,Ytrain,Ytest = train_test_split(X2,Y2, test_size=.25)\n",
    "\n",
    "skf = StratifiedKFold(5, shuffle=True)\n",
    "\n",
    "for train_index, test_index in skf.split(Xtrain, Ytrain):\n",
    "    Xtr = Xtrain[train_index]\n",
    "    Ytr = Ytrain[train_index]\n",
    "    Xval = Xtrain[test_index]\n",
    "    Yval = Ytrain[test_index]\n",
    "    print(\"==> Fitting:\")\n",
    "    # print(\"Extra Trees\")\n",
    "    etclf.fit(Xtr,Ytrain[train_index])\n",
    "    # print(\"Random Forest\")\n",
    "    rfclf.fit(Xtr, Ytrain[train_index])\n",
    "    # print(\"SVC\")\n",
    "    svcclf.fit(Xtr, Ytrain[train_index])\n",
    "    # print(\"Voting\")\n",
    "    vcclf.fit(Xtr, Ytrain[train_index])\n",
    "    print(\"==> Scoring:\")\n",
    "    acc_hist['ET'].append(cross_val_score(etclf, Xtrain, Ytrain, cv=2, n_jobs=-1).mean())\n",
    "    acc_hist['RF'].append(cross_val_score(rfclf, Xtrain, Ytrain, cv=2, n_jobs=-1).mean())\n",
    "    acc_hist['SVC'].append(cross_val_score(svcclf, Xtrain, Ytrain, cv=2, n_jobs=-1).mean())\n",
    "    acc_hist['Voting'].append(vcclf.score(Xtrain, Ytrain))\n",
    "print_class_report(Xtest, Ytest, etclf, 'ET')\n",
    "print_class_report(Xtest, Ytest, rfclf, 'RF')\n",
    "print_class_report(Xtest, Ytest, svcclf, 'SVC')\n",
    "print_class_report(Xtest, Ytest, vcclf, 'Voting')"
   ]
  },
  {
   "cell_type": "markdown",
   "metadata": {},
   "source": [
    "### Curva ROC para os classificadores\n",
    "A curva ROC nos informa o quanto podemos maximizar a taxa de verdadeiros positivos(classificações corretas), ao mesmo tempo em que minimizamos a taxa de falsos positivos (classificações erradas), apenas escolhendo a probabilidade de corte para pertinência à classe 1. O melhor modelo é o que mais se aproxima do canto superior esquerdo da figura (maximizando a área sob a curva), neste caso o modelo *Random Forest*."
   ]
  },
  {
   "cell_type": "code",
   "execution_count": 25,
   "metadata": {
    "run_control": {
     "marked": true
    },
    "ExecuteTime": {
     "end_time": "2023-10-11T14:15:45.657041146Z",
     "start_time": "2023-10-11T14:15:44.339260650Z"
    }
   },
   "outputs": [
    {
     "data": {
      "text/plain": "<Figure size 640x480 with 1 Axes>",
      "image/png": "[encoded data removed]"
     },
     "metadata": {},
     "output_type": "display_data"
    }
   ],
   "source": [
    "#  ROC curve for each model\n",
    "\n",
    "et_roc = RocCurveDisplay.from_estimator(etclf, Xtest, Ytest, name='Extra Trees')\n",
    "ax = plt.gca()\n",
    "rf_roc = RocCurveDisplay.from_estimator(rfclf, Xtest, Ytest, ax=ax, name='Random Forest')\n",
    "svc_roc = RocCurveDisplay.from_estimator(svcclf, Xtest, Ytest, ax=ax, name='SVC')\n",
    "vc_roc = RocCurveDisplay.from_estimator(vcclf, Xtest, Ytest, ax=ax, name='Voting')\n",
    "\n",
    "# print('trained {} documents.'.format((n+1)*batchsize))\n",
    "df_acc = pd.DataFrame(acc_hist)"
   ]
  },
  {
   "cell_type": "markdown",
   "metadata": {},
   "source": [
    "### Acurácia\n",
    "Se olharmos para a acurácia, vemos que esta não melhora com as 5 rodadas de validação cruzada, indicando que podemos reduzí-las ou mesmo eliminar completamente a validação cruzada."
   ]
  },
  {
   "cell_type": "code",
   "execution_count": 26,
   "metadata": {
    "ExecuteTime": {
     "end_time": "2023-10-11T14:15:56.480934713Z",
     "start_time": "2023-10-11T14:15:56.424923003Z"
    }
   },
   "outputs": [
    {
     "data": {
      "text/plain": "         ET        RF       SVC    Voting\n0  0.867080  0.930441  0.800964  0.961433\n1  0.853994  0.929752  0.800964  0.949036\n2  0.860193  0.926309  0.800964  0.961433\n3  0.864325  0.928375  0.800964  0.964187\n4  0.869835  0.927686  0.800964  0.956612",
      "text/html": "<div>\n<style scoped>\n    .dataframe tbody tr th:only-of-type {\n        vertical-align: middle;\n    }\n\n    .dataframe tbody tr th {\n        vertical-align: top;\n    }\n\n    .dataframe thead th {\n        text-align: right;\n    }\n</style>\n<table border=\"1\" class=\"dataframe\">\n  <thead>\n    <tr style=\"text-align: right;\">\n      <th></th>\n      <th>ET</th>\n      <th>RF</th>\n      <th>SVC</th>\n      <th>Voting</th>\n    </tr>\n  </thead>\n  <tbody>\n    <tr>\n      <th>0</th>\n      <td>0.867080</td>\n      <td>0.930441</td>\n      <td>0.800964</td>\n      <td>0.961433</td>\n    </tr>\n    <tr>\n      <th>1</th>\n      <td>0.853994</td>\n      <td>0.929752</td>\n      <td>0.800964</td>\n      <td>0.949036</td>\n    </tr>\n    <tr>\n      <th>2</th>\n      <td>0.860193</td>\n      <td>0.926309</td>\n      <td>0.800964</td>\n      <td>0.961433</td>\n    </tr>\n    <tr>\n      <th>3</th>\n      <td>0.864325</td>\n      <td>0.928375</td>\n      <td>0.800964</td>\n      <td>0.964187</td>\n    </tr>\n    <tr>\n      <th>4</th>\n      <td>0.869835</td>\n      <td>0.927686</td>\n      <td>0.800964</td>\n      <td>0.956612</td>\n    </tr>\n  </tbody>\n</table>\n</div>"
     },
     "execution_count": 26,
     "metadata": {},
     "output_type": "execute_result"
    }
   ],
   "source": [
    "df_acc"
   ]
  },
  {
   "cell_type": "markdown",
   "metadata": {},
   "source": [
    "### Precisão e Revocação\n",
    "Outra métrica para comparação dos modelos são suas curvas de Precisão-revocação, que apresentam os trade-offs possíveis entre estas duas medidas como função do limiar de decisão para cada classe. Nesta análise o modelo cuja curva mais se aproxima do canto superior direito da figura é o melhor, neste caso novamente o modelo *Random Forest* se destaca."
   ]
  },
  {
   "cell_type": "code",
   "execution_count": 27,
   "metadata": {
    "ExecuteTime": {
     "end_time": "2023-10-11T14:16:11.942044783Z",
     "start_time": "2023-10-11T14:16:11.913384305Z"
    }
   },
   "outputs": [],
   "source": [
    "from sklearn.metrics import PrecisionRecallDisplay"
   ]
  },
  {
   "cell_type": "code",
   "execution_count": 28,
   "metadata": {
    "ExecuteTime": {
     "end_time": "2023-10-11T14:16:14.859194144Z",
     "start_time": "2023-10-11T14:16:13.594964241Z"
    }
   },
   "outputs": [
    {
     "data": {
      "text/plain": "<Figure size 640x480 with 1 Axes>",
      "image/png": "[encoded data removed]"
     },
     "metadata": {},
     "output_type": "display_data"
    }
   ],
   "source": [
    "display = PrecisionRecallDisplay.from_estimator(\n",
    "    etclf, Xtest, Ytest, name=\"Extra Trees\"\n",
    ")\n",
    "ax = plt.gca()\n",
    "PrecisionRecallDisplay.from_estimator(\n",
    "    rfclf, Xtest, Ytest, name=\"Random Forest\", ax=ax\n",
    ")\n",
    "PrecisionRecallDisplay.from_estimator(\n",
    "    svcclf, Xtest, Ytest, name=\"SVC\", ax=ax\n",
    ")\n",
    "PrecisionRecallDisplay.from_estimator(\n",
    "    vcclf, Xtest, Ytest, name=\"Voting\", ax=ax\n",
    ")\n",
    "_ = display.ax_.set_title(\"Curva de Precisão-Revocação para duas categorias\")"
   ]
  },
  {
   "cell_type": "code",
   "execution_count": null,
   "metadata": {},
   "outputs": [],
   "source": []
  }
 ],
 "metadata": {
  "kernelspec": {
   "display_name": "Python 3 (ipykernel)",
   "language": "python",
   "name": "python3"
  },
  "language_info": {
   "codemirror_mode": {
    "name": "ipython",
    "version": 3
   },
   "file_extension": ".py",
   "mimetype": "text/x-python",
   "name": "python",
   "nbconvert_exporter": "python",
   "pygments_lexer": "ipython3",
   "version": "3.10.7"
  },
  "latex_envs": {
   "LaTeX_envs_menu_present": true,
   "autoclose": false,
   "autocomplete": true,
   "bibliofile": "biblio.bib",
   "cite_by": "apalike",
   "current_citInitial": 1,
   "eqLabelWithNumbers": true,
   "eqNumInitial": 1,
   "hotkeys": {
    "equation": "Ctrl-E",
    "itemize": "Ctrl-I"
   },
   "labels_anchors": false,
   "latex_user_defs": false,
   "report_style_numbering": false,
   "user_envs_cfg": false
  },
  "toc": {
   "base_numbering": 1,
   "nav_menu": {},
   "number_sections": true,
   "sideBar": true,
   "skip_h1_title": false,
   "title_cell": "Table of Contents",
   "title_sidebar": "Contents",
   "toc_cell": false,
   "toc_position": {},
   "toc_section_display": true,
   "toc_window_display": true
  },
  "varInspector": {
   "cols": {
    "lenName": 16,
    "lenType": 16,
    "lenVar": 40
   },
   "kernels_config": {
    "python": {
     "delete_cmd_postfix": "",
     "delete_cmd_prefix": "del ",
     "library": "var_list.py",
     "varRefreshCmd": "print(var_dic_list())"
    },
    "r": {
     "delete_cmd_postfix": ") ",
     "delete_cmd_prefix": "rm(",
     "library": "var_list.r",
     "varRefreshCmd": "cat(var_dic_list()) "
    }
   },
   "oldHeight": 350,
   "position": {
    "height": "40px",
    "left": "651px",
    "right": "20px",
    "top": "121px",
    "width": "350px"
   },
   "types_to_exclude": [
    "module",
    "function",
    "builtin_function_or_method",
    "instance",
    "_Feature"
   ],
   "varInspector_section_display": "none",
   "window_display": false
  },
  "vscode": {
   "interpreter": {
    "hash": "916dbcbb3f70747c44a77c7bcd40155683ae19c65e1c03b4aa3499c5328201f1"
   }
  }
 },
 "nbformat": 4,
 "nbformat_minor": 4
}
