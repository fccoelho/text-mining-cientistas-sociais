{
 "cells": [
  {
   "cell_type": "markdown",
   "metadata": {},
   "source": [
    "# Identificando Entidades Nomeadas\n",
    "Neste capítulo vamos treinar um identificador de Entidades nomeadas usando a biblioteca [Spacy](https://spacy.io). A partir deste capítulo vamos importar também funções que já criamos anteriormente, e que encontram-se reproduzidas em  [dhbbmining.py](dhbbmining.py)"
   ]
  },
  {
   "cell_type": "code",
   "execution_count": 1,
   "metadata": {},
   "outputs": [],
   "source": [
    "import os, glob\n",
    "import spacy\n",
    "from spacy import displacy\n",
    "from dhbbmining import *"
   ]
  },
  {
   "cell_type": "markdown",
   "metadata": {},
   "source": [
    "Para utilizar o spacy em um corpus na lingua portuguesa, vamos primeiro importar o modelo liguístico do português"
   ]
  },
  {
   "cell_type": "code",
   "execution_count": 2,
   "metadata": {},
   "outputs": [],
   "source": [
    "nlp = spacy.load(\"pt_core_news_sm\")"
   ]
  },
  {
   "cell_type": "code",
   "execution_count": 3,
   "metadata": {},
   "outputs": [],
   "source": [
    "caminho = \"../../dhbb/text/*.text\"\n",
    "arquivos  = glob.glob(caminho)"
   ]
  },
  {
   "cell_type": "code",
   "execution_count": 4,
   "metadata": {},
   "outputs": [
    {
     "data": {
      "text/html": [
       "<div>\n",
       "<style scoped>\n",
       "    .dataframe tbody tr th:only-of-type {\n",
       "        vertical-align: middle;\n",
       "    }\n",
       "\n",
       "    .dataframe tbody tr th {\n",
       "        vertical-align: top;\n",
       "    }\n",
       "\n",
       "    .dataframe thead th {\n",
       "        text-align: right;\n",
       "    }\n",
       "</style>\n",
       "<table border=\"1\" class=\"dataframe\">\n",
       "  <thead>\n",
       "    <tr style=\"text-align: right;\">\n",
       "      <th></th>\n",
       "      <th>arquivo</th>\n",
       "      <th>title</th>\n",
       "      <th>natureza</th>\n",
       "      <th>sexo</th>\n",
       "      <th>cargos</th>\n",
       "      <th>corpo</th>\n",
       "    </tr>\n",
       "  </thead>\n",
       "  <tbody>\n",
       "    <tr>\n",
       "      <th>0</th>\n",
       "      <td>1.text</td>\n",
       "      <td>COELHO, Machado</td>\n",
       "      <td>biográfico</td>\n",
       "      <td>m</td>\n",
       "      <td>\\n - dep. fed. DF 1927-1929 \\n - dep. fed. DF ...</td>\n",
       "      <td>\\n\\n«José Machado Coelho de Castro» nasceu em ...</td>\n",
       "    </tr>\n",
       "    <tr>\n",
       "      <th>1</th>\n",
       "      <td>10.text</td>\n",
       "      <td>ABÍLIO, Armando</td>\n",
       "      <td>biográfico</td>\n",
       "      <td>m</td>\n",
       "      <td>\\n - dep. fed. PB 1995-1999\\n - dep. fed. PB ...</td>\n",
       "      <td>\\n\\n«Armando Abílio Vieira» nasceu em Itaporan...</td>\n",
       "    </tr>\n",
       "    <tr>\n",
       "      <th>2</th>\n",
       "      <td>100.text</td>\n",
       "      <td>ALEIXO, Pedro</td>\n",
       "      <td>biográfico</td>\n",
       "      <td>m</td>\n",
       "      <td>\\n - const. 1934\\n - dep. fed. MG 1935-1937\\n ...</td>\n",
       "      <td>\\n\\n«Pedro Aleixo» nasceu em São Caetano, dist...</td>\n",
       "    </tr>\n",
       "    <tr>\n",
       "      <th>3</th>\n",
       "      <td>1000.text</td>\n",
       "      <td>CAMPOS, Eduardo</td>\n",
       "      <td>biográfico</td>\n",
       "      <td>m</td>\n",
       "      <td>\\n - dep. fed. PE 1995\\n - dep. fed. PE 1998-...</td>\n",
       "      <td>\\n\\n«Eduardo Henrique Accioly Campos» nasceu e...</td>\n",
       "    </tr>\n",
       "    <tr>\n",
       "      <th>4</th>\n",
       "      <td>1001.text</td>\n",
       "      <td>CAMPOS, Eleazar Soares</td>\n",
       "      <td>biográfico</td>\n",
       "      <td>m</td>\n",
       "      <td>\\n - magistrado\\n - interv. MA 1945-1946\\n</td>\n",
       "      <td>\\n\\n«Eleazar Soares Campos» nasceu em São Luís...</td>\n",
       "    </tr>\n",
       "  </tbody>\n",
       "</table>\n",
       "</div>"
      ],
      "text/plain": [
       "     arquivo                   title    natureza sexo  \\\n",
       "0     1.text         COELHO, Machado  biográfico    m   \n",
       "1    10.text         ABÍLIO, Armando  biográfico    m   \n",
       "2   100.text           ALEIXO, Pedro  biográfico    m   \n",
       "3  1000.text         CAMPOS, Eduardo  biográfico    m   \n",
       "4  1001.text  CAMPOS, Eleazar Soares  biográfico    m   \n",
       "\n",
       "                                              cargos  \\\n",
       "0  \\n - dep. fed. DF 1927-1929 \\n - dep. fed. DF ...   \n",
       "1   \\n - dep. fed. PB 1995-1999\\n - dep. fed. PB ...   \n",
       "2  \\n - const. 1934\\n - dep. fed. MG 1935-1937\\n ...   \n",
       "3   \\n - dep. fed. PE 1995\\n - dep. fed. PE 1998-...   \n",
       "4         \\n - magistrado\\n - interv. MA 1945-1946\\n   \n",
       "\n",
       "                                               corpo  \n",
       "0  \\n\\n«José Machado Coelho de Castro» nasceu em ...  \n",
       "1  \\n\\n«Armando Abílio Vieira» nasceu em Itaporan...  \n",
       "2  \\n\\n«Pedro Aleixo» nasceu em São Caetano, dist...  \n",
       "3  \\n\\n«Eduardo Henrique Accioly Campos» nasceu e...  \n",
       "4  \\n\\n«Eleazar Soares Campos» nasceu em São Luís...  "
      ]
     },
     "execution_count": 4,
     "metadata": {},
     "output_type": "execute_result"
    }
   ],
   "source": [
    "dhbb = tabula_verbete(arquivos)\n",
    "dhbb.head()"
   ]
  },
  {
   "cell_type": "code",
   "execution_count": 6,
   "metadata": {},
   "outputs": [
    {
     "data": {
      "text/plain": [
       "spacy.tokens.doc.Doc"
      ]
     },
     "execution_count": 6,
     "metadata": {},
     "output_type": "execute_result"
    }
   ],
   "source": [
    "doc = nlp(dhbb.corpo[0])\n",
    "type(doc)"
   ]
  },
  {
   "cell_type": "code",
   "execution_count": 7,
   "metadata": {},
   "outputs": [
    {
     "name": "stdout",
     "output_type": "stream",
     "text": [
      "['\\n\\n', '«', 'José', 'Machado', 'Coelho', 'de', 'Castro', '»', 'nasceu', 'em', 'Lorena', '(', 'SP', ')', '.', '\\n\\n', 'Estudou', 'no', 'Ginásio', 'Diocesano', 'de', 'São', 'Paulo', 'e', 'bacharelou-se', 'em', '1910', 'pela', '\\n', 'Faculdade', 'de', 'Ciências', 'Jurídicas', 'e', 'Sociais', '.', 'Dedicando-se', 'à', 'advocacia', ',', 'foi', '\\n', 'promotor', 'público', 'em', 'Cunha', '(', 'SP', ')', 'e', 'depois', 'delegado', 'de', 'polícia', 'no', 'Rio', 'de', '\\n', 'Janeiro', ',', 'então', 'Distrito', 'Federal', '.', '\\n\\n', 'Iniciou', 'sua', 'vida', 'política', 'como', 'deputado', 'federal', 'pelo', 'Distrito', 'Federal', ',', '\\n', 'exercendo', 'o', 'mandato', 'de', '1927', 'a', '1929', '.', 'Reeleito', 'para', 'a', 'legislatura', 'iniciada', '\\n', 'em', 'maio', 'de', '1930', ',', 'ocupava', 'sua', 'cadeira', 'na', 'Câmara', 'quando', ',', 'em', '3', 'de', 'outubro', ',', '\\n', 'foi', 'deflagrado', 'o', 'movimento', 'revolucionário', 'liderado', 'por', 'Getúlio', 'Vargas', '.', '\\n', 'Ligado', 'a', 'o', 'governo', 'federal', ',', 'encontrava-se', 'a', 'o', 'lado', 'do', 'presidente', '\\n', 'Washington', 'Luís', ',', 'no', 'palácio', 'Guanabara', ',', 'no', 'momento', 'de', 'sua', 'deposição', 'no', '\\n', 'dia', '24', 'de', 'outubro', '.', 'Junto', 'com', 'outros', 'companheiros', 'também', 'solidários', 'a', 'o', '\\n', 'regime', 'deposto', 'e', 'que', 'se', 'haviam', 'asilado', 'em', 'embaixadas', 'e', 'legações', ',', 'foi', '\\n', 'enviado', 'em', 'novembro', 'para', 'o', 'estrangeiro', '.', 'Em', 'outubro', 'de', '1932', ',', 'estava', '\\n', 'presente', 'no', 'porto', 'de', 'Alcântara', ',', 'em', 'Lisboa', ',', 'para', 'receber', 'os', '\\n', 'revolucionários', 'constitucionalistas', 'exilados', 'pelo', 'governo', 'de', 'Getúlio', '\\n', 'Vargas', 'após', 'a', 'derrota', 'da', 'revolução', 'irrompida', 'em', 'julho', 'd', 'esse', 'ano', 'em', 'São', '\\n', 'Paulo', '.', '\\n\\n', 'Com', 'a', 'redemocratização', 'do', 'país', 'em', '1945', ',', 'candidatou-se', 'pelo', 'estado', 'de', 'São', '\\n', 'Paulo', ',', 'na', 'legenda', 'do', 'Partido', 'Social', 'Democrático', '(', 'PSD', ')', ',', 'à', 's', 'eleições', 'para', '\\n', 'a', 'Assembléia', 'Nacional', 'Constituinte', '(', 'ANC', ')', 'realizadas', 'em', 'dezembro', 'd', 'esse', '\\n', 'ano', '.', 'Obteve', 'uma', 'suplência', 'e', ',', 'em', 'julho', 'de', '1946', ',', 'foi', 'convocado', 'para', '\\n', 'participar', 'dos', 'trabalhos', 'constituintes', '.', 'Com', 'a', 'promulgação', 'da', 'nova', 'Carta', '\\n', '(', '18/9/1946', ')', 'e', 'a', 'transformação', 'da', 'Constituinte', 'em', 'Congresso', 'ordinário', ',', '\\n', 'integrou', 'a', 'Comissão', 'Permanente', 'de', 'Obras', 'Públicas', 'da', 'Câmara', 'Federal', ',', '\\n', 'tendo', 'votado', 'em', 'janeiro', 'de', '1948', 'a', 'favor', 'da', 'cassação', 'dos', 'mandatos', 'dos', '\\n', 'parlamentares', 'comunistas', '.', 'Deixou', 'a', 'Câmara', 'em', 'janeiro', 'de', '1951', '.', '\\n\\n', 'Foi', 'ainda', 'presidente', 'da', 'Companhia', 'de', 'Cimento', 'Vale', 'do', 'Paraíba', '.', '\\n\\n', 'Faleceu', 'no', 'Rio', 'de', 'Janeiro', 'no', 'dia', '17', 'de', 'maio', 'de', '1975', '.', '\\n\\n']\n"
     ]
    }
   ],
   "source": [
    "print([w.text for w in doc])"
   ]
  },
  {
   "cell_type": "code",
   "execution_count": null,
   "metadata": {},
   "outputs": [],
   "source": []
  }
 ],
 "metadata": {
  "kernelspec": {
   "display_name": "Python 3",
   "language": "python",
   "name": "python3"
  },
  "language_info": {
   "codemirror_mode": {
    "name": "ipython",
    "version": 3
   },
   "file_extension": ".py",
   "mimetype": "text/x-python",
   "name": "python",
   "nbconvert_exporter": "python",
   "pygments_lexer": "ipython3",
   "version": "3.6.8"
  },
  "latex_envs": {
   "LaTeX_envs_menu_present": true,
   "autoclose": false,
   "autocomplete": true,
   "bibliofile": "biblio.bib",
   "cite_by": "apalike",
   "current_citInitial": 1,
   "eqLabelWithNumbers": true,
   "eqNumInitial": 1,
   "hotkeys": {
    "equation": "Ctrl-E",
    "itemize": "Ctrl-I"
   },
   "labels_anchors": false,
   "latex_user_defs": false,
   "report_style_numbering": false,
   "user_envs_cfg": false
  }
 },
 "nbformat": 4,
 "nbformat_minor": 2
}
