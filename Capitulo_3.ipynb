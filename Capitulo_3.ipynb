{
 "cells": [
  {
   "cell_type": "markdown",
   "metadata": {},
   "source": [
    "# Identificando Entidades Nomeadas\n",
    "Neste capítulo vamos treinar um identificador de Entidades (NER) nomeadas usando a biblioteca [Spacy](https://spacy.io). A partir deste capítulo vamos importar também funções que já criamos anteriormente, e que encontram-se reproduzidas em  [dhbbmining.py](dhbbmining.py)"
   ]
  },
  {
   "cell_type": "code",
   "execution_count": 38,
   "metadata": {},
   "outputs": [],
   "source": [
    "import os, glob\n",
    "import spacy\n",
    "from spacy import displacy\n",
    "from sqlalchemy import create_engine\n",
    "from dhbbmining import *\n",
    "import ipywidgets as widgets"
   ]
  },
  {
   "cell_type": "markdown",
   "metadata": {},
   "source": [
    "Para utilizar o spacy em um corpus na lingua portuguesa, vamos primeiro importar o modelo liguístico do português"
   ]
  },
  {
   "cell_type": "code",
   "execution_count": 19,
   "metadata": {},
   "outputs": [],
   "source": [
    "nlp = spacy.load(\"pt_core_news_sm\")"
   ]
  },
  {
   "cell_type": "markdown",
   "metadata": {},
   "source": [
    "Em seguida podemos carregar os verbetes bográficos que salvamos no nosso banco SQLite."
   ]
  },
  {
   "cell_type": "code",
   "execution_count": 17,
   "metadata": {},
   "outputs": [
    {
     "data": {
      "text/html": [
       "<div>\n",
       "<style scoped>\n",
       "    .dataframe tbody tr th:only-of-type {\n",
       "        vertical-align: middle;\n",
       "    }\n",
       "\n",
       "    .dataframe tbody tr th {\n",
       "        vertical-align: top;\n",
       "    }\n",
       "\n",
       "    .dataframe thead th {\n",
       "        text-align: right;\n",
       "    }\n",
       "</style>\n",
       "<table border=\"1\" class=\"dataframe\">\n",
       "  <thead>\n",
       "    <tr style=\"text-align: right;\">\n",
       "      <th></th>\n",
       "      <th>index</th>\n",
       "      <th>arquivo</th>\n",
       "      <th>title</th>\n",
       "      <th>natureza</th>\n",
       "      <th>sexo</th>\n",
       "      <th>cargos</th>\n",
       "      <th>corpo</th>\n",
       "    </tr>\n",
       "  </thead>\n",
       "  <tbody>\n",
       "    <tr>\n",
       "      <th>0</th>\n",
       "      <td>0</td>\n",
       "      <td>1.text</td>\n",
       "      <td>COELHO, Machado</td>\n",
       "      <td>biográfico</td>\n",
       "      <td>m</td>\n",
       "      <td>\\n - dep. fed. DF 1927-1929 \\n - dep. fed. DF ...</td>\n",
       "      <td>\\n\\n«José Machado Coelho de Castro» nasceu em ...</td>\n",
       "    </tr>\n",
       "    <tr>\n",
       "      <th>1</th>\n",
       "      <td>1</td>\n",
       "      <td>10.text</td>\n",
       "      <td>ABÍLIO, Armando</td>\n",
       "      <td>biográfico</td>\n",
       "      <td>m</td>\n",
       "      <td>\\n - dep. fed. PB 1995-1999\\n - dep. fed. PB ...</td>\n",
       "      <td>\\n\\n«Armando Abílio Vieira» nasceu em Itaporan...</td>\n",
       "    </tr>\n",
       "    <tr>\n",
       "      <th>2</th>\n",
       "      <td>2</td>\n",
       "      <td>100.text</td>\n",
       "      <td>ALEIXO, Pedro</td>\n",
       "      <td>biográfico</td>\n",
       "      <td>m</td>\n",
       "      <td>\\n - const. 1934\\n - dep. fed. MG 1935-1937\\n ...</td>\n",
       "      <td>\\n\\n«Pedro Aleixo» nasceu em São Caetano, dist...</td>\n",
       "    </tr>\n",
       "    <tr>\n",
       "      <th>3</th>\n",
       "      <td>3</td>\n",
       "      <td>1000.text</td>\n",
       "      <td>CAMPOS, Eduardo</td>\n",
       "      <td>biográfico</td>\n",
       "      <td>m</td>\n",
       "      <td>\\n - dep. fed. PE 1995\\n - dep. fed. PE 1998-...</td>\n",
       "      <td>\\n\\n«Eduardo Henrique Accioly Campos» nasceu e...</td>\n",
       "    </tr>\n",
       "    <tr>\n",
       "      <th>4</th>\n",
       "      <td>4</td>\n",
       "      <td>1001.text</td>\n",
       "      <td>CAMPOS, Eleazar Soares</td>\n",
       "      <td>biográfico</td>\n",
       "      <td>m</td>\n",
       "      <td>\\n - magistrado\\n - interv. MA 1945-1946\\n</td>\n",
       "      <td>\\n\\n«Eleazar Soares Campos» nasceu em São Luís...</td>\n",
       "    </tr>\n",
       "  </tbody>\n",
       "</table>\n",
       "</div>"
      ],
      "text/plain": [
       "   index    arquivo                   title    natureza sexo  \\\n",
       "0      0     1.text         COELHO, Machado  biográfico    m   \n",
       "1      1    10.text         ABÍLIO, Armando  biográfico    m   \n",
       "2      2   100.text           ALEIXO, Pedro  biográfico    m   \n",
       "3      3  1000.text         CAMPOS, Eduardo  biográfico    m   \n",
       "4      4  1001.text  CAMPOS, Eleazar Soares  biográfico    m   \n",
       "\n",
       "                                              cargos  \\\n",
       "0  \\n - dep. fed. DF 1927-1929 \\n - dep. fed. DF ...   \n",
       "1   \\n - dep. fed. PB 1995-1999\\n - dep. fed. PB ...   \n",
       "2  \\n - const. 1934\\n - dep. fed. MG 1935-1937\\n ...   \n",
       "3   \\n - dep. fed. PE 1995\\n - dep. fed. PE 1998-...   \n",
       "4         \\n - magistrado\\n - interv. MA 1945-1946\\n   \n",
       "\n",
       "                                               corpo  \n",
       "0  \\n\\n«José Machado Coelho de Castro» nasceu em ...  \n",
       "1  \\n\\n«Armando Abílio Vieira» nasceu em Itaporan...  \n",
       "2  \\n\\n«Pedro Aleixo» nasceu em São Caetano, dist...  \n",
       "3  \\n\\n«Eduardo Henrique Accioly Campos» nasceu e...  \n",
       "4  \\n\\n«Eleazar Soares Campos» nasceu em São Luís...  "
      ]
     },
     "execution_count": 17,
     "metadata": {},
     "output_type": "execute_result"
    }
   ],
   "source": [
    "eng = create_engine(\"sqlite:///minha_tabela.sqlite\")\n",
    "#dhbb = pd.read_sql_table('resultados')\n",
    "biograficos = pd.read_sql_query('select * from resultados where natureza=\"biográfico\"', con=eng)\n",
    "biograficos.head()"
   ]
  },
  {
   "cell_type": "markdown",
   "metadata": {},
   "source": [
    "Para começar a utilizar o Spacy, precisamos primeiro precisamos processar o texto. Nesta passagem várias análises linguísticas são realizadas."
   ]
  },
  {
   "cell_type": "code",
   "execution_count": 35,
   "metadata": {},
   "outputs": [
    {
     "data": {
      "text/plain": [
       "spacy.tokens.doc.Doc"
      ]
     },
     "execution_count": 35,
     "metadata": {},
     "output_type": "execute_result"
    }
   ],
   "source": [
    "doc = nlp(biograficos.corpo[0].strip())\n",
    "type(doc)"
   ]
  },
  {
   "cell_type": "code",
   "execution_count": 36,
   "metadata": {},
   "outputs": [
    {
     "name": "stdout",
     "output_type": "stream",
     "text": [
      "« « PUNCT PU|@PU punct « False False\n",
      "José José PROPN PROPN nsubj Xxxx True False\n",
      "Machado Machado PROPN PROPN flat:name Xxxxx True False\n",
      "Coelho Coelho PROPN PROPN flat:name Xxxxx True False\n",
      "de de ADP PRP|@N< case xx True True\n",
      "Castro Castro PROPN PROP|@P< nmod Xxxxx True False\n",
      "» » PUNCT PU|@PU punct » False False\n"
     ]
    }
   ],
   "source": [
    "for i, token in enumerate(doc):\n",
    "    print(token.text, token.lemma_, token.pos_, token.tag_, token.dep_,\n",
    "            token.shape_, token.is_alpha, token.is_stop)\n",
    "    if i>5:\n",
    "        break\n",
    "    "
   ]
  },
  {
   "cell_type": "markdown",
   "metadata": {},
   "source": [
    "## Testando o NER do Spacy\n",
    "Como o Spacy já inclui algum suporte à lingua portuguesa, antes de pensar em treinar nosso próprio NER, podemos avaliar a performance do existente. \n",
    "\n",
    "Abaixo vamos construir uma visualização interativa da marcação de entidades nos verbetes do DHBB."
   ]
  },
  {
   "cell_type": "code",
   "execution_count": 63,
   "metadata": {},
   "outputs": [],
   "source": [
    "from IPython.display import display,clear_output\n",
    "from ipywidgets import interact"
   ]
  },
  {
   "cell_type": "code",
   "execution_count": 73,
   "metadata": {},
   "outputs": [
    {
     "data": {
      "application/vnd.jupyter.widget-view+json": {
       "model_id": "1be19aa2af064791b9c3c6f9e4d2aae0",
       "version_major": 2,
       "version_minor": 0
      },
      "text/plain": [
       "interactive(children=(IntSlider(value=0, description='e', max=6724), Output()), _dom_classes=('widget-interact…"
      ]
     },
     "metadata": {},
     "output_type": "display_data"
    }
   ],
   "source": [
    "@interact(e=(0, len(biograficos)))\n",
    "def mostra_ner(e=0):\n",
    "    text = biograficos.iloc[e].corpo.strip()\n",
    "    doc = nlp(text)\n",
    "    displacy.render(doc, style=\"ent\", jupyter=True)\n",
    "    clear_output(wait=True)"
   ]
  },
  {
   "cell_type": "markdown",
   "metadata": {},
   "source": [
    "Além da visualização, podemos extrair as entidades presentes em um verbete:"
   ]
  },
  {
   "cell_type": "code",
   "execution_count": 74,
   "metadata": {},
   "outputs": [
    {
     "name": "stdout",
     "output_type": "stream",
     "text": [
      "José Machado Coelho de Castro» 1 31 PER\n",
      "Lorena 42 48 LOC\n",
      "SP 50 52 LOC\n",
      "Ginásio Diocesano de São Paulo 67 97 LOC\n",
      "Faculdade de Ciências Jurídicas 127 158 ORG\n",
      "Sociais 161 168 LOC\n",
      "Cunha 220 225 LOC\n",
      "SP 227 229 LOC\n",
      "Rio de\n",
      "Janeiro 263 277 LOC\n",
      "Distrito Federal 285 301 LOC\n",
      "Distrito Federal 357 373 LOC\n",
      "Câmara 488 494 LOC\n",
      "Getúlio Vargas 575 589 PER\n",
      "Ligado 591 597 LOC\n",
      "Washington Luís 654 669 PER\n",
      "Guanabara 682 691 LOC\n",
      "Alcântara 951 960 LOC\n",
      "Lisboa 965 971 LOC\n",
      "Getúlio 1050 1057 PER\n",
      "Vargas 1058 1064 PER\n",
      "São 1125 1128 LOC\n",
      "Paulo 1129 1134 LOC\n",
      "São 1206 1209 LOC\n",
      "Paulo 1210 1215 LOC\n",
      "Partido Social Democrático 1231 1257 ORG\n",
      "PSD 1259 1262 ORG\n",
      "Assembléia Nacional Constituinte 1284 1316 ORG\n",
      "ANC 1318 1321 ORG\n",
      "Carta\n",
      " 1484 1490 PER\n",
      "Constituinte 1523 1535 MISC\n",
      "Congresso 1539 1548 LOC\n",
      "Comissão Permanente de Obras Públicas da Câmara Federal 1571 1626 ORG\n",
      "Câmara 1732 1738 ORG\n",
      "Companhia de Cimento Vale do Paraíba 1784 1820 ORG\n",
      "Rio de Janeiro 1834 1848 LOC\n"
     ]
    }
   ],
   "source": [
    "for ent in doc.ents:\n",
    "    print(ent.text, ent.start_char, ent.end_char, ent.label_)"
   ]
  },
  {
   "cell_type": "markdown",
   "metadata": {},
   "source": [
    "## Treinando Um identificador de Entidades a partir do DHBB\n",
    "Identificadores de entidades são algoritmos treinados em corpora manualmente anotados. Como cada corpora possui um conjunto particular de entidades, para uma performance ótima o ideal é treinarmos o modelo no Próprio DHBB. Para este fim utilizaremos os dicionários já disponíveis no DHBB,  juntamente com o índice construído no capítulo 2 para recuperar o contexto de cada entrada dos dicionários."
   ]
  },
  {
   "cell_type": "code",
   "execution_count": 2,
   "metadata": {},
   "outputs": [],
   "source": [
    "from whoosh import index \n",
    "import os\n",
    "from whoosh.qparser import QueryParser\n",
    "from whoosh import qparser"
   ]
  },
  {
   "cell_type": "markdown",
   "metadata": {},
   "source": [
    "O primeiro passo é abrirmos o nosso indice."
   ]
  },
  {
   "cell_type": "code",
   "execution_count": 3,
   "metadata": {},
   "outputs": [],
   "source": [
    "if os.path.exists('indexdir'):\n",
    "    indice = index.open_dir('indexdir')"
   ]
  },
  {
   "cell_type": "code",
   "execution_count": 5,
   "metadata": {},
   "outputs": [
    {
     "data": {
      "text/plain": [
       "6724"
      ]
     },
     "execution_count": 5,
     "metadata": {},
     "output_type": "execute_result"
    }
   ],
   "source": [
    "indice.doc_count"
   ]
  },
  {
   "cell_type": "code",
   "execution_count": 10,
   "metadata": {},
   "outputs": [],
   "source": [
    "def busca(consulta):\n",
    "    qp = QueryParser(\"corpo\", indice.schema)\n",
    "    qp.add_plugin(qparser.EveryPlugin())\n",
    "    query = qp.parse(consulta)\n",
    "    \n",
    "    with indice.searcher() as searcher:\n",
    "        results = [(dict(hit),hit.highlights(\"corpo\")) for hit in searcher.search(query, limit=None)]\n",
    "    return results"
   ]
  },
  {
   "cell_type": "code",
   "execution_count": 12,
   "metadata": {},
   "outputs": [
    {
     "data": {
      "text/plain": [
       "({'caminho': '3822.text',\n",
       "  'corpo': '\\n\\n«Paulo Nogueira Filho» nasceu na cidade de São Paulo no dia 16 de\\nnovembro de 1898, filho de Paulo de Almeida Nogueira e de Ester\\nNogueira. Seu avô, José Paulino Nogueira, foi coronel da Guarda\\nNacional, fazendeiro, comerciante e iniciador de grandes empreendimentos\\nfinanceiros.\\n\\nDescendente de famílias abastadas, proprietárias de fazendas e\\nindústrias, Paulo Nogueira Filho conviveu desde a infância com\\ndestacadas personalidades do mundo econômico e político da época, como\\nManuel de Campos Sales, José Gomes Pinheiro Machado, Carlos Guimarães,\\nJosé Maria Whitaker e outros. Recebeu educação cuidadosa, freqüentando\\ndurante dois anos uma escola na Europa. Concluiu os estudos secundários\\nno Colégio São Bento, na capital paulista, e, depois de estudar durante\\nsete meses no curso preparatório Henrique Greenen, ingressou em 1914 na\\nFaculdade de Direito de São Paulo. Desde o início do curso, desenvolveu\\nintensa atividade política, iniciada na campanha pelo serviço militar\\nobrigatório e o voto secreto, sob a liderança de Olavo Bilac e Miguel\\nPereira. Em decorrência de sua participação nesse movimento, ainda como\\nprimeiranista ingressou no Voluntariado de Manobras organizado pelo\\nExército e, em seguida, integrou o Batalhão Acadêmico formado na sua\\nfaculdade. Em 1916, criou junto com um grupo de colegas o grêmio\\nliterário Álvares de Azevedo que, mobilizando recursos privados,\\nconstruiu uma escola noturna dirigida por estudantes e destinada à\\nalfabetização de adultos.\\n\\nO torpedeamento do navio brasileiro «Paraná» por um submarino alemão em 7\\nde abril de 1917, durante a Primeira Guerra Mundial, gerou intensa onda\\nde protestos de cunho nacionalista. Enquanto Rui Barbosa, no Rio, e\\nJúlio de Mesquita, em São Paulo, escreviam veementes artigos de\\nprotesto, estudantes organizaram comícios e, no dia 12, uma multidão\\nempastelou o «Diário Alemão». Nesse contexto, foi fundada em São Paulo a\\nLiga Nacionalista, seguidora das idéias de Olavo Bilac e presidida pelo\\nprofessor Frederico Steidel. Paulo Nogueira Filho foi um dos primeiros\\nfiliados dessa organização. Ainda estudante, apoiou a candidatura de\\nLuís Pereira Barreto para o Senado estadual, vitoriosa depois de uma\\ncampanha que realizou inúmeras caravanas pelo interior e desafiou o\\ndomínio político exercido pelo Partido Republicano Paulista (PRP) no\\nestado.\\n\\nPor ocasião da epidemia de gripe de 1918, o governo facultou a aprovação\\nde estudantes por decreto, mas a Liga Nacionalista exigiu que seus\\nassociados prestassem os exames finais. Descontentes, Paulo Nogueira\\nFilho e outros estudantes lançaram, em 28 de janeiro de 1919, o chamado\\n«Manifesto dos 60», formalizando o rompimento com a Liga e criticando\\nduramente seu presidente. Nos meses seguintes, Paulo Nogueira apoiou\\nativamente a campanha de Rui Barbosa para a presidência da República,\\ntornada vaga com a morte de Francisco de Paula Rodrigues Alves. Apesar\\nda vitória de Epitácio Pessoa no pleito realizado em 13 de abril de\\n1919, a participação na campanha eleitoral estimulou o liberalismo de\\nPaulo Nogueira Filho, bem como sua admiração pelo candidato derrotado.\\n\\nEm 1921, casou-se com Regina Sales de Oliveira Coutinho, descendente de\\numa família paulista tradicional. No ano seguinte, decidido a dedicar-se\\naos negócios, reorganizou a Companhia de Tecidos de Seda Santa Branca,\\nde sua propriedade, elaborando um regimento interno para a empresa\\nbaseado nos códigos de trabalho vigentes nos países de capitalismo\\navançado.\\n\\n## A formação do Partido Democrático\\n\\nPaulo Nogueira Filho viajou à Europa em 1924 para tomar conhecimento de\\ntécnicas mais avançadas de tecelagem. De volta ao Brasil, simpatizou com\\no movimento revolucionário deflagrado em 5 de julho de 1924 na capital\\npaulista sob o comando do general Isidoro Dias Lopes, mas não chegou a\\naderir. Mesmo assim, intensificou sua atividade política sob a\\ninfluência dos movimentos que combatiam a oligarquia dominante em São\\nPaulo, vinculada ao PRP. No mês seguinte ao seu retorno, sob o estado de\\nsítio que vigorou durante todo o governo de Artur Bernardes, convocou\\numa reunião em sua casa para organizar uma sociedade secreta que teria\\ncomo objetivo criar um novo partido político e um jornal. Surgiu assim,\\nem 31 de agosto de 1924, a Sociedade Invisível de Ação Política (SIAP),\\ncujo termo de fundação foi assinado por Joaquim de Abreu Sampaio Vidal,\\nJosé Benaton Prado, Paulo Vicente de Azevedo, Valdemar Ferreira, José\\nMaria de Camargo Aranha, Tácito de Almeida, Tomás Lessa, Rubens Borba\\nAlves de Morais, Mário de Andrade, Francisco Malta Cardoso, Clóvis\\nRibeiro, Antônio Vicente de Azevedo e pelo próprio Paulo Nogueira Filho.\\nO programa dessa organização defendia a eleição do presidente da\\nRepública pelo Congresso Nacional, o controle parlamentar sobre as\\natividades dos ministros, a limitação do estado de sítio aos casos de\\nguerra, a realização de uma reforma tributária e a adoção de leis\\nreguladoras das relações entre operários e patrões.\\n\\nEm virtude do estado de sítio e da vigilância policial, a SIAP se\\nlimitou a reuniões esporádicas, mas tornou-se uma das principais\\nvertentes na articulação de um novo partido paulista. Em 1925, Paulo\\nNogueira Filho, o conselheiro Antônio da Silva Prado e outros buscaram\\naglutinar a crescente oposição ao regime vigente, entrando em contato\\ncom o deputado José Adriano Marrey Júnior - que proclamava na Câmara\\nEstadual a necessidade de formar um partido popular - e Valdemar\\nFerreira - que tentava criar um partido liberal. Da aglutinação dessas\\ncorrentes surgiu o Partido Democrático (PD) de São Paulo, cuja comissão\\norganizadora se reuniu pela primeira vez na casa de Antônio Prado em 24\\nde fevereiro de 1926 e elegeu Paulo Nogueira Filho para a secretaria\\ngeral. A nova agremiação defendia as instituições da democracia liberal,\\nlutando especialmente pela reforma eleitoral e o voto secreto, mas era\\ndeliberadamente vaga na definição das principais reivindicações\\ntrabalhistas, defendendo “todas as medidas que interessam à questão\\nsocial”.\\n\\nDurante o primeiro congresso do novo partido, realizado em 21 de março\\nde 1927, Paulo Nogueira Filho defendeu, com êxito, a criação de um\\njornal vinculado à causa democrática e propôs um estatuto que incluía a\\nadoção do voto secreto para a escolha dos dirigentes partidários. Apesar\\nde contar em sua direção com uma clara maioria de fazendeiros e\\nprofissionais de alta extração social, não se diferenciando nesse\\naspecto das correntes tradicionais, o PD encontrou excepcional\\nreceptividade em São Paulo, conseguindo cerca de 20 mil filiações em\\nmenos de três meses. Em 1º de junho de 1927 foi assinado o manifesto de\\nlançamento da Sociedade Anônima Diário Nacional, empresa dirigida por\\nPaulo Nogueira Filho e Marrey Júnior e responsável pelo jornal do\\npartido cujo primeiro número foi publicado em 14 de julho seguinte.\\n\\nPouco depois, Paulo Nogueira e Francisco Morato viajaram ao Rio de\\nJaneiro, então Distrito Federal, para discutir com o líder gaúcho\\nJoaquim Francisco de Assis Brasil a criação de um partido de âmbito\\nnacional dentro da linha programática do PD. Os entendimentos\\nprosseguiram até a formação, em 21 de setembro de 1927, do Partido\\nDemocrático Nacional, cujo diretório provisório ficou composto por Assis\\nBrasil, Paulo de Morais Barros, Adolfo Bergamini, Francisco Morato,\\nMarrey Júnior, Plínio Casado e João Batista Luzardo, cabendo a Antônio\\nda Silva Prado o cargo de presidente de honra.\\n\\nPaulo Nogueira Filho participou intensamente da organização e\\ndesenvolvimento da campanha do PD para as eleições de 24 de fevereiro de\\n1928, quando seria renovada a Câmara Estadual paulista. A expectativa\\ndespertada pelos sucessivos comícios e a intensa mobilização da\\npopulação durante a campanha foram frustradas pela utilização da fraude\\nem larga escala por parte das correntes dominantes, desfechando um duro\\ngolpe nas esperanças de obter mudanças institucionais significativas\\natravés das urnas. Em conseqüência, alguns líderes do partido - entre os\\nquais Paulo Nogueira Filho - tenderam a se aproximar de setores da jovem\\noficialidade das forças armadas que defendiam a luta armada contra o\\nregime.\\n\\nQuatro dias depois das eleições em São Paulo, Paulo Nogueira Filho,\\nValdemar Ferreira, Berto Condé e Paulo Pinto de Carvalho integraram a\\ndelegação do PD ao Congresso de Bajé, onde três correntes da oposição\\ngaúcha - a federalista, a democrática e a castilhista dissidente - se\\nuniram, formando o Partido Libertador (PL), que adotou na íntegra o\\nprograma do Partido Democrático Nacional e aderiu à idéia\\nrevolucionária. Assis Brasil, principal líder do PL, incumbiu Paulo\\nNogueira Filho de realizar uma série de contatos no Rio Grande do Sul\\nantes de retornar a São Paulo. A primeira viagem foi à fronteira com a\\nArgentina para encontrar os chefes revolucionários Miguel Costa e\\nIsidoro Dias Lopes, exilados nesse país. Paulo Nogueira retornou em\\nseguida a Porto Alegre, onde conversou com Raul Pilla, foi depois a\\nPelotas contatar Anacleto Firpo e rumou, finalmente para a cidade de\\nMello, no Uruguai, a fim de rever Assis Brasil.\\n\\nAinda por essa época, Paulo Nogueira Filho viajou a Buenos Aires para\\nconversar com Luís Carlos Prestes sobre a preparação de um movimento\\narmado. Segundo seu depoimento posterior, Prestes era cético quanto à\\npossibilidade de que o PD e o PL pudessem atingir sozinhos seus\\nobjetivos programáticos, mas considerava útil a ação propagandista que\\npoderiam desenvolver. Ao mesmo tempo, mostrou-se disposto a participar\\ndo movimento revolucionário, desde que fosse possível prepará-lo de\\nmaneira adequada, levando Paulo Nogueira Filho a comprometer-se com a\\narrecadação dos fundos financeiros necessários.\\n\\nDe volta da viagem, Paulo Nogueira Filho publicou artigo no Diário de\\nSão Paulo de 19 de abril de 1928 intitulado “O pensamento político de\\nLuís Carlos Prestes”. Constatou, entretanto, que o clima político em São\\nPaulo era avesso a qualquer movimento revolucionário, pois os deputados\\neleitos pelo PD preferiam a manutenção da ordem e a maioria do partido\\npretendia persistir na prática eleitoral. Por outro lado, os\\nentendimentos com Assis Brasil, no Rio Grande do Sul, e Batista Luzardo\\ne Maurício de Lacerda, no Rio, reforçavam a idéia de que não havia\\ncondições de preparar a deflagração da luta armada. Essa também era a\\nopinião de Prestes, que escreveu carta a Nogueira Filho afirmando não\\nter recebido a quantia prometida, criticando a ação do PD e de Assis\\nBrasil, e recomendando uma ênfase especial no desenvolvimento da\\npropaganda antigoverno.\\n\\nO núcleo revolucionário civil mais próximo a Paulo Nogueira Filho se\\nressentia de uma coordenação precária com outros grupos. Esses\\nproblemas, entretanto, não impediam o crescimento do proselitismo dos\\ndemocráticos. Em 19 de julho de 1928, partiu de São Paulo em direção ao\\nNorte uma caravana formada por Assis Brasil, Maurício de Lacerda, Simões\\nLopes Filho, Valdemar Ferreira, Nereu Ramos, Davidoff Lessa, Roberto\\nMacedo e Vicente de Morais, recebendo calorosa recepção em diversas\\ncidades, especialmente em Recife, onde uma multidão calculada em 50 mil\\npessoas foi ouvir os oradores.\\n\\nConsiderando impossível organizar nesse momento um movimento\\nrevolucionário, Paulo Nogueira Filho exonerou-se da secretaria geral do\\nPD e da direção do «Diário Nacional», embarcando para a Europa em novembro\\nde 1928.\\n\\n## A Revolução de 1930\\n\\nDe volta ao Brasil em 1929, Paulo Nogueira Filho já encontrou a oposição\\narticulada em torno da Aliança Liberal, coligação de âmbito nacional que\\nlançara a candidatura de Getúlio Vargas para disputar o pleito\\npresidencial de março de 1930 com o candidato situacionista Júlio\\nPrestes, presidente de São Paulo e líder do PRP. Ainda na condição de\\nmembro do diretório central do PD, integrou-se à campanha aliancista e\\nassumiu a responsabilidade de reorganizar o «Diário Nacional», que estava\\nameaçado por uma crise financeira. Ao mesmo tempo, retomou seus contatos\\ncom os “tenentes” que atuavam em São Paulo sob a chefia de Antônio de\\nSiqueira Campos na preparação de um levante de âmbito nacional.\\n\\nPaulo Nogueira Filho foi um dos principais organizadores da visita de\\nGetúlio Vargas a São Paulo em 4 de janeiro de 1930, quando o candidato\\naliancista foi recebido e aclamado por uma imensa multidão. A campanha\\ntranscorreu em meio a grande tensão. A certa altura, ajudou a mobilizar\\ncerca de duzentos homens para defender a sede do «Diário Nacional»,\\nameaçada de empastelamento por parte de membros do PRP. Depois,\\ninformado sobre a existência de um plano para assassiná-lo, dirigiu-se\\nao secretário de Segurança do governo estadual, Antônio Carlos Sales\\nJúnior, para responsabilizar as autoridades por qualquer tipo de\\natentado ou violência contra sua pessoa.\\n\\nDurante toda a campanha eleitoral, Nogueira Filho continuou participando\\ndo grupo que, sob a chefia de Siqueira Campos, preparava a revolução em\\nSão Paulo. Com a vitória de Júlio Prestes nas eleições, os preparativos\\nforam acelerados, com a distribuição para os conspiradores de granadas\\nde mão fabricadas por Josias Carneiro Leão. Após a morte de Siqueira\\nCampos em desastre de avião no mês de maio de 1930, Ricardo Holl assumiu\\no comando revolucionário em São Paulo e destacou elementos do PD para o\\ninterior do estado, cabendo a Paulo Nogueira Filho o setor de Campinas.\\n\\nAs principais bases de apoio político-militar dos revolucionários\\nestavam localizadas no Rio Grande do Sul, Minas Gerais e Paraíba, que\\nseriam os estados iniciadores do levante. Com a definição das linhas\\ngerais do plano revolucionário, o PD designou Paulo Nogueira Filho e\\nAureliano Leite como seus representantes nas colunas gaúcha e mineira,\\nrespectivamente. Paulo Duarte, Carlos Morais Andrade, Carlos Prado,\\nAníbal Fagundes e outros líderes democráticos permaneceram na capital\\npaulista coordenando núcleos de revoltosos que entrariam em ação mais\\ntarde. Chegando ao Rio Grande do Sul, Paulo Nogueira Filho foi informado\\nde que a eclosão do movimento havia sido adiada e resolveu seguir para\\nBuenos Aires a fim de encontrar Prestes, que se recusou novamente a\\nparticipar do movimento. Na viagem de volta, constatou a disposição de\\nAssis Brasil e dos libertadores, favorável à luta armada.\\n\\nPaulo Nogueira Filho só chegou a Porto Alegre em 4 de outubro de 1930,\\nno dia seguinte à deflagração do levante que obteve êxito fulminante em\\ntodo o estado. Com a consolidação da vitória dos revolucionários gaúchos\\ne a organização da marcha para o norte, foi convidado a se juntar a\\nIldefonso Simões Lopes, Francisco Antunes Maciel, Joaquim Maurício\\nCardoso, Fernando de Abreu Ferreira e Anacleto Firpo no estado-maior\\ncivil de Getúlio Vargas, chefe supremo do movimento. Esses líderes\\npartiram no dia 12 com o objetivo de alcançar no Paraná os destacamentos\\nde vanguarda comandados por Miguel Costa, Alcides Etchegoyen e João\\nAlberto Lins de Barros. No início da viagem, Nogueira Filho conversou\\ncom Vargas sobre a situação em São Paulo, ficando acertado que Francisco\\nMorato, presidente do PD, assumiria o governo paulista depois da\\nvitória. No decorrer da campanha militar, integrou, junto com Antunes\\nMaciel, o primeiro escalão do destacamento comandado por Batista\\nLuzardo, que chegou a Ponta Grossa (PR) em 18 de outubro. Quatro dias\\ndepois redigiu uma mensagem conclamando os paulistas a colaborarem com a\\nrevolução.\\n\\nPressionada pelo avanço das tropas revolucionárias em todas as frentes,\\na alta hierarquia militar sediada no Rio depôs o presidente Washington\\nLuís no dia 24 de outubro, empossando uma junta que propôs a cessação\\ndos combates. Os revolucionários exigiram então a rendição das tropas\\nlegalistas estacionadas na fronteira de São Paulo com o Paraná, ao mesmo\\ntempo em que o general Hastínfilo de Moura assumia interinamente a\\nchefia do governo paulista em lugar de Júlio Prestes. No dia 3 de\\nnovembro, Getúlio Vargas foi empossado à frente do Governo Provisório.\\n\\nA reorganização política de São Paulo depois da vitória da revolução foi\\nmarcada por sucessivas crises resultantes do confronto entre os partidos\\ntradicionais no estado e as correntes tenentistas apoiadas pelo novo\\ngoverno federal. Paulo Nogueira Filho e seus companheiros esperavam a\\nnomeação de Francisco Morato para a interventoria paulista e se opunham\\nvigorosamente à entrega desse cargo ao “tenente” João Alberto. Durante o\\nchamado “governo dos 40 dias” (que existiu em São Paulo entre 26 de\\noutubro e 5 de dezembro de 1930, com o apoio do PD, sob a chefia de José\\nMaria Whitaker, Plínio Barreto e João Alberto, sucessivamente) Nogueira\\nFilho exerceu o cargo de subchefe de polícia, subordinado a Vicente Rao,\\na quem substituiu em diversas ocasiões. Numa delas, recebeu ordem de\\nJoão Alberto para permitir a instalação de uma sede do Partido Comunista\\nBrasileiro - então Partido Comunista do Brasil (PCB) - e garantir sua\\nliberdade de atuação. Junto com Elias Machado, Joaquim Celidônio e os\\nmajores Mário Barbosa de Oliveira e Heitor Lobato Vale, integrou também\\na Comissão Central de Sindicâncias, encarregada de coordenar o trabalho\\ndas dez juntas que atuavam no estado. Afastou-se nesse período, junto\\ncom José Marrey Júnior, da direção efetiva do Diário Nacional,\\ncontinuando, mesmo assim, a figurar na sua diretoria.\\n\\nPaulo Nogueira Filho foi convidado para participar da direção da Legião\\nRevolucionária, organização tenentista fundada em 12 de novembro de 1930\\nsob a liderança de Miguel Costa e João Alberto com o objetivo de apoiar\\no aprofundamento das reformas iniciadas com a vitória da revolução. Sua\\noposição às pretensões tenentistas em relação à interventoria paulista\\nlevaram-no porém a declinar do convite. Em 25 de novembro, João Alberto\\nfoi nomeado interventor, contrariando profundamente os desejos do PD.\\n\\n## Na Revolução de 1932\\n\\nNo início de 1931, Paulo Nogueira Filho foi credenciado como delegado do\\nPD junto ao Governo Provisório e, em fevereiro desse ano, recebeu a\\nincumbência de organizar a Comissão Central de Compras do governo\\nfederal.\\n\\nNesse período, a crise política em São Paulo se agravou, levando o PD a\\ndivulgar no dia 5 de abril um manifesto rompendo com João Alberto,\\nacusado de preterir paulistas ilustres em benefício de pessoas estranhas\\nao estado, manter no governo “elementos inconvenientes à tranqüilidade\\ngeral” e entregar diversas prefeituras a militares de sua confiança.\\nPaulo Nogueira Filho foi signatário desse documento e participou\\nativamente da articulação da Frente Única Paulista (FUP), coligação do\\nPD com o PRP lançada oficialmente em 16 de fevereiro de 1932 em torno de\\num programa que defendia a imediata reconstitucionalização do país e a\\nrestauração da autonomia estadual.\\n\\nA FUP passou a discutir a deflagração de levante armado, cujos\\npreparativos foram intensificados depois das grandes manifestações\\npopulares hostis à presença de Osvaldo Aranha, ministro da Fazenda, em\\nSão Paulo. Nesse contexto, Paulo Nogueira Filho promoveu a formação da\\nGuarda Paulista, mais tarde transformada no MMDC, organização que se\\ndestacou na preparação e no apoio à luta armada. Pouco depois, foi\\nsubstituído por Aureliano Leite na direção da organização.\\n\\nPaulo Nogueira Filho cooperou diretamente com a chefia do movimento\\nrevolucionário. No dia 8 de julho, quando a tensão chegava ao ápice,\\nviajou junto com João Neves da Fontoura para o Rio de Janeiro a fim de\\nrealizar uma última tentativa de evitar a luta armada. Não chegou a\\ncumprir essa missão em virtude da deflagração da Revolução\\nConstitucionalista no dia seguinte. No Rio, embarcou clandestinamente\\ncom um grupo de oficiais do Exército em uma frágil embarcação pesqueira\\nque rumou para o litoral paulista, e aí chegando se integrou às forças\\nrevolucionárias estacionadas no sul do estado sob o comando do coronel\\nBasílio Taborda.\\n\\nO desenvolvimento da guerra civil foi desfavorável aos\\nconstitucionalistas que, isolados do resto do país e incapazes de\\navançar para além das fronteiras de seu estado, assumiram uma posição\\nfundamentalmente defensiva durante o conflito. Apesar de todo o esforço\\nde guerra, marcado pela conversão de fábricas à produção bélica e pela\\nintensa mobilização popular, as dificuldades dos revoltosos foram se\\navolumando diante de um inimigo que em todas as frentes se mostrava\\nmuito mais numeroso e melhor provido tecnicamente. Nesse contexto,\\nNogueira Filho recebeu do governo paulista a importante missão de\\nchefiar uma delegação à Argentina, onde conseguiu levantar mil libras\\nesterlinas e 60 mil dólares correspondentes ao futuro envio de 250 mil\\nsacas de café.\\n\\nCom a derrota da revolução no início de outubro de 1932, Paulo Nogueira\\nFilho partiu para o exílio, de onde retornou no ano seguinte. Em outubro\\nde 1934, foi eleito deputado federal por São Paulo na legenda do Partido\\nConstitucionalista, passando a apoiar a candidatura afinal vitoriosa de\\nArmando de Sales Oliveira ao governo estadual. Em maio de 1935 iniciou\\nseu mandato na Câmara dos Deputados. Favorável à rigorosa Lei de\\nSegurança Nacional, apoiou em julho o fechamento da Aliança Nacional\\nLibertadora (ANL), frente política “contra o fascismo, o imperialismo e\\no latifúndio”.\\n\\nEm 10 de novembro de 1937, o presidente Getúlio Vargas liderou um golpe\\nmilitar que implantou o Estado Novo, fechando todos os órgãos\\nlegislativos do país. Contrário ao novo regime, Paulo Nogueira Filho foi\\npreso e deportado junto com Armando de Sales Oliveira e outros líderes\\npolíticos. Seu novo período de exílio durou cerca de sete anos, durante\\nos quais continuou combatendo o Estado Novo. Junto com outros exilados\\negressos do Partido Constitucionalista, assinou o manifesto enviado em 7\\nde janeiro de 1939 ao presidente dos Estados Unidos, Franklin Roosevelt,\\ncontra a “ditadura de Vargas”, e participou de organizações\\ninternacionais como o Mundo Livre e a União Republicana Latina, da qual\\nfoi vice-presidente.\\n\\nLogo depois da derrubada do Estado Novo em 29 de outubro de 1945, o\\nSupremo Tribunal Federal (STF) concedeu habeas-corpus impetrado por\\nquinhentos advogados para que Armando de Sales Oliveira, Otávio\\nMangabeira e Paulo Nogueira Filho pudessem retornar ao país. De volta ao\\nBrasil, Paulo Nogueira ingressou na União Democrática Nacional (UDN)\\npassando a fazer parte do secretariado nacional dessa agremiação,\\npresidido por Virgílio de Melo Franco. Dirigiu no período seguinte a\\ncampanha financeira do partido e criou o seu departamento de ação\\nsocial.\\n\\nNo pleito de 2 de dezembro de 1945, obteve a maior votação entre os\\ncandidatos udenistas que concorreram em São Paulo à Assembléia Nacional\\nConstituinte, reunida a partir de 5 de fevereiro de 1946. Teve destacada\\natuação no decorrer dos trabalhos de elaboração da nova Carta,\\napresentando, junto com seu colega Jurandir de Castro Pires Ferreira,\\n155 emendas ao projeto original elaborado pela Comissão Constitucional.\\nCom a promulgação da Constituição (18/9/1946), passou a exercer o\\nmandato ordinário, ao mesmo tempo em que exerceu interinamente a\\npresidência da agremiação durante a licença de Otávio Mangabeira, que\\nconcorria ao governo da Bahia. Nesse período publicou também diversos\\ntrabalhos relativos à sua atividade parlamentar como: «Discursos sobre a\\norganização do estado» (1946), «Emendas ao projeto de Constituição» (1946),\\n«Em defesa da autonomia de São Paulo» (1947), «Em defesa das instituições»,\\n«Fundamentos do regime representativo» (1947).\\n\\nEm 1948, juntamente com outros membros da UDN divergiu da direção do\\npartido e participou da formação da Ação Popular Renovadora, ingressando\\nem seguida no Partido Social Progressista (PSP). Tornou-se depois\\nsecretário-geral dessa agremiação, afastando-se do cargo durante a\\ncampanha eleitoral de 1950 para a presidência da República. O PSP,\\naliado ao Partido Trabalhista Brasileiro (PTB), lançou a candidatura de\\nGetúlio Vargas, que venceu as eleições por ampla margem de votos.\\n\\nDeixando a Câmara dos Deputados em janeiro de 1951, Paulo Nogueira Filho\\nfoi nomeado por Vargas, em fevereiro seguinte, conselheiro político da\\ndelegação brasileira, chefiada por João Neves da Fontoura, que\\ncompareceu à IV Conferência de Consulta dos Chanceleres Americanos,\\nrealizada em Washington. Durante os trabalhos, apresentou aos outros\\nmembros da delegação a proposta de criação da Assembléia dos Povos\\nAmericanos, que seria constituída no âmbito da Organização dos Estados\\nAmericanos (OEA) por parlamentares eleitos nos diversos países. Embora a\\nidéia contasse com a aprovação de João Neves, não pôde ser levada a\\nplenário por fugir à pauta da conferência. De volta ao Brasil, foi\\nnomeado representante do governo na delegação do Instituto de\\nOrganização Racional do Trabalho (IDORT) à Conferência da Organização\\nInternacional do Trabalho, realizada em Bruxelas, na Bélgica, ainda em\\n1951.\\n\\nPaulo Nogueira Filho exerceu a direção do Serviço de Assistência ao\\nMenor (SAM) durante o governo de João Café Filho, iniciado logo após o\\nsuicídio de Vargas em 24 de agosto de 1954 e encerrado com o movimento\\nmilitar de 11 de novembro de 1955. Solidário ao presidente, Nogueira\\nFilho se demitiu no dia 22 seguinte.\\n\\nSua última participação política foi em apoio ao movimento\\npolítico-militar que derrubou o presidente João Goulart em 31 de março\\nde 1964. Em 18 de setembro de 1968, tomou posse na Academia Paulista de\\nLetras.\\n\\nPaulo Nogueira Filho morreu em São Paulo no dia 29 de outubro de 1969.\\n\\nAlém de discursos e conferências, escreveu diversas obras sobre história\\ne política. Reuniu sob o título de Idéias e lutas de um burguês\\nprogressista uma série de livros descrevendo sua biografia política e os\\nprincipais acontecimentos de sua época, mas a seqüência ficou incompleta\\nem virtude de sua morte. Sob essa denominação geral, foram publicados\\ndois volumes intitulados «O Partido Democrático e a Revolução de 1930» (2ª\\ned., 1965) e quatro volumes denominados genericamente «A guerra cívica de\\n1932» (1965-1967). Escreveu ainda «Regime de liberdade social» (1951),\\n«Sangue, corrupção e vergonha» (1956), «Conjugação das opressões\\ncapitalista e comunista» (1965) e «Autogestão» (1969).\\n\\n\\n',\n",
       "  'title': 'NOGUEIRA FILHO, Paulo'},\n",
       " 'Paulo Nogueira <b class=\"match term0\">Filho</b>» nasceu na cidade <b class=\"match term1\">de</b> São Paulo no dia 16 <b class=\"match term1\">de</b>\\nnovembro <b class=\"match term1\">de</b> 1898, <b class=\"match term2\">filho</b> <b class=\"match term1\">de</b> Paulo <b class=\"match term1\">de</b> Almeida Nogueira e <b class=\"match term1\">de</b> Ester\\nNogueira. Seu avô...<b class=\"match term0\">Filho</b> publicou artigo no Diário <b class=\"match term1\">de</b>\\nSão Paulo <b class=\"match term1\">de</b> 19 <b class=\"match term1\">de</b> abril <b class=\"match term1\">de</b> 1928 intitulado “O pensamento...<b class=\"match term0\">Filho</b> morreu em São Paulo no dia 29 <b class=\"match term1\">de</b> outubro <b class=\"match term1\">de</b> 1969.\\n\\nAlém <b class=\"match term1\">de</b> discursos e conferências')"
      ]
     },
     "execution_count": 12,
     "metadata": {},
     "output_type": "execute_result"
    }
   ],
   "source": [
    "resultados = busca('\"filho de\"')[0]"
   ]
  },
  {
   "cell_type": "markdown",
   "metadata": {},
   "source": [
    "Agora já temos os ingredientes necessários para treinar um modelo de entidades usando a biblioteca spacy."
   ]
  },
  {
   "cell_type": "code",
   "execution_count": 13,
   "metadata": {},
   "outputs": [],
   "source": [
    "import random\n",
    "from pathlib import Path\n",
    "import spacy\n",
    "from spacy.util import minibatch, compounding"
   ]
  },
  {
   "cell_type": "markdown",
   "metadata": {},
   "source": [
    "Primeiro precisamos criar o conjunto de treinamento do modelo. e deve ter  a forma de uma lista como a descrita abaixo.\n",
    "```python\n",
    "    TRAIN_DATA = [\n",
    "        (\"nasceu em Itaporanga ( PB ) no dia 29 de dezembro de 1944 , filho de Argemiro Abílio de Sousa\", \n",
    "         {\"entities\": [(10, 20, \"LOC\"), (69, 93, \"PERSON\")]}\n",
    "        ),\n",
    "    ]\n",
    "```"
   ]
  },
  {
   "cell_type": "code",
   "execution_count": 14,
   "metadata": {},
   "outputs": [
    {
     "data": {
      "text/plain": [
       "69"
      ]
     },
     "execution_count": 14,
     "metadata": {},
     "output_type": "execute_result"
    }
   ],
   "source": [
    "def gera_dados_treinamento(dicionário, tag):\n",
    "    pass"
   ]
  },
  {
   "cell_type": "code",
   "execution_count": null,
   "metadata": {},
   "outputs": [],
   "source": [
    "def main(model=pt, output_dir=dhbb_nlp, n_iter=100):\n",
    "    \"\"\"Load the model, set up the pipeline and train the entity recognizer.\"\"\"\n",
    "    if model is not None:\n",
    "        nlp = spacy.load(model)  # load existing spaCy model\n",
    "        print(\"Loaded model '%s'\" % model)\n",
    "    else:\n",
    "        nlp = spacy.blank(\"pt\")  # create blank Language class\n",
    "        print(\"Created blank 'pt' model\")\n",
    "\n",
    "    # create the built-in pipeline components and add them to the pipeline\n",
    "    # nlp.create_pipe works for built-ins that are registered with spaCy\n",
    "    if \"ner\" not in nlp.pipe_names:\n",
    "        ner = nlp.create_pipe(\"ner\")\n",
    "        nlp.add_pipe(ner, last=True)\n",
    "    # otherwise, get it so we can add labels\n",
    "    else:\n",
    "        ner = nlp.get_pipe(\"ner\")\n",
    "\n",
    "    # add labels\n",
    "    for _, annotations in TRAIN_DATA:\n",
    "        for ent in annotations.get(\"entities\"):\n",
    "            ner.add_label(ent[2])\n",
    "\n",
    "    # get names of other pipes to disable them during training\n",
    "    other_pipes = [pipe for pipe in nlp.pipe_names if pipe != \"ner\"]\n",
    "    with nlp.disable_pipes(*other_pipes):  # only train NER\n",
    "        # reset and initialize the weights randomly – but only if we're\n",
    "        # training a new model\n",
    "        if model is None:\n",
    "            nlp.begin_training()\n",
    "        for itn in range(n_iter):\n",
    "            random.shuffle(TRAIN_DATA)\n",
    "            losses = {}\n",
    "            # batch up the examples using spaCy's minibatch\n",
    "            batches = minibatch(TRAIN_DATA, size=compounding(4.0, 32.0, 1.001))\n",
    "            for batch in batches:\n",
    "                texts, annotations = zip(*batch)\n",
    "                nlp.update(\n",
    "                    texts,  # batch of texts\n",
    "                    annotations,  # batch of annotations\n",
    "                    drop=0.5,  # dropout - make it harder to memorise data\n",
    "                    losses=losses,\n",
    "                )\n",
    "            print(\"Losses\", losses)\n",
    "\n",
    "    # test the trained model\n",
    "    for text, _ in TRAIN_DATA:\n",
    "        doc = nlp(text)\n",
    "        print(\"Entities\", [(ent.text, ent.label_) for ent in doc.ents])\n",
    "        print(\"Tokens\", [(t.text, t.ent_type_, t.ent_iob) for t in doc])\n",
    "\n",
    "    # save model to output directory\n",
    "    if output_dir is not None:\n",
    "        output_dir = Path(output_dir)\n",
    "        if not output_dir.exists():\n",
    "            output_dir.mkdir()\n",
    "        nlp.to_disk(output_dir)\n",
    "        print(\"Saved model to\", output_dir)\n",
    "\n",
    "        # test the saved model\n",
    "        print(\"Loading from\", output_dir)\n",
    "        nlp2 = spacy.load(output_dir)\n",
    "        for text, _ in TRAIN_DATA:\n",
    "            doc = nlp2(text)\n",
    "            print(\"Entities\", [(ent.text, ent.label_) for ent in doc.ents])\n",
    "            print(\"Tokens\", [(t.text, t.ent_type_, t.ent_iob) for t in doc])"
   ]
  }
 ],
 "metadata": {
  "kernelspec": {
   "display_name": "Python 3",
   "language": "python",
   "name": "python3"
  },
  "language_info": {
   "codemirror_mode": {
    "name": "ipython",
    "version": 3
   },
   "file_extension": ".py",
   "mimetype": "text/x-python",
   "name": "python",
   "nbconvert_exporter": "python",
   "pygments_lexer": "ipython3",
   "version": "3.6.8"
  },
  "latex_envs": {
   "LaTeX_envs_menu_present": true,
   "autoclose": false,
   "autocomplete": true,
   "bibliofile": "biblio.bib",
   "cite_by": "apalike",
   "current_citInitial": 1,
   "eqLabelWithNumbers": true,
   "eqNumInitial": 1,
   "hotkeys": {
    "equation": "Ctrl-E",
    "itemize": "Ctrl-I"
   },
   "labels_anchors": false,
   "latex_user_defs": false,
   "report_style_numbering": false,
   "user_envs_cfg": false
  }
 },
 "nbformat": 4,
 "nbformat_minor": 2
}
