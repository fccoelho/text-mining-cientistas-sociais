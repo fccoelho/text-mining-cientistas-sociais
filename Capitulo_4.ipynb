{
 "cells": [
  {
   "cell_type": "markdown",
   "metadata": {},
   "source": [
    "# Aplicando modelagem de assuntos ao DHBB\n",
    "Neste capítulo vamos explorar ferramentas de modelagem de assuntos e explorar aplicações ao DHBB. Como sempre, começamos com alguns imports familiares."
   ]
  },
  {
   "cell_type": "code",
   "execution_count": 1,
   "metadata": {
    "ExecuteTime": {
     "end_time": "2020-11-23T16:17:47.164236Z",
     "start_time": "2020-11-23T16:17:46.616397Z"
    }
   },
   "outputs": [],
   "source": [
    "import os, glob, pickle\n",
    "import spacy\n",
    "from spacy import displacy\n",
    "from sqlalchemy import create_engine\n",
    "from dhbbmining import *\n",
    "import ipywidgets as widgets\n",
    "from tqdm import tqdm"
   ]
  },
  {
   "cell_type": "markdown",
   "metadata": {},
   "source": [
    "Vamos também carregar o modelo de NLP para a língua portuguesa do Spacy:"
   ]
  },
  {
   "cell_type": "code",
   "execution_count": 2,
   "metadata": {
    "ExecuteTime": {
     "end_time": "2020-11-23T16:17:53.591152Z",
     "start_time": "2020-11-23T16:17:47.934362Z"
    }
   },
   "outputs": [
    {
     "name": "stdout",
     "output_type": "stream",
     "text": [
      "Defaulting to user installation because normal site-packages is not writeable\n",
      "Requirement already satisfied: pt_core_news_sm==2.3.0 from https://github.com/explosion/spacy-models/releases/download/pt_core_news_sm-2.3.0/pt_core_news_sm-2.3.0.tar.gz#egg=pt_core_news_sm==2.3.0 in /home/fccoelho/.local/lib/python3.8/site-packages (2.3.0)\n",
      "Requirement already satisfied: spacy<2.4.0,>=2.3.0 in /usr/local/lib/python3.8/dist-packages (from pt_core_news_sm==2.3.0) (2.3.2)\n",
      "Requirement already satisfied: plac<1.2.0,>=0.9.6 in /usr/local/lib/python3.8/dist-packages (from spacy<2.4.0,>=2.3.0->pt_core_news_sm==2.3.0) (1.1.3)\n",
      "Requirement already satisfied: wasabi<1.1.0,>=0.4.0 in /usr/local/lib/python3.8/dist-packages (from spacy<2.4.0,>=2.3.0->pt_core_news_sm==2.3.0) (0.8.0)\n",
      "Requirement already satisfied: blis<0.5.0,>=0.4.0 in /usr/local/lib/python3.8/dist-packages (from spacy<2.4.0,>=2.3.0->pt_core_news_sm==2.3.0) (0.4.1)\n",
      "Requirement already satisfied: cymem<2.1.0,>=2.0.2 in /usr/local/lib/python3.8/dist-packages (from spacy<2.4.0,>=2.3.0->pt_core_news_sm==2.3.0) (2.0.3)\n",
      "Requirement already satisfied: thinc==7.4.1 in /usr/local/lib/python3.8/dist-packages (from spacy<2.4.0,>=2.3.0->pt_core_news_sm==2.3.0) (7.4.1)\n",
      "Requirement already satisfied: catalogue<1.1.0,>=0.0.7 in /usr/local/lib/python3.8/dist-packages (from spacy<2.4.0,>=2.3.0->pt_core_news_sm==2.3.0) (1.0.0)\n",
      "Requirement already satisfied: tqdm<5.0.0,>=4.38.0 in /usr/local/lib/python3.8/dist-packages (from spacy<2.4.0,>=2.3.0->pt_core_news_sm==2.3.0) (4.51.0)\n",
      "Requirement already satisfied: numpy>=1.15.0 in /usr/local/lib/python3.8/dist-packages (from spacy<2.4.0,>=2.3.0->pt_core_news_sm==2.3.0) (1.18.4)\n",
      "Requirement already satisfied: preshed<3.1.0,>=3.0.2 in /usr/local/lib/python3.8/dist-packages (from spacy<2.4.0,>=2.3.0->pt_core_news_sm==2.3.0) (3.0.2)\n",
      "Requirement already satisfied: requests<3.0.0,>=2.13.0 in /usr/local/lib/python3.8/dist-packages (from spacy<2.4.0,>=2.3.0->pt_core_news_sm==2.3.0) (2.23.0)\n",
      "Requirement already satisfied: srsly<1.1.0,>=1.0.2 in /usr/local/lib/python3.8/dist-packages (from spacy<2.4.0,>=2.3.0->pt_core_news_sm==2.3.0) (1.0.2)\n",
      "Requirement already satisfied: murmurhash<1.1.0,>=0.28.0 in /usr/local/lib/python3.8/dist-packages (from spacy<2.4.0,>=2.3.0->pt_core_news_sm==2.3.0) (1.0.2)\n",
      "Requirement already satisfied: setuptools in /usr/local/lib/python3.8/dist-packages (from spacy<2.4.0,>=2.3.0->pt_core_news_sm==2.3.0) (46.2.0)\n",
      "Requirement already satisfied: certifi>=2017.4.17 in /usr/local/lib/python3.8/dist-packages (from requests<3.0.0,>=2.13.0->spacy<2.4.0,>=2.3.0->pt_core_news_sm==2.3.0) (2020.6.20)\n",
      "Requirement already satisfied: urllib3!=1.25.0,!=1.25.1,<1.26,>=1.21.1 in /usr/local/lib/python3.8/dist-packages (from requests<3.0.0,>=2.13.0->spacy<2.4.0,>=2.3.0->pt_core_news_sm==2.3.0) (1.24.3)\n",
      "Requirement already satisfied: idna<3,>=2.5 in /usr/lib/python3/dist-packages (from requests<3.0.0,>=2.13.0->spacy<2.4.0,>=2.3.0->pt_core_news_sm==2.3.0) (2.10)\n",
      "Requirement already satisfied: chardet<4,>=3.0.2 in /usr/lib/python3/dist-packages (from requests<3.0.0,>=2.13.0->spacy<2.4.0,>=2.3.0->pt_core_news_sm==2.3.0) (3.0.4)\n",
      "\u001b[38;5;2m✔ Download and installation successful\u001b[0m\n",
      "You can now load the model via spacy.load('pt_core_news_sm')\n"
     ]
    }
   ],
   "source": [
    "!python -m spacy download pt_core_news_sm"
   ]
  },
  {
   "cell_type": "code",
   "execution_count": 3,
   "metadata": {
    "ExecuteTime": {
     "end_time": "2020-11-23T16:17:57.385811Z",
     "start_time": "2020-11-23T16:17:54.812550Z"
    }
   },
   "outputs": [],
   "source": [
    "nlp = spacy.load(\"pt_core_news_sm\")"
   ]
  },
  {
   "cell_type": "markdown",
   "metadata": {},
   "source": [
    "Agora faremos alguns imports novos, particularmente da biblioteca [Gensim](https://radimrehurek.com/gensim), que nos oferece as ferramentas que necessitamos para modelagem de assuntos."
   ]
  },
  {
   "cell_type": "code",
   "execution_count": 4,
   "metadata": {
    "ExecuteTime": {
     "end_time": "2020-11-23T16:18:01.501856Z",
     "start_time": "2020-11-23T16:18:00.889648Z"
    }
   },
   "outputs": [],
   "source": [
    "from string import punctuation\n",
    "from gensim.test.utils import datapath\n",
    "from gensim import utils\n",
    "from gensim.models import Word2Vec, word2vec"
   ]
  },
  {
   "cell_type": "markdown",
   "metadata": {},
   "source": [
    "Para minimizar o uso de memória, vamos construir uma classe para representar o nosso corpus como um iterador, operando diretamente do banco de dados. Desta forma, ao fazer nossas análises, podemos carregar um documento por vez para alimentar os modelos, sem a necessidade de manter todo o corpus na memória, economizando memória RAM."
   ]
  },
  {
   "cell_type": "code",
   "execution_count": 5,
   "metadata": {
    "ExecuteTime": {
     "end_time": "2020-11-23T16:18:16.943684Z",
     "start_time": "2020-11-23T16:18:16.921392Z"
    }
   },
   "outputs": [],
   "source": [
    "eng = create_engine(\"sqlite:///minha_tabela.sqlite\")\n",
    "\n",
    "class DHBBCorpus:\n",
    "    def __init__(self, ndocs=10000):\n",
    "        self.ndocs = min(7687,ndocs)\n",
    "        self.counter = 1\n",
    "    def __iter__(self):\n",
    "        with eng.connect() as con:\n",
    "            res = con.execute(f'select corpo from resultados limit {self.ndocs};')\n",
    "            for doc in res:\n",
    "                d = self.pre_process(doc[0])\n",
    "                if self.counter%10 == 0:\n",
    "                    print (f\"Verbete {self.counter} de {6*self.ndocs}\\r\", end='')\n",
    "                for s in d:\n",
    "                    yield s\n",
    "                self.counter += 1\n",
    "    def pre_process(self, doc):\n",
    "        n = nlp(doc, disable=['tagger', 'ner','entity-linker', 'textcat','entity-ruler','merge-noun-chunks','merge-entities','merge-subtokens'])\n",
    "        results = []\n",
    "        for sentence in n.sents:\n",
    "            s = sentence.text.split()\n",
    "            if not s:\n",
    "                continue\n",
    "            results.append([token.strip().strip(punctuation) for token in s if token.strip().strip(punctuation)])\n",
    "        return results\n",
    "        "
   ]
  },
  {
   "cell_type": "markdown",
   "metadata": {},
   "source": [
    "Abaixo um pequeno exemplo de como a classe `DHBBCorpus` funciona:"
   ]
  },
  {
   "cell_type": "code",
   "execution_count": 6,
   "metadata": {
    "ExecuteTime": {
     "end_time": "2020-11-23T16:18:20.359666Z",
     "start_time": "2020-11-23T16:18:20.294714Z"
    }
   },
   "outputs": [
    {
     "name": "stdout",
     "output_type": "stream",
     "text": [
      "['«José', 'Machado', 'Coelho', 'de', 'Castro»', 'nasceu', 'em', 'Lorena', 'SP']\n"
     ]
    }
   ],
   "source": [
    "DC = DHBBCorpus(5)\n",
    "for f in DC:\n",
    "    pass\n",
    "    print(f)\n",
    "    break\n",
    "    "
   ]
  },
  {
   "cell_type": "code",
   "execution_count": 7,
   "metadata": {
    "ExecuteTime": {
     "end_time": "2020-11-23T16:18:21.335474Z",
     "start_time": "2020-11-23T16:18:21.266254Z"
    }
   },
   "outputs": [],
   "source": [
    "Word2Vec?"
   ]
  },
  {
   "cell_type": "markdown",
   "metadata": {},
   "source": [
    "## Word2vec \n",
    "Vamos começar pelo treinamento de um modelo word2vec. Este modelo itera 6 vezez sobre o corpus logo, devemos ver o contador atingir 46122. Estas repetições são necessárias para permitir a "
   ]
  },
  {
   "cell_type": "code",
   "execution_count": 8,
   "metadata": {
    "ExecuteTime": {
     "end_time": "2020-11-23T16:18:32.158429Z",
     "start_time": "2020-11-23T16:18:31.671275Z"
    }
   },
   "outputs": [],
   "source": [
    "if os.path.exists('dhbb.w2v'):\n",
    "    model = Word2Vec.load('dhbb.w2v')\n",
    "else:\n",
    "    DC = DHBBCorpus()\n",
    "    model = Word2Vec(sentences=DC, workers=32)\n",
    "    model.save('dhbb.w2v')"
   ]
  },
  {
   "cell_type": "markdown",
   "metadata": {},
   "source": [
    "### Explorando o modelo"
   ]
  },
  {
   "cell_type": "code",
   "execution_count": 9,
   "metadata": {
    "ExecuteTime": {
     "end_time": "2020-11-23T16:18:35.450344Z",
     "start_time": "2020-11-23T16:18:35.437884Z"
    }
   },
   "outputs": [
    {
     "name": "stdout",
     "output_type": "stream",
     "text": [
      "«José\n",
      "Machado\n",
      "Coelho\n",
      "de\n",
      "Castro»\n",
      "nasceu\n",
      "em\n",
      "Lorena\n",
      "SP\n",
      "Estudou\n"
     ]
    }
   ],
   "source": [
    "for i, word in enumerate(model.wv.vocab):\n",
    "    if i == 10:\n",
    "        break\n",
    "    print(word)"
   ]
  },
  {
   "cell_type": "code",
   "execution_count": 10,
   "metadata": {
    "ExecuteTime": {
     "end_time": "2020-11-23T16:18:40.668582Z",
     "start_time": "2020-11-23T16:18:40.636594Z"
    }
   },
   "outputs": [
    {
     "data": {
      "text/plain": [
       "array([ 1.213255  ,  0.8772738 , -0.06480797,  3.2624714 ,  2.7141786 ,\n",
       "       -1.8534654 ,  2.2568564 ,  2.9633396 ,  2.872959  ,  0.17697811,\n",
       "        0.12649159,  2.1954768 ,  0.69300246,  0.7808246 , -1.8608911 ,\n",
       "       -1.9773395 , -6.7470145 ,  1.3309088 , -1.8495115 ,  1.4977074 ,\n",
       "        4.106705  ,  0.18757463,  0.976982  ,  0.50778925, -1.3095387 ,\n",
       "       -0.46490836,  1.3230817 , -1.0534579 , -3.3441863 , -4.0759525 ,\n",
       "        0.20254904,  2.8288093 ,  0.0304382 ,  0.79879284, -0.27596825,\n",
       "        1.0034108 ,  2.1574116 , -0.84378964, -2.6574318 ,  0.725499  ,\n",
       "       -2.5952895 ,  0.6314094 , -2.789002  ,  5.0512304 , -1.6781955 ,\n",
       "       -3.2558453 , -2.3100727 , -2.2926745 , -4.6876025 , -3.1457222 ,\n",
       "        0.19902074, -0.6323914 ,  1.0432411 , -1.1918347 ,  4.250325  ,\n",
       "       -2.759753  ,  2.7777524 ,  2.8528945 , -0.3918448 , -1.9812953 ,\n",
       "        4.549228  , -6.3611536 ,  0.09752683,  0.37324116,  0.77719754,\n",
       "       -3.6438515 , -3.4890673 , -2.3472724 ,  0.6998824 ,  3.6128554 ,\n",
       "       -2.5014155 , -1.9615922 , -1.4071759 ,  0.5612391 ,  1.0864763 ,\n",
       "        4.145173  , -0.7451139 , -5.0320497 , -1.4627253 , -5.186103  ,\n",
       "        1.4427031 ,  5.217514  , -2.8483255 ,  3.8392422 , -4.1885376 ,\n",
       "        3.3657196 , -3.235564  , -3.951503  , -1.6820241 ,  3.6057582 ,\n",
       "        5.227617  ,  1.9262496 , -1.3290535 ,  1.9148936 ,  5.4682064 ,\n",
       "        2.8205392 , -0.93365663, -0.58919495,  1.3472942 ,  1.4066038 ],\n",
       "      dtype=float32)"
      ]
     },
     "execution_count": 10,
     "metadata": {},
     "output_type": "execute_result"
    }
   ],
   "source": [
    "model.wv['deputado']"
   ]
  },
  {
   "cell_type": "code",
   "execution_count": 11,
   "metadata": {
    "ExecuteTime": {
     "end_time": "2020-11-23T16:18:42.930470Z",
     "start_time": "2020-11-23T16:18:42.926240Z"
    }
   },
   "outputs": [
    {
     "data": {
      "text/plain": [
       "38762"
      ]
     },
     "execution_count": 11,
     "metadata": {},
     "output_type": "execute_result"
    }
   ],
   "source": [
    "len(model.wv.vocab)"
   ]
  },
  {
   "cell_type": "code",
   "execution_count": 12,
   "metadata": {
    "ExecuteTime": {
     "end_time": "2020-11-23T16:18:44.926162Z",
     "start_time": "2020-11-23T16:18:44.800200Z"
    }
   },
   "outputs": [
    {
     "data": {
      "text/plain": [
       "[('cidadão', 0.7166314125061035),\n",
       " ('dever', 0.7115763425827026),\n",
       " ('universo', 0.708888053894043),\n",
       " ('pensamento', 0.7076699733734131),\n",
       " ('nacionalismo', 0.7048879861831665),\n",
       " ('senso', 0.7020969390869141),\n",
       " ('inimigo', 0.6951218843460083),\n",
       " ('espírito', 0.691114068031311),\n",
       " ('sentimento', 0.6901904940605164),\n",
       " ('desafio', 0.6858540773391724),\n",
       " ('fenômeno', 0.6775267720222473),\n",
       " ('leitor', 0.6737638115882874),\n",
       " ('retrato', 0.6691586971282959),\n",
       " ('veículo', 0.6683763265609741),\n",
       " ('trabalhador', 0.6611828804016113),\n",
       " ('erro', 0.6600130200386047),\n",
       " ('povo”', 0.6572052836418152),\n",
       " ('negócio', 0.6528052091598511),\n",
       " ('homem”', 0.650109052658081),\n",
       " ('liberalismo', 0.6475819945335388)]"
      ]
     },
     "execution_count": 12,
     "metadata": {},
     "output_type": "execute_result"
    }
   ],
   "source": [
    "model.wv.most_similar(positive=['homem'], topn=20)"
   ]
  },
  {
   "cell_type": "code",
   "execution_count": 13,
   "metadata": {
    "ExecuteTime": {
     "end_time": "2020-11-23T16:19:25.292271Z",
     "start_time": "2020-11-23T16:19:25.280819Z"
    }
   },
   "outputs": [
    {
     "data": {
      "text/plain": [
       "8713256"
      ]
     },
     "execution_count": 13,
     "metadata": {},
     "output_type": "execute_result"
    }
   ],
   "source": [
    "model.corpus_total_words"
   ]
  },
  {
   "cell_type": "code",
   "execution_count": 14,
   "metadata": {
    "ExecuteTime": {
     "end_time": "2020-11-23T16:19:26.887081Z",
     "start_time": "2020-11-23T16:19:26.876719Z"
    }
   },
   "outputs": [],
   "source": [
    "model.vocabulary?"
   ]
  },
  {
   "cell_type": "markdown",
   "metadata": {},
   "source": [
    "### Visualizando os vetores de palavras"
   ]
  },
  {
   "cell_type": "code",
   "execution_count": 15,
   "metadata": {
    "ExecuteTime": {
     "end_time": "2020-11-23T16:19:40.326620Z",
     "start_time": "2020-11-23T16:19:39.601169Z"
    }
   },
   "outputs": [],
   "source": [
    "from sklearn.decomposition import IncrementalPCA    # inital reduction\n",
    "from sklearn.manifold import TSNE                   # final reduction\n",
    "import numpy as np                                  # array handling\n",
    "\n",
    "\n",
    "def reduce_dimensions(model):\n",
    "    num_dimensions = 2  # final num dimensions (2D, 3D, etc)\n",
    "\n",
    "    vectors = [] # positions in vector space\n",
    "    labels = [] # keep track of words to label our data again later\n",
    "    i = 0\n",
    "    for word in model.wv.vocab:\n",
    "        vectors.append(model.wv[word])\n",
    "        labels.append(word)\n",
    "        i+=1\n",
    "        if i>200:\n",
    "            break\n",
    "\n",
    "    # convert both lists into numpy vectors for reduction\n",
    "    vectors = np.asarray(vectors)\n",
    "    labels = np.asarray(labels)\n",
    "\n",
    "    # reduce using t-SNE\n",
    "    vectors = np.asarray(vectors)\n",
    "    tsne = TSNE(n_components=num_dimensions, random_state=0)\n",
    "    vectors = tsne.fit_transform(vectors)\n",
    "\n",
    "    x_vals = [v[0] for v in vectors]\n",
    "    y_vals = [v[1] for v in vectors]\n",
    "    return x_vals, y_vals, labels\n",
    "\n",
    "\n",
    "x_vals, y_vals, labels = reduce_dimensions(model)\n",
    "\n",
    "def plot_with_plotly(x_vals, y_vals, labels, plot_in_notebook=True):\n",
    "    from plotly.offline import init_notebook_mode, iplot, plot\n",
    "    import plotly.graph_objs as go\n",
    "\n",
    "    trace = go.Scatter(x=x_vals, y=y_vals, mode='text', text=labels)\n",
    "    data = [trace]\n",
    "\n",
    "    if plot_in_notebook:\n",
    "        init_notebook_mode(connected=True)\n",
    "        iplot(data, filename='word-embedding-plot')\n",
    "    else:\n",
    "        plot(data, filename='word-embedding-plot.html')"
   ]
  },
  {
   "cell_type": "code",
   "execution_count": 17,
   "metadata": {
    "ExecuteTime": {
     "end_time": "2020-11-23T16:20:42.004525Z",
     "start_time": "2020-11-23T16:20:41.596107Z"
    }
   },
   "outputs": [
    {
     "data": {
      "text/html": [
       "        <script type=\"text/javascript\">\n",
       "        window.PlotlyConfig = {MathJaxConfig: 'local'};\n",
       "        if (window.MathJax) {MathJax.Hub.Config({SVG: {font: \"STIX-Web\"}});}\n",
       "        if (typeof require !== 'undefined') {\n",
       "        require.undef(\"plotly\");\n",
       "        requirejs.config({\n",
       "            paths: {\n",
       "                'plotly': ['https://cdn.plot.ly/plotly-latest.min']\n",
       "            }\n",
       "        });\n",
       "        require(['plotly'], function(Plotly) {\n",
       "            window._Plotly = Plotly;\n",
       "        });\n",
       "        }\n",
       "        </script>\n",
       "        "
      ]
     },
     "metadata": {},
     "output_type": "display_data"
    },
    {
     "data": {
      "application/vnd.plotly.v1+json": {
       "config": {
        "linkText": "Export to plot.ly",
        "plotlyServerURL": "https://plot.ly",
        "showLink": false
       },
       "data": [
        {
         "mode": "text",
         "text": [
          "«José",
          "Machado",
          "Coelho",
          "de",
          "Castro»",
          "nasceu",
          "em",
          "Lorena",
          "SP",
          "Estudou",
          "no",
          "Ginásio",
          "Diocesano",
          "São",
          "Paulo",
          "e",
          "bacharelou-se",
          "1910",
          "pela",
          "Faculdade",
          "Ciências",
          "Jurídicas",
          "Sociais",
          "Dedicando-se",
          "à",
          "advocacia",
          "foi",
          "promotor",
          "público",
          "Cunha",
          "depois",
          "delegado",
          "polícia",
          "Rio",
          "Janeiro",
          "então",
          "Distrito",
          "Federal",
          "Iniciou",
          "sua",
          "vida",
          "política",
          "como",
          "deputado",
          "federal",
          "pelo",
          "exercendo",
          "o",
          "mandato",
          "1927",
          "a",
          "1929",
          "Reeleito",
          "para",
          "legislatura",
          "iniciada",
          "maio",
          "1930",
          "ocupava",
          "cadeira",
          "na",
          "Câmara",
          "quando",
          "3",
          "outubro",
          "deflagrado",
          "movimento",
          "revolucionário",
          "liderado",
          "por",
          "Getúlio",
          "Vargas",
          "Ligado",
          "ao",
          "governo",
          "encontrava-se",
          "lado",
          "do",
          "presidente",
          "Washington",
          "Luís",
          "palácio",
          "Guanabara",
          "momento",
          "deposição",
          "dia",
          "24",
          "Junto",
          "com",
          "outros",
          "companheiros",
          "também",
          "solidários",
          "regime",
          "deposto",
          "que",
          "se",
          "haviam",
          "asilado",
          "embaixadas",
          "enviado",
          "novembro",
          "estrangeiro",
          "Em",
          "1932",
          "estava",
          "presente",
          "porto",
          "Alcântara",
          "Lisboa",
          "receber",
          "os",
          "revolucionários",
          "constitucionalistas",
          "exilados",
          "após",
          "derrota",
          "da",
          "revolução",
          "irrompida",
          "julho",
          "desse",
          "ano",
          "Com",
          "redemocratização",
          "país",
          "1945",
          "candidatou-se",
          "estado",
          "legenda",
          "Partido",
          "Social",
          "Democrático",
          "PSD",
          "às",
          "eleições",
          "Assembléia",
          "Nacional",
          "Constituinte",
          "ANC",
          "realizadas",
          "dezembro",
          "Obteve",
          "uma",
          "suplência",
          "1946",
          "convocado",
          "participar",
          "dos",
          "trabalhos",
          "constituintes",
          "promulgação",
          "nova",
          "Carta",
          "18/9/1946",
          "transformação",
          "Congresso",
          "ordinário",
          "integrou",
          "Comissão",
          "Permanente",
          "Obras",
          "Públicas",
          "tendo",
          "votado",
          "janeiro",
          "1948",
          "favor",
          "cassação",
          "mandatos",
          "parlamentares",
          "comunistas",
          "Deixou",
          "1951",
          "Foi",
          "ainda",
          "Companhia",
          "Cimento",
          "Vale",
          "Paraíba",
          "Faleceu",
          "17",
          "1975",
          "«Armando",
          "Abílio",
          "Vieira»",
          "Itaporanga",
          "PB",
          "29",
          "1944",
          "filho",
          "Argemiro",
          "Sousa",
          "Luísa",
          "Bronzeado",
          "Vieira",
          "1962",
          "ingressou",
          "Recife",
          "Médicas",
          "Universidade"
         ],
         "type": "scatter",
         "x": [
          0.24879823625087738,
          -0.34601029753685,
          -0.10670078545808792,
          4.180588722229004,
          2.612797737121582,
          1.395792007446289,
          7.225256443023682,
          2.7668545246124268,
          1.5992591381072998,
          2.811136484146118,
          1.0041521787643433,
          2.778620958328247,
          2.8612613677978516,
          0.3069600760936737,
          1.142438530921936,
          3.762296199798584,
          3.5068790912628174,
          -4.365606307983398,
          4.713099479675293,
          4.096798419952393,
          4.134875774383545,
          3.2020885944366455,
          4.947604656219482,
          3.276766300201416,
          3.35683536529541,
          4.44339656829834,
          -0.6424302458763123,
          2.857604503631592,
          3.4457921981811523,
          -0.7893602848052979,
          -3.2491726875305176,
          3.092971086502075,
          1.6369684934616089,
          1.859596848487854,
          0.8448277711868286,
          4.075563430786133,
          1.2265381813049316,
          0.023471230641007423,
          3.938774347305298,
          4.782035827636719,
          4.543012619018555,
          4.461693286895752,
          4.464529514312744,
          -0.41415664553642273,
          8.616215705871582,
          3.1367404460906982,
          6.041319847106934,
          1.5393296480178833,
          8.139810562133789,
          -4.752291202545166,
          4.308457851409912,
          -4.808444023132324,
          -2.0309386253356934,
          4.328833103179932,
          7.216426849365234,
          4.2204389572143555,
          -4.005147933959961,
          -5.476894378662109,
          5.641165256500244,
          -2.8657302856445312,
          4.77315092086792,
          9.471814155578613,
          6.597412586212158,
          -3.3951356410980225,
          -4.013570308685303,
          1.0033800601959229,
          0.11552873998880386,
          0.7344140410423279,
          0.09155922383069992,
          3.1426339149475098,
          -0.9658976197242737,
          -1.195603847503662,
          2.5665078163146973,
          2.320404529571533,
          0.3074133098125458,
          3.421807050704956,
          1.8261421918869019,
          1.4082967042922974,
          1.2391828298568726,
          -0.4126960039138794,
          0.932688295841217,
          2.2441389560699463,
          7.630993843078613,
          8.470115661621094,
          -0.1602753847837448,
          7.8518218994140625,
          -3.3917949199676514,
          2.641714572906494,
          -1.3255870342254639,
          2.6267404556274414,
          1.938336730003357,
          4.663532733917236,
          3.0101184844970703,
          2.3482139110565186,
          0.6821163296699524,
          3.631852388381958,
          5.325258731842041,
          6.4432373046875,
          2.9044113159179688,
          3.4535012245178223,
          1.0850989818572998,
          -4.012138843536377,
          7.365527629852295,
          7.044692516326904,
          -5.354439735412598,
          5.404814720153809,
          3.7877700328826904,
          2.6276938915252686,
          1.8801904916763306,
          2.027109384536743,
          3.1368744373321533,
          2.6521482467651367,
          1.1748907566070557,
          2.011613130569458,
          2.041788101196289,
          -3.248668670654297,
          -0.015515381470322609,
          4.555859565734863,
          0.22186744213104248,
          3.008383274078369,
          -4.000596523284912,
          0.49176979064941406,
          8.621212005615234,
          -1.4895802736282349,
          5.013344764709473,
          8.752551078796387,
          -5.511922836303711,
          5.903628826141357,
          8.87153434753418,
          6.528188705444336,
          -1.105512261390686,
          5.012330532073975,
          0.9980375170707703,
          -0.9318214058876038,
          2.9020097255706787,
          -2.3046998977661133,
          9.154216766357422,
          5.924944877624512,
          8.677935600280762,
          6.775630474090576,
          4.013885974884033,
          -4.0049333572387695,
          3.733736276626587,
          4.3129472732543945,
          -2.5431995391845703,
          -5.355386257171631,
          1.3541120290756226,
          3.0974338054656982,
          3.470480442047119,
          7.69484281539917,
          7.586984157562256,
          -2.0983035564422607,
          5.538543224334717,
          -2.0756750106811523,
          5.082897663116455,
          5.060906887054443,
          6.961517810821533,
          5.712268352508545,
          5.6731390953063965,
          6.395035743713379,
          5.82359504699707,
          6.424570560455322,
          6.3412041664123535,
          6.569985389709473,
          6.365938663482666,
          -4.004197120666504,
          -5.113365650177002,
          2.304471492767334,
          2.93396258354187,
          8.023931503295898,
          2.132749557495117,
          1.927433729171753,
          5.677577018737793,
          -5.236616134643555,
          -0.6506934762001038,
          4.777834415435791,
          7.679897308349609,
          2.96323823928833,
          1.85514497756958,
          7.626136302947998,
          1.3985013961791992,
          -3.345431089401245,
          -4.164864540100098,
          2.721487045288086,
          2.3924264907836914,
          2.811532735824585,
          2.9704720973968506,
          1.9082452058792114,
          -3.5672900676727295,
          -5.098221302032471,
          -2.049865961074829,
          2.180083751678467,
          -0.3876855671405792,
          1.1250391006469727,
          3.0024755001068115,
          -0.11300884932279587,
          -5.1052656173706055,
          3.2910823822021484,
          1.2619887590408325,
          3.1011064052581787,
          4.101410865783691
         ],
         "y": [
          -1.4073134660720825,
          -1.3202005624771118,
          -1.2277889251708984,
          3.4844164848327637,
          0.19766221940517426,
          -7.232619762420654,
          5.455520153045654,
          -0.21945269405841827,
          -3.7337615489959717,
          -3.3815016746520996,
          5.563104152679443,
          -3.931999444961548,
          -0.7277014851570129,
          -3.9110631942749023,
          -1.8356910943984985,
          2.8345470428466797,
          -2.905686140060425,
          -0.007832750678062439,
          6.865322113037109,
          -5.560357093811035,
          -5.260189533233643,
          -0.6491455435752869,
          -2.5475172996520996,
          0.6064196228981018,
          5.885166645050049,
          -3.786404609680176,
          -5.948241233825684,
          -1.9472306966781616,
          -1.1434762477874756,
          -1.8482931852340698,
          4.132652282714844,
          -1.9146122932434082,
          0.9907687306404114,
          -3.006591796875,
          -2.954047918319702,
          -1.0820549726486206,
          -4.390353202819824,
          4.486526012420654,
          -1.9275957345962524,
          4.903883457183838,
          -3.929283380508423,
          1.0782032012939453,
          1.705354928970337,
          -0.535560131072998,
          -3.435668706893921,
          7.96002721786499,
          1.7789149284362793,
          6.350593090057373,
          -1.7190648317337036,
          -0.060537271201610565,
          5.16093111038208,
          -0.17044638097286224,
          -0.420574426651001,
          2.276181697845459,
          -1.100993275642395,
          0.1822652667760849,
          -6.11924934387207,
          -0.6497213244438171,
          1.715663194656372,
          1.3690054416656494,
          6.39040994644165,
          -0.329327255487442,
          4.907813549041748,
          -2.04628324508667,
          -6.1308064460754395,
          1.3727238178253174,
          3.094980001449585,
          2.159271717071533,
          0.6418517827987671,
          7.9946699142456055,
          2.2586185932159424,
          2.405311107635498,
          1.039211630821228,
          6.2299652099609375,
          0.041410937905311584,
          0.8484540581703186,
          1.703434944152832,
          6.3843302726745605,
          -0.055342141538858414,
          -3.521350860595703,
          -1.6238598823547363,
          -1.6772385835647583,
          -4.7159810066223145,
          3.3495185375213623,
          2.150212049484253,
          5.637683868408203,
          -2.15585994720459,
          0.7592349648475647,
          4.235823631286621,
          4.357220649719238,
          2.61873197555542,
          -1.0140098333358765,
          0.7926891446113586,
          1.9303492307662964,
          1.289768934249878,
          2.080101251602173,
          3.134050130844116,
          3.286238670349121,
          0.6382027268409729,
          -0.05522029101848602,
          0.4459744691848755,
          -6.1320929527282715,
          1.7529048919677734,
          5.458963871002197,
          -0.4363459646701813,
          2.9944920539855957,
          1.327632188796997,
          -1.2910691499710083,
          -0.35086724162101746,
          -1.1997958421707153,
          1.7684166431427002,
          4.403463840484619,
          2.8489654064178467,
          1.743714451789856,
          2.9087488651275635,
          4.140110969543457,
          1.825307846069336,
          5.844729900360107,
          2.8449742794036865,
          0.47620707750320435,
          -6.1136698722839355,
          6.7864508628845215,
          3.672522783279419,
          4.305420398712158,
          0.5145457983016968,
          2.1442525386810303,
          0.1903294026851654,
          -5.560259819030762,
          1.9661424160003662,
          -5.705947399139404,
          0.6543888449668884,
          -2.810631036758423,
          4.069553375244141,
          0.6841740608215332,
          6.028019428253174,
          -0.6256633400917053,
          -0.26801133155822754,
          -1.38765549659729,
          -0.2015402913093567,
          -0.31944048404693604,
          -0.2830759882926941,
          -6.120051860809326,
          0.7945221662521362,
          4.739315032958984,
          1.3690598011016846,
          0.45421406626701355,
          0.4509788155555725,
          1.9866381883621216,
          3.6657698154449463,
          -0.1300930678844452,
          -0.2083974927663803,
          6.523008346557617,
          0.5467419624328613,
          6.525399684906006,
          0.007462617941200733,
          0.099159836769104,
          0.5227661728858948,
          -0.6057518720626831,
          -2.1678285598754883,
          -2.626781702041626,
          -2.264589548110962,
          -3.5715062618255615,
          -3.436427593231201,
          3.297677516937256,
          -0.08821915835142136,
          -6.1211419105529785,
          0.38506022095680237,
          -5.3436503410339355,
          2.78895902633667,
          -1.4723079204559326,
          3.3976428508758545,
          3.2123847007751465,
          1.6923162937164307,
          0.6143409609794617,
          -5.945475101470947,
          -1.0380847454071045,
          -4.804473876953125,
          0.07890187948942184,
          -0.7148890495300293,
          -4.731636047363281,
          -7.153659343719482,
          -2.1700189113616943,
          0.5407552719116211,
          0.4468352198600769,
          -0.06961965560913086,
          0.3486860990524292,
          0.39495670795440674,
          -2.527878522872925,
          -2.348679780960083,
          0.18274375796318054,
          -2.487886428833008,
          0.37171387672424316,
          -1.7925575971603394,
          -0.8070897459983826,
          0.6185064911842346,
          -1.407888412475586,
          0.817517101764679,
          -3.3381896018981934,
          -3.4868998527526855,
          0.09414011240005493,
          -5.604489803314209
         ]
        }
       ],
       "layout": {
        "template": {
         "data": {
          "bar": [
           {
            "error_x": {
             "color": "#2a3f5f"
            },
            "error_y": {
             "color": "#2a3f5f"
            },
            "marker": {
             "line": {
              "color": "#E5ECF6",
              "width": 0.5
             }
            },
            "type": "bar"
           }
          ],
          "barpolar": [
           {
            "marker": {
             "line": {
              "color": "#E5ECF6",
              "width": 0.5
             }
            },
            "type": "barpolar"
           }
          ],
          "carpet": [
           {
            "aaxis": {
             "endlinecolor": "#2a3f5f",
             "gridcolor": "white",
             "linecolor": "white",
             "minorgridcolor": "white",
             "startlinecolor": "#2a3f5f"
            },
            "baxis": {
             "endlinecolor": "#2a3f5f",
             "gridcolor": "white",
             "linecolor": "white",
             "minorgridcolor": "white",
             "startlinecolor": "#2a3f5f"
            },
            "type": "carpet"
           }
          ],
          "choropleth": [
           {
            "colorbar": {
             "outlinewidth": 0,
             "ticks": ""
            },
            "type": "choropleth"
           }
          ],
          "contour": [
           {
            "colorbar": {
             "outlinewidth": 0,
             "ticks": ""
            },
            "colorscale": [
             [
              0,
              "#0d0887"
             ],
             [
              0.1111111111111111,
              "#46039f"
             ],
             [
              0.2222222222222222,
              "#7201a8"
             ],
             [
              0.3333333333333333,
              "#9c179e"
             ],
             [
              0.4444444444444444,
              "#bd3786"
             ],
             [
              0.5555555555555556,
              "#d8576b"
             ],
             [
              0.6666666666666666,
              "#ed7953"
             ],
             [
              0.7777777777777778,
              "#fb9f3a"
             ],
             [
              0.8888888888888888,
              "#fdca26"
             ],
             [
              1,
              "#f0f921"
             ]
            ],
            "type": "contour"
           }
          ],
          "contourcarpet": [
           {
            "colorbar": {
             "outlinewidth": 0,
             "ticks": ""
            },
            "type": "contourcarpet"
           }
          ],
          "heatmap": [
           {
            "colorbar": {
             "outlinewidth": 0,
             "ticks": ""
            },
            "colorscale": [
             [
              0,
              "#0d0887"
             ],
             [
              0.1111111111111111,
              "#46039f"
             ],
             [
              0.2222222222222222,
              "#7201a8"
             ],
             [
              0.3333333333333333,
              "#9c179e"
             ],
             [
              0.4444444444444444,
              "#bd3786"
             ],
             [
              0.5555555555555556,
              "#d8576b"
             ],
             [
              0.6666666666666666,
              "#ed7953"
             ],
             [
              0.7777777777777778,
              "#fb9f3a"
             ],
             [
              0.8888888888888888,
              "#fdca26"
             ],
             [
              1,
              "#f0f921"
             ]
            ],
            "type": "heatmap"
           }
          ],
          "heatmapgl": [
           {
            "colorbar": {
             "outlinewidth": 0,
             "ticks": ""
            },
            "colorscale": [
             [
              0,
              "#0d0887"
             ],
             [
              0.1111111111111111,
              "#46039f"
             ],
             [
              0.2222222222222222,
              "#7201a8"
             ],
             [
              0.3333333333333333,
              "#9c179e"
             ],
             [
              0.4444444444444444,
              "#bd3786"
             ],
             [
              0.5555555555555556,
              "#d8576b"
             ],
             [
              0.6666666666666666,
              "#ed7953"
             ],
             [
              0.7777777777777778,
              "#fb9f3a"
             ],
             [
              0.8888888888888888,
              "#fdca26"
             ],
             [
              1,
              "#f0f921"
             ]
            ],
            "type": "heatmapgl"
           }
          ],
          "histogram": [
           {
            "marker": {
             "colorbar": {
              "outlinewidth": 0,
              "ticks": ""
             }
            },
            "type": "histogram"
           }
          ],
          "histogram2d": [
           {
            "colorbar": {
             "outlinewidth": 0,
             "ticks": ""
            },
            "colorscale": [
             [
              0,
              "#0d0887"
             ],
             [
              0.1111111111111111,
              "#46039f"
             ],
             [
              0.2222222222222222,
              "#7201a8"
             ],
             [
              0.3333333333333333,
              "#9c179e"
             ],
             [
              0.4444444444444444,
              "#bd3786"
             ],
             [
              0.5555555555555556,
              "#d8576b"
             ],
             [
              0.6666666666666666,
              "#ed7953"
             ],
             [
              0.7777777777777778,
              "#fb9f3a"
             ],
             [
              0.8888888888888888,
              "#fdca26"
             ],
             [
              1,
              "#f0f921"
             ]
            ],
            "type": "histogram2d"
           }
          ],
          "histogram2dcontour": [
           {
            "colorbar": {
             "outlinewidth": 0,
             "ticks": ""
            },
            "colorscale": [
             [
              0,
              "#0d0887"
             ],
             [
              0.1111111111111111,
              "#46039f"
             ],
             [
              0.2222222222222222,
              "#7201a8"
             ],
             [
              0.3333333333333333,
              "#9c179e"
             ],
             [
              0.4444444444444444,
              "#bd3786"
             ],
             [
              0.5555555555555556,
              "#d8576b"
             ],
             [
              0.6666666666666666,
              "#ed7953"
             ],
             [
              0.7777777777777778,
              "#fb9f3a"
             ],
             [
              0.8888888888888888,
              "#fdca26"
             ],
             [
              1,
              "#f0f921"
             ]
            ],
            "type": "histogram2dcontour"
           }
          ],
          "mesh3d": [
           {
            "colorbar": {
             "outlinewidth": 0,
             "ticks": ""
            },
            "type": "mesh3d"
           }
          ],
          "parcoords": [
           {
            "line": {
             "colorbar": {
              "outlinewidth": 0,
              "ticks": ""
             }
            },
            "type": "parcoords"
           }
          ],
          "pie": [
           {
            "automargin": true,
            "type": "pie"
           }
          ],
          "scatter": [
           {
            "marker": {
             "colorbar": {
              "outlinewidth": 0,
              "ticks": ""
             }
            },
            "type": "scatter"
           }
          ],
          "scatter3d": [
           {
            "line": {
             "colorbar": {
              "outlinewidth": 0,
              "ticks": ""
             }
            },
            "marker": {
             "colorbar": {
              "outlinewidth": 0,
              "ticks": ""
             }
            },
            "type": "scatter3d"
           }
          ],
          "scattercarpet": [
           {
            "marker": {
             "colorbar": {
              "outlinewidth": 0,
              "ticks": ""
             }
            },
            "type": "scattercarpet"
           }
          ],
          "scattergeo": [
           {
            "marker": {
             "colorbar": {
              "outlinewidth": 0,
              "ticks": ""
             }
            },
            "type": "scattergeo"
           }
          ],
          "scattergl": [
           {
            "marker": {
             "colorbar": {
              "outlinewidth": 0,
              "ticks": ""
             }
            },
            "type": "scattergl"
           }
          ],
          "scattermapbox": [
           {
            "marker": {
             "colorbar": {
              "outlinewidth": 0,
              "ticks": ""
             }
            },
            "type": "scattermapbox"
           }
          ],
          "scatterpolar": [
           {
            "marker": {
             "colorbar": {
              "outlinewidth": 0,
              "ticks": ""
             }
            },
            "type": "scatterpolar"
           }
          ],
          "scatterpolargl": [
           {
            "marker": {
             "colorbar": {
              "outlinewidth": 0,
              "ticks": ""
             }
            },
            "type": "scatterpolargl"
           }
          ],
          "scatterternary": [
           {
            "marker": {
             "colorbar": {
              "outlinewidth": 0,
              "ticks": ""
             }
            },
            "type": "scatterternary"
           }
          ],
          "surface": [
           {
            "colorbar": {
             "outlinewidth": 0,
             "ticks": ""
            },
            "colorscale": [
             [
              0,
              "#0d0887"
             ],
             [
              0.1111111111111111,
              "#46039f"
             ],
             [
              0.2222222222222222,
              "#7201a8"
             ],
             [
              0.3333333333333333,
              "#9c179e"
             ],
             [
              0.4444444444444444,
              "#bd3786"
             ],
             [
              0.5555555555555556,
              "#d8576b"
             ],
             [
              0.6666666666666666,
              "#ed7953"
             ],
             [
              0.7777777777777778,
              "#fb9f3a"
             ],
             [
              0.8888888888888888,
              "#fdca26"
             ],
             [
              1,
              "#f0f921"
             ]
            ],
            "type": "surface"
           }
          ],
          "table": [
           {
            "cells": {
             "fill": {
              "color": "#EBF0F8"
             },
             "line": {
              "color": "white"
             }
            },
            "header": {
             "fill": {
              "color": "#C8D4E3"
             },
             "line": {
              "color": "white"
             }
            },
            "type": "table"
           }
          ]
         },
         "layout": {
          "annotationdefaults": {
           "arrowcolor": "#2a3f5f",
           "arrowhead": 0,
           "arrowwidth": 1
          },
          "coloraxis": {
           "colorbar": {
            "outlinewidth": 0,
            "ticks": ""
           }
          },
          "colorscale": {
           "diverging": [
            [
             0,
             "#8e0152"
            ],
            [
             0.1,
             "#c51b7d"
            ],
            [
             0.2,
             "#de77ae"
            ],
            [
             0.3,
             "#f1b6da"
            ],
            [
             0.4,
             "#fde0ef"
            ],
            [
             0.5,
             "#f7f7f7"
            ],
            [
             0.6,
             "#e6f5d0"
            ],
            [
             0.7,
             "#b8e186"
            ],
            [
             0.8,
             "#7fbc41"
            ],
            [
             0.9,
             "#4d9221"
            ],
            [
             1,
             "#276419"
            ]
           ],
           "sequential": [
            [
             0,
             "#0d0887"
            ],
            [
             0.1111111111111111,
             "#46039f"
            ],
            [
             0.2222222222222222,
             "#7201a8"
            ],
            [
             0.3333333333333333,
             "#9c179e"
            ],
            [
             0.4444444444444444,
             "#bd3786"
            ],
            [
             0.5555555555555556,
             "#d8576b"
            ],
            [
             0.6666666666666666,
             "#ed7953"
            ],
            [
             0.7777777777777778,
             "#fb9f3a"
            ],
            [
             0.8888888888888888,
             "#fdca26"
            ],
            [
             1,
             "#f0f921"
            ]
           ],
           "sequentialminus": [
            [
             0,
             "#0d0887"
            ],
            [
             0.1111111111111111,
             "#46039f"
            ],
            [
             0.2222222222222222,
             "#7201a8"
            ],
            [
             0.3333333333333333,
             "#9c179e"
            ],
            [
             0.4444444444444444,
             "#bd3786"
            ],
            [
             0.5555555555555556,
             "#d8576b"
            ],
            [
             0.6666666666666666,
             "#ed7953"
            ],
            [
             0.7777777777777778,
             "#fb9f3a"
            ],
            [
             0.8888888888888888,
             "#fdca26"
            ],
            [
             1,
             "#f0f921"
            ]
           ]
          },
          "colorway": [
           "#636efa",
           "#EF553B",
           "#00cc96",
           "#ab63fa",
           "#FFA15A",
           "#19d3f3",
           "#FF6692",
           "#B6E880",
           "#FF97FF",
           "#FECB52"
          ],
          "font": {
           "color": "#2a3f5f"
          },
          "geo": {
           "bgcolor": "white",
           "lakecolor": "white",
           "landcolor": "#E5ECF6",
           "showlakes": true,
           "showland": true,
           "subunitcolor": "white"
          },
          "hoverlabel": {
           "align": "left"
          },
          "hovermode": "closest",
          "mapbox": {
           "style": "light"
          },
          "paper_bgcolor": "white",
          "plot_bgcolor": "#E5ECF6",
          "polar": {
           "angularaxis": {
            "gridcolor": "white",
            "linecolor": "white",
            "ticks": ""
           },
           "bgcolor": "#E5ECF6",
           "radialaxis": {
            "gridcolor": "white",
            "linecolor": "white",
            "ticks": ""
           }
          },
          "scene": {
           "xaxis": {
            "backgroundcolor": "#E5ECF6",
            "gridcolor": "white",
            "gridwidth": 2,
            "linecolor": "white",
            "showbackground": true,
            "ticks": "",
            "zerolinecolor": "white"
           },
           "yaxis": {
            "backgroundcolor": "#E5ECF6",
            "gridcolor": "white",
            "gridwidth": 2,
            "linecolor": "white",
            "showbackground": true,
            "ticks": "",
            "zerolinecolor": "white"
           },
           "zaxis": {
            "backgroundcolor": "#E5ECF6",
            "gridcolor": "white",
            "gridwidth": 2,
            "linecolor": "white",
            "showbackground": true,
            "ticks": "",
            "zerolinecolor": "white"
           }
          },
          "shapedefaults": {
           "line": {
            "color": "#2a3f5f"
           }
          },
          "ternary": {
           "aaxis": {
            "gridcolor": "white",
            "linecolor": "white",
            "ticks": ""
           },
           "baxis": {
            "gridcolor": "white",
            "linecolor": "white",
            "ticks": ""
           },
           "bgcolor": "#E5ECF6",
           "caxis": {
            "gridcolor": "white",
            "linecolor": "white",
            "ticks": ""
           }
          },
          "title": {
           "x": 0.05
          },
          "xaxis": {
           "automargin": true,
           "gridcolor": "white",
           "linecolor": "white",
           "ticks": "",
           "title": {
            "standoff": 15
           },
           "zerolinecolor": "white",
           "zerolinewidth": 2
          },
          "yaxis": {
           "automargin": true,
           "gridcolor": "white",
           "linecolor": "white",
           "ticks": "",
           "title": {
            "standoff": 15
           },
           "zerolinecolor": "white",
           "zerolinewidth": 2
          }
         }
        }
       }
      },
      "text/html": [
       "<div>\n",
       "        \n",
       "        \n",
       "            <div id=\"fa3806cc-9e40-4db4-9e59-5a13a725e7b4\" class=\"plotly-graph-div\" style=\"height:525px; width:100%;\"></div>\n",
       "            <script type=\"text/javascript\">\n",
       "                require([\"plotly\"], function(Plotly) {\n",
       "                    window.PLOTLYENV=window.PLOTLYENV || {};\n",
       "                    \n",
       "                if (document.getElementById(\"fa3806cc-9e40-4db4-9e59-5a13a725e7b4\")) {\n",
       "                    Plotly.newPlot(\n",
       "                        'fa3806cc-9e40-4db4-9e59-5a13a725e7b4',\n",
       "                        [{\"mode\": \"text\", \"text\": [\"\\u00abJos\\u00e9\", \"Machado\", \"Coelho\", \"de\", \"Castro\\u00bb\", \"nasceu\", \"em\", \"Lorena\", \"SP\", \"Estudou\", \"no\", \"Gin\\u00e1sio\", \"Diocesano\", \"S\\u00e3o\", \"Paulo\", \"e\", \"bacharelou-se\", \"1910\", \"pela\", \"Faculdade\", \"Ci\\u00eancias\", \"Jur\\u00eddicas\", \"Sociais\", \"Dedicando-se\", \"\\u00e0\", \"advocacia\", \"foi\", \"promotor\", \"p\\u00fablico\", \"Cunha\", \"depois\", \"delegado\", \"pol\\u00edcia\", \"Rio\", \"Janeiro\", \"ent\\u00e3o\", \"Distrito\", \"Federal\", \"Iniciou\", \"sua\", \"vida\", \"pol\\u00edtica\", \"como\", \"deputado\", \"federal\", \"pelo\", \"exercendo\", \"o\", \"mandato\", \"1927\", \"a\", \"1929\", \"Reeleito\", \"para\", \"legislatura\", \"iniciada\", \"maio\", \"1930\", \"ocupava\", \"cadeira\", \"na\", \"C\\u00e2mara\", \"quando\", \"3\", \"outubro\", \"deflagrado\", \"movimento\", \"revolucion\\u00e1rio\", \"liderado\", \"por\", \"Get\\u00falio\", \"Vargas\", \"Ligado\", \"ao\", \"governo\", \"encontrava-se\", \"lado\", \"do\", \"presidente\", \"Washington\", \"Lu\\u00eds\", \"pal\\u00e1cio\", \"Guanabara\", \"momento\", \"deposi\\u00e7\\u00e3o\", \"dia\", \"24\", \"Junto\", \"com\", \"outros\", \"companheiros\", \"tamb\\u00e9m\", \"solid\\u00e1rios\", \"regime\", \"deposto\", \"que\", \"se\", \"haviam\", \"asilado\", \"embaixadas\", \"enviado\", \"novembro\", \"estrangeiro\", \"Em\", \"1932\", \"estava\", \"presente\", \"porto\", \"Alc\\u00e2ntara\", \"Lisboa\", \"receber\", \"os\", \"revolucion\\u00e1rios\", \"constitucionalistas\", \"exilados\", \"ap\\u00f3s\", \"derrota\", \"da\", \"revolu\\u00e7\\u00e3o\", \"irrompida\", \"julho\", \"desse\", \"ano\", \"Com\", \"redemocratiza\\u00e7\\u00e3o\", \"pa\\u00eds\", \"1945\", \"candidatou-se\", \"estado\", \"legenda\", \"Partido\", \"Social\", \"Democr\\u00e1tico\", \"PSD\", \"\\u00e0s\", \"elei\\u00e7\\u00f5es\", \"Assembl\\u00e9ia\", \"Nacional\", \"Constituinte\", \"ANC\", \"realizadas\", \"dezembro\", \"Obteve\", \"uma\", \"supl\\u00eancia\", \"1946\", \"convocado\", \"participar\", \"dos\", \"trabalhos\", \"constituintes\", \"promulga\\u00e7\\u00e3o\", \"nova\", \"Carta\", \"18/9/1946\", \"transforma\\u00e7\\u00e3o\", \"Congresso\", \"ordin\\u00e1rio\", \"integrou\", \"Comiss\\u00e3o\", \"Permanente\", \"Obras\", \"P\\u00fablicas\", \"tendo\", \"votado\", \"janeiro\", \"1948\", \"favor\", \"cassa\\u00e7\\u00e3o\", \"mandatos\", \"parlamentares\", \"comunistas\", \"Deixou\", \"1951\", \"Foi\", \"ainda\", \"Companhia\", \"Cimento\", \"Vale\", \"Para\\u00edba\", \"Faleceu\", \"17\", \"1975\", \"\\u00abArmando\", \"Ab\\u00edlio\", \"Vieira\\u00bb\", \"Itaporanga\", \"PB\", \"29\", \"1944\", \"filho\", \"Argemiro\", \"Sousa\", \"Lu\\u00edsa\", \"Bronzeado\", \"Vieira\", \"1962\", \"ingressou\", \"Recife\", \"M\\u00e9dicas\", \"Universidade\"], \"type\": \"scatter\", \"x\": [0.24879823625087738, -0.34601029753685, -0.10670078545808792, 4.180588722229004, 2.612797737121582, 1.395792007446289, 7.225256443023682, 2.7668545246124268, 1.5992591381072998, 2.811136484146118, 1.0041521787643433, 2.778620958328247, 2.8612613677978516, 0.3069600760936737, 1.142438530921936, 3.762296199798584, 3.5068790912628174, -4.365606307983398, 4.713099479675293, 4.096798419952393, 4.134875774383545, 3.2020885944366455, 4.947604656219482, 3.276766300201416, 3.35683536529541, 4.44339656829834, -0.6424302458763123, 2.857604503631592, 3.4457921981811523, -0.7893602848052979, -3.2491726875305176, 3.092971086502075, 1.6369684934616089, 1.859596848487854, 0.8448277711868286, 4.075563430786133, 1.2265381813049316, 0.023471230641007423, 3.938774347305298, 4.782035827636719, 4.543012619018555, 4.461693286895752, 4.464529514312744, -0.41415664553642273, 8.616215705871582, 3.1367404460906982, 6.041319847106934, 1.5393296480178833, 8.139810562133789, -4.752291202545166, 4.308457851409912, -4.808444023132324, -2.0309386253356934, 4.328833103179932, 7.216426849365234, 4.2204389572143555, -4.005147933959961, -5.476894378662109, 5.641165256500244, -2.8657302856445312, 4.77315092086792, 9.471814155578613, 6.597412586212158, -3.3951356410980225, -4.013570308685303, 1.0033800601959229, 0.11552873998880386, 0.7344140410423279, 0.09155922383069992, 3.1426339149475098, -0.9658976197242737, -1.195603847503662, 2.5665078163146973, 2.320404529571533, 0.3074133098125458, 3.421807050704956, 1.8261421918869019, 1.4082967042922974, 1.2391828298568726, -0.4126960039138794, 0.932688295841217, 2.2441389560699463, 7.630993843078613, 8.470115661621094, -0.1602753847837448, 7.8518218994140625, -3.3917949199676514, 2.641714572906494, -1.3255870342254639, 2.6267404556274414, 1.938336730003357, 4.663532733917236, 3.0101184844970703, 2.3482139110565186, 0.6821163296699524, 3.631852388381958, 5.325258731842041, 6.4432373046875, 2.9044113159179688, 3.4535012245178223, 1.0850989818572998, -4.012138843536377, 7.365527629852295, 7.044692516326904, -5.354439735412598, 5.404814720153809, 3.7877700328826904, 2.6276938915252686, 1.8801904916763306, 2.027109384536743, 3.1368744373321533, 2.6521482467651367, 1.1748907566070557, 2.011613130569458, 2.041788101196289, -3.248668670654297, -0.015515381470322609, 4.555859565734863, 0.22186744213104248, 3.008383274078369, -4.000596523284912, 0.49176979064941406, 8.621212005615234, -1.4895802736282349, 5.013344764709473, 8.752551078796387, -5.511922836303711, 5.903628826141357, 8.87153434753418, 6.528188705444336, -1.105512261390686, 5.012330532073975, 0.9980375170707703, -0.9318214058876038, 2.9020097255706787, -2.3046998977661133, 9.154216766357422, 5.924944877624512, 8.677935600280762, 6.775630474090576, 4.013885974884033, -4.0049333572387695, 3.733736276626587, 4.3129472732543945, -2.5431995391845703, -5.355386257171631, 1.3541120290756226, 3.0974338054656982, 3.470480442047119, 7.69484281539917, 7.586984157562256, -2.0983035564422607, 5.538543224334717, -2.0756750106811523, 5.082897663116455, 5.060906887054443, 6.961517810821533, 5.712268352508545, 5.6731390953063965, 6.395035743713379, 5.82359504699707, 6.424570560455322, 6.3412041664123535, 6.569985389709473, 6.365938663482666, -4.004197120666504, -5.113365650177002, 2.304471492767334, 2.93396258354187, 8.023931503295898, 2.132749557495117, 1.927433729171753, 5.677577018737793, -5.236616134643555, -0.6506934762001038, 4.777834415435791, 7.679897308349609, 2.96323823928833, 1.85514497756958, 7.626136302947998, 1.3985013961791992, -3.345431089401245, -4.164864540100098, 2.721487045288086, 2.3924264907836914, 2.811532735824585, 2.9704720973968506, 1.9082452058792114, -3.5672900676727295, -5.098221302032471, -2.049865961074829, 2.180083751678467, -0.3876855671405792, 1.1250391006469727, 3.0024755001068115, -0.11300884932279587, -5.1052656173706055, 3.2910823822021484, 1.2619887590408325, 3.1011064052581787, 4.101410865783691], \"y\": [-1.4073134660720825, -1.3202005624771118, -1.2277889251708984, 3.4844164848327637, 0.19766221940517426, -7.232619762420654, 5.455520153045654, -0.21945269405841827, -3.7337615489959717, -3.3815016746520996, 5.563104152679443, -3.931999444961548, -0.7277014851570129, -3.9110631942749023, -1.8356910943984985, 2.8345470428466797, -2.905686140060425, -0.007832750678062439, 6.865322113037109, -5.560357093811035, -5.260189533233643, -0.6491455435752869, -2.5475172996520996, 0.6064196228981018, 5.885166645050049, -3.786404609680176, -5.948241233825684, -1.9472306966781616, -1.1434762477874756, -1.8482931852340698, 4.132652282714844, -1.9146122932434082, 0.9907687306404114, -3.006591796875, -2.954047918319702, -1.0820549726486206, -4.390353202819824, 4.486526012420654, -1.9275957345962524, 4.903883457183838, -3.929283380508423, 1.0782032012939453, 1.705354928970337, -0.535560131072998, -3.435668706893921, 7.96002721786499, 1.7789149284362793, 6.350593090057373, -1.7190648317337036, -0.060537271201610565, 5.16093111038208, -0.17044638097286224, -0.420574426651001, 2.276181697845459, -1.100993275642395, 0.1822652667760849, -6.11924934387207, -0.6497213244438171, 1.715663194656372, 1.3690054416656494, 6.39040994644165, -0.329327255487442, 4.907813549041748, -2.04628324508667, -6.1308064460754395, 1.3727238178253174, 3.094980001449585, 2.159271717071533, 0.6418517827987671, 7.9946699142456055, 2.2586185932159424, 2.405311107635498, 1.039211630821228, 6.2299652099609375, 0.041410937905311584, 0.8484540581703186, 1.703434944152832, 6.3843302726745605, -0.055342141538858414, -3.521350860595703, -1.6238598823547363, -1.6772385835647583, -4.7159810066223145, 3.3495185375213623, 2.150212049484253, 5.637683868408203, -2.15585994720459, 0.7592349648475647, 4.235823631286621, 4.357220649719238, 2.61873197555542, -1.0140098333358765, 0.7926891446113586, 1.9303492307662964, 1.289768934249878, 2.080101251602173, 3.134050130844116, 3.286238670349121, 0.6382027268409729, -0.05522029101848602, 0.4459744691848755, -6.1320929527282715, 1.7529048919677734, 5.458963871002197, -0.4363459646701813, 2.9944920539855957, 1.327632188796997, -1.2910691499710083, -0.35086724162101746, -1.1997958421707153, 1.7684166431427002, 4.403463840484619, 2.8489654064178467, 1.743714451789856, 2.9087488651275635, 4.140110969543457, 1.825307846069336, 5.844729900360107, 2.8449742794036865, 0.47620707750320435, -6.1136698722839355, 6.7864508628845215, 3.672522783279419, 4.305420398712158, 0.5145457983016968, 2.1442525386810303, 0.1903294026851654, -5.560259819030762, 1.9661424160003662, -5.705947399139404, 0.6543888449668884, -2.810631036758423, 4.069553375244141, 0.6841740608215332, 6.028019428253174, -0.6256633400917053, -0.26801133155822754, -1.38765549659729, -0.2015402913093567, -0.31944048404693604, -0.2830759882926941, -6.120051860809326, 0.7945221662521362, 4.739315032958984, 1.3690598011016846, 0.45421406626701355, 0.4509788155555725, 1.9866381883621216, 3.6657698154449463, -0.1300930678844452, -0.2083974927663803, 6.523008346557617, 0.5467419624328613, 6.525399684906006, 0.007462617941200733, 0.099159836769104, 0.5227661728858948, -0.6057518720626831, -2.1678285598754883, -2.626781702041626, -2.264589548110962, -3.5715062618255615, -3.436427593231201, 3.297677516937256, -0.08821915835142136, -6.1211419105529785, 0.38506022095680237, -5.3436503410339355, 2.78895902633667, -1.4723079204559326, 3.3976428508758545, 3.2123847007751465, 1.6923162937164307, 0.6143409609794617, -5.945475101470947, -1.0380847454071045, -4.804473876953125, 0.07890187948942184, -0.7148890495300293, -4.731636047363281, -7.153659343719482, -2.1700189113616943, 0.5407552719116211, 0.4468352198600769, -0.06961965560913086, 0.3486860990524292, 0.39495670795440674, -2.527878522872925, -2.348679780960083, 0.18274375796318054, -2.487886428833008, 0.37171387672424316, -1.7925575971603394, -0.8070897459983826, 0.6185064911842346, -1.407888412475586, 0.817517101764679, -3.3381896018981934, -3.4868998527526855, 0.09414011240005493, -5.604489803314209]}],\n",
       "                        {\"template\": {\"data\": {\"bar\": [{\"error_x\": {\"color\": \"#2a3f5f\"}, \"error_y\": {\"color\": \"#2a3f5f\"}, \"marker\": {\"line\": {\"color\": \"#E5ECF6\", \"width\": 0.5}}, \"type\": \"bar\"}], \"barpolar\": [{\"marker\": {\"line\": {\"color\": \"#E5ECF6\", \"width\": 0.5}}, \"type\": \"barpolar\"}], \"carpet\": [{\"aaxis\": {\"endlinecolor\": \"#2a3f5f\", \"gridcolor\": \"white\", \"linecolor\": \"white\", \"minorgridcolor\": \"white\", \"startlinecolor\": \"#2a3f5f\"}, \"baxis\": {\"endlinecolor\": \"#2a3f5f\", \"gridcolor\": \"white\", \"linecolor\": \"white\", \"minorgridcolor\": \"white\", \"startlinecolor\": \"#2a3f5f\"}, \"type\": \"carpet\"}], \"choropleth\": [{\"colorbar\": {\"outlinewidth\": 0, \"ticks\": \"\"}, \"type\": \"choropleth\"}], \"contour\": [{\"colorbar\": {\"outlinewidth\": 0, \"ticks\": \"\"}, \"colorscale\": [[0.0, \"#0d0887\"], [0.1111111111111111, \"#46039f\"], [0.2222222222222222, \"#7201a8\"], [0.3333333333333333, \"#9c179e\"], [0.4444444444444444, \"#bd3786\"], [0.5555555555555556, \"#d8576b\"], [0.6666666666666666, \"#ed7953\"], [0.7777777777777778, \"#fb9f3a\"], [0.8888888888888888, \"#fdca26\"], [1.0, \"#f0f921\"]], \"type\": \"contour\"}], \"contourcarpet\": [{\"colorbar\": {\"outlinewidth\": 0, \"ticks\": \"\"}, \"type\": \"contourcarpet\"}], \"heatmap\": [{\"colorbar\": {\"outlinewidth\": 0, \"ticks\": \"\"}, \"colorscale\": [[0.0, \"#0d0887\"], [0.1111111111111111, \"#46039f\"], [0.2222222222222222, \"#7201a8\"], [0.3333333333333333, \"#9c179e\"], [0.4444444444444444, \"#bd3786\"], [0.5555555555555556, \"#d8576b\"], [0.6666666666666666, \"#ed7953\"], [0.7777777777777778, \"#fb9f3a\"], [0.8888888888888888, \"#fdca26\"], [1.0, \"#f0f921\"]], \"type\": \"heatmap\"}], \"heatmapgl\": [{\"colorbar\": {\"outlinewidth\": 0, \"ticks\": \"\"}, \"colorscale\": [[0.0, \"#0d0887\"], [0.1111111111111111, \"#46039f\"], [0.2222222222222222, \"#7201a8\"], [0.3333333333333333, \"#9c179e\"], [0.4444444444444444, \"#bd3786\"], [0.5555555555555556, \"#d8576b\"], [0.6666666666666666, \"#ed7953\"], [0.7777777777777778, \"#fb9f3a\"], [0.8888888888888888, \"#fdca26\"], [1.0, \"#f0f921\"]], \"type\": \"heatmapgl\"}], \"histogram\": [{\"marker\": {\"colorbar\": {\"outlinewidth\": 0, \"ticks\": \"\"}}, \"type\": \"histogram\"}], \"histogram2d\": [{\"colorbar\": {\"outlinewidth\": 0, \"ticks\": \"\"}, \"colorscale\": [[0.0, \"#0d0887\"], [0.1111111111111111, \"#46039f\"], [0.2222222222222222, \"#7201a8\"], [0.3333333333333333, \"#9c179e\"], [0.4444444444444444, \"#bd3786\"], [0.5555555555555556, \"#d8576b\"], [0.6666666666666666, \"#ed7953\"], [0.7777777777777778, \"#fb9f3a\"], [0.8888888888888888, \"#fdca26\"], [1.0, \"#f0f921\"]], \"type\": \"histogram2d\"}], \"histogram2dcontour\": [{\"colorbar\": {\"outlinewidth\": 0, \"ticks\": \"\"}, \"colorscale\": [[0.0, \"#0d0887\"], [0.1111111111111111, \"#46039f\"], [0.2222222222222222, \"#7201a8\"], [0.3333333333333333, \"#9c179e\"], [0.4444444444444444, \"#bd3786\"], [0.5555555555555556, \"#d8576b\"], [0.6666666666666666, \"#ed7953\"], [0.7777777777777778, \"#fb9f3a\"], [0.8888888888888888, \"#fdca26\"], [1.0, \"#f0f921\"]], \"type\": \"histogram2dcontour\"}], \"mesh3d\": [{\"colorbar\": {\"outlinewidth\": 0, \"ticks\": \"\"}, \"type\": \"mesh3d\"}], \"parcoords\": [{\"line\": {\"colorbar\": {\"outlinewidth\": 0, \"ticks\": \"\"}}, \"type\": \"parcoords\"}], \"pie\": [{\"automargin\": true, \"type\": \"pie\"}], \"scatter\": [{\"marker\": {\"colorbar\": {\"outlinewidth\": 0, \"ticks\": \"\"}}, \"type\": \"scatter\"}], \"scatter3d\": [{\"line\": {\"colorbar\": {\"outlinewidth\": 0, \"ticks\": \"\"}}, \"marker\": {\"colorbar\": {\"outlinewidth\": 0, \"ticks\": \"\"}}, \"type\": \"scatter3d\"}], \"scattercarpet\": [{\"marker\": {\"colorbar\": {\"outlinewidth\": 0, \"ticks\": \"\"}}, \"type\": \"scattercarpet\"}], \"scattergeo\": [{\"marker\": {\"colorbar\": {\"outlinewidth\": 0, \"ticks\": \"\"}}, \"type\": \"scattergeo\"}], \"scattergl\": [{\"marker\": {\"colorbar\": {\"outlinewidth\": 0, \"ticks\": \"\"}}, \"type\": \"scattergl\"}], \"scattermapbox\": [{\"marker\": {\"colorbar\": {\"outlinewidth\": 0, \"ticks\": \"\"}}, \"type\": \"scattermapbox\"}], \"scatterpolar\": [{\"marker\": {\"colorbar\": {\"outlinewidth\": 0, \"ticks\": \"\"}}, \"type\": \"scatterpolar\"}], \"scatterpolargl\": [{\"marker\": {\"colorbar\": {\"outlinewidth\": 0, \"ticks\": \"\"}}, \"type\": \"scatterpolargl\"}], \"scatterternary\": [{\"marker\": {\"colorbar\": {\"outlinewidth\": 0, \"ticks\": \"\"}}, \"type\": \"scatterternary\"}], \"surface\": [{\"colorbar\": {\"outlinewidth\": 0, \"ticks\": \"\"}, \"colorscale\": [[0.0, \"#0d0887\"], [0.1111111111111111, \"#46039f\"], [0.2222222222222222, \"#7201a8\"], [0.3333333333333333, \"#9c179e\"], [0.4444444444444444, \"#bd3786\"], [0.5555555555555556, \"#d8576b\"], [0.6666666666666666, \"#ed7953\"], [0.7777777777777778, \"#fb9f3a\"], [0.8888888888888888, \"#fdca26\"], [1.0, \"#f0f921\"]], \"type\": \"surface\"}], \"table\": [{\"cells\": {\"fill\": {\"color\": \"#EBF0F8\"}, \"line\": {\"color\": \"white\"}}, \"header\": {\"fill\": {\"color\": \"#C8D4E3\"}, \"line\": {\"color\": \"white\"}}, \"type\": \"table\"}]}, \"layout\": {\"annotationdefaults\": {\"arrowcolor\": \"#2a3f5f\", \"arrowhead\": 0, \"arrowwidth\": 1}, \"coloraxis\": {\"colorbar\": {\"outlinewidth\": 0, \"ticks\": \"\"}}, \"colorscale\": {\"diverging\": [[0, \"#8e0152\"], [0.1, \"#c51b7d\"], [0.2, \"#de77ae\"], [0.3, \"#f1b6da\"], [0.4, \"#fde0ef\"], [0.5, \"#f7f7f7\"], [0.6, \"#e6f5d0\"], [0.7, \"#b8e186\"], [0.8, \"#7fbc41\"], [0.9, \"#4d9221\"], [1, \"#276419\"]], \"sequential\": [[0.0, \"#0d0887\"], [0.1111111111111111, \"#46039f\"], [0.2222222222222222, \"#7201a8\"], [0.3333333333333333, \"#9c179e\"], [0.4444444444444444, \"#bd3786\"], [0.5555555555555556, \"#d8576b\"], [0.6666666666666666, \"#ed7953\"], [0.7777777777777778, \"#fb9f3a\"], [0.8888888888888888, \"#fdca26\"], [1.0, \"#f0f921\"]], \"sequentialminus\": [[0.0, \"#0d0887\"], [0.1111111111111111, \"#46039f\"], [0.2222222222222222, \"#7201a8\"], [0.3333333333333333, \"#9c179e\"], [0.4444444444444444, \"#bd3786\"], [0.5555555555555556, \"#d8576b\"], [0.6666666666666666, \"#ed7953\"], [0.7777777777777778, \"#fb9f3a\"], [0.8888888888888888, \"#fdca26\"], [1.0, \"#f0f921\"]]}, \"colorway\": [\"#636efa\", \"#EF553B\", \"#00cc96\", \"#ab63fa\", \"#FFA15A\", \"#19d3f3\", \"#FF6692\", \"#B6E880\", \"#FF97FF\", \"#FECB52\"], \"font\": {\"color\": \"#2a3f5f\"}, \"geo\": {\"bgcolor\": \"white\", \"lakecolor\": \"white\", \"landcolor\": \"#E5ECF6\", \"showlakes\": true, \"showland\": true, \"subunitcolor\": \"white\"}, \"hoverlabel\": {\"align\": \"left\"}, \"hovermode\": \"closest\", \"mapbox\": {\"style\": \"light\"}, \"paper_bgcolor\": \"white\", \"plot_bgcolor\": \"#E5ECF6\", \"polar\": {\"angularaxis\": {\"gridcolor\": \"white\", \"linecolor\": \"white\", \"ticks\": \"\"}, \"bgcolor\": \"#E5ECF6\", \"radialaxis\": {\"gridcolor\": \"white\", \"linecolor\": \"white\", \"ticks\": \"\"}}, \"scene\": {\"xaxis\": {\"backgroundcolor\": \"#E5ECF6\", \"gridcolor\": \"white\", \"gridwidth\": 2, \"linecolor\": \"white\", \"showbackground\": true, \"ticks\": \"\", \"zerolinecolor\": \"white\"}, \"yaxis\": {\"backgroundcolor\": \"#E5ECF6\", \"gridcolor\": \"white\", \"gridwidth\": 2, \"linecolor\": \"white\", \"showbackground\": true, \"ticks\": \"\", \"zerolinecolor\": \"white\"}, \"zaxis\": {\"backgroundcolor\": \"#E5ECF6\", \"gridcolor\": \"white\", \"gridwidth\": 2, \"linecolor\": \"white\", \"showbackground\": true, \"ticks\": \"\", \"zerolinecolor\": \"white\"}}, \"shapedefaults\": {\"line\": {\"color\": \"#2a3f5f\"}}, \"ternary\": {\"aaxis\": {\"gridcolor\": \"white\", \"linecolor\": \"white\", \"ticks\": \"\"}, \"baxis\": {\"gridcolor\": \"white\", \"linecolor\": \"white\", \"ticks\": \"\"}, \"bgcolor\": \"#E5ECF6\", \"caxis\": {\"gridcolor\": \"white\", \"linecolor\": \"white\", \"ticks\": \"\"}}, \"title\": {\"x\": 0.05}, \"xaxis\": {\"automargin\": true, \"gridcolor\": \"white\", \"linecolor\": \"white\", \"ticks\": \"\", \"title\": {\"standoff\": 15}, \"zerolinecolor\": \"white\", \"zerolinewidth\": 2}, \"yaxis\": {\"automargin\": true, \"gridcolor\": \"white\", \"linecolor\": \"white\", \"ticks\": \"\", \"title\": {\"standoff\": 15}, \"zerolinecolor\": \"white\", \"zerolinewidth\": 2}}}},\n",
       "                        {\"responsive\": true}\n",
       "                    ).then(function(){\n",
       "                            \n",
       "var gd = document.getElementById('fa3806cc-9e40-4db4-9e59-5a13a725e7b4');\n",
       "var x = new MutationObserver(function (mutations, observer) {{\n",
       "        var display = window.getComputedStyle(gd).display;\n",
       "        if (!display || display === 'none') {{\n",
       "            console.log([gd, 'removed!']);\n",
       "            Plotly.purge(gd);\n",
       "            observer.disconnect();\n",
       "        }}\n",
       "}});\n",
       "\n",
       "// Listen for the removal of the full notebook cells\n",
       "var notebookContainer = gd.closest('#notebook-container');\n",
       "if (notebookContainer) {{\n",
       "    x.observe(notebookContainer, {childList: true});\n",
       "}}\n",
       "\n",
       "// Listen for the clearing of the current output cell\n",
       "var outputEl = gd.closest('.output');\n",
       "if (outputEl) {{\n",
       "    x.observe(outputEl, {childList: true});\n",
       "}}\n",
       "\n",
       "                        })\n",
       "                };\n",
       "                });\n",
       "            </script>\n",
       "        </div>"
      ]
     },
     "metadata": {},
     "output_type": "display_data"
    }
   ],
   "source": [
    "plot_with_plotly(x_vals, y_vals, labels)"
   ]
  },
  {
   "cell_type": "code",
   "execution_count": 18,
   "metadata": {
    "ExecuteTime": {
     "end_time": "2020-11-23T16:21:42.636131Z",
     "start_time": "2020-11-23T16:21:42.622704Z"
    }
   },
   "outputs": [
    {
     "data": {
      "text/plain": [
       "[('pragmática', 0.6115255355834961),\n",
       " ('“política', 0.6081854701042175),\n",
       " ('Resultante', 0.5997891426086426),\n",
       " ('político-institucional', 0.5906023979187012),\n",
       " ('político-social', 0.5800623893737793),\n",
       " ('inevitavelmente', 0.5741809010505676),\n",
       " ('nítida', 0.5726122856140137),\n",
       " ('persistente', 0.5723466873168945),\n",
       " ('induzida', 0.5718863010406494),\n",
       " ('vulnerabilidade', 0.5662615895271301)]"
      ]
     },
     "execution_count": 18,
     "metadata": {},
     "output_type": "execute_result"
    }
   ],
   "source": [
    "model.wv.most_similar(positive=['congressista', 'política'], negative=['advogado'])"
   ]
  },
  {
   "cell_type": "code",
   "execution_count": 19,
   "metadata": {
    "ExecuteTime": {
     "end_time": "2020-11-23T16:21:44.275648Z",
     "start_time": "2020-11-23T16:21:44.260278Z"
    }
   },
   "outputs": [
    {
     "data": {
      "text/plain": [
       "array([-1.1804812 ,  0.17904007,  2.7701726 ,  2.2788234 , -2.3939579 ,\n",
       "       -1.6261489 ,  3.037264  , -1.5370936 ,  0.1686287 ,  1.7679174 ,\n",
       "       -0.6206008 , -1.4379971 ,  0.9625195 ,  5.3786445 , -1.5540149 ,\n",
       "       -0.00777411, -1.401691  , -4.2874527 , -0.82898766,  1.8527349 ,\n",
       "        1.1073897 ,  0.4124229 , -1.7202759 , -1.9285159 ,  0.22249055,\n",
       "       -0.1637733 ,  0.3505941 , -1.6477919 ,  3.5996528 , -1.884695  ,\n",
       "        0.70941716,  2.4855223 ,  0.19784053,  1.0554858 , -2.0812526 ,\n",
       "        0.25975254,  1.0439771 ,  0.40970242,  0.78404856, -2.2612848 ,\n",
       "        1.7169695 ,  0.73526394,  1.4105549 ,  4.066178  , -0.40555423,\n",
       "        1.8521545 ,  3.7054353 ,  1.3822607 , -4.056506  ,  1.9932911 ,\n",
       "        0.89136565, -2.6281335 ,  3.6849546 ,  3.6759586 , -0.3893448 ,\n",
       "       -0.93963474,  3.059989  ,  0.07065499, -0.69516784, -1.2888556 ,\n",
       "        0.92977023, -1.6649121 ,  2.6862006 , -2.4784298 ,  1.8600826 ,\n",
       "        0.779212  ,  2.1920981 , -1.9809456 , -2.688896  ,  0.60114765,\n",
       "       -2.3174565 ,  0.08518887,  0.43477178,  1.2217847 ,  0.9667772 ,\n",
       "        1.8949485 ,  1.2996533 ,  2.6153111 , -0.04217112,  0.72740364,\n",
       "       -0.7117096 , -0.73151827,  0.16029513,  0.06895769, -0.17937306,\n",
       "        0.48638743, -0.52041715, -2.0970736 , -1.1521842 , -3.9579785 ,\n",
       "        0.51819354,  0.12455559,  2.2292786 ,  0.33785737, -0.4980077 ,\n",
       "       -2.9939485 , -2.5539153 , -1.4805562 ,  3.1075735 ,  0.99266756],\n",
       "      dtype=float32)"
      ]
     },
     "execution_count": 19,
     "metadata": {},
     "output_type": "execute_result"
    }
   ],
   "source": [
    "model.wv['congressista'] + model.wv['política']-model.wv['homem']"
   ]
  },
  {
   "cell_type": "markdown",
   "metadata": {},
   "source": [
    "## Word Movers Distance\n",
    "Este método permite que calculemos a distância entre dois documentos mesmo que estes não contenham palavras em comum. Este método foi proposto no artigo [\"From Word Embeddings To Document Distances\"](http://jmlr.org/proceedings/papers/v37/kusnerb15.pdf)."
   ]
  },
  {
   "cell_type": "code",
   "execution_count": 41,
   "metadata": {
    "ExecuteTime": {
     "end_time": "2020-11-23T16:42:10.356296Z",
     "start_time": "2020-11-23T16:42:09.741812Z"
    }
   },
   "outputs": [
    {
     "data": {
      "text/plain": [
       "15.084479096899363"
      ]
     },
     "execution_count": 41,
     "metadata": {},
     "output_type": "execute_result"
    }
   ],
   "source": [
    "DC = list(DHBBCorpus(5))\n",
    "model.wv.wmdistance(document1=DC[1],document2=DC[2])"
   ]
  },
  {
   "cell_type": "code",
   "execution_count": 33,
   "metadata": {
    "ExecuteTime": {
     "end_time": "2020-11-23T16:27:59.934859Z",
     "start_time": "2020-11-23T16:27:59.926370Z"
    }
   },
   "outputs": [
    {
     "name": "stdout",
     "output_type": "stream",
     "text": [
      "['Estudou', 'no', 'Ginásio', 'Diocesano', 'de', 'São', 'Paulo', 'e', 'bacharelou-se', 'em', '1910', 'pela', 'Faculdade', 'de', 'Ciências', 'Jurídicas', 'e', 'Sociais']\n",
      "['Dedicando-se', 'à', 'advocacia', 'foi', 'promotor', 'público', 'em', 'Cunha', 'SP', 'e', 'depois', 'delegado', 'de', 'polícia', 'no', 'Rio', 'de', 'Janeiro', 'então', 'Distrito', 'Federal']\n"
     ]
    }
   ],
   "source": [
    "print(DC[1])\n",
    "print(DC[2])"
   ]
  },
  {
   "cell_type": "code",
   "execution_count": null,
   "metadata": {},
   "outputs": [],
   "source": []
  }
 ],
 "metadata": {
  "kernelspec": {
   "display_name": "Python 3",
   "language": "python",
   "name": "python3"
  },
  "language_info": {
   "codemirror_mode": {
    "name": "ipython",
    "version": 3
   },
   "file_extension": ".py",
   "mimetype": "text/x-python",
   "name": "python",
   "nbconvert_exporter": "python",
   "pygments_lexer": "ipython3",
   "version": "3.8.6"
  },
  "latex_envs": {
   "LaTeX_envs_menu_present": true,
   "autoclose": false,
   "autocomplete": true,
   "bibliofile": "biblio.bib",
   "cite_by": "apalike",
   "current_citInitial": 1,
   "eqLabelWithNumbers": true,
   "eqNumInitial": 1,
   "hotkeys": {
    "equation": "Ctrl-E",
    "itemize": "Ctrl-I"
   },
   "labels_anchors": false,
   "latex_user_defs": false,
   "report_style_numbering": false,
   "user_envs_cfg": false
  },
  "toc": {
   "base_numbering": 1,
   "nav_menu": {},
   "number_sections": true,
   "sideBar": true,
   "skip_h1_title": false,
   "title_cell": "Table of Contents",
   "title_sidebar": "Contents",
   "toc_cell": false,
   "toc_position": {},
   "toc_section_display": true,
   "toc_window_display": false
  },
  "varInspector": {
   "cols": {
    "lenName": 16,
    "lenType": 16,
    "lenVar": 40
   },
   "kernels_config": {
    "python": {
     "delete_cmd_postfix": "",
     "delete_cmd_prefix": "del ",
     "library": "var_list.py",
     "varRefreshCmd": "print(var_dic_list())"
    },
    "r": {
     "delete_cmd_postfix": ") ",
     "delete_cmd_prefix": "rm(",
     "library": "var_list.r",
     "varRefreshCmd": "cat(var_dic_list()) "
    }
   },
   "types_to_exclude": [
    "module",
    "function",
    "builtin_function_or_method",
    "instance",
    "_Feature"
   ],
   "window_display": false
  }
 },
 "nbformat": 4,
 "nbformat_minor": 2
}
