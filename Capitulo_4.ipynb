{
 "cells": [
  {
   "cell_type": "markdown",
   "metadata": {},
   "source": [
    "# Aplicando modelagem de assuntos ao DHBB\n",
    "Neste capítulo vamos explorar ferramentas de modelagem de assuntos e explorar aplicações ao DHBB. Como sempre, começamos com alguns imports familiares."
   ]
  },
  {
   "cell_type": "code",
   "execution_count": 19,
   "metadata": {
    "ExecuteTime": {
     "end_time": "2021-10-26T18:28:37.244796Z",
     "start_time": "2021-10-26T18:28:37.238704Z"
    }
   },
   "outputs": [],
   "source": [
    "import os, glob, pickle\n",
    "import spacy\n",
    "from spacy import displacy\n",
    "from sqlalchemy import create_engine\n",
    "from dhbbmining import *\n",
    "import ipywidgets as widgets\n",
    "from tqdm import tqdm"
   ]
  },
  {
   "cell_type": "markdown",
   "metadata": {},
   "source": [
    "Vamos também carregar o modelo de NLP para a língua portuguesa do Spacy:"
   ]
  },
  {
   "cell_type": "code",
   "execution_count": 43,
   "metadata": {
    "ExecuteTime": {
     "end_time": "2020-11-23T17:41:13.621625Z",
     "start_time": "2020-11-23T17:40:59.172362Z"
    }
   },
   "outputs": [
    {
     "name": "stdout",
     "output_type": "stream",
     "text": [
      "Defaulting to user installation because normal site-packages is not writeable\n",
      "Requirement already satisfied: pt_core_news_sm==2.3.0 from https://github.com/explosion/spacy-models/releases/download/pt_core_news_sm-2.3.0/pt_core_news_sm-2.3.0.tar.gz#egg=pt_core_news_sm==2.3.0 in /home/fccoelho/.local/lib/python3.8/site-packages (2.3.0)\n",
      "Requirement already satisfied: spacy<2.4.0,>=2.3.0 in /usr/local/lib/python3.8/dist-packages (from pt_core_news_sm==2.3.0) (2.3.2)\n",
      "Requirement already satisfied: preshed<3.1.0,>=3.0.2 in /usr/local/lib/python3.8/dist-packages (from spacy<2.4.0,>=2.3.0->pt_core_news_sm==2.3.0) (3.0.2)\n",
      "Requirement already satisfied: thinc==7.4.1 in /usr/local/lib/python3.8/dist-packages (from spacy<2.4.0,>=2.3.0->pt_core_news_sm==2.3.0) (7.4.1)\n",
      "Requirement already satisfied: numpy>=1.15.0 in /usr/local/lib/python3.8/dist-packages (from spacy<2.4.0,>=2.3.0->pt_core_news_sm==2.3.0) (1.18.4)\n",
      "Requirement already satisfied: tqdm<5.0.0,>=4.38.0 in /usr/local/lib/python3.8/dist-packages (from spacy<2.4.0,>=2.3.0->pt_core_news_sm==2.3.0) (4.51.0)\n",
      "Requirement already satisfied: plac<1.2.0,>=0.9.6 in /usr/local/lib/python3.8/dist-packages (from spacy<2.4.0,>=2.3.0->pt_core_news_sm==2.3.0) (1.1.3)\n",
      "Requirement already satisfied: requests<3.0.0,>=2.13.0 in /usr/local/lib/python3.8/dist-packages (from spacy<2.4.0,>=2.3.0->pt_core_news_sm==2.3.0) (2.23.0)\n",
      "Requirement already satisfied: cymem<2.1.0,>=2.0.2 in /usr/local/lib/python3.8/dist-packages (from spacy<2.4.0,>=2.3.0->pt_core_news_sm==2.3.0) (2.0.3)\n",
      "Requirement already satisfied: setuptools in /usr/local/lib/python3.8/dist-packages (from spacy<2.4.0,>=2.3.0->pt_core_news_sm==2.3.0) (46.2.0)\n",
      "Requirement already satisfied: srsly<1.1.0,>=1.0.2 in /usr/local/lib/python3.8/dist-packages (from spacy<2.4.0,>=2.3.0->pt_core_news_sm==2.3.0) (1.0.2)\n",
      "Requirement already satisfied: catalogue<1.1.0,>=0.0.7 in /usr/local/lib/python3.8/dist-packages (from spacy<2.4.0,>=2.3.0->pt_core_news_sm==2.3.0) (1.0.0)\n",
      "Requirement already satisfied: murmurhash<1.1.0,>=0.28.0 in /usr/local/lib/python3.8/dist-packages (from spacy<2.4.0,>=2.3.0->pt_core_news_sm==2.3.0) (1.0.2)\n",
      "Requirement already satisfied: blis<0.5.0,>=0.4.0 in /usr/local/lib/python3.8/dist-packages (from spacy<2.4.0,>=2.3.0->pt_core_news_sm==2.3.0) (0.4.1)\n",
      "Requirement already satisfied: wasabi<1.1.0,>=0.4.0 in /usr/local/lib/python3.8/dist-packages (from spacy<2.4.0,>=2.3.0->pt_core_news_sm==2.3.0) (0.8.0)\n",
      "Requirement already satisfied: certifi>=2017.4.17 in /usr/local/lib/python3.8/dist-packages (from requests<3.0.0,>=2.13.0->spacy<2.4.0,>=2.3.0->pt_core_news_sm==2.3.0) (2020.6.20)\n",
      "Requirement already satisfied: urllib3!=1.25.0,!=1.25.1,<1.26,>=1.21.1 in /usr/local/lib/python3.8/dist-packages (from requests<3.0.0,>=2.13.0->spacy<2.4.0,>=2.3.0->pt_core_news_sm==2.3.0) (1.24.3)\n",
      "Requirement already satisfied: idna<3,>=2.5 in /usr/lib/python3/dist-packages (from requests<3.0.0,>=2.13.0->spacy<2.4.0,>=2.3.0->pt_core_news_sm==2.3.0) (2.10)\n",
      "Requirement already satisfied: chardet<4,>=3.0.2 in /usr/lib/python3/dist-packages (from requests<3.0.0,>=2.13.0->spacy<2.4.0,>=2.3.0->pt_core_news_sm==2.3.0) (3.0.4)\n",
      "\u001b[38;5;2m✔ Download and installation successful\u001b[0m\n",
      "You can now load the model via spacy.load('pt_core_news_sm')\n"
     ]
    }
   ],
   "source": [
    "!python -m spacy download pt_core_news_sm"
   ]
  },
  {
   "cell_type": "code",
   "execution_count": 20,
   "metadata": {
    "ExecuteTime": {
     "end_time": "2021-10-26T18:28:47.223515Z",
     "start_time": "2021-10-26T18:28:42.784713Z"
    }
   },
   "outputs": [],
   "source": [
    "nlp = spacy.load(\"pt_core_news_sm\")"
   ]
  },
  {
   "cell_type": "markdown",
   "metadata": {},
   "source": [
    "Agora faremos alguns imports novos, particularmente da biblioteca [Gensim](https://radimrehurek.com/gensim), que nos oferece as ferramentas que necessitamos para modelagem de assuntos."
   ]
  },
  {
   "cell_type": "code",
   "execution_count": 21,
   "metadata": {
    "ExecuteTime": {
     "end_time": "2021-10-26T18:28:47.278970Z",
     "start_time": "2021-10-26T18:28:47.274264Z"
    }
   },
   "outputs": [],
   "source": [
    "from string import punctuation\n",
    "from gensim.test.utils import datapath\n",
    "from gensim import utils\n",
    "from gensim.models import Word2Vec, word2vec"
   ]
  },
  {
   "cell_type": "markdown",
   "metadata": {},
   "source": [
    "Para minimizar o uso de memória, vamos construir uma classe para representar o nosso corpus como um iterador, operando diretamente do banco de dados. Desta forma, ao fazer nossas análises, podemos carregar um documento por vez para alimentar os modelos, sem a necessidade de manter todo o corpus na memória, economizando memória RAM."
   ]
  },
  {
   "cell_type": "code",
   "execution_count": 22,
   "metadata": {
    "ExecuteTime": {
     "end_time": "2021-10-26T18:28:47.315763Z",
     "start_time": "2021-10-26T18:28:47.303606Z"
    }
   },
   "outputs": [],
   "source": [
    "eng = create_engine(\"sqlite:///minha_tabela.sqlite\")\n",
    "\n",
    "class DHBBCorpus:\n",
    "    def __init__(self, ndocs=10000):\n",
    "        self.ndocs = min(7687,ndocs)\n",
    "        self.counter = 1\n",
    "    def __iter__(self):\n",
    "        with eng.connect() as con:\n",
    "            res = con.execute(f'select corpo from resultados limit {self.ndocs};')\n",
    "            for doc in res:\n",
    "                d = self.pre_process(doc[0])\n",
    "                if self.counter%10 == 0:\n",
    "                    print (f\"Verbete {self.counter} de {6*self.ndocs}\\r\", end='')\n",
    "                for s in d:\n",
    "                    yield s\n",
    "                self.counter += 1\n",
    "    def pre_process(self, doc):\n",
    "        n = nlp(doc, disable=['tagger', 'ner','entity-linker', 'textcat','entity-ruler','merge-noun-chunks','merge-entities','merge-subtokens'])\n",
    "        results = []\n",
    "        for sentence in n.sents:\n",
    "            s = sentence.text.split()\n",
    "            if not s:\n",
    "                continue\n",
    "            results.append([token.strip().strip(punctuation) for token in s if token.strip().strip(punctuation)])\n",
    "        return results\n",
    "        "
   ]
  },
  {
   "cell_type": "markdown",
   "metadata": {},
   "source": [
    "Abaixo um pequeno exemplo de como a classe `DHBBCorpus` funciona:"
   ]
  },
  {
   "cell_type": "code",
   "execution_count": 23,
   "metadata": {
    "ExecuteTime": {
     "end_time": "2021-10-26T18:28:49.056620Z",
     "start_time": "2021-10-26T18:28:48.980493Z"
    }
   },
   "outputs": [
    {
     "name": "stdout",
     "output_type": "stream",
     "text": [
      "['«José', 'Machado', 'Coelho', 'de', 'Castro»', 'nasceu', 'em', 'Lorena', 'SP']\n"
     ]
    }
   ],
   "source": [
    "DC = DHBBCorpus(5)\n",
    "for f in DC:\n",
    "    pass\n",
    "    print(f)\n",
    "    break\n",
    "    "
   ]
  },
  {
   "cell_type": "code",
   "execution_count": 6,
   "metadata": {
    "ExecuteTime": {
     "end_time": "2021-10-26T18:21:08.499184Z",
     "start_time": "2021-10-26T18:21:08.406242Z"
    }
   },
   "outputs": [],
   "source": [
    "Word2Vec?"
   ]
  },
  {
   "cell_type": "markdown",
   "metadata": {},
   "source": [
    "## Word2vec \n",
    "Vamos começar pelo treinamento de um modelo word2vec. Este modelo itera 6 vezez sobre o corpus logo, devemos ver o contador atingir 46122. Estas repetições são necessárias para permitir a "
   ]
  },
  {
   "cell_type": "code",
   "execution_count": 24,
   "metadata": {
    "ExecuteTime": {
     "end_time": "2021-10-26T18:28:57.102259Z",
     "start_time": "2021-10-26T18:28:54.908113Z"
    }
   },
   "outputs": [],
   "source": [
    "if os.path.exists('dhbb.w2v'):\n",
    "    model = Word2Vec.load('dhbb.w2v')\n",
    "else:\n",
    "    DC = DHBBCorpus()\n",
    "    model = Word2Vec(sentences=DC, workers=32)\n",
    "    model.save('dhbb.w2v')"
   ]
  },
  {
   "cell_type": "markdown",
   "metadata": {},
   "source": [
    "### Explorando o modelo"
   ]
  },
  {
   "cell_type": "code",
   "execution_count": 27,
   "metadata": {
    "ExecuteTime": {
     "end_time": "2021-10-26T18:29:45.023294Z",
     "start_time": "2021-10-26T18:29:45.017266Z"
    }
   },
   "outputs": [
    {
     "name": "stdout",
     "output_type": "stream",
     "text": [
      "de\n",
      "a\n",
      "do\n",
      "e\n",
      "da\n",
      "o\n",
      "em\n",
      "que\n",
      "no\n",
      "na\n"
     ]
    }
   ],
   "source": [
    "for i, word in enumerate(model.wv.index_to_key):\n",
    "    if i == 10:\n",
    "        break\n",
    "    print(word)"
   ]
  },
  {
   "cell_type": "code",
   "execution_count": 28,
   "metadata": {
    "ExecuteTime": {
     "end_time": "2021-10-26T18:29:49.221231Z",
     "start_time": "2021-10-26T18:29:49.215333Z"
    }
   },
   "outputs": [
    {
     "data": {
      "text/plain": [
       "array([-3.0996436e-01, -1.5877485e-02, -1.5051268e-02, -2.4578695e+00,\n",
       "       -1.8383999e+00,  1.3759757e+00, -2.1121233e+00, -2.2401438e+00,\n",
       "       -2.4972947e+00,  4.4667423e-01, -3.8132471e-01, -1.6456211e+00,\n",
       "        1.5593696e-01, -7.2023493e-01,  1.7426707e+00,  2.4558010e+00,\n",
       "        6.6785970e+00, -7.7980298e-01,  1.9919223e+00, -1.4275929e+00,\n",
       "       -3.4091330e+00,  1.0715044e+00, -1.4560964e+00,  2.2716761e-01,\n",
       "        2.4683971e+00,  8.9598668e-01, -1.0678246e+00,  1.7736235e+00,\n",
       "        3.2234378e+00,  3.1494856e+00, -1.4241810e+00, -3.1679513e+00,\n",
       "       -7.6618582e-01, -3.7193185e-01, -1.8184069e-01, -9.7479165e-01,\n",
       "       -1.7631760e+00,  5.5295229e-03,  2.7403109e+00, -1.1091195e+00,\n",
       "        2.6276081e+00, -8.3860022e-01,  2.6800597e+00, -3.9960945e+00,\n",
       "        1.2816764e+00,  2.6876445e+00,  2.5220795e+00,  1.2691977e+00,\n",
       "        3.8920553e+00,  2.6818435e+00, -6.5869278e-01,  7.5531489e-01,\n",
       "       -1.8512478e+00,  5.8441418e-01, -2.6765628e+00,  2.8536856e+00,\n",
       "       -3.4107976e+00, -2.9853513e+00,  1.1553829e+00,  1.0303638e+00,\n",
       "       -3.2885680e+00,  5.8001571e+00, -5.6518650e-01, -2.3075777e-01,\n",
       "       -5.6836921e-01,  4.2334962e+00,  3.5498657e+00,  1.6028244e+00,\n",
       "       -9.1005611e-01, -3.1277559e+00,  2.2250934e+00,  1.0260725e+00,\n",
       "        8.3663917e-01,  6.0604823e-01, -5.1344621e-01, -3.1425672e+00,\n",
       "        3.7934023e-01,  4.1203852e+00,  1.9003510e+00,  5.0539694e+00,\n",
       "       -1.0115962e+00, -4.5589867e+00,  2.7170732e+00, -3.4899542e+00,\n",
       "        3.5393138e+00, -3.9205480e+00,  3.7933569e+00,  2.9498830e+00,\n",
       "        1.0843320e+00, -3.1919601e+00, -4.2460527e+00, -2.1762912e+00,\n",
       "        1.1612146e+00, -9.3885845e-01, -4.9551129e+00, -2.6945655e+00,\n",
       "       -9.0648592e-02, -6.5320075e-02, -1.2192711e+00, -1.0490162e+00],\n",
       "      dtype=float32)"
      ]
     },
     "execution_count": 28,
     "metadata": {},
     "output_type": "execute_result"
    }
   ],
   "source": [
    "model.wv['Deputado'] - model.wv['deputado']"
   ]
  },
  {
   "cell_type": "code",
   "execution_count": 30,
   "metadata": {
    "ExecuteTime": {
     "end_time": "2021-10-26T18:30:37.724894Z",
     "start_time": "2021-10-26T18:30:37.719834Z"
    }
   },
   "outputs": [
    {
     "data": {
      "text/plain": [
       "38762"
      ]
     },
     "execution_count": 30,
     "metadata": {},
     "output_type": "execute_result"
    }
   ],
   "source": [
    "len(model.wv.index_to_key)"
   ]
  },
  {
   "cell_type": "code",
   "execution_count": 35,
   "metadata": {
    "ExecuteTime": {
     "end_time": "2021-10-26T18:33:58.417497Z",
     "start_time": "2021-10-26T18:33:58.402484Z"
    }
   },
   "outputs": [
    {
     "data": {
      "text/plain": [
       "[('progressistas', 0.5529390573501587),\n",
       " ('segmentos', 0.5388556122779846),\n",
       " ('conservadores', 0.5193643569946289),\n",
       " ('antigetulistas', 0.5153485536575317),\n",
       " ('setores', 0.514617919921875),\n",
       " ('nacionalistas', 0.5058426856994629),\n",
       " ('esquerda', 0.5054914355278015),\n",
       " ('oposição', 0.48203909397125244),\n",
       " ('extrema', 0.4733448624610901),\n",
       " ('oposicionistas', 0.4595625400543213),\n",
       " ('adeptos', 0.4470428228378296),\n",
       " ('udenistas', 0.4466225504875183),\n",
       " ('centro-esquerda', 0.4441010057926178),\n",
       " ('radicais', 0.4381747841835022),\n",
       " ('pessedistas', 0.4352889060974121),\n",
       " ('moderados', 0.433881551027298),\n",
       " ('liberais', 0.43283340334892273),\n",
       " ('jovens', 0.4312876760959625),\n",
       " ('grupos', 0.42958804965019226),\n",
       " ('ambientalistas', 0.4289076030254364)]"
      ]
     },
     "execution_count": 35,
     "metadata": {},
     "output_type": "execute_result"
    }
   ],
   "source": [
    "model.wv.most_similar(positive=['direita'],negative=['Comunista'], topn=20)"
   ]
  },
  {
   "cell_type": "code",
   "execution_count": 36,
   "metadata": {
    "ExecuteTime": {
     "end_time": "2021-10-26T18:34:19.657509Z",
     "start_time": "2021-10-26T18:34:19.652772Z"
    }
   },
   "outputs": [
    {
     "data": {
      "text/plain": [
       "8713256"
      ]
     },
     "execution_count": 36,
     "metadata": {},
     "output_type": "execute_result"
    }
   ],
   "source": [
    "model.corpus_total_words"
   ]
  },
  {
   "cell_type": "code",
   "execution_count": 66,
   "metadata": {
    "ExecuteTime": {
     "end_time": "2020-11-23T18:14:35.890423Z",
     "start_time": "2020-11-23T18:14:35.886255Z"
    }
   },
   "outputs": [],
   "source": [
    "model.vocabulary?"
   ]
  },
  {
   "cell_type": "markdown",
   "metadata": {},
   "source": [
    "### Visualizando os vetores de palavras"
   ]
  },
  {
   "cell_type": "code",
   "execution_count": 38,
   "metadata": {
    "ExecuteTime": {
     "end_time": "2021-10-26T18:36:37.561193Z",
     "start_time": "2021-10-26T18:36:16.572941Z"
    }
   },
   "outputs": [
    {
     "name": "stderr",
     "output_type": "stream",
     "text": [
      "/usr/local/lib/python3.9/dist-packages/sklearn/manifold/_t_sne.py:780: FutureWarning: The default initialization in TSNE will change from 'random' to 'pca' in 1.2.\n",
      "  warnings.warn(\n",
      "/usr/local/lib/python3.9/dist-packages/sklearn/manifold/_t_sne.py:790: FutureWarning: The default learning rate in TSNE will change from 200.0 to 'auto' in 1.2.\n",
      "  warnings.warn(\n"
     ]
    }
   ],
   "source": [
    "from sklearn.decomposition import IncrementalPCA    # inital reduction\n",
    "from sklearn.manifold import TSNE                   # final reduction\n",
    "import numpy as np                                  # array handling\n",
    "\n",
    "\n",
    "def reduce_dimensions(model):\n",
    "    num_dimensions = 2  # final num dimensions (2D, 3D, etc)\n",
    "\n",
    "    vectors = [] # positions in vector space\n",
    "    labels = [] # keep track of words to label our data again later\n",
    "    i = 0\n",
    "    for word in model.wv.index_to_key:\n",
    "        vectors.append(model.wv[word])\n",
    "        labels.append(word)\n",
    "        i+=1\n",
    "        if i>200:\n",
    "            break\n",
    "\n",
    "    # convert both lists into numpy vectors for reduction\n",
    "    vectors = np.asarray(vectors)\n",
    "    labels = np.asarray(labels)\n",
    "\n",
    "    # reduce using t-SNE\n",
    "    vectors = np.asarray(vectors)\n",
    "    tsne = TSNE(n_components=num_dimensions, random_state=0)\n",
    "    vectors = tsne.fit_transform(vectors)\n",
    "\n",
    "    x_vals = [v[0] for v in vectors]\n",
    "    y_vals = [v[1] for v in vectors]\n",
    "    return x_vals, y_vals, labels\n",
    "\n",
    "\n",
    "x_vals, y_vals, labels = reduce_dimensions(model)\n",
    "\n",
    "def plot_with_plotly(x_vals, y_vals, labels, plot_in_notebook=True):\n",
    "    from plotly.offline import init_notebook_mode, iplot, plot\n",
    "    import plotly.graph_objs as go\n",
    "\n",
    "    trace = go.Scatter(x=x_vals, y=y_vals, mode='text', text=labels)\n",
    "    data = [trace]\n",
    "\n",
    "    if plot_in_notebook:\n",
    "        init_notebook_mode(connected=True)\n",
    "        iplot(data, filename='word-embedding-plot')\n",
    "    else:\n",
    "        plot(data, filename='word-embedding-plot.html')"
   ]
  },
  {
   "cell_type": "code",
   "execution_count": 39,
   "metadata": {
    "ExecuteTime": {
     "end_time": "2021-10-26T18:36:55.835160Z",
     "start_time": "2021-10-26T18:36:54.365426Z"
    }
   },
   "outputs": [
    {
     "data": {
      "text/html": [
       "        <script type=\"text/javascript\">\n",
       "        window.PlotlyConfig = {MathJaxConfig: 'local'};\n",
       "        if (window.MathJax) {MathJax.Hub.Config({SVG: {font: \"STIX-Web\"}});}\n",
       "        if (typeof require !== 'undefined') {\n",
       "        require.undef(\"plotly\");\n",
       "        requirejs.config({\n",
       "            paths: {\n",
       "                'plotly': ['https://cdn.plot.ly/plotly-latest.min']\n",
       "            }\n",
       "        });\n",
       "        require(['plotly'], function(Plotly) {\n",
       "            window._Plotly = Plotly;\n",
       "        });\n",
       "        }\n",
       "        </script>\n",
       "        "
      ]
     },
     "metadata": {},
     "output_type": "display_data"
    },
    {
     "data": {
      "application/vnd.plotly.v1+json": {
       "config": {
        "linkText": "Export to plot.ly",
        "plotlyServerURL": "https://plot.ly",
        "showLink": false
       },
       "data": [
        {
         "mode": "text",
         "text": [
          "de",
          "a",
          "do",
          "e",
          "da",
          "o",
          "em",
          "que",
          "no",
          "na",
          "para",
          "com",
          "foi",
          "dos",
          "ao",
          "Em",
          "à",
          "por",
          "os",
          "uma",
          "um",
          "pelo",
          "como",
          "das",
          "governo",
          "ano",
          "as",
          "presidente",
          "sua",
          "se",
          "pela",
          "seu",
          "Partido",
          "Rio",
          "não",
          "outubro",
          "No",
          "Câmara",
          "dia",
          "A",
          "Paulo",
          "deputado",
          "seguinte",
          "novembro",
          "Nacional",
          "São",
          "Comissão",
          "mandato",
          "entre",
          "O",
          "federal",
          "mais",
          "até",
          "Brasil",
          "janeiro",
          "Janeiro",
          "estado",
          "também",
          "política",
          "fevereiro",
          "cargo",
          "legenda",
          "mesmo",
          "março",
          "sobre",
          "partido",
          "então",
          "Federal",
          "República",
          "ainda",
          "abril",
          "eleições",
          "presidência",
          "país",
          "José",
          "contra",
          "quando",
          "João",
          "anos",
          "Social",
          "dezembro",
          "ser",
          "teve",
          "Estado",
          "ministro",
          "aos",
          "Vargas",
          "maio",
          "pleito",
          "Brasileiro",
          "nas",
          "eleito",
          "Foi",
          "qual",
          "era",
          "assumiu",
          "membro",
          "Com",
          "setembro",
          "nacional",
          "depois",
          "mas",
          "agosto",
          "nos",
          "seus",
          "candidato",
          "passou",
          "Democrático",
          "tornou-se",
          "às",
          "movimento",
          "julho",
          "PMDB",
          "sendo",
          "Ainda",
          "Deputados",
          "Congresso",
          "estadual",
          "onde",
          "Senado",
          "filho",
          "durante",
          "apoio",
          "votos",
          "junho",
          "general",
          "Na",
          "nasceu",
          "Minas",
          "novo",
          "dois",
          "governador",
          "segundo",
          "já",
          "militar",
          "desse",
          "Assembléia",
          "após",
          "foram",
          "mês",
          "Carlos",
          "Ministério",
          "tendo",
          "Justiça",
          "primeiro",
          "projeto",
          "suas",
          "campanha",
          "período",
          "Grande",
          "Sul",
          "candidatura",
          "início",
          "comissão",
          "vez",
          "fim",
          "regime",
          "ou",
          "Escola",
          "participou",
          "Universidade",
          "nova",
          "oposição",
          "1964",
          "sido",
          "partir",
          "Luís",
          "nomeado",
          "Constituição",
          "posse",
          "políticos",
          "Militar",
          "criação",
          "quem",
          "legislatura",
          "Fernando",
          "favor",
          "capital",
          "processo",
          "reforma",
          "Silva",
          "titular",
          "nº",
          "curso",
          "três",
          "cidade",
          "Exército",
          "Antônio",
          "Durante",
          "PSD",
          "Faculdade",
          "chefe",
          "suplente",
          "Distrito",
          "PTB",
          "jornal",
          "direito",
          "Conselho",
          "deixou",
          "elegeu-se",
          "vice-presidente"
         ],
         "type": "scatter",
         "x": [
          -0.48788100481033325,
          -4.492918968200684,
          -3.443469524383545,
          -0.6088327169418335,
          -4.402913570404053,
          -3.621492624282837,
          0.9902378916740417,
          -0.6472352743148804,
          -3.149651050567627,
          -6.6328206062316895,
          0.0526580810546875,
          0.892837643623352,
          2.2567408084869385,
          -1.156782627105713,
          -4.901883125305176,
          0.9515570998191833,
          -5.484562397003174,
          -6.193821430206299,
          -1.0337637662887573,
          -5.379860877990723,
          -3.4323174953460693,
          -6.1492600440979,
          1.018695592880249,
          -9.76774787902832,
          10.953452110290527,
          3.371142625808716,
          -9.910508155822754,
          8.832736015319824,
          -4.699443340301514,
          -2.6580581665039062,
          -6.844590187072754,
          -2.8890066146850586,
          -4.101414680480957,
          3.4071922302246094,
          -0.03747135400772095,
          3.0673158168792725,
          -0.1854507327079773,
          -6.901169300079346,
          3.620436429977417,
          -5.605677127838135,
          -6.625076770782471,
          11.692049026489258,
          -4.335836887359619,
          2.741177797317505,
          -9.365358352661133,
          2.954786777496338,
          -3.388005018234253,
          7.6865553855896,
          1.2143498659133911,
          -3.9052679538726807,
          -6.240962505340576,
          -1.891283392906189,
          2.168166160583496,
          -8.649301528930664,
          4.514930725097656,
          6.478621006011963,
          -7.760195732116699,
          -1.1917692422866821,
          -2.2442591190338135,
          4.163032054901123,
          8.442338943481445,
          5.166948318481445,
          -4.330724716186523,
          4.388132095336914,
          1.4581342935562134,
          -3.2256267070770264,
          -1.75352144241333,
          4.046968460083008,
          -4.635475158691406,
          -1.0751490592956543,
          3.9722161293029785,
          9.825020790100098,
          9.177985191345215,
          -8.435735702514648,
          -5.889143943786621,
          3.006218671798706,
          0.46420183777809143,
          -6.5290069580078125,
          5.726284027099609,
          -9.685297012329102,
          3.6112027168273926,
          1.2040557861328125,
          2.92895245552063,
          -8.802125930786133,
          9.835960388183594,
          -1.9656821489334106,
          -4.058839321136475,
          3.3262598514556885,
          9.798932075500488,
          -9.376669883728027,
          -9.557584762573242,
          10.304476737976074,
          2.4232144355773926,
          -0.47727203369140625,
          2.1680219173431396,
          5.337806701660156,
          7.615828514099121,
          1.1540223360061646,
          3.5429582595825195,
          -3.1829092502593994,
          2.609092950820923,
          -0.7459679245948792,
          4.144111633300781,
          -0.9518645405769348,
          -0.9275745153427124,
          -1.675179123878479,
          5.7143330574035645,
          -5.158921241760254,
          3.3683581352233887,
          -8.7459077835083,
          0.36279380321502686,
          3.357637643814087,
          -3.576646327972412,
          1.454228162765503,
          1.1348847150802612,
          -3.2994773387908936,
          -5.424808502197266,
          -6.227236270904541,
          0.13053756952285767,
          -4.971823692321777,
          6.62240743637085,
          0.07534193247556686,
          -1.96819269657135,
          -3.0376601219177246,
          3.9087579250335693,
          5.990528106689453,
          -6.900439262390137,
          5.0571208000183105,
          -2.222641706466675,
          -2.319371461868286,
          -0.8579601645469666,
          10.925183296203613,
          -2.9794631004333496,
          -0.4485931694507599,
          -1.6650044918060303,
          -4.24478006362915,
          -6.831833362579346,
          2.5737574100494385,
          1.2969026565551758,
          3.390268564224243,
          -4.58924674987793,
          9.776069641113281,
          -0.844743013381958,
          -3.0657060146331787,
          -2.955324172973633,
          1.8966050148010254,
          -10.136415481567383,
          -0.9875422120094299,
          3.151355504989624,
          6.516030311584473,
          2.570842742919922,
          -1.3354687690734863,
          1.7735393047332764,
          0.3080202043056488,
          -1.1785269975662231,
          1.6896414756774902,
          1.4087333679199219,
          -0.5939944982528687,
          5.855320930480957,
          3.8500590324401855,
          6.2793192863464355,
          -2.5903708934783936,
          -1.8552395105361938,
          -1.2241764068603516,
          1.8737843036651611,
          1.589490294456482,
          -5.813586711883545,
          10.048431396484375,
          3.688093900680542,
          2.796360969543457,
          -0.6995454430580139,
          4.646122455596924,
          1.1396774053573608,
          -1.0908783674240112,
          6.800161361694336,
          -3.9633052349090576,
          3.0705864429473877,
          4.267817497253418,
          2.0400450229644775,
          1.4677369594573975,
          -4.505402565002441,
          7.384809970855713,
          3.751981496810913,
          4.687736988067627,
          -0.8499191999435425,
          4.4089226722717285,
          5.4549407958984375,
          -5.167164325714111,
          0.08188684284687042,
          -3.6002445220947266,
          6.136667728424072,
          7.059114456176758,
          7.621613502502441,
          4.938130855560303,
          -3.5499253273010254,
          -0.03911830484867096,
          2.7781455516815186,
          8.40542984008789,
          5.443370819091797,
          10.779281616210938,
          8.233335494995117
         ],
         "y": [
          -1.4873480796813965,
          -2.6122305393218994,
          -4.246473789215088,
          -1.2259862422943115,
          -3.1253461837768555,
          -4.8778791427612305,
          -1.2933820486068726,
          1.6955372095108032,
          -3.969799757003784,
          -3.6013729572296143,
          -2.145864963531494,
          -3.5604496002197266,
          -10.18765926361084,
          -6.588990211486816,
          -5.070929527282715,
          10.64554500579834,
          -4.4043755531311035,
          -6.494228363037109,
          -6.097646236419678,
          -2.2622454166412354,
          -5.83878755569458,
          -6.315766334533691,
          -6.396963119506836,
          -7.254213333129883,
          -0.5395328402519226,
          7.526360988616943,
          -7.055764198303223,
          0.3637804090976715,
          -2.0770339965820312,
          2.5172417163848877,
          -4.916460990905762,
          -4.945028305053711,
          6.278022289276123,
          0.2155514359474182,
          0.3923717439174652,
          14.543048858642578,
          11.102241516113281,
          6.4197893142700195,
          8.775628089904785,
          -2.901165008544922,
          0.7651020288467407,
          -0.12324661761522293,
          -8.999085426330566,
          14.023981094360352,
          -0.4774489402770996,
          -0.5903136730194092,
          10.368558883666992,
          4.009593486785889,
          -2.4747872352600098,
          -5.422844409942627,
          3.0806124210357666,
          1.3093234300613403,
          -1.6844780445098877,
          3.8287465572357178,
          14.162588119506836,
          -4.656739711761475,
          3.1282236576080322,
          -0.6028159260749817,
          0.3155319392681122,
          14.451725959777832,
          4.096813201904297,
          2.81022047996521,
          -9.0839262008667,
          13.571038246154785,
          -4.965027332305908,
          5.231844425201416,
          -0.6656244397163391,
          -1.783357858657837,
          1.7333003282546997,
          -0.5124253630638123,
          13.555377006530762,
          7.694085597991943,
          0.8389777541160583,
          3.8166065216064453,
          -0.02828720584511757,
          -5.402284145355225,
          1.9506113529205322,
          -0.5695573687553406,
          11.647701263427734,
          -1.5576246976852417,
          13.806400299072266,
          -10.764019966125488,
          -7.989070892333984,
          2.401841640472412,
          -3.2808847427368164,
          -7.175869464874268,
          3.0193827152252197,
          13.47156810760498,
          7.6840643882751465,
          -0.7337656617164612,
          -7.387304782867432,
          3.752150774002075,
          -10.333300590515137,
          2.19948148727417,
          -9.332969665527344,
          -7.622907638549805,
          0.07656874507665634,
          -3.767847776412964,
          12.957221031188965,
          0.02159019187092781,
          -3.3587372303009033,
          1.1002815961837769,
          12.956774711608887,
          -6.914297580718994,
          -5.65183687210083,
          6.3562211990356445,
          -7.882593631744385,
          7.881804466247559,
          -9.45080852508545,
          -7.215783596038818,
          5.331974029541016,
          12.955303192138672,
          5.375324726104736,
          -10.533353805541992,
          10.64900016784668,
          7.958794116973877,
          5.575739860534668,
          3.0429883003234863,
          2.1229302883148193,
          5.3305535316467285,
          8.858734130859375,
          8.292765617370605,
          4.314441204071045,
          6.80357027053833,
          12.815526962280273,
          -1.635365605354309,
          -3.387530565261841,
          0.6674785614013672,
          -3.0640640258789062,
          -1.4831149578094482,
          -4.021331310272217,
          -0.4665798246860504,
          -1.7136728763580322,
          -0.15343783795833588,
          -2.0744943618774414,
          -8.158950805664062,
          6.329605579376221,
          -3.465643882751465,
          -7.919681549072266,
          7.6338582038879395,
          0.20326465368270874,
          -3.2917470932006836,
          -9.68034553527832,
          1.3887865543365479,
          -1.729984164237976,
          4.840350151062012,
          -6.780170917510986,
          5.742982387542725,
          6.424551010131836,
          -4.709108829498291,
          0.10610926151275635,
          6.138941287994385,
          1.7470190525054932,
          -0.6220406889915466,
          0.44804054498672485,
          1.3394702672958374,
          5.9097208976745605,
          -2.9074246883392334,
          5.741384029388428,
          -8.269062042236328,
          5.909524917602539,
          -0.5616269111633301,
          4.281409740447998,
          -2.065587043762207,
          -11.141569137573242,
          -1.2181442975997925,
          0.35492098331451416,
          3.788914442062378,
          4.021533966064453,
          1.346292495727539,
          -4.907363414764404,
          -1.721128225326538,
          0.32354626059532166,
          2.571953773498535,
          2.8629872798919678,
          -0.7354872226715088,
          -5.403263568878174,
          2.0093770027160645,
          5.407950401306152,
          3.013066530227661,
          0.9807132482528687,
          1.2353293895721436,
          10.789706230163574,
          5.384097576141357,
          -3.9106225967407227,
          2.0649962425231934,
          -1.680802822113037,
          0.22202995419502258,
          8.417531967163086,
          5.139288425445557,
          5.85487699508667,
          -0.7695715427398682,
          1.0631208419799805,
          -3.666093111038208,
          5.428257942199707,
          4.1782145500183105,
          3.433467149734497,
          -2.6451144218444824,
          -7.589117527008057,
          3.6750741004943848,
          0.5007091164588928
         ]
        }
       ],
       "layout": {
        "template": {
         "data": {
          "bar": [
           {
            "error_x": {
             "color": "#2a3f5f"
            },
            "error_y": {
             "color": "#2a3f5f"
            },
            "marker": {
             "line": {
              "color": "#E5ECF6",
              "width": 0.5
             }
            },
            "type": "bar"
           }
          ],
          "barpolar": [
           {
            "marker": {
             "line": {
              "color": "#E5ECF6",
              "width": 0.5
             }
            },
            "type": "barpolar"
           }
          ],
          "carpet": [
           {
            "aaxis": {
             "endlinecolor": "#2a3f5f",
             "gridcolor": "white",
             "linecolor": "white",
             "minorgridcolor": "white",
             "startlinecolor": "#2a3f5f"
            },
            "baxis": {
             "endlinecolor": "#2a3f5f",
             "gridcolor": "white",
             "linecolor": "white",
             "minorgridcolor": "white",
             "startlinecolor": "#2a3f5f"
            },
            "type": "carpet"
           }
          ],
          "choropleth": [
           {
            "colorbar": {
             "outlinewidth": 0,
             "ticks": ""
            },
            "type": "choropleth"
           }
          ],
          "contour": [
           {
            "colorbar": {
             "outlinewidth": 0,
             "ticks": ""
            },
            "colorscale": [
             [
              0,
              "#0d0887"
             ],
             [
              0.1111111111111111,
              "#46039f"
             ],
             [
              0.2222222222222222,
              "#7201a8"
             ],
             [
              0.3333333333333333,
              "#9c179e"
             ],
             [
              0.4444444444444444,
              "#bd3786"
             ],
             [
              0.5555555555555556,
              "#d8576b"
             ],
             [
              0.6666666666666666,
              "#ed7953"
             ],
             [
              0.7777777777777778,
              "#fb9f3a"
             ],
             [
              0.8888888888888888,
              "#fdca26"
             ],
             [
              1,
              "#f0f921"
             ]
            ],
            "type": "contour"
           }
          ],
          "contourcarpet": [
           {
            "colorbar": {
             "outlinewidth": 0,
             "ticks": ""
            },
            "type": "contourcarpet"
           }
          ],
          "heatmap": [
           {
            "colorbar": {
             "outlinewidth": 0,
             "ticks": ""
            },
            "colorscale": [
             [
              0,
              "#0d0887"
             ],
             [
              0.1111111111111111,
              "#46039f"
             ],
             [
              0.2222222222222222,
              "#7201a8"
             ],
             [
              0.3333333333333333,
              "#9c179e"
             ],
             [
              0.4444444444444444,
              "#bd3786"
             ],
             [
              0.5555555555555556,
              "#d8576b"
             ],
             [
              0.6666666666666666,
              "#ed7953"
             ],
             [
              0.7777777777777778,
              "#fb9f3a"
             ],
             [
              0.8888888888888888,
              "#fdca26"
             ],
             [
              1,
              "#f0f921"
             ]
            ],
            "type": "heatmap"
           }
          ],
          "heatmapgl": [
           {
            "colorbar": {
             "outlinewidth": 0,
             "ticks": ""
            },
            "colorscale": [
             [
              0,
              "#0d0887"
             ],
             [
              0.1111111111111111,
              "#46039f"
             ],
             [
              0.2222222222222222,
              "#7201a8"
             ],
             [
              0.3333333333333333,
              "#9c179e"
             ],
             [
              0.4444444444444444,
              "#bd3786"
             ],
             [
              0.5555555555555556,
              "#d8576b"
             ],
             [
              0.6666666666666666,
              "#ed7953"
             ],
             [
              0.7777777777777778,
              "#fb9f3a"
             ],
             [
              0.8888888888888888,
              "#fdca26"
             ],
             [
              1,
              "#f0f921"
             ]
            ],
            "type": "heatmapgl"
           }
          ],
          "histogram": [
           {
            "marker": {
             "colorbar": {
              "outlinewidth": 0,
              "ticks": ""
             }
            },
            "type": "histogram"
           }
          ],
          "histogram2d": [
           {
            "colorbar": {
             "outlinewidth": 0,
             "ticks": ""
            },
            "colorscale": [
             [
              0,
              "#0d0887"
             ],
             [
              0.1111111111111111,
              "#46039f"
             ],
             [
              0.2222222222222222,
              "#7201a8"
             ],
             [
              0.3333333333333333,
              "#9c179e"
             ],
             [
              0.4444444444444444,
              "#bd3786"
             ],
             [
              0.5555555555555556,
              "#d8576b"
             ],
             [
              0.6666666666666666,
              "#ed7953"
             ],
             [
              0.7777777777777778,
              "#fb9f3a"
             ],
             [
              0.8888888888888888,
              "#fdca26"
             ],
             [
              1,
              "#f0f921"
             ]
            ],
            "type": "histogram2d"
           }
          ],
          "histogram2dcontour": [
           {
            "colorbar": {
             "outlinewidth": 0,
             "ticks": ""
            },
            "colorscale": [
             [
              0,
              "#0d0887"
             ],
             [
              0.1111111111111111,
              "#46039f"
             ],
             [
              0.2222222222222222,
              "#7201a8"
             ],
             [
              0.3333333333333333,
              "#9c179e"
             ],
             [
              0.4444444444444444,
              "#bd3786"
             ],
             [
              0.5555555555555556,
              "#d8576b"
             ],
             [
              0.6666666666666666,
              "#ed7953"
             ],
             [
              0.7777777777777778,
              "#fb9f3a"
             ],
             [
              0.8888888888888888,
              "#fdca26"
             ],
             [
              1,
              "#f0f921"
             ]
            ],
            "type": "histogram2dcontour"
           }
          ],
          "mesh3d": [
           {
            "colorbar": {
             "outlinewidth": 0,
             "ticks": ""
            },
            "type": "mesh3d"
           }
          ],
          "parcoords": [
           {
            "line": {
             "colorbar": {
              "outlinewidth": 0,
              "ticks": ""
             }
            },
            "type": "parcoords"
           }
          ],
          "pie": [
           {
            "automargin": true,
            "type": "pie"
           }
          ],
          "scatter": [
           {
            "marker": {
             "colorbar": {
              "outlinewidth": 0,
              "ticks": ""
             }
            },
            "type": "scatter"
           }
          ],
          "scatter3d": [
           {
            "line": {
             "colorbar": {
              "outlinewidth": 0,
              "ticks": ""
             }
            },
            "marker": {
             "colorbar": {
              "outlinewidth": 0,
              "ticks": ""
             }
            },
            "type": "scatter3d"
           }
          ],
          "scattercarpet": [
           {
            "marker": {
             "colorbar": {
              "outlinewidth": 0,
              "ticks": ""
             }
            },
            "type": "scattercarpet"
           }
          ],
          "scattergeo": [
           {
            "marker": {
             "colorbar": {
              "outlinewidth": 0,
              "ticks": ""
             }
            },
            "type": "scattergeo"
           }
          ],
          "scattergl": [
           {
            "marker": {
             "colorbar": {
              "outlinewidth": 0,
              "ticks": ""
             }
            },
            "type": "scattergl"
           }
          ],
          "scattermapbox": [
           {
            "marker": {
             "colorbar": {
              "outlinewidth": 0,
              "ticks": ""
             }
            },
            "type": "scattermapbox"
           }
          ],
          "scatterpolar": [
           {
            "marker": {
             "colorbar": {
              "outlinewidth": 0,
              "ticks": ""
             }
            },
            "type": "scatterpolar"
           }
          ],
          "scatterpolargl": [
           {
            "marker": {
             "colorbar": {
              "outlinewidth": 0,
              "ticks": ""
             }
            },
            "type": "scatterpolargl"
           }
          ],
          "scatterternary": [
           {
            "marker": {
             "colorbar": {
              "outlinewidth": 0,
              "ticks": ""
             }
            },
            "type": "scatterternary"
           }
          ],
          "surface": [
           {
            "colorbar": {
             "outlinewidth": 0,
             "ticks": ""
            },
            "colorscale": [
             [
              0,
              "#0d0887"
             ],
             [
              0.1111111111111111,
              "#46039f"
             ],
             [
              0.2222222222222222,
              "#7201a8"
             ],
             [
              0.3333333333333333,
              "#9c179e"
             ],
             [
              0.4444444444444444,
              "#bd3786"
             ],
             [
              0.5555555555555556,
              "#d8576b"
             ],
             [
              0.6666666666666666,
              "#ed7953"
             ],
             [
              0.7777777777777778,
              "#fb9f3a"
             ],
             [
              0.8888888888888888,
              "#fdca26"
             ],
             [
              1,
              "#f0f921"
             ]
            ],
            "type": "surface"
           }
          ],
          "table": [
           {
            "cells": {
             "fill": {
              "color": "#EBF0F8"
             },
             "line": {
              "color": "white"
             }
            },
            "header": {
             "fill": {
              "color": "#C8D4E3"
             },
             "line": {
              "color": "white"
             }
            },
            "type": "table"
           }
          ]
         },
         "layout": {
          "annotationdefaults": {
           "arrowcolor": "#2a3f5f",
           "arrowhead": 0,
           "arrowwidth": 1
          },
          "autotypenumbers": "strict",
          "coloraxis": {
           "colorbar": {
            "outlinewidth": 0,
            "ticks": ""
           }
          },
          "colorscale": {
           "diverging": [
            [
             0,
             "#8e0152"
            ],
            [
             0.1,
             "#c51b7d"
            ],
            [
             0.2,
             "#de77ae"
            ],
            [
             0.3,
             "#f1b6da"
            ],
            [
             0.4,
             "#fde0ef"
            ],
            [
             0.5,
             "#f7f7f7"
            ],
            [
             0.6,
             "#e6f5d0"
            ],
            [
             0.7,
             "#b8e186"
            ],
            [
             0.8,
             "#7fbc41"
            ],
            [
             0.9,
             "#4d9221"
            ],
            [
             1,
             "#276419"
            ]
           ],
           "sequential": [
            [
             0,
             "#0d0887"
            ],
            [
             0.1111111111111111,
             "#46039f"
            ],
            [
             0.2222222222222222,
             "#7201a8"
            ],
            [
             0.3333333333333333,
             "#9c179e"
            ],
            [
             0.4444444444444444,
             "#bd3786"
            ],
            [
             0.5555555555555556,
             "#d8576b"
            ],
            [
             0.6666666666666666,
             "#ed7953"
            ],
            [
             0.7777777777777778,
             "#fb9f3a"
            ],
            [
             0.8888888888888888,
             "#fdca26"
            ],
            [
             1,
             "#f0f921"
            ]
           ],
           "sequentialminus": [
            [
             0,
             "#0d0887"
            ],
            [
             0.1111111111111111,
             "#46039f"
            ],
            [
             0.2222222222222222,
             "#7201a8"
            ],
            [
             0.3333333333333333,
             "#9c179e"
            ],
            [
             0.4444444444444444,
             "#bd3786"
            ],
            [
             0.5555555555555556,
             "#d8576b"
            ],
            [
             0.6666666666666666,
             "#ed7953"
            ],
            [
             0.7777777777777778,
             "#fb9f3a"
            ],
            [
             0.8888888888888888,
             "#fdca26"
            ],
            [
             1,
             "#f0f921"
            ]
           ]
          },
          "colorway": [
           "#636efa",
           "#EF553B",
           "#00cc96",
           "#ab63fa",
           "#FFA15A",
           "#19d3f3",
           "#FF6692",
           "#B6E880",
           "#FF97FF",
           "#FECB52"
          ],
          "font": {
           "color": "#2a3f5f"
          },
          "geo": {
           "bgcolor": "white",
           "lakecolor": "white",
           "landcolor": "#E5ECF6",
           "showlakes": true,
           "showland": true,
           "subunitcolor": "white"
          },
          "hoverlabel": {
           "align": "left"
          },
          "hovermode": "closest",
          "mapbox": {
           "style": "light"
          },
          "paper_bgcolor": "white",
          "plot_bgcolor": "#E5ECF6",
          "polar": {
           "angularaxis": {
            "gridcolor": "white",
            "linecolor": "white",
            "ticks": ""
           },
           "bgcolor": "#E5ECF6",
           "radialaxis": {
            "gridcolor": "white",
            "linecolor": "white",
            "ticks": ""
           }
          },
          "scene": {
           "xaxis": {
            "backgroundcolor": "#E5ECF6",
            "gridcolor": "white",
            "gridwidth": 2,
            "linecolor": "white",
            "showbackground": true,
            "ticks": "",
            "zerolinecolor": "white"
           },
           "yaxis": {
            "backgroundcolor": "#E5ECF6",
            "gridcolor": "white",
            "gridwidth": 2,
            "linecolor": "white",
            "showbackground": true,
            "ticks": "",
            "zerolinecolor": "white"
           },
           "zaxis": {
            "backgroundcolor": "#E5ECF6",
            "gridcolor": "white",
            "gridwidth": 2,
            "linecolor": "white",
            "showbackground": true,
            "ticks": "",
            "zerolinecolor": "white"
           }
          },
          "shapedefaults": {
           "line": {
            "color": "#2a3f5f"
           }
          },
          "ternary": {
           "aaxis": {
            "gridcolor": "white",
            "linecolor": "white",
            "ticks": ""
           },
           "baxis": {
            "gridcolor": "white",
            "linecolor": "white",
            "ticks": ""
           },
           "bgcolor": "#E5ECF6",
           "caxis": {
            "gridcolor": "white",
            "linecolor": "white",
            "ticks": ""
           }
          },
          "title": {
           "x": 0.05
          },
          "xaxis": {
           "automargin": true,
           "gridcolor": "white",
           "linecolor": "white",
           "ticks": "",
           "title": {
            "standoff": 15
           },
           "zerolinecolor": "white",
           "zerolinewidth": 2
          },
          "yaxis": {
           "automargin": true,
           "gridcolor": "white",
           "linecolor": "white",
           "ticks": "",
           "title": {
            "standoff": 15
           },
           "zerolinecolor": "white",
           "zerolinewidth": 2
          }
         }
        }
       }
      },
      "text/html": [
       "<div>                            <div id=\"a62a586d-6a70-4b1c-8576-fe9b8231d16a\" class=\"plotly-graph-div\" style=\"height:525px; width:100%;\"></div>            <script type=\"text/javascript\">                require([\"plotly\"], function(Plotly) {                    window.PLOTLYENV=window.PLOTLYENV || {};                                    if (document.getElementById(\"a62a586d-6a70-4b1c-8576-fe9b8231d16a\")) {                    Plotly.newPlot(                        \"a62a586d-6a70-4b1c-8576-fe9b8231d16a\",                        [{\"mode\": \"text\", \"text\": [\"de\", \"a\", \"do\", \"e\", \"da\", \"o\", \"em\", \"que\", \"no\", \"na\", \"para\", \"com\", \"foi\", \"dos\", \"ao\", \"Em\", \"\\u00e0\", \"por\", \"os\", \"uma\", \"um\", \"pelo\", \"como\", \"das\", \"governo\", \"ano\", \"as\", \"presidente\", \"sua\", \"se\", \"pela\", \"seu\", \"Partido\", \"Rio\", \"n\\u00e3o\", \"outubro\", \"No\", \"C\\u00e2mara\", \"dia\", \"A\", \"Paulo\", \"deputado\", \"seguinte\", \"novembro\", \"Nacional\", \"S\\u00e3o\", \"Comiss\\u00e3o\", \"mandato\", \"entre\", \"O\", \"federal\", \"mais\", \"at\\u00e9\", \"Brasil\", \"janeiro\", \"Janeiro\", \"estado\", \"tamb\\u00e9m\", \"pol\\u00edtica\", \"fevereiro\", \"cargo\", \"legenda\", \"mesmo\", \"mar\\u00e7o\", \"sobre\", \"partido\", \"ent\\u00e3o\", \"Federal\", \"Rep\\u00fablica\", \"ainda\", \"abril\", \"elei\\u00e7\\u00f5es\", \"presid\\u00eancia\", \"pa\\u00eds\", \"Jos\\u00e9\", \"contra\", \"quando\", \"Jo\\u00e3o\", \"anos\", \"Social\", \"dezembro\", \"ser\", \"teve\", \"Estado\", \"ministro\", \"aos\", \"Vargas\", \"maio\", \"pleito\", \"Brasileiro\", \"nas\", \"eleito\", \"Foi\", \"qual\", \"era\", \"assumiu\", \"membro\", \"Com\", \"setembro\", \"nacional\", \"depois\", \"mas\", \"agosto\", \"nos\", \"seus\", \"candidato\", \"passou\", \"Democr\\u00e1tico\", \"tornou-se\", \"\\u00e0s\", \"movimento\", \"julho\", \"PMDB\", \"sendo\", \"Ainda\", \"Deputados\", \"Congresso\", \"estadual\", \"onde\", \"Senado\", \"filho\", \"durante\", \"apoio\", \"votos\", \"junho\", \"general\", \"Na\", \"nasceu\", \"Minas\", \"novo\", \"dois\", \"governador\", \"segundo\", \"j\\u00e1\", \"militar\", \"desse\", \"Assembl\\u00e9ia\", \"ap\\u00f3s\", \"foram\", \"m\\u00eas\", \"Carlos\", \"Minist\\u00e9rio\", \"tendo\", \"Justi\\u00e7a\", \"primeiro\", \"projeto\", \"suas\", \"campanha\", \"per\\u00edodo\", \"Grande\", \"Sul\", \"candidatura\", \"in\\u00edcio\", \"comiss\\u00e3o\", \"vez\", \"fim\", \"regime\", \"ou\", \"Escola\", \"participou\", \"Universidade\", \"nova\", \"oposi\\u00e7\\u00e3o\", \"1964\", \"sido\", \"partir\", \"Lu\\u00eds\", \"nomeado\", \"Constitui\\u00e7\\u00e3o\", \"posse\", \"pol\\u00edticos\", \"Militar\", \"cria\\u00e7\\u00e3o\", \"quem\", \"legislatura\", \"Fernando\", \"favor\", \"capital\", \"processo\", \"reforma\", \"Silva\", \"titular\", \"n\\u00ba\", \"curso\", \"tr\\u00eas\", \"cidade\", \"Ex\\u00e9rcito\", \"Ant\\u00f4nio\", \"Durante\", \"PSD\", \"Faculdade\", \"chefe\", \"suplente\", \"Distrito\", \"PTB\", \"jornal\", \"direito\", \"Conselho\", \"deixou\", \"elegeu-se\", \"vice-presidente\"], \"type\": \"scatter\", \"x\": [-0.48788100481033325, -4.492918968200684, -3.443469524383545, -0.6088327169418335, -4.402913570404053, -3.621492624282837, 0.9902378916740417, -0.6472352743148804, -3.149651050567627, -6.6328206062316895, 0.0526580810546875, 0.892837643623352, 2.2567408084869385, -1.156782627105713, -4.901883125305176, 0.9515570998191833, -5.484562397003174, -6.193821430206299, -1.0337637662887573, -5.379860877990723, -3.4323174953460693, -6.1492600440979, 1.018695592880249, -9.76774787902832, 10.953452110290527, 3.371142625808716, -9.910508155822754, 8.832736015319824, -4.699443340301514, -2.6580581665039062, -6.844590187072754, -2.8890066146850586, -4.101414680480957, 3.4071922302246094, -0.03747135400772095, 3.0673158168792725, -0.1854507327079773, -6.901169300079346, 3.620436429977417, -5.605677127838135, -6.625076770782471, 11.692049026489258, -4.335836887359619, 2.741177797317505, -9.365358352661133, 2.954786777496338, -3.388005018234253, 7.6865553855896, 1.2143498659133911, -3.9052679538726807, -6.240962505340576, -1.891283392906189, 2.168166160583496, -8.649301528930664, 4.514930725097656, 6.478621006011963, -7.760195732116699, -1.1917692422866821, -2.2442591190338135, 4.163032054901123, 8.442338943481445, 5.166948318481445, -4.330724716186523, 4.388132095336914, 1.4581342935562134, -3.2256267070770264, -1.75352144241333, 4.046968460083008, -4.635475158691406, -1.0751490592956543, 3.9722161293029785, 9.825020790100098, 9.177985191345215, -8.435735702514648, -5.889143943786621, 3.006218671798706, 0.46420183777809143, -6.5290069580078125, 5.726284027099609, -9.685297012329102, 3.6112027168273926, 1.2040557861328125, 2.92895245552063, -8.802125930786133, 9.835960388183594, -1.9656821489334106, -4.058839321136475, 3.3262598514556885, 9.798932075500488, -9.376669883728027, -9.557584762573242, 10.304476737976074, 2.4232144355773926, -0.47727203369140625, 2.1680219173431396, 5.337806701660156, 7.615828514099121, 1.1540223360061646, 3.5429582595825195, -3.1829092502593994, 2.609092950820923, -0.7459679245948792, 4.144111633300781, -0.9518645405769348, -0.9275745153427124, -1.675179123878479, 5.7143330574035645, -5.158921241760254, 3.3683581352233887, -8.7459077835083, 0.36279380321502686, 3.357637643814087, -3.576646327972412, 1.454228162765503, 1.1348847150802612, -3.2994773387908936, -5.424808502197266, -6.227236270904541, 0.13053756952285767, -4.971823692321777, 6.62240743637085, 0.07534193247556686, -1.96819269657135, -3.0376601219177246, 3.9087579250335693, 5.990528106689453, -6.900439262390137, 5.0571208000183105, -2.222641706466675, -2.319371461868286, -0.8579601645469666, 10.925183296203613, -2.9794631004333496, -0.4485931694507599, -1.6650044918060303, -4.24478006362915, -6.831833362579346, 2.5737574100494385, 1.2969026565551758, 3.390268564224243, -4.58924674987793, 9.776069641113281, -0.844743013381958, -3.0657060146331787, -2.955324172973633, 1.8966050148010254, -10.136415481567383, -0.9875422120094299, 3.151355504989624, 6.516030311584473, 2.570842742919922, -1.3354687690734863, 1.7735393047332764, 0.3080202043056488, -1.1785269975662231, 1.6896414756774902, 1.4087333679199219, -0.5939944982528687, 5.855320930480957, 3.8500590324401855, 6.2793192863464355, -2.5903708934783936, -1.8552395105361938, -1.2241764068603516, 1.8737843036651611, 1.589490294456482, -5.813586711883545, 10.048431396484375, 3.688093900680542, 2.796360969543457, -0.6995454430580139, 4.646122455596924, 1.1396774053573608, -1.0908783674240112, 6.800161361694336, -3.9633052349090576, 3.0705864429473877, 4.267817497253418, 2.0400450229644775, 1.4677369594573975, -4.505402565002441, 7.384809970855713, 3.751981496810913, 4.687736988067627, -0.8499191999435425, 4.4089226722717285, 5.4549407958984375, -5.167164325714111, 0.08188684284687042, -3.6002445220947266, 6.136667728424072, 7.059114456176758, 7.621613502502441, 4.938130855560303, -3.5499253273010254, -0.03911830484867096, 2.7781455516815186, 8.40542984008789, 5.443370819091797, 10.779281616210938, 8.233335494995117], \"y\": [-1.4873480796813965, -2.6122305393218994, -4.246473789215088, -1.2259862422943115, -3.1253461837768555, -4.8778791427612305, -1.2933820486068726, 1.6955372095108032, -3.969799757003784, -3.6013729572296143, -2.145864963531494, -3.5604496002197266, -10.18765926361084, -6.588990211486816, -5.070929527282715, 10.64554500579834, -4.4043755531311035, -6.494228363037109, -6.097646236419678, -2.2622454166412354, -5.83878755569458, -6.315766334533691, -6.396963119506836, -7.254213333129883, -0.5395328402519226, 7.526360988616943, -7.055764198303223, 0.3637804090976715, -2.0770339965820312, 2.5172417163848877, -4.916460990905762, -4.945028305053711, 6.278022289276123, 0.2155514359474182, 0.3923717439174652, 14.543048858642578, 11.102241516113281, 6.4197893142700195, 8.775628089904785, -2.901165008544922, 0.7651020288467407, -0.12324661761522293, -8.999085426330566, 14.023981094360352, -0.4774489402770996, -0.5903136730194092, 10.368558883666992, 4.009593486785889, -2.4747872352600098, -5.422844409942627, 3.0806124210357666, 1.3093234300613403, -1.6844780445098877, 3.8287465572357178, 14.162588119506836, -4.656739711761475, 3.1282236576080322, -0.6028159260749817, 0.3155319392681122, 14.451725959777832, 4.096813201904297, 2.81022047996521, -9.0839262008667, 13.571038246154785, -4.965027332305908, 5.231844425201416, -0.6656244397163391, -1.783357858657837, 1.7333003282546997, -0.5124253630638123, 13.555377006530762, 7.694085597991943, 0.8389777541160583, 3.8166065216064453, -0.02828720584511757, -5.402284145355225, 1.9506113529205322, -0.5695573687553406, 11.647701263427734, -1.5576246976852417, 13.806400299072266, -10.764019966125488, -7.989070892333984, 2.401841640472412, -3.2808847427368164, -7.175869464874268, 3.0193827152252197, 13.47156810760498, 7.6840643882751465, -0.7337656617164612, -7.387304782867432, 3.752150774002075, -10.333300590515137, 2.19948148727417, -9.332969665527344, -7.622907638549805, 0.07656874507665634, -3.767847776412964, 12.957221031188965, 0.02159019187092781, -3.3587372303009033, 1.1002815961837769, 12.956774711608887, -6.914297580718994, -5.65183687210083, 6.3562211990356445, -7.882593631744385, 7.881804466247559, -9.45080852508545, -7.215783596038818, 5.331974029541016, 12.955303192138672, 5.375324726104736, -10.533353805541992, 10.64900016784668, 7.958794116973877, 5.575739860534668, 3.0429883003234863, 2.1229302883148193, 5.3305535316467285, 8.858734130859375, 8.292765617370605, 4.314441204071045, 6.80357027053833, 12.815526962280273, -1.635365605354309, -3.387530565261841, 0.6674785614013672, -3.0640640258789062, -1.4831149578094482, -4.021331310272217, -0.4665798246860504, -1.7136728763580322, -0.15343783795833588, -2.0744943618774414, -8.158950805664062, 6.329605579376221, -3.465643882751465, -7.919681549072266, 7.6338582038879395, 0.20326465368270874, -3.2917470932006836, -9.68034553527832, 1.3887865543365479, -1.729984164237976, 4.840350151062012, -6.780170917510986, 5.742982387542725, 6.424551010131836, -4.709108829498291, 0.10610926151275635, 6.138941287994385, 1.7470190525054932, -0.6220406889915466, 0.44804054498672485, 1.3394702672958374, 5.9097208976745605, -2.9074246883392334, 5.741384029388428, -8.269062042236328, 5.909524917602539, -0.5616269111633301, 4.281409740447998, -2.065587043762207, -11.141569137573242, -1.2181442975997925, 0.35492098331451416, 3.788914442062378, 4.021533966064453, 1.346292495727539, -4.907363414764404, -1.721128225326538, 0.32354626059532166, 2.571953773498535, 2.8629872798919678, -0.7354872226715088, -5.403263568878174, 2.0093770027160645, 5.407950401306152, 3.013066530227661, 0.9807132482528687, 1.2353293895721436, 10.789706230163574, 5.384097576141357, -3.9106225967407227, 2.0649962425231934, -1.680802822113037, 0.22202995419502258, 8.417531967163086, 5.139288425445557, 5.85487699508667, -0.7695715427398682, 1.0631208419799805, -3.666093111038208, 5.428257942199707, 4.1782145500183105, 3.433467149734497, -2.6451144218444824, -7.589117527008057, 3.6750741004943848, 0.5007091164588928]}],                        {\"template\": {\"data\": {\"bar\": [{\"error_x\": {\"color\": \"#2a3f5f\"}, \"error_y\": {\"color\": \"#2a3f5f\"}, \"marker\": {\"line\": {\"color\": \"#E5ECF6\", \"width\": 0.5}}, \"type\": \"bar\"}], \"barpolar\": [{\"marker\": {\"line\": {\"color\": \"#E5ECF6\", \"width\": 0.5}}, \"type\": \"barpolar\"}], \"carpet\": [{\"aaxis\": {\"endlinecolor\": \"#2a3f5f\", \"gridcolor\": \"white\", \"linecolor\": \"white\", \"minorgridcolor\": \"white\", \"startlinecolor\": \"#2a3f5f\"}, \"baxis\": {\"endlinecolor\": \"#2a3f5f\", \"gridcolor\": \"white\", \"linecolor\": \"white\", \"minorgridcolor\": \"white\", \"startlinecolor\": \"#2a3f5f\"}, \"type\": \"carpet\"}], \"choropleth\": [{\"colorbar\": {\"outlinewidth\": 0, \"ticks\": \"\"}, \"type\": \"choropleth\"}], \"contour\": [{\"colorbar\": {\"outlinewidth\": 0, \"ticks\": \"\"}, \"colorscale\": [[0.0, \"#0d0887\"], [0.1111111111111111, \"#46039f\"], [0.2222222222222222, \"#7201a8\"], [0.3333333333333333, \"#9c179e\"], [0.4444444444444444, \"#bd3786\"], [0.5555555555555556, \"#d8576b\"], [0.6666666666666666, \"#ed7953\"], [0.7777777777777778, \"#fb9f3a\"], [0.8888888888888888, \"#fdca26\"], [1.0, \"#f0f921\"]], \"type\": \"contour\"}], \"contourcarpet\": [{\"colorbar\": {\"outlinewidth\": 0, \"ticks\": \"\"}, \"type\": \"contourcarpet\"}], \"heatmap\": [{\"colorbar\": {\"outlinewidth\": 0, \"ticks\": \"\"}, \"colorscale\": [[0.0, \"#0d0887\"], [0.1111111111111111, \"#46039f\"], [0.2222222222222222, \"#7201a8\"], [0.3333333333333333, \"#9c179e\"], [0.4444444444444444, \"#bd3786\"], [0.5555555555555556, \"#d8576b\"], [0.6666666666666666, \"#ed7953\"], [0.7777777777777778, \"#fb9f3a\"], [0.8888888888888888, \"#fdca26\"], [1.0, \"#f0f921\"]], \"type\": \"heatmap\"}], \"heatmapgl\": [{\"colorbar\": {\"outlinewidth\": 0, \"ticks\": \"\"}, \"colorscale\": [[0.0, \"#0d0887\"], [0.1111111111111111, \"#46039f\"], [0.2222222222222222, \"#7201a8\"], [0.3333333333333333, \"#9c179e\"], [0.4444444444444444, \"#bd3786\"], [0.5555555555555556, \"#d8576b\"], [0.6666666666666666, \"#ed7953\"], [0.7777777777777778, \"#fb9f3a\"], [0.8888888888888888, \"#fdca26\"], [1.0, \"#f0f921\"]], \"type\": \"heatmapgl\"}], \"histogram\": [{\"marker\": {\"colorbar\": {\"outlinewidth\": 0, \"ticks\": \"\"}}, \"type\": \"histogram\"}], \"histogram2d\": [{\"colorbar\": {\"outlinewidth\": 0, \"ticks\": \"\"}, \"colorscale\": [[0.0, \"#0d0887\"], [0.1111111111111111, \"#46039f\"], [0.2222222222222222, \"#7201a8\"], [0.3333333333333333, \"#9c179e\"], [0.4444444444444444, \"#bd3786\"], [0.5555555555555556, \"#d8576b\"], [0.6666666666666666, \"#ed7953\"], [0.7777777777777778, \"#fb9f3a\"], [0.8888888888888888, \"#fdca26\"], [1.0, \"#f0f921\"]], \"type\": \"histogram2d\"}], \"histogram2dcontour\": [{\"colorbar\": {\"outlinewidth\": 0, \"ticks\": \"\"}, \"colorscale\": [[0.0, \"#0d0887\"], [0.1111111111111111, \"#46039f\"], [0.2222222222222222, \"#7201a8\"], [0.3333333333333333, \"#9c179e\"], [0.4444444444444444, \"#bd3786\"], [0.5555555555555556, \"#d8576b\"], [0.6666666666666666, \"#ed7953\"], [0.7777777777777778, \"#fb9f3a\"], [0.8888888888888888, \"#fdca26\"], [1.0, \"#f0f921\"]], \"type\": \"histogram2dcontour\"}], \"mesh3d\": [{\"colorbar\": {\"outlinewidth\": 0, \"ticks\": \"\"}, \"type\": \"mesh3d\"}], \"parcoords\": [{\"line\": {\"colorbar\": {\"outlinewidth\": 0, \"ticks\": \"\"}}, \"type\": \"parcoords\"}], \"pie\": [{\"automargin\": true, \"type\": \"pie\"}], \"scatter\": [{\"marker\": {\"colorbar\": {\"outlinewidth\": 0, \"ticks\": \"\"}}, \"type\": \"scatter\"}], \"scatter3d\": [{\"line\": {\"colorbar\": {\"outlinewidth\": 0, \"ticks\": \"\"}}, \"marker\": {\"colorbar\": {\"outlinewidth\": 0, \"ticks\": \"\"}}, \"type\": \"scatter3d\"}], \"scattercarpet\": [{\"marker\": {\"colorbar\": {\"outlinewidth\": 0, \"ticks\": \"\"}}, \"type\": \"scattercarpet\"}], \"scattergeo\": [{\"marker\": {\"colorbar\": {\"outlinewidth\": 0, \"ticks\": \"\"}}, \"type\": \"scattergeo\"}], \"scattergl\": [{\"marker\": {\"colorbar\": {\"outlinewidth\": 0, \"ticks\": \"\"}}, \"type\": \"scattergl\"}], \"scattermapbox\": [{\"marker\": {\"colorbar\": {\"outlinewidth\": 0, \"ticks\": \"\"}}, \"type\": \"scattermapbox\"}], \"scatterpolar\": [{\"marker\": {\"colorbar\": {\"outlinewidth\": 0, \"ticks\": \"\"}}, \"type\": \"scatterpolar\"}], \"scatterpolargl\": [{\"marker\": {\"colorbar\": {\"outlinewidth\": 0, \"ticks\": \"\"}}, \"type\": \"scatterpolargl\"}], \"scatterternary\": [{\"marker\": {\"colorbar\": {\"outlinewidth\": 0, \"ticks\": \"\"}}, \"type\": \"scatterternary\"}], \"surface\": [{\"colorbar\": {\"outlinewidth\": 0, \"ticks\": \"\"}, \"colorscale\": [[0.0, \"#0d0887\"], [0.1111111111111111, \"#46039f\"], [0.2222222222222222, \"#7201a8\"], [0.3333333333333333, \"#9c179e\"], [0.4444444444444444, \"#bd3786\"], [0.5555555555555556, \"#d8576b\"], [0.6666666666666666, \"#ed7953\"], [0.7777777777777778, \"#fb9f3a\"], [0.8888888888888888, \"#fdca26\"], [1.0, \"#f0f921\"]], \"type\": \"surface\"}], \"table\": [{\"cells\": {\"fill\": {\"color\": \"#EBF0F8\"}, \"line\": {\"color\": \"white\"}}, \"header\": {\"fill\": {\"color\": \"#C8D4E3\"}, \"line\": {\"color\": \"white\"}}, \"type\": \"table\"}]}, \"layout\": {\"annotationdefaults\": {\"arrowcolor\": \"#2a3f5f\", \"arrowhead\": 0, \"arrowwidth\": 1}, \"autotypenumbers\": \"strict\", \"coloraxis\": {\"colorbar\": {\"outlinewidth\": 0, \"ticks\": \"\"}}, \"colorscale\": {\"diverging\": [[0, \"#8e0152\"], [0.1, \"#c51b7d\"], [0.2, \"#de77ae\"], [0.3, \"#f1b6da\"], [0.4, \"#fde0ef\"], [0.5, \"#f7f7f7\"], [0.6, \"#e6f5d0\"], [0.7, \"#b8e186\"], [0.8, \"#7fbc41\"], [0.9, \"#4d9221\"], [1, \"#276419\"]], \"sequential\": [[0.0, \"#0d0887\"], [0.1111111111111111, \"#46039f\"], [0.2222222222222222, \"#7201a8\"], [0.3333333333333333, \"#9c179e\"], [0.4444444444444444, \"#bd3786\"], [0.5555555555555556, \"#d8576b\"], [0.6666666666666666, \"#ed7953\"], [0.7777777777777778, \"#fb9f3a\"], [0.8888888888888888, \"#fdca26\"], [1.0, \"#f0f921\"]], \"sequentialminus\": [[0.0, \"#0d0887\"], [0.1111111111111111, \"#46039f\"], [0.2222222222222222, \"#7201a8\"], [0.3333333333333333, \"#9c179e\"], [0.4444444444444444, \"#bd3786\"], [0.5555555555555556, \"#d8576b\"], [0.6666666666666666, \"#ed7953\"], [0.7777777777777778, \"#fb9f3a\"], [0.8888888888888888, \"#fdca26\"], [1.0, \"#f0f921\"]]}, \"colorway\": [\"#636efa\", \"#EF553B\", \"#00cc96\", \"#ab63fa\", \"#FFA15A\", \"#19d3f3\", \"#FF6692\", \"#B6E880\", \"#FF97FF\", \"#FECB52\"], \"font\": {\"color\": \"#2a3f5f\"}, \"geo\": {\"bgcolor\": \"white\", \"lakecolor\": \"white\", \"landcolor\": \"#E5ECF6\", \"showlakes\": true, \"showland\": true, \"subunitcolor\": \"white\"}, \"hoverlabel\": {\"align\": \"left\"}, \"hovermode\": \"closest\", \"mapbox\": {\"style\": \"light\"}, \"paper_bgcolor\": \"white\", \"plot_bgcolor\": \"#E5ECF6\", \"polar\": {\"angularaxis\": {\"gridcolor\": \"white\", \"linecolor\": \"white\", \"ticks\": \"\"}, \"bgcolor\": \"#E5ECF6\", \"radialaxis\": {\"gridcolor\": \"white\", \"linecolor\": \"white\", \"ticks\": \"\"}}, \"scene\": {\"xaxis\": {\"backgroundcolor\": \"#E5ECF6\", \"gridcolor\": \"white\", \"gridwidth\": 2, \"linecolor\": \"white\", \"showbackground\": true, \"ticks\": \"\", \"zerolinecolor\": \"white\"}, \"yaxis\": {\"backgroundcolor\": \"#E5ECF6\", \"gridcolor\": \"white\", \"gridwidth\": 2, \"linecolor\": \"white\", \"showbackground\": true, \"ticks\": \"\", \"zerolinecolor\": \"white\"}, \"zaxis\": {\"backgroundcolor\": \"#E5ECF6\", \"gridcolor\": \"white\", \"gridwidth\": 2, \"linecolor\": \"white\", \"showbackground\": true, \"ticks\": \"\", \"zerolinecolor\": \"white\"}}, \"shapedefaults\": {\"line\": {\"color\": \"#2a3f5f\"}}, \"ternary\": {\"aaxis\": {\"gridcolor\": \"white\", \"linecolor\": \"white\", \"ticks\": \"\"}, \"baxis\": {\"gridcolor\": \"white\", \"linecolor\": \"white\", \"ticks\": \"\"}, \"bgcolor\": \"#E5ECF6\", \"caxis\": {\"gridcolor\": \"white\", \"linecolor\": \"white\", \"ticks\": \"\"}}, \"title\": {\"x\": 0.05}, \"xaxis\": {\"automargin\": true, \"gridcolor\": \"white\", \"linecolor\": \"white\", \"ticks\": \"\", \"title\": {\"standoff\": 15}, \"zerolinecolor\": \"white\", \"zerolinewidth\": 2}, \"yaxis\": {\"automargin\": true, \"gridcolor\": \"white\", \"linecolor\": \"white\", \"ticks\": \"\", \"title\": {\"standoff\": 15}, \"zerolinecolor\": \"white\", \"zerolinewidth\": 2}}}},                        {\"responsive\": true}                    ).then(function(){\n",
       "                            \n",
       "var gd = document.getElementById('a62a586d-6a70-4b1c-8576-fe9b8231d16a');\n",
       "var x = new MutationObserver(function (mutations, observer) {{\n",
       "        var display = window.getComputedStyle(gd).display;\n",
       "        if (!display || display === 'none') {{\n",
       "            console.log([gd, 'removed!']);\n",
       "            Plotly.purge(gd);\n",
       "            observer.disconnect();\n",
       "        }}\n",
       "}});\n",
       "\n",
       "// Listen for the removal of the full notebook cells\n",
       "var notebookContainer = gd.closest('#notebook-container');\n",
       "if (notebookContainer) {{\n",
       "    x.observe(notebookContainer, {childList: true});\n",
       "}}\n",
       "\n",
       "// Listen for the clearing of the current output cell\n",
       "var outputEl = gd.closest('.output');\n",
       "if (outputEl) {{\n",
       "    x.observe(outputEl, {childList: true});\n",
       "}}\n",
       "\n",
       "                        })                };                });            </script>        </div>"
      ]
     },
     "metadata": {},
     "output_type": "display_data"
    }
   ],
   "source": [
    "plot_with_plotly(x_vals, y_vals, labels)"
   ]
  },
  {
   "cell_type": "code",
   "execution_count": 40,
   "metadata": {
    "ExecuteTime": {
     "end_time": "2021-10-26T18:39:17.902467Z",
     "start_time": "2021-10-26T18:39:17.890369Z"
    }
   },
   "outputs": [
    {
     "data": {
      "text/plain": [
       "[('deputada', 0.7072389721870422),\n",
       " ('senadora', 0.6504750847816467),\n",
       " ('governadora', 0.5311955213546753),\n",
       " ('vaga', 0.5001532435417175),\n",
       " ('senador', 0.49622222781181335),\n",
       " ('bancada', 0.49382296204566956),\n",
       " ('prefeita', 0.4898069202899933),\n",
       " ('esposa', 0.4874173104763031),\n",
       " ('vereadora', 0.477497398853302),\n",
       " ('ex-deputado', 0.4704160690307617)]"
      ]
     },
     "execution_count": 40,
     "metadata": {},
     "output_type": "execute_result"
    }
   ],
   "source": [
    "model.wv.most_similar(positive=['deputado', 'mulher'], negative=['homem'])"
   ]
  },
  {
   "cell_type": "code",
   "execution_count": 78,
   "metadata": {
    "ExecuteTime": {
     "end_time": "2020-11-23T18:46:56.368139Z",
     "start_time": "2020-11-23T18:46:56.358780Z"
    }
   },
   "outputs": [
    {
     "data": {
      "text/plain": [
       "[('Aracaju', 0.7568933367729187),\n",
       " ('Fortaleza', 0.7413235306739807),\n",
       " ('Maceió', 0.7330026626586914),\n",
       " ('Manaus', 0.729759693145752),\n",
       " ('Curitiba', 0.722693920135498),\n",
       " ('Teresina', 0.7146587371826172),\n",
       " ('Cuiabá', 0.7008068561553955),\n",
       " ('Dourados', 0.6986944079399109),\n",
       " ('Belém', 0.697089672088623),\n",
       " ('Goiânia', 0.6968613862991333)]"
      ]
     },
     "execution_count": 78,
     "metadata": {},
     "output_type": "execute_result"
    }
   ],
   "source": [
    "model.wv.most_similar(positive=['Sergipe', 'Salvador'], negative=['Bahia'])"
   ]
  },
  {
   "cell_type": "code",
   "execution_count": 41,
   "metadata": {
    "ExecuteTime": {
     "end_time": "2021-10-26T18:41:57.971237Z",
     "start_time": "2021-10-26T18:41:57.947792Z"
    }
   },
   "outputs": [
    {
     "data": {
      "text/plain": [
       "[('independente”', 0.5179454684257507),\n",
       " ('Iniciando-se', 0.47886359691619873),\n",
       " ('turística', 0.4773646891117096),\n",
       " ('duradouras', 0.471894770860672),\n",
       " ('“política', 0.45735833048820496),\n",
       " ('induzida', 0.4530222713947296),\n",
       " ('marxista”', 0.4503825604915619),\n",
       " ('conflituosas', 0.45008933544158936),\n",
       " ('pragmática', 0.4451920688152313),\n",
       " ('stalinista', 0.4449923038482666)]"
      ]
     },
     "execution_count": 41,
     "metadata": {},
     "output_type": "execute_result"
    }
   ],
   "source": [
    "model.wv.most_similar(positive=['congressista', 'política'], negative=['homem'])"
   ]
  },
  {
   "cell_type": "code",
   "execution_count": 19,
   "metadata": {
    "ExecuteTime": {
     "end_time": "2020-11-23T16:21:44.275648Z",
     "start_time": "2020-11-23T16:21:44.260278Z"
    }
   },
   "outputs": [
    {
     "data": {
      "text/plain": [
       "array([-1.1804812 ,  0.17904007,  2.7701726 ,  2.2788234 , -2.3939579 ,\n",
       "       -1.6261489 ,  3.037264  , -1.5370936 ,  0.1686287 ,  1.7679174 ,\n",
       "       -0.6206008 , -1.4379971 ,  0.9625195 ,  5.3786445 , -1.5540149 ,\n",
       "       -0.00777411, -1.401691  , -4.2874527 , -0.82898766,  1.8527349 ,\n",
       "        1.1073897 ,  0.4124229 , -1.7202759 , -1.9285159 ,  0.22249055,\n",
       "       -0.1637733 ,  0.3505941 , -1.6477919 ,  3.5996528 , -1.884695  ,\n",
       "        0.70941716,  2.4855223 ,  0.19784053,  1.0554858 , -2.0812526 ,\n",
       "        0.25975254,  1.0439771 ,  0.40970242,  0.78404856, -2.2612848 ,\n",
       "        1.7169695 ,  0.73526394,  1.4105549 ,  4.066178  , -0.40555423,\n",
       "        1.8521545 ,  3.7054353 ,  1.3822607 , -4.056506  ,  1.9932911 ,\n",
       "        0.89136565, -2.6281335 ,  3.6849546 ,  3.6759586 , -0.3893448 ,\n",
       "       -0.93963474,  3.059989  ,  0.07065499, -0.69516784, -1.2888556 ,\n",
       "        0.92977023, -1.6649121 ,  2.6862006 , -2.4784298 ,  1.8600826 ,\n",
       "        0.779212  ,  2.1920981 , -1.9809456 , -2.688896  ,  0.60114765,\n",
       "       -2.3174565 ,  0.08518887,  0.43477178,  1.2217847 ,  0.9667772 ,\n",
       "        1.8949485 ,  1.2996533 ,  2.6153111 , -0.04217112,  0.72740364,\n",
       "       -0.7117096 , -0.73151827,  0.16029513,  0.06895769, -0.17937306,\n",
       "        0.48638743, -0.52041715, -2.0970736 , -1.1521842 , -3.9579785 ,\n",
       "        0.51819354,  0.12455559,  2.2292786 ,  0.33785737, -0.4980077 ,\n",
       "       -2.9939485 , -2.5539153 , -1.4805562 ,  3.1075735 ,  0.99266756],\n",
       "      dtype=float32)"
      ]
     },
     "execution_count": 19,
     "metadata": {},
     "output_type": "execute_result"
    }
   ],
   "source": [
    "model.wv['congressista'] + model.wv['política']-model.wv['homem']"
   ]
  },
  {
   "cell_type": "markdown",
   "metadata": {},
   "source": [
    "## Word Movers Distance\n",
    "Este método permite que calculemos a distância entre dois documentos mesmo que estes não contenham palavras em comum. Este método foi proposto no artigo [\"From Word Embeddings To Document Distances\"](http://jmlr.org/proceedings/papers/v37/kusnerb15.pdf)."
   ]
  },
  {
   "cell_type": "code",
   "execution_count": 44,
   "metadata": {
    "ExecuteTime": {
     "end_time": "2021-10-26T18:49:15.369436Z",
     "start_time": "2021-10-26T18:49:13.550371Z"
    }
   },
   "outputs": [
    {
     "data": {
      "text/plain": [
       "0.9619837821223645"
      ]
     },
     "execution_count": 44,
     "metadata": {},
     "output_type": "execute_result"
    }
   ],
   "source": [
    "DC = list(DHBBCorpus(5))\n",
    "model.wv.wmdistance(document1=DC[1],document2=DC[2])"
   ]
  },
  {
   "cell_type": "code",
   "execution_count": 45,
   "metadata": {
    "ExecuteTime": {
     "end_time": "2021-10-26T18:50:01.438791Z",
     "start_time": "2021-10-26T18:50:01.429974Z"
    }
   },
   "outputs": [
    {
     "name": "stdout",
     "output_type": "stream",
     "text": [
      "['Estudou', 'no', 'Ginásio', 'Diocesano', 'de', 'São', 'Paulo', 'e', 'bacharelou-se', 'em', '1910', 'pela']\n",
      "['Faculdade', 'de', 'Ciências', 'Jurídicas', 'e', 'Sociais']\n"
     ]
    }
   ],
   "source": [
    "print(DC[1])\n",
    "print(DC[2])"
   ]
  },
  {
   "cell_type": "code",
   "execution_count": 46,
   "metadata": {
    "ExecuteTime": {
     "end_time": "2021-10-26T18:51:09.675851Z",
     "start_time": "2021-10-26T18:51:09.665280Z"
    }
   },
   "outputs": [
    {
     "data": {
      "text/plain": [
       "0.7675939088937714"
      ]
     },
     "execution_count": 46,
     "metadata": {},
     "output_type": "execute_result"
    }
   ],
   "source": [
    "model.wv.wmdistance(document1=DC[1],document2='frequentou a escola religiosa em Niteroi e formou-se em 1935 pela UFF'.split())"
   ]
  },
  {
   "cell_type": "code",
   "execution_count": null,
   "metadata": {},
   "outputs": [],
   "source": []
  }
 ],
 "metadata": {
  "hide_input": false,
  "kernelspec": {
   "display_name": "Python 3 (ipykernel)",
   "language": "python",
   "name": "python3"
  },
  "language_info": {
   "codemirror_mode": {
    "name": "ipython",
    "version": 3
   },
   "file_extension": ".py",
   "mimetype": "text/x-python",
   "name": "python",
   "nbconvert_exporter": "python",
   "pygments_lexer": "ipython3",
   "version": "3.9.7"
  },
  "latex_envs": {
   "LaTeX_envs_menu_present": true,
   "autoclose": false,
   "autocomplete": true,
   "bibliofile": "biblio.bib",
   "cite_by": "apalike",
   "current_citInitial": 1,
   "eqLabelWithNumbers": true,
   "eqNumInitial": 1,
   "hotkeys": {
    "equation": "Ctrl-E",
    "itemize": "Ctrl-I"
   },
   "labels_anchors": false,
   "latex_user_defs": false,
   "report_style_numbering": false,
   "user_envs_cfg": false
  },
  "nbTranslate": {
   "displayLangs": [
    "*"
   ],
   "hotkey": "alt-t",
   "langInMainMenu": true,
   "sourceLang": "en",
   "targetLang": "fr",
   "useGoogleTranslate": true
  },
  "toc": {
   "base_numbering": 1,
   "nav_menu": {},
   "number_sections": true,
   "sideBar": true,
   "skip_h1_title": false,
   "title_cell": "Table of Contents",
   "title_sidebar": "Contents",
   "toc_cell": false,
   "toc_position": {},
   "toc_section_display": true,
   "toc_window_display": false
  },
  "varInspector": {
   "cols": {
    "lenName": 16,
    "lenType": 16,
    "lenVar": 40
   },
   "kernels_config": {
    "python": {
     "delete_cmd_postfix": "",
     "delete_cmd_prefix": "del ",
     "library": "var_list.py",
     "varRefreshCmd": "print(var_dic_list())"
    },
    "r": {
     "delete_cmd_postfix": ") ",
     "delete_cmd_prefix": "rm(",
     "library": "var_list.r",
     "varRefreshCmd": "cat(var_dic_list()) "
    }
   },
   "types_to_exclude": [
    "module",
    "function",
    "builtin_function_or_method",
    "instance",
    "_Feature"
   ],
   "window_display": false
  }
 },
 "nbformat": 4,
 "nbformat_minor": 2
}
