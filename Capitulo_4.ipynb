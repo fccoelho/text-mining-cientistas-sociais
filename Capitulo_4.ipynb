{
 "cells": [
  {
   "cell_type": "markdown",
   "metadata": {},
   "source": [
    "# Aplicando modelagem de assuntos ao DHBB\n",
    "Neste capítulo vamos explorar ferramentas de modelagem de assuntos e explorar aplicações ao DHBB. Como sempre, começamos com alguns imports familiares."
   ]
  },
  {
   "cell_type": "code",
   "execution_count": 1,
   "metadata": {},
   "outputs": [],
   "source": [
    "import os, glob, pickle\n",
    "import spacy\n",
    "from spacy import displacy\n",
    "from sqlalchemy import create_engine\n",
    "from dhbbmining import *\n",
    "import ipywidgets as widgets\n",
    "from tqdm import tqdm"
   ]
  },
  {
   "cell_type": "markdown",
   "metadata": {},
   "source": [
    "Vamos também carregar o modelo de NLP para a língua portuguesa do Spacy:"
   ]
  },
  {
   "cell_type": "code",
   "execution_count": 2,
   "metadata": {},
   "outputs": [],
   "source": [
    "nlp = spacy.load(\"pt_core_news_sm\")"
   ]
  },
  {
   "cell_type": "markdown",
   "metadata": {},
   "source": [
    "Agora faremos alguns imports novos, particularmente da biblioteca [Gensim](https://radimrehurek.com/gensim), que nos oferece as ferramentas que necessitamos para modelagem de assuntos."
   ]
  },
  {
   "cell_type": "code",
   "execution_count": 3,
   "metadata": {},
   "outputs": [],
   "source": [
    "from string import punctuation\n",
    "from gensim.test.utils import datapath\n",
    "from gensim import utils\n",
    "from gensim.models import Word2Vec, word2vec"
   ]
  },
  {
   "cell_type": "markdown",
   "metadata": {},
   "source": [
    "Para minimizar o uso de memória, vamos construir uma classe para representar o nosso corpus como um iterador, operando diretamente do banco de dados. Desta forma, ao fazer nossas análises, podemos carregar um documento por vez para alimentar os modelos, sem a necessidade de manter todo o corpus na memória, economizando memória RAM."
   ]
  },
  {
   "cell_type": "code",
   "execution_count": 4,
   "metadata": {},
   "outputs": [],
   "source": [
    "eng = create_engine(\"sqlite:///minha_tabela.sqlite\")\n",
    "\n",
    "class DHBBCorpus:\n",
    "    def __init__(self, ndocs=10000):\n",
    "        self.ndocs = min(7687,ndocs)\n",
    "        self.counter = 1\n",
    "    def __iter__(self):\n",
    "        with eng.connect() as con:\n",
    "            res = con.execute(f'select corpo from resultados limit {self.ndocs};')\n",
    "            for doc in res:\n",
    "                d = self.pre_process(doc[0])\n",
    "                if self.counter%10 == 0:\n",
    "                    print (f\"Verbete {self.counter} de {6*self.ndocs}\\r\", end='')\n",
    "                for s in d:\n",
    "                    yield s\n",
    "                self.counter += 1\n",
    "    def pre_process(self, doc):\n",
    "        n = nlp(doc, disable=['tagger', 'ner','entity-linker', 'textcat','entity-ruler','merge-noun-chunks','merge-entities','merge-subtokens'])\n",
    "        results = []\n",
    "        for sentence in n.sents:\n",
    "            s = sentence.text.split()\n",
    "            if not s:\n",
    "                continue\n",
    "            results.append([token.strip().strip(punctuation) for token in s if token.strip().strip(punctuation)])\n",
    "        return results\n",
    "        "
   ]
  },
  {
   "cell_type": "markdown",
   "metadata": {},
   "source": [
    "Abaixo um pequeno exemplo de como a classe `DHBBCorpus` funciona:"
   ]
  },
  {
   "cell_type": "code",
   "execution_count": 5,
   "metadata": {},
   "outputs": [
    {
     "name": "stdout",
     "output_type": "stream",
     "text": [
      "['«José', 'Machado', 'Coelho', 'de', 'Castro»', 'nasceu', 'em', 'Lorena', 'SP']\n"
     ]
    }
   ],
   "source": [
    "DC = DHBBCorpus(5)\n",
    "for f in DC:\n",
    "    pass\n",
    "    print(f)\n",
    "    break\n",
    "    "
   ]
  },
  {
   "cell_type": "code",
   "execution_count": 7,
   "metadata": {},
   "outputs": [],
   "source": [
    "Word2Vec?"
   ]
  },
  {
   "cell_type": "markdown",
   "metadata": {},
   "source": [
    "## Word2vec \n",
    "Vamos começar pelo treinamento de um modelo word2vec. Este modelo itera 6 vezez sobre o corpus logo, devemos ver o contador atingir 46122. Estas repetições são necessárias para permitir a "
   ]
  },
  {
   "cell_type": "code",
   "execution_count": 8,
   "metadata": {},
   "outputs": [],
   "source": [
    "if os.path.exists('dhbb.w2v'):\n",
    "    model = Word2Vec.load('dhbb.w2v')\n",
    "else:\n",
    "    DC = DHBBCorpus()\n",
    "    model = Word2Vec(sentences=DC, workers=32)\n",
    "    model.save('dhbb.w2v')"
   ]
  },
  {
   "cell_type": "markdown",
   "metadata": {},
   "source": [
    "### Explorando o modelo"
   ]
  },
  {
   "cell_type": "code",
   "execution_count": 9,
   "metadata": {},
   "outputs": [
    {
     "name": "stdout",
     "output_type": "stream",
     "text": [
      "«José\n",
      "Machado\n",
      "Coelho\n",
      "de\n",
      "Castro»\n",
      "nasceu\n",
      "em\n",
      "Lorena\n",
      "SP\n",
      "Estudou\n"
     ]
    }
   ],
   "source": [
    "for i, word in enumerate(model.wv.vocab):\n",
    "    if i == 10:\n",
    "        break\n",
    "    print(word)"
   ]
  },
  {
   "cell_type": "code",
   "execution_count": 21,
   "metadata": {},
   "outputs": [
    {
     "data": {
      "text/plain": [
       "array([ 1.213255  ,  0.8772738 , -0.06480797,  3.2624714 ,  2.7141786 ,\n",
       "       -1.8534654 ,  2.2568564 ,  2.9633396 ,  2.872959  ,  0.17697811,\n",
       "        0.12649159,  2.1954768 ,  0.69300246,  0.7808246 , -1.8608911 ,\n",
       "       -1.9773395 , -6.7470145 ,  1.3309088 , -1.8495115 ,  1.4977074 ,\n",
       "        4.106705  ,  0.18757463,  0.976982  ,  0.50778925, -1.3095387 ,\n",
       "       -0.46490836,  1.3230817 , -1.0534579 , -3.3441863 , -4.0759525 ,\n",
       "        0.20254904,  2.8288093 ,  0.0304382 ,  0.79879284, -0.27596825,\n",
       "        1.0034108 ,  2.1574116 , -0.84378964, -2.6574318 ,  0.725499  ,\n",
       "       -2.5952895 ,  0.6314094 , -2.789002  ,  5.0512304 , -1.6781955 ,\n",
       "       -3.2558453 , -2.3100727 , -2.2926745 , -4.6876025 , -3.1457222 ,\n",
       "        0.19902074, -0.6323914 ,  1.0432411 , -1.1918347 ,  4.250325  ,\n",
       "       -2.759753  ,  2.7777524 ,  2.8528945 , -0.3918448 , -1.9812953 ,\n",
       "        4.549228  , -6.3611536 ,  0.09752683,  0.37324116,  0.77719754,\n",
       "       -3.6438515 , -3.4890673 , -2.3472724 ,  0.6998824 ,  3.6128554 ,\n",
       "       -2.5014155 , -1.9615922 , -1.4071759 ,  0.5612391 ,  1.0864763 ,\n",
       "        4.145173  , -0.7451139 , -5.0320497 , -1.4627253 , -5.186103  ,\n",
       "        1.4427031 ,  5.217514  , -2.8483255 ,  3.8392422 , -4.1885376 ,\n",
       "        3.3657196 , -3.235564  , -3.951503  , -1.6820241 ,  3.6057582 ,\n",
       "        5.227617  ,  1.9262496 , -1.3290535 ,  1.9148936 ,  5.4682064 ,\n",
       "        2.8205392 , -0.93365663, -0.58919495,  1.3472942 ,  1.4066038 ],\n",
       "      dtype=float32)"
      ]
     },
     "execution_count": 21,
     "metadata": {},
     "output_type": "execute_result"
    }
   ],
   "source": [
    "model.wv['deputado']"
   ]
  },
  {
   "cell_type": "code",
   "execution_count": 19,
   "metadata": {},
   "outputs": [
    {
     "data": {
      "text/plain": [
       "38762"
      ]
     },
     "execution_count": 19,
     "metadata": {},
     "output_type": "execute_result"
    }
   ],
   "source": [
    "len(model.wv.vocab)"
   ]
  },
  {
   "cell_type": "code",
   "execution_count": 16,
   "metadata": {},
   "outputs": [
    {
     "data": {
      "text/plain": [
       "[('cidadão', 0.7166314125061035),\n",
       " ('dever', 0.7115763425827026),\n",
       " ('universo', 0.708888053894043),\n",
       " ('pensamento', 0.7076699733734131),\n",
       " ('nacionalismo', 0.7048879861831665),\n",
       " ('senso', 0.7020969390869141),\n",
       " ('inimigo', 0.6951218843460083),\n",
       " ('espírito', 0.691114068031311),\n",
       " ('sentimento', 0.6901904940605164),\n",
       " ('desafio', 0.6858540773391724),\n",
       " ('fenômeno', 0.6775267720222473),\n",
       " ('leitor', 0.6737638115882874),\n",
       " ('retrato', 0.6691586971282959),\n",
       " ('veículo', 0.6683763265609741),\n",
       " ('trabalhador', 0.6611828804016113),\n",
       " ('erro', 0.6600130200386047),\n",
       " ('povo”', 0.6572052836418152),\n",
       " ('negócio', 0.6528052091598511),\n",
       " ('homem”', 0.650109052658081),\n",
       " ('liberalismo', 0.6475819945335388)]"
      ]
     },
     "execution_count": 16,
     "metadata": {},
     "output_type": "execute_result"
    }
   ],
   "source": [
    "model.wv.most_similar(positive=['homem'], topn=20)"
   ]
  },
  {
   "cell_type": "code",
   "execution_count": 24,
   "metadata": {},
   "outputs": [
    {
     "data": {
      "text/plain": [
       "8713256"
      ]
     },
     "execution_count": 24,
     "metadata": {},
     "output_type": "execute_result"
    }
   ],
   "source": [
    "model.corpus_total_words"
   ]
  },
  {
   "cell_type": "code",
   "execution_count": 26,
   "metadata": {},
   "outputs": [],
   "source": [
    "model.vocabulary?"
   ]
  },
  {
   "cell_type": "markdown",
   "metadata": {},
   "source": [
    "### Visualizando os vetores de palavras"
   ]
  },
  {
   "cell_type": "code",
   "execution_count": 20,
   "metadata": {},
   "outputs": [],
   "source": [
    "from sklearn.decomposition import IncrementalPCA    # inital reduction\n",
    "from sklearn.manifold import TSNE                   # final reduction\n",
    "import numpy as np                                  # array handling\n",
    "\n",
    "\n",
    "def reduce_dimensions(model):\n",
    "    num_dimensions = 2  # final num dimensions (2D, 3D, etc)\n",
    "\n",
    "    vectors = [] # positions in vector space\n",
    "    labels = [] # keep track of words to label our data again later\n",
    "    i = 0\n",
    "    for word in model.wv.vocab:\n",
    "        vectors.append(model.wv[word])\n",
    "        labels.append(word)\n",
    "        i+=1\n",
    "        if i>200:\n",
    "            break\n",
    "\n",
    "    # convert both lists into numpy vectors for reduction\n",
    "    vectors = np.asarray(vectors)\n",
    "    labels = np.asarray(labels)\n",
    "\n",
    "    # reduce using t-SNE\n",
    "    vectors = np.asarray(vectors)\n",
    "    tsne = TSNE(n_components=num_dimensions, random_state=0)\n",
    "    vectors = tsne.fit_transform(vectors)\n",
    "\n",
    "    x_vals = [v[0] for v in vectors]\n",
    "    y_vals = [v[1] for v in vectors]\n",
    "    return x_vals, y_vals, labels\n",
    "\n",
    "\n",
    "x_vals, y_vals, labels = reduce_dimensions(model)\n",
    "\n",
    "def plot_with_plotly(x_vals, y_vals, labels, plot_in_notebook=True):\n",
    "    from plotly.offline import init_notebook_mode, iplot, plot\n",
    "    import plotly.graph_objs as go\n",
    "\n",
    "    trace = go.Scatter(x=x_vals, y=y_vals, mode='text', text=labels)\n",
    "    data = [trace]\n",
    "\n",
    "    if plot_in_notebook:\n",
    "        init_notebook_mode(connected=True)\n",
    "        iplot(data, filename='word-embedding-plot')\n",
    "    else:\n",
    "        plot(data, filename='word-embedding-plot.html')"
   ]
  },
  {
   "cell_type": "code",
   "execution_count": 21,
   "metadata": {},
   "outputs": [
    {
     "data": {
      "text/html": [
       "        <script type=\"text/javascript\">\n",
       "        window.PlotlyConfig = {MathJaxConfig: 'local'};\n",
       "        if (window.MathJax) {MathJax.Hub.Config({SVG: {font: \"STIX-Web\"}});}\n",
       "        if (typeof require !== 'undefined') {\n",
       "        require.undef(\"plotly\");\n",
       "        requirejs.config({\n",
       "            paths: {\n",
       "                'plotly': ['https://cdn.plot.ly/plotly-latest.min']\n",
       "            }\n",
       "        });\n",
       "        require(['plotly'], function(Plotly) {\n",
       "            window._Plotly = Plotly;\n",
       "        });\n",
       "        }\n",
       "        </script>\n",
       "        "
      ]
     },
     "metadata": {},
     "output_type": "display_data"
    },
    {
     "data": {
      "application/vnd.plotly.v1+json": {
       "config": {
        "linkText": "Export to plot.ly",
        "plotlyServerURL": "https://plot.ly",
        "showLink": false
       },
       "data": [
        {
         "mode": "text",
         "text": [
          "«José",
          "Machado",
          "Coelho",
          "de",
          "Castro»",
          "nasceu",
          "em",
          "Lorena",
          "SP",
          "Estudou",
          "no",
          "Ginásio",
          "Diocesano",
          "São",
          "Paulo",
          "e",
          "bacharelou-se",
          "1910",
          "pela",
          "Faculdade",
          "Ciências",
          "Jurídicas",
          "Sociais",
          "Dedicando-se",
          "à",
          "advocacia",
          "foi",
          "promotor",
          "público",
          "Cunha",
          "depois",
          "delegado",
          "polícia",
          "Rio",
          "Janeiro",
          "então",
          "Distrito",
          "Federal",
          "Iniciou",
          "sua",
          "vida",
          "política",
          "como",
          "deputado",
          "federal",
          "pelo",
          "exercendo",
          "o",
          "mandato",
          "1927",
          "a",
          "1929",
          "Reeleito",
          "para",
          "legislatura",
          "iniciada",
          "maio",
          "1930",
          "ocupava",
          "cadeira",
          "na",
          "Câmara",
          "quando",
          "3",
          "outubro",
          "deflagrado",
          "movimento",
          "revolucionário",
          "liderado",
          "por",
          "Getúlio",
          "Vargas",
          "Ligado",
          "ao",
          "governo",
          "encontrava-se",
          "lado",
          "do",
          "presidente",
          "Washington",
          "Luís",
          "palácio",
          "Guanabara",
          "momento",
          "deposição",
          "dia",
          "24",
          "Junto",
          "com",
          "outros",
          "companheiros",
          "também",
          "solidários",
          "regime",
          "deposto",
          "que",
          "se",
          "haviam",
          "asilado",
          "embaixadas",
          "enviado",
          "novembro",
          "estrangeiro",
          "Em",
          "1932",
          "estava",
          "presente",
          "porto",
          "Alcântara",
          "Lisboa",
          "receber",
          "os",
          "revolucionários",
          "constitucionalistas",
          "exilados",
          "após",
          "derrota",
          "da",
          "revolução",
          "irrompida",
          "julho",
          "desse",
          "ano",
          "Com",
          "redemocratização",
          "país",
          "1945",
          "candidatou-se",
          "estado",
          "legenda",
          "Partido",
          "Social",
          "Democrático",
          "PSD",
          "às",
          "eleições",
          "Assembléia",
          "Nacional",
          "Constituinte",
          "ANC",
          "realizadas",
          "dezembro",
          "Obteve",
          "uma",
          "suplência",
          "1946",
          "convocado",
          "participar",
          "dos",
          "trabalhos",
          "constituintes",
          "promulgação",
          "nova",
          "Carta",
          "18/9/1946",
          "transformação",
          "Congresso",
          "ordinário",
          "integrou",
          "Comissão",
          "Permanente",
          "Obras",
          "Públicas",
          "tendo",
          "votado",
          "janeiro",
          "1948",
          "favor",
          "cassação",
          "mandatos",
          "parlamentares",
          "comunistas",
          "Deixou",
          "1951",
          "Foi",
          "ainda",
          "Companhia",
          "Cimento",
          "Vale",
          "Paraíba",
          "Faleceu",
          "17",
          "1975",
          "«Armando",
          "Abílio",
          "Vieira»",
          "Itaporanga",
          "PB",
          "29",
          "1944",
          "filho",
          "Argemiro",
          "Sousa",
          "Luísa",
          "Bronzeado",
          "Vieira",
          "1962",
          "ingressou",
          "Recife",
          "Médicas",
          "Universidade"
         ],
         "type": "scatter",
         "x": [
          2.1932294368743896,
          2.7424304485321045,
          2.567131757736206,
          0.574193000793457,
          1.8317499160766602,
          -4.380145072937012,
          -0.278287410736084,
          1.4355099201202393,
          -0.3907679617404938,
          -0.9093970656394958,
          5.721561431884766,
          -1.2310783863067627,
          0.960178017616272,
          -0.571404218673706,
          1.3779326677322388,
          1.8504287004470825,
          -0.9323552250862122,
          -2.8720247745513916,
          3.4459481239318848,
          -2.862111806869507,
          -2.65478515625,
          0.7974578142166138,
          -2.2236979007720947,
          1.9842848777770996,
          4.589724540710449,
          6.037120342254639,
          -5.721338748931885,
          0.2043324112892151,
          1.0631110668182373,
          2.806882619857788,
          0.928597629070282,
          -0.1279718279838562,
          2.7682440280914307,
          0.0771629586815834,
          0.26563048362731934,
          1.854175329208374,
          0.5800127983093262,
          -0.9363381266593933,
          -0.33453691005706787,
          3.4601101875305176,
          6.154723644256592,
          3.4588305950164795,
          1.6715625524520874,
          3.6980364322662354,
          1.586719036102295,
          7.092463493347168,
          -1.427959680557251,
          5.539430141448975,
          6.252188205718994,
          -3.049835205078125,
          3.4517405033111572,
          -3.007328510284424,
          -1.9820656776428223,
          1.4649741649627686,
          5.708977222442627,
          -0.4790017008781433,
          -7.606971740722656,
          -3.015613317489624,
          -1.0794644355773926,
          -1.8541476726531982,
          3.316338539123535,
          7.982353210449219,
          -0.44246211647987366,
          -4.05753755569458,
          -7.631879806518555,
          2.6084091663360596,
          4.737061977386475,
          3.9931771755218506,
          3.327548027038574,
          7.189410209655762,
          3.210740566253662,
          3.3414371013641357,
          2.5030877590179443,
          5.26614236831665,
          3.963413953781128,
          1.2585090398788452,
          3.5048606395721436,
          5.503051280975342,
          2.8878326416015625,
          -0.2046731561422348,
          1.5785932540893555,
          1.1375837326049805,
          -0.6751388311386108,
          3.024383544921875,
          3.5744102001190186,
          -1.0606772899627686,
          -4.152706146240234,
          2.3739304542541504,
          1.2857855558395386,
          7.877506732940674,
          4.759544372558594,
          1.1474334001541138,
          2.167222261428833,
          3.967719793319702,
          2.865431547164917,
          5.8055500984191895,
          2.9071338176727295,
          4.285329341888428,
          2.0116453170776367,
          1.2066383361816406,
          0.5713410377502441,
          -7.629111289978027,
          1.6913410425186157,
          -0.40229496359825134,
          -3.0931296348571777,
          0.4822692275047302,
          3.0301289558410645,
          1.023517370223999,
          1.9212865829467773,
          0.46866604685783386,
          2.4510550498962402,
          7.877891540527344,
          4.757498741149902,
          3.4006524085998535,
          5.014363765716553,
          0.932426929473877,
          3.5713448524475098,
          3.320504665374756,
          4.514508247375488,
          1.801543116569519,
          -7.595824718475342,
          -1.2082841396331787,
          -1.8186784982681274,
          1.2420774698257446,
          4.5614848136901855,
          1.2143720388412476,
          -3.60764479637146,
          -1.783186912536621,
          1.0907247066497803,
          -1.772078514099121,
          4.449741840362549,
          -2.4445972442626953,
          -0.04508049786090851,
          4.440279483795166,
          5.116957664489746,
          -2.609368085861206,
          7.723731517791748,
          -3.172184944152832,
          7.318283557891846,
          5.335253715515137,
          0.3819139301776886,
          -7.608314514160156,
          1.1425927877426147,
          2.990662097930908,
          -1.575156807899475,
          -3.744325876235962,
          0.7910276651382446,
          2.745997190475464,
          7.044589996337891,
          6.528391361236572,
          6.422105312347412,
          8.07250690460205,
          2.4219441413879395,
          8.028547286987305,
          3.9334683418273926,
          4.22628927230835,
          5.400035858154297,
          4.36017370223999,
          -2.2962794303894043,
          -3.250009059906006,
          -2.694896936416626,
          -3.8808488845825195,
          -3.7760984897613525,
          4.286355018615723,
          4.7649827003479,
          -7.611368656158447,
          -3.5593454837799072,
          3.7356619834899902,
          5.686732769012451,
          6.236746311187744,
          5.822953701019287,
          5.321309566497803,
          -1.1589748859405518,
          -3.815828800201416,
          -5.723250865936279,
          1.0347431898117065,
          -0.9101325869560242,
          1.6413798332214355,
          2.107374906539917,
          -0.8002106547355652,
          -4.331488132476807,
          -4.147981643676758,
          -3.1043732166290283,
          1.9748059511184692,
          1.7145538330078125,
          1.872090220451355,
          1.8885658979415894,
          0.25866809487342834,
          -4.315607070922852,
          -3.3976221084594727,
          -4.634597301483154,
          2.1690280437469482,
          2.2430999279022217,
          2.160033702850342,
          2.0339577198028564,
          2.4590413570404053,
          -3.9061946868896484,
          -1.1565548181533813,
          -0.06429106742143631,
          1.5469470024108887,
          -2.889012575149536
         ],
         "y": [
          -5.0231614112854,
          -5.302279472351074,
          -5.008538246154785,
          1.6467556953430176,
          -2.1993088722229004,
          -7.46718168258667,
          2.134176015853882,
          -2.351987361907959,
          -4.864874362945557,
          -4.1659836769104,
          1.5630815029144287,
          -4.549559116363525,
          -2.6575660705566406,
          -5.62578010559082,
          -6.3524250984191895,
          -0.5221532583236694,
          -3.3909826278686523,
          2.8852837085723877,
          4.400435447692871,
          -5.105027198791504,
          -4.804911136627197,
          -2.4977972507476807,
          -3.388221025466919,
          -1.6674476861953735,
          3.4311370849609375,
          -6.179220199584961,
          -4.6617841720581055,
          -3.1781558990478516,
          -3.261964797973633,
          -5.893515586853027,
          5.060877323150635,
          -2.1410133838653564,
          -3.017831563949585,
          -5.635453701019287,
          -3.845344305038452,
          0.5301510095596313,
          -5.043076038360596,
          -2.468813896179199,
          -1.3964542150497437,
          2.564800977706909,
          -6.316093921661377,
          -2.0413825511932373,
          -0.048539143055677414,
          -5.271401882171631,
          1.6698493957519531,
          2.5483345985412598,
          -1.5629914999008179,
          2.3259334564208984,
          -4.766086101531982,
          3.2534408569335938,
          2.8774027824401855,
          3.3630452156066895,
          -0.24913080036640167,
          -0.5339486598968506,
          -4.078752040863037,
          -0.4552460014820099,
          -0.8630092144012451,
          4.2398552894592285,
          -1.372819423675537,
          0.6657251715660095,
          4.10114860534668,
          -4.226207733154297,
          1.4326072931289673,
          0.7719621062278748,
          -0.8750597834587097,
          -0.4249269962310791,
          0.5697143077850342,
          0.3206894099712372,
          -4.152011394500732,
          2.484339714050293,
          0.764302670955658,
          1.0258344411849976,
          -1.7564635276794434,
          3.0935792922973633,
          -4.650248050689697,
          -1.6271946430206299,
          -1.4378902912139893,
          2.313896656036377,
          -3.474801540374756,
          -2.6320290565490723,
          -6.095803737640381,
          -4.281872272491455,
          -7.57725715637207,
          -2.3772566318511963,
          0.15372487902641296,
          2.6444005966186523,
          0.7788459062576294,
          -1.8680318593978882,
          3.0928759574890137,
          -0.08124741166830063,
          -1.1282297372817993,
          0.6308081150054932,
          -1.7062373161315918,
          -1.3006707429885864,
          0.052572086453437805,
          0.003986434545367956,
          -7.4385294914245605,
          -8.540764808654785,
          -1.7177430391311646,
          -1.959823489189148,
          -0.4029625654220581,
          -0.8740884065628052,
          -3.4717633724212646,
          2.100618600845337,
          4.002063751220703,
          -1.6059004068374634,
          -2.070888042449951,
          -3.7198991775512695,
          -3.046828031539917,
          -2.717977523803711,
          -0.9562551975250244,
          -0.073348268866539,
          -0.3579826354980469,
          -1.0460904836654663,
          -1.065498948097229,
          5.046945571899414,
          -0.43986794352531433,
          3.586914539337158,
          0.40278786420822144,
          -1.6427319049835205,
          -0.8578203916549683,
          4.31255578994751,
          2.2345738410949707,
          3.2826802730560303,
          -2.227635145187378,
          -7.9220194816589355,
          3.7919952869415283,
          -6.407580852508545,
          -7.91058349609375,
          -7.06752872467041,
          -6.33926248550415,
          -3.5745065212249756,
          0.06984247267246246,
          -6.178188800811768,
          3.684729814529419,
          -0.15769539773464203,
          -4.049081325531006,
          -1.9395408630371094,
          -3.806976318359375,
          -3.442009210586548,
          -1.1406033039093018,
          -0.8633043169975281,
          -1.2473678588867188,
          2.5653247833251953,
          0.44157055020332336,
          3.51987361907959,
          -0.6090341210365295,
          -0.8771911859512329,
          -0.2767609655857086,
          -2.9044198989868164,
          -3.0393660068511963,
          -2.2221407890319824,
          1.4869242906570435,
          -2.2546684741973877,
          -2.5412096977233887,
          -2.417745351791382,
          -3.224616050720215,
          -2.926924228668213,
          -2.3173789978027344,
          -2.773576498031616,
          -2.684025287628174,
          -3.3991079330444336,
          -3.325975179672241,
          -8.57546615600586,
          -4.043635845184326,
          -0.8697260618209839,
          3.350947618484497,
          -3.3066296577453613,
          -1.9969877004623413,
          -4.347102642059326,
          -1.3446787595748901,
          -1.0290420055389404,
          -1.028718113899231,
          3.3508713245391846,
          -4.661174297332764,
          0.724136233329773,
          -7.779192924499512,
          -2.08586049079895,
          -3.5406205654144287,
          -7.619102954864502,
          -7.4071760177612305,
          0.7354424595832825,
          2.5201542377471924,
          -1.9366754293441772,
          -2.482661247253418,
          -1.9747146368026733,
          -1.9135823249816895,
          -4.4138689041137695,
          0.8467700481414795,
          3.429943561553955,
          -0.3415288031101227,
          -2.338247537612915,
          -5.240790843963623,
          -4.0968804359436035,
          -1.7136319875717163,
          -5.110070705413818,
          3.1788570880889893,
          -3.7329351902008057,
          -4.891358375549316,
          -2.008774757385254,
          -5.139878273010254
         ]
        }
       ],
       "layout": {
        "template": {
         "data": {
          "bar": [
           {
            "error_x": {
             "color": "#2a3f5f"
            },
            "error_y": {
             "color": "#2a3f5f"
            },
            "marker": {
             "line": {
              "color": "#E5ECF6",
              "width": 0.5
             }
            },
            "type": "bar"
           }
          ],
          "barpolar": [
           {
            "marker": {
             "line": {
              "color": "#E5ECF6",
              "width": 0.5
             }
            },
            "type": "barpolar"
           }
          ],
          "carpet": [
           {
            "aaxis": {
             "endlinecolor": "#2a3f5f",
             "gridcolor": "white",
             "linecolor": "white",
             "minorgridcolor": "white",
             "startlinecolor": "#2a3f5f"
            },
            "baxis": {
             "endlinecolor": "#2a3f5f",
             "gridcolor": "white",
             "linecolor": "white",
             "minorgridcolor": "white",
             "startlinecolor": "#2a3f5f"
            },
            "type": "carpet"
           }
          ],
          "choropleth": [
           {
            "colorbar": {
             "outlinewidth": 0,
             "ticks": ""
            },
            "type": "choropleth"
           }
          ],
          "contour": [
           {
            "colorbar": {
             "outlinewidth": 0,
             "ticks": ""
            },
            "colorscale": [
             [
              0,
              "#0d0887"
             ],
             [
              0.1111111111111111,
              "#46039f"
             ],
             [
              0.2222222222222222,
              "#7201a8"
             ],
             [
              0.3333333333333333,
              "#9c179e"
             ],
             [
              0.4444444444444444,
              "#bd3786"
             ],
             [
              0.5555555555555556,
              "#d8576b"
             ],
             [
              0.6666666666666666,
              "#ed7953"
             ],
             [
              0.7777777777777778,
              "#fb9f3a"
             ],
             [
              0.8888888888888888,
              "#fdca26"
             ],
             [
              1,
              "#f0f921"
             ]
            ],
            "type": "contour"
           }
          ],
          "contourcarpet": [
           {
            "colorbar": {
             "outlinewidth": 0,
             "ticks": ""
            },
            "type": "contourcarpet"
           }
          ],
          "heatmap": [
           {
            "colorbar": {
             "outlinewidth": 0,
             "ticks": ""
            },
            "colorscale": [
             [
              0,
              "#0d0887"
             ],
             [
              0.1111111111111111,
              "#46039f"
             ],
             [
              0.2222222222222222,
              "#7201a8"
             ],
             [
              0.3333333333333333,
              "#9c179e"
             ],
             [
              0.4444444444444444,
              "#bd3786"
             ],
             [
              0.5555555555555556,
              "#d8576b"
             ],
             [
              0.6666666666666666,
              "#ed7953"
             ],
             [
              0.7777777777777778,
              "#fb9f3a"
             ],
             [
              0.8888888888888888,
              "#fdca26"
             ],
             [
              1,
              "#f0f921"
             ]
            ],
            "type": "heatmap"
           }
          ],
          "heatmapgl": [
           {
            "colorbar": {
             "outlinewidth": 0,
             "ticks": ""
            },
            "colorscale": [
             [
              0,
              "#0d0887"
             ],
             [
              0.1111111111111111,
              "#46039f"
             ],
             [
              0.2222222222222222,
              "#7201a8"
             ],
             [
              0.3333333333333333,
              "#9c179e"
             ],
             [
              0.4444444444444444,
              "#bd3786"
             ],
             [
              0.5555555555555556,
              "#d8576b"
             ],
             [
              0.6666666666666666,
              "#ed7953"
             ],
             [
              0.7777777777777778,
              "#fb9f3a"
             ],
             [
              0.8888888888888888,
              "#fdca26"
             ],
             [
              1,
              "#f0f921"
             ]
            ],
            "type": "heatmapgl"
           }
          ],
          "histogram": [
           {
            "marker": {
             "colorbar": {
              "outlinewidth": 0,
              "ticks": ""
             }
            },
            "type": "histogram"
           }
          ],
          "histogram2d": [
           {
            "colorbar": {
             "outlinewidth": 0,
             "ticks": ""
            },
            "colorscale": [
             [
              0,
              "#0d0887"
             ],
             [
              0.1111111111111111,
              "#46039f"
             ],
             [
              0.2222222222222222,
              "#7201a8"
             ],
             [
              0.3333333333333333,
              "#9c179e"
             ],
             [
              0.4444444444444444,
              "#bd3786"
             ],
             [
              0.5555555555555556,
              "#d8576b"
             ],
             [
              0.6666666666666666,
              "#ed7953"
             ],
             [
              0.7777777777777778,
              "#fb9f3a"
             ],
             [
              0.8888888888888888,
              "#fdca26"
             ],
             [
              1,
              "#f0f921"
             ]
            ],
            "type": "histogram2d"
           }
          ],
          "histogram2dcontour": [
           {
            "colorbar": {
             "outlinewidth": 0,
             "ticks": ""
            },
            "colorscale": [
             [
              0,
              "#0d0887"
             ],
             [
              0.1111111111111111,
              "#46039f"
             ],
             [
              0.2222222222222222,
              "#7201a8"
             ],
             [
              0.3333333333333333,
              "#9c179e"
             ],
             [
              0.4444444444444444,
              "#bd3786"
             ],
             [
              0.5555555555555556,
              "#d8576b"
             ],
             [
              0.6666666666666666,
              "#ed7953"
             ],
             [
              0.7777777777777778,
              "#fb9f3a"
             ],
             [
              0.8888888888888888,
              "#fdca26"
             ],
             [
              1,
              "#f0f921"
             ]
            ],
            "type": "histogram2dcontour"
           }
          ],
          "mesh3d": [
           {
            "colorbar": {
             "outlinewidth": 0,
             "ticks": ""
            },
            "type": "mesh3d"
           }
          ],
          "parcoords": [
           {
            "line": {
             "colorbar": {
              "outlinewidth": 0,
              "ticks": ""
             }
            },
            "type": "parcoords"
           }
          ],
          "scatter": [
           {
            "marker": {
             "colorbar": {
              "outlinewidth": 0,
              "ticks": ""
             }
            },
            "type": "scatter"
           }
          ],
          "scatter3d": [
           {
            "line": {
             "colorbar": {
              "outlinewidth": 0,
              "ticks": ""
             }
            },
            "marker": {
             "colorbar": {
              "outlinewidth": 0,
              "ticks": ""
             }
            },
            "type": "scatter3d"
           }
          ],
          "scattercarpet": [
           {
            "marker": {
             "colorbar": {
              "outlinewidth": 0,
              "ticks": ""
             }
            },
            "type": "scattercarpet"
           }
          ],
          "scattergeo": [
           {
            "marker": {
             "colorbar": {
              "outlinewidth": 0,
              "ticks": ""
             }
            },
            "type": "scattergeo"
           }
          ],
          "scattergl": [
           {
            "marker": {
             "colorbar": {
              "outlinewidth": 0,
              "ticks": ""
             }
            },
            "type": "scattergl"
           }
          ],
          "scattermapbox": [
           {
            "marker": {
             "colorbar": {
              "outlinewidth": 0,
              "ticks": ""
             }
            },
            "type": "scattermapbox"
           }
          ],
          "scatterpolar": [
           {
            "marker": {
             "colorbar": {
              "outlinewidth": 0,
              "ticks": ""
             }
            },
            "type": "scatterpolar"
           }
          ],
          "scatterpolargl": [
           {
            "marker": {
             "colorbar": {
              "outlinewidth": 0,
              "ticks": ""
             }
            },
            "type": "scatterpolargl"
           }
          ],
          "scatterternary": [
           {
            "marker": {
             "colorbar": {
              "outlinewidth": 0,
              "ticks": ""
             }
            },
            "type": "scatterternary"
           }
          ],
          "surface": [
           {
            "colorbar": {
             "outlinewidth": 0,
             "ticks": ""
            },
            "colorscale": [
             [
              0,
              "#0d0887"
             ],
             [
              0.1111111111111111,
              "#46039f"
             ],
             [
              0.2222222222222222,
              "#7201a8"
             ],
             [
              0.3333333333333333,
              "#9c179e"
             ],
             [
              0.4444444444444444,
              "#bd3786"
             ],
             [
              0.5555555555555556,
              "#d8576b"
             ],
             [
              0.6666666666666666,
              "#ed7953"
             ],
             [
              0.7777777777777778,
              "#fb9f3a"
             ],
             [
              0.8888888888888888,
              "#fdca26"
             ],
             [
              1,
              "#f0f921"
             ]
            ],
            "type": "surface"
           }
          ],
          "table": [
           {
            "cells": {
             "fill": {
              "color": "#EBF0F8"
             },
             "line": {
              "color": "white"
             }
            },
            "header": {
             "fill": {
              "color": "#C8D4E3"
             },
             "line": {
              "color": "white"
             }
            },
            "type": "table"
           }
          ]
         },
         "layout": {
          "annotationdefaults": {
           "arrowcolor": "#2a3f5f",
           "arrowhead": 0,
           "arrowwidth": 1
          },
          "colorscale": {
           "diverging": [
            [
             0,
             "#8e0152"
            ],
            [
             0.1,
             "#c51b7d"
            ],
            [
             0.2,
             "#de77ae"
            ],
            [
             0.3,
             "#f1b6da"
            ],
            [
             0.4,
             "#fde0ef"
            ],
            [
             0.5,
             "#f7f7f7"
            ],
            [
             0.6,
             "#e6f5d0"
            ],
            [
             0.7,
             "#b8e186"
            ],
            [
             0.8,
             "#7fbc41"
            ],
            [
             0.9,
             "#4d9221"
            ],
            [
             1,
             "#276419"
            ]
           ],
           "sequential": [
            [
             0,
             "#0d0887"
            ],
            [
             0.1111111111111111,
             "#46039f"
            ],
            [
             0.2222222222222222,
             "#7201a8"
            ],
            [
             0.3333333333333333,
             "#9c179e"
            ],
            [
             0.4444444444444444,
             "#bd3786"
            ],
            [
             0.5555555555555556,
             "#d8576b"
            ],
            [
             0.6666666666666666,
             "#ed7953"
            ],
            [
             0.7777777777777778,
             "#fb9f3a"
            ],
            [
             0.8888888888888888,
             "#fdca26"
            ],
            [
             1,
             "#f0f921"
            ]
           ],
           "sequentialminus": [
            [
             0,
             "#0d0887"
            ],
            [
             0.1111111111111111,
             "#46039f"
            ],
            [
             0.2222222222222222,
             "#7201a8"
            ],
            [
             0.3333333333333333,
             "#9c179e"
            ],
            [
             0.4444444444444444,
             "#bd3786"
            ],
            [
             0.5555555555555556,
             "#d8576b"
            ],
            [
             0.6666666666666666,
             "#ed7953"
            ],
            [
             0.7777777777777778,
             "#fb9f3a"
            ],
            [
             0.8888888888888888,
             "#fdca26"
            ],
            [
             1,
             "#f0f921"
            ]
           ]
          },
          "colorway": [
           "#636efa",
           "#EF553B",
           "#00cc96",
           "#ab63fa",
           "#FFA15A",
           "#19d3f3",
           "#FF6692",
           "#B6E880",
           "#FF97FF",
           "#FECB52"
          ],
          "font": {
           "color": "#2a3f5f"
          },
          "geo": {
           "bgcolor": "white",
           "lakecolor": "white",
           "landcolor": "#E5ECF6",
           "showlakes": true,
           "showland": true,
           "subunitcolor": "white"
          },
          "hoverlabel": {
           "align": "left"
          },
          "hovermode": "closest",
          "mapbox": {
           "style": "light"
          },
          "paper_bgcolor": "white",
          "plot_bgcolor": "#E5ECF6",
          "polar": {
           "angularaxis": {
            "gridcolor": "white",
            "linecolor": "white",
            "ticks": ""
           },
           "bgcolor": "#E5ECF6",
           "radialaxis": {
            "gridcolor": "white",
            "linecolor": "white",
            "ticks": ""
           }
          },
          "scene": {
           "xaxis": {
            "backgroundcolor": "#E5ECF6",
            "gridcolor": "white",
            "gridwidth": 2,
            "linecolor": "white",
            "showbackground": true,
            "ticks": "",
            "zerolinecolor": "white"
           },
           "yaxis": {
            "backgroundcolor": "#E5ECF6",
            "gridcolor": "white",
            "gridwidth": 2,
            "linecolor": "white",
            "showbackground": true,
            "ticks": "",
            "zerolinecolor": "white"
           },
           "zaxis": {
            "backgroundcolor": "#E5ECF6",
            "gridcolor": "white",
            "gridwidth": 2,
            "linecolor": "white",
            "showbackground": true,
            "ticks": "",
            "zerolinecolor": "white"
           }
          },
          "shapedefaults": {
           "line": {
            "color": "#2a3f5f"
           }
          },
          "ternary": {
           "aaxis": {
            "gridcolor": "white",
            "linecolor": "white",
            "ticks": ""
           },
           "baxis": {
            "gridcolor": "white",
            "linecolor": "white",
            "ticks": ""
           },
           "bgcolor": "#E5ECF6",
           "caxis": {
            "gridcolor": "white",
            "linecolor": "white",
            "ticks": ""
           }
          },
          "title": {
           "x": 0.05
          },
          "xaxis": {
           "automargin": true,
           "gridcolor": "white",
           "linecolor": "white",
           "ticks": "",
           "zerolinecolor": "white",
           "zerolinewidth": 2
          },
          "yaxis": {
           "automargin": true,
           "gridcolor": "white",
           "linecolor": "white",
           "ticks": "",
           "zerolinecolor": "white",
           "zerolinewidth": 2
          }
         }
        }
       }
      },
      "text/html": [
       "<div>\n",
       "        \n",
       "        \n",
       "            <div id=\"24a90089-8d6c-4e4d-85f2-eb6e6c16bbd3\" class=\"plotly-graph-div\" style=\"height:525px; width:100%;\"></div>\n",
       "            <script type=\"text/javascript\">\n",
       "                require([\"plotly\"], function(Plotly) {\n",
       "                    window.PLOTLYENV=window.PLOTLYENV || {};\n",
       "                    \n",
       "                if (document.getElementById(\"24a90089-8d6c-4e4d-85f2-eb6e6c16bbd3\")) {\n",
       "                    Plotly.newPlot(\n",
       "                        '24a90089-8d6c-4e4d-85f2-eb6e6c16bbd3',\n",
       "                        [{\"mode\": \"text\", \"text\": [\"\\u00abJos\\u00e9\", \"Machado\", \"Coelho\", \"de\", \"Castro\\u00bb\", \"nasceu\", \"em\", \"Lorena\", \"SP\", \"Estudou\", \"no\", \"Gin\\u00e1sio\", \"Diocesano\", \"S\\u00e3o\", \"Paulo\", \"e\", \"bacharelou-se\", \"1910\", \"pela\", \"Faculdade\", \"Ci\\u00eancias\", \"Jur\\u00eddicas\", \"Sociais\", \"Dedicando-se\", \"\\u00e0\", \"advocacia\", \"foi\", \"promotor\", \"p\\u00fablico\", \"Cunha\", \"depois\", \"delegado\", \"pol\\u00edcia\", \"Rio\", \"Janeiro\", \"ent\\u00e3o\", \"Distrito\", \"Federal\", \"Iniciou\", \"sua\", \"vida\", \"pol\\u00edtica\", \"como\", \"deputado\", \"federal\", \"pelo\", \"exercendo\", \"o\", \"mandato\", \"1927\", \"a\", \"1929\", \"Reeleito\", \"para\", \"legislatura\", \"iniciada\", \"maio\", \"1930\", \"ocupava\", \"cadeira\", \"na\", \"C\\u00e2mara\", \"quando\", \"3\", \"outubro\", \"deflagrado\", \"movimento\", \"revolucion\\u00e1rio\", \"liderado\", \"por\", \"Get\\u00falio\", \"Vargas\", \"Ligado\", \"ao\", \"governo\", \"encontrava-se\", \"lado\", \"do\", \"presidente\", \"Washington\", \"Lu\\u00eds\", \"pal\\u00e1cio\", \"Guanabara\", \"momento\", \"deposi\\u00e7\\u00e3o\", \"dia\", \"24\", \"Junto\", \"com\", \"outros\", \"companheiros\", \"tamb\\u00e9m\", \"solid\\u00e1rios\", \"regime\", \"deposto\", \"que\", \"se\", \"haviam\", \"asilado\", \"embaixadas\", \"enviado\", \"novembro\", \"estrangeiro\", \"Em\", \"1932\", \"estava\", \"presente\", \"porto\", \"Alc\\u00e2ntara\", \"Lisboa\", \"receber\", \"os\", \"revolucion\\u00e1rios\", \"constitucionalistas\", \"exilados\", \"ap\\u00f3s\", \"derrota\", \"da\", \"revolu\\u00e7\\u00e3o\", \"irrompida\", \"julho\", \"desse\", \"ano\", \"Com\", \"redemocratiza\\u00e7\\u00e3o\", \"pa\\u00eds\", \"1945\", \"candidatou-se\", \"estado\", \"legenda\", \"Partido\", \"Social\", \"Democr\\u00e1tico\", \"PSD\", \"\\u00e0s\", \"elei\\u00e7\\u00f5es\", \"Assembl\\u00e9ia\", \"Nacional\", \"Constituinte\", \"ANC\", \"realizadas\", \"dezembro\", \"Obteve\", \"uma\", \"supl\\u00eancia\", \"1946\", \"convocado\", \"participar\", \"dos\", \"trabalhos\", \"constituintes\", \"promulga\\u00e7\\u00e3o\", \"nova\", \"Carta\", \"18/9/1946\", \"transforma\\u00e7\\u00e3o\", \"Congresso\", \"ordin\\u00e1rio\", \"integrou\", \"Comiss\\u00e3o\", \"Permanente\", \"Obras\", \"P\\u00fablicas\", \"tendo\", \"votado\", \"janeiro\", \"1948\", \"favor\", \"cassa\\u00e7\\u00e3o\", \"mandatos\", \"parlamentares\", \"comunistas\", \"Deixou\", \"1951\", \"Foi\", \"ainda\", \"Companhia\", \"Cimento\", \"Vale\", \"Para\\u00edba\", \"Faleceu\", \"17\", \"1975\", \"\\u00abArmando\", \"Ab\\u00edlio\", \"Vieira\\u00bb\", \"Itaporanga\", \"PB\", \"29\", \"1944\", \"filho\", \"Argemiro\", \"Sousa\", \"Lu\\u00edsa\", \"Bronzeado\", \"Vieira\", \"1962\", \"ingressou\", \"Recife\", \"M\\u00e9dicas\", \"Universidade\"], \"type\": \"scatter\", \"x\": [2.1932294368743896, 2.7424304485321045, 2.567131757736206, 0.574193000793457, 1.8317499160766602, -4.380145072937012, -0.278287410736084, 1.4355099201202393, -0.3907679617404938, -0.9093970656394958, 5.721561431884766, -1.2310783863067627, 0.960178017616272, -0.571404218673706, 1.3779326677322388, 1.8504287004470825, -0.9323552250862122, -2.8720247745513916, 3.4459481239318848, -2.862111806869507, -2.65478515625, 0.7974578142166138, -2.2236979007720947, 1.9842848777770996, 4.589724540710449, 6.037120342254639, -5.721338748931885, 0.2043324112892151, 1.0631110668182373, 2.806882619857788, 0.928597629070282, -0.1279718279838562, 2.7682440280914307, 0.0771629586815834, 0.26563048362731934, 1.854175329208374, 0.5800127983093262, -0.9363381266593933, -0.33453691005706787, 3.4601101875305176, 6.154723644256592, 3.4588305950164795, 1.6715625524520874, 3.6980364322662354, 1.586719036102295, 7.092463493347168, -1.427959680557251, 5.539430141448975, 6.252188205718994, -3.049835205078125, 3.4517405033111572, -3.007328510284424, -1.9820656776428223, 1.4649741649627686, 5.708977222442627, -0.4790017008781433, -7.606971740722656, -3.015613317489624, -1.0794644355773926, -1.8541476726531982, 3.316338539123535, 7.982353210449219, -0.44246211647987366, -4.05753755569458, -7.631879806518555, 2.6084091663360596, 4.737061977386475, 3.9931771755218506, 3.327548027038574, 7.189410209655762, 3.210740566253662, 3.3414371013641357, 2.5030877590179443, 5.26614236831665, 3.963413953781128, 1.2585090398788452, 3.5048606395721436, 5.503051280975342, 2.8878326416015625, -0.2046731561422348, 1.5785932540893555, 1.1375837326049805, -0.6751388311386108, 3.024383544921875, 3.5744102001190186, -1.0606772899627686, -4.152706146240234, 2.3739304542541504, 1.2857855558395386, 7.877506732940674, 4.759544372558594, 1.1474334001541138, 2.167222261428833, 3.967719793319702, 2.865431547164917, 5.8055500984191895, 2.9071338176727295, 4.285329341888428, 2.0116453170776367, 1.2066383361816406, 0.5713410377502441, -7.629111289978027, 1.6913410425186157, -0.40229496359825134, -3.0931296348571777, 0.4822692275047302, 3.0301289558410645, 1.023517370223999, 1.9212865829467773, 0.46866604685783386, 2.4510550498962402, 7.877891540527344, 4.757498741149902, 3.4006524085998535, 5.014363765716553, 0.932426929473877, 3.5713448524475098, 3.320504665374756, 4.514508247375488, 1.801543116569519, -7.595824718475342, -1.2082841396331787, -1.8186784982681274, 1.2420774698257446, 4.5614848136901855, 1.2143720388412476, -3.60764479637146, -1.783186912536621, 1.0907247066497803, -1.772078514099121, 4.449741840362549, -2.4445972442626953, -0.04508049786090851, 4.440279483795166, 5.116957664489746, -2.609368085861206, 7.723731517791748, -3.172184944152832, 7.318283557891846, 5.335253715515137, 0.3819139301776886, -7.608314514160156, 1.1425927877426147, 2.990662097930908, -1.575156807899475, -3.744325876235962, 0.7910276651382446, 2.745997190475464, 7.044589996337891, 6.528391361236572, 6.422105312347412, 8.07250690460205, 2.4219441413879395, 8.028547286987305, 3.9334683418273926, 4.22628927230835, 5.400035858154297, 4.36017370223999, -2.2962794303894043, -3.250009059906006, -2.694896936416626, -3.8808488845825195, -3.7760984897613525, 4.286355018615723, 4.7649827003479, -7.611368656158447, -3.5593454837799072, 3.7356619834899902, 5.686732769012451, 6.236746311187744, 5.822953701019287, 5.321309566497803, -1.1589748859405518, -3.815828800201416, -5.723250865936279, 1.0347431898117065, -0.9101325869560242, 1.6413798332214355, 2.107374906539917, -0.8002106547355652, -4.331488132476807, -4.147981643676758, -3.1043732166290283, 1.9748059511184692, 1.7145538330078125, 1.872090220451355, 1.8885658979415894, 0.25866809487342834, -4.315607070922852, -3.3976221084594727, -4.634597301483154, 2.1690280437469482, 2.2430999279022217, 2.160033702850342, 2.0339577198028564, 2.4590413570404053, -3.9061946868896484, -1.1565548181533813, -0.06429106742143631, 1.5469470024108887, -2.889012575149536], \"y\": [-5.0231614112854, -5.302279472351074, -5.008538246154785, 1.6467556953430176, -2.1993088722229004, -7.46718168258667, 2.134176015853882, -2.351987361907959, -4.864874362945557, -4.1659836769104, 1.5630815029144287, -4.549559116363525, -2.6575660705566406, -5.62578010559082, -6.3524250984191895, -0.5221532583236694, -3.3909826278686523, 2.8852837085723877, 4.400435447692871, -5.105027198791504, -4.804911136627197, -2.4977972507476807, -3.388221025466919, -1.6674476861953735, 3.4311370849609375, -6.179220199584961, -4.6617841720581055, -3.1781558990478516, -3.261964797973633, -5.893515586853027, 5.060877323150635, -2.1410133838653564, -3.017831563949585, -5.635453701019287, -3.845344305038452, 0.5301510095596313, -5.043076038360596, -2.468813896179199, -1.3964542150497437, 2.564800977706909, -6.316093921661377, -2.0413825511932373, -0.048539143055677414, -5.271401882171631, 1.6698493957519531, 2.5483345985412598, -1.5629914999008179, 2.3259334564208984, -4.766086101531982, 3.2534408569335938, 2.8774027824401855, 3.3630452156066895, -0.24913080036640167, -0.5339486598968506, -4.078752040863037, -0.4552460014820099, -0.8630092144012451, 4.2398552894592285, -1.372819423675537, 0.6657251715660095, 4.10114860534668, -4.226207733154297, 1.4326072931289673, 0.7719621062278748, -0.8750597834587097, -0.4249269962310791, 0.5697143077850342, 0.3206894099712372, -4.152011394500732, 2.484339714050293, 0.764302670955658, 1.0258344411849976, -1.7564635276794434, 3.0935792922973633, -4.650248050689697, -1.6271946430206299, -1.4378902912139893, 2.313896656036377, -3.474801540374756, -2.6320290565490723, -6.095803737640381, -4.281872272491455, -7.57725715637207, -2.3772566318511963, 0.15372487902641296, 2.6444005966186523, 0.7788459062576294, -1.8680318593978882, 3.0928759574890137, -0.08124741166830063, -1.1282297372817993, 0.6308081150054932, -1.7062373161315918, -1.3006707429885864, 0.052572086453437805, 0.003986434545367956, -7.4385294914245605, -8.540764808654785, -1.7177430391311646, -1.959823489189148, -0.4029625654220581, -0.8740884065628052, -3.4717633724212646, 2.100618600845337, 4.002063751220703, -1.6059004068374634, -2.070888042449951, -3.7198991775512695, -3.046828031539917, -2.717977523803711, -0.9562551975250244, -0.073348268866539, -0.3579826354980469, -1.0460904836654663, -1.065498948097229, 5.046945571899414, -0.43986794352531433, 3.586914539337158, 0.40278786420822144, -1.6427319049835205, -0.8578203916549683, 4.31255578994751, 2.2345738410949707, 3.2826802730560303, -2.227635145187378, -7.9220194816589355, 3.7919952869415283, -6.407580852508545, -7.91058349609375, -7.06752872467041, -6.33926248550415, -3.5745065212249756, 0.06984247267246246, -6.178188800811768, 3.684729814529419, -0.15769539773464203, -4.049081325531006, -1.9395408630371094, -3.806976318359375, -3.442009210586548, -1.1406033039093018, -0.8633043169975281, -1.2473678588867188, 2.5653247833251953, 0.44157055020332336, 3.51987361907959, -0.6090341210365295, -0.8771911859512329, -0.2767609655857086, -2.9044198989868164, -3.0393660068511963, -2.2221407890319824, 1.4869242906570435, -2.2546684741973877, -2.5412096977233887, -2.417745351791382, -3.224616050720215, -2.926924228668213, -2.3173789978027344, -2.773576498031616, -2.684025287628174, -3.3991079330444336, -3.325975179672241, -8.57546615600586, -4.043635845184326, -0.8697260618209839, 3.350947618484497, -3.3066296577453613, -1.9969877004623413, -4.347102642059326, -1.3446787595748901, -1.0290420055389404, -1.028718113899231, 3.3508713245391846, -4.661174297332764, 0.724136233329773, -7.779192924499512, -2.08586049079895, -3.5406205654144287, -7.619102954864502, -7.4071760177612305, 0.7354424595832825, 2.5201542377471924, -1.9366754293441772, -2.482661247253418, -1.9747146368026733, -1.9135823249816895, -4.4138689041137695, 0.8467700481414795, 3.429943561553955, -0.3415288031101227, -2.338247537612915, -5.240790843963623, -4.0968804359436035, -1.7136319875717163, -5.110070705413818, 3.1788570880889893, -3.7329351902008057, -4.891358375549316, -2.008774757385254, -5.139878273010254]}],\n",
       "                        {\"template\": {\"data\": {\"bar\": [{\"error_x\": {\"color\": \"#2a3f5f\"}, \"error_y\": {\"color\": \"#2a3f5f\"}, \"marker\": {\"line\": {\"color\": \"#E5ECF6\", \"width\": 0.5}}, \"type\": \"bar\"}], \"barpolar\": [{\"marker\": {\"line\": {\"color\": \"#E5ECF6\", \"width\": 0.5}}, \"type\": \"barpolar\"}], \"carpet\": [{\"aaxis\": {\"endlinecolor\": \"#2a3f5f\", \"gridcolor\": \"white\", \"linecolor\": \"white\", \"minorgridcolor\": \"white\", \"startlinecolor\": \"#2a3f5f\"}, \"baxis\": {\"endlinecolor\": \"#2a3f5f\", \"gridcolor\": \"white\", \"linecolor\": \"white\", \"minorgridcolor\": \"white\", \"startlinecolor\": \"#2a3f5f\"}, \"type\": \"carpet\"}], \"choropleth\": [{\"colorbar\": {\"outlinewidth\": 0, \"ticks\": \"\"}, \"type\": \"choropleth\"}], \"contour\": [{\"colorbar\": {\"outlinewidth\": 0, \"ticks\": \"\"}, \"colorscale\": [[0.0, \"#0d0887\"], [0.1111111111111111, \"#46039f\"], [0.2222222222222222, \"#7201a8\"], [0.3333333333333333, \"#9c179e\"], [0.4444444444444444, \"#bd3786\"], [0.5555555555555556, \"#d8576b\"], [0.6666666666666666, \"#ed7953\"], [0.7777777777777778, \"#fb9f3a\"], [0.8888888888888888, \"#fdca26\"], [1.0, \"#f0f921\"]], \"type\": \"contour\"}], \"contourcarpet\": [{\"colorbar\": {\"outlinewidth\": 0, \"ticks\": \"\"}, \"type\": \"contourcarpet\"}], \"heatmap\": [{\"colorbar\": {\"outlinewidth\": 0, \"ticks\": \"\"}, \"colorscale\": [[0.0, \"#0d0887\"], [0.1111111111111111, \"#46039f\"], [0.2222222222222222, \"#7201a8\"], [0.3333333333333333, \"#9c179e\"], [0.4444444444444444, \"#bd3786\"], [0.5555555555555556, \"#d8576b\"], [0.6666666666666666, \"#ed7953\"], [0.7777777777777778, \"#fb9f3a\"], [0.8888888888888888, \"#fdca26\"], [1.0, \"#f0f921\"]], \"type\": \"heatmap\"}], \"heatmapgl\": [{\"colorbar\": {\"outlinewidth\": 0, \"ticks\": \"\"}, \"colorscale\": [[0.0, \"#0d0887\"], [0.1111111111111111, \"#46039f\"], [0.2222222222222222, \"#7201a8\"], [0.3333333333333333, \"#9c179e\"], [0.4444444444444444, \"#bd3786\"], [0.5555555555555556, \"#d8576b\"], [0.6666666666666666, \"#ed7953\"], [0.7777777777777778, \"#fb9f3a\"], [0.8888888888888888, \"#fdca26\"], [1.0, \"#f0f921\"]], \"type\": \"heatmapgl\"}], \"histogram\": [{\"marker\": {\"colorbar\": {\"outlinewidth\": 0, \"ticks\": \"\"}}, \"type\": \"histogram\"}], \"histogram2d\": [{\"colorbar\": {\"outlinewidth\": 0, \"ticks\": \"\"}, \"colorscale\": [[0.0, \"#0d0887\"], [0.1111111111111111, \"#46039f\"], [0.2222222222222222, \"#7201a8\"], [0.3333333333333333, \"#9c179e\"], [0.4444444444444444, \"#bd3786\"], [0.5555555555555556, \"#d8576b\"], [0.6666666666666666, \"#ed7953\"], [0.7777777777777778, \"#fb9f3a\"], [0.8888888888888888, \"#fdca26\"], [1.0, \"#f0f921\"]], \"type\": \"histogram2d\"}], \"histogram2dcontour\": [{\"colorbar\": {\"outlinewidth\": 0, \"ticks\": \"\"}, \"colorscale\": [[0.0, \"#0d0887\"], [0.1111111111111111, \"#46039f\"], [0.2222222222222222, \"#7201a8\"], [0.3333333333333333, \"#9c179e\"], [0.4444444444444444, \"#bd3786\"], [0.5555555555555556, \"#d8576b\"], [0.6666666666666666, \"#ed7953\"], [0.7777777777777778, \"#fb9f3a\"], [0.8888888888888888, \"#fdca26\"], [1.0, \"#f0f921\"]], \"type\": \"histogram2dcontour\"}], \"mesh3d\": [{\"colorbar\": {\"outlinewidth\": 0, \"ticks\": \"\"}, \"type\": \"mesh3d\"}], \"parcoords\": [{\"line\": {\"colorbar\": {\"outlinewidth\": 0, \"ticks\": \"\"}}, \"type\": \"parcoords\"}], \"scatter\": [{\"marker\": {\"colorbar\": {\"outlinewidth\": 0, \"ticks\": \"\"}}, \"type\": \"scatter\"}], \"scatter3d\": [{\"line\": {\"colorbar\": {\"outlinewidth\": 0, \"ticks\": \"\"}}, \"marker\": {\"colorbar\": {\"outlinewidth\": 0, \"ticks\": \"\"}}, \"type\": \"scatter3d\"}], \"scattercarpet\": [{\"marker\": {\"colorbar\": {\"outlinewidth\": 0, \"ticks\": \"\"}}, \"type\": \"scattercarpet\"}], \"scattergeo\": [{\"marker\": {\"colorbar\": {\"outlinewidth\": 0, \"ticks\": \"\"}}, \"type\": \"scattergeo\"}], \"scattergl\": [{\"marker\": {\"colorbar\": {\"outlinewidth\": 0, \"ticks\": \"\"}}, \"type\": \"scattergl\"}], \"scattermapbox\": [{\"marker\": {\"colorbar\": {\"outlinewidth\": 0, \"ticks\": \"\"}}, \"type\": \"scattermapbox\"}], \"scatterpolar\": [{\"marker\": {\"colorbar\": {\"outlinewidth\": 0, \"ticks\": \"\"}}, \"type\": \"scatterpolar\"}], \"scatterpolargl\": [{\"marker\": {\"colorbar\": {\"outlinewidth\": 0, \"ticks\": \"\"}}, \"type\": \"scatterpolargl\"}], \"scatterternary\": [{\"marker\": {\"colorbar\": {\"outlinewidth\": 0, \"ticks\": \"\"}}, \"type\": \"scatterternary\"}], \"surface\": [{\"colorbar\": {\"outlinewidth\": 0, \"ticks\": \"\"}, \"colorscale\": [[0.0, \"#0d0887\"], [0.1111111111111111, \"#46039f\"], [0.2222222222222222, \"#7201a8\"], [0.3333333333333333, \"#9c179e\"], [0.4444444444444444, \"#bd3786\"], [0.5555555555555556, \"#d8576b\"], [0.6666666666666666, \"#ed7953\"], [0.7777777777777778, \"#fb9f3a\"], [0.8888888888888888, \"#fdca26\"], [1.0, \"#f0f921\"]], \"type\": \"surface\"}], \"table\": [{\"cells\": {\"fill\": {\"color\": \"#EBF0F8\"}, \"line\": {\"color\": \"white\"}}, \"header\": {\"fill\": {\"color\": \"#C8D4E3\"}, \"line\": {\"color\": \"white\"}}, \"type\": \"table\"}]}, \"layout\": {\"annotationdefaults\": {\"arrowcolor\": \"#2a3f5f\", \"arrowhead\": 0, \"arrowwidth\": 1}, \"colorscale\": {\"diverging\": [[0, \"#8e0152\"], [0.1, \"#c51b7d\"], [0.2, \"#de77ae\"], [0.3, \"#f1b6da\"], [0.4, \"#fde0ef\"], [0.5, \"#f7f7f7\"], [0.6, \"#e6f5d0\"], [0.7, \"#b8e186\"], [0.8, \"#7fbc41\"], [0.9, \"#4d9221\"], [1, \"#276419\"]], \"sequential\": [[0.0, \"#0d0887\"], [0.1111111111111111, \"#46039f\"], [0.2222222222222222, \"#7201a8\"], [0.3333333333333333, \"#9c179e\"], [0.4444444444444444, \"#bd3786\"], [0.5555555555555556, \"#d8576b\"], [0.6666666666666666, \"#ed7953\"], [0.7777777777777778, \"#fb9f3a\"], [0.8888888888888888, \"#fdca26\"], [1.0, \"#f0f921\"]], \"sequentialminus\": [[0.0, \"#0d0887\"], [0.1111111111111111, \"#46039f\"], [0.2222222222222222, \"#7201a8\"], [0.3333333333333333, \"#9c179e\"], [0.4444444444444444, \"#bd3786\"], [0.5555555555555556, \"#d8576b\"], [0.6666666666666666, \"#ed7953\"], [0.7777777777777778, \"#fb9f3a\"], [0.8888888888888888, \"#fdca26\"], [1.0, \"#f0f921\"]]}, \"colorway\": [\"#636efa\", \"#EF553B\", \"#00cc96\", \"#ab63fa\", \"#FFA15A\", \"#19d3f3\", \"#FF6692\", \"#B6E880\", \"#FF97FF\", \"#FECB52\"], \"font\": {\"color\": \"#2a3f5f\"}, \"geo\": {\"bgcolor\": \"white\", \"lakecolor\": \"white\", \"landcolor\": \"#E5ECF6\", \"showlakes\": true, \"showland\": true, \"subunitcolor\": \"white\"}, \"hoverlabel\": {\"align\": \"left\"}, \"hovermode\": \"closest\", \"mapbox\": {\"style\": \"light\"}, \"paper_bgcolor\": \"white\", \"plot_bgcolor\": \"#E5ECF6\", \"polar\": {\"angularaxis\": {\"gridcolor\": \"white\", \"linecolor\": \"white\", \"ticks\": \"\"}, \"bgcolor\": \"#E5ECF6\", \"radialaxis\": {\"gridcolor\": \"white\", \"linecolor\": \"white\", \"ticks\": \"\"}}, \"scene\": {\"xaxis\": {\"backgroundcolor\": \"#E5ECF6\", \"gridcolor\": \"white\", \"gridwidth\": 2, \"linecolor\": \"white\", \"showbackground\": true, \"ticks\": \"\", \"zerolinecolor\": \"white\"}, \"yaxis\": {\"backgroundcolor\": \"#E5ECF6\", \"gridcolor\": \"white\", \"gridwidth\": 2, \"linecolor\": \"white\", \"showbackground\": true, \"ticks\": \"\", \"zerolinecolor\": \"white\"}, \"zaxis\": {\"backgroundcolor\": \"#E5ECF6\", \"gridcolor\": \"white\", \"gridwidth\": 2, \"linecolor\": \"white\", \"showbackground\": true, \"ticks\": \"\", \"zerolinecolor\": \"white\"}}, \"shapedefaults\": {\"line\": {\"color\": \"#2a3f5f\"}}, \"ternary\": {\"aaxis\": {\"gridcolor\": \"white\", \"linecolor\": \"white\", \"ticks\": \"\"}, \"baxis\": {\"gridcolor\": \"white\", \"linecolor\": \"white\", \"ticks\": \"\"}, \"bgcolor\": \"#E5ECF6\", \"caxis\": {\"gridcolor\": \"white\", \"linecolor\": \"white\", \"ticks\": \"\"}}, \"title\": {\"x\": 0.05}, \"xaxis\": {\"automargin\": true, \"gridcolor\": \"white\", \"linecolor\": \"white\", \"ticks\": \"\", \"zerolinecolor\": \"white\", \"zerolinewidth\": 2}, \"yaxis\": {\"automargin\": true, \"gridcolor\": \"white\", \"linecolor\": \"white\", \"ticks\": \"\", \"zerolinecolor\": \"white\", \"zerolinewidth\": 2}}}},\n",
       "                        {\"responsive\": true}\n",
       "                    ).then(function(){\n",
       "                            \n",
       "var gd = document.getElementById('24a90089-8d6c-4e4d-85f2-eb6e6c16bbd3');\n",
       "var x = new MutationObserver(function (mutations, observer) {{\n",
       "        var display = window.getComputedStyle(gd).display;\n",
       "        if (!display || display === 'none') {{\n",
       "            console.log([gd, 'removed!']);\n",
       "            Plotly.purge(gd);\n",
       "            observer.disconnect();\n",
       "        }}\n",
       "}});\n",
       "\n",
       "// Listen for the removal of the full notebook cells\n",
       "var notebookContainer = gd.closest('#notebook-container');\n",
       "if (notebookContainer) {{\n",
       "    x.observe(notebookContainer, {childList: true});\n",
       "}}\n",
       "\n",
       "// Listen for the clearing of the current output cell\n",
       "var outputEl = gd.closest('.output');\n",
       "if (outputEl) {{\n",
       "    x.observe(outputEl, {childList: true});\n",
       "}}\n",
       "\n",
       "                        })\n",
       "                };\n",
       "                });\n",
       "            </script>\n",
       "        </div>"
      ]
     },
     "metadata": {},
     "output_type": "display_data"
    }
   ],
   "source": [
    "plot_with_plotly(x_vals, y_vals, labels)"
   ]
  },
  {
   "cell_type": "code",
   "execution_count": 38,
   "metadata": {},
   "outputs": [
    {
     "data": {
      "text/plain": [
       "[('pragmática', 0.6115255355834961),\n",
       " ('“política', 0.6081854701042175),\n",
       " ('Resultante', 0.5997891426086426),\n",
       " ('político-institucional', 0.5906023979187012),\n",
       " ('político-social', 0.5800623893737793),\n",
       " ('inevitavelmente', 0.5741809010505676),\n",
       " ('nítida', 0.5726122856140137),\n",
       " ('persistente', 0.5723466873168945),\n",
       " ('induzida', 0.5718863010406494),\n",
       " ('vulnerabilidade', 0.5662615895271301)]"
      ]
     },
     "execution_count": 38,
     "metadata": {},
     "output_type": "execute_result"
    }
   ],
   "source": [
    "model.wv.most_similar(positive=['congressista', 'política'], negative=['advogado'])"
   ]
  },
  {
   "cell_type": "code",
   "execution_count": 36,
   "metadata": {},
   "outputs": [
    {
     "data": {
      "text/plain": [
       "array([-1.1804812 ,  0.17904007,  2.7701726 ,  2.2788234 , -2.3939579 ,\n",
       "       -1.6261489 ,  3.037264  , -1.5370936 ,  0.1686287 ,  1.7679174 ,\n",
       "       -0.6206008 , -1.4379971 ,  0.9625195 ,  5.3786445 , -1.5540149 ,\n",
       "       -0.00777411, -1.401691  , -4.2874527 , -0.82898766,  1.8527349 ,\n",
       "        1.1073897 ,  0.4124229 , -1.7202759 , -1.9285159 ,  0.22249055,\n",
       "       -0.1637733 ,  0.3505941 , -1.6477919 ,  3.5996528 , -1.884695  ,\n",
       "        0.70941716,  2.4855223 ,  0.19784053,  1.0554858 , -2.0812526 ,\n",
       "        0.25975254,  1.0439771 ,  0.40970242,  0.78404856, -2.2612848 ,\n",
       "        1.7169695 ,  0.73526394,  1.4105549 ,  4.066178  , -0.40555423,\n",
       "        1.8521545 ,  3.7054353 ,  1.3822607 , -4.056506  ,  1.9932911 ,\n",
       "        0.89136565, -2.6281335 ,  3.6849546 ,  3.6759586 , -0.3893448 ,\n",
       "       -0.93963474,  3.059989  ,  0.07065499, -0.69516784, -1.2888556 ,\n",
       "        0.92977023, -1.6649121 ,  2.6862006 , -2.4784298 ,  1.8600826 ,\n",
       "        0.779212  ,  2.1920981 , -1.9809456 , -2.688896  ,  0.60114765,\n",
       "       -2.3174565 ,  0.08518887,  0.43477178,  1.2217847 ,  0.9667772 ,\n",
       "        1.8949485 ,  1.2996533 ,  2.6153111 , -0.04217112,  0.72740364,\n",
       "       -0.7117096 , -0.73151827,  0.16029513,  0.06895769, -0.17937306,\n",
       "        0.48638743, -0.52041715, -2.0970736 , -1.1521842 , -3.9579785 ,\n",
       "        0.51819354,  0.12455559,  2.2292786 ,  0.33785737, -0.4980077 ,\n",
       "       -2.9939485 , -2.5539153 , -1.4805562 ,  3.1075735 ,  0.99266756],\n",
       "      dtype=float32)"
      ]
     },
     "execution_count": 36,
     "metadata": {},
     "output_type": "execute_result"
    }
   ],
   "source": [
    "model.wv['congressista'] + model.wv['política']-model.wv['homem']"
   ]
  },
  {
   "cell_type": "code",
   "execution_count": null,
   "metadata": {},
   "outputs": [],
   "source": [
    "model.wmdistance(document1=)"
   ]
  }
 ],
 "metadata": {
  "kernelspec": {
   "display_name": "Python 3",
   "language": "python",
   "name": "python3"
  },
  "language_info": {
   "codemirror_mode": {
    "name": "ipython",
    "version": 3
   },
   "file_extension": ".py",
   "mimetype": "text/x-python",
   "name": "python",
   "nbconvert_exporter": "python",
   "pygments_lexer": "ipython3",
   "version": "3.7.5rc1"
  },
  "latex_envs": {
   "LaTeX_envs_menu_present": true,
   "autoclose": false,
   "autocomplete": true,
   "bibliofile": "biblio.bib",
   "cite_by": "apalike",
   "current_citInitial": 1,
   "eqLabelWithNumbers": true,
   "eqNumInitial": 1,
   "hotkeys": {
    "equation": "Ctrl-E",
    "itemize": "Ctrl-I"
   },
   "labels_anchors": false,
   "latex_user_defs": false,
   "report_style_numbering": false,
   "user_envs_cfg": false
  },
  "toc": {
   "base_numbering": 1,
   "nav_menu": {},
   "number_sections": true,
   "sideBar": true,
   "skip_h1_title": false,
   "title_cell": "Table of Contents",
   "title_sidebar": "Contents",
   "toc_cell": false,
   "toc_position": {},
   "toc_section_display": true,
   "toc_window_display": false
  },
  "varInspector": {
   "cols": {
    "lenName": 16,
    "lenType": 16,
    "lenVar": 40
   },
   "kernels_config": {
    "python": {
     "delete_cmd_postfix": "",
     "delete_cmd_prefix": "del ",
     "library": "var_list.py",
     "varRefreshCmd": "print(var_dic_list())"
    },
    "r": {
     "delete_cmd_postfix": ") ",
     "delete_cmd_prefix": "rm(",
     "library": "var_list.r",
     "varRefreshCmd": "cat(var_dic_list()) "
    }
   },
   "types_to_exclude": [
    "module",
    "function",
    "builtin_function_or_method",
    "instance",
    "_Feature"
   ],
   "window_display": false
  }
 },
 "nbformat": 4,
 "nbformat_minor": 2
}
