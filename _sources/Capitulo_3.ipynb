{
 "cells": [
  {
   "cell_type": "markdown",
   "metadata": {},
   "source": [
    "# Identificando Entidades Nomeadas e Similaridade Semântica\n",
    "Neste capítulo vamos treinar um *identificador de entidades  nomeadas* (NER - Named Entity Recognizer) usando a biblioteca [Spacy](https://spacy.io). A partir deste capítulo vamos importar também funções que já criamos anteriormente, e que encontram-se reproduzidas em  [dhbbmining.py](dhbbmining.py)."
   ]
  },
  {
   "cell_type": "code",
   "execution_count": 110,
   "metadata": {
    "tags": [
     "hide-input"
    ]
   },
   "outputs": [],
   "source": [
    "import warnings\n",
    "warnings.filterwarnings('ignore')"
   ]
  },
  {
   "cell_type": "code",
   "execution_count": 111,
   "metadata": {
    "ExecuteTime": {
     "end_time": "2021-11-08T15:26:44.746863Z",
     "start_time": "2021-11-08T15:26:43.360244Z"
    }
   },
   "outputs": [],
   "source": [
    "import os, glob, pickle\n",
    "import spacy\n",
    "from IPython.core.display import display, HTML, Markdown\n",
    "from spacy import displacy\n",
    "from sqlalchemy import create_engine\n",
    "from dhbbmining import *\n",
    "import ipywidgets as widgets"
   ]
  },
  {
   "cell_type": "markdown",
   "metadata": {},
   "source": [
    "Para utilizar o spacy em um corpus na lingua portuguesa, vamos primeiro importar o modelo liguístico do português"
   ]
  },
  {
   "cell_type": "code",
   "execution_count": null,
   "metadata": {
    "ExecuteTime": {
     "end_time": "2021-10-26T17:56:47.194120Z",
     "start_time": "2021-10-26T17:56:38.472645Z"
    },
    "scrolled": true,
    "tags": [
     "hide-output"
    ]
   },
   "outputs": [],
   "source": [
    "!python3 -m spacy download pt_core_news_sm"
   ]
  },
  {
   "cell_type": "code",
   "execution_count": 114,
   "metadata": {
    "ExecuteTime": {
     "end_time": "2021-11-08T15:26:51.336649Z",
     "start_time": "2021-11-08T15:26:48.947374Z"
    }
   },
   "outputs": [],
   "source": [
    "nlp = spacy.load(\"pt_core_news_sm\")"
   ]
  },
  {
   "cell_type": "markdown",
   "metadata": {},
   "source": [
    "Em seguida podemos carregar os verbetes biográficos que salvamos no nosso banco SQLite."
   ]
  },
  {
   "cell_type": "code",
   "execution_count": 115,
   "metadata": {
    "ExecuteTime": {
     "end_time": "2021-11-08T15:26:53.007306Z",
     "start_time": "2021-11-08T15:26:52.846020Z"
    }
   },
   "outputs": [
    {
     "data": {
      "text/html": [
       "<div>\n",
       "<style scoped>\n",
       "    .dataframe tbody tr th:only-of-type {\n",
       "        vertical-align: middle;\n",
       "    }\n",
       "\n",
       "    .dataframe tbody tr th {\n",
       "        vertical-align: top;\n",
       "    }\n",
       "\n",
       "    .dataframe thead th {\n",
       "        text-align: right;\n",
       "    }\n",
       "</style>\n",
       "<table border=\"1\" class=\"dataframe\">\n",
       "  <thead>\n",
       "    <tr style=\"text-align: right;\">\n",
       "      <th></th>\n",
       "      <th>index</th>\n",
       "      <th>arquivo</th>\n",
       "      <th>title</th>\n",
       "      <th>natureza</th>\n",
       "      <th>sexo</th>\n",
       "      <th>cargos</th>\n",
       "      <th>corpo</th>\n",
       "    </tr>\n",
       "  </thead>\n",
       "  <tbody>\n",
       "    <tr>\n",
       "      <th>0</th>\n",
       "      <td>0</td>\n",
       "      <td>6172.text</td>\n",
       "      <td>PARTIDO POPULAR DO DISTRITO FEDERAL</td>\n",
       "      <td>temático</td>\n",
       "      <td>None</td>\n",
       "      <td>NA</td>\n",
       "      <td>\\n\\n«PARTIDO POPULAR DO DISTRITO FEDERAL»\\n\\nP...</td>\n",
       "    </tr>\n",
       "    <tr>\n",
       "      <th>1</th>\n",
       "      <td>1</td>\n",
       "      <td>4361.text</td>\n",
       "      <td>PRATES, Mílton</td>\n",
       "      <td>biográfico</td>\n",
       "      <td>m</td>\n",
       "      <td>\\n - const. 1946\\n - dep. fed. MG 1946-1951 \\n</td>\n",
       "      <td>\\n\\n«Luís Mílton Prates» nasceu em Montes Clar...</td>\n",
       "    </tr>\n",
       "    <tr>\n",
       "      <th>2</th>\n",
       "      <td>2</td>\n",
       "      <td>5224.text</td>\n",
       "      <td>SUREK, Alberto</td>\n",
       "      <td>biográfico</td>\n",
       "      <td>m</td>\n",
       "      <td>\\n - const. 1934\\n - dep. fed. prof. 1935-193...</td>\n",
       "      <td>\\n\\n«Alberto Surek» nasceu em Araucária (PR) n...</td>\n",
       "    </tr>\n",
       "    <tr>\n",
       "      <th>3</th>\n",
       "      <td>3</td>\n",
       "      <td>5039.text</td>\n",
       "      <td>SILVA, Luís Gonzaga do Nascimento e</td>\n",
       "      <td>biográfico</td>\n",
       "      <td>m</td>\n",
       "      <td>\\n - pres. BNH 1965-1966\\n - min. Trab. 1966-...</td>\n",
       "      <td>\\n\\n«Luís Gonzaga do Nascimento e Silva» nasce...</td>\n",
       "    </tr>\n",
       "    <tr>\n",
       "      <th>4</th>\n",
       "      <td>4</td>\n",
       "      <td>6193.text</td>\n",
       "      <td>PARTIDO REFORMADOR TRABALHISTA (PRT)</td>\n",
       "      <td>temático</td>\n",
       "      <td>None</td>\n",
       "      <td>NA</td>\n",
       "      <td>\\n\\n«PARTIDO REFORMADOR TRABALHISTA (PRT)»\\n\\n...</td>\n",
       "    </tr>\n",
       "  </tbody>\n",
       "</table>\n",
       "</div>"
      ],
      "text/plain": [
       "   index    arquivo                                 title    natureza  sexo  \\\n",
       "0      0  6172.text   PARTIDO POPULAR DO DISTRITO FEDERAL    temático  None   \n",
       "1      1  4361.text                        PRATES, Mílton  biográfico     m   \n",
       "2      2  5224.text                        SUREK, Alberto  biográfico     m   \n",
       "3      3  5039.text   SILVA, Luís Gonzaga do Nascimento e  biográfico     m   \n",
       "4      4  6193.text  PARTIDO REFORMADOR TRABALHISTA (PRT)    temático  None   \n",
       "\n",
       "                                              cargos  \\\n",
       "0                                                 NA   \n",
       "1     \\n - const. 1946\\n - dep. fed. MG 1946-1951 \\n   \n",
       "2   \\n - const. 1934\\n - dep. fed. prof. 1935-193...   \n",
       "3   \\n - pres. BNH 1965-1966\\n - min. Trab. 1966-...   \n",
       "4                                                 NA   \n",
       "\n",
       "                                               corpo  \n",
       "0  \\n\\n«PARTIDO POPULAR DO DISTRITO FEDERAL»\\n\\nP...  \n",
       "1  \\n\\n«Luís Mílton Prates» nasceu em Montes Clar...  \n",
       "2  \\n\\n«Alberto Surek» nasceu em Araucária (PR) n...  \n",
       "3  \\n\\n«Luís Gonzaga do Nascimento e Silva» nasce...  \n",
       "4  \\n\\n«PARTIDO REFORMADOR TRABALHISTA (PRT)»\\n\\n...  "
      ]
     },
     "execution_count": 115,
     "metadata": {},
     "output_type": "execute_result"
    }
   ],
   "source": [
    "eng = create_engine(\"sqlite:///minha_tabela.sqlite\")\n",
    "biograficos = pd.read_sql_query('select * from resultados', con=eng)\n",
    "biograficos.head()"
   ]
  },
  {
   "cell_type": "markdown",
   "metadata": {},
   "source": [
    "Apesar de nomearmos nosso DataFrame \"Biográficos\", existe uma outra natureza de verbete neste corpus, os verbetes temáticos. Vejamos um exemplo:"
   ]
  },
  {
   "cell_type": "code",
   "execution_count": 120,
   "metadata": {
    "ExecuteTime": {
     "end_time": "2021-11-08T15:26:56.162383Z",
     "start_time": "2021-11-08T15:26:56.145273Z"
    }
   },
   "outputs": [
    {
     "name": "stdout",
     "output_type": "stream",
     "text": [
      "\n",
      "\n",
      "«DIÁRIO CARIOCA»\n",
      "\n",
      "Jornal carioca diário fundado em 17 de julho de 1928 por José Eduardo de\n",
      "Macedo Soares e extinto em 31 de dezembro de 1965.\n",
      "\n",
      "## De 1928 a 1934\n",
      "\n",
      "O «Diário Carioca» nasceu com a finalidade precípua de fazer oposição ao\n",
      "governo de Washington Luís. Seu fundador, de tradicional família\n",
      "fluminense, havia saído da Marinha para a política e posteriormente para\n",
      "a imprensa, abandonando a carreira militar no posto de primeiro-tenente.\n",
      "Fundara em 1912 «O Imparcial». Embora suas atividades políticas durante a\n",
      "República Velha estivessem vinculadas ao poder institucionalizado, a\n",
      "partir de dado momento Macedo Soares passou a refletir uma das correntes\n",
      "de oposição à estrutura política vigente. Tanto isto é verdade que o\n",
      "primeiro número do «Diário Carioca» deveria ter saído a 5 de julho, para\n",
      "comemorar o sexto aniversário do levante dos 18 do Forte.\n",
      "\n",
      "Ao lado do fundador, que reservou para si a diretoria, o novo jornal\n",
      "contava em sua equipe inicial com Alberto Burle de Figueiredo na\n",
      "gerência, Leônidas de Resende na chefia da redação, Osório Borba como\n",
      "secretário, e Antenor Guimarães. Entre os primeiros colaboradores\n",
      "destacavam-se Evaristo de Morais, Virgílio de Melo Franco, Humberto de\n",
      "Campos e Adolfo Bergamini.\n",
      "\n",
      "O primeiro número do «Diário Carioca» caracterizava desde logo sua\n",
      "natureza essencialmente política. De acordo com José Eduardo de Macedo\n",
      "Soares, o objetivo do jornal era “servir ao país, traduzindo lealmente\n",
      "seus sentimentos, esclarecendo e interpretando as corrent\n"
     ]
    }
   ],
   "source": [
    "print(biograficos[biograficos.natureza=='temático'].iloc[2].corpo[:1500])"
   ]
  },
  {
   "cell_type": "markdown",
   "metadata": {},
   "source": [
    "Para começar a utilizar o Spacy, precisamos primeiro precisamos processar o texto. Nesta passagem várias análises linguísticas são realizadas."
   ]
  },
  {
   "cell_type": "code",
   "execution_count": 7,
   "metadata": {
    "ExecuteTime": {
     "end_time": "2021-11-08T15:26:57.455041Z",
     "start_time": "2021-11-08T15:26:57.367271Z"
    }
   },
   "outputs": [
    {
     "data": {
      "text/plain": [
       "spacy.tokens.doc.Doc"
      ]
     },
     "execution_count": 7,
     "metadata": {},
     "output_type": "execute_result"
    }
   ],
   "source": [
    "doc = nlp(biograficos.corpo[0].strip())\n",
    "type(doc)"
   ]
  },
  {
   "cell_type": "markdown",
   "metadata": {},
   "source": [
    "Vejamos os descritores disponíveis para cada token."
   ]
  },
  {
   "cell_type": "code",
   "execution_count": 8,
   "metadata": {
    "ExecuteTime": {
     "end_time": "2021-10-26T18:06:43.396100Z",
     "start_time": "2021-10-26T18:06:43.389748Z"
    }
   },
   "outputs": [
    {
     "name": "stdout",
     "output_type": "stream",
     "text": [
      "Texto:«,\n",
      " Lemma: «,\n",
      "Part of speech: PUNCT,\n",
      "Tag: PUNCT, \n",
      "Dep:punct,            Shape:«, \n",
      "Alpha? False, \n",
      "Stopword:False\n",
      "\n",
      "Texto:PARTIDO,\n",
      " Lemma: PARTIDO,\n",
      "Part of speech: PROPN,\n",
      "Tag: PROPN, \n",
      "Dep:ROOT,            Shape:XXXX, \n",
      "Alpha? True, \n",
      "Stopword:False\n",
      "\n",
      "Texto:POPULAR,\n",
      " Lemma: POPULAR,\n",
      "Part of speech: PROPN,\n",
      "Tag: PROPN, \n",
      "Dep:flat:name,            Shape:XXXX, \n",
      "Alpha? True, \n",
      "Stopword:False\n",
      "\n",
      "Texto:DO,\n",
      " Lemma: De O,\n",
      "Part of speech: ADP,\n",
      "Tag: ADP, \n",
      "Dep:case,            Shape:XX, \n",
      "Alpha? True, \n",
      "Stopword:True\n",
      "\n"
     ]
    }
   ],
   "source": [
    "for i, token in enumerate(doc):\n",
    "    print(f\"Texto:{token.text},\\n Lemma: {token.lemma_},\\nPart of speech: {token.pos_},\\nTag: {token.tag_}, \\nDep:{token.dep_},\\\n",
    "            Shape:{token.shape_}, \\nAlpha? {token.is_alpha}, \\nStopword:{token.is_stop}\\n\")\n",
    "    if i>2:\n",
    "        break\n",
    "    "
   ]
  },
  {
   "cell_type": "markdown",
   "metadata": {},
   "source": [
    "## Testando o NER do Spacy\n",
    "Como o Spacy já inclui algum suporte à lingua portuguesa, antes de pensar em treinar nosso próprio NER, podemos avaliar a performance do existente. \n",
    "\n",
    "Abaixo vamos construir uma visualização interativa da marcação de entidades nos verbetes do DHBB."
   ]
  },
  {
   "cell_type": "code",
   "execution_count": 50,
   "metadata": {
    "ExecuteTime": {
     "end_time": "2021-11-08T15:27:04.172611Z",
     "start_time": "2021-11-08T15:27:04.167071Z"
    }
   },
   "outputs": [],
   "source": [
    "from IPython.display import display,clear_output, HTML\n",
    "from ipywidgets import interact"
   ]
  },
  {
   "cell_type": "code",
   "execution_count": 10,
   "metadata": {
    "ExecuteTime": {
     "end_time": "2021-11-08T15:27:05.169474Z",
     "start_time": "2021-11-08T15:27:05.107867Z"
    }
   },
   "outputs": [
    {
     "data": {
      "application/vnd.jupyter.widget-view+json": {
       "model_id": "80bdc7f6cb29410d87af51dc094d32b9",
       "version_major": 2,
       "version_minor": 0
      },
      "text/plain": [
       "interactive(children=(IntSlider(value=0, description='e', max=7687), Output()), _dom_classes=('widget-interact…"
      ]
     },
     "metadata": {},
     "output_type": "display_data"
    }
   ],
   "source": [
    "@interact(e=(0, len(biograficos)))\n",
    "def mostra_ner(e=0):\n",
    "    text = biograficos.iloc[e].corpo.strip()\n",
    "    doc = nlp(text)\n",
    "    displacy.render(doc, style=\"ent\", jupyter=True)\n",
    "    clear_output(wait=True)"
   ]
  },
  {
   "cell_type": "markdown",
   "metadata": {},
   "source": [
    "Além da visualização, podemos extrair as entidades presentes em um verbete:"
   ]
  },
  {
   "cell_type": "code",
   "execution_count": 11,
   "metadata": {
    "ExecuteTime": {
     "end_time": "2021-10-26T18:13:07.712374Z",
     "start_time": "2021-10-26T18:13:07.678701Z"
    }
   },
   "outputs": [
    {
     "name": "stdout",
     "output_type": "stream",
     "text": [
      "PARTIDO POPULAR DO 1 19 ORG\n",
      "Partido 39 46 ORG\n",
      "Rio de Janeiro 59 73 LOC\n",
      "Distrito Federal 81 97 LOC\n",
      "João Câncio da Silva 134 154 PER\n",
      "Assembléia Nacional Constituinte 177 209 ORG\n",
      "Américo Basílio Silvado 253 276 PER\n",
      "Henrique de Toledo\n",
      "Dodsworth 278 306 PER\n",
      "Amélio Dias de Morais 308 329 PER\n",
      "Adolfo Bergamini 331 347 PER\n",
      "Jones Gonçalves\n",
      "Rocha 349 370 PER\n",
      "José Matoso de Sampaio 372 394 PER\n",
      "Antenor Esposel Coutinho 404 428 PER\n",
      "Inácio\n",
      "Bittencourt 430 448 PER\n",
      "Berta Lutz 450 460 PER\n",
      "Georgina de Araújo 463 481 PER\n"
     ]
    }
   ],
   "source": [
    "for ent in doc.ents:\n",
    "    print(ent.text, ent.start_char, ent.end_char, ent.label_)"
   ]
  },
  {
   "cell_type": "markdown",
   "metadata": {},
   "source": [
    "O NER incluído no Spacy não é muito preciso, como podemos ver. Mas podemos treinar uma versão melhorada seguin as [instruções da documentação do Spacy](https://spacy.io/usage/training#basics)"
   ]
  },
  {
   "cell_type": "markdown",
   "metadata": {},
   "source": [
    "Podemos ainda ver que tipos de entidades o Spacy reconhece:"
   ]
  },
  {
   "cell_type": "code",
   "execution_count": 12,
   "metadata": {},
   "outputs": [
    {
     "data": {
      "text/plain": [
       "{'LOC', 'ORG', 'PER'}"
      ]
     },
     "execution_count": 12,
     "metadata": {},
     "output_type": "execute_result"
    }
   ],
   "source": [
    "set([ent.label_ for ent in doc.ents])"
   ]
  },
  {
   "cell_type": "markdown",
   "metadata": {},
   "source": [
    "# Similaridade Semântica\n",
    "Outra análise interessante que pode ser feita sobre os verbetes do DHBB é a de similaridade semântica. Este tipo de análise se baseia em modelos vetoriais tipo \"word2vec\", que representam palavras de um corpus em um espaço semântico.\n",
    "Podemos aplicar o modelo pré-treinado do Spacy como exemplo, mas idealmente deve-se treinar estes modelos em corpora similares ao que se deseja analizar ou no próprio, como faremos no capítulo 5 deste livro."
   ]
  },
  {
   "cell_type": "code",
   "execution_count": 81,
   "metadata": {},
   "outputs": [],
   "source": [
    "import numpy as np\n",
    "import networkx as nx\n",
    "import matplotlib.pyplot as plt\n",
    "%matplotlib inline"
   ]
  },
  {
   "cell_type": "markdown",
   "metadata": {},
   "source": [
    "Construir uma rede de verbetes similares usando a uma comparação de pares de documentos é uma abordagem muito ineficiente, por isso no exemplo abaixo vamos nos restringir a 20 comparações."
   ]
  },
  {
   "cell_type": "code",
   "execution_count": 85,
   "metadata": {},
   "outputs": [
    {
     "name": "stderr",
     "output_type": "stream",
     "text": [
      "20it [01:02,  3.14s/it]\n"
     ]
    }
   ],
   "source": [
    "G = nx.Graph()\n",
    "\n",
    "for i,verb1 in tqdm(enumerate(biograficos.itertuples())):\n",
    "    for j,verb2 in enumerate(biograficos.itertuples()):\n",
    "        if j>=i:\n",
    "            continue\n",
    "        doc1 = nlp(verb1.corpo)\n",
    "        doc2 = nlp(verb2.corpo)\n",
    "        sim = doc1.similarity(doc2)\n",
    "        # print(sim)\n",
    "        if sim > 0.8:\n",
    "            G.add_edge(verb1.title, verb2.title, weight=sim)\n",
    "    if len(G.nodes)>20:\n",
    "        break\n",
    "            "
   ]
  },
  {
   "cell_type": "markdown",
   "metadata": {},
   "source": [
    "O grafo resultante, é formado por 21 nós representando cada verbete e arestas representando a similaridade entre cada par."
   ]
  },
  {
   "cell_type": "code",
   "execution_count": 86,
   "metadata": {},
   "outputs": [
    {
     "data": {
      "text/plain": [
       "21"
      ]
     },
     "execution_count": 86,
     "metadata": {},
     "output_type": "execute_result"
    }
   ],
   "source": [
    "G.order()"
   ]
  },
  {
   "cell_type": "code",
   "execution_count": 107,
   "metadata": {},
   "outputs": [
    {
     "data": {
      "image/png": "[encoded data removed]",
      "text/plain": [
       "<Figure size 432x288 with 1 Axes>"
      ]
     },
     "metadata": {},
     "output_type": "display_data"
    }
   ],
   "source": [
    "connected = [n for n, d in G.degree() if d > 0]\n",
    "fig, ax = plt.subplots()\n",
    "# Identifica verbetes conectados\n",
    "Gcc = sorted(nx.connected_components(G), key=len, reverse=True)\n",
    "G0 = G.subgraph(Gcc[0])\n",
    "#### desenha grafo ####\n",
    "pos = nx.nx_agraph.graphviz_layout(G)\n",
    "ax.set_title(f\"Similaridade\")\n",
    "# desenha aresta\n",
    "options = {\"ax\": ax, \"edge_color\": \"red\"}\n",
    "nx.draw_networkx_edges(G0, pos, width=6, **options);\n",
    "# desenha nós\n",
    "options = {\"ax\": ax, \"node_size\": 50, \"edgecolors\": \"white\"}\n",
    "nx.draw(G, pos, nodelist=connected, **options)\n",
    "fig.tight_layout()"
   ]
  },
  {
   "cell_type": "code",
   "execution_count": 101,
   "metadata": {},
   "outputs": [],
   "source": [
    "nx.write_gexf(G0,'dhbb.gexf')"
   ]
  },
  {
   "cell_type": "code",
   "execution_count": null,
   "metadata": {},
   "outputs": [],
   "source": []
  }
 ],
 "metadata": {
  "hide_input": false,
  "kernelspec": {
   "display_name": "Python 3 (ipykernel)",
   "language": "python",
   "name": "python3"
  },
  "language_info": {
   "codemirror_mode": {
    "name": "ipython",
    "version": 3
   },
   "file_extension": ".py",
   "mimetype": "text/x-python",
   "name": "python",
   "nbconvert_exporter": "python",
   "pygments_lexer": "ipython3",
   "version": "3.10.7"
  },
  "latex_envs": {
   "LaTeX_envs_menu_present": true,
   "autoclose": false,
   "autocomplete": true,
   "bibliofile": "biblio.bib",
   "cite_by": "apalike",
   "current_citInitial": 1,
   "eqLabelWithNumbers": true,
   "eqNumInitial": 1,
   "hotkeys": {
    "equation": "Ctrl-E",
    "itemize": "Ctrl-I"
   },
   "labels_anchors": false,
   "latex_user_defs": false,
   "report_style_numbering": false,
   "user_envs_cfg": false
  },
  "nbTranslate": {
   "displayLangs": [
    "*"
   ],
   "hotkey": "alt-t",
   "langInMainMenu": true,
   "sourceLang": "en",
   "targetLang": "fr",
   "useGoogleTranslate": true
  },
  "toc": {
   "base_numbering": 1,
   "nav_menu": {},
   "number_sections": true,
   "sideBar": true,
   "skip_h1_title": false,
   "title_cell": "Table of Contents",
   "title_sidebar": "Contents",
   "toc_cell": false,
   "toc_position": {},
   "toc_section_display": true,
   "toc_window_display": false
  },
  "varInspector": {
   "cols": {
    "lenName": 16,
    "lenType": 16,
    "lenVar": 40
   },
   "kernels_config": {
    "python": {
     "delete_cmd_postfix": "",
     "delete_cmd_prefix": "del ",
     "library": "var_list.py",
     "varRefreshCmd": "print(var_dic_list())"
    },
    "r": {
     "delete_cmd_postfix": ") ",
     "delete_cmd_prefix": "rm(",
     "library": "var_list.r",
     "varRefreshCmd": "cat(var_dic_list()) "
    }
   },
   "types_to_exclude": [
    "module",
    "function",
    "builtin_function_or_method",
    "instance",
    "_Feature"
   ],
   "window_display": false
  }
 },
 "nbformat": 4,
 "nbformat_minor": 4
}
