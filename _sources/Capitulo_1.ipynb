{
 "cells": [
  {
   "cell_type": "markdown",
   "metadata": {},
   "source": [
    "# Abrindo Arquivos de Texto\n",
    "Neste curso de mineração de textos usaremos como material principal de trabalho, os verbetes do Dicionário Histórico e Biográfico do Brasil -- DHBB. Estes verbetes stão disponíveis para Download público.\n",
    "\n",
    "Neste capítulo vamos aprender a interagir com os verbetes no disco e extrair informações simples a partir dos mesmos.\n",
    "\n",
    "Vamos começar importando alguma bibliotecas que nos serão úteis nesta tarefa:"
   ]
  },
  {
   "cell_type": "code",
   "execution_count": 1,
   "metadata": {
    "tags": [
     "hide-input"
    ],
    "ExecuteTime": {
     "end_time": "2023-10-11T11:46:31.715149951Z",
     "start_time": "2023-10-11T11:46:31.631184443Z"
    }
   },
   "outputs": [],
   "source": [
    "import warnings\n",
    "warnings.filterwarnings('ignore')"
   ]
  },
  {
   "cell_type": "code",
   "execution_count": 2,
   "metadata": {
    "ExecuteTime": {
     "end_time": "2023-10-11T11:46:31.765872558Z",
     "start_time": "2023-10-11T11:46:31.687892094Z"
    }
   },
   "outputs": [],
   "source": [
    "import os\n",
    "import glob"
   ]
  },
  {
   "cell_type": "code",
   "execution_count": 3,
   "metadata": {
    "ExecuteTime": {
     "end_time": "2023-10-11T11:46:33.778640476Z",
     "start_time": "2023-10-11T11:46:33.636551065Z"
    }
   },
   "outputs": [
    {
     "name": "stdout",
     "output_type": "stream",
     "text": [
      "alô turma!\n"
     ]
    }
   ],
   "source": [
    "print(\"alô turma!\")"
   ]
  },
  {
   "cell_type": "markdown",
   "metadata": {},
   "source": [
    "Assumindo que os dados do DHBB já foram baixados para um diretório local, podemos começar inspecionando o diretório e listando o seu conteúdo."
   ]
  },
  {
   "cell_type": "code",
   "execution_count": 11,
   "metadata": {
    "ExecuteTime": {
     "end_time": "2023-10-11T11:47:10.451098828Z",
     "start_time": "2023-10-11T11:47:10.147523601Z"
    }
   },
   "outputs": [
    {
     "data": {
      "text/plain": "7838"
     },
     "execution_count": 11,
     "metadata": {},
     "output_type": "execute_result"
    }
   ],
   "source": [
    "# caminho = \"F:/dhbb-master/text/*.text\"\n",
    "caminho = \"../dhbb/text/*.text\"\n",
    "arquivos  = glob.glob(caminho)\n",
    "len(arquivos)"
   ]
  },
  {
   "cell_type": "markdown",
   "metadata": {},
   "source": [
    "Temos 7838 verbetes neste diretório. Vamos agora ver como abrir um destes verbetes e inspecionar o seu conteúdo:"
   ]
  },
  {
   "cell_type": "code",
   "execution_count": 12,
   "metadata": {
    "ExecuteTime": {
     "end_time": "2023-10-11T11:47:13.143002468Z",
     "start_time": "2023-10-11T11:47:13.083794262Z"
    }
   },
   "outputs": [
    {
     "data": {
      "text/plain": "'../dhbb/text/4736.text'"
     },
     "execution_count": 12,
     "metadata": {},
     "output_type": "execute_result"
    }
   ],
   "source": [
    "arquivos[0]"
   ]
  },
  {
   "cell_type": "markdown",
   "metadata": {},
   "source": [
    "Para abrir um arquivo utilizamos um bloco `with`."
   ]
  },
  {
   "cell_type": "code",
   "execution_count": 13,
   "metadata": {
    "ExecuteTime": {
     "end_time": "2023-10-11T11:47:15.291617196Z",
     "start_time": "2023-10-11T11:47:15.235181002Z"
    }
   },
   "outputs": [
    {
     "name": "stdout",
     "output_type": "stream",
     "text": [
      "---\n",
      "title: RUBIM, Floriano\n",
      "natureza: biográfico\n",
      "sexo: m\n",
      "cargos: \n",
      " - militar\n",
      " - dep. fed. ES 1955-1959\n",
      " - dep. fed. ES 1963-1971\n",
      "---\n",
      "\n",
      "«Floriano Lopes Rubim» nasceu em Alegre (ES) no dia 18 de janeiro de\n",
      "1912, filho de Francisco Lopes Rubim, funcionário público, e de Maria\n",
      "Sílvia Lousada Rubim.\n",
      "\n",
      "Bacharel em ciências jurídicas e sociais pela Faculdade de Direito da\n",
      "Universidade do Espírito Santo, formou-se também na Escola de Educação\n",
      "Física do Rio de Janeiro, então Distrito Federal, em 1941. Nesse mesmo\n",
      "ano ingressou na Força Policial do Espírito Santo, onde faria carreira.\n",
      "Participou da campanha militar brasileira na Itália durante a Segunda\n",
      "Guerra Mundial (1939-1945), retornando ao Brasil em 1945, ao término do\n",
      "conflito.\n",
      "\n",
      "Em 1946 assumiu a direção da Penitenciária do Estado do Espírito Santo,\n",
      "que ocupou até o ano seguinte. Em 1948 passou a ajudante-de-ordens na\n",
      "Casa Militar do governador do Espírito Santo, Carlos Lindenberg\n",
      "(1947-1951), função que exerceu até 1949. Em outubro de 1950 elegeu-se\n",
      "deputado estadual pelo Espírito Santo, na legenda do Partido Trabalhista\n",
      "Brasileiro (PTB). Para assumir o mandato, foi reformado na Força\n",
      "Policial do estado no posto de coronel, ocupando a sua cadeira no\n",
      "Legislativo em fevereiro de 1951. Nessa legislatura integrou as\n",
      "comissões de Educação e Cultura e de Justiça da Assembléia capixaba.\n",
      "\n",
      "Em outubro de 1954 elegeu-se deputado federal por seu estado, agora com\n",
      "o apoio da Coligação Democrática formada pelo PTB e pelos partidos\n",
      "Republicano (PR), de Representação Popular (PRP) e Social Progressista\n",
      "(PSP). Encerrou o mandato estadual em janeiro de 1955, assumindo no mês\n",
      "seguinte sua cadeira na Câmara Federal. Ocupou-a, no entanto, apenas de\n",
      "2 a 9 de fevereiro, quando se licenciou para assumir a Secretaria de\n",
      "Viação e Obras Públicas do Espírito Santo no governo de Francisco\n",
      "Lacerda de Aguiar (1955-1959). Em abril reassumiu o mandato parlamentar\n",
      "e, até o fim da legislatura, foi vice-presidente da Comissão de\n",
      "Segurança Nacional da Câmara. Em maio de 1957, tornou-se vice-líder do\n",
      "PTB. Em outubro de 1958 tentou a reeleição, na mesma legenda, mas obteve\n",
      "apenas uma suplência. Concluiu o mandato em janeiro de 1959.\n",
      "\n",
      "Em 1960, participou da campanha de Jânio Quadros para a presidência da\n",
      "República, filiando-se ao Partido Democrata Cristão (PDC). No entanto,\n",
      "no dia seguinte ao pleito realizado em outubro e vencido por Jânio,\n",
      "desligou-se do PDC, filiando-se ao Partido Trabalhista Nacional (PTN).\n",
      "Em outubro de 1962 voltou a se eleger deputado federal com o apoio da\n",
      "coligação formada pelo PTN e o Partido Social Democrático (PSD). Assumiu\n",
      "o mandato em fevereiro de 1963, tornando-se vice-líder do partido na\n",
      "Câmara em junho do ano seguinte.\n",
      "\n",
      "Com a edição do Ato Institucional nº 2 (AI-2), em 27 de outubro de 1965,\n",
      "extinguindo os partidos políticos, e com a posterior implantação do\n",
      "bipartidarismo, filiou-se à Aliança Renovadora Nacional (Arena), partido\n",
      "de apoio ao regime militar instalado no país após a deposição do\n",
      "presidente João Goulart em 31 de março de 1964.\n",
      "\n",
      "Em novembro de 1966 reelegeu-se deputado federal pelo Espírito Santo, já\n",
      "na legenda da Arena, exercendo o mandato de fevereiro de 1967 a janeiro\n",
      "de 1971.\n",
      "\n",
      "Fundou a Imexferral Ltda., empresa de sua propriedade.\n",
      "\n",
      "Faleceu no dia 4 de maio de 1997.\n"
     ]
    }
   ],
   "source": [
    "with open(arquivos[0],'r', encoding='utf8') as arquivo_aberto:\n",
    "    verbete = arquivo_aberto.read()\n",
    "print(verbete)"
   ]
  },
  {
   "cell_type": "markdown",
   "metadata": {},
   "source": [
    "Uma outra maneira de abrir um arquivo, seria como se segue, mas teríamos que usar uma linha de código a mais, para fechar o arquivo, que podemos economizar, lendo o arquivo dentro de um bloco `with` como fizemos anteriormente."
   ]
  },
  {
   "cell_type": "code",
   "execution_count": 14,
   "metadata": {
    "ExecuteTime": {
     "end_time": "2023-10-11T11:47:17.850427012Z",
     "start_time": "2023-10-11T11:47:17.819322378Z"
    }
   },
   "outputs": [],
   "source": [
    "arquivo_aberto = open(arquivos[0], 'r', encoding='utf8')\n",
    "verbete = arquivo_aberto.read()\n",
    "arquivo_aberto.close()"
   ]
  },
  {
   "cell_type": "markdown",
   "metadata": {},
   "source": [
    "A variável **verbete** que criamos na célula anterior é uma variável do tipo `string`, que é a otipo usado pelo Python para representar um bloco de texto. Podemos manipular o texto dentro de uma `string` de diversas maneiras:"
   ]
  },
  {
   "cell_type": "code",
   "execution_count": 15,
   "metadata": {
    "ExecuteTime": {
     "end_time": "2023-10-11T11:47:20.795154702Z",
     "start_time": "2023-10-11T11:47:20.764864978Z"
    }
   },
   "outputs": [
    {
     "data": {
      "text/plain": "str"
     },
     "execution_count": 15,
     "metadata": {},
     "output_type": "execute_result"
    }
   ],
   "source": [
    "type(verbete)"
   ]
  },
  {
   "cell_type": "code",
   "execution_count": 16,
   "metadata": {
    "ExecuteTime": {
     "end_time": "2023-10-11T11:47:22.408511445Z",
     "start_time": "2023-10-11T11:47:22.336349430Z"
    }
   },
   "outputs": [
    {
     "name": "stdout",
     "output_type": "stream",
     "text": [
      "\n",
      "title: RUBIM, Floriano\n",
      "natureza: biográfico\n",
      "sexo: m\n",
      "cargos: \n",
      " - militar\n",
      " - dep. fed. ES 1955-1959\n",
      " - dep. fed. ES 1963-1971\n"
     ]
    }
   ],
   "source": [
    "print(verbete.split('---')[1])"
   ]
  },
  {
   "cell_type": "markdown",
   "metadata": {},
   "source": [
    "Tipos de dados em Python, também conhecidos como  objetos, possuem métodos. O método `split` do tipo `string` segmenta uma string nas posicões em que ocorram uma sequência específica de caracteres, retornando um outro tipo de dado, denominado `lista`."
   ]
  },
  {
   "cell_type": "code",
   "execution_count": 17,
   "metadata": {
    "ExecuteTime": {
     "end_time": "2023-10-11T11:47:27.517643080Z",
     "start_time": "2023-10-11T11:47:27.437107669Z"
    }
   },
   "outputs": [
    {
     "data": {
      "text/plain": "list"
     },
     "execution_count": 17,
     "metadata": {},
     "output_type": "execute_result"
    }
   ],
   "source": [
    "type(verbete.split('---'))"
   ]
  },
  {
   "cell_type": "markdown",
   "metadata": {},
   "source": [
    "Listas são sequências de objetos de quaisquer tipos que também apresentam seu conjunto de métodos. Para descobrir os métodos de qualquer objeto, basta colocar um ponto após o nome da variável e pressionar a tecla `<tab>`. Listas são delimitadas por colchetes: `[]` (lista vazia). Abaixo vamos dividir o verbete em uma lista de `strings`."
   ]
  },
  {
   "cell_type": "code",
   "execution_count": 18,
   "metadata": {
    "ExecuteTime": {
     "end_time": "2023-10-11T11:47:29.801653907Z",
     "start_time": "2023-10-11T11:47:29.722088375Z"
    }
   },
   "outputs": [
    {
     "data": {
      "text/plain": "['',\n '\\ntitle: RUBIM, Floriano\\nnatureza: biográfico\\nsexo: m\\ncargos: \\n - militar\\n - dep. fed. ES 1955-1959\\n - dep. fed. ES 1963-1971\\n',\n '\\n\\n«Floriano Lopes Rubim» nasceu em Alegre (ES) no dia 18 de janeiro de\\n1912, filho de Francisco Lopes Rubim, funcionário público, e de Maria\\nSílvia Lousada Rubim.\\n\\nBacharel em ciências jurídicas e sociais pela Faculdade de Direito da\\nUniversidade do Espírito Santo, formou-se também na Escola de Educação\\nFísica do Rio de Janeiro, então Distrito Federal, em 1941. Nesse mesmo\\nano ingressou na Força Policial do Espírito Santo, onde faria carreira.\\nParticipou da campanha militar brasileira na Itália durante a Segunda\\nGuerra Mundial (1939-1945), retornando ao Brasil em 1945, ao término do\\nconflito.\\n\\nEm 1946 assumiu a direção da Penitenciária do Estado do Espírito Santo,\\nque ocupou até o ano seguinte. Em 1948 passou a ajudante-de-ordens na\\nCasa Militar do governador do Espírito Santo, Carlos Lindenberg\\n(1947-1951), função que exerceu até 1949. Em outubro de 1950 elegeu-se\\ndeputado estadual pelo Espírito Santo, na legenda do Partido Trabalhista\\nBrasileiro (PTB). Para assumir o mandato, foi reformado na Força\\nPolicial do estado no posto de coronel, ocupando a sua cadeira no\\nLegislativo em fevereiro de 1951. Nessa legislatura integrou as\\ncomissões de Educação e Cultura e de Justiça da Assembléia capixaba.\\n\\nEm outubro de 1954 elegeu-se deputado federal por seu estado, agora com\\no apoio da Coligação Democrática formada pelo PTB e pelos partidos\\nRepublicano (PR), de Representação Popular (PRP) e Social Progressista\\n(PSP). Encerrou o mandato estadual em janeiro de 1955, assumindo no mês\\nseguinte sua cadeira na Câmara Federal. Ocupou-a, no entanto, apenas de\\n2 a 9 de fevereiro, quando se licenciou para assumir a Secretaria de\\nViação e Obras Públicas do Espírito Santo no governo de Francisco\\nLacerda de Aguiar (1955-1959). Em abril reassumiu o mandato parlamentar\\ne, até o fim da legislatura, foi vice-presidente da Comissão de\\nSegurança Nacional da Câmara. Em maio de 1957, tornou-se vice-líder do\\nPTB. Em outubro de 1958 tentou a reeleição, na mesma legenda, mas obteve\\napenas uma suplência. Concluiu o mandato em janeiro de 1959.\\n\\nEm 1960, participou da campanha de Jânio Quadros para a presidência da\\nRepública, filiando-se ao Partido Democrata Cristão (PDC). No entanto,\\nno dia seguinte ao pleito realizado em outubro e vencido por Jânio,\\ndesligou-se do PDC, filiando-se ao Partido Trabalhista Nacional (PTN).\\nEm outubro de 1962 voltou a se eleger deputado federal com o apoio da\\ncoligação formada pelo PTN e o Partido Social Democrático (PSD). Assumiu\\no mandato em fevereiro de 1963, tornando-se vice-líder do partido na\\nCâmara em junho do ano seguinte.\\n\\nCom a edição do Ato Institucional nº 2 (AI-2), em 27 de outubro de 1965,\\nextinguindo os partidos políticos, e com a posterior implantação do\\nbipartidarismo, filiou-se à Aliança Renovadora Nacional (Arena), partido\\nde apoio ao regime militar instalado no país após a deposição do\\npresidente João Goulart em 31 de março de 1964.\\n\\nEm novembro de 1966 reelegeu-se deputado federal pelo Espírito Santo, já\\nna legenda da Arena, exercendo o mandato de fevereiro de 1967 a janeiro\\nde 1971.\\n\\nFundou a Imexferral Ltda., empresa de sua propriedade.\\n\\nFaleceu no dia 4 de maio de 1997.\\n\\n']"
     },
     "execution_count": 18,
     "metadata": {},
     "output_type": "execute_result"
    }
   ],
   "source": [
    "l = verbete.split('---')\n",
    "l"
   ]
  },
  {
   "cell_type": "markdown",
   "metadata": {},
   "source": [
    "Note que nas strings acima existem várias ocorrências da sequencia de caracteres `'\\n'`. Esta sequência identifica quebra de linhas. Podemos então utilizá-la para dividir o cabeçalho do verbete em uma lista de linhas:"
   ]
  },
  {
   "cell_type": "code",
   "execution_count": 19,
   "metadata": {
    "ExecuteTime": {
     "end_time": "2023-10-11T11:47:36.036524365Z",
     "start_time": "2023-10-11T11:47:35.954185493Z"
    }
   },
   "outputs": [
    {
     "data": {
      "text/plain": "['',\n 'title: RUBIM, Floriano',\n 'natureza: biográfico',\n 'sexo: m',\n 'cargos: ',\n ' - militar',\n ' - dep. fed. ES 1955-1959',\n ' - dep. fed. ES 1963-1971']"
     },
     "execution_count": 19,
     "metadata": {},
     "output_type": "execute_result"
    }
   ],
   "source": [
    "cabeçalho = verbete.split('---')[1]\n",
    "cabeçalho.splitlines()"
   ]
  },
  {
   "cell_type": "markdown",
   "metadata": {},
   "source": [
    "Elementos de uma lista podem ser acessado por sua posição na sequência, por exemplo para acessar a 3ª string da lista:"
   ]
  },
  {
   "cell_type": "code",
   "execution_count": 20,
   "metadata": {
    "ExecuteTime": {
     "end_time": "2023-10-11T11:47:38.301981079Z",
     "start_time": "2023-10-11T11:47:38.225542562Z"
    }
   },
   "outputs": [
    {
     "name": "stdout",
     "output_type": "stream",
     "text": [
      "\n",
      "\n",
      "«Floriano Lopes Rubim» nasceu em Alegre (ES) no dia 18 de janeiro de\n",
      "1912, filho de Francisco Lopes Rubim, funcionário público, e de Maria\n",
      "Sílvia Lousada Rubim.\n",
      "\n",
      "Bacharel em ciências jurídicas e sociais pela Faculdade de Direito da\n",
      "Universidade do Espírito Santo, formou-se também na Escola de Educação\n",
      "Física do Rio de Janeiro, então Distrito Federal, em 1941. Nesse mesmo\n",
      "ano ingressou na Força Policial do Espírito Santo, onde faria carreira.\n",
      "Participou da campanha militar brasileira na Itália durante a Segunda\n",
      "Guerra Mundial (1939-1945), retornando ao Brasil em 1945, ao término do\n",
      "conflito.\n",
      "\n",
      "Em 1946 assumiu a direção da Penitenciária do Estado do Espírito Santo,\n",
      "que ocupou até o ano seguinte. Em 1948 passou a ajudante-de-ordens na\n",
      "Casa Militar do governador do Espírito Santo, Carlos Lindenberg\n",
      "(1947-1951), função que exerceu até 1949. Em outubro de 1950 elegeu-se\n",
      "deputado estadual pelo Espírito Santo, na legenda do Partido Trabalhista\n",
      "Brasileiro (PTB). Para assumir o mandato, foi reformado na Força\n",
      "Policial do estado no posto de coronel, ocupando a sua cadeira no\n",
      "Legislativo em fevereiro de 1951. Nessa legislatura integrou as\n",
      "comissões de Educação e Cultura e de Justiça da Assembléia capixaba.\n",
      "\n",
      "Em outubro de 1954 elegeu-se deputado federal por seu estado, agora com\n",
      "o apoio da Coligação Democrática formada pelo PTB e pelos partidos\n",
      "Republicano (PR), de Representação Popular (PRP) e Social Progressista\n",
      "(PSP). Encerrou o mandato estadual em janeiro de 1955, assumindo no mês\n",
      "seguinte sua cadeira na Câmara Federal. Ocupou-a, no entanto, apenas de\n",
      "2 a 9 de fevereiro, quando se licenciou para assumir a Secretaria de\n",
      "Viação e Obras Públicas do Espírito Santo no governo de Francisco\n",
      "Lacerda de Aguiar (1955-1959). Em abril reassumiu o mandato parlamentar\n",
      "e, até o fim da legislatura, foi vice-presidente da Comissão de\n",
      "Segurança Nacional da Câmara. Em maio de 1957, tornou-se vice-líder do\n",
      "PTB. Em outubro de 1958 tentou a reeleição, na mesma legenda, mas obteve\n",
      "apenas uma suplência. Concluiu o mandato em janeiro de 1959.\n",
      "\n",
      "Em 1960, participou da campanha de Jânio Quadros para a presidência da\n",
      "República, filiando-se ao Partido Democrata Cristão (PDC). No entanto,\n",
      "no dia seguinte ao pleito realizado em outubro e vencido por Jânio,\n",
      "desligou-se do PDC, filiando-se ao Partido Trabalhista Nacional (PTN).\n",
      "Em outubro de 1962 voltou a se eleger deputado federal com o apoio da\n",
      "coligação formada pelo PTN e o Partido Social Democrático (PSD). Assumiu\n",
      "o mandato em fevereiro de 1963, tornando-se vice-líder do partido na\n",
      "Câmara em junho do ano seguinte.\n",
      "\n",
      "Com a edição do Ato Institucional nº 2 (AI-2), em 27 de outubro de 1965,\n",
      "extinguindo os partidos políticos, e com a posterior implantação do\n",
      "bipartidarismo, filiou-se à Aliança Renovadora Nacional (Arena), partido\n",
      "de apoio ao regime militar instalado no país após a deposição do\n",
      "presidente João Goulart em 31 de março de 1964.\n",
      "\n",
      "Em novembro de 1966 reelegeu-se deputado federal pelo Espírito Santo, já\n",
      "na legenda da Arena, exercendo o mandato de fevereiro de 1967 a janeiro\n",
      "de 1971.\n",
      "\n",
      "Fundou a Imexferral Ltda., empresa de sua propriedade.\n",
      "\n",
      "Faleceu no dia 4 de maio de 1997.\n"
     ]
    }
   ],
   "source": [
    "print(l[2])"
   ]
  },
  {
   "cell_type": "markdown",
   "metadata": {},
   "source": [
    "Muitas vezes, as atrings podem vir acompanhadas de um ou mais espaços no ínicio ou no fim. Para removê-los podemos usar o método `strip` como exemplificado abaixo. Caso queiramos remover apenas os espaços no início ou no fim, podemos usar `lstrip` ou `rstrip`, respectivamente."
   ]
  },
  {
   "cell_type": "code",
   "execution_count": 21,
   "metadata": {
    "ExecuteTime": {
     "end_time": "2023-10-11T11:47:40.632567213Z",
     "start_time": "2023-10-11T11:47:40.531995329Z"
    }
   },
   "outputs": [
    {
     "data": {
      "text/plain": "'gjsldfkgj'"
     },
     "execution_count": 21,
     "metadata": {},
     "output_type": "execute_result"
    }
   ],
   "source": [
    "\"   gjsldfkgj    \".strip()"
   ]
  },
  {
   "cell_type": "markdown",
   "metadata": {},
   "source": [
    "Um outro tipo de estrutura de dados fundamental no Python, é chamado um dicionário, e é denotado por um conjunto de pares de (chave: valor). Abaixo vamos construir um dicionário com os campos de um verbete."
   ]
  },
  {
   "cell_type": "code",
   "execution_count": 22,
   "metadata": {
    "ExecuteTime": {
     "end_time": "2023-10-11T11:47:42.967641152Z",
     "start_time": "2023-10-11T11:47:42.836135069Z"
    }
   },
   "outputs": [
    {
     "data": {
      "text/plain": "{'title': 'RUBIM, Floriano',\n 'natureza': 'biográfico',\n 'sexo': 'm',\n 'cargos': ''}"
     },
     "execution_count": 22,
     "metadata": {},
     "output_type": "execute_result"
    }
   ],
   "source": [
    "campos = {l.split(':')[0].strip() :l.split(':')[1].strip() for l in cabeçalho.split('\\n') if l and ':' in l}\n",
    "campos"
   ]
  },
  {
   "cell_type": "markdown",
   "metadata": {},
   "source": [
    "No exemplo acima usamos um laço `for` para percorrer repetidamente o campos do cabeçalho e inseri-los um-a-um no dicionário, em apenas uma linha de código. esta maneira de prencher o dicionário é chamada de *\"dict comprehension\"*. Para entendermos melhor como funciona um laço for, e exatament a sequencia de operações realizada acima, vamos escrever \"por extenso\" o código acima."
   ]
  },
  {
   "cell_type": "code",
   "execution_count": 23,
   "metadata": {
    "ExecuteTime": {
     "end_time": "2023-10-11T11:47:45.029743600Z",
     "start_time": "2023-10-11T11:47:44.970569865Z"
    }
   },
   "outputs": [
    {
     "data": {
      "text/plain": "{'title': 'RUBIM, Floriano',\n 'natureza': 'biográfico',\n 'sexo': 'm',\n 'cargos': ''}"
     },
     "execution_count": 23,
     "metadata": {},
     "output_type": "execute_result"
    }
   ],
   "source": [
    "campos = {}\n",
    "for linha in cabeçalho.split('\\n'):\n",
    "    if linha and ':' in linha:\n",
    "        chave, valor = linha.split(':')\n",
    "        campos[chave.strip()] = valor.strip()\n",
    "\n",
    "campos"
   ]
  },
  {
   "cell_type": "markdown",
   "metadata": {},
   "source": [
    "## Exercícios"
   ]
  },
  {
   "cell_type": "markdown",
   "metadata": {},
   "source": [
    "Construa para 5 verbetes, um dicionário com o seguinte conteúdo: `{\"nome-do-cargo\":\"período\"}` para todos os cargos de cada verbetado."
   ]
  },
  {
   "cell_type": "code",
   "execution_count": 24,
   "metadata": {
    "ExecuteTime": {
     "end_time": "2023-10-11T11:47:47.086174547Z",
     "start_time": "2023-10-11T11:47:47.023445895Z"
    }
   },
   "outputs": [
    {
     "name": "stdout",
     "output_type": "stream",
     "text": [
      "{'empresário': 'NA', 'autor:': 'NA', 'Maria Ester Lopes': 'Moreira'}\n",
      "{'dep. fed. TO': '2007'}\n",
      "{'militar': 'NA', 'rev.': '1930', 'dep. fed. MG': '1959-1979'}\n",
      "{'magistrado': 'NA', 'min. STF': '2003-2012', 'autor:': 'NA', 'Eduardo': 'Junqueira', 'Raimundo': 'Hélio'}\n",
      "{'magistrada': 'NA', 'min. STF': '2006', 'pres. STF': '2016', 'autor:': 'NA', 'Eduardo': 'Junqueira', 'Raimundo': 'Hélio', 'Regina Hippolito': '(atualização)'}\n",
      "{'dep. fed. PR': '1999'}\n",
      "{'magistrado': 'NA', 'min. STF': '2006', 'autor:': 'NA', 'Eduardo': 'Junqueira'}\n",
      "{'dep. fed. SC': '1971-1979'}\n",
      "4\n"
     ]
    }
   ],
   "source": [
    "def pega_cabeçalho(caminho, natureza):\n",
    "    with open(caminho, 'r', encoding='utf8') as verb:\n",
    "        cabeçalho = verb.read().split('---')[1]\n",
    "    if natureza in cabeçalho:\n",
    "        return cabeçalho\n",
    "    else:\n",
    "        return\n",
    "\n",
    "respostas = []\n",
    "for verbete in arquivos[10:18]:\n",
    "    resposta = {}\n",
    "    cabeçalho = pega_cabeçalho(verbete, 'biográfico')\n",
    "\n",
    "    if cabeçalho is None:\n",
    "        continue\n",
    "\n",
    "    cargos = cabeçalho.split('cargos:')[1]\n",
    "    lista_de_cargos = [cargo.strip('- ') for cargo in cargos.splitlines() if cargo.strip('- ') != \"\"]\n",
    "    for cargo in lista_de_cargos:\n",
    "        partes = cargo.split()\n",
    "        if len(partes) > 1:\n",
    "            per = partes[-1]\n",
    "            nome = ' '.join(partes[:-1])\n",
    "        else:\n",
    "            nome = partes[0]\n",
    "            per = \"NA\"\n",
    "        resposta[nome] = per\n",
    "    respostas.append(resposta)\n",
    "#     print(cargos)\n",
    "    print(resposta)\n",
    "print(sum([1 for r in respostas if 'autor:' in r]))"
   ]
  },
  {
   "cell_type": "markdown",
   "metadata": {},
   "source": [
    "Na célula acima contruímos uma variável de tipo *Dicionário*, que é basicamente um conjunto de pares, delimitado por `{}`. Estes pares são chamados pares `chave: valor`, como dissemos anteriormente."
   ]
  },
  {
   "cell_type": "markdown",
   "metadata": {},
   "source": [
    "\n",
    "Modifique o código acima para criar outro dicionário com a seguinte estrutura:\n",
    "```python\n",
    "{\n",
    "    \"nome\": [\"nome do verbetado\", \"nome do verbetado\", ...],\n",
    "    \"cargo\":[cargo 1, cargo2, ...],\n",
    "    \"início\": [1987,1987, ...],\n",
    "    \"fim\": [1988, 1991, ...]\n",
    "}\n",
    "```"
   ]
  },
  {
   "cell_type": "code",
   "execution_count": 25,
   "metadata": {
    "ExecuteTime": {
     "end_time": "2023-10-11T11:47:49.332191831Z",
     "start_time": "2023-10-11T11:47:49.298992728Z"
    }
   },
   "outputs": [
    {
     "data": {
      "text/plain": "['1932-', '1937']"
     },
     "execution_count": 25,
     "metadata": {},
     "output_type": "execute_result"
    }
   ],
   "source": [
    "import re\n",
    "regex = re.compile('([0-9-]{4,5})')\n",
    "cargo = \" - emb. Itália no Brasil 1932-1937\"\n",
    "re.findall(regex,cargo)"
   ]
  },
  {
   "cell_type": "code",
   "execution_count": 26,
   "metadata": {
    "ExecuteTime": {
     "end_time": "2023-10-11T11:47:51.070576764Z",
     "start_time": "2023-10-11T11:47:50.550649065Z"
    }
   },
   "outputs": [],
   "source": [
    "import re\n",
    "regex = re.compile('([0-9-]{4,5})')\n",
    "resposta = {\"nome\": [], \"cargo\":[], \"sexo\":[], \"inicio\":[], \"fim\":[]}\n",
    "for verbete in arquivos:\n",
    "    cabeçalho = pega_cabeçalho(verbete, 'biográfico')\n",
    "    if cabeçalho is None:\n",
    "        continue\n",
    "    cabeçalho = cabeçalho.split('autor:')[0]\n",
    "    \n",
    "    linhas = cabeçalho.splitlines()\n",
    "    \n",
    "    cargos = cabeçalho.split('cargos:')[1]\n",
    "    lista_de_cargos = [cargo.strip('- ') for cargo in cargos.splitlines() if cargo.strip('- ') != \"\"]\n",
    "    for cargo in lista_de_cargos:\n",
    "        resposta['nome'].append([linha.split(':')[1].strip() for linha in linhas if linha.startswith('title:')][0])\n",
    "        try:\n",
    "            resposta['sexo'].append([linha.split(':')[1].strip() for linha in linhas if linha.startswith('sexo:')][0])\n",
    "        except IndexError:\n",
    "            resposta['sexo'].append('NA')\n",
    "            print(\"sexo: \")\n",
    "            print(cabeçalho)\n",
    "        m = re.findall(regex,cargo)\n",
    "        if m:\n",
    "            corte = cargo.index(m[0])\n",
    "            partes = (cargo[:corte], cargo[corte:])\n",
    "        else:\n",
    "            partes = [cargo]\n",
    "        if len(partes) > 1:\n",
    "            per = m\n",
    "            nome = partes[0]\n",
    "            try:\n",
    "                resposta['inicio'].append(int(m[0].strip('-')))\n",
    "            except ValueError: \n",
    "                resposta['inicio'].append('NA')\n",
    "                #print(\"inicio:\", per, per.split('-')[0])\n",
    "                print(cabeçalho)\n",
    "            if len(per)>1:\n",
    "                try:\n",
    "                    resposta['fim'].append(int(m[1]))\n",
    "                except ValueError:\n",
    "                    resposta['fim'].append(\"NA\")\n",
    "                    print(\"fim:\", per, m[1])\n",
    "            else:\n",
    "                resposta['fim'].append(\"NA\")\n",
    "        else:\n",
    "            nome = partes[0]\n",
    "            resposta['inicio'].append(\"NA\")\n",
    "            resposta['fim'].append(\"NA\")\n",
    "        resposta['cargo'].append(nome.strip())\n",
    "        \n",
    "\n",
    "#     print(cargos)\n",
    "   # print(resposta)\n",
    "#print(sum([1 for r in resposta if 'autor:' in r]))"
   ]
  },
  {
   "cell_type": "code",
   "execution_count": 27,
   "metadata": {
    "ExecuteTime": {
     "end_time": "2023-10-11T11:47:51.797933993Z",
     "start_time": "2023-10-11T11:47:51.713592665Z"
    }
   },
   "outputs": [
    {
     "name": "stdout",
     "output_type": "stream",
     "text": [
      "\n",
      "title: KRÜGER, Nivaldo\n",
      "natureza: biográfico\n",
      "sexo: m\n",
      "cargos: \n",
      " - dep. fed. PR 1979-1983\n",
      " - sen. PR 2002-2003\n"
     ]
    }
   ],
   "source": [
    "print(pega_cabeçalho(arquivos[3], 'biográfico'))"
   ]
  },
  {
   "cell_type": "markdown",
   "metadata": {},
   "source": [
    "## Abrindo um grande número de documentos texto\n",
    "Como vimos acima existem 7687 verbetes à nossa disposição no disco, mas não podemos abrir todos ao mesmo tempo pois, em primeiro lugar podem não caber na memória, em segundo lugar raramente precisaremos inpecioná-los todos ao mesmo tempo. O mais comum é analisá-los em sequência. Vamos inspecionar os primeiros 10:"
   ]
  },
  {
   "cell_type": "code",
   "execution_count": 28,
   "metadata": {
    "ExecuteTime": {
     "end_time": "2023-10-11T11:47:54.074125600Z",
     "start_time": "2023-10-11T11:47:54.045400113Z"
    }
   },
   "outputs": [
    {
     "name": "stdout",
     "output_type": "stream",
     "text": [
      "Verbete:  4736\n",
      "title: RUBIM, Floriano\n",
      "\n",
      "Verbete:  1376\n",
      "title: COELHO, Inocêncio Mártires\n",
      "\n",
      "Verbete:  732\n",
      "title: BOPP, Raul\n",
      "\n",
      "Verbete:  2669\n",
      "title: KRÜGER, Nivaldo\n",
      "\n",
      "Verbete:  6310\n",
      "title: POLÍTICA DE CLIENTELA\n",
      "\n",
      "Verbete:  3752\n",
      "title: NASCIMENTO, César\n",
      "\n",
      "Verbete:  10928\n",
      "title: COLA, Camilo\n",
      "\n",
      "Verbete:  3756\n",
      "title: NASCIMENTO, Paulo\n",
      "\n",
      "Verbete:  41\n",
      "title: ADEODATO, Francisco\n",
      "\n",
      "Verbete:  11169\n",
      "title: LIMA, Eliene\n"
     ]
    }
   ],
   "source": [
    "for a in arquivos[:10]:\n",
    "    with open (a, 'r', encoding='utf8') as f:\n",
    "        verbete = f.readlines()\n",
    "    print('Verbete: ', a.split('.text')[0].split('/')[-1])\n",
    "    print(verbete[1])"
   ]
  },
  {
   "cell_type": "code",
   "execution_count": 29,
   "metadata": {
    "ExecuteTime": {
     "end_time": "2023-10-11T11:47:55.525090848Z",
     "start_time": "2023-10-11T11:47:55.462609318Z"
    }
   },
   "outputs": [
    {
     "data": {
      "text/plain": "'../dhbb/text/1376.text'"
     },
     "execution_count": 29,
     "metadata": {},
     "output_type": "execute_result"
    }
   ],
   "source": [
    "arquivos[1]"
   ]
  },
  {
   "cell_type": "markdown",
   "metadata": {},
   "source": [
    "Acima utilizamos uma estrutura de repetição, denominada \"laço for\" para abrir sequencialmente os arquivos. É importante notar que a cada volta do laço, o arquivo texo é atribuído à mesma variável, o que significa que nunca há mais do que apenas um verbete na memória. Desta forma poderíamos potencialmente analisar todos os milhares de verbetes ocupando apenas uma quantidade pequena e constante de memória. Outro detalhe do código acima é que, para facilitar a extração do título do verbete, Fizemos a leitura do arquivo com o método `readlines` que retorna o verbete já divido em uma lista de linhas ao invés de uma `string`."
   ]
  },
  {
   "cell_type": "markdown",
   "metadata": {},
   "source": [
    "## Outros recursos do DHBB\n",
    "O arquivo do DHBB disponível no Github oferece outros recursos textuais para nos auxiliar em nossa pesquisa, como por exemplos dicionários com identificadores de \"Entidades\" presentes nos verbetes, como pessoas, organizações, eventos, etc."
   ]
  },
  {
   "cell_type": "code",
   "execution_count": 32,
   "metadata": {
    "ExecuteTime": {
     "end_time": "2023-10-11T11:48:12.148109177Z",
     "start_time": "2023-10-11T11:48:12.088922166Z"
    }
   },
   "outputs": [
    {
     "data": {
      "text/plain": "['Aarão Rebelo\\n',\n 'Aarão Steinbruch\\n',\n 'Abalcazar Garcia\\n',\n 'Abdias Do Nascimento\\n',\n 'Abdon Goncalves Nanhay\\n',\n 'Abdon Gonçalves\\n',\n 'Abdon Sena\\n',\n 'Abdon de Mello\\n',\n 'Abdur R. Khan\\n',\n 'Abel Avila dos Santos\\n']"
     },
     "execution_count": 32,
     "metadata": {},
     "output_type": "execute_result"
    }
   ],
   "source": [
    "with  open(\"../dhbb/dic/pessoa-individuo.txt\", 'r', encoding='utf8') as f:\n",
    "    pessoas = f.readlines()\n",
    "pessoas[:10]"
   ]
  },
  {
   "cell_type": "code",
   "execution_count": 34,
   "metadata": {
    "ExecuteTime": {
     "end_time": "2023-10-11T11:48:21.380632679Z",
     "start_time": "2023-10-11T11:48:21.331232201Z"
    }
   },
   "outputs": [
    {
     "data": {
      "text/plain": "['Advogado\\n',\n 'Advogado Geral da União\\n',\n 'Agente de investimento\\n',\n 'Agente de segurança judiciária\\n',\n 'Alfaiate\\n',\n 'Analista administrativo\\n',\n 'Analista de comércio exterior\\n',\n 'Antiquário\\n',\n 'Arcebispo\\n',\n 'Armador\\n']"
     },
     "execution_count": 34,
     "metadata": {},
     "output_type": "execute_result"
    }
   ],
   "source": [
    "with  open(\"../dhbb/dic/pessoa-papel.txt\", 'r', encoding='utf8') as f:\n",
    "    profissão = f.readlines()\n",
    "profissão[:10]"
   ]
  },
  {
   "cell_type": "code",
   "execution_count": 35,
   "metadata": {
    "ExecuteTime": {
     "end_time": "2023-10-11T11:48:28.107732992Z",
     "start_time": "2023-10-11T11:48:28.046162166Z"
    }
   },
   "outputs": [
    {
     "data": {
      "text/plain": "['A Rusga\\n',\n 'ATENTADO DA TONELEIROS\\n',\n 'ATENTADO DO RIOCENTRO\\n',\n 'Aclamação de Amador Bueno\\n',\n 'Balaiada\\n',\n 'Batalha da Maria Antônia\\n',\n 'Batalha da Venda Grande\\n',\n 'Batalha das Toninhas\\n',\n 'Batalha de Santa Luzia\\n',\n 'COMÍCIO DAS REFORMAS\\n']"
     },
     "execution_count": 35,
     "metadata": {},
     "output_type": "execute_result"
    }
   ],
   "source": [
    "with  open(\"../dhbb/dic/evento.txt\", 'r', encoding='utf8') as f:\n",
    "    evento = f.readlines()\n",
    "evento[:10]"
   ]
  },
  {
   "cell_type": "code",
   "execution_count": 36,
   "metadata": {
    "ExecuteTime": {
     "end_time": "2023-10-11T11:48:34.753850333Z",
     "start_time": "2023-10-11T11:48:34.469607261Z"
    }
   },
   "outputs": [
    {
     "data": {
      "text/plain": "['Abrigo Lar dos Velhos Vicentini\\n',\n 'Academia Alagoana de Letras\\n',\n 'Academia Brasileira de Ciências\\n',\n 'Academia Brasileira de Ciências Econômicas e Administrativas\\n',\n 'Academia Brasileira de Ciências Sociais e Políticas\\n',\n 'Academia Brasileira de Direito Empresarial\\n',\n 'Academia Brasileira de Letras\\n',\n 'Academia Brasileira de Música\\n',\n 'Academia Brasiliense de Letras\\n',\n 'Academia Cultural de Curitiba\\n']"
     },
     "execution_count": 36,
     "metadata": {},
     "output_type": "execute_result"
    }
   ],
   "source": [
    "with  open(\"../dhbb/dic/organizacao.txt\", 'r', encoding='utf8') as f:\n",
    "    organização = f.readlines()\n",
    "organização[:10]"
   ]
  },
  {
   "cell_type": "code",
   "execution_count": 37,
   "metadata": {
    "ExecuteTime": {
     "end_time": "2023-10-11T11:48:40.819504088Z",
     "start_time": "2023-10-11T11:48:40.669362703Z"
    }
   },
   "outputs": [
    {
     "data": {
      "text/plain": "['anteprojeto Constitucional\\n',\n 'anteprojeto da Carta Magna\\n',\n 'anteprojeto da Comissão Provisória\\n',\n 'anteprojeto da Comissão Provisória de Estudos Constitucionais\\n',\n 'anteprojeto da Comissão de Sistematização\\n',\n 'anteprojeto da Consolidação das Leis do Trabalho\\n',\n 'anteprojeto da Constituição\\n',\n 'anteprojeto da Lei Orgânica da Magistratura\\n',\n 'anteprojeto da Lei de Acidentes no Trabalho\\n',\n 'anteprojeto da Lei de Direitos Autorais\\n']"
     },
     "execution_count": 37,
     "metadata": {},
     "output_type": "execute_result"
    }
   ],
   "source": [
    "with  open(\"../dhbb/dic/formulacao-politica.txt\", 'r', encoding='utf8') as f:\n",
    "    politica = f.readlines()\n",
    "politica[:10]"
   ]
  },
  {
   "cell_type": "markdown",
   "metadata": {},
   "source": [
    "# Extraindo Informação Estruturada\n",
    "Agora que sabemos como abrir arquivos de texto e ler o seu conteúdo, podemos experimentar a extração de imformações específicas dos verbetes e organizá-la em uma tabela. Para isso vamos lançar mão de uma biblioteca chamada **Pandas** para organizar em uma estrutura tabular, chamada `DataFrame` os dados que vamos extrair."
   ]
  },
  {
   "cell_type": "code",
   "execution_count": 39,
   "metadata": {
    "ExecuteTime": {
     "end_time": "2023-10-11T11:51:48.011304086Z",
     "start_time": "2023-10-11T11:51:46.849949714Z"
    }
   },
   "outputs": [],
   "source": [
    "import pandas as pd\n",
    "# pd.set_option(\"display.latex.repr\", True)\n",
    "%matplotlib inline"
   ]
  },
  {
   "cell_type": "markdown",
   "metadata": {},
   "source": [
    "Nós vimos acima que os verbetes contém uma seção inicial delimitada pelos caracteres `---` vamos utilizar esta característica do texto para guiar nossa extração de informação. Como você pode perceber, já começamos a reutilizar código que escrevemos anteriormente. Para facilitar o reuso e reduzir a necessidade de escrever múltiplas vezes o mesmo código vamos aprender a organizá-lo melhor. Vamos começar definindo uma função."
   ]
  },
  {
   "cell_type": "code",
   "execution_count": 40,
   "metadata": {
    "ExecuteTime": {
     "end_time": "2023-10-11T11:51:51.642744172Z",
     "start_time": "2023-10-11T11:51:51.582687789Z"
    }
   },
   "outputs": [],
   "source": [
    "def tabula_verbete(n=None):\n",
    "    \"\"\"\n",
    "    Carrega todos os verbetes disponíveis, ou os primeiros n.\n",
    "    n:  número de verbetes a tabular\n",
    "    \"\"\"\n",
    "    if n is None:\n",
    "        n = len(arquivos)\n",
    "    linhas = []\n",
    "    for a in arquivos[:n]:\n",
    "        with open (a, 'r', encoding='utf8') as f:\n",
    "            verbete = f.read()\n",
    "        cabeçalho = verbete.split('---')[1]\n",
    "        campos = {l.split(':')[0].strip() :l.split(':')[1].strip() for l in cabeçalho.split('\\n')[:4] if l}\n",
    "        campos['arquivo'] = os.path.split(a)[1]\n",
    "        campos['cargos'] = 'NA' if 'cargos:' not in cabeçalho else cabeçalho.split('cargos:')[1]\n",
    "        campos['corpo'] = verbete.split('---')[2]\n",
    "        linhas.append(campos)\n",
    "    tabela = pd.DataFrame(data = linhas, columns=['arquivo','title', 'natureza', 'sexo', 'cargos', 'corpo'])\n",
    "    return tabela"
   ]
  },
  {
   "cell_type": "markdown",
   "metadata": {},
   "source": [
    "A função acima inclui a maior parte do código que escrevemos anteriormente, só que encapsulado em uma função que nos permite executar a extração e tabulação do cabeçalho para o numero de verbetes que desejarmos. Podemos ver abaixo que na verdade é muito rápido processar todos os verbetes."
   ]
  },
  {
   "cell_type": "code",
   "execution_count": 41,
   "metadata": {
    "ExecuteTime": {
     "end_time": "2023-10-11T11:51:54.001432911Z",
     "start_time": "2023-10-11T11:51:53.907142684Z"
    }
   },
   "outputs": [
    {
     "name": "stdout",
     "output_type": "stream",
     "text": [
      "Help on function tabula_verbete in module __main__:\n",
      "\n",
      "tabula_verbete(n=None)\n",
      "    Carrega todos os verbetes disponíveis, ou os primeiros n.\n",
      "    n:  número de verbetes a tabular\n"
     ]
    }
   ],
   "source": [
    "help(tabula_verbete)"
   ]
  },
  {
   "cell_type": "code",
   "execution_count": 42,
   "metadata": {
    "ExecuteTime": {
     "end_time": "2023-10-11T11:51:56.189339148Z",
     "start_time": "2023-10-11T11:51:55.541557308Z"
    }
   },
   "outputs": [],
   "source": [
    "tab = tabula_verbete()"
   ]
  },
  {
   "cell_type": "code",
   "execution_count": 43,
   "metadata": {
    "ExecuteTime": {
     "end_time": "2023-10-11T11:51:57.199417970Z",
     "start_time": "2023-10-11T11:51:57.113817304Z"
    }
   },
   "outputs": [
    {
     "data": {
      "text/plain": "     arquivo                       title    natureza sexo  \\\n0  4736.text             RUBIM, Floriano  biográfico    m   \n1  1376.text  COELHO, Inocêncio Mártires  biográfico    m   \n2   732.text                  BOPP, Raul  biográfico    m   \n3  2669.text             KRÜGER, Nivaldo  biográfico    m   \n4  6310.text       POLÍTICA DE CLIENTELA    temático  NaN   \n\n                                              cargos  \\\n0   \\n - militar\\n - dep. fed. ES 1955-1959\\n - d...   \n1   \\n - proc. ger. Rep. 1981-1985\\nautor: \\n - L...   \n2     \\n - diplomata\\n - emb. Bras. Peru 1962-1963\\n   \n3   \\n - dep. fed. PR 1979-1983\\n - sen. PR 2002-...   \n4                                                 NA   \n\n                                               corpo  \n0  \\n\\n«Floriano Lopes Rubim» nasceu em Alegre (E...  \n1  \\n\\n«Inocêncio Mártires Coelho» nasceu em Belé...  \n2  \\n\\n«Raul Bopp» nasceu em Santa Maria (RS) no ...  \n3  \\n\\n«Nivaldo Passos Krüger» nasceu em Canoinha...  \n4  \\n\\nExpressão cunhada e conceito desenvolvido ...  ",
      "text/html": "<div>\n<style scoped>\n    .dataframe tbody tr th:only-of-type {\n        vertical-align: middle;\n    }\n\n    .dataframe tbody tr th {\n        vertical-align: top;\n    }\n\n    .dataframe thead th {\n        text-align: right;\n    }\n</style>\n<table border=\"1\" class=\"dataframe\">\n  <thead>\n    <tr style=\"text-align: right;\">\n      <th></th>\n      <th>arquivo</th>\n      <th>title</th>\n      <th>natureza</th>\n      <th>sexo</th>\n      <th>cargos</th>\n      <th>corpo</th>\n    </tr>\n  </thead>\n  <tbody>\n    <tr>\n      <th>0</th>\n      <td>4736.text</td>\n      <td>RUBIM, Floriano</td>\n      <td>biográfico</td>\n      <td>m</td>\n      <td>\\n - militar\\n - dep. fed. ES 1955-1959\\n - d...</td>\n      <td>\\n\\n«Floriano Lopes Rubim» nasceu em Alegre (E...</td>\n    </tr>\n    <tr>\n      <th>1</th>\n      <td>1376.text</td>\n      <td>COELHO, Inocêncio Mártires</td>\n      <td>biográfico</td>\n      <td>m</td>\n      <td>\\n - proc. ger. Rep. 1981-1985\\nautor: \\n - L...</td>\n      <td>\\n\\n«Inocêncio Mártires Coelho» nasceu em Belé...</td>\n    </tr>\n    <tr>\n      <th>2</th>\n      <td>732.text</td>\n      <td>BOPP, Raul</td>\n      <td>biográfico</td>\n      <td>m</td>\n      <td>\\n - diplomata\\n - emb. Bras. Peru 1962-1963\\n</td>\n      <td>\\n\\n«Raul Bopp» nasceu em Santa Maria (RS) no ...</td>\n    </tr>\n    <tr>\n      <th>3</th>\n      <td>2669.text</td>\n      <td>KRÜGER, Nivaldo</td>\n      <td>biográfico</td>\n      <td>m</td>\n      <td>\\n - dep. fed. PR 1979-1983\\n - sen. PR 2002-...</td>\n      <td>\\n\\n«Nivaldo Passos Krüger» nasceu em Canoinha...</td>\n    </tr>\n    <tr>\n      <th>4</th>\n      <td>6310.text</td>\n      <td>POLÍTICA DE CLIENTELA</td>\n      <td>temático</td>\n      <td>NaN</td>\n      <td>NA</td>\n      <td>\\n\\nExpressão cunhada e conceito desenvolvido ...</td>\n    </tr>\n  </tbody>\n</table>\n</div>"
     },
     "execution_count": 43,
     "metadata": {},
     "output_type": "execute_result"
    }
   ],
   "source": [
    "tab.head()"
   ]
  },
  {
   "cell_type": "markdown",
   "metadata": {},
   "source": [
    "Podemos visualizar uma descrição básica da tabela resultante"
   ]
  },
  {
   "cell_type": "code",
   "execution_count": 44,
   "metadata": {
    "scrolled": true,
    "ExecuteTime": {
     "end_time": "2023-10-11T11:52:44.449522539Z",
     "start_time": "2023-10-11T11:52:44.302117465Z"
    }
   },
   "outputs": [
    {
     "data": {
      "text/plain": "          arquivo          title    natureza  sexo cargos  \\\ncount        7838           7838        7838  6865   7838   \nunique       7838           7760           2     2   6189   \ntop     4736.text  LOURES, Rocha  biográfico     m     NA   \nfreq            1              3        6865  6615    973   \n\n                                                    corpo  \ncount                                                7838  \nunique                                               7836  \ntop     \\n\\nPartido político que se habilitou junto ao...  \nfreq                                                    2  ",
      "text/html": "<div>\n<style scoped>\n    .dataframe tbody tr th:only-of-type {\n        vertical-align: middle;\n    }\n\n    .dataframe tbody tr th {\n        vertical-align: top;\n    }\n\n    .dataframe thead th {\n        text-align: right;\n    }\n</style>\n<table border=\"1\" class=\"dataframe\">\n  <thead>\n    <tr style=\"text-align: right;\">\n      <th></th>\n      <th>arquivo</th>\n      <th>title</th>\n      <th>natureza</th>\n      <th>sexo</th>\n      <th>cargos</th>\n      <th>corpo</th>\n    </tr>\n  </thead>\n  <tbody>\n    <tr>\n      <th>count</th>\n      <td>7838</td>\n      <td>7838</td>\n      <td>7838</td>\n      <td>6865</td>\n      <td>7838</td>\n      <td>7838</td>\n    </tr>\n    <tr>\n      <th>unique</th>\n      <td>7838</td>\n      <td>7760</td>\n      <td>2</td>\n      <td>2</td>\n      <td>6189</td>\n      <td>7836</td>\n    </tr>\n    <tr>\n      <th>top</th>\n      <td>4736.text</td>\n      <td>LOURES, Rocha</td>\n      <td>biográfico</td>\n      <td>m</td>\n      <td>NA</td>\n      <td>\\n\\nPartido político que se habilitou junto ao...</td>\n    </tr>\n    <tr>\n      <th>freq</th>\n      <td>1</td>\n      <td>3</td>\n      <td>6865</td>\n      <td>6615</td>\n      <td>973</td>\n      <td>2</td>\n    </tr>\n  </tbody>\n</table>\n</div>"
     },
     "execution_count": 44,
     "metadata": {},
     "output_type": "execute_result"
    }
   ],
   "source": [
    "tab.describe()"
   ]
  },
  {
   "cell_type": "markdown",
   "metadata": {},
   "source": [
    "Por exemplo fica fácil ver que no DHBB predominam biografias de personagens do sexo masculino."
   ]
  },
  {
   "cell_type": "code",
   "execution_count": 45,
   "metadata": {
    "ExecuteTime": {
     "end_time": "2023-10-11T11:52:47.794895667Z",
     "start_time": "2023-10-11T11:52:47.766184945Z"
    }
   },
   "outputs": [
    {
     "name": "stdout",
     "output_type": "stream",
     "text": [
      "sexo\n",
      "m    6615\n",
      "f     250\n",
      "Name: count, dtype: int64\n"
     ]
    }
   ],
   "source": [
    "print(tab.sexo.value_counts())"
   ]
  },
  {
   "cell_type": "code",
   "execution_count": 46,
   "metadata": {
    "ExecuteTime": {
     "end_time": "2023-10-11T11:52:49.203859749Z",
     "start_time": "2023-10-11T11:52:48.874943613Z"
    }
   },
   "outputs": [
    {
     "data": {
      "text/plain": "<Figure size 640x480 with 1 Axes>",
      "image/png": "[encoded data removed]"
     },
     "metadata": {},
     "output_type": "display_data"
    }
   ],
   "source": [
    "tab.sexo.hist();"
   ]
  },
  {
   "cell_type": "markdown",
   "metadata": {},
   "source": [
    "Percebemos também que a natureza predominante dos verbetes é biográfica e que só existem duas naturezas, mas qua a outra?"
   ]
  },
  {
   "cell_type": "code",
   "execution_count": 47,
   "metadata": {
    "ExecuteTime": {
     "end_time": "2023-10-11T11:52:58.514908394Z",
     "start_time": "2023-10-11T11:52:58.483379042Z"
    }
   },
   "outputs": [
    {
     "name": "stdout",
     "output_type": "stream",
     "text": [
      "natureza\n",
      "biográfico    6865\n",
      "temático       973\n",
      "Name: count, dtype: int64\n"
     ]
    }
   ],
   "source": [
    "print(tab.natureza.value_counts())"
   ]
  },
  {
   "cell_type": "code",
   "execution_count": 49,
   "metadata": {
    "ExecuteTime": {
     "end_time": "2023-10-11T11:53:34.144382313Z",
     "start_time": "2023-10-11T11:53:33.880672251Z"
    }
   },
   "outputs": [
    {
     "data": {
      "text/plain": "                         nome            cargo sexo inicio   fim\n0             RUBIM, Floriano          militar    m   <NA>  <NA>\n1             RUBIM, Floriano     dep. fed. ES    m   1955  1959\n2             RUBIM, Floriano     dep. fed. ES    m   1963  1971\n3  COELHO, Inocêncio Mártires  proc. ger. Rep.    m   1981  1985\n4                  BOPP, Raul        diplomata    m   <NA>  <NA>",
      "text/html": "<div>\n<style scoped>\n    .dataframe tbody tr th:only-of-type {\n        vertical-align: middle;\n    }\n\n    .dataframe tbody tr th {\n        vertical-align: top;\n    }\n\n    .dataframe thead th {\n        text-align: right;\n    }\n</style>\n<table border=\"1\" class=\"dataframe\">\n  <thead>\n    <tr style=\"text-align: right;\">\n      <th></th>\n      <th>nome</th>\n      <th>cargo</th>\n      <th>sexo</th>\n      <th>inicio</th>\n      <th>fim</th>\n    </tr>\n  </thead>\n  <tbody>\n    <tr>\n      <th>0</th>\n      <td>RUBIM, Floriano</td>\n      <td>militar</td>\n      <td>m</td>\n      <td>&lt;NA&gt;</td>\n      <td>&lt;NA&gt;</td>\n    </tr>\n    <tr>\n      <th>1</th>\n      <td>RUBIM, Floriano</td>\n      <td>dep. fed. ES</td>\n      <td>m</td>\n      <td>1955</td>\n      <td>1959</td>\n    </tr>\n    <tr>\n      <th>2</th>\n      <td>RUBIM, Floriano</td>\n      <td>dep. fed. ES</td>\n      <td>m</td>\n      <td>1963</td>\n      <td>1971</td>\n    </tr>\n    <tr>\n      <th>3</th>\n      <td>COELHO, Inocêncio Mártires</td>\n      <td>proc. ger. Rep.</td>\n      <td>m</td>\n      <td>1981</td>\n      <td>1985</td>\n    </tr>\n    <tr>\n      <th>4</th>\n      <td>BOPP, Raul</td>\n      <td>diplomata</td>\n      <td>m</td>\n      <td>&lt;NA&gt;</td>\n      <td>&lt;NA&gt;</td>\n    </tr>\n  </tbody>\n</table>\n</div>"
     },
     "execution_count": 49,
     "metadata": {},
     "output_type": "execute_result"
    }
   ],
   "source": [
    "tab2 = pd.DataFrame(resposta)\n",
    "tab2.inicio = tab2.inicio.replace('NA', pd.NA)\n",
    "tab2.fim = tab2.fim.replace('NA', pd.NA)\n",
    "tab2.head()"
   ]
  },
  {
   "cell_type": "code",
   "execution_count": 50,
   "metadata": {
    "ExecuteTime": {
     "end_time": "2023-10-11T11:53:55.894981022Z",
     "start_time": "2023-10-11T11:53:55.863322545Z"
    }
   },
   "outputs": [
    {
     "name": "stdout",
     "output_type": "stream",
     "text": [
      "nome 15083\n",
      "cargo 15083\n",
      "sexo 15083\n",
      "inicio 15083\n",
      "fim 15083\n"
     ]
    }
   ],
   "source": [
    "for c, v in resposta.items():\n",
    "    print(c, len(v))"
   ]
  },
  {
   "cell_type": "code",
   "execution_count": 51,
   "metadata": {
    "ExecuteTime": {
     "end_time": "2023-10-11T11:53:58.070488289Z",
     "start_time": "2023-10-11T11:53:57.952635266Z"
    }
   },
   "outputs": [
    {
     "data": {
      "text/plain": "                             nome            cargo sexo inicio   fim\n1                 RUBIM, Floriano     dep. fed. ES    m   1955  1959\n2                 RUBIM, Floriano     dep. fed. ES    m   1963  1971\n3      COELHO, Inocêncio Mártires  proc. ger. Rep.    m   1981  1985\n5                      BOPP, Raul  emb. Bras. Peru    m   1962  1963\n6                 KRÜGER, Nivaldo     dep. fed. PR    m   1979  1983\n...                           ...              ...  ...    ...   ...\n15075             MACIEL, Antunes     dep. fed. RS    m   1924  1927\n15078             MACIEL, Antunes       min. Just.    m   1932  1934\n15079                FOGAÇA, José     dep. fed. RS    m   1983  1987\n15080                FOGAÇA, José           const.    m   1987  1988\n15081                FOGAÇA, José          sen. RS    m   1987  2003\n\n[9893 rows x 5 columns]",
      "text/html": "<div>\n<style scoped>\n    .dataframe tbody tr th:only-of-type {\n        vertical-align: middle;\n    }\n\n    .dataframe tbody tr th {\n        vertical-align: top;\n    }\n\n    .dataframe thead th {\n        text-align: right;\n    }\n</style>\n<table border=\"1\" class=\"dataframe\">\n  <thead>\n    <tr style=\"text-align: right;\">\n      <th></th>\n      <th>nome</th>\n      <th>cargo</th>\n      <th>sexo</th>\n      <th>inicio</th>\n      <th>fim</th>\n    </tr>\n  </thead>\n  <tbody>\n    <tr>\n      <th>1</th>\n      <td>RUBIM, Floriano</td>\n      <td>dep. fed. ES</td>\n      <td>m</td>\n      <td>1955</td>\n      <td>1959</td>\n    </tr>\n    <tr>\n      <th>2</th>\n      <td>RUBIM, Floriano</td>\n      <td>dep. fed. ES</td>\n      <td>m</td>\n      <td>1963</td>\n      <td>1971</td>\n    </tr>\n    <tr>\n      <th>3</th>\n      <td>COELHO, Inocêncio Mártires</td>\n      <td>proc. ger. Rep.</td>\n      <td>m</td>\n      <td>1981</td>\n      <td>1985</td>\n    </tr>\n    <tr>\n      <th>5</th>\n      <td>BOPP, Raul</td>\n      <td>emb. Bras. Peru</td>\n      <td>m</td>\n      <td>1962</td>\n      <td>1963</td>\n    </tr>\n    <tr>\n      <th>6</th>\n      <td>KRÜGER, Nivaldo</td>\n      <td>dep. fed. PR</td>\n      <td>m</td>\n      <td>1979</td>\n      <td>1983</td>\n    </tr>\n    <tr>\n      <th>...</th>\n      <td>...</td>\n      <td>...</td>\n      <td>...</td>\n      <td>...</td>\n      <td>...</td>\n    </tr>\n    <tr>\n      <th>15075</th>\n      <td>MACIEL, Antunes</td>\n      <td>dep. fed. RS</td>\n      <td>m</td>\n      <td>1924</td>\n      <td>1927</td>\n    </tr>\n    <tr>\n      <th>15078</th>\n      <td>MACIEL, Antunes</td>\n      <td>min. Just.</td>\n      <td>m</td>\n      <td>1932</td>\n      <td>1934</td>\n    </tr>\n    <tr>\n      <th>15079</th>\n      <td>FOGAÇA, José</td>\n      <td>dep. fed. RS</td>\n      <td>m</td>\n      <td>1983</td>\n      <td>1987</td>\n    </tr>\n    <tr>\n      <th>15080</th>\n      <td>FOGAÇA, José</td>\n      <td>const.</td>\n      <td>m</td>\n      <td>1987</td>\n      <td>1988</td>\n    </tr>\n    <tr>\n      <th>15081</th>\n      <td>FOGAÇA, José</td>\n      <td>sen. RS</td>\n      <td>m</td>\n      <td>1987</td>\n      <td>2003</td>\n    </tr>\n  </tbody>\n</table>\n<p>9893 rows × 5 columns</p>\n</div>"
     },
     "execution_count": 51,
     "metadata": {},
     "output_type": "execute_result"
    }
   ],
   "source": [
    "tab2.dropna()"
   ]
  },
  {
   "cell_type": "code",
   "execution_count": 52,
   "metadata": {
    "ExecuteTime": {
     "end_time": "2023-10-11T11:54:00.280583273Z",
     "start_time": "2023-10-11T11:54:00.227334246Z"
    }
   },
   "outputs": [
    {
     "data": {
      "text/plain": "                    nome         cargo sexo inicio   fim\n1        RUBIM, Floriano  dep. fed. ES    m   1955  1959\n2        RUBIM, Floriano  dep. fed. ES    m   1963  1971\n6        KRÜGER, Nivaldo  dep. fed. PR    m   1979  1983\n8      NASCIMENTO, César  dep. fed. SC    m   1973  1975\n9      NASCIMENTO, César  dep. fed. SC    m   1977  1980\n...                  ...           ...  ...    ...   ...\n15071     CORREIA, Hélio  dep. fed. BA    m   1983  1987\n15073    MACIEL, Antunes  dep. fed. RS    m   1921  1923\n15075    MACIEL, Antunes  dep. fed. RS    m   1924  1927\n15076    MACIEL, Antunes  dep. fed. RS    m   1930  <NA>\n15079       FOGAÇA, José  dep. fed. RS    m   1983  1987\n\n[6469 rows x 5 columns]",
      "text/html": "<div>\n<style scoped>\n    .dataframe tbody tr th:only-of-type {\n        vertical-align: middle;\n    }\n\n    .dataframe tbody tr th {\n        vertical-align: top;\n    }\n\n    .dataframe thead th {\n        text-align: right;\n    }\n</style>\n<table border=\"1\" class=\"dataframe\">\n  <thead>\n    <tr style=\"text-align: right;\">\n      <th></th>\n      <th>nome</th>\n      <th>cargo</th>\n      <th>sexo</th>\n      <th>inicio</th>\n      <th>fim</th>\n    </tr>\n  </thead>\n  <tbody>\n    <tr>\n      <th>1</th>\n      <td>RUBIM, Floriano</td>\n      <td>dep. fed. ES</td>\n      <td>m</td>\n      <td>1955</td>\n      <td>1959</td>\n    </tr>\n    <tr>\n      <th>2</th>\n      <td>RUBIM, Floriano</td>\n      <td>dep. fed. ES</td>\n      <td>m</td>\n      <td>1963</td>\n      <td>1971</td>\n    </tr>\n    <tr>\n      <th>6</th>\n      <td>KRÜGER, Nivaldo</td>\n      <td>dep. fed. PR</td>\n      <td>m</td>\n      <td>1979</td>\n      <td>1983</td>\n    </tr>\n    <tr>\n      <th>8</th>\n      <td>NASCIMENTO, César</td>\n      <td>dep. fed. SC</td>\n      <td>m</td>\n      <td>1973</td>\n      <td>1975</td>\n    </tr>\n    <tr>\n      <th>9</th>\n      <td>NASCIMENTO, César</td>\n      <td>dep. fed. SC</td>\n      <td>m</td>\n      <td>1977</td>\n      <td>1980</td>\n    </tr>\n    <tr>\n      <th>...</th>\n      <td>...</td>\n      <td>...</td>\n      <td>...</td>\n      <td>...</td>\n      <td>...</td>\n    </tr>\n    <tr>\n      <th>15071</th>\n      <td>CORREIA, Hélio</td>\n      <td>dep. fed. BA</td>\n      <td>m</td>\n      <td>1983</td>\n      <td>1987</td>\n    </tr>\n    <tr>\n      <th>15073</th>\n      <td>MACIEL, Antunes</td>\n      <td>dep. fed. RS</td>\n      <td>m</td>\n      <td>1921</td>\n      <td>1923</td>\n    </tr>\n    <tr>\n      <th>15075</th>\n      <td>MACIEL, Antunes</td>\n      <td>dep. fed. RS</td>\n      <td>m</td>\n      <td>1924</td>\n      <td>1927</td>\n    </tr>\n    <tr>\n      <th>15076</th>\n      <td>MACIEL, Antunes</td>\n      <td>dep. fed. RS</td>\n      <td>m</td>\n      <td>1930</td>\n      <td>&lt;NA&gt;</td>\n    </tr>\n    <tr>\n      <th>15079</th>\n      <td>FOGAÇA, José</td>\n      <td>dep. fed. RS</td>\n      <td>m</td>\n      <td>1983</td>\n      <td>1987</td>\n    </tr>\n  </tbody>\n</table>\n<p>6469 rows × 5 columns</p>\n</div>"
     },
     "execution_count": 52,
     "metadata": {},
     "output_type": "execute_result"
    }
   ],
   "source": [
    "tab2[(['dep.' in c for c in tab2.cargo])&(tab2.inicio >1917)&(tab2.inicio<=2015)]"
   ]
  },
  {
   "cell_type": "code",
   "execution_count": 53,
   "metadata": {
    "ExecuteTime": {
     "end_time": "2023-10-11T11:54:01.647206054Z",
     "start_time": "2023-10-11T11:54:01.580858419Z"
    }
   },
   "outputs": [
    {
     "data": {
      "text/plain": "                       nome         cargo sexo inicio   fim\n91        MIGUEL, Sidnei de  dep. fed. RJ    m   1991  1995\n212       ALMEIDA, Paulo de  dep. fed. RJ    m   1991  1995\n520          BASTOS, Laerte  dep. fed. RJ    m   1991  1995\n745       MELO, Euclides de  dep. fed. SP    m   1991  1995\n923       VIEIRA, Laprovita  dep. fed. RJ    m   1991  1999\n...                     ...           ...  ...    ...   ...\n13587      MENDES, João (2)  dep. fed. RJ    m   1991  1993\n14044        JORGE, Eduardo  dep. fed. SP    m   1991  1995\n14082       CAMPOS, Cidinha  dep. fed. RJ    f   1991  1999\n14674      MARIANO, Maurici  dep. fed. SP    m   1991  1995\n14692  MASCARENHAS, Eduardo  dep. fed. RJ    m   1991  1993\n\n[66 rows x 5 columns]",
      "text/html": "<div>\n<style scoped>\n    .dataframe tbody tr th:only-of-type {\n        vertical-align: middle;\n    }\n\n    .dataframe tbody tr th {\n        vertical-align: top;\n    }\n\n    .dataframe thead th {\n        text-align: right;\n    }\n</style>\n<table border=\"1\" class=\"dataframe\">\n  <thead>\n    <tr style=\"text-align: right;\">\n      <th></th>\n      <th>nome</th>\n      <th>cargo</th>\n      <th>sexo</th>\n      <th>inicio</th>\n      <th>fim</th>\n    </tr>\n  </thead>\n  <tbody>\n    <tr>\n      <th>91</th>\n      <td>MIGUEL, Sidnei de</td>\n      <td>dep. fed. RJ</td>\n      <td>m</td>\n      <td>1991</td>\n      <td>1995</td>\n    </tr>\n    <tr>\n      <th>212</th>\n      <td>ALMEIDA, Paulo de</td>\n      <td>dep. fed. RJ</td>\n      <td>m</td>\n      <td>1991</td>\n      <td>1995</td>\n    </tr>\n    <tr>\n      <th>520</th>\n      <td>BASTOS, Laerte</td>\n      <td>dep. fed. RJ</td>\n      <td>m</td>\n      <td>1991</td>\n      <td>1995</td>\n    </tr>\n    <tr>\n      <th>745</th>\n      <td>MELO, Euclides de</td>\n      <td>dep. fed. SP</td>\n      <td>m</td>\n      <td>1991</td>\n      <td>1995</td>\n    </tr>\n    <tr>\n      <th>923</th>\n      <td>VIEIRA, Laprovita</td>\n      <td>dep. fed. RJ</td>\n      <td>m</td>\n      <td>1991</td>\n      <td>1999</td>\n    </tr>\n    <tr>\n      <th>...</th>\n      <td>...</td>\n      <td>...</td>\n      <td>...</td>\n      <td>...</td>\n      <td>...</td>\n    </tr>\n    <tr>\n      <th>13587</th>\n      <td>MENDES, João (2)</td>\n      <td>dep. fed. RJ</td>\n      <td>m</td>\n      <td>1991</td>\n      <td>1993</td>\n    </tr>\n    <tr>\n      <th>14044</th>\n      <td>JORGE, Eduardo</td>\n      <td>dep. fed. SP</td>\n      <td>m</td>\n      <td>1991</td>\n      <td>1995</td>\n    </tr>\n    <tr>\n      <th>14082</th>\n      <td>CAMPOS, Cidinha</td>\n      <td>dep. fed. RJ</td>\n      <td>f</td>\n      <td>1991</td>\n      <td>1999</td>\n    </tr>\n    <tr>\n      <th>14674</th>\n      <td>MARIANO, Maurici</td>\n      <td>dep. fed. SP</td>\n      <td>m</td>\n      <td>1991</td>\n      <td>1995</td>\n    </tr>\n    <tr>\n      <th>14692</th>\n      <td>MASCARENHAS, Eduardo</td>\n      <td>dep. fed. RJ</td>\n      <td>m</td>\n      <td>1991</td>\n      <td>1993</td>\n    </tr>\n  </tbody>\n</table>\n<p>66 rows × 5 columns</p>\n</div>"
     },
     "execution_count": 53,
     "metadata": {},
     "output_type": "execute_result"
    }
   ],
   "source": [
    "\n",
    "tab2[(tab2.cargo.isin(['dep. fed. RJ', 'dep. fed. SP']))&(tab2.inicio==1991)]\n",
    "#tab2.iloc[14825].cargo"
   ]
  },
  {
   "cell_type": "code",
   "execution_count": 54,
   "metadata": {
    "ExecuteTime": {
     "end_time": "2023-10-11T11:54:02.661752627Z",
     "start_time": "2023-10-11T11:54:02.603073157Z"
    }
   },
   "outputs": [
    {
     "data": {
      "text/plain": "True"
     },
     "execution_count": 54,
     "metadata": {},
     "output_type": "execute_result"
    }
   ],
   "source": [
    "'dep. fed.' in \"dep. fed. MT\""
   ]
  },
  {
   "cell_type": "markdown",
   "metadata": {},
   "source": [
    "## Exercícios\n",
    "\n",
    "1. Construa uma função para buscar apenas verbetes de personagens que tenham ocupado o cargo de deputado federal. Tabule os resultados incluindo o número de mandatos.\n",
    "1. Construa uma função para buscar o primeiro verbete temático e apresente o seu conteúdo.\n",
    "1. Encontre todos os verbetes que contenham \"Academia Brasileira de Letras\". Que porcentagem destes correspondem a membros da dita academia?\n",
    "1. Construa uma linha do tempo que represente a cobertura histórica do DHBB."
   ]
  },
  {
   "cell_type": "markdown",
   "metadata": {},
   "source": [
    "# Exportando para Bancos de Dados\n",
    "Depois de realizarmos a nossa análise e tabular os resultados, podemos exportar a tabela em vários formatos. Em primeiro lugar, caso queiramos abri nossa trabalho em uma planilha, devemos salvar no formato CSV, ou \"comma-separated-values\". Este formato pode ser aberto imediatamente em uma planilha."
   ]
  },
  {
   "cell_type": "code",
   "execution_count": 55,
   "metadata": {
    "ExecuteTime": {
     "end_time": "2023-10-11T11:54:19.895189253Z",
     "start_time": "2023-10-11T11:54:13.615267386Z"
    }
   },
   "outputs": [],
   "source": [
    "tab.to_csv(\"minha_tabela.csv.gz\", sep='|')"
   ]
  },
  {
   "cell_type": "markdown",
   "metadata": {},
   "source": [
    "Acima usamos o caracter \"|\" como separador para evitar confusões com as virgulas existentes no texto.\n",
    "## Exportando para um banco de dados relacional\n",
    "Para exportar para um banco relacional, precisamos de uma biblioteca adicional, o [SQLAlchemy](https://www.sqlalchemy.org/). Estabiblioteca nos permite interagir com a maioria dos banco relacionais. Aqui vamos usar o banco [SQLite](https://www.sqlite.org/index.html)."
   ]
  },
  {
   "cell_type": "code",
   "execution_count": 67,
   "metadata": {
    "ExecuteTime": {
     "end_time": "2023-10-11T12:00:18.593536665Z",
     "start_time": "2023-10-11T12:00:18.504244572Z"
    }
   },
   "outputs": [],
   "source": [
    "from sqlalchemy import create_engine, text\n",
    "engine = create_engine('sqlite:///minha_tabela.sqlite', echo=False)"
   ]
  },
  {
   "cell_type": "code",
   "execution_count": 57,
   "metadata": {
    "ExecuteTime": {
     "end_time": "2023-10-11T11:54:43.215700497Z",
     "start_time": "2023-10-11T11:54:42.492740927Z"
    }
   },
   "outputs": [
    {
     "data": {
      "text/plain": "7838"
     },
     "execution_count": 57,
     "metadata": {},
     "output_type": "execute_result"
    }
   ],
   "source": [
    "tab.to_sql('resultados', con=engine, if_exists='replace')"
   ]
  },
  {
   "cell_type": "code",
   "execution_count": 58,
   "metadata": {
    "ExecuteTime": {
     "end_time": "2023-10-11T11:54:44.643675955Z",
     "start_time": "2023-10-11T11:54:44.313338954Z"
    }
   },
   "outputs": [
    {
     "data": {
      "text/plain": "15083"
     },
     "execution_count": 58,
     "metadata": {},
     "output_type": "execute_result"
    }
   ],
   "source": [
    "tab2.to_sql(\"cargos\", con=engine, if_exists='replace')"
   ]
  },
  {
   "cell_type": "markdown",
   "metadata": {},
   "source": [
    "Uma vez inserido no banco relacional, podemos fazer consultas aos dados usando a linguagem SQL. Abaixo obtemos o resultado da consulta em uma lista."
   ]
  },
  {
   "cell_type": "code",
   "execution_count": 68,
   "metadata": {
    "ExecuteTime": {
     "end_time": "2023-10-11T12:00:26.608860465Z",
     "start_time": "2023-10-11T12:00:26.512080773Z"
    }
   },
   "outputs": [
    {
     "name": "stdout",
     "output_type": "stream",
     "text": [
      "[(4, '6310.text', 'POLÍTICA DE CLIENTELA', 'temático', None, 'NA', '\\n\\nExpressão cunhada e conceito desenvolvido por Hélio Jaguaribe em seu\\ntrabalho “Política ideológica e política de clientela”, publicado no\\n«Jorn ... (2014 characters truncated) ... r derivação da expressão latina equivalente e das relações que, no\\ninício da República Romana, existiam entre o pater famílias e seus\\nclientes.\\n\\n'), (21, '5742.text', 'ASSEMBLÉIA NACIONAL CONSTITUINTE DE 1987-88', 'temático', None, 'NA', '\\n\\nNo dia 1º de fevereiro de 1987, os membros da Câmara dos Deputados e do\\nSenado Federal reuniram-se, unicameralmente, em Assembléia Nacional\\nCon ... (57523 characters truncated) ... nal ficou composto por 315 artigos, dos quais 245\\ndistribuídos por oito títulos das disposições permanentes e 70 nas\\ndisposições transitórias. \\n\\n'), (42, '5793.text', 'I CONGRESSO ANTIFASCISTA', 'temático', None, 'NA', '\\n \\nReunião realizada no Rio de Janeiro em agosto de 1934 sob a direção do\\nPartido Comunista Brasileiro (PCB).\\n\\nSua finalidade era condenar a política fascista em ascensão. Contou,\\nentre outras, com a presença de representantes operários.\\n\\n'), (52, '6346.text', 'REDE BANDEIRANTES', 'temático', None, 'NA', '\\n\\nRede de televisão pertencente ao grupo paulista Bandeirantes, fundado\\npor João Jorge Saad, e que teve origem a partir da criação da TV\\nBandeira ... (18363 characters truncated) ... ireção na emissora: Hélio Vargas (Direção de\\nProgramação), Raimundo Lima (Direção de Produção) e Fernando Mitre\\n(Direção Nacional de Jornalismo).\\n'), (60, '11892.text', 'AGÊNCIA NACIONAL DE ENERGIA ELÉTRICA (ANEEL)', 'temático', None, 'NA', '\\n\\nAutarquia em regime especial, vinculada ao Ministério de Minas e Energia (MME), criada pela Lei nº 9.427, de 26 de dezembro de 1996, com a finali ... (39336 characters truncated) ... ão do aproveitamento hidrelétrico de Jirau, o segundo do Complexo do Rio Madeira, com capacidade estimada em 3.300 MW, foi realizado em maio de 2008.'), (66, '5703.text', 'AÇÃO CÍVICA NACIONAL', 'temático', None, 'NA', '\\n\\nPartido político do Rio de Janeiro (então Distrito Federal) fundado em\\nmarço de 1933. Sua comissão central executiva era integrada por Luís\\nMez ... (439 characters truncated) ... ão e a nacionalização da economia, e a defesa da\\nreorganização política do país em bases novas, independente de quaisquer\\ncoligações políticas.\\n\\n'), (67, '6221.text', 'PARTIDO REPUBLICANO REGENERADOR DO DISTRITO FEDERAL', 'temático', None, 'NA', '\\n\\nPartido político do Rio de Janeiro (então Distrito Federal) fundado em\\n22 de setembro de 1934.\\n\\nSeu diretório central era constituído por Raul ... (872 characters truncated) ... rro Central do Brasil”.\\n\\nO partido pretendia eleger representantes à Câmara Municipal do Distrito\\nFederal, mas não obteve êxito nesse sentido.\\n\\n'), (80, '5770.text', 'CÓDIGO DE MINAS', 'temático', None, 'NA', '\\n\\nO regime das minas no Brasil obedecia ao sistema estabelecido pelas\\nOrdenações do Reino, pelo qual as minas eram de propriedade da Coroa.\\nCom a ... (6078 characters truncated) ... 967)\\nprocurou atualizar a legislação mineira no país, refletindo a\\nexperiência de aplicação dos novos princípios legais pelo prazo de 33\\nanos.\\n\\n'), (82, '5846.text', 'ELETROBRAS (Centrais Elétricas Brasileiras S.A.)', 'temático', None, 'NA', \"\\n\\nEmpresa estatal criada em 25 de abril de 1961 pela Lei nº 3.890-A e\\ninstalada em 11 de junho de 1962.\\n\\n## Antecedentes\\n\\nO desenvolvimento da ... (103944 characters truncated) ... 2009, a União detinha 52% das ações ordinárias com direito a voto,\\ncorrespondentes a 41,5% do seu capital social, estimado em R$26.156\\nmilhões.\\n\\n\"), (83, '7789.text', 'COMISSÃO MISTA BRASIL-ESTADOS UNIDOS', 'temático', None, 'NA', '\\n\\nGrupo de trabalho oficialmente instalado na órbita e no próprio prédio\\ndo Ministério da Fazenda em 19 de julho de 1951. Tendo completado seus\\ne ... (10617 characters truncated) ... da Comissão Mista, em dezembro de 1953, coube ao BNDE\\no encargo de levar avante as negociações para execução dos projetos por\\nela recomendados.\\n\\n')]\n"
     ]
    }
   ],
   "source": [
    "with engine.connect() as con:\n",
    "    rs = con.execute(text(\"select * from resultados where natureza='temático'\"))\n",
    "    print(rs.fetchall()[:10])"
   ]
  },
  {
   "cell_type": "markdown",
   "metadata": {},
   "source": [
    "Se quisermos os resultado na forma de um `Dataframe`, podemos usar o **Pandas**."
   ]
  },
  {
   "cell_type": "code",
   "execution_count": 69,
   "metadata": {
    "ExecuteTime": {
     "end_time": "2023-10-11T12:00:55.654926507Z",
     "start_time": "2023-10-11T12:00:55.593159772Z"
    }
   },
   "outputs": [
    {
     "data": {
      "text/plain": "   index     arquivo                                         title  natureza  \\\n0      4   6310.text                         POLÍTICA DE CLIENTELA  temático   \n1     21   5742.text   ASSEMBLÉIA NACIONAL CONSTITUINTE DE 1987-88  temático   \n2     42   5793.text                      I CONGRESSO ANTIFASCISTA  temático   \n3     52   6346.text                             REDE BANDEIRANTES  temático   \n4     60  11892.text  AGÊNCIA NACIONAL DE ENERGIA ELÉTRICA (ANEEL)  temático   \n\n   sexo cargos                                              corpo  \n0  None     NA  \\n\\nExpressão cunhada e conceito desenvolvido ...  \n1  None     NA  \\n\\nNo dia 1º de fevereiro de 1987, os membros...  \n2  None     NA  \\n \\nReunião realizada no Rio de Janeiro em ag...  \n3  None     NA  \\n\\nRede de televisão pertencente ao grupo pau...  \n4  None     NA  \\n\\nAutarquia em regime especial, vinculada ao...  ",
      "text/html": "<div>\n<style scoped>\n    .dataframe tbody tr th:only-of-type {\n        vertical-align: middle;\n    }\n\n    .dataframe tbody tr th {\n        vertical-align: top;\n    }\n\n    .dataframe thead th {\n        text-align: right;\n    }\n</style>\n<table border=\"1\" class=\"dataframe\">\n  <thead>\n    <tr style=\"text-align: right;\">\n      <th></th>\n      <th>index</th>\n      <th>arquivo</th>\n      <th>title</th>\n      <th>natureza</th>\n      <th>sexo</th>\n      <th>cargos</th>\n      <th>corpo</th>\n    </tr>\n  </thead>\n  <tbody>\n    <tr>\n      <th>0</th>\n      <td>4</td>\n      <td>6310.text</td>\n      <td>POLÍTICA DE CLIENTELA</td>\n      <td>temático</td>\n      <td>None</td>\n      <td>NA</td>\n      <td>\\n\\nExpressão cunhada e conceito desenvolvido ...</td>\n    </tr>\n    <tr>\n      <th>1</th>\n      <td>21</td>\n      <td>5742.text</td>\n      <td>ASSEMBLÉIA NACIONAL CONSTITUINTE DE 1987-88</td>\n      <td>temático</td>\n      <td>None</td>\n      <td>NA</td>\n      <td>\\n\\nNo dia 1º de fevereiro de 1987, os membros...</td>\n    </tr>\n    <tr>\n      <th>2</th>\n      <td>42</td>\n      <td>5793.text</td>\n      <td>I CONGRESSO ANTIFASCISTA</td>\n      <td>temático</td>\n      <td>None</td>\n      <td>NA</td>\n      <td>\\n \\nReunião realizada no Rio de Janeiro em ag...</td>\n    </tr>\n    <tr>\n      <th>3</th>\n      <td>52</td>\n      <td>6346.text</td>\n      <td>REDE BANDEIRANTES</td>\n      <td>temático</td>\n      <td>None</td>\n      <td>NA</td>\n      <td>\\n\\nRede de televisão pertencente ao grupo pau...</td>\n    </tr>\n    <tr>\n      <th>4</th>\n      <td>60</td>\n      <td>11892.text</td>\n      <td>AGÊNCIA NACIONAL DE ENERGIA ELÉTRICA (ANEEL)</td>\n      <td>temático</td>\n      <td>None</td>\n      <td>NA</td>\n      <td>\\n\\nAutarquia em regime especial, vinculada ao...</td>\n    </tr>\n  </tbody>\n</table>\n</div>"
     },
     "execution_count": 69,
     "metadata": {},
     "output_type": "execute_result"
    }
   ],
   "source": [
    "pd.read_sql_query(\"select * from resultados where natureza='temático'\", con=engine).head()"
   ]
  },
  {
   "cell_type": "code",
   "execution_count": null,
   "metadata": {},
   "outputs": [],
   "source": []
  },
  {
   "cell_type": "code",
   "execution_count": null,
   "metadata": {},
   "outputs": [],
   "source": []
  }
 ],
 "metadata": {
  "kernelspec": {
   "display_name": "Python 3.10.6 64-bit",
   "language": "python",
   "name": "python3"
  },
  "language_info": {
   "codemirror_mode": {
    "name": "ipython",
    "version": 3
   },
   "file_extension": ".py",
   "mimetype": "text/x-python",
   "name": "python",
   "nbconvert_exporter": "python",
   "pygments_lexer": "ipython3",
   "version": "3.10.6"
  },
  "latex_envs": {
   "LaTeX_envs_menu_present": true,
   "autoclose": false,
   "autocomplete": true,
   "bibliofile": "biblio.bib",
   "cite_by": "apalike",
   "current_citInitial": 1,
   "eqLabelWithNumbers": true,
   "eqNumInitial": 1,
   "hotkeys": {
    "equation": "Ctrl-E",
    "itemize": "Ctrl-I"
   },
   "labels_anchors": false,
   "latex_user_defs": false,
   "report_style_numbering": false,
   "user_envs_cfg": false
  },
  "latex_metadata": {
   "affiliation": "FGV-EMAp",
   "author": "Flávio Codeço Coelho",
   "bib": "notebook.bib",
   "title": "Interagindo com Arquivos de Texto"
  },
  "vscode": {
   "interpreter": {
    "hash": "916dbcbb3f70747c44a77c7bcd40155683ae19c65e1c03b4aa3499c5328201f1"
   }
  }
 },
 "nbformat": 4,
 "nbformat_minor": 4
}
