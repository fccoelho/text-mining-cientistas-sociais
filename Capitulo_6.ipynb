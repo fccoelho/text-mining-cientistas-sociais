{
 "cells": [
  {
   "cell_type": "markdown",
   "id": "6c9c3521-e56e-4a09-8060-a2eb3c352080",
   "metadata": {},
   "source": [
    "# Analizando Redes de Colaboração Científica\n",
    "Para podermos analizar redes de colaboração em publicações científicas, precisamos antes construir um banco de resumos para "
   ]
  },
  {
   "cell_type": "code",
   "execution_count": null,
   "id": "88ed1d45-d9f3-4008-ae6f-d0b681d7b28f",
   "metadata": {},
   "outputs": [],
   "source": []
  }
 ],
 "metadata": {
  "kernelspec": {
   "display_name": "Python 3 (ipykernel)",
   "language": "python",
   "name": "python3"
  },
  "language_info": {
   "codemirror_mode": {
    "name": "ipython",
    "version": 3
   },
   "file_extension": ".py",
   "mimetype": "text/x-python",
   "name": "python",
   "nbconvert_exporter": "python",
   "pygments_lexer": "ipython3",
   "version": "3.10.6"
  }
 },
 "nbformat": 4,
 "nbformat_minor": 5
}
