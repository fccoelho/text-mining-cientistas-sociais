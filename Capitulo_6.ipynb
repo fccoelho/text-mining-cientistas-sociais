{
 "cells": [
  {
   "cell_type": "markdown",
   "id": "6c9c3521-e56e-4a09-8060-a2eb3c352080",
   "metadata": {},
   "source": [
    "# Analizando Redes de Colaboração Científica\n",
    "Para podermos analizar redes de colaboração em publicações científicas, precisamos antes construir um banco de referências. Para isso iremos utilizar [este código](https://github.com/fccoelho/pubmed_downloader/blob/master/fetch2pgsql.py)."
   ]
  },
  {
   "cell_type": "code",
   "execution_count": 9,
   "id": "88ed1d45-d9f3-4008-ae6f-d0b681d7b28f",
   "metadata": {},
   "outputs": [
    {
     "name": "stdout",
     "output_type": "stream",
     "text": [
      "Fetching results for covid19\n",
      "Found 9999 new items, out of 9999.\n",
      "  0%|                                         | 18/9999 [00:07<59:19,  2.80it/s]Downloading of 36507147 failed. HTTP Error 429: Too Many Requests\n",
      "Downloading of 36506827 failed. HTTP Error 429: Too Many Requests\n",
      "Downloading of 36508255 failed. HTTP Error 429: Too Many Requests\n",
      "Downloading of 36507072 failed. HTTP Error 429: Too Many Requests\n",
      "Downloading of 36506773 failed. HTTP Error 429: Too Many Requests\n",
      "Downloading of 36508158 failed. HTTP Error 429: Too Many Requests\n",
      "Downloading of 36507221 failed. HTTP Error 429: Too Many Requests\n",
      "Downloading of 36507972 failed. HTTP Error 429: Too Many Requests\n",
      "Downloading of 36507021 failed. HTTP Error 429: Too Many Requests\n",
      "Downloading of 36507045 failed. HTTP Error 429: Too Many Requests\n",
      "Downloading of 36507535 failed. HTTP Error 429: Too Many Requests\n",
      "Downloading of 36506831 failed. HTTP Error 429: Too Many Requests\n",
      "Downloading of 36507006 failed. HTTP Error 429: Too Many Requests\n",
      "Downloading of 36506791 failed. HTTP Error 429: Too Many Requests\n",
      "Downloading of 36506795 failed. HTTP Error 429: Too Many Requests\n",
      "Downloading of 36507092 failed. HTTP Error 429: Too Many Requests\n",
      "Downloading of 36507524 failed. HTTP Error 429: Too Many Requests\n",
      "Downloading of 36507366 failed. HTTP Error 429: Too Many Requests\n",
      "Downloading of 36506958 failed. HTTP Error 429: Too Many Requests\n",
      "Downloading of 36507538 failed. HTTP Error 429: Too Many Requests\n",
      "Downloading of 36506823 failed. HTTP Error 429: Too Many Requests\n",
      "Downloading of 36506848 failed. HTTP Error 429: Too Many Requests\n",
      "Downloading of 36507506 failed. HTTP Error 429: Too Many Requests\n",
      "Downloading of 36506924 failed. HTTP Error 429: Too Many Requests\n",
      "Downloading of 36507008 failed. HTTP Error 429: Too Many Requests\n",
      "Downloading of 36507803 failed. HTTP Error 429: Too Many Requests\n",
      "Downloading of 36507575 failed. HTTP Error 429: Too Many Requests\n",
      "Downloading of 36507266 failed. HTTP Error 429: Too Many Requests\n",
      "Downloading of 36508083 failed. HTTP Error 429: Too Many Requests\n",
      "Downloading of 36506920 failed. HTTP Error 429: Too Many Requests\n",
      "Downloading of 36506906 failed. HTTP Error 429: Too Many Requests\n",
      "\n",
      "Downloading of 36507303 failed. HTTP Error 429: Too Many Requests\n",
      "Downloading of 36507009 failed. HTTP Error 429: Too Many Requests\n",
      "Downloading of 36506908 failed. HTTP Error 429: Too Many Requests\n",
      "Downloading of 36507545 failed. HTTP Error 429: Too Many Requests\n",
      "Downloading of 36506918 failed. HTTP Error 429: Too Many Requests\n",
      "Downloading of 36506844 failed. HTTP Error 429: Too Many Requests\n",
      "Downloading of 36506717 failed. HTTP Error 429: Too Many Requests\n",
      "Downloading of 36507222 failed. HTTP Error 429: Too Many Requests\n",
      "Downloading of 36507788 failed. HTTP Error 429: Too Many Requests\n",
      "Downloading of 36506836 failed. HTTP Error 429: Too Many Requests\n",
      "Downloading of 36507133 failed. HTTP Error 429: Too Many Requests\n",
      "Downloading of 36507509 failed. HTTP Error 429: Too Many Requests\n",
      "Downloading of 36508030 failed. HTTP Error 429: Too Many Requests\n",
      "Downloading of 36508137 failed. HTTP Error 429: Too Many Requests\n",
      "Downloading of 36507615 failed. HTTP Error 429: Too Many Requests\n",
      "Downloading of 36506838 failed. HTTP Error 429: Too Many Requests\n",
      "Downloading of 36508290 failed. HTTP Error 429: Too Many Requests\n",
      "Downloading of 36507264 failed. HTTP Error 429: Too Many Requests\n",
      "Downloading of 36507926 failed. HTTP Error 429: Too Many Requests\n",
      "Downloading of 36507219 failed. HTTP Error 429: Too Many Requests\n",
      "Downloading of 36507113 failed. HTTP Error 429: Too Many Requests\n",
      "Downloading of 36506980 failed. HTTP Error 429: Too Many Requests\n",
      "\n",
      "Downloading of 36507112 failed. HTTP Error 429: Too Many Requests\n",
      "Downloading of 36506868 failed. HTTP Error 429: Too Many Requests\n",
      "Downloading of 36507117 failed. HTTP Error 429: Too Many Requests\n",
      "Downloading of 36506757 failed. HTTP Error 429: Too Many Requests\n",
      "Downloading of 36507224 failed. HTTP Error 429: Too Many Requests\n",
      "Downloading of 36506938 failed. HTTP Error 429: Too Many Requests\n",
      "Downloading of 36508048 failed. HTTP Error 429: Too Many Requests\n",
      "Downloading of 36506986 failed. HTTP Error 429: Too Many Requests\n",
      "Downloading of 36506876 failed. HTTP Error 429: Too Many Requests\n",
      "  2%|▉                                     | 233/9999 [02:18<1:46:35,  1.53it/s]Downloading of 36503992 failed. HTTP Error 429: Too Many Requests\n",
      "Downloading of 36504073 failed. HTTP Error 429: Too Many Requests\n",
      "Downloading of 36503711 failed. HTTP Error 429: Too Many Requests\n",
      "Downloading of 36503824 failed. HTTP Error 429: Too Many Requests\n",
      "Downloading of 36504012 failed. HTTP Error 429: Too Many Requests\n",
      "Downloading of 36503653 failed. HTTP Error 429: Too Many Requests\n",
      "  5%|█▋                                    | 457/9999 [04:15<1:02:33,  2.54it/s]Downloading of 36498197 failed. HTTP Error 429: Too Many Requests\n",
      "  8%|███                                   | 812/9999 [07:26<1:06:17,  2.31it/s]^C\n"
     ]
    }
   ],
   "source": [
    "!./fetch2pgsql.py"
   ]
  },
  {
   "cell_type": "code",
   "execution_count": 8,
   "id": "f4cd6aa9-94d0-4d81-8490-01db79f3f1da",
   "metadata": {},
   "outputs": [
    {
     "ename": "NameError",
     "evalue": "name 'sds' is not defined",
     "output_type": "error",
     "traceback": [
      "\u001b[0;31m---------------------------------------------------------------------------\u001b[0m",
      "\u001b[0;31mNameError\u001b[0m                                 Traceback (most recent call last)",
      "\u001b[0;32m/tmp/ipykernel_2934243/364109357.py\u001b[0m in \u001b[0;36m<cell line: 1>\u001b[0;34m()\u001b[0m\n\u001b[0;32m----> 1\u001b[0;31m \u001b[0msds\u001b[0m\u001b[0;34m\u001b[0m\u001b[0;34m\u001b[0m\u001b[0m\n\u001b[0m",
      "\u001b[0;31mNameError\u001b[0m: name 'sds' is not defined"
     ]
    }
   ],
   "source": []
  },
  {
   "cell_type": "code",
   "execution_count": null,
   "id": "b098b190-fd70-4428-8108-927a0059550a",
   "metadata": {},
   "outputs": [],
   "source": []
  }
 ],
 "metadata": {
  "kernelspec": {
   "display_name": "Python 3 (ipykernel)",
   "language": "python",
   "name": "python3"
  },
  "language_info": {
   "codemirror_mode": {
    "name": "ipython",
    "version": 3
   },
   "file_extension": ".py",
   "mimetype": "text/x-python",
   "name": "python",
   "nbconvert_exporter": "python",
   "pygments_lexer": "ipython3",
   "version": "3.10.6"
  }
 },
 "nbformat": 4,
 "nbformat_minor": 5
}
