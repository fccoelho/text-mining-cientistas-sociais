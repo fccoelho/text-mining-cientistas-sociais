{
 "cells": [
  {
   "cell_type": "markdown",
   "metadata": {},
   "source": [
    "# Construindo um Classificador de Textos\n",
    "Uma das aplicações mais comuns em mineração de textos é a classificações de documentos em categorias pré-definidas, sejam elas autorais, temáticas, temporais ou outras. \n",
    "\n",
    "Neste capítulo iremos explorar os passos necessários para o desenvolvimento de um classificador de documentos utilizando as análises feitas sobre o corpus do DHBB nos capítulos anteriores.\n",
    "\n",
    "Para esta tarefa utilizaremos modelos de machine learning clássicos disponibilizados na biblioteca [Scikit-Learn](https://scikit-learn.org/). Começaremos então importando algumas funcionalidades a partir do Scikit-Learn. Os demais imports já foram utilizados anteriormente."
   ]
  },
  {
   "cell_type": "code",
   "execution_count": 1,
   "metadata": {
    "tags": [
     "hide-input"
    ]
   },
   "outputs": [],
   "source": [
    "import warnings\n",
    "warnings.filterwarnings('ignore')"
   ]
  },
  {
   "cell_type": "code",
   "execution_count": 38,
   "metadata": {
    "ExecuteTime": {
     "end_time": "2020-11-30T18:11:52.781057Z",
     "start_time": "2020-11-30T18:11:52.776773Z"
    }
   },
   "outputs": [],
   "source": [
    "from sklearn.ensemble import RandomForestClassifier, VotingClassifier\n",
    "from sklearn.ensemble import ExtraTreesClassifier\n",
    "from sklearn.pipeline import make_pipeline\n",
    "from sklearn.svm import SVC\n",
    "from sklearn.metrics import classification_report\n",
    "from sklearn.model_selection import StratifiedKFold, cross_val_score, cross_val_predict, train_test_split\n",
    "from sklearn.metrics import roc_curve, auc\n",
    "from sklearn.preprocessing import StandardScaler\n",
    "from gensim.models import Word2Vec, word2vec\n",
    "import spacy\n",
    "from spacy import displacy\n",
    "from string import punctuation\n",
    "from sqlalchemy import create_engine\n",
    "import pandas as pd\n",
    "import numpy as np\n",
    "import os"
   ]
  },
  {
   "cell_type": "markdown",
   "metadata": {},
   "source": [
    "## Preparando o corpus\n",
    "Vamos utilizar o corpus do DHBB conforme armazenado na biblioteca SQLite anteriormente. Abaixo iremos desenvolver um iterador sobre o corpus que fará um preprocessamento básico dos documentos."
   ]
  },
  {
   "cell_type": "code",
   "execution_count": 3,
   "metadata": {
    "ExecuteTime": {
     "end_time": "2020-11-30T17:33:38.508266Z",
     "start_time": "2020-11-30T17:33:35.735062Z"
    }
   },
   "outputs": [],
   "source": [
    "eng = create_engine(\"sqlite:///minha_tabela.sqlite\")\n",
    "nlp = spacy.load(\"pt_core_news_sm\")\n",
    "class DHBBCorpus:\n",
    "    def __init__(self, ndocs=10000, process=True):\n",
    "        self.process = process\n",
    "        self.ndocs = min(7687,ndocs)\n",
    "        self.counter = 1\n",
    "    def __iter__(self):\n",
    "        with eng.connect() as con:\n",
    "            res = con.execute(f'select corpo from resultados limit {self.ndocs};')\n",
    "            for doc in res:\n",
    "                if self.process:\n",
    "                    d = self.pre_process(doc[0])\n",
    "                else: \n",
    "                    d = doc[0]\n",
    "                if self.counter%10 == 0:\n",
    "                    print (f\"Verbete {self.counter} de {self.ndocs}\\r\", end='')\n",
    "                \n",
    "                yield d\n",
    "                self.counter += 1\n",
    "    def pre_process(self, doc):\n",
    "        n = nlp(doc, disable=['tagger', 'ner','entity-linker', 'textcat','entity-ruler','merge-noun-chunks','merge-entities','merge-subtokens'])\n",
    "        results = [token.text.strip().strip(punctuation) for token in n if not token.is_stop]\n",
    "        return results"
   ]
  },
  {
   "cell_type": "markdown",
   "metadata": {},
   "source": [
    "## Carregando o Modelo Word2vec\n",
    "Vamos utilizar a representação vetorial do corpus construida anteriormente como base para o treinamento do classificador. "
   ]
  },
  {
   "cell_type": "code",
   "execution_count": 4,
   "metadata": {
    "ExecuteTime": {
     "end_time": "2020-11-30T17:34:08.304822Z",
     "start_time": "2020-11-30T17:34:07.810137Z"
    }
   },
   "outputs": [],
   "source": [
    "model = Word2Vec.load('dhbb.w2v')"
   ]
  },
  {
   "cell_type": "code",
   "execution_count": 5,
   "metadata": {
    "ExecuteTime": {
     "end_time": "2020-11-30T17:34:15.885416Z",
     "start_time": "2020-11-30T17:34:15.874539Z"
    }
   },
   "outputs": [
    {
     "data": {
      "text/plain": [
       "(38762, 100)"
      ]
     },
     "execution_count": 5,
     "metadata": {},
     "output_type": "execute_result"
    }
   ],
   "source": [
    "model.wv.vectors.shape"
   ]
  },
  {
   "cell_type": "markdown",
   "metadata": {},
   "source": [
    "Como  o word2vec é uma representação vetorial do vocabulário do corpus, e desejamos treinar um modelo para classificar documentos, precisamos primeiro construir uma representação dos documentos do corpus no mesmo espaço vetorial gerado pelo Word2vec.\n",
    "\n",
    "Na função abaixo, contruimos um vetor de documento que é a média dos vetores das palavras únicas que este contém."
   ]
  },
  {
   "cell_type": "code",
   "execution_count": 6,
   "metadata": {
    "ExecuteTime": {
     "end_time": "2020-11-30T17:40:43.282625Z",
     "start_time": "2020-11-30T17:40:43.276347Z"
    },
    "code_folding": []
   },
   "outputs": [],
   "source": [
    "def build_document_vector(text):\n",
    "    \"\"\"\n",
    "    Build a scaled vector for the document (mean of the words present in it)\n",
    "    :param text: document to be vectorized (tokenized)\n",
    "    :param model: word2vec model\n",
    "    :return:\n",
    "    \"\"\"\n",
    "    feature_count = model.wv.vectors.shape[1]\n",
    "    vec = np.zeros(feature_count).reshape((1, feature_count))\n",
    "    count = 0.\n",
    "    \n",
    "\n",
    "    for word in text:\n",
    "        try:\n",
    "            vec += model.wv[word].reshape((1, feature_count))\n",
    "            count += 1.\n",
    "        except KeyError:\n",
    "            continue\n",
    "    if count != 0:\n",
    "        vec /= count\n",
    "    return vec"
   ]
  },
  {
   "cell_type": "code",
   "execution_count": 7,
   "metadata": {
    "ExecuteTime": {
     "end_time": "2020-11-30T17:41:54.655197Z",
     "start_time": "2020-11-30T17:41:54.651623Z"
    }
   },
   "outputs": [],
   "source": [
    "\n",
    "def gera_docv(n):\n",
    "    corpus = DHBBCorpus(n)\n",
    "    for doc in corpus:\n",
    "        v = build_document_vector(set(doc))\n",
    "        yield v\n"
   ]
  },
  {
   "cell_type": "markdown",
   "metadata": {},
   "source": [
    "## Preparando os dados treinamento do Classificador\n",
    "Abaixo vamos calcular os vetores dos documentos no espaço definido pelo W2V. Como este é um processo longo vamos salvar o resultado, para não ter que re-gerar os vetores de documento das próximas vezes."
   ]
  },
  {
   "cell_type": "code",
   "execution_count": 9,
   "metadata": {
    "ExecuteTime": {
     "end_time": "2020-11-30T17:58:00.671951Z",
     "start_time": "2020-11-30T17:43:32.994404Z"
    }
   },
   "outputs": [
    {
     "data": {
      "text/html": [
       "<div>\n",
       "<style scoped>\n",
       "    .dataframe tbody tr th:only-of-type {\n",
       "        vertical-align: middle;\n",
       "    }\n",
       "\n",
       "    .dataframe tbody tr th {\n",
       "        vertical-align: top;\n",
       "    }\n",
       "\n",
       "    .dataframe thead th {\n",
       "        text-align: right;\n",
       "    }\n",
       "</style>\n",
       "<table border=\"1\" class=\"dataframe\">\n",
       "  <thead>\n",
       "    <tr style=\"text-align: right;\">\n",
       "      <th></th>\n",
       "      <th>Unnamed: 0</th>\n",
       "      <th>0</th>\n",
       "      <th>1</th>\n",
       "      <th>2</th>\n",
       "      <th>3</th>\n",
       "      <th>4</th>\n",
       "      <th>5</th>\n",
       "      <th>6</th>\n",
       "      <th>7</th>\n",
       "      <th>8</th>\n",
       "      <th>...</th>\n",
       "      <th>90</th>\n",
       "      <th>91</th>\n",
       "      <th>92</th>\n",
       "      <th>93</th>\n",
       "      <th>94</th>\n",
       "      <th>95</th>\n",
       "      <th>96</th>\n",
       "      <th>97</th>\n",
       "      <th>98</th>\n",
       "      <th>99</th>\n",
       "    </tr>\n",
       "  </thead>\n",
       "  <tbody>\n",
       "    <tr>\n",
       "      <th>0</th>\n",
       "      <td>0</td>\n",
       "      <td>0.329596</td>\n",
       "      <td>-0.396530</td>\n",
       "      <td>-0.234968</td>\n",
       "      <td>-0.008919</td>\n",
       "      <td>-0.392844</td>\n",
       "      <td>0.082079</td>\n",
       "      <td>0.643818</td>\n",
       "      <td>-0.036871</td>\n",
       "      <td>-0.374934</td>\n",
       "      <td>...</td>\n",
       "      <td>-0.081099</td>\n",
       "      <td>-0.177185</td>\n",
       "      <td>-0.233904</td>\n",
       "      <td>0.033541</td>\n",
       "      <td>0.796993</td>\n",
       "      <td>0.192985</td>\n",
       "      <td>0.214785</td>\n",
       "      <td>-0.679149</td>\n",
       "      <td>-0.522531</td>\n",
       "      <td>0.060596</td>\n",
       "    </tr>\n",
       "    <tr>\n",
       "      <th>1</th>\n",
       "      <td>1</td>\n",
       "      <td>-0.035577</td>\n",
       "      <td>-0.055027</td>\n",
       "      <td>-0.201358</td>\n",
       "      <td>0.587101</td>\n",
       "      <td>0.143018</td>\n",
       "      <td>0.238591</td>\n",
       "      <td>0.210333</td>\n",
       "      <td>-0.110109</td>\n",
       "      <td>-0.065921</td>\n",
       "      <td>...</td>\n",
       "      <td>0.346693</td>\n",
       "      <td>0.047858</td>\n",
       "      <td>-0.110081</td>\n",
       "      <td>0.132066</td>\n",
       "      <td>0.261467</td>\n",
       "      <td>0.295954</td>\n",
       "      <td>0.172945</td>\n",
       "      <td>-0.311859</td>\n",
       "      <td>-0.530189</td>\n",
       "      <td>0.316330</td>\n",
       "    </tr>\n",
       "    <tr>\n",
       "      <th>2</th>\n",
       "      <td>2</td>\n",
       "      <td>0.197316</td>\n",
       "      <td>-0.189868</td>\n",
       "      <td>-0.271159</td>\n",
       "      <td>0.113843</td>\n",
       "      <td>-0.215909</td>\n",
       "      <td>0.009961</td>\n",
       "      <td>0.067409</td>\n",
       "      <td>-0.324156</td>\n",
       "      <td>-0.115856</td>\n",
       "      <td>...</td>\n",
       "      <td>-0.189233</td>\n",
       "      <td>0.419339</td>\n",
       "      <td>-0.113524</td>\n",
       "      <td>0.013359</td>\n",
       "      <td>0.213817</td>\n",
       "      <td>0.028746</td>\n",
       "      <td>-0.033972</td>\n",
       "      <td>-0.277325</td>\n",
       "      <td>0.123685</td>\n",
       "      <td>0.069090</td>\n",
       "    </tr>\n",
       "    <tr>\n",
       "      <th>3</th>\n",
       "      <td>3</td>\n",
       "      <td>0.014647</td>\n",
       "      <td>-0.066778</td>\n",
       "      <td>-0.286216</td>\n",
       "      <td>0.386036</td>\n",
       "      <td>-0.009316</td>\n",
       "      <td>0.152754</td>\n",
       "      <td>0.165088</td>\n",
       "      <td>-0.023266</td>\n",
       "      <td>-0.212305</td>\n",
       "      <td>...</td>\n",
       "      <td>0.200119</td>\n",
       "      <td>0.120266</td>\n",
       "      <td>0.037666</td>\n",
       "      <td>0.046779</td>\n",
       "      <td>-0.003079</td>\n",
       "      <td>0.229816</td>\n",
       "      <td>0.004536</td>\n",
       "      <td>-0.170485</td>\n",
       "      <td>-0.298309</td>\n",
       "      <td>0.350582</td>\n",
       "    </tr>\n",
       "    <tr>\n",
       "      <th>4</th>\n",
       "      <td>4</td>\n",
       "      <td>0.090165</td>\n",
       "      <td>-0.315809</td>\n",
       "      <td>-0.481903</td>\n",
       "      <td>0.149809</td>\n",
       "      <td>-0.619123</td>\n",
       "      <td>-0.187226</td>\n",
       "      <td>0.241048</td>\n",
       "      <td>0.623205</td>\n",
       "      <td>-0.761205</td>\n",
       "      <td>...</td>\n",
       "      <td>0.061845</td>\n",
       "      <td>-0.045994</td>\n",
       "      <td>-0.384362</td>\n",
       "      <td>-0.425419</td>\n",
       "      <td>1.413234</td>\n",
       "      <td>0.333866</td>\n",
       "      <td>0.776052</td>\n",
       "      <td>-0.494529</td>\n",
       "      <td>-1.045886</td>\n",
       "      <td>0.075690</td>\n",
       "    </tr>\n",
       "    <tr>\n",
       "      <th>...</th>\n",
       "      <td>...</td>\n",
       "      <td>...</td>\n",
       "      <td>...</td>\n",
       "      <td>...</td>\n",
       "      <td>...</td>\n",
       "      <td>...</td>\n",
       "      <td>...</td>\n",
       "      <td>...</td>\n",
       "      <td>...</td>\n",
       "      <td>...</td>\n",
       "      <td>...</td>\n",
       "      <td>...</td>\n",
       "      <td>...</td>\n",
       "      <td>...</td>\n",
       "      <td>...</td>\n",
       "      <td>...</td>\n",
       "      <td>...</td>\n",
       "      <td>...</td>\n",
       "      <td>...</td>\n",
       "      <td>...</td>\n",
       "      <td>...</td>\n",
       "    </tr>\n",
       "    <tr>\n",
       "      <th>7682</th>\n",
       "      <td>7682</td>\n",
       "      <td>-0.090562</td>\n",
       "      <td>-0.084047</td>\n",
       "      <td>-0.383710</td>\n",
       "      <td>0.592161</td>\n",
       "      <td>-0.068067</td>\n",
       "      <td>0.279899</td>\n",
       "      <td>0.319775</td>\n",
       "      <td>-0.228383</td>\n",
       "      <td>-0.037196</td>\n",
       "      <td>...</td>\n",
       "      <td>0.274444</td>\n",
       "      <td>0.016063</td>\n",
       "      <td>-0.305153</td>\n",
       "      <td>0.150342</td>\n",
       "      <td>0.168861</td>\n",
       "      <td>0.206285</td>\n",
       "      <td>0.045919</td>\n",
       "      <td>-0.311792</td>\n",
       "      <td>-0.619057</td>\n",
       "      <td>0.102819</td>\n",
       "    </tr>\n",
       "    <tr>\n",
       "      <th>7683</th>\n",
       "      <td>7683</td>\n",
       "      <td>0.287989</td>\n",
       "      <td>-0.194534</td>\n",
       "      <td>-0.632097</td>\n",
       "      <td>0.139947</td>\n",
       "      <td>-1.013919</td>\n",
       "      <td>-0.531953</td>\n",
       "      <td>0.278965</td>\n",
       "      <td>0.712771</td>\n",
       "      <td>-0.324023</td>\n",
       "      <td>...</td>\n",
       "      <td>-0.502793</td>\n",
       "      <td>-0.146258</td>\n",
       "      <td>-0.535257</td>\n",
       "      <td>-0.699357</td>\n",
       "      <td>1.315595</td>\n",
       "      <td>0.183300</td>\n",
       "      <td>0.142800</td>\n",
       "      <td>-0.346391</td>\n",
       "      <td>-0.613722</td>\n",
       "      <td>-0.205855</td>\n",
       "    </tr>\n",
       "    <tr>\n",
       "      <th>7684</th>\n",
       "      <td>7684</td>\n",
       "      <td>-0.294879</td>\n",
       "      <td>-0.429416</td>\n",
       "      <td>-0.505813</td>\n",
       "      <td>0.075155</td>\n",
       "      <td>-0.216774</td>\n",
       "      <td>0.174914</td>\n",
       "      <td>0.491742</td>\n",
       "      <td>0.038708</td>\n",
       "      <td>-0.140709</td>\n",
       "      <td>...</td>\n",
       "      <td>-0.011171</td>\n",
       "      <td>-0.008312</td>\n",
       "      <td>-0.336977</td>\n",
       "      <td>-0.009365</td>\n",
       "      <td>0.171825</td>\n",
       "      <td>0.423463</td>\n",
       "      <td>0.004228</td>\n",
       "      <td>-0.400308</td>\n",
       "      <td>-0.435773</td>\n",
       "      <td>0.207956</td>\n",
       "    </tr>\n",
       "    <tr>\n",
       "      <th>7685</th>\n",
       "      <td>7685</td>\n",
       "      <td>0.133161</td>\n",
       "      <td>-0.206598</td>\n",
       "      <td>-0.060065</td>\n",
       "      <td>0.013977</td>\n",
       "      <td>-0.309454</td>\n",
       "      <td>0.137658</td>\n",
       "      <td>0.484802</td>\n",
       "      <td>-0.104421</td>\n",
       "      <td>-0.151667</td>\n",
       "      <td>...</td>\n",
       "      <td>-0.025340</td>\n",
       "      <td>-0.111797</td>\n",
       "      <td>-0.485028</td>\n",
       "      <td>-0.052700</td>\n",
       "      <td>0.432771</td>\n",
       "      <td>0.114540</td>\n",
       "      <td>0.181120</td>\n",
       "      <td>-0.433214</td>\n",
       "      <td>-0.202734</td>\n",
       "      <td>0.052010</td>\n",
       "    </tr>\n",
       "    <tr>\n",
       "      <th>7686</th>\n",
       "      <td>7686</td>\n",
       "      <td>0.132097</td>\n",
       "      <td>-0.073985</td>\n",
       "      <td>-0.214157</td>\n",
       "      <td>0.329413</td>\n",
       "      <td>0.025007</td>\n",
       "      <td>0.258794</td>\n",
       "      <td>0.047333</td>\n",
       "      <td>-0.096266</td>\n",
       "      <td>-0.139045</td>\n",
       "      <td>...</td>\n",
       "      <td>0.139786</td>\n",
       "      <td>0.383356</td>\n",
       "      <td>0.051125</td>\n",
       "      <td>0.028334</td>\n",
       "      <td>0.088136</td>\n",
       "      <td>0.132211</td>\n",
       "      <td>-0.033077</td>\n",
       "      <td>-0.147892</td>\n",
       "      <td>-0.116214</td>\n",
       "      <td>0.253421</td>\n",
       "    </tr>\n",
       "  </tbody>\n",
       "</table>\n",
       "<p>7687 rows × 101 columns</p>\n",
       "</div>"
      ],
      "text/plain": [
       "      Unnamed: 0         0         1         2         3         4         5  \\\n",
       "0              0  0.329596 -0.396530 -0.234968 -0.008919 -0.392844  0.082079   \n",
       "1              1 -0.035577 -0.055027 -0.201358  0.587101  0.143018  0.238591   \n",
       "2              2  0.197316 -0.189868 -0.271159  0.113843 -0.215909  0.009961   \n",
       "3              3  0.014647 -0.066778 -0.286216  0.386036 -0.009316  0.152754   \n",
       "4              4  0.090165 -0.315809 -0.481903  0.149809 -0.619123 -0.187226   \n",
       "...          ...       ...       ...       ...       ...       ...       ...   \n",
       "7682        7682 -0.090562 -0.084047 -0.383710  0.592161 -0.068067  0.279899   \n",
       "7683        7683  0.287989 -0.194534 -0.632097  0.139947 -1.013919 -0.531953   \n",
       "7684        7684 -0.294879 -0.429416 -0.505813  0.075155 -0.216774  0.174914   \n",
       "7685        7685  0.133161 -0.206598 -0.060065  0.013977 -0.309454  0.137658   \n",
       "7686        7686  0.132097 -0.073985 -0.214157  0.329413  0.025007  0.258794   \n",
       "\n",
       "             6         7         8  ...        90        91        92  \\\n",
       "0     0.643818 -0.036871 -0.374934  ... -0.081099 -0.177185 -0.233904   \n",
       "1     0.210333 -0.110109 -0.065921  ...  0.346693  0.047858 -0.110081   \n",
       "2     0.067409 -0.324156 -0.115856  ... -0.189233  0.419339 -0.113524   \n",
       "3     0.165088 -0.023266 -0.212305  ...  0.200119  0.120266  0.037666   \n",
       "4     0.241048  0.623205 -0.761205  ...  0.061845 -0.045994 -0.384362   \n",
       "...        ...       ...       ...  ...       ...       ...       ...   \n",
       "7682  0.319775 -0.228383 -0.037196  ...  0.274444  0.016063 -0.305153   \n",
       "7683  0.278965  0.712771 -0.324023  ... -0.502793 -0.146258 -0.535257   \n",
       "7684  0.491742  0.038708 -0.140709  ... -0.011171 -0.008312 -0.336977   \n",
       "7685  0.484802 -0.104421 -0.151667  ... -0.025340 -0.111797 -0.485028   \n",
       "7686  0.047333 -0.096266 -0.139045  ...  0.139786  0.383356  0.051125   \n",
       "\n",
       "            93        94        95        96        97        98        99  \n",
       "0     0.033541  0.796993  0.192985  0.214785 -0.679149 -0.522531  0.060596  \n",
       "1     0.132066  0.261467  0.295954  0.172945 -0.311859 -0.530189  0.316330  \n",
       "2     0.013359  0.213817  0.028746 -0.033972 -0.277325  0.123685  0.069090  \n",
       "3     0.046779 -0.003079  0.229816  0.004536 -0.170485 -0.298309  0.350582  \n",
       "4    -0.425419  1.413234  0.333866  0.776052 -0.494529 -1.045886  0.075690  \n",
       "...        ...       ...       ...       ...       ...       ...       ...  \n",
       "7682  0.150342  0.168861  0.206285  0.045919 -0.311792 -0.619057  0.102819  \n",
       "7683 -0.699357  1.315595  0.183300  0.142800 -0.346391 -0.613722 -0.205855  \n",
       "7684 -0.009365  0.171825  0.423463  0.004228 -0.400308 -0.435773  0.207956  \n",
       "7685 -0.052700  0.432771  0.114540  0.181120 -0.433214 -0.202734  0.052010  \n",
       "7686  0.028334  0.088136  0.132211 -0.033077 -0.147892 -0.116214  0.253421  \n",
       "\n",
       "[7687 rows x 101 columns]"
      ]
     },
     "execution_count": 9,
     "metadata": {},
     "output_type": "execute_result"
    }
   ],
   "source": [
    "if os.path.exists('doc_feature_matrix.csv.gz'):\n",
    "    data = pd.read_csv('doc_feature_matrix.csv.gz')\n",
    "else:\n",
    "    gerador = gera_docv(10000)\n",
    "    data = pd.DataFrame(data=np.vstack([a for a in gerador]), columns=range(100))\n",
    "    data.to_csv('doc_feature_matrix.csv.gz')\n",
    "data"
   ]
  },
  {
   "cell_type": "markdown",
   "metadata": {},
   "source": [
    "### Definindo a categoria de cada documento para o treinamento\n",
    "Nosso objetvo será diferenciar entre verbetes *temáticos* e *biográficos*."
   ]
  },
  {
   "cell_type": "code",
   "execution_count": 11,
   "metadata": {
    "ExecuteTime": {
     "end_time": "2020-11-30T18:24:27.341662Z",
     "start_time": "2020-11-30T18:24:27.280922Z"
    }
   },
   "outputs": [
    {
     "name": "stdout",
     "output_type": "stream",
     "text": [
      "Número de verbetes temáticos: 963\n"
     ]
    }
   ],
   "source": [
    "def gera_alvo():\n",
    "    df = pd.read_sql_query('select natureza from resultados', con=eng)\n",
    "    alvo = df.natureza.values=='biográfico'\n",
    "    return alvo\n",
    "Y = gera_alvo()\n",
    "print(f\"Número de verbetes temáticos: {len(Y)-sum(Y)}\")"
   ]
  },
  {
   "cell_type": "code",
   "execution_count": 12,
   "metadata": {},
   "outputs": [],
   "source": [
    "df = pd.read_sql_query('select * from resultados', con=eng)"
   ]
  },
  {
   "cell_type": "code",
   "execution_count": 13,
   "metadata": {},
   "outputs": [
    {
     "data": {
      "text/plain": [
       "biográfico    6724\n",
       "temático       963\n",
       "Name: natureza, dtype: int64"
      ]
     },
     "execution_count": 13,
     "metadata": {},
     "output_type": "execute_result"
    }
   ],
   "source": [
    "df.natureza.value_counts()"
   ]
  },
  {
   "cell_type": "markdown",
   "metadata": {},
   "source": [
    "Vamos dividir a tabela de vetores de documentos em Biográficos e temáticos"
   ]
  },
  {
   "cell_type": "code",
   "execution_count": 14,
   "metadata": {
    "ExecuteTime": {
     "end_time": "2020-11-30T18:28:20.838969Z",
     "start_time": "2020-11-30T18:28:20.833619Z"
    }
   },
   "outputs": [],
   "source": [
    "biog = data.iloc[Y]\n",
    "tem = data.iloc[~Y]"
   ]
  },
  {
   "cell_type": "markdown",
   "metadata": {},
   "source": [
    "Como o número de verbetes biográficos é muito maior, vamos tomar iguais numeros de cada tipo para equilibrar o nosso conjunto de treinamento de documentos."
   ]
  },
  {
   "cell_type": "code",
   "execution_count": 16,
   "metadata": {
    "ExecuteTime": {
     "end_time": "2020-11-30T18:43:21.310931Z",
     "start_time": "2020-11-30T18:43:21.280822Z"
    }
   },
   "outputs": [
    {
     "data": {
      "text/html": [
       "<div>\n",
       "<style scoped>\n",
       "    .dataframe tbody tr th:only-of-type {\n",
       "        vertical-align: middle;\n",
       "    }\n",
       "\n",
       "    .dataframe tbody tr th {\n",
       "        vertical-align: top;\n",
       "    }\n",
       "\n",
       "    .dataframe thead th {\n",
       "        text-align: right;\n",
       "    }\n",
       "</style>\n",
       "<table border=\"1\" class=\"dataframe\">\n",
       "  <thead>\n",
       "    <tr style=\"text-align: right;\">\n",
       "      <th></th>\n",
       "      <th>Unnamed: 0</th>\n",
       "      <th>0</th>\n",
       "      <th>1</th>\n",
       "      <th>2</th>\n",
       "      <th>3</th>\n",
       "      <th>4</th>\n",
       "      <th>5</th>\n",
       "      <th>6</th>\n",
       "      <th>7</th>\n",
       "      <th>8</th>\n",
       "      <th>...</th>\n",
       "      <th>90</th>\n",
       "      <th>91</th>\n",
       "      <th>92</th>\n",
       "      <th>93</th>\n",
       "      <th>94</th>\n",
       "      <th>95</th>\n",
       "      <th>96</th>\n",
       "      <th>97</th>\n",
       "      <th>98</th>\n",
       "      <th>99</th>\n",
       "    </tr>\n",
       "  </thead>\n",
       "  <tbody>\n",
       "    <tr>\n",
       "      <th>1</th>\n",
       "      <td>1</td>\n",
       "      <td>-0.035577</td>\n",
       "      <td>-0.055027</td>\n",
       "      <td>-0.201358</td>\n",
       "      <td>0.587101</td>\n",
       "      <td>0.143018</td>\n",
       "      <td>0.238591</td>\n",
       "      <td>0.210333</td>\n",
       "      <td>-0.110109</td>\n",
       "      <td>-0.065921</td>\n",
       "      <td>...</td>\n",
       "      <td>0.346693</td>\n",
       "      <td>0.047858</td>\n",
       "      <td>-0.110081</td>\n",
       "      <td>0.132066</td>\n",
       "      <td>0.261467</td>\n",
       "      <td>0.295954</td>\n",
       "      <td>0.172945</td>\n",
       "      <td>-0.311859</td>\n",
       "      <td>-0.530189</td>\n",
       "      <td>0.316330</td>\n",
       "    </tr>\n",
       "    <tr>\n",
       "      <th>2</th>\n",
       "      <td>2</td>\n",
       "      <td>0.197316</td>\n",
       "      <td>-0.189868</td>\n",
       "      <td>-0.271159</td>\n",
       "      <td>0.113843</td>\n",
       "      <td>-0.215909</td>\n",
       "      <td>0.009961</td>\n",
       "      <td>0.067409</td>\n",
       "      <td>-0.324156</td>\n",
       "      <td>-0.115856</td>\n",
       "      <td>...</td>\n",
       "      <td>-0.189233</td>\n",
       "      <td>0.419339</td>\n",
       "      <td>-0.113524</td>\n",
       "      <td>0.013359</td>\n",
       "      <td>0.213817</td>\n",
       "      <td>0.028746</td>\n",
       "      <td>-0.033972</td>\n",
       "      <td>-0.277325</td>\n",
       "      <td>0.123685</td>\n",
       "      <td>0.069090</td>\n",
       "    </tr>\n",
       "    <tr>\n",
       "      <th>3</th>\n",
       "      <td>3</td>\n",
       "      <td>0.014647</td>\n",
       "      <td>-0.066778</td>\n",
       "      <td>-0.286216</td>\n",
       "      <td>0.386036</td>\n",
       "      <td>-0.009316</td>\n",
       "      <td>0.152754</td>\n",
       "      <td>0.165088</td>\n",
       "      <td>-0.023266</td>\n",
       "      <td>-0.212305</td>\n",
       "      <td>...</td>\n",
       "      <td>0.200119</td>\n",
       "      <td>0.120266</td>\n",
       "      <td>0.037666</td>\n",
       "      <td>0.046779</td>\n",
       "      <td>-0.003079</td>\n",
       "      <td>0.229816</td>\n",
       "      <td>0.004536</td>\n",
       "      <td>-0.170485</td>\n",
       "      <td>-0.298309</td>\n",
       "      <td>0.350582</td>\n",
       "    </tr>\n",
       "    <tr>\n",
       "      <th>5</th>\n",
       "      <td>5</td>\n",
       "      <td>-0.178505</td>\n",
       "      <td>-0.133307</td>\n",
       "      <td>-0.364329</td>\n",
       "      <td>0.300845</td>\n",
       "      <td>-0.271906</td>\n",
       "      <td>0.031837</td>\n",
       "      <td>0.280504</td>\n",
       "      <td>0.015816</td>\n",
       "      <td>-0.249589</td>\n",
       "      <td>...</td>\n",
       "      <td>0.078988</td>\n",
       "      <td>-0.058762</td>\n",
       "      <td>-0.260532</td>\n",
       "      <td>-0.052188</td>\n",
       "      <td>0.388985</td>\n",
       "      <td>0.249804</td>\n",
       "      <td>0.183886</td>\n",
       "      <td>-0.425724</td>\n",
       "      <td>-0.385240</td>\n",
       "      <td>0.168074</td>\n",
       "    </tr>\n",
       "    <tr>\n",
       "      <th>6</th>\n",
       "      <td>6</td>\n",
       "      <td>-0.186605</td>\n",
       "      <td>-0.104790</td>\n",
       "      <td>-0.164616</td>\n",
       "      <td>0.443936</td>\n",
       "      <td>-0.044171</td>\n",
       "      <td>0.140016</td>\n",
       "      <td>0.628580</td>\n",
       "      <td>0.057058</td>\n",
       "      <td>-0.068198</td>\n",
       "      <td>...</td>\n",
       "      <td>0.168464</td>\n",
       "      <td>-0.399224</td>\n",
       "      <td>-0.253420</td>\n",
       "      <td>0.182177</td>\n",
       "      <td>0.356192</td>\n",
       "      <td>0.380624</td>\n",
       "      <td>0.130648</td>\n",
       "      <td>-0.561957</td>\n",
       "      <td>-0.401013</td>\n",
       "      <td>0.301353</td>\n",
       "    </tr>\n",
       "    <tr>\n",
       "      <th>...</th>\n",
       "      <td>...</td>\n",
       "      <td>...</td>\n",
       "      <td>...</td>\n",
       "      <td>...</td>\n",
       "      <td>...</td>\n",
       "      <td>...</td>\n",
       "      <td>...</td>\n",
       "      <td>...</td>\n",
       "      <td>...</td>\n",
       "      <td>...</td>\n",
       "      <td>...</td>\n",
       "      <td>...</td>\n",
       "      <td>...</td>\n",
       "      <td>...</td>\n",
       "      <td>...</td>\n",
       "      <td>...</td>\n",
       "      <td>...</td>\n",
       "      <td>...</td>\n",
       "      <td>...</td>\n",
       "      <td>...</td>\n",
       "      <td>...</td>\n",
       "    </tr>\n",
       "    <tr>\n",
       "      <th>7631</th>\n",
       "      <td>7631</td>\n",
       "      <td>-0.087792</td>\n",
       "      <td>-0.074713</td>\n",
       "      <td>-0.123323</td>\n",
       "      <td>0.473363</td>\n",
       "      <td>-0.457467</td>\n",
       "      <td>0.069381</td>\n",
       "      <td>0.275153</td>\n",
       "      <td>0.002421</td>\n",
       "      <td>-0.336302</td>\n",
       "      <td>...</td>\n",
       "      <td>0.303183</td>\n",
       "      <td>-0.211976</td>\n",
       "      <td>-0.485498</td>\n",
       "      <td>-0.169897</td>\n",
       "      <td>0.811276</td>\n",
       "      <td>0.307793</td>\n",
       "      <td>0.136199</td>\n",
       "      <td>-0.388782</td>\n",
       "      <td>-0.762703</td>\n",
       "      <td>0.160587</td>\n",
       "    </tr>\n",
       "    <tr>\n",
       "      <th>7644</th>\n",
       "      <td>7644</td>\n",
       "      <td>0.188094</td>\n",
       "      <td>-0.325147</td>\n",
       "      <td>-0.220735</td>\n",
       "      <td>0.123681</td>\n",
       "      <td>-0.145520</td>\n",
       "      <td>0.047282</td>\n",
       "      <td>0.159700</td>\n",
       "      <td>-0.240685</td>\n",
       "      <td>-0.139039</td>\n",
       "      <td>...</td>\n",
       "      <td>-0.059625</td>\n",
       "      <td>0.318651</td>\n",
       "      <td>-0.065475</td>\n",
       "      <td>0.065110</td>\n",
       "      <td>-0.061320</td>\n",
       "      <td>0.045098</td>\n",
       "      <td>-0.073985</td>\n",
       "      <td>-0.215659</td>\n",
       "      <td>0.138790</td>\n",
       "      <td>0.106549</td>\n",
       "    </tr>\n",
       "    <tr>\n",
       "      <th>7663</th>\n",
       "      <td>7663</td>\n",
       "      <td>0.226715</td>\n",
       "      <td>-0.069622</td>\n",
       "      <td>-0.230984</td>\n",
       "      <td>0.245541</td>\n",
       "      <td>-0.100577</td>\n",
       "      <td>0.143116</td>\n",
       "      <td>-0.176785</td>\n",
       "      <td>0.029059</td>\n",
       "      <td>-0.089412</td>\n",
       "      <td>...</td>\n",
       "      <td>0.049539</td>\n",
       "      <td>0.307865</td>\n",
       "      <td>-0.064290</td>\n",
       "      <td>0.005264</td>\n",
       "      <td>0.177949</td>\n",
       "      <td>0.232877</td>\n",
       "      <td>-0.140192</td>\n",
       "      <td>-0.174136</td>\n",
       "      <td>-0.323796</td>\n",
       "      <td>0.299126</td>\n",
       "    </tr>\n",
       "    <tr>\n",
       "      <th>7681</th>\n",
       "      <td>7681</td>\n",
       "      <td>-0.589154</td>\n",
       "      <td>0.148940</td>\n",
       "      <td>-0.451746</td>\n",
       "      <td>0.289620</td>\n",
       "      <td>-0.343539</td>\n",
       "      <td>-0.060328</td>\n",
       "      <td>0.658307</td>\n",
       "      <td>0.367049</td>\n",
       "      <td>-0.443923</td>\n",
       "      <td>...</td>\n",
       "      <td>0.024978</td>\n",
       "      <td>-0.523059</td>\n",
       "      <td>-0.458428</td>\n",
       "      <td>-0.180809</td>\n",
       "      <td>1.185490</td>\n",
       "      <td>0.645396</td>\n",
       "      <td>0.613871</td>\n",
       "      <td>-0.627901</td>\n",
       "      <td>-0.870686</td>\n",
       "      <td>0.487834</td>\n",
       "    </tr>\n",
       "    <tr>\n",
       "      <th>7685</th>\n",
       "      <td>7685</td>\n",
       "      <td>0.133161</td>\n",
       "      <td>-0.206598</td>\n",
       "      <td>-0.060065</td>\n",
       "      <td>0.013977</td>\n",
       "      <td>-0.309454</td>\n",
       "      <td>0.137658</td>\n",
       "      <td>0.484802</td>\n",
       "      <td>-0.104421</td>\n",
       "      <td>-0.151667</td>\n",
       "      <td>...</td>\n",
       "      <td>-0.025340</td>\n",
       "      <td>-0.111797</td>\n",
       "      <td>-0.485028</td>\n",
       "      <td>-0.052700</td>\n",
       "      <td>0.432771</td>\n",
       "      <td>0.114540</td>\n",
       "      <td>0.181120</td>\n",
       "      <td>-0.433214</td>\n",
       "      <td>-0.202734</td>\n",
       "      <td>0.052010</td>\n",
       "    </tr>\n",
       "  </tbody>\n",
       "</table>\n",
       "<p>1926 rows × 101 columns</p>\n",
       "</div>"
      ],
      "text/plain": [
       "      Unnamed: 0         0         1         2         3         4         5  \\\n",
       "1              1 -0.035577 -0.055027 -0.201358  0.587101  0.143018  0.238591   \n",
       "2              2  0.197316 -0.189868 -0.271159  0.113843 -0.215909  0.009961   \n",
       "3              3  0.014647 -0.066778 -0.286216  0.386036 -0.009316  0.152754   \n",
       "5              5 -0.178505 -0.133307 -0.364329  0.300845 -0.271906  0.031837   \n",
       "6              6 -0.186605 -0.104790 -0.164616  0.443936 -0.044171  0.140016   \n",
       "...          ...       ...       ...       ...       ...       ...       ...   \n",
       "7631        7631 -0.087792 -0.074713 -0.123323  0.473363 -0.457467  0.069381   \n",
       "7644        7644  0.188094 -0.325147 -0.220735  0.123681 -0.145520  0.047282   \n",
       "7663        7663  0.226715 -0.069622 -0.230984  0.245541 -0.100577  0.143116   \n",
       "7681        7681 -0.589154  0.148940 -0.451746  0.289620 -0.343539 -0.060328   \n",
       "7685        7685  0.133161 -0.206598 -0.060065  0.013977 -0.309454  0.137658   \n",
       "\n",
       "             6         7         8  ...        90        91        92  \\\n",
       "1     0.210333 -0.110109 -0.065921  ...  0.346693  0.047858 -0.110081   \n",
       "2     0.067409 -0.324156 -0.115856  ... -0.189233  0.419339 -0.113524   \n",
       "3     0.165088 -0.023266 -0.212305  ...  0.200119  0.120266  0.037666   \n",
       "5     0.280504  0.015816 -0.249589  ...  0.078988 -0.058762 -0.260532   \n",
       "6     0.628580  0.057058 -0.068198  ...  0.168464 -0.399224 -0.253420   \n",
       "...        ...       ...       ...  ...       ...       ...       ...   \n",
       "7631  0.275153  0.002421 -0.336302  ...  0.303183 -0.211976 -0.485498   \n",
       "7644  0.159700 -0.240685 -0.139039  ... -0.059625  0.318651 -0.065475   \n",
       "7663 -0.176785  0.029059 -0.089412  ...  0.049539  0.307865 -0.064290   \n",
       "7681  0.658307  0.367049 -0.443923  ...  0.024978 -0.523059 -0.458428   \n",
       "7685  0.484802 -0.104421 -0.151667  ... -0.025340 -0.111797 -0.485028   \n",
       "\n",
       "            93        94        95        96        97        98        99  \n",
       "1     0.132066  0.261467  0.295954  0.172945 -0.311859 -0.530189  0.316330  \n",
       "2     0.013359  0.213817  0.028746 -0.033972 -0.277325  0.123685  0.069090  \n",
       "3     0.046779 -0.003079  0.229816  0.004536 -0.170485 -0.298309  0.350582  \n",
       "5    -0.052188  0.388985  0.249804  0.183886 -0.425724 -0.385240  0.168074  \n",
       "6     0.182177  0.356192  0.380624  0.130648 -0.561957 -0.401013  0.301353  \n",
       "...        ...       ...       ...       ...       ...       ...       ...  \n",
       "7631 -0.169897  0.811276  0.307793  0.136199 -0.388782 -0.762703  0.160587  \n",
       "7644  0.065110 -0.061320  0.045098 -0.073985 -0.215659  0.138790  0.106549  \n",
       "7663  0.005264  0.177949  0.232877 -0.140192 -0.174136 -0.323796  0.299126  \n",
       "7681 -0.180809  1.185490  0.645396  0.613871 -0.627901 -0.870686  0.487834  \n",
       "7685 -0.052700  0.432771  0.114540  0.181120 -0.433214 -0.202734  0.052010  \n",
       "\n",
       "[1926 rows x 101 columns]"
      ]
     },
     "execution_count": 16,
     "metadata": {},
     "output_type": "execute_result"
    }
   ],
   "source": [
    "data2 = pd.concat([biog[:963],tem],axis=0)\n",
    "Y2 = np.array([True]*963 + [False]*963)\n",
    "# data2['Y2'] = Y2\n",
    "# data2 = data2.sample(frac=1).reset_index(drop=True) #shuffle the\n",
    "# Y2 = data2.pop('Y2')\n",
    "# print(len(Y2))\n",
    "data2"
   ]
  },
  {
   "cell_type": "code",
   "execution_count": 17,
   "metadata": {
    "ExecuteTime": {
     "end_time": "2020-11-30T18:32:29.649797Z",
     "start_time": "2020-11-30T18:32:29.634372Z"
    }
   },
   "outputs": [],
   "source": [
    "from matplotlib import pyplot as plt\n",
    "%matplotlib inline\n",
    "def print_class_report(Xtest, Ytest, clf, clf_name):\n",
    "    \"\"\"\n",
    "    Imprime relatório de classificação\n",
    "    :param Xtest:\n",
    "    :param Ytest:\n",
    "    :param clf: classificador trainado\n",
    "    :param clf_name: nome do classificador\n",
    "    \"\"\"\n",
    "    y_predict = clf.predict(Xtest)\n",
    "    print('\\nRelatório de classificação para {}:\\n'.format(clf_name))\n",
    "    print(classification_report(Ytest, y_predict, target_names=['Temático', 'Biográfico']))\n",
    "    \n",
    "\n",
    "def plot_roc(probas):\n",
    "    tprs = []\n",
    "    fprs = []\n",
    "\n",
    "\n",
    "    labels = ['False positive rate', 'True Positive rate']\n",
    "    for k, v in probas.items():\n",
    "        roc_aucs = []\n",
    "        for j, fold in enumerate(v):\n",
    "            try:\n",
    "                fpr, tpr, thresholds = roc_curve(fold[1], fold[0][:, 1])\n",
    "            except IndexError:\n",
    "                print(fold[0], fold[0].shape)\n",
    "                continue\n",
    "            roc_aucs.append(auc(fpr, tpr))\n",
    "            tprs.append([float(t) for t in tpr])\n",
    "            fprs.append([float(f) for f in fpr])\n",
    "\n",
    "        print('{}: AUCs: {}'.format(k, str(roc_aucs)))\n",
    "    plt.scatter(fprs, tprs, [], \"Curva ROC \", \"points\", 0, 0)\n",
    "    "
   ]
  },
  {
   "cell_type": "markdown",
   "metadata": {},
   "source": [
    "## Definindo os modelos\n",
    "Vamos comparar a performance de 3 modelos. Dois tipos de modelos de \"ensemble\", *Random forest* e *Extra Trees* e um terceiro baseado na segmentação do espaço vetorial, o SVC."
   ]
  },
  {
   "cell_type": "code",
   "execution_count": 39,
   "metadata": {
    "ExecuteTime": {
     "end_time": "2020-11-30T18:44:00.779645Z",
     "start_time": "2020-11-30T18:44:00.776156Z"
    }
   },
   "outputs": [],
   "source": [
    "rfclf = make_pipeline(StandardScaler(),RandomForestClassifier(n_estimators=400, criterion='entropy', n_jobs=-1, min_samples_leaf=3, warm_start=True, verbose=0))\n",
    "etclf = make_pipeline(StandardScaler(),ExtraTreesClassifier(n_estimators=400, n_jobs=-1,min_samples_leaf=3, warm_start=True, verbose=0))\n",
    "svcclf = make_pipeline(StandardScaler(),SVC(probability=True))"
   ]
  },
  {
   "cell_type": "markdown",
   "metadata": {},
   "source": [
    "Adicionalmente iremos usar um Classificador por votos que procurará combinar o melhor dos três modelos acima em uma classificação por votação."
   ]
  },
  {
   "cell_type": "code",
   "execution_count": 40,
   "metadata": {
    "ExecuteTime": {
     "end_time": "2020-11-30T18:44:02.383716Z",
     "start_time": "2020-11-30T18:44:02.378315Z"
    }
   },
   "outputs": [],
   "source": [
    "vcclf = VotingClassifier(estimators=[('rf', rfclf), ('et', etclf),('svc', svcclf)], \n",
    "                         voting='soft', weights=[1,1,1])"
   ]
  },
  {
   "cell_type": "markdown",
   "metadata": {},
   "source": [
    "## Treinando e validando o classificador"
   ]
  },
  {
   "cell_type": "markdown",
   "metadata": {},
   "source": [
    "Os modelos serão treinados usando um esquema de validação cruzada de três rodadas com randomização."
   ]
  },
  {
   "cell_type": "code",
   "execution_count": 47,
   "metadata": {
    "ExecuteTime": {
     "end_time": "2020-11-30T18:44:29.894265Z",
     "start_time": "2020-11-30T18:44:07.017710Z"
    },
    "run_control": {
     "marked": true
    }
   },
   "outputs": [
    {
     "name": "stdout",
     "output_type": "stream",
     "text": [
      "==> Fitting:\n",
      "==> Scoring:\n",
      "==> Fitting:\n",
      "==> Scoring:\n",
      "==> Fitting:\n",
      "==> Scoring:\n",
      "==> Fitting:\n",
      "==> Scoring:\n",
      "==> Fitting:\n",
      "==> Scoring:\n",
      "\n",
      "Relatório de classificação para ET:\n",
      "\n",
      "              precision    recall  f1-score   support\n",
      "\n",
      "    Temático       0.92      0.91      0.91       248\n",
      "  Biográfico       0.90      0.92      0.91       234\n",
      "\n",
      "    accuracy                           0.91       482\n",
      "   macro avg       0.91      0.91      0.91       482\n",
      "weighted avg       0.91      0.91      0.91       482\n",
      "\n",
      "\n",
      "Relatório de classificação para RF:\n",
      "\n",
      "              precision    recall  f1-score   support\n",
      "\n",
      "    Temático       0.98      0.92      0.95       248\n",
      "  Biográfico       0.92      0.98      0.95       234\n",
      "\n",
      "    accuracy                           0.95       482\n",
      "   macro avg       0.95      0.95      0.95       482\n",
      "weighted avg       0.95      0.95      0.95       482\n",
      "\n",
      "\n",
      "Relatório de classificação para SVC:\n",
      "\n",
      "              precision    recall  f1-score   support\n",
      "\n",
      "    Temático       0.90      0.80      0.85       248\n",
      "  Biográfico       0.81      0.90      0.85       234\n",
      "\n",
      "    accuracy                           0.85       482\n",
      "   macro avg       0.85      0.85      0.85       482\n",
      "weighted avg       0.86      0.85      0.85       482\n",
      "\n",
      "\n",
      "Relatório de classificação para Voting:\n",
      "\n",
      "              precision    recall  f1-score   support\n",
      "\n",
      "    Temático       0.89      0.84      0.87       248\n",
      "  Biográfico       0.84      0.89      0.87       234\n",
      "\n",
      "    accuracy                           0.87       482\n",
      "   macro avg       0.87      0.87      0.87       482\n",
      "weighted avg       0.87      0.87      0.87       482\n",
      "\n"
     ]
    }
   ],
   "source": [
    "from collections import defaultdict\n",
    "from sklearn.metrics import RocCurveDisplay\n",
    "\n",
    "acc_hist = defaultdict(lambda: [])\n",
    "X2 = data2.values\n",
    "\n",
    "Xtrain,Xtest,Ytrain,Ytest = train_test_split(X2,Y2, test_size=.25)\n",
    "\n",
    "skf = StratifiedKFold(5, shuffle=True)\n",
    "\n",
    "for train_index, test_index in skf.split(Xtrain, Ytrain):\n",
    "    Xtr = Xtrain[train_index]\n",
    "    Ytr = Ytrain[train_index]\n",
    "    Xval = Xtrain[test_index]\n",
    "    Yval = Ytrain[test_index]\n",
    "    print(\"==> Fitting:\")\n",
    "    # print(\"Extra Trees\")\n",
    "    etclf.fit(Xtr,Ytrain[train_index])\n",
    "    # print(\"Random Forest\")\n",
    "    rfclf.fit(Xtr, Ytrain[train_index])\n",
    "    # print(\"SVC\")\n",
    "    svcclf.fit(Xtr, Ytrain[train_index])\n",
    "    # print(\"Voting\")\n",
    "    vcclf.fit(Xtr, Ytrain[train_index])\n",
    "    print(\"==> Scoring:\")\n",
    "    acc_hist['ET'].append(cross_val_score(etclf, Xtrain, Ytrain, cv=2, n_jobs=-1).mean())\n",
    "    acc_hist['RF'].append(cross_val_score(rfclf, Xtrain, Ytrain, cv=2, n_jobs=-1).mean())\n",
    "    acc_hist['SVC'].append(cross_val_score(svcclf, Xtrain, Ytrain, cv=2, n_jobs=-1).mean())\n",
    "    acc_hist['Voting'].append(vcclf.score(Xtrain, Ytrain))\n",
    "print_class_report(Xtest, Ytest, etclf, 'ET')\n",
    "print_class_report(Xtest, Ytest, rfclf, 'RF')\n",
    "print_class_report(Xtest, Ytest, svcclf, 'SVC')\n",
    "print_class_report(Xtest, Ytest, vcclf, 'Voting')"
   ]
  },
  {
   "cell_type": "markdown",
   "metadata": {},
   "source": [
    "### Curva ROC para os classificadores\n",
    "A curva ROC nos informa o quanto podemos maximizar a taxa de verdadeiros positivos(classificações corretas), ao mesmo tempo em que minimizamos a taxa de falsos positivos (classificações erradas), apenas escolhendo a probabilidade de corte para pertinência à classe 1. O melhor modelo é o que mais se aproxima do canto superior esquerdo da figura (maximizando a área sob a curva), neste caso o modelo *Random Forest*."
   ]
  },
  {
   "cell_type": "code",
   "execution_count": 51,
   "metadata": {
    "ExecuteTime": {
     "end_time": "2020-11-30T18:44:29.894265Z",
     "start_time": "2020-11-30T18:44:07.017710Z"
    },
    "run_control": {
     "marked": true
    }
   },
   "outputs": [
    {
     "data": {
      "image/png": "[encoded data removed]",
      "text/plain": [
       "<Figure size 432x288 with 1 Axes>"
      ]
     },
     "metadata": {
      "needs_background": "light"
     },
     "output_type": "display_data"
    }
   ],
   "source": [
    "#  ROC curve for each model\n",
    "\n",
    "et_roc = RocCurveDisplay.from_estimator(etclf, Xtest, Ytest, name='Extra Trees')\n",
    "ax = plt.gca()\n",
    "rf_roc = RocCurveDisplay.from_estimator(rfclf, Xtest, Ytest, ax=ax, name='Random Forest')\n",
    "svc_roc = RocCurveDisplay.from_estimator(svcclf, Xtest, Ytest, ax=ax, name='SVC')\n",
    "vc_roc = RocCurveDisplay.from_estimator(vcclf, Xtest, Ytest, ax=ax, name='Voting')\n",
    "\n",
    "# print('trained {} documents.'.format((n+1)*batchsize))\n",
    "df_acc = pd.DataFrame(acc_hist)"
   ]
  },
  {
   "cell_type": "markdown",
   "metadata": {},
   "source": [
    "### Acurácia\n",
    "Se olharmos para a acurácia, vemos que esta não melhora com as 5 rodadas de validação cruzada, indicando que podemos reduzí-las ou mesmo eliminar completamente a validação cruzada."
   ]
  },
  {
   "cell_type": "code",
   "execution_count": 49,
   "metadata": {},
   "outputs": [
    {
     "data": {
      "text/html": [
       "<div>\n",
       "<style scoped>\n",
       "    .dataframe tbody tr th:only-of-type {\n",
       "        vertical-align: middle;\n",
       "    }\n",
       "\n",
       "    .dataframe tbody tr th {\n",
       "        vertical-align: top;\n",
       "    }\n",
       "\n",
       "    .dataframe thead th {\n",
       "        text-align: right;\n",
       "    }\n",
       "</style>\n",
       "<table border=\"1\" class=\"dataframe\">\n",
       "  <thead>\n",
       "    <tr style=\"text-align: right;\">\n",
       "      <th></th>\n",
       "      <th>ET</th>\n",
       "      <th>RF</th>\n",
       "      <th>SVC</th>\n",
       "      <th>Voting</th>\n",
       "    </tr>\n",
       "  </thead>\n",
       "  <tbody>\n",
       "    <tr>\n",
       "      <th>0</th>\n",
       "      <td>0.844183</td>\n",
       "      <td>0.893352</td>\n",
       "      <td>0.84903</td>\n",
       "      <td>0.932825</td>\n",
       "    </tr>\n",
       "    <tr>\n",
       "      <th>1</th>\n",
       "      <td>0.846953</td>\n",
       "      <td>0.890582</td>\n",
       "      <td>0.84903</td>\n",
       "      <td>0.929363</td>\n",
       "    </tr>\n",
       "    <tr>\n",
       "      <th>2</th>\n",
       "      <td>0.843490</td>\n",
       "      <td>0.899584</td>\n",
       "      <td>0.84903</td>\n",
       "      <td>0.937673</td>\n",
       "    </tr>\n",
       "    <tr>\n",
       "      <th>3</th>\n",
       "      <td>0.842798</td>\n",
       "      <td>0.900277</td>\n",
       "      <td>0.84903</td>\n",
       "      <td>0.936288</td>\n",
       "    </tr>\n",
       "    <tr>\n",
       "      <th>4</th>\n",
       "      <td>0.849723</td>\n",
       "      <td>0.897507</td>\n",
       "      <td>0.84903</td>\n",
       "      <td>0.939058</td>\n",
       "    </tr>\n",
       "  </tbody>\n",
       "</table>\n",
       "</div>"
      ],
      "text/plain": [
       "         ET        RF      SVC    Voting\n",
       "0  0.844183  0.893352  0.84903  0.932825\n",
       "1  0.846953  0.890582  0.84903  0.929363\n",
       "2  0.843490  0.899584  0.84903  0.937673\n",
       "3  0.842798  0.900277  0.84903  0.936288\n",
       "4  0.849723  0.897507  0.84903  0.939058"
      ]
     },
     "execution_count": 49,
     "metadata": {},
     "output_type": "execute_result"
    }
   ],
   "source": [
    "df_acc"
   ]
  },
  {
   "cell_type": "markdown",
   "metadata": {},
   "source": [
    "### Precisão e Revocação\n",
    "Outra métrica para comparação dos modelos são suas curvas de Precisão-revocação, que apresentam os trade-offs possíveis entre estas duas medidas como função do limiar de decisão para cada classe. Nesta análise o modelo cuja curva mais se aproxima do canto superior direito da figura é o melhor, neste caso novamente o modelo *Random Forest* se destaca."
   ]
  },
  {
   "cell_type": "code",
   "execution_count": 52,
   "metadata": {
    "ExecuteTime": {
     "end_time": "2020-11-30T18:34:46.459934Z",
     "start_time": "2020-11-30T18:34:46.451084Z"
    }
   },
   "outputs": [],
   "source": [
    "from sklearn.metrics import PrecisionRecallDisplay"
   ]
  },
  {
   "cell_type": "code",
   "execution_count": 53,
   "metadata": {
    "ExecuteTime": {
     "end_time": "2020-11-30T18:34:47.200538Z",
     "start_time": "2020-11-30T18:34:47.195068Z"
    }
   },
   "outputs": [
    {
     "data": {
      "image/png": "[encoded data removed]",
      "text/plain": [
       "<Figure size 432x288 with 1 Axes>"
      ]
     },
     "metadata": {
      "needs_background": "light"
     },
     "output_type": "display_data"
    }
   ],
   "source": [
    "display = PrecisionRecallDisplay.from_estimator(\n",
    "    etclf, Xtest, Ytest, name=\"Extra Trees\"\n",
    ")\n",
    "ax = plt.gca()\n",
    "PrecisionRecallDisplay.from_estimator(\n",
    "    rfclf, Xtest, Ytest, name=\"Random Forest\", ax=ax\n",
    ")\n",
    "PrecisionRecallDisplay.from_estimator(\n",
    "    svcclf, Xtest, Ytest, name=\"SVC\", ax=ax\n",
    ")\n",
    "PrecisionRecallDisplay.from_estimator(\n",
    "    vcclf, Xtest, Ytest, name=\"Voting\", ax=ax\n",
    ")\n",
    "_ = display.ax_.set_title(\"Curva de Precisão-Revocação para duas categorias\")"
   ]
  },
  {
   "cell_type": "code",
   "execution_count": null,
   "metadata": {},
   "outputs": [],
   "source": []
  }
 ],
 "metadata": {
  "kernelspec": {
   "display_name": "Python 3 (ipykernel)",
   "language": "python",
   "name": "python3"
  },
  "language_info": {
   "codemirror_mode": {
    "name": "ipython",
    "version": 3
   },
   "file_extension": ".py",
   "mimetype": "text/x-python",
   "name": "python",
   "nbconvert_exporter": "python",
   "pygments_lexer": "ipython3",
   "version": "3.10.6"
  },
  "latex_envs": {
   "LaTeX_envs_menu_present": true,
   "autoclose": false,
   "autocomplete": true,
   "bibliofile": "biblio.bib",
   "cite_by": "apalike",
   "current_citInitial": 1,
   "eqLabelWithNumbers": true,
   "eqNumInitial": 1,
   "hotkeys": {
    "equation": "Ctrl-E",
    "itemize": "Ctrl-I"
   },
   "labels_anchors": false,
   "latex_user_defs": false,
   "report_style_numbering": false,
   "user_envs_cfg": false
  },
  "toc": {
   "base_numbering": 1,
   "nav_menu": {},
   "number_sections": true,
   "sideBar": true,
   "skip_h1_title": false,
   "title_cell": "Table of Contents",
   "title_sidebar": "Contents",
   "toc_cell": false,
   "toc_position": {},
   "toc_section_display": true,
   "toc_window_display": true
  },
  "varInspector": {
   "cols": {
    "lenName": 16,
    "lenType": 16,
    "lenVar": 40
   },
   "kernels_config": {
    "python": {
     "delete_cmd_postfix": "",
     "delete_cmd_prefix": "del ",
     "library": "var_list.py",
     "varRefreshCmd": "print(var_dic_list())"
    },
    "r": {
     "delete_cmd_postfix": ") ",
     "delete_cmd_prefix": "rm(",
     "library": "var_list.r",
     "varRefreshCmd": "cat(var_dic_list()) "
    }
   },
   "oldHeight": 350,
   "position": {
    "height": "40px",
    "left": "651px",
    "right": "20px",
    "top": "121px",
    "width": "350px"
   },
   "types_to_exclude": [
    "module",
    "function",
    "builtin_function_or_method",
    "instance",
    "_Feature"
   ],
   "varInspector_section_display": "none",
   "window_display": false
  }
 },
 "nbformat": 4,
 "nbformat_minor": 4
}
