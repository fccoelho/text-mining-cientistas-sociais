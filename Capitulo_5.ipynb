{
 "cells": [
  {
   "cell_type": "markdown",
   "metadata": {},
   "source": [
    "# Construindo um Classificador de Textos\n",
    "Uma das aplicações mais comuns em mineração de textos é a classificações de documentos em categorias pré-definidas, sejam elas autorais, temáticas, temporais ou outras. \n",
    "\n",
    "Neste capítulo iremos explorar os passos necessários para o desenvolvimento de um classificador de documentos utilizando as análises feitas sobre o corpus do DHBB nos capítulos anteriores.\n",
    "\n",
    "Para esta tarefa utilizaremos modelos de machine learning clássicos disponibilizados na biblioteca [Scikit-Learn](https://scikit-learn.org/). Começaremos então importando algumas funcionalidades a partir do Scikit-Learn. Os demais imports já foram utilizados anteriormente."
   ]
  },
  {
   "cell_type": "code",
   "execution_count": 3,
   "metadata": {
    "tags": [
     "hide-input"
    ]
   },
   "outputs": [],
   "source": [
    "import warnings\n",
    "warnings.filterwarnings('ignore')"
   ]
  },
  {
   "cell_type": "code",
   "execution_count": 4,
   "metadata": {
    "ExecuteTime": {
     "end_time": "2020-11-30T18:11:52.781057Z",
     "start_time": "2020-11-30T18:11:52.776773Z"
    }
   },
   "outputs": [
    {
     "name": "stderr",
     "output_type": "stream",
     "text": [
      "2022-11-30 14:21:57.241388: I tensorflow/core/platform/cpu_feature_guard.cc:193] This TensorFlow binary is optimized with oneAPI Deep Neural Network Library (oneDNN) to use the following CPU instructions in performance-critical operations:  AVX2 FMA\n",
      "To enable them in other operations, rebuild TensorFlow with the appropriate compiler flags.\n",
      "2022-11-30 14:21:57.437372: E tensorflow/stream_executor/cuda/cuda_blas.cc:2981] Unable to register cuBLAS factory: Attempting to register factory for plugin cuBLAS when one has already been registered\n",
      "2022-11-30 14:21:58.270616: W tensorflow/stream_executor/platform/default/dso_loader.cc:64] Could not load dynamic library 'libnvinfer.so.7'; dlerror: libnvinfer.so.7: cannot open shared object file: No such file or directory\n",
      "2022-11-30 14:21:58.270745: W tensorflow/stream_executor/platform/default/dso_loader.cc:64] Could not load dynamic library 'libnvinfer_plugin.so.7'; dlerror: libnvinfer_plugin.so.7: cannot open shared object file: No such file or directory\n",
      "2022-11-30 14:21:58.270757: W tensorflow/compiler/tf2tensorrt/utils/py_utils.cc:38] TF-TRT Warning: Cannot dlopen some TensorRT libraries. If you would like to use Nvidia GPU with TensorRT, please make sure the missing libraries mentioned above are installed properly.\n",
      "2022-11-30 14:21:59.951105: W tensorflow/stream_executor/platform/default/dso_loader.cc:64] Could not load dynamic library 'libcudnn.so.8'; dlerror: libcudnn.so.8: não é possível abrir arquivo compartilhado: Arquivo ou diretório inexistente\n",
      "2022-11-30 14:21:59.951152: W tensorflow/core/common_runtime/gpu/gpu_device.cc:1934] Cannot dlopen some GPU libraries. Please make sure the missing libraries mentioned above are installed properly if you would like to use GPU. Follow the guide at https://www.tensorflow.org/install/gpu for how to download and setup the required libraries for your platform.\n",
      "Skipping registering GPU devices...\n"
     ]
    }
   ],
   "source": [
    "from sklearn.ensemble import RandomForestClassifier, VotingClassifier\n",
    "from sklearn.ensemble import ExtraTreesClassifier\n",
    "from sklearn.pipeline import make_pipeline\n",
    "from sklearn.svm import SVC\n",
    "from sklearn.metrics import classification_report\n",
    "from sklearn.model_selection import StratifiedKFold, cross_val_score, cross_val_predict, train_test_split\n",
    "from sklearn.metrics import roc_curve, auc\n",
    "from sklearn.preprocessing import StandardScaler\n",
    "from gensim.models import Word2Vec, word2vec\n",
    "import spacy\n",
    "from spacy import displacy\n",
    "from string import punctuation\n",
    "from sqlalchemy import create_engine\n",
    "import pandas as pd\n",
    "import numpy as np\n",
    "import os"
   ]
  },
  {
   "cell_type": "markdown",
   "metadata": {},
   "source": [
    "## Preparando o corpus\n",
    "Vamos utilizar o corpus do DHBB conforme armazenado na biblioteca SQLite anteriormente. Abaixo iremos desenvolver um iterador sobre o corpus que fará um preprocessamento básico dos documentos."
   ]
  },
  {
   "cell_type": "code",
   "execution_count": 5,
   "metadata": {
    "ExecuteTime": {
     "end_time": "2020-11-30T17:33:38.508266Z",
     "start_time": "2020-11-30T17:33:35.735062Z"
    }
   },
   "outputs": [],
   "source": [
    "eng = create_engine(\"sqlite:///minha_tabela.sqlite\")\n",
    "nlp = spacy.load(\"pt_core_news_sm\")\n",
    "class DHBBCorpus:\n",
    "    def __init__(self, ndocs=10000, process=True):\n",
    "        self.process = process\n",
    "        self.ndocs = min(7838,ndocs)\n",
    "        self.counter = 1\n",
    "    def __iter__(self):\n",
    "        with eng.connect() as con:\n",
    "            res = con.execute(f'select corpo from resultados limit {self.ndocs};')\n",
    "            for doc in res:\n",
    "                if self.process:\n",
    "                    d = self.pre_process(doc[0])\n",
    "                else: \n",
    "                    d = doc[0]\n",
    "                if self.counter%10 == 0:\n",
    "                    print (f\"Verbete {self.counter} de {self.ndocs}\\r\", end='')\n",
    "                \n",
    "                yield d\n",
    "                self.counter += 1\n",
    "    def pre_process(self, doc):\n",
    "        n = nlp(doc, disable=['tagger', 'ner','entity-linker', 'textcat','entity-ruler','merge-noun-chunks','merge-entities','merge-subtokens'])\n",
    "        results = [token.text.strip().strip(punctuation) for token in n if not token.is_stop]\n",
    "        return results"
   ]
  },
  {
   "cell_type": "markdown",
   "metadata": {},
   "source": [
    "## Carregando o Modelo Word2vec\n",
    "Vamos utilizar a representação vetorial do corpus construida anteriormente como base para o treinamento do classificador. "
   ]
  },
  {
   "cell_type": "code",
   "execution_count": 6,
   "metadata": {
    "ExecuteTime": {
     "end_time": "2020-11-30T17:34:08.304822Z",
     "start_time": "2020-11-30T17:34:07.810137Z"
    }
   },
   "outputs": [],
   "source": [
    "model = Word2Vec.load('dhbb.w2v')"
   ]
  },
  {
   "cell_type": "code",
   "execution_count": 7,
   "metadata": {
    "ExecuteTime": {
     "end_time": "2020-11-30T17:34:15.885416Z",
     "start_time": "2020-11-30T17:34:15.874539Z"
    }
   },
   "outputs": [
    {
     "data": {
      "text/plain": [
       "(38762, 100)"
      ]
     },
     "execution_count": 7,
     "metadata": {},
     "output_type": "execute_result"
    }
   ],
   "source": [
    "model.wv.vectors.shape"
   ]
  },
  {
   "cell_type": "markdown",
   "metadata": {},
   "source": [
    "Como  o word2vec é uma representação vetorial do vocabulário do corpus, e desejamos treinar um modelo para classificar documentos, precisamos primeiro construir uma representação dos documentos do corpus no mesmo espaço vetorial gerado pelo Word2vec.\n",
    "\n",
    "Na função abaixo, contruimos um vetor de documento que é a média dos vetores das palavras únicas que este contém."
   ]
  },
  {
   "cell_type": "code",
   "execution_count": 8,
   "metadata": {
    "ExecuteTime": {
     "end_time": "2020-11-30T17:40:43.282625Z",
     "start_time": "2020-11-30T17:40:43.276347Z"
    },
    "code_folding": []
   },
   "outputs": [],
   "source": [
    "def build_document_vector(text):\n",
    "    \"\"\"\n",
    "    Build a scaled vector for the document (mean of the words present in it)\n",
    "    :param text: document to be vectorized (tokenized)\n",
    "    :param model: word2vec model\n",
    "    :return:\n",
    "    \"\"\"\n",
    "    feature_count = model.wv.vectors.shape[1]\n",
    "    vec = np.zeros(feature_count).reshape((1, feature_count))\n",
    "    count = 0.\n",
    "    \n",
    "\n",
    "    for word in text:\n",
    "        try:\n",
    "            vec += model.wv[word].reshape((1, feature_count))\n",
    "            count += 1.\n",
    "        except KeyError:\n",
    "            continue\n",
    "    if count != 0:\n",
    "        vec /= count\n",
    "    return vec"
   ]
  },
  {
   "cell_type": "code",
   "execution_count": 9,
   "metadata": {
    "ExecuteTime": {
     "end_time": "2020-11-30T17:41:54.655197Z",
     "start_time": "2020-11-30T17:41:54.651623Z"
    }
   },
   "outputs": [],
   "source": [
    "\n",
    "def gera_docv(n):\n",
    "    corpus = DHBBCorpus(n)\n",
    "    for doc in corpus:\n",
    "        v = build_document_vector(set(doc))\n",
    "        yield v\n"
   ]
  },
  {
   "cell_type": "markdown",
   "metadata": {},
   "source": [
    "## Preparando os dados treinamento do Classificador\n",
    "Abaixo vamos calcular os vetores dos documentos no espaço definido pelo W2V. Como este é um processo longo vamos salvar o resultado, para não ter que re-gerar os vetores de documento das próximas vezes."
   ]
  },
  {
   "cell_type": "code",
   "execution_count": 16,
   "metadata": {
    "ExecuteTime": {
     "end_time": "2020-11-30T17:58:00.671951Z",
     "start_time": "2020-11-30T17:43:32.994404Z"
    }
   },
   "outputs": [
    {
     "name": "stdout",
     "output_type": "stream",
     "text": [
      "Verbete 7830 de 7838\r"
     ]
    },
    {
     "data": {
      "text/html": [
       "<div>\n",
       "<style scoped>\n",
       "    .dataframe tbody tr th:only-of-type {\n",
       "        vertical-align: middle;\n",
       "    }\n",
       "\n",
       "    .dataframe tbody tr th {\n",
       "        vertical-align: top;\n",
       "    }\n",
       "\n",
       "    .dataframe thead th {\n",
       "        text-align: right;\n",
       "    }\n",
       "</style>\n",
       "<table border=\"1\" class=\"dataframe\">\n",
       "  <thead>\n",
       "    <tr style=\"text-align: right;\">\n",
       "      <th></th>\n",
       "      <th>0</th>\n",
       "      <th>1</th>\n",
       "      <th>2</th>\n",
       "      <th>3</th>\n",
       "      <th>4</th>\n",
       "      <th>5</th>\n",
       "      <th>6</th>\n",
       "      <th>7</th>\n",
       "      <th>8</th>\n",
       "      <th>9</th>\n",
       "      <th>...</th>\n",
       "      <th>90</th>\n",
       "      <th>91</th>\n",
       "      <th>92</th>\n",
       "      <th>93</th>\n",
       "      <th>94</th>\n",
       "      <th>95</th>\n",
       "      <th>96</th>\n",
       "      <th>97</th>\n",
       "      <th>98</th>\n",
       "      <th>99</th>\n",
       "    </tr>\n",
       "  </thead>\n",
       "  <tbody>\n",
       "    <tr>\n",
       "      <th>0</th>\n",
       "      <td>0.251411</td>\n",
       "      <td>-0.092618</td>\n",
       "      <td>-0.367610</td>\n",
       "      <td>0.156986</td>\n",
       "      <td>-0.339056</td>\n",
       "      <td>-0.080486</td>\n",
       "      <td>0.192228</td>\n",
       "      <td>-0.230927</td>\n",
       "      <td>-0.129720</td>\n",
       "      <td>0.112671</td>\n",
       "      <td>...</td>\n",
       "      <td>-0.354930</td>\n",
       "      <td>0.257672</td>\n",
       "      <td>-0.182260</td>\n",
       "      <td>-0.072084</td>\n",
       "      <td>0.155995</td>\n",
       "      <td>0.025738</td>\n",
       "      <td>-0.186744</td>\n",
       "      <td>-0.309680</td>\n",
       "      <td>0.003222</td>\n",
       "      <td>0.116559</td>\n",
       "    </tr>\n",
       "    <tr>\n",
       "      <th>1</th>\n",
       "      <td>-0.444796</td>\n",
       "      <td>-0.107734</td>\n",
       "      <td>-0.371062</td>\n",
       "      <td>0.248178</td>\n",
       "      <td>-0.342896</td>\n",
       "      <td>0.180991</td>\n",
       "      <td>0.622804</td>\n",
       "      <td>0.390060</td>\n",
       "      <td>-0.197826</td>\n",
       "      <td>0.005668</td>\n",
       "      <td>...</td>\n",
       "      <td>0.162281</td>\n",
       "      <td>-0.923582</td>\n",
       "      <td>-0.449693</td>\n",
       "      <td>-0.194215</td>\n",
       "      <td>0.884861</td>\n",
       "      <td>0.355686</td>\n",
       "      <td>0.418442</td>\n",
       "      <td>-0.504399</td>\n",
       "      <td>-1.110405</td>\n",
       "      <td>0.292351</td>\n",
       "    </tr>\n",
       "    <tr>\n",
       "      <th>2</th>\n",
       "      <td>-0.186797</td>\n",
       "      <td>-0.099321</td>\n",
       "      <td>-0.489939</td>\n",
       "      <td>0.603691</td>\n",
       "      <td>-0.220742</td>\n",
       "      <td>0.163514</td>\n",
       "      <td>0.201998</td>\n",
       "      <td>-0.068645</td>\n",
       "      <td>-0.170712</td>\n",
       "      <td>0.071279</td>\n",
       "      <td>...</td>\n",
       "      <td>0.309139</td>\n",
       "      <td>-0.249686</td>\n",
       "      <td>-0.252961</td>\n",
       "      <td>-0.000214</td>\n",
       "      <td>0.428697</td>\n",
       "      <td>0.477869</td>\n",
       "      <td>0.114001</td>\n",
       "      <td>-0.259199</td>\n",
       "      <td>-0.860501</td>\n",
       "      <td>0.281628</td>\n",
       "    </tr>\n",
       "    <tr>\n",
       "      <th>3</th>\n",
       "      <td>-0.015474</td>\n",
       "      <td>-0.331179</td>\n",
       "      <td>-0.188871</td>\n",
       "      <td>0.071852</td>\n",
       "      <td>-0.118083</td>\n",
       "      <td>0.273842</td>\n",
       "      <td>0.244981</td>\n",
       "      <td>-0.070634</td>\n",
       "      <td>-0.275265</td>\n",
       "      <td>0.211026</td>\n",
       "      <td>...</td>\n",
       "      <td>0.048260</td>\n",
       "      <td>0.186905</td>\n",
       "      <td>-0.201033</td>\n",
       "      <td>-0.294315</td>\n",
       "      <td>-0.119009</td>\n",
       "      <td>0.070466</td>\n",
       "      <td>-0.013867</td>\n",
       "      <td>-0.257075</td>\n",
       "      <td>-0.069757</td>\n",
       "      <td>0.215312</td>\n",
       "    </tr>\n",
       "    <tr>\n",
       "      <th>4</th>\n",
       "      <td>-0.069459</td>\n",
       "      <td>0.000653</td>\n",
       "      <td>-0.267939</td>\n",
       "      <td>0.539355</td>\n",
       "      <td>-0.167328</td>\n",
       "      <td>-0.028850</td>\n",
       "      <td>0.572703</td>\n",
       "      <td>0.225255</td>\n",
       "      <td>-0.364476</td>\n",
       "      <td>0.159628</td>\n",
       "      <td>...</td>\n",
       "      <td>0.073481</td>\n",
       "      <td>-0.567660</td>\n",
       "      <td>-0.298699</td>\n",
       "      <td>-0.237357</td>\n",
       "      <td>0.528733</td>\n",
       "      <td>0.298273</td>\n",
       "      <td>0.037333</td>\n",
       "      <td>-0.491313</td>\n",
       "      <td>-0.742250</td>\n",
       "      <td>0.370616</td>\n",
       "    </tr>\n",
       "    <tr>\n",
       "      <th>...</th>\n",
       "      <td>...</td>\n",
       "      <td>...</td>\n",
       "      <td>...</td>\n",
       "      <td>...</td>\n",
       "      <td>...</td>\n",
       "      <td>...</td>\n",
       "      <td>...</td>\n",
       "      <td>...</td>\n",
       "      <td>...</td>\n",
       "      <td>...</td>\n",
       "      <td>...</td>\n",
       "      <td>...</td>\n",
       "      <td>...</td>\n",
       "      <td>...</td>\n",
       "      <td>...</td>\n",
       "      <td>...</td>\n",
       "      <td>...</td>\n",
       "      <td>...</td>\n",
       "      <td>...</td>\n",
       "      <td>...</td>\n",
       "      <td>...</td>\n",
       "    </tr>\n",
       "    <tr>\n",
       "      <th>7833</th>\n",
       "      <td>-0.069599</td>\n",
       "      <td>0.153431</td>\n",
       "      <td>-0.571671</td>\n",
       "      <td>0.378038</td>\n",
       "      <td>-0.248409</td>\n",
       "      <td>-0.060014</td>\n",
       "      <td>0.452256</td>\n",
       "      <td>0.176986</td>\n",
       "      <td>-0.235890</td>\n",
       "      <td>0.001420</td>\n",
       "      <td>...</td>\n",
       "      <td>-0.191336</td>\n",
       "      <td>-0.586688</td>\n",
       "      <td>-0.180140</td>\n",
       "      <td>-0.130464</td>\n",
       "      <td>0.625573</td>\n",
       "      <td>0.382755</td>\n",
       "      <td>0.069184</td>\n",
       "      <td>-0.546153</td>\n",
       "      <td>-0.663578</td>\n",
       "      <td>0.326829</td>\n",
       "    </tr>\n",
       "    <tr>\n",
       "      <th>7834</th>\n",
       "      <td>-0.170249</td>\n",
       "      <td>-0.081334</td>\n",
       "      <td>-0.492545</td>\n",
       "      <td>0.443016</td>\n",
       "      <td>-0.041892</td>\n",
       "      <td>0.183765</td>\n",
       "      <td>0.371429</td>\n",
       "      <td>0.106385</td>\n",
       "      <td>-0.080806</td>\n",
       "      <td>0.181276</td>\n",
       "      <td>...</td>\n",
       "      <td>0.225322</td>\n",
       "      <td>-0.254757</td>\n",
       "      <td>-0.258577</td>\n",
       "      <td>0.014742</td>\n",
       "      <td>0.309729</td>\n",
       "      <td>0.376458</td>\n",
       "      <td>0.032279</td>\n",
       "      <td>-0.256777</td>\n",
       "      <td>-0.743823</td>\n",
       "      <td>0.226570</td>\n",
       "    </tr>\n",
       "    <tr>\n",
       "      <th>7835</th>\n",
       "      <td>-0.382044</td>\n",
       "      <td>-0.422822</td>\n",
       "      <td>-0.587220</td>\n",
       "      <td>0.320492</td>\n",
       "      <td>-0.226514</td>\n",
       "      <td>0.172044</td>\n",
       "      <td>0.616719</td>\n",
       "      <td>-0.043985</td>\n",
       "      <td>-0.258257</td>\n",
       "      <td>0.217810</td>\n",
       "      <td>...</td>\n",
       "      <td>-0.005524</td>\n",
       "      <td>-0.341694</td>\n",
       "      <td>-0.393351</td>\n",
       "      <td>-0.104909</td>\n",
       "      <td>0.011569</td>\n",
       "      <td>0.355231</td>\n",
       "      <td>0.376438</td>\n",
       "      <td>-0.383147</td>\n",
       "      <td>-0.443361</td>\n",
       "      <td>0.176735</td>\n",
       "    </tr>\n",
       "    <tr>\n",
       "      <th>7836</th>\n",
       "      <td>0.226604</td>\n",
       "      <td>-0.230992</td>\n",
       "      <td>-0.294525</td>\n",
       "      <td>-0.005927</td>\n",
       "      <td>-0.293173</td>\n",
       "      <td>0.076686</td>\n",
       "      <td>0.057251</td>\n",
       "      <td>-0.154211</td>\n",
       "      <td>-0.186203</td>\n",
       "      <td>0.165438</td>\n",
       "      <td>...</td>\n",
       "      <td>-0.148946</td>\n",
       "      <td>0.358122</td>\n",
       "      <td>-0.054703</td>\n",
       "      <td>-0.052285</td>\n",
       "      <td>0.038732</td>\n",
       "      <td>0.011719</td>\n",
       "      <td>-0.135485</td>\n",
       "      <td>-0.256960</td>\n",
       "      <td>0.012294</td>\n",
       "      <td>0.020287</td>\n",
       "    </tr>\n",
       "    <tr>\n",
       "      <th>7837</th>\n",
       "      <td>-0.403669</td>\n",
       "      <td>-0.057501</td>\n",
       "      <td>-0.323550</td>\n",
       "      <td>0.505035</td>\n",
       "      <td>0.161119</td>\n",
       "      <td>0.269930</td>\n",
       "      <td>0.552717</td>\n",
       "      <td>0.165518</td>\n",
       "      <td>-0.195108</td>\n",
       "      <td>0.275592</td>\n",
       "      <td>...</td>\n",
       "      <td>0.346420</td>\n",
       "      <td>-0.500232</td>\n",
       "      <td>-0.054664</td>\n",
       "      <td>0.061566</td>\n",
       "      <td>0.117811</td>\n",
       "      <td>0.438892</td>\n",
       "      <td>0.224275</td>\n",
       "      <td>-0.340123</td>\n",
       "      <td>-0.692458</td>\n",
       "      <td>0.498602</td>\n",
       "    </tr>\n",
       "  </tbody>\n",
       "</table>\n",
       "<p>7838 rows × 100 columns</p>\n",
       "</div>"
      ],
      "text/plain": [
       "            0         1         2         3         4         5         6   \\\n",
       "0     0.251411 -0.092618 -0.367610  0.156986 -0.339056 -0.080486  0.192228   \n",
       "1    -0.444796 -0.107734 -0.371062  0.248178 -0.342896  0.180991  0.622804   \n",
       "2    -0.186797 -0.099321 -0.489939  0.603691 -0.220742  0.163514  0.201998   \n",
       "3    -0.015474 -0.331179 -0.188871  0.071852 -0.118083  0.273842  0.244981   \n",
       "4    -0.069459  0.000653 -0.267939  0.539355 -0.167328 -0.028850  0.572703   \n",
       "...        ...       ...       ...       ...       ...       ...       ...   \n",
       "7833 -0.069599  0.153431 -0.571671  0.378038 -0.248409 -0.060014  0.452256   \n",
       "7834 -0.170249 -0.081334 -0.492545  0.443016 -0.041892  0.183765  0.371429   \n",
       "7835 -0.382044 -0.422822 -0.587220  0.320492 -0.226514  0.172044  0.616719   \n",
       "7836  0.226604 -0.230992 -0.294525 -0.005927 -0.293173  0.076686  0.057251   \n",
       "7837 -0.403669 -0.057501 -0.323550  0.505035  0.161119  0.269930  0.552717   \n",
       "\n",
       "            7         8         9   ...        90        91        92  \\\n",
       "0    -0.230927 -0.129720  0.112671  ... -0.354930  0.257672 -0.182260   \n",
       "1     0.390060 -0.197826  0.005668  ...  0.162281 -0.923582 -0.449693   \n",
       "2    -0.068645 -0.170712  0.071279  ...  0.309139 -0.249686 -0.252961   \n",
       "3    -0.070634 -0.275265  0.211026  ...  0.048260  0.186905 -0.201033   \n",
       "4     0.225255 -0.364476  0.159628  ...  0.073481 -0.567660 -0.298699   \n",
       "...        ...       ...       ...  ...       ...       ...       ...   \n",
       "7833  0.176986 -0.235890  0.001420  ... -0.191336 -0.586688 -0.180140   \n",
       "7834  0.106385 -0.080806  0.181276  ...  0.225322 -0.254757 -0.258577   \n",
       "7835 -0.043985 -0.258257  0.217810  ... -0.005524 -0.341694 -0.393351   \n",
       "7836 -0.154211 -0.186203  0.165438  ... -0.148946  0.358122 -0.054703   \n",
       "7837  0.165518 -0.195108  0.275592  ...  0.346420 -0.500232 -0.054664   \n",
       "\n",
       "            93        94        95        96        97        98        99  \n",
       "0    -0.072084  0.155995  0.025738 -0.186744 -0.309680  0.003222  0.116559  \n",
       "1    -0.194215  0.884861  0.355686  0.418442 -0.504399 -1.110405  0.292351  \n",
       "2    -0.000214  0.428697  0.477869  0.114001 -0.259199 -0.860501  0.281628  \n",
       "3    -0.294315 -0.119009  0.070466 -0.013867 -0.257075 -0.069757  0.215312  \n",
       "4    -0.237357  0.528733  0.298273  0.037333 -0.491313 -0.742250  0.370616  \n",
       "...        ...       ...       ...       ...       ...       ...       ...  \n",
       "7833 -0.130464  0.625573  0.382755  0.069184 -0.546153 -0.663578  0.326829  \n",
       "7834  0.014742  0.309729  0.376458  0.032279 -0.256777 -0.743823  0.226570  \n",
       "7835 -0.104909  0.011569  0.355231  0.376438 -0.383147 -0.443361  0.176735  \n",
       "7836 -0.052285  0.038732  0.011719 -0.135485 -0.256960  0.012294  0.020287  \n",
       "7837  0.061566  0.117811  0.438892  0.224275 -0.340123 -0.692458  0.498602  \n",
       "\n",
       "[7838 rows x 100 columns]"
      ]
     },
     "execution_count": 16,
     "metadata": {},
     "output_type": "execute_result"
    }
   ],
   "source": [
    "if os.path.exists('doc_feature_matrix.csv.gz'):\n",
    "    data = pd.read_csv('doc_feature_matrix.csv.gz')\n",
    "else:\n",
    "    gerador = gera_docv(10000)\n",
    "    data = pd.DataFrame(data=np.vstack([a for a in gerador]), columns=range(100))\n",
    "    data.to_csv('doc_feature_matrix.csv.gz')\n",
    "data"
   ]
  },
  {
   "cell_type": "markdown",
   "metadata": {},
   "source": [
    "### Definindo a categoria de cada documento para o treinamento\n",
    "Nosso objetvo será diferenciar entre verbetes *temáticos* e *biográficos*."
   ]
  },
  {
   "cell_type": "code",
   "execution_count": 17,
   "metadata": {
    "ExecuteTime": {
     "end_time": "2020-11-30T18:24:27.341662Z",
     "start_time": "2020-11-30T18:24:27.280922Z"
    }
   },
   "outputs": [
    {
     "name": "stdout",
     "output_type": "stream",
     "text": [
      "Número de verbetes temáticos: 973\n"
     ]
    }
   ],
   "source": [
    "def gera_alvo():\n",
    "    df = pd.read_sql_query('select natureza from resultados', con=eng)\n",
    "    alvo = df.natureza.values=='biográfico'\n",
    "    return alvo\n",
    "Y = gera_alvo()\n",
    "print(f\"Número de verbetes temáticos: {len(Y)-sum(Y)}\")"
   ]
  },
  {
   "cell_type": "code",
   "execution_count": 18,
   "metadata": {},
   "outputs": [],
   "source": [
    "df = pd.read_sql_query('select * from resultados', con=eng)"
   ]
  },
  {
   "cell_type": "code",
   "execution_count": 19,
   "metadata": {},
   "outputs": [
    {
     "data": {
      "text/plain": [
       "biográfico    6865\n",
       "temático       973\n",
       "Name: natureza, dtype: int64"
      ]
     },
     "execution_count": 19,
     "metadata": {},
     "output_type": "execute_result"
    }
   ],
   "source": [
    "df.natureza.value_counts()"
   ]
  },
  {
   "cell_type": "markdown",
   "metadata": {},
   "source": [
    "Vamos dividir a tabela de vetores de documentos em Biográficos e temáticos"
   ]
  },
  {
   "cell_type": "code",
   "execution_count": 20,
   "metadata": {
    "ExecuteTime": {
     "end_time": "2020-11-30T18:28:20.838969Z",
     "start_time": "2020-11-30T18:28:20.833619Z"
    }
   },
   "outputs": [],
   "source": [
    "biog = data.iloc[Y]\n",
    "tem = data.iloc[~Y]"
   ]
  },
  {
   "cell_type": "markdown",
   "metadata": {},
   "source": [
    "Como o número de verbetes biográficos é muito maior, vamos tomar iguais numeros de cada tipo para equilibrar o nosso conjunto de treinamento de documentos."
   ]
  },
  {
   "cell_type": "code",
   "execution_count": 21,
   "metadata": {
    "ExecuteTime": {
     "end_time": "2020-11-30T18:43:21.310931Z",
     "start_time": "2020-11-30T18:43:21.280822Z"
    }
   },
   "outputs": [
    {
     "data": {
      "text/html": [
       "<div>\n",
       "<style scoped>\n",
       "    .dataframe tbody tr th:only-of-type {\n",
       "        vertical-align: middle;\n",
       "    }\n",
       "\n",
       "    .dataframe tbody tr th {\n",
       "        vertical-align: top;\n",
       "    }\n",
       "\n",
       "    .dataframe thead th {\n",
       "        text-align: right;\n",
       "    }\n",
       "</style>\n",
       "<table border=\"1\" class=\"dataframe\">\n",
       "  <thead>\n",
       "    <tr style=\"text-align: right;\">\n",
       "      <th></th>\n",
       "      <th>0</th>\n",
       "      <th>1</th>\n",
       "      <th>2</th>\n",
       "      <th>3</th>\n",
       "      <th>4</th>\n",
       "      <th>5</th>\n",
       "      <th>6</th>\n",
       "      <th>7</th>\n",
       "      <th>8</th>\n",
       "      <th>9</th>\n",
       "      <th>...</th>\n",
       "      <th>90</th>\n",
       "      <th>91</th>\n",
       "      <th>92</th>\n",
       "      <th>93</th>\n",
       "      <th>94</th>\n",
       "      <th>95</th>\n",
       "      <th>96</th>\n",
       "      <th>97</th>\n",
       "      <th>98</th>\n",
       "      <th>99</th>\n",
       "    </tr>\n",
       "  </thead>\n",
       "  <tbody>\n",
       "    <tr>\n",
       "      <th>0</th>\n",
       "      <td>0.251411</td>\n",
       "      <td>-0.092618</td>\n",
       "      <td>-0.367610</td>\n",
       "      <td>0.156986</td>\n",
       "      <td>-0.339056</td>\n",
       "      <td>-0.080486</td>\n",
       "      <td>0.192228</td>\n",
       "      <td>-0.230927</td>\n",
       "      <td>-0.129720</td>\n",
       "      <td>0.112671</td>\n",
       "      <td>...</td>\n",
       "      <td>-0.354930</td>\n",
       "      <td>0.257672</td>\n",
       "      <td>-0.182260</td>\n",
       "      <td>-0.072084</td>\n",
       "      <td>0.155995</td>\n",
       "      <td>0.025738</td>\n",
       "      <td>-0.186744</td>\n",
       "      <td>-0.309680</td>\n",
       "      <td>0.003222</td>\n",
       "      <td>0.116559</td>\n",
       "    </tr>\n",
       "    <tr>\n",
       "      <th>1</th>\n",
       "      <td>-0.444796</td>\n",
       "      <td>-0.107734</td>\n",
       "      <td>-0.371062</td>\n",
       "      <td>0.248178</td>\n",
       "      <td>-0.342896</td>\n",
       "      <td>0.180991</td>\n",
       "      <td>0.622804</td>\n",
       "      <td>0.390060</td>\n",
       "      <td>-0.197826</td>\n",
       "      <td>0.005668</td>\n",
       "      <td>...</td>\n",
       "      <td>0.162281</td>\n",
       "      <td>-0.923582</td>\n",
       "      <td>-0.449693</td>\n",
       "      <td>-0.194215</td>\n",
       "      <td>0.884861</td>\n",
       "      <td>0.355686</td>\n",
       "      <td>0.418442</td>\n",
       "      <td>-0.504399</td>\n",
       "      <td>-1.110405</td>\n",
       "      <td>0.292351</td>\n",
       "    </tr>\n",
       "    <tr>\n",
       "      <th>2</th>\n",
       "      <td>-0.186797</td>\n",
       "      <td>-0.099321</td>\n",
       "      <td>-0.489939</td>\n",
       "      <td>0.603691</td>\n",
       "      <td>-0.220742</td>\n",
       "      <td>0.163514</td>\n",
       "      <td>0.201998</td>\n",
       "      <td>-0.068645</td>\n",
       "      <td>-0.170712</td>\n",
       "      <td>0.071279</td>\n",
       "      <td>...</td>\n",
       "      <td>0.309139</td>\n",
       "      <td>-0.249686</td>\n",
       "      <td>-0.252961</td>\n",
       "      <td>-0.000214</td>\n",
       "      <td>0.428697</td>\n",
       "      <td>0.477869</td>\n",
       "      <td>0.114001</td>\n",
       "      <td>-0.259199</td>\n",
       "      <td>-0.860501</td>\n",
       "      <td>0.281628</td>\n",
       "    </tr>\n",
       "    <tr>\n",
       "      <th>3</th>\n",
       "      <td>-0.015474</td>\n",
       "      <td>-0.331179</td>\n",
       "      <td>-0.188871</td>\n",
       "      <td>0.071852</td>\n",
       "      <td>-0.118083</td>\n",
       "      <td>0.273842</td>\n",
       "      <td>0.244981</td>\n",
       "      <td>-0.070634</td>\n",
       "      <td>-0.275265</td>\n",
       "      <td>0.211026</td>\n",
       "      <td>...</td>\n",
       "      <td>0.048260</td>\n",
       "      <td>0.186905</td>\n",
       "      <td>-0.201033</td>\n",
       "      <td>-0.294315</td>\n",
       "      <td>-0.119009</td>\n",
       "      <td>0.070466</td>\n",
       "      <td>-0.013867</td>\n",
       "      <td>-0.257075</td>\n",
       "      <td>-0.069757</td>\n",
       "      <td>0.215312</td>\n",
       "    </tr>\n",
       "    <tr>\n",
       "      <th>4</th>\n",
       "      <td>-0.069459</td>\n",
       "      <td>0.000653</td>\n",
       "      <td>-0.267939</td>\n",
       "      <td>0.539355</td>\n",
       "      <td>-0.167328</td>\n",
       "      <td>-0.028850</td>\n",
       "      <td>0.572703</td>\n",
       "      <td>0.225255</td>\n",
       "      <td>-0.364476</td>\n",
       "      <td>0.159628</td>\n",
       "      <td>...</td>\n",
       "      <td>0.073481</td>\n",
       "      <td>-0.567660</td>\n",
       "      <td>-0.298699</td>\n",
       "      <td>-0.237357</td>\n",
       "      <td>0.528733</td>\n",
       "      <td>0.298273</td>\n",
       "      <td>0.037333</td>\n",
       "      <td>-0.491313</td>\n",
       "      <td>-0.742250</td>\n",
       "      <td>0.370616</td>\n",
       "    </tr>\n",
       "    <tr>\n",
       "      <th>...</th>\n",
       "      <td>...</td>\n",
       "      <td>...</td>\n",
       "      <td>...</td>\n",
       "      <td>...</td>\n",
       "      <td>...</td>\n",
       "      <td>...</td>\n",
       "      <td>...</td>\n",
       "      <td>...</td>\n",
       "      <td>...</td>\n",
       "      <td>...</td>\n",
       "      <td>...</td>\n",
       "      <td>...</td>\n",
       "      <td>...</td>\n",
       "      <td>...</td>\n",
       "      <td>...</td>\n",
       "      <td>...</td>\n",
       "      <td>...</td>\n",
       "      <td>...</td>\n",
       "      <td>...</td>\n",
       "      <td>...</td>\n",
       "      <td>...</td>\n",
       "    </tr>\n",
       "    <tr>\n",
       "      <th>7799</th>\n",
       "      <td>-0.009590</td>\n",
       "      <td>-0.370285</td>\n",
       "      <td>-0.351947</td>\n",
       "      <td>0.375928</td>\n",
       "      <td>-0.312881</td>\n",
       "      <td>0.284171</td>\n",
       "      <td>0.218668</td>\n",
       "      <td>-0.185607</td>\n",
       "      <td>-0.080803</td>\n",
       "      <td>0.464115</td>\n",
       "      <td>...</td>\n",
       "      <td>-0.177752</td>\n",
       "      <td>0.476271</td>\n",
       "      <td>0.062159</td>\n",
       "      <td>0.180202</td>\n",
       "      <td>-0.104882</td>\n",
       "      <td>-0.123912</td>\n",
       "      <td>-0.011329</td>\n",
       "      <td>-0.059178</td>\n",
       "      <td>0.072528</td>\n",
       "      <td>-0.095532</td>\n",
       "    </tr>\n",
       "    <tr>\n",
       "      <th>7815</th>\n",
       "      <td>0.190164</td>\n",
       "      <td>-0.421917</td>\n",
       "      <td>0.041171</td>\n",
       "      <td>0.559976</td>\n",
       "      <td>-0.096135</td>\n",
       "      <td>0.262056</td>\n",
       "      <td>0.115327</td>\n",
       "      <td>-0.222292</td>\n",
       "      <td>0.159212</td>\n",
       "      <td>0.254804</td>\n",
       "      <td>...</td>\n",
       "      <td>0.079692</td>\n",
       "      <td>0.391770</td>\n",
       "      <td>-0.041344</td>\n",
       "      <td>0.181603</td>\n",
       "      <td>-0.474300</td>\n",
       "      <td>-0.066437</td>\n",
       "      <td>-0.211216</td>\n",
       "      <td>-0.201937</td>\n",
       "      <td>0.157055</td>\n",
       "      <td>0.150917</td>\n",
       "    </tr>\n",
       "    <tr>\n",
       "      <th>7818</th>\n",
       "      <td>0.113591</td>\n",
       "      <td>-0.304503</td>\n",
       "      <td>0.023514</td>\n",
       "      <td>0.285975</td>\n",
       "      <td>-0.131286</td>\n",
       "      <td>0.313704</td>\n",
       "      <td>-0.003414</td>\n",
       "      <td>-0.047683</td>\n",
       "      <td>0.036644</td>\n",
       "      <td>0.179127</td>\n",
       "      <td>...</td>\n",
       "      <td>0.135317</td>\n",
       "      <td>0.436429</td>\n",
       "      <td>-0.045782</td>\n",
       "      <td>0.063444</td>\n",
       "      <td>-0.378774</td>\n",
       "      <td>-0.120447</td>\n",
       "      <td>-0.178072</td>\n",
       "      <td>-0.160545</td>\n",
       "      <td>0.119899</td>\n",
       "      <td>-0.047110</td>\n",
       "    </tr>\n",
       "    <tr>\n",
       "      <th>7820</th>\n",
       "      <td>-0.209527</td>\n",
       "      <td>-0.324761</td>\n",
       "      <td>-0.133246</td>\n",
       "      <td>0.322462</td>\n",
       "      <td>-0.087852</td>\n",
       "      <td>0.493621</td>\n",
       "      <td>0.207157</td>\n",
       "      <td>0.010970</td>\n",
       "      <td>0.073835</td>\n",
       "      <td>0.143174</td>\n",
       "      <td>...</td>\n",
       "      <td>0.062675</td>\n",
       "      <td>0.328040</td>\n",
       "      <td>-0.080370</td>\n",
       "      <td>0.155594</td>\n",
       "      <td>-0.452543</td>\n",
       "      <td>0.000524</td>\n",
       "      <td>-0.078063</td>\n",
       "      <td>-0.163876</td>\n",
       "      <td>0.080908</td>\n",
       "      <td>0.207743</td>\n",
       "    </tr>\n",
       "    <tr>\n",
       "      <th>7832</th>\n",
       "      <td>0.219356</td>\n",
       "      <td>-0.023952</td>\n",
       "      <td>-0.126478</td>\n",
       "      <td>-0.041252</td>\n",
       "      <td>-0.207852</td>\n",
       "      <td>-0.374994</td>\n",
       "      <td>0.230476</td>\n",
       "      <td>-0.430638</td>\n",
       "      <td>-0.519447</td>\n",
       "      <td>-0.460002</td>\n",
       "      <td>...</td>\n",
       "      <td>-0.234624</td>\n",
       "      <td>0.342272</td>\n",
       "      <td>-0.037796</td>\n",
       "      <td>0.341001</td>\n",
       "      <td>0.306884</td>\n",
       "      <td>0.136352</td>\n",
       "      <td>0.090791</td>\n",
       "      <td>-0.088957</td>\n",
       "      <td>0.088237</td>\n",
       "      <td>0.242391</td>\n",
       "    </tr>\n",
       "  </tbody>\n",
       "</table>\n",
       "<p>1936 rows × 100 columns</p>\n",
       "</div>"
      ],
      "text/plain": [
       "            0         1         2         3         4         5         6   \\\n",
       "0     0.251411 -0.092618 -0.367610  0.156986 -0.339056 -0.080486  0.192228   \n",
       "1    -0.444796 -0.107734 -0.371062  0.248178 -0.342896  0.180991  0.622804   \n",
       "2    -0.186797 -0.099321 -0.489939  0.603691 -0.220742  0.163514  0.201998   \n",
       "3    -0.015474 -0.331179 -0.188871  0.071852 -0.118083  0.273842  0.244981   \n",
       "4    -0.069459  0.000653 -0.267939  0.539355 -0.167328 -0.028850  0.572703   \n",
       "...        ...       ...       ...       ...       ...       ...       ...   \n",
       "7799 -0.009590 -0.370285 -0.351947  0.375928 -0.312881  0.284171  0.218668   \n",
       "7815  0.190164 -0.421917  0.041171  0.559976 -0.096135  0.262056  0.115327   \n",
       "7818  0.113591 -0.304503  0.023514  0.285975 -0.131286  0.313704 -0.003414   \n",
       "7820 -0.209527 -0.324761 -0.133246  0.322462 -0.087852  0.493621  0.207157   \n",
       "7832  0.219356 -0.023952 -0.126478 -0.041252 -0.207852 -0.374994  0.230476   \n",
       "\n",
       "            7         8         9   ...        90        91        92  \\\n",
       "0    -0.230927 -0.129720  0.112671  ... -0.354930  0.257672 -0.182260   \n",
       "1     0.390060 -0.197826  0.005668  ...  0.162281 -0.923582 -0.449693   \n",
       "2    -0.068645 -0.170712  0.071279  ...  0.309139 -0.249686 -0.252961   \n",
       "3    -0.070634 -0.275265  0.211026  ...  0.048260  0.186905 -0.201033   \n",
       "4     0.225255 -0.364476  0.159628  ...  0.073481 -0.567660 -0.298699   \n",
       "...        ...       ...       ...  ...       ...       ...       ...   \n",
       "7799 -0.185607 -0.080803  0.464115  ... -0.177752  0.476271  0.062159   \n",
       "7815 -0.222292  0.159212  0.254804  ...  0.079692  0.391770 -0.041344   \n",
       "7818 -0.047683  0.036644  0.179127  ...  0.135317  0.436429 -0.045782   \n",
       "7820  0.010970  0.073835  0.143174  ...  0.062675  0.328040 -0.080370   \n",
       "7832 -0.430638 -0.519447 -0.460002  ... -0.234624  0.342272 -0.037796   \n",
       "\n",
       "            93        94        95        96        97        98        99  \n",
       "0    -0.072084  0.155995  0.025738 -0.186744 -0.309680  0.003222  0.116559  \n",
       "1    -0.194215  0.884861  0.355686  0.418442 -0.504399 -1.110405  0.292351  \n",
       "2    -0.000214  0.428697  0.477869  0.114001 -0.259199 -0.860501  0.281628  \n",
       "3    -0.294315 -0.119009  0.070466 -0.013867 -0.257075 -0.069757  0.215312  \n",
       "4    -0.237357  0.528733  0.298273  0.037333 -0.491313 -0.742250  0.370616  \n",
       "...        ...       ...       ...       ...       ...       ...       ...  \n",
       "7799  0.180202 -0.104882 -0.123912 -0.011329 -0.059178  0.072528 -0.095532  \n",
       "7815  0.181603 -0.474300 -0.066437 -0.211216 -0.201937  0.157055  0.150917  \n",
       "7818  0.063444 -0.378774 -0.120447 -0.178072 -0.160545  0.119899 -0.047110  \n",
       "7820  0.155594 -0.452543  0.000524 -0.078063 -0.163876  0.080908  0.207743  \n",
       "7832  0.341001  0.306884  0.136352  0.090791 -0.088957  0.088237  0.242391  \n",
       "\n",
       "[1936 rows x 100 columns]"
      ]
     },
     "execution_count": 21,
     "metadata": {},
     "output_type": "execute_result"
    }
   ],
   "source": [
    "data2 = pd.concat([biog[:963],tem],axis=0)\n",
    "Y2 = np.array([True]*963 + [False]*963)\n",
    "# data2['Y2'] = Y2\n",
    "# data2 = data2.sample(frac=1).reset_index(drop=True) #shuffle the\n",
    "# Y2 = data2.pop('Y2')\n",
    "# print(len(Y2))\n",
    "data2"
   ]
  },
  {
   "cell_type": "code",
   "execution_count": 17,
   "metadata": {
    "ExecuteTime": {
     "end_time": "2020-11-30T18:32:29.649797Z",
     "start_time": "2020-11-30T18:32:29.634372Z"
    }
   },
   "outputs": [],
   "source": [
    "from matplotlib import pyplot as plt\n",
    "%matplotlib inline\n",
    "def print_class_report(Xtest, Ytest, clf, clf_name):\n",
    "    \"\"\"\n",
    "    Imprime relatório de classificação\n",
    "    :param Xtest:\n",
    "    :param Ytest:\n",
    "    :param clf: classificador trainado\n",
    "    :param clf_name: nome do classificador\n",
    "    \"\"\"\n",
    "    y_predict = clf.predict(Xtest)\n",
    "    print('\\nRelatório de classificação para {}:\\n'.format(clf_name))\n",
    "    print(classification_report(Ytest, y_predict, target_names=['Temático', 'Biográfico']))\n",
    "    \n",
    "\n",
    "def plot_roc(probas):\n",
    "    tprs = []\n",
    "    fprs = []\n",
    "\n",
    "\n",
    "    labels = ['False positive rate', 'True Positive rate']\n",
    "    for k, v in probas.items():\n",
    "        roc_aucs = []\n",
    "        for j, fold in enumerate(v):\n",
    "            try:\n",
    "                fpr, tpr, thresholds = roc_curve(fold[1], fold[0][:, 1])\n",
    "            except IndexError:\n",
    "                print(fold[0], fold[0].shape)\n",
    "                continue\n",
    "            roc_aucs.append(auc(fpr, tpr))\n",
    "            tprs.append([float(t) for t in tpr])\n",
    "            fprs.append([float(f) for f in fpr])\n",
    "\n",
    "        print('{}: AUCs: {}'.format(k, str(roc_aucs)))\n",
    "    plt.scatter(fprs, tprs, [], \"Curva ROC \", \"points\", 0, 0)\n",
    "    "
   ]
  },
  {
   "cell_type": "markdown",
   "metadata": {},
   "source": [
    "## Definindo os modelos\n",
    "Vamos comparar a performance de 3 modelos. Dois tipos de modelos de \"ensemble\", *Random forest* e *Extra Trees* e um terceiro baseado na segmentação do espaço vetorial, o SVC."
   ]
  },
  {
   "cell_type": "code",
   "execution_count": 39,
   "metadata": {
    "ExecuteTime": {
     "end_time": "2020-11-30T18:44:00.779645Z",
     "start_time": "2020-11-30T18:44:00.776156Z"
    }
   },
   "outputs": [],
   "source": [
    "rfclf = make_pipeline(StandardScaler(),RandomForestClassifier(n_estimators=400, criterion='entropy', n_jobs=-1, min_samples_leaf=3, warm_start=True, verbose=0))\n",
    "etclf = make_pipeline(StandardScaler(),ExtraTreesClassifier(n_estimators=400, n_jobs=-1,min_samples_leaf=3, warm_start=True, verbose=0))\n",
    "svcclf = make_pipeline(StandardScaler(),SVC(probability=True))"
   ]
  },
  {
   "cell_type": "markdown",
   "metadata": {},
   "source": [
    "Adicionalmente iremos usar um Classificador por votos que procurará combinar o melhor dos três modelos acima em uma classificação por votação."
   ]
  },
  {
   "cell_type": "code",
   "execution_count": 40,
   "metadata": {
    "ExecuteTime": {
     "end_time": "2020-11-30T18:44:02.383716Z",
     "start_time": "2020-11-30T18:44:02.378315Z"
    }
   },
   "outputs": [],
   "source": [
    "vcclf = VotingClassifier(estimators=[('rf', rfclf), ('et', etclf),('svc', svcclf)], \n",
    "                         voting='soft', weights=[1,1,1])"
   ]
  },
  {
   "cell_type": "markdown",
   "metadata": {},
   "source": [
    "## Treinando e validando o classificador"
   ]
  },
  {
   "cell_type": "markdown",
   "metadata": {},
   "source": [
    "Os modelos serão treinados usando um esquema de validação cruzada de três rodadas com randomização."
   ]
  },
  {
   "cell_type": "code",
   "execution_count": 47,
   "metadata": {
    "ExecuteTime": {
     "end_time": "2020-11-30T18:44:29.894265Z",
     "start_time": "2020-11-30T18:44:07.017710Z"
    },
    "run_control": {
     "marked": true
    }
   },
   "outputs": [
    {
     "name": "stdout",
     "output_type": "stream",
     "text": [
      "==> Fitting:\n",
      "==> Scoring:\n",
      "==> Fitting:\n",
      "==> Scoring:\n",
      "==> Fitting:\n",
      "==> Scoring:\n",
      "==> Fitting:\n",
      "==> Scoring:\n",
      "==> Fitting:\n",
      "==> Scoring:\n",
      "\n",
      "Relatório de classificação para ET:\n",
      "\n",
      "              precision    recall  f1-score   support\n",
      "\n",
      "    Temático       0.92      0.91      0.91       248\n",
      "  Biográfico       0.90      0.92      0.91       234\n",
      "\n",
      "    accuracy                           0.91       482\n",
      "   macro avg       0.91      0.91      0.91       482\n",
      "weighted avg       0.91      0.91      0.91       482\n",
      "\n",
      "\n",
      "Relatório de classificação para RF:\n",
      "\n",
      "              precision    recall  f1-score   support\n",
      "\n",
      "    Temático       0.98      0.92      0.95       248\n",
      "  Biográfico       0.92      0.98      0.95       234\n",
      "\n",
      "    accuracy                           0.95       482\n",
      "   macro avg       0.95      0.95      0.95       482\n",
      "weighted avg       0.95      0.95      0.95       482\n",
      "\n",
      "\n",
      "Relatório de classificação para SVC:\n",
      "\n",
      "              precision    recall  f1-score   support\n",
      "\n",
      "    Temático       0.90      0.80      0.85       248\n",
      "  Biográfico       0.81      0.90      0.85       234\n",
      "\n",
      "    accuracy                           0.85       482\n",
      "   macro avg       0.85      0.85      0.85       482\n",
      "weighted avg       0.86      0.85      0.85       482\n",
      "\n",
      "\n",
      "Relatório de classificação para Voting:\n",
      "\n",
      "              precision    recall  f1-score   support\n",
      "\n",
      "    Temático       0.89      0.84      0.87       248\n",
      "  Biográfico       0.84      0.89      0.87       234\n",
      "\n",
      "    accuracy                           0.87       482\n",
      "   macro avg       0.87      0.87      0.87       482\n",
      "weighted avg       0.87      0.87      0.87       482\n",
      "\n"
     ]
    }
   ],
   "source": [
    "from collections import defaultdict\n",
    "from sklearn.metrics import RocCurveDisplay\n",
    "\n",
    "acc_hist = defaultdict(lambda: [])\n",
    "X2 = data2.values\n",
    "\n",
    "Xtrain,Xtest,Ytrain,Ytest = train_test_split(X2,Y2, test_size=.25)\n",
    "\n",
    "skf = StratifiedKFold(5, shuffle=True)\n",
    "\n",
    "for train_index, test_index in skf.split(Xtrain, Ytrain):\n",
    "    Xtr = Xtrain[train_index]\n",
    "    Ytr = Ytrain[train_index]\n",
    "    Xval = Xtrain[test_index]\n",
    "    Yval = Ytrain[test_index]\n",
    "    print(\"==> Fitting:\")\n",
    "    # print(\"Extra Trees\")\n",
    "    etclf.fit(Xtr,Ytrain[train_index])\n",
    "    # print(\"Random Forest\")\n",
    "    rfclf.fit(Xtr, Ytrain[train_index])\n",
    "    # print(\"SVC\")\n",
    "    svcclf.fit(Xtr, Ytrain[train_index])\n",
    "    # print(\"Voting\")\n",
    "    vcclf.fit(Xtr, Ytrain[train_index])\n",
    "    print(\"==> Scoring:\")\n",
    "    acc_hist['ET'].append(cross_val_score(etclf, Xtrain, Ytrain, cv=2, n_jobs=-1).mean())\n",
    "    acc_hist['RF'].append(cross_val_score(rfclf, Xtrain, Ytrain, cv=2, n_jobs=-1).mean())\n",
    "    acc_hist['SVC'].append(cross_val_score(svcclf, Xtrain, Ytrain, cv=2, n_jobs=-1).mean())\n",
    "    acc_hist['Voting'].append(vcclf.score(Xtrain, Ytrain))\n",
    "print_class_report(Xtest, Ytest, etclf, 'ET')\n",
    "print_class_report(Xtest, Ytest, rfclf, 'RF')\n",
    "print_class_report(Xtest, Ytest, svcclf, 'SVC')\n",
    "print_class_report(Xtest, Ytest, vcclf, 'Voting')"
   ]
  },
  {
   "cell_type": "markdown",
   "metadata": {},
   "source": [
    "### Curva ROC para os classificadores\n",
    "A curva ROC nos informa o quanto podemos maximizar a taxa de verdadeiros positivos(classificações corretas), ao mesmo tempo em que minimizamos a taxa de falsos positivos (classificações erradas), apenas escolhendo a probabilidade de corte para pertinência à classe 1. O melhor modelo é o que mais se aproxima do canto superior esquerdo da figura (maximizando a área sob a curva), neste caso o modelo *Random Forest*."
   ]
  },
  {
   "cell_type": "code",
   "execution_count": 51,
   "metadata": {
    "ExecuteTime": {
     "end_time": "2020-11-30T18:44:29.894265Z",
     "start_time": "2020-11-30T18:44:07.017710Z"
    },
    "run_control": {
     "marked": true
    }
   },
   "outputs": [
    {
     "data": {
      "image/png": "[encoded data removed]",
      "text/plain": [
       "<Figure size 432x288 with 1 Axes>"
      ]
     },
     "metadata": {
      "needs_background": "light"
     },
     "output_type": "display_data"
    }
   ],
   "source": [
    "#  ROC curve for each model\n",
    "\n",
    "et_roc = RocCurveDisplay.from_estimator(etclf, Xtest, Ytest, name='Extra Trees')\n",
    "ax = plt.gca()\n",
    "rf_roc = RocCurveDisplay.from_estimator(rfclf, Xtest, Ytest, ax=ax, name='Random Forest')\n",
    "svc_roc = RocCurveDisplay.from_estimator(svcclf, Xtest, Ytest, ax=ax, name='SVC')\n",
    "vc_roc = RocCurveDisplay.from_estimator(vcclf, Xtest, Ytest, ax=ax, name='Voting')\n",
    "\n",
    "# print('trained {} documents.'.format((n+1)*batchsize))\n",
    "df_acc = pd.DataFrame(acc_hist)"
   ]
  },
  {
   "cell_type": "markdown",
   "metadata": {},
   "source": [
    "### Acurácia\n",
    "Se olharmos para a acurácia, vemos que esta não melhora com as 5 rodadas de validação cruzada, indicando que podemos reduzí-las ou mesmo eliminar completamente a validação cruzada."
   ]
  },
  {
   "cell_type": "code",
   "execution_count": 49,
   "metadata": {},
   "outputs": [
    {
     "data": {
      "text/html": [
       "<div>\n",
       "<style scoped>\n",
       "    .dataframe tbody tr th:only-of-type {\n",
       "        vertical-align: middle;\n",
       "    }\n",
       "\n",
       "    .dataframe tbody tr th {\n",
       "        vertical-align: top;\n",
       "    }\n",
       "\n",
       "    .dataframe thead th {\n",
       "        text-align: right;\n",
       "    }\n",
       "</style>\n",
       "<table border=\"1\" class=\"dataframe\">\n",
       "  <thead>\n",
       "    <tr style=\"text-align: right;\">\n",
       "      <th></th>\n",
       "      <th>ET</th>\n",
       "      <th>RF</th>\n",
       "      <th>SVC</th>\n",
       "      <th>Voting</th>\n",
       "    </tr>\n",
       "  </thead>\n",
       "  <tbody>\n",
       "    <tr>\n",
       "      <th>0</th>\n",
       "      <td>0.844183</td>\n",
       "      <td>0.893352</td>\n",
       "      <td>0.84903</td>\n",
       "      <td>0.932825</td>\n",
       "    </tr>\n",
       "    <tr>\n",
       "      <th>1</th>\n",
       "      <td>0.846953</td>\n",
       "      <td>0.890582</td>\n",
       "      <td>0.84903</td>\n",
       "      <td>0.929363</td>\n",
       "    </tr>\n",
       "    <tr>\n",
       "      <th>2</th>\n",
       "      <td>0.843490</td>\n",
       "      <td>0.899584</td>\n",
       "      <td>0.84903</td>\n",
       "      <td>0.937673</td>\n",
       "    </tr>\n",
       "    <tr>\n",
       "      <th>3</th>\n",
       "      <td>0.842798</td>\n",
       "      <td>0.900277</td>\n",
       "      <td>0.84903</td>\n",
       "      <td>0.936288</td>\n",
       "    </tr>\n",
       "    <tr>\n",
       "      <th>4</th>\n",
       "      <td>0.849723</td>\n",
       "      <td>0.897507</td>\n",
       "      <td>0.84903</td>\n",
       "      <td>0.939058</td>\n",
       "    </tr>\n",
       "  </tbody>\n",
       "</table>\n",
       "</div>"
      ],
      "text/plain": [
       "         ET        RF      SVC    Voting\n",
       "0  0.844183  0.893352  0.84903  0.932825\n",
       "1  0.846953  0.890582  0.84903  0.929363\n",
       "2  0.843490  0.899584  0.84903  0.937673\n",
       "3  0.842798  0.900277  0.84903  0.936288\n",
       "4  0.849723  0.897507  0.84903  0.939058"
      ]
     },
     "execution_count": 49,
     "metadata": {},
     "output_type": "execute_result"
    }
   ],
   "source": [
    "df_acc"
   ]
  },
  {
   "cell_type": "markdown",
   "metadata": {},
   "source": [
    "### Precisão e Revocação\n",
    "Outra métrica para comparação dos modelos são suas curvas de Precisão-revocação, que apresentam os trade-offs possíveis entre estas duas medidas como função do limiar de decisão para cada classe. Nesta análise o modelo cuja curva mais se aproxima do canto superior direito da figura é o melhor, neste caso novamente o modelo *Random Forest* se destaca."
   ]
  },
  {
   "cell_type": "code",
   "execution_count": 52,
   "metadata": {
    "ExecuteTime": {
     "end_time": "2020-11-30T18:34:46.459934Z",
     "start_time": "2020-11-30T18:34:46.451084Z"
    }
   },
   "outputs": [],
   "source": [
    "from sklearn.metrics import PrecisionRecallDisplay"
   ]
  },
  {
   "cell_type": "code",
   "execution_count": 53,
   "metadata": {
    "ExecuteTime": {
     "end_time": "2020-11-30T18:34:47.200538Z",
     "start_time": "2020-11-30T18:34:47.195068Z"
    }
   },
   "outputs": [
    {
     "data": {
      "image/png": "[encoded data removed]",
      "text/plain": [
       "<Figure size 432x288 with 1 Axes>"
      ]
     },
     "metadata": {
      "needs_background": "light"
     },
     "output_type": "display_data"
    }
   ],
   "source": [
    "display = PrecisionRecallDisplay.from_estimator(\n",
    "    etclf, Xtest, Ytest, name=\"Extra Trees\"\n",
    ")\n",
    "ax = plt.gca()\n",
    "PrecisionRecallDisplay.from_estimator(\n",
    "    rfclf, Xtest, Ytest, name=\"Random Forest\", ax=ax\n",
    ")\n",
    "PrecisionRecallDisplay.from_estimator(\n",
    "    svcclf, Xtest, Ytest, name=\"SVC\", ax=ax\n",
    ")\n",
    "PrecisionRecallDisplay.from_estimator(\n",
    "    vcclf, Xtest, Ytest, name=\"Voting\", ax=ax\n",
    ")\n",
    "_ = display.ax_.set_title(\"Curva de Precisão-Revocação para duas categorias\")"
   ]
  },
  {
   "cell_type": "code",
   "execution_count": null,
   "metadata": {},
   "outputs": [],
   "source": []
  }
 ],
 "metadata": {
  "kernelspec": {
   "display_name": "Python 3.10.6 64-bit",
   "language": "python",
   "name": "python3"
  },
  "language_info": {
   "codemirror_mode": {
    "name": "ipython",
    "version": 3
   },
   "file_extension": ".py",
   "mimetype": "text/x-python",
   "name": "python",
   "nbconvert_exporter": "python",
   "pygments_lexer": "ipython3",
   "version": "3.10.6"
  },
  "latex_envs": {
   "LaTeX_envs_menu_present": true,
   "autoclose": false,
   "autocomplete": true,
   "bibliofile": "biblio.bib",
   "cite_by": "apalike",
   "current_citInitial": 1,
   "eqLabelWithNumbers": true,
   "eqNumInitial": 1,
   "hotkeys": {
    "equation": "Ctrl-E",
    "itemize": "Ctrl-I"
   },
   "labels_anchors": false,
   "latex_user_defs": false,
   "report_style_numbering": false,
   "user_envs_cfg": false
  },
  "toc": {
   "base_numbering": 1,
   "nav_menu": {},
   "number_sections": true,
   "sideBar": true,
   "skip_h1_title": false,
   "title_cell": "Table of Contents",
   "title_sidebar": "Contents",
   "toc_cell": false,
   "toc_position": {},
   "toc_section_display": true,
   "toc_window_display": true
  },
  "varInspector": {
   "cols": {
    "lenName": 16,
    "lenType": 16,
    "lenVar": 40
   },
   "kernels_config": {
    "python": {
     "delete_cmd_postfix": "",
     "delete_cmd_prefix": "del ",
     "library": "var_list.py",
     "varRefreshCmd": "print(var_dic_list())"
    },
    "r": {
     "delete_cmd_postfix": ") ",
     "delete_cmd_prefix": "rm(",
     "library": "var_list.r",
     "varRefreshCmd": "cat(var_dic_list()) "
    }
   },
   "oldHeight": 350,
   "position": {
    "height": "40px",
    "left": "651px",
    "right": "20px",
    "top": "121px",
    "width": "350px"
   },
   "types_to_exclude": [
    "module",
    "function",
    "builtin_function_or_method",
    "instance",
    "_Feature"
   ],
   "varInspector_section_display": "none",
   "window_display": false
  },
  "vscode": {
   "interpreter": {
    "hash": "916dbcbb3f70747c44a77c7bcd40155683ae19c65e1c03b4aa3499c5328201f1"
   }
  }
 },
 "nbformat": 4,
 "nbformat_minor": 4
}
