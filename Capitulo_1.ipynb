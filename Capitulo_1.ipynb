{
 "cells": [
  {
   "cell_type": "markdown",
   "metadata": {},
   "source": [
    "# Abrindo Arquivos de Texto\n",
    "Neste curso de mineração de textos usaremos como material principal de trabalho, os verbetes do Dicionário Histórico e Biográfico do Brasil -- DHBB. Estes verbetes stão disponíveis para Download público.\n",
    "\n",
    "Neste capítulo vamos aprender a interagir com os verbetes no disco e extrair informações simples a partir dos mesmos.\n",
    "\n",
    "Vamos começar importando alguma bibliotecas que nos serão úteis nesta tarefa:"
   ]
  },
  {
   "cell_type": "code",
   "execution_count": 1,
   "metadata": {},
   "outputs": [],
   "source": [
    "import os\n",
    "import glob"
   ]
  },
  {
   "cell_type": "code",
   "execution_count": 5,
   "metadata": {},
   "outputs": [
    {
     "name": "stdout",
     "output_type": "stream",
     "text": [
      "alô turma!\n"
     ]
    }
   ],
   "source": [
    "print(\"alô turma!\")"
   ]
  },
  {
   "cell_type": "markdown",
   "metadata": {},
   "source": [
    "Assumindo que os dados do DHBB já foram baixados para um diretório local, podemos começar inspecionando o diretório e listando o seu conteúdo."
   ]
  },
  {
   "cell_type": "code",
   "execution_count": 3,
   "metadata": {},
   "outputs": [
    {
     "data": {
      "text/plain": [
       "7687"
      ]
     },
     "execution_count": 3,
     "metadata": {},
     "output_type": "execute_result"
    }
   ],
   "source": [
    "caminho = \"F:/dhbb-master/text/*.text\"\n",
    "caminho = \"../../dhbb/text/*.text\"\n",
    "arquivos  = glob.glob(caminho)\n",
    "len(arquivos)"
   ]
  },
  {
   "cell_type": "markdown",
   "metadata": {},
   "source": [
    "Temos 7687 verbetes neste diretório. Vamos agora ver como abrir um destes verbetes e inspecionar o seu conteúdo:"
   ]
  },
  {
   "cell_type": "code",
   "execution_count": 4,
   "metadata": {},
   "outputs": [
    {
     "data": {
      "text/plain": [
       "'../../dhbb/text/1.text'"
      ]
     },
     "execution_count": 4,
     "metadata": {},
     "output_type": "execute_result"
    }
   ],
   "source": [
    "arquivos[0]"
   ]
  },
  {
   "cell_type": "markdown",
   "metadata": {},
   "source": [
    "Para abrir um arquivo utilizamos um bloco `with`."
   ]
  },
  {
   "cell_type": "code",
   "execution_count": 6,
   "metadata": {},
   "outputs": [
    {
     "name": "stdout",
     "output_type": "stream",
     "text": [
      "---\n",
      "title: COELHO, Machado\n",
      "natureza: biográfico\n",
      "sexo: m\n",
      "cargos:\n",
      " - dep. fed. DF 1927-1929 \n",
      " - dep. fed. DF 1930\n",
      " - const. 1946\n",
      " - dep. fed. SP 1946-1951\n",
      "---\n",
      "\n",
      "«José Machado Coelho de Castro» nasceu em Lorena (SP).\n",
      "\n",
      "Estudou no Ginásio Diocesano de São Paulo e bacharelou-se em 1910 pela\n",
      "Faculdade de Ciências Jurídicas e Sociais. Dedicando-se à advocacia, foi\n",
      "promotor público em Cunha (SP) e depois delegado de polícia no Rio de\n",
      "Janeiro, então Distrito Federal.\n",
      "\n",
      "Iniciou sua vida política como deputado federal pelo Distrito Federal,\n",
      "exercendo o mandato de 1927 a 1929. Reeleito para a legislatura iniciada\n",
      "em maio de 1930, ocupava sua cadeira na Câmara quando, em 3 de outubro,\n",
      "foi deflagrado o movimento revolucionário liderado por Getúlio Vargas.\n",
      "Ligado ao governo federal, encontrava-se ao lado do presidente\n",
      "Washington Luís, no palácio Guanabara, no momento de sua deposição no\n",
      "dia 24 de outubro. Junto com outros companheiros também solidários ao\n",
      "regime deposto e que se haviam asilado em embaixadas e legações, foi\n",
      "enviado em novembro para o estrangeiro. Em outubro de 1932, estava\n",
      "presente no porto de Alcântara, em Lisboa, para receber os\n",
      "revolucionários constitucionalistas exilados pelo governo de Getúlio\n",
      "Vargas após a derrota da revolução irrompida em julho desse ano em São\n",
      "Paulo.\n",
      "\n",
      "Com a redemocratização do país em 1945, candidatou-se pelo estado de São\n",
      "Paulo, na legenda do Partido Social Democrático (PSD), às eleições para\n",
      "a Assembléia Nacional Constituinte (ANC) realizadas em dezembro desse\n",
      "ano. Obteve uma suplência e, em julho de 1946, foi convocado para\n",
      "participar dos trabalhos constituintes. Com a promulgação da nova Carta\n",
      "(18/9/1946) e a transformação da Constituinte em Congresso ordinário,\n",
      "integrou a Comissão Permanente de Obras Públicas da Câmara Federal,\n",
      "tendo votado em janeiro de 1948 a favor da cassação dos mandatos dos\n",
      "parlamentares comunistas. Deixou a Câmara em janeiro de 1951.\n",
      "\n",
      "Foi ainda presidente da Companhia de Cimento Vale do Paraíba.\n",
      "\n",
      "Faleceu no Rio de Janeiro no dia 17 de maio de 1975.\n",
      "\n",
      "\n"
     ]
    }
   ],
   "source": [
    "with open(arquivos[0],'r', encoding='utf8') as arquivo_aberto:\n",
    "    verbete = arquivo_aberto.read()\n",
    "print(verbete)"
   ]
  },
  {
   "cell_type": "markdown",
   "metadata": {},
   "source": [
    "Uma outra maneira de abrir um arquivo, seria como se segue, mas teríamos que usar uma linha de código a mais, para fechar o arquivo, que podemos economizar, lendo o arquivo dentro de um bloco `with` como fizemos anteriormente."
   ]
  },
  {
   "cell_type": "code",
   "execution_count": 19,
   "metadata": {},
   "outputs": [],
   "source": [
    "arquivo_aberto = open(arquivos[0], 'r', encoding='utf8')\n",
    "verbete = arquivo_aberto.read()\n",
    "arquivo_aberto.close()"
   ]
  },
  {
   "cell_type": "markdown",
   "metadata": {},
   "source": [
    "A variável **verbete** que criamos na célula anterior é uma variável do tipo `string`, que é a otipo usado pelo Python para representar um bloco de texto. Podemos manipular o texto dentro de uma `string` de diversas maneiras:"
   ]
  },
  {
   "cell_type": "code",
   "execution_count": 20,
   "metadata": {},
   "outputs": [
    {
     "data": {
      "text/plain": [
       "str"
      ]
     },
     "execution_count": 20,
     "metadata": {},
     "output_type": "execute_result"
    }
   ],
   "source": [
    "type(verbete)"
   ]
  },
  {
   "cell_type": "code",
   "execution_count": 21,
   "metadata": {},
   "outputs": [
    {
     "name": "stdout",
     "output_type": "stream",
     "text": [
      "\n",
      "title: COELHO, Machado\n",
      "natureza: biográfico\n",
      "sexo: m\n",
      "cargos:\n",
      " - dep. fed. DF 1927-1929 \n",
      " - dep. fed. DF 1930\n",
      " - const. 1946\n",
      " - dep. fed. SP 1946-1951\n",
      "\n"
     ]
    }
   ],
   "source": [
    "print(verbete.split('---')[1])"
   ]
  },
  {
   "cell_type": "markdown",
   "metadata": {},
   "source": [
    "Tipos de dados em Python, também conhecidos como  objetos, possuem métodos. O método `split` do tipo `string` segmenta uma string nas posicões em que ocorram uma sequência específica de caracteres, retornando um outro tipo de dado, denominado `lista`."
   ]
  },
  {
   "cell_type": "code",
   "execution_count": 22,
   "metadata": {},
   "outputs": [
    {
     "data": {
      "text/plain": [
       "list"
      ]
     },
     "execution_count": 22,
     "metadata": {},
     "output_type": "execute_result"
    }
   ],
   "source": [
    "type(verbete.split('---'))"
   ]
  },
  {
   "cell_type": "markdown",
   "metadata": {},
   "source": [
    "Listas são sequências de objetos de quaisquer tipos que também apresentam seu conjunto de métodos. Para descobrir os métodos de qualquer objeto, basta colocar um ponto após o nome da variável e pressionar a tecla `<tab>`. Listas são delimitadas por colchetes: `[]` (lista vazia). Abaixo vamos dividir o verbete em uma lista de `strings`."
   ]
  },
  {
   "cell_type": "code",
   "execution_count": 23,
   "metadata": {},
   "outputs": [
    {
     "data": {
      "text/plain": [
       "['',\n",
       " '\\ntitle: COELHO, Machado\\nnatureza: biográfico\\nsexo: m\\ncargos:\\n - dep. fed. DF 1927-1929 \\n - dep. fed. DF 1930\\n - const. 1946\\n - dep. fed. SP 1946-1951\\n',\n",
       " '\\n\\n«José Machado Coelho de Castro» nasceu em Lorena (SP).\\n\\nEstudou no Ginásio Diocesano de São Paulo e bacharelou-se em 1910 pela\\nFaculdade de Ciências Jurídicas e Sociais. Dedicando-se à advocacia, foi\\npromotor público em Cunha (SP) e depois delegado de polícia no Rio de\\nJaneiro, então Distrito Federal.\\n\\nIniciou sua vida política como deputado federal pelo Distrito Federal,\\nexercendo o mandato de 1927 a 1929. Reeleito para a legislatura iniciada\\nem maio de 1930, ocupava sua cadeira na Câmara quando, em 3 de outubro,\\nfoi deflagrado o movimento revolucionário liderado por Getúlio Vargas.\\nLigado ao governo federal, encontrava-se ao lado do presidente\\nWashington Luís, no palácio Guanabara, no momento de sua deposição no\\ndia 24 de outubro. Junto com outros companheiros também solidários ao\\nregime deposto e que se haviam asilado em embaixadas e legações, foi\\nenviado em novembro para o estrangeiro. Em outubro de 1932, estava\\npresente no porto de Alcântara, em Lisboa, para receber os\\nrevolucionários constitucionalistas exilados pelo governo de Getúlio\\nVargas após a derrota da revolução irrompida em julho desse ano em São\\nPaulo.\\n\\nCom a redemocratização do país em 1945, candidatou-se pelo estado de São\\nPaulo, na legenda do Partido Social Democrático (PSD), às eleições para\\na Assembléia Nacional Constituinte (ANC) realizadas em dezembro desse\\nano. Obteve uma suplência e, em julho de 1946, foi convocado para\\nparticipar dos trabalhos constituintes. Com a promulgação da nova Carta\\n(18/9/1946) e a transformação da Constituinte em Congresso ordinário,\\nintegrou a Comissão Permanente de Obras Públicas da Câmara Federal,\\ntendo votado em janeiro de 1948 a favor da cassação dos mandatos dos\\nparlamentares comunistas. Deixou a Câmara em janeiro de 1951.\\n\\nFoi ainda presidente da Companhia de Cimento Vale do Paraíba.\\n\\nFaleceu no Rio de Janeiro no dia 17 de maio de 1975.\\n\\n']"
      ]
     },
     "execution_count": 23,
     "metadata": {},
     "output_type": "execute_result"
    }
   ],
   "source": [
    "l = verbete.split('---')\n",
    "l"
   ]
  },
  {
   "cell_type": "markdown",
   "metadata": {},
   "source": [
    "Note que nas strings acima existem várias ocorrências da sequencia de caracteres `'\\n'`. Esta sequência identifica quebra de linhas. Podemos então utilizá-la para dividir o cabeçalho do verbete em uma lista de linhas:"
   ]
  },
  {
   "cell_type": "code",
   "execution_count": 24,
   "metadata": {},
   "outputs": [
    {
     "data": {
      "text/plain": [
       "['',\n",
       " 'title: COELHO, Machado',\n",
       " 'natureza: biográfico',\n",
       " 'sexo: m',\n",
       " 'cargos:',\n",
       " ' - dep. fed. DF 1927-1929 ',\n",
       " ' - dep. fed. DF 1930',\n",
       " ' - const. 1946',\n",
       " ' - dep. fed. SP 1946-1951']"
      ]
     },
     "execution_count": 24,
     "metadata": {},
     "output_type": "execute_result"
    }
   ],
   "source": [
    "cabeçalho = verbete.split('---')[1]\n",
    "cabeçalho.splitlines()"
   ]
  },
  {
   "cell_type": "markdown",
   "metadata": {},
   "source": [
    "Elementos de uma lista podem ser acessado por sua posição na sequência, por exemplo para acessar a 3ª string da lista:"
   ]
  },
  {
   "cell_type": "code",
   "execution_count": 25,
   "metadata": {},
   "outputs": [
    {
     "name": "stdout",
     "output_type": "stream",
     "text": [
      "\n",
      "\n",
      "«José Machado Coelho de Castro» nasceu em Lorena (SP).\n",
      "\n",
      "Estudou no Ginásio Diocesano de São Paulo e bacharelou-se em 1910 pela\n",
      "Faculdade de Ciências Jurídicas e Sociais. Dedicando-se à advocacia, foi\n",
      "promotor público em Cunha (SP) e depois delegado de polícia no Rio de\n",
      "Janeiro, então Distrito Federal.\n",
      "\n",
      "Iniciou sua vida política como deputado federal pelo Distrito Federal,\n",
      "exercendo o mandato de 1927 a 1929. Reeleito para a legislatura iniciada\n",
      "em maio de 1930, ocupava sua cadeira na Câmara quando, em 3 de outubro,\n",
      "foi deflagrado o movimento revolucionário liderado por Getúlio Vargas.\n",
      "Ligado ao governo federal, encontrava-se ao lado do presidente\n",
      "Washington Luís, no palácio Guanabara, no momento de sua deposição no\n",
      "dia 24 de outubro. Junto com outros companheiros também solidários ao\n",
      "regime deposto e que se haviam asilado em embaixadas e legações, foi\n",
      "enviado em novembro para o estrangeiro. Em outubro de 1932, estava\n",
      "presente no porto de Alcântara, em Lisboa, para receber os\n",
      "revolucionários constitucionalistas exilados pelo governo de Getúlio\n",
      "Vargas após a derrota da revolução irrompida em julho desse ano em São\n",
      "Paulo.\n",
      "\n",
      "Com a redemocratização do país em 1945, candidatou-se pelo estado de São\n",
      "Paulo, na legenda do Partido Social Democrático (PSD), às eleições para\n",
      "a Assembléia Nacional Constituinte (ANC) realizadas em dezembro desse\n",
      "ano. Obteve uma suplência e, em julho de 1946, foi convocado para\n",
      "participar dos trabalhos constituintes. Com a promulgação da nova Carta\n",
      "(18/9/1946) e a transformação da Constituinte em Congresso ordinário,\n",
      "integrou a Comissão Permanente de Obras Públicas da Câmara Federal,\n",
      "tendo votado em janeiro de 1948 a favor da cassação dos mandatos dos\n",
      "parlamentares comunistas. Deixou a Câmara em janeiro de 1951.\n",
      "\n",
      "Foi ainda presidente da Companhia de Cimento Vale do Paraíba.\n",
      "\n",
      "Faleceu no Rio de Janeiro no dia 17 de maio de 1975.\n",
      "\n",
      "\n"
     ]
    }
   ],
   "source": [
    "print(l[2])"
   ]
  },
  {
   "cell_type": "markdown",
   "metadata": {},
   "source": [
    "Muitas vezes, as atrings podem vir acompanhadas de um ou mais espaços no ínicio ou no fim. Para removê-los podemos usar o método `strip` como exemplificado abaixo. Caso queiramos remover apenas os espaços no início ou no fim, podemos usar `lstrip` ou `rstrip`, respectivamente."
   ]
  },
  {
   "cell_type": "code",
   "execution_count": 15,
   "metadata": {},
   "outputs": [
    {
     "data": {
      "text/plain": [
       "'gjsldfkgj'"
      ]
     },
     "execution_count": 15,
     "metadata": {},
     "output_type": "execute_result"
    }
   ],
   "source": [
    "\"   gjsldfkgj    \".strip()"
   ]
  },
  {
   "cell_type": "markdown",
   "metadata": {},
   "source": [
    "Um outro tipo de estrutura de dados fundamental no Python, é chamado um dicionário, e é denotado por um conjunto de pares de (chave: valor). Abaixo vamos construir um dicionário com os campos de um verbete."
   ]
  },
  {
   "cell_type": "code",
   "execution_count": 16,
   "metadata": {},
   "outputs": [
    {
     "data": {
      "text/plain": [
       "{'title': 'COELHO, Machado',\n",
       " 'natureza': 'biográfico',\n",
       " 'sexo': 'm',\n",
       " 'cargos': ''}"
      ]
     },
     "execution_count": 16,
     "metadata": {},
     "output_type": "execute_result"
    }
   ],
   "source": [
    "campos = {l.split(':')[0].strip() :l.split(':')[1].strip() for l in cabeçalho.split('\\n') if l and ':' in l}\n",
    "campos"
   ]
  },
  {
   "cell_type": "markdown",
   "metadata": {},
   "source": [
    "No exemplo acima usamos um laço `for` para percorrer repetidamente o campos do cabeçalho e inseri-los um-a-um no dicionário, em apenas uma linha de código. esta maneira de prencher o dicionário é chamada de *\"dict comprehension\"*. Para entendermos melhor como funciona um laço for, e exatament a sequencia de operações realizada acima, vamos escrever \"por extenso\" o código acima."
   ]
  },
  {
   "cell_type": "code",
   "execution_count": 17,
   "metadata": {},
   "outputs": [
    {
     "data": {
      "text/plain": [
       "{'title': 'COELHO, Machado',\n",
       " 'natureza': 'biográfico',\n",
       " 'sexo': 'm',\n",
       " 'cargos': ''}"
      ]
     },
     "execution_count": 17,
     "metadata": {},
     "output_type": "execute_result"
    }
   ],
   "source": [
    "campos = {}\n",
    "for linha in cabeçalho.split('\\n'):\n",
    "    if linha and ':' in linha:\n",
    "        chave, valor = linha.split(':')\n",
    "        campos[chave.strip()] = valor.strip()\n",
    "\n",
    "campos"
   ]
  },
  {
   "cell_type": "markdown",
   "metadata": {},
   "source": [
    "## Exercício\n",
    "Construa para 5 verbetes, um dicionário com o seguinte conteúdo: `{\"nome-do-cargo\":\"período\"}` para todos os cargos de cada verbetado."
   ]
  },
  {
   "cell_type": "code",
   "execution_count": 37,
   "metadata": {},
   "outputs": [
    {
     "name": "stdout",
     "output_type": "stream",
     "text": [
      "{'const.': '1987-1988', 'dep. fed. DF': '1987-1991'}\n",
      "{'const.': '1987-1988', 'dep. fed. DF': '1987-1991', 'militar': 'NA', 'gov. RR': '1967-1974', 'dep. fed. RR': '1975-1983', 'sen. RR': '1991'}\n",
      "{'const.': '1987-1988', 'dep. fed. DF': '1987-1991', 'militar': 'NA', 'gov. RR': '1967-1974', 'dep. fed. RR': '1975-1983', 'sen. RR': '1991', 'gov. MT': '1991-1995'}\n",
      "{'const.': '1946', 'dep. fed. DF': '1987-1991', 'militar': 'NA', 'gov. RR': '1967-1974', 'dep. fed. RR': '1975-1983', 'sen. RR': '1991', 'gov. MT': '1991-1995', 'rev.': '1930', 'interv. BA': '1942-1945', 'sen. BA': '1946-1955', 'autor:': 'NA', 'Amélia': 'Coutinho'}\n",
      "{'const.': '1946', 'dep. fed. DF': '1987-1991', 'militar': 'NA', 'gov. RR': '1967-1974', 'dep. fed. RR': '1975-1983', 'sen. RR': '1991', 'gov. MT': '1991-1995', 'rev.': '1930', 'interv. BA': '1942-1945', 'sen. BA': '1946-1955', 'autor:': 'NA', 'Amélia': 'Coutinho', 'sen. MT': '2007'}\n"
     ]
    }
   ],
   "source": [
    "resposta = {}\n",
    "for verbete in arquivos[10:15]:\n",
    "    with open(verbete, 'r', encoding='utf8') as verb:\n",
    "        cabeçalho = verb.read().split('---')[1]\n",
    "    cargos = cabeçalho.split('cargos:')[1]\n",
    "    lista_de_cargos = [cargo.strip('- ') for cargo in cargos.splitlines() if cargo.strip('- ') != \"\"]\n",
    "    for cargo in lista_de_cargos:\n",
    "        if len(cargo.split()) > 1:\n",
    "            per = cargo.split()[-1]\n",
    "            nome = ' '.join(cargo.split()[:-1])\n",
    "        else:\n",
    "            nome = cargo.split()[0]\n",
    "            per = \"NA\"\n",
    "        resposta[nome] = per\n",
    "#     print(cargos)\n",
    "    print(resposta)\n"
   ]
  },
  {
   "cell_type": "markdown",
   "metadata": {},
   "source": [
    "Na célula acima contruímos uma variável de tipo *Dicionário*, que é basicamente um conjunto de pares, delimitado por `{}`. Estes pares são chamados pares `chave: valor`, como dissemos anteriormente"
   ]
  },
  {
   "cell_type": "markdown",
   "metadata": {},
   "source": [
    "## Exercício:\n",
    "Modifique o código acima para criar outro dicionário com a seguinte estrutura:\n",
    "```\n",
    "{\n",
    "    \"nome\": [\"nome do verbetado\", \"nome do verbetado\", ...],\n",
    "    \"cargo\":[cargo 1, cargo2, ...],\n",
    "    \"início\": [1987,1987, ...],\n",
    "    \"fim\": [1988, 1991, ...]\n",
    "}\n",
    "```"
   ]
  },
  {
   "cell_type": "code",
   "execution_count": null,
   "metadata": {},
   "outputs": [],
   "source": []
  },
  {
   "cell_type": "code",
   "execution_count": null,
   "metadata": {},
   "outputs": [],
   "source": []
  },
  {
   "cell_type": "markdown",
   "metadata": {},
   "source": [
    "## Abrindo um grande número de documentos texto\n",
    "Como vimos acima existem 7687 verbetes à nossa disposição no disco, mas não podemos abrir todos ao mesmo tempo pois, em primeiro lugar podem não caber na memória, em segundo lugar raramente precisaremos inpecioná-los todos ao mesmo tempo. O mais comum é analisá-los em sequência. Vamos inspecionar os primeiros 10:"
   ]
  },
  {
   "cell_type": "code",
   "execution_count": 13,
   "metadata": {},
   "outputs": [
    {
     "name": "stdout",
     "output_type": "stream",
     "text": [
      "Verbete:  1956\n",
      "title: FERRAZ, Gabriel Lopes\n",
      "\n",
      "Verbete:  10978\n",
      "title: DESCONSI, Orlando \n",
      "\n",
      "Verbete:  2687\n",
      "title: LACERDA, Jorge\n",
      "\n",
      "Verbete:  3429\n",
      "title: MELO, Geraldo Medeiros de\n",
      "\n",
      "Verbete:  2839\n",
      "title: LIMA, Alceu Amoroso\n",
      "\n",
      "Verbete:  2088\n",
      "title: FONTES, Tomás\n",
      "\n",
      "Verbete:  11055\n",
      "title: FROSSARD, Denise\n",
      "\n",
      "Verbete:  11650\n",
      "title: MURAD, Jamil\n",
      "\n",
      "Verbete:  12159\n",
      "title: SÁ, Liliam\n",
      "\n",
      "Verbete:  4940\n",
      "title: SEIXAS, Luís Siqueira\n",
      "\n"
     ]
    }
   ],
   "source": [
    "for a in arquivos[:10]:\n",
    "    with open (a, 'r') as f:\n",
    "        verbete = f.readlines()\n",
    "    print('Verbete: ', a.split('.text')[0].split('/')[-1])\n",
    "    print(verbete[1])"
   ]
  },
  {
   "cell_type": "code",
   "execution_count": 14,
   "metadata": {},
   "outputs": [
    {
     "data": {
      "text/plain": [
       "'../dhbb/text/10978.text'"
      ]
     },
     "execution_count": 14,
     "metadata": {},
     "output_type": "execute_result"
    }
   ],
   "source": [
    "arquivos[1]"
   ]
  },
  {
   "cell_type": "markdown",
   "metadata": {},
   "source": [
    "Acima utilizamos uma estrutura de repetição, denominada \"laço for\" para abrir sequencialmente os arquivos. É importante notar que a cada volta do laço, o arquivo texo é atribuído à mesma variável, o que significa que nunca há mais do que apenas um verbete na memória. Desta forma poderíamos potencialmente analisar todos os milhares de verbetes ocupando apenas uma quantidade pequena e constante de memória. Outro detalhe do código acima é que, para facilitar a extração do título do verbete, Fizemos a leitura do arquivo com o método `readlines` que retorna o verbete já divido em uma lista de linhas ao invés de uma `string`."
   ]
  },
  {
   "cell_type": "markdown",
   "metadata": {},
   "source": [
    "## Outros recursos do DHBB\n",
    "O arquivo do DHBB disponível no Github oferece outros recursos textuais para nos auxiliar em nossa pesquisa, como por exemplos dicionários com identificadores de \"Entidades\" presentes nos verbetes, como pessoas, organizações, eventos, etc."
   ]
  },
  {
   "cell_type": "code",
   "execution_count": 26,
   "metadata": {},
   "outputs": [
    {
     "data": {
      "text/plain": [
       "['Aarão Rebelo\\n',\n",
       " 'Aarão Steinbruch\\n',\n",
       " 'Abalcazar Garcia\\n',\n",
       " 'Abdias Do Nascimento\\n',\n",
       " 'Abdon Goncalves Nanhay\\n',\n",
       " 'Abdon Gonçalves\\n',\n",
       " 'Abdon Sena\\n',\n",
       " 'Abdon de Mello\\n',\n",
       " 'Abdur R. Khan\\n',\n",
       " 'Abel Avila dos Santos\\n']"
      ]
     },
     "execution_count": 26,
     "metadata": {},
     "output_type": "execute_result"
    }
   ],
   "source": [
    "with  open(\"../dhbb/dic/pessoa-individuo.txt\", 'r') as f:\n",
    "    pessoas = f.readlines()\n",
    "pessoas[:10]"
   ]
  },
  {
   "cell_type": "code",
   "execution_count": 28,
   "metadata": {},
   "outputs": [
    {
     "data": {
      "text/plain": [
       "['Advogado\\n',\n",
       " 'Advogado Geral da União\\n',\n",
       " 'Agente de investimento\\n',\n",
       " 'Agente de segurança judiciária\\n',\n",
       " 'Alfaiate\\n',\n",
       " 'Analista administrativo\\n',\n",
       " 'Analista de comércio exterior\\n',\n",
       " 'Antiquário\\n',\n",
       " 'Arcebispo\\n',\n",
       " 'Armador\\n']"
      ]
     },
     "execution_count": 28,
     "metadata": {},
     "output_type": "execute_result"
    }
   ],
   "source": [
    "with  open(\"../dhbb/dic/pessoa-papel.txt\", 'r') as f:\n",
    "    profissão = f.readlines()\n",
    "profissão[:10]"
   ]
  },
  {
   "cell_type": "code",
   "execution_count": 29,
   "metadata": {},
   "outputs": [
    {
     "data": {
      "text/plain": [
       "['A Rusga\\n',\n",
       " 'ATENTADO DA TONELEIROS\\n',\n",
       " 'ATENTADO DO RIOCENTRO\\n',\n",
       " 'Aclamação de Amador Bueno\\n',\n",
       " 'Balaiada\\n',\n",
       " 'Batalha da Maria Antônia\\n',\n",
       " 'Batalha da Venda Grande\\n',\n",
       " 'Batalha das Toninhas\\n',\n",
       " 'Batalha de Santa Luzia\\n',\n",
       " 'COMÍCIO DAS REFORMAS\\n']"
      ]
     },
     "execution_count": 29,
     "metadata": {},
     "output_type": "execute_result"
    }
   ],
   "source": [
    "with  open(\"../dhbb/dic/evento.txt\", 'r') as f:\n",
    "    evento = f.readlines()\n",
    "evento[:10]"
   ]
  },
  {
   "cell_type": "code",
   "execution_count": 30,
   "metadata": {},
   "outputs": [
    {
     "data": {
      "text/plain": [
       "['Abrigo Lar dos Velhos Vicentini\\n',\n",
       " 'Academia Alagoana de Letras\\n',\n",
       " 'Academia Brasileira de Ciências\\n',\n",
       " 'Academia Brasileira de Ciências Econômicas e Administrativas\\n',\n",
       " 'Academia Brasileira de Ciências Sociais e Políticas\\n',\n",
       " 'Academia Brasileira de Direito Empresarial\\n',\n",
       " 'Academia Brasileira de Letras\\n',\n",
       " 'Academia Brasileira de Música\\n',\n",
       " 'Academia Brasiliense de Letras\\n',\n",
       " 'Academia Cultural de Curitiba\\n']"
      ]
     },
     "execution_count": 30,
     "metadata": {},
     "output_type": "execute_result"
    }
   ],
   "source": [
    "with  open(\"../dhbb/dic/organizacao.txt\", 'r') as f:\n",
    "    organização = f.readlines()\n",
    "organização[:10]"
   ]
  },
  {
   "cell_type": "code",
   "execution_count": 32,
   "metadata": {},
   "outputs": [
    {
     "data": {
      "text/plain": [
       "['anteprojeto Constitucional\\n',\n",
       " 'anteprojeto da Carta Magna\\n',\n",
       " 'anteprojeto da Comissão Provisória\\n',\n",
       " 'anteprojeto da Comissão Provisória de Estudos Constitucionais\\n',\n",
       " 'anteprojeto da Comissão de Sistematização\\n',\n",
       " 'anteprojeto da Consolidação das Leis do Trabalho\\n',\n",
       " 'anteprojeto da Constituição\\n',\n",
       " 'anteprojeto da Lei Orgânica da Magistratura\\n',\n",
       " 'anteprojeto da Lei de Acidentes no Trabalho\\n',\n",
       " 'anteprojeto da Lei de Direitos Autorais\\n']"
      ]
     },
     "execution_count": 32,
     "metadata": {},
     "output_type": "execute_result"
    }
   ],
   "source": [
    "with  open(\"../dhbb/dic/formulacao-politica.txt\", 'r') as f:\n",
    "    politica = f.readlines()\n",
    "politica[:10]"
   ]
  },
  {
   "cell_type": "markdown",
   "metadata": {},
   "source": [
    "# Extraindo Informação Estruturada\n",
    "Agora que sabemos como abrir arquivos de texto e ler o seu conteúdo, podemos experimentar a extração de imformações específicas dos verbetes e organizá-la em uma tabela. Para isso vamos lançar mão de uma biblioteca chamada **Pandas** para organizar em uma estrutura tabular, chamada `DataFrame` os dados que vamos extrair."
   ]
  },
  {
   "cell_type": "code",
   "execution_count": 15,
   "metadata": {},
   "outputs": [],
   "source": [
    "import pandas as pd\n",
    "pd.set_option(\"display.latex.repr\", True)"
   ]
  },
  {
   "cell_type": "markdown",
   "metadata": {},
   "source": [
    "Nós vimos acima que os verbetes contém uma seção inicial delimitada pelos caracteres `---` vamos utilizar esta característica do texto para guiar nossa extração de informação. Como você pode perceber, já começamos a reutilizar código que escrevemos anteriormente. Para facilitar o reuso e reduzir a necessidade de escrever múltiplas vezes o mesmo código vamos aprender a organizá-lo melhor. Vamos começar definindo uma função."
   ]
  },
  {
   "cell_type": "code",
   "execution_count": 16,
   "metadata": {},
   "outputs": [],
   "source": [
    "def tabula_verbete(n=None):\n",
    "    \"\"\"\n",
    "    Carrega todos os verbetes disponíveis, ou os primeiros n.\n",
    "    n:  número de verbetes a tabular\n",
    "    \"\"\"\n",
    "    if n is None:\n",
    "        n = len(arquivos)\n",
    "    linhas = []\n",
    "    for a in arquivos[:n]:\n",
    "        with open (a, 'r') as f:\n",
    "            verbete = f.read()\n",
    "        cabeçalho = verbete.split('---')[1]\n",
    "        campos = {l.split(':')[0].strip() :l.split(':')[1].strip() for l in cabeçalho.split('\\n')[:4] if l}\n",
    "        campos['arquivo'] = os.path.split(a)[1]\n",
    "#         campos['cargos'] = cabeçalho.split('cargos:')[1]\n",
    "#         campos['corpo'] = verbete.split('---')[2]\n",
    "        linhas.append(campos)\n",
    "    tabela = pd.DataFrame(data = linhas, columns=['arquivo','title', 'natureza', 'sexo'])\n",
    "    return tabela"
   ]
  },
  {
   "cell_type": "markdown",
   "metadata": {},
   "source": [
    "A função acima inclui a maior parte do código que escrevemos anteriormente, só que encapsulado em uma função que nos permite executar a extração e tabulação do cabeçalho para o numero de verbetes que desejarmos. Podemos ver abaixo que na verdade é muito rápido processar todos os verbetes."
   ]
  },
  {
   "cell_type": "code",
   "execution_count": 17,
   "metadata": {},
   "outputs": [
    {
     "name": "stdout",
     "output_type": "stream",
     "text": [
      "Help on function tabula_verbete in module __main__:\n",
      "\n",
      "tabula_verbete(n=None)\n",
      "    Carrega todos os verbetes disponíveis, ou os primeiros n.\n",
      "    n:  número de verbetes a tabular\n",
      "\n"
     ]
    }
   ],
   "source": [
    "help(tabula_verbete)"
   ]
  },
  {
   "cell_type": "code",
   "execution_count": 18,
   "metadata": {},
   "outputs": [
    {
     "data": {
      "text/html": [
       "<div>\n",
       "<style scoped>\n",
       "    .dataframe tbody tr th:only-of-type {\n",
       "        vertical-align: middle;\n",
       "    }\n",
       "\n",
       "    .dataframe tbody tr th {\n",
       "        vertical-align: top;\n",
       "    }\n",
       "\n",
       "    .dataframe thead th {\n",
       "        text-align: right;\n",
       "    }\n",
       "</style>\n",
       "<table border=\"1\" class=\"dataframe\">\n",
       "  <thead>\n",
       "    <tr style=\"text-align: right;\">\n",
       "      <th></th>\n",
       "      <th>arquivo</th>\n",
       "      <th>title</th>\n",
       "      <th>natureza</th>\n",
       "      <th>sexo</th>\n",
       "    </tr>\n",
       "  </thead>\n",
       "  <tbody>\n",
       "    <tr>\n",
       "      <td>0</td>\n",
       "      <td>1956.text</td>\n",
       "      <td>FERRAZ, Gabriel Lopes</td>\n",
       "      <td>biográfico</td>\n",
       "      <td>m</td>\n",
       "    </tr>\n",
       "    <tr>\n",
       "      <td>1</td>\n",
       "      <td>10978.text</td>\n",
       "      <td>DESCONSI, Orlando</td>\n",
       "      <td>biográfico</td>\n",
       "      <td>m</td>\n",
       "    </tr>\n",
       "    <tr>\n",
       "      <td>2</td>\n",
       "      <td>2687.text</td>\n",
       "      <td>LACERDA, Jorge</td>\n",
       "      <td>biográfico</td>\n",
       "      <td>m</td>\n",
       "    </tr>\n",
       "    <tr>\n",
       "      <td>3</td>\n",
       "      <td>3429.text</td>\n",
       "      <td>MELO, Geraldo Medeiros de</td>\n",
       "      <td>biográfico</td>\n",
       "      <td>m</td>\n",
       "    </tr>\n",
       "    <tr>\n",
       "      <td>4</td>\n",
       "      <td>2839.text</td>\n",
       "      <td>LIMA, Alceu Amoroso</td>\n",
       "      <td>biográfico</td>\n",
       "      <td>m</td>\n",
       "    </tr>\n",
       "  </tbody>\n",
       "</table>\n",
       "</div>"
      ],
      "text/latex": [
       "\\begin{tabular}{lllll}\n",
       "\\toprule\n",
       "{} &     arquivo &                      title &    natureza & sexo \\\\\n",
       "\\midrule\n",
       "0 &   1956.text &      FERRAZ, Gabriel Lopes &  biográfico &    m \\\\\n",
       "1 &  10978.text &          DESCONSI, Orlando &  biográfico &    m \\\\\n",
       "2 &   2687.text &             LACERDA, Jorge &  biográfico &    m \\\\\n",
       "3 &   3429.text &  MELO, Geraldo Medeiros de &  biográfico &    m \\\\\n",
       "4 &   2839.text &        LIMA, Alceu Amoroso &  biográfico &    m \\\\\n",
       "\\bottomrule\n",
       "\\end{tabular}\n"
      ],
      "text/plain": [
       "      arquivo                      title    natureza sexo\n",
       "0   1956.text      FERRAZ, Gabriel Lopes  biográfico    m\n",
       "1  10978.text          DESCONSI, Orlando  biográfico    m\n",
       "2   2687.text             LACERDA, Jorge  biográfico    m\n",
       "3   3429.text  MELO, Geraldo Medeiros de  biográfico    m\n",
       "4   2839.text        LIMA, Alceu Amoroso  biográfico    m"
      ]
     },
     "execution_count": 18,
     "metadata": {},
     "output_type": "execute_result"
    }
   ],
   "source": [
    "tab = tabula_verbete()\n",
    "tab.head()"
   ]
  },
  {
   "cell_type": "markdown",
   "metadata": {},
   "source": [
    "Podemos visualizar uma descrição básica da tabela resultante"
   ]
  },
  {
   "cell_type": "code",
   "execution_count": 19,
   "metadata": {
    "scrolled": true
   },
   "outputs": [
    {
     "data": {
      "text/html": [
       "<div>\n",
       "<style scoped>\n",
       "    .dataframe tbody tr th:only-of-type {\n",
       "        vertical-align: middle;\n",
       "    }\n",
       "\n",
       "    .dataframe tbody tr th {\n",
       "        vertical-align: top;\n",
       "    }\n",
       "\n",
       "    .dataframe thead th {\n",
       "        text-align: right;\n",
       "    }\n",
       "</style>\n",
       "<table border=\"1\" class=\"dataframe\">\n",
       "  <thead>\n",
       "    <tr style=\"text-align: right;\">\n",
       "      <th></th>\n",
       "      <th>arquivo</th>\n",
       "      <th>title</th>\n",
       "      <th>natureza</th>\n",
       "      <th>sexo</th>\n",
       "    </tr>\n",
       "  </thead>\n",
       "  <tbody>\n",
       "    <tr>\n",
       "      <td>count</td>\n",
       "      <td>7687</td>\n",
       "      <td>7687</td>\n",
       "      <td>7687</td>\n",
       "      <td>6722</td>\n",
       "    </tr>\n",
       "    <tr>\n",
       "      <td>unique</td>\n",
       "      <td>7687</td>\n",
       "      <td>7596</td>\n",
       "      <td>2</td>\n",
       "      <td>2</td>\n",
       "    </tr>\n",
       "    <tr>\n",
       "      <td>top</td>\n",
       "      <td>1638.text</td>\n",
       "      <td>ALBUQUERQUE, Carlos</td>\n",
       "      <td>biográfico</td>\n",
       "      <td>m</td>\n",
       "    </tr>\n",
       "    <tr>\n",
       "      <td>freq</td>\n",
       "      <td>1</td>\n",
       "      <td>3</td>\n",
       "      <td>6724</td>\n",
       "      <td>6517</td>\n",
       "    </tr>\n",
       "  </tbody>\n",
       "</table>\n",
       "</div>"
      ],
      "text/latex": [
       "\\begin{tabular}{lllll}\n",
       "\\toprule\n",
       "{} &    arquivo &                title &    natureza &  sexo \\\\\n",
       "\\midrule\n",
       "count  &       7687 &                 7687 &        7687 &  6722 \\\\\n",
       "unique &       7687 &                 7596 &           2 &     2 \\\\\n",
       "top    &  1638.text &  ALBUQUERQUE, Carlos &  biográfico &     m \\\\\n",
       "freq   &          1 &                    3 &        6724 &  6517 \\\\\n",
       "\\bottomrule\n",
       "\\end{tabular}\n"
      ],
      "text/plain": [
       "          arquivo                title    natureza  sexo\n",
       "count        7687                 7687        7687  6722\n",
       "unique       7687                 7596           2     2\n",
       "top     1638.text  ALBUQUERQUE, Carlos  biográfico     m\n",
       "freq            1                    3        6724  6517"
      ]
     },
     "execution_count": 19,
     "metadata": {},
     "output_type": "execute_result"
    }
   ],
   "source": [
    "tab.describe()"
   ]
  },
  {
   "cell_type": "markdown",
   "metadata": {},
   "source": [
    "Por exemplo fica fácil ver que no DHBB predominam biografias de personagens do sexo masculino."
   ]
  },
  {
   "cell_type": "code",
   "execution_count": 20,
   "metadata": {},
   "outputs": [
    {
     "name": "stdout",
     "output_type": "stream",
     "text": [
      "m    6517\n",
      "f     205\n",
      "Name: sexo, dtype: int64\n"
     ]
    }
   ],
   "source": [
    "print(tab.sexo.value_counts())"
   ]
  },
  {
   "cell_type": "markdown",
   "metadata": {},
   "source": [
    "Percebemos também que a natureza predominante dos verbetes é biográfica e que só existem duas naturezas, mas qua a outra?"
   ]
  },
  {
   "cell_type": "code",
   "execution_count": 21,
   "metadata": {},
   "outputs": [
    {
     "name": "stdout",
     "output_type": "stream",
     "text": [
      "biográfico    6724\n",
      "temático       963\n",
      "Name: natureza, dtype: int64\n"
     ]
    }
   ],
   "source": [
    "print(tab.natureza.value_counts())"
   ]
  },
  {
   "cell_type": "markdown",
   "metadata": {},
   "source": [
    "# Exportando para Bancos de Dados\n",
    "Depois de realizarmos a nossa análise e tabular os resultados, podemos exportar a tabela em vários formatos. Em primeiro lugar, caso queiramos abri nossa trabalho em uma planilha, devemos salvar no formato CSV, ou \"comma-separated-values\". Este formato pode ser aberto imediatamente em uma planilha."
   ]
  },
  {
   "cell_type": "code",
   "execution_count": 22,
   "metadata": {},
   "outputs": [],
   "source": [
    "tab.to_csv(\"minha_tabela.csv\", sep='|')"
   ]
  },
  {
   "cell_type": "markdown",
   "metadata": {},
   "source": [
    "Acima usamos o caracter \"|\" como separador para evitar confusões com as virgulas existentes no texto.\n",
    "## Exportando para um banco de dados relacional\n",
    "Para exportar para um banco relacional, precisamos de uma biblioteca adicional, o [SQLAlchemy](https://www.sqlalchemy.org/). Estabiblioteca nos permite interagir com a maioria dos banco relacionais. Aqui vamos usar o banco [SQLite](https://www.sqlite.org/index.html)."
   ]
  },
  {
   "cell_type": "code",
   "execution_count": 32,
   "metadata": {},
   "outputs": [],
   "source": [
    "from sqlalchemy import create_engine"
   ]
  },
  {
   "cell_type": "code",
   "execution_count": 34,
   "metadata": {},
   "outputs": [],
   "source": [
    "engine = create_engine('sqlite:///minha_tabela.sqlite', echo=False)\n",
    "tab.to_sql('resultados', con=engine, if_exists='append')"
   ]
  },
  {
   "cell_type": "markdown",
   "metadata": {},
   "source": [
    "Uma vez inserido no banco relacional, podemos fazer consultas aos dados usando a linguagem SQL. Abaixo obtemos o resultado da consulta em uma lista."
   ]
  },
  {
   "cell_type": "code",
   "execution_count": 39,
   "metadata": {},
   "outputs": [
    {
     "data": {
      "text/plain": [
       "[(354, '10989.text', 'Destacamento de Operações e Informações – Centro de Operações e Defesa Interna (DOI-CODI)', 'temático', None),\n",
       " (1027, '11595.text', 'Agência Brasileira de Inteligência (Abin)', 'temático', None),\n",
       " (1028, '11596.text', 'Associação Brasileira de Emissoras de Rádio e Televisão (ABERT)', 'temático', None),\n",
       " (1029, '11597.text', 'Associação Nacional de Jornais (ANJ)', 'temático', None),\n",
       " (1030, '11598.text', 'Associação Nacional dos Membros do Ministério Público (CONAMP)', 'temático', None),\n",
       " (1031, '11599.text', 'CAROS AMIGOS', 'temático', None),\n",
       " (1034, '11600.text', 'CARTA CAPITAL', 'temático', None),\n",
       " (1035, '11601.text', 'Central dos Trabalhadores e das Trabalhadoras do Brasil (CTB)', 'temático', None),\n",
       " (1036, '11602.text', 'Central Geral dos Trabalhadores do Brasil (CGTB)', 'temático', None),\n",
       " (1037, '11603.text', 'Conselho de Comunicação Social (CCS)', 'temático', None)]"
      ]
     },
     "execution_count": 39,
     "metadata": {},
     "output_type": "execute_result"
    }
   ],
   "source": [
    "engine.execute(\"select * from resultados where natureza='temático'\").fetchall()[:10]"
   ]
  },
  {
   "cell_type": "markdown",
   "metadata": {},
   "source": [
    "Se quisermos os resultado na forma de um `Dataframe`, podemos usar o **Pandas**."
   ]
  },
  {
   "cell_type": "code",
   "execution_count": 40,
   "metadata": {},
   "outputs": [
    {
     "data": {
      "text/html": [
       "<div>\n",
       "<style scoped>\n",
       "    .dataframe tbody tr th:only-of-type {\n",
       "        vertical-align: middle;\n",
       "    }\n",
       "\n",
       "    .dataframe tbody tr th {\n",
       "        vertical-align: top;\n",
       "    }\n",
       "\n",
       "    .dataframe thead th {\n",
       "        text-align: right;\n",
       "    }\n",
       "</style>\n",
       "<table border=\"1\" class=\"dataframe\">\n",
       "  <thead>\n",
       "    <tr style=\"text-align: right;\">\n",
       "      <th></th>\n",
       "      <th>index</th>\n",
       "      <th>arquivo</th>\n",
       "      <th>title</th>\n",
       "      <th>natureza</th>\n",
       "      <th>sexo</th>\n",
       "    </tr>\n",
       "  </thead>\n",
       "  <tbody>\n",
       "    <tr>\n",
       "      <th>0</th>\n",
       "      <td>354</td>\n",
       "      <td>10989.text</td>\n",
       "      <td>Destacamento de Operações e Informações – Cent...</td>\n",
       "      <td>temático</td>\n",
       "      <td>None</td>\n",
       "    </tr>\n",
       "    <tr>\n",
       "      <th>1</th>\n",
       "      <td>1027</td>\n",
       "      <td>11595.text</td>\n",
       "      <td>Agência Brasileira de Inteligência (Abin)</td>\n",
       "      <td>temático</td>\n",
       "      <td>None</td>\n",
       "    </tr>\n",
       "    <tr>\n",
       "      <th>2</th>\n",
       "      <td>1028</td>\n",
       "      <td>11596.text</td>\n",
       "      <td>Associação Brasileira de Emissoras de Rádio e ...</td>\n",
       "      <td>temático</td>\n",
       "      <td>None</td>\n",
       "    </tr>\n",
       "    <tr>\n",
       "      <th>3</th>\n",
       "      <td>1029</td>\n",
       "      <td>11597.text</td>\n",
       "      <td>Associação Nacional de Jornais (ANJ)</td>\n",
       "      <td>temático</td>\n",
       "      <td>None</td>\n",
       "    </tr>\n",
       "    <tr>\n",
       "      <th>4</th>\n",
       "      <td>1030</td>\n",
       "      <td>11598.text</td>\n",
       "      <td>Associação Nacional dos Membros do Ministério ...</td>\n",
       "      <td>temático</td>\n",
       "      <td>None</td>\n",
       "    </tr>\n",
       "  </tbody>\n",
       "</table>\n",
       "</div>"
      ],
      "text/latex": [
       "\\begin{tabular}{lrllll}\n",
       "\\toprule\n",
       "{} &  index &     arquivo &                                              title &  natureza &  sexo \\\\\n",
       "\\midrule\n",
       "0 &    354 &  10989.text &  Destacamento de Operações e Informações – Cent... &  temático &  None \\\\\n",
       "1 &   1027 &  11595.text &          Agência Brasileira de Inteligência (Abin) &  temático &  None \\\\\n",
       "2 &   1028 &  11596.text &  Associação Brasileira de Emissoras de Rádio e ... &  temático &  None \\\\\n",
       "3 &   1029 &  11597.text &               Associação Nacional de Jornais (ANJ) &  temático &  None \\\\\n",
       "4 &   1030 &  11598.text &  Associação Nacional dos Membros do Ministério ... &  temático &  None \\\\\n",
       "\\bottomrule\n",
       "\\end{tabular}\n"
      ],
      "text/plain": [
       "   index     arquivo                                              title  \\\n",
       "0    354  10989.text  Destacamento de Operações e Informações – Cent...   \n",
       "1   1027  11595.text          Agência Brasileira de Inteligência (Abin)   \n",
       "2   1028  11596.text  Associação Brasileira de Emissoras de Rádio e ...   \n",
       "3   1029  11597.text               Associação Nacional de Jornais (ANJ)   \n",
       "4   1030  11598.text  Associação Nacional dos Membros do Ministério ...   \n",
       "\n",
       "   natureza  sexo  \n",
       "0  temático  None  \n",
       "1  temático  None  \n",
       "2  temático  None  \n",
       "3  temático  None  \n",
       "4  temático  None  "
      ]
     },
     "execution_count": 40,
     "metadata": {},
     "output_type": "execute_result"
    }
   ],
   "source": [
    "pd.read_sql_query(\"select * from resultados where natureza='temático'\", con=engine).head()"
   ]
  },
  {
   "cell_type": "markdown",
   "metadata": {},
   "source": [
    "# Exercícios\n",
    "\n",
    "1. Construa uma função para buscar apenas verbetes de personagens que tenham ocupado o cargo de deputado federal. Tabule os resultados incluindo o número de mandatos.\n",
    "1. Construa uma função para buscar o primeiro verbete temático e apresente o seu conteúdo.\n",
    "1. Encontre todos os verbetes que contenham \"Academia Brasileira de Letras\". Que porcentagem destes correspondem a membros da dita academia?\n",
    "1. Construa uma linha do tempo que represente a cobertura histórica do DHBB."
   ]
  },
  {
   "cell_type": "code",
   "execution_count": null,
   "metadata": {},
   "outputs": [],
   "source": []
  }
 ],
 "metadata": {
  "kernelspec": {
   "display_name": "Python 3",
   "language": "python",
   "name": "python3"
  },
  "language_info": {
   "codemirror_mode": {
    "name": "ipython",
    "version": 3
   },
   "file_extension": ".py",
   "mimetype": "text/x-python",
   "name": "python",
   "nbconvert_exporter": "python",
   "pygments_lexer": "ipython3",
   "version": "3.6.8"
  },
  "latex_envs": {
   "LaTeX_envs_menu_present": true,
   "autoclose": false,
   "autocomplete": true,
   "bibliofile": "biblio.bib",
   "cite_by": "apalike",
   "current_citInitial": 1,
   "eqLabelWithNumbers": true,
   "eqNumInitial": 1,
   "hotkeys": {
    "equation": "Ctrl-E",
    "itemize": "Ctrl-I"
   },
   "labels_anchors": false,
   "latex_user_defs": false,
   "report_style_numbering": false,
   "user_envs_cfg": false
  },
  "latex_metadata": {
   "affiliation": "FGV-EMAp",
   "author": "Flávio Codeço Coelho",
   "bib": "notebook.bib",
   "title": "Interagindo com Arquivos de Texto"
  }
 },
 "nbformat": 4,
 "nbformat_minor": 4
}
