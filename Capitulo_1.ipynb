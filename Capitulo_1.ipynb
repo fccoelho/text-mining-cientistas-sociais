{
 "cells": [
  {
   "cell_type": "markdown",
   "metadata": {},
   "source": [
    "# Interagindo com Arquivos de Texto\n",
    "Neste curso de mineração de textos usaremos como material principal de trabalho, os verbetes do Dicionário Histórico e Biográfico do Brasil -- DHBB. Estes verbetes stão disponíveis para Download público.\n",
    "\n",
    "Neste capítulo vamos aprender a interagir com os verbetes no disco e extrair informações simples a partir dos mesmos.\n",
    "\n",
    "Vamos começar importando alguma bibliotecas que nos serão úteis nesta tarefa:"
   ]
  },
  {
   "cell_type": "code",
   "execution_count": 1,
   "metadata": {},
   "outputs": [],
   "source": [
    "import os\n",
    "import glob"
   ]
  },
  {
   "cell_type": "markdown",
   "metadata": {},
   "source": [
    "Assumindo que os dados do DHBB já foram baixados para um diretório local, podemos começar inspecionando o diretório e listando o seu conteúdo."
   ]
  },
  {
   "cell_type": "code",
   "execution_count": 18,
   "metadata": {},
   "outputs": [
    {
     "data": {
      "text/plain": [
       "7687"
      ]
     },
     "execution_count": 18,
     "metadata": {},
     "output_type": "execute_result"
    }
   ],
   "source": [
    "caminho = \"../../dhbb/text/*.text\"\n",
    "arquivos  = glob.glob(caminho)\n",
    "len(arquivos)"
   ]
  },
  {
   "cell_type": "markdown",
   "metadata": {},
   "source": [
    "Temos 7687 verbetes neste diretório. Vamos agora ver como abrir um destes verbetes e inspecionar o seu conteúdo:"
   ]
  },
  {
   "cell_type": "code",
   "execution_count": 20,
   "metadata": {},
   "outputs": [
    {
     "data": {
      "text/plain": [
       "'../../dhbb/text/1.text'"
      ]
     },
     "execution_count": 20,
     "metadata": {},
     "output_type": "execute_result"
    }
   ],
   "source": [
    "arquivos[0]"
   ]
  },
  {
   "cell_type": "code",
   "execution_count": 22,
   "metadata": {},
   "outputs": [
    {
     "name": "stdout",
     "output_type": "stream",
     "text": [
      "---\n",
      "title: COELHO, Machado\n",
      "natureza: biográfico\n",
      "sexo: m\n",
      "cargos:\n",
      " - dep. fed. DF 1927-1929 \n",
      " - dep. fed. DF 1930\n",
      " - const. 1946\n",
      " - dep. fed. SP 1946-1951\n",
      "---\n",
      "\n",
      "«José Machado Coelho de Castro» nasceu em Lorena (SP).\n",
      "\n",
      "Estudou no Ginásio Diocesano de São Paulo e bacharelou-se em 1910 pela\n",
      "Faculdade de Ciências Jurídicas e Sociais. Dedicando-se à advocacia, foi\n",
      "promotor público em Cunha (SP) e depois delegado de polícia no Rio de\n",
      "Janeiro, então Distrito Federal.\n",
      "\n",
      "Iniciou sua vida política como deputado federal pelo Distrito Federal,\n",
      "exercendo o mandato de 1927 a 1929. Reeleito para a legislatura iniciada\n",
      "em maio de 1930, ocupava sua cadeira na Câmara quando, em 3 de outubro,\n",
      "foi deflagrado o movimento revolucionário liderado por Getúlio Vargas.\n",
      "Ligado ao governo federal, encontrava-se ao lado do presidente\n",
      "Washington Luís, no palácio Guanabara, no momento de sua deposição no\n",
      "dia 24 de outubro. Junto com outros companheiros também solidários ao\n",
      "regime deposto e que se haviam asilado em embaixadas e legações, foi\n",
      "enviado em novembro para o estrangeiro. Em outubro de 1932, estava\n",
      "presente no porto de Alcântara, em Lisboa, para receber os\n",
      "revolucionários constitucionalistas exilados pelo governo de Getúlio\n",
      "Vargas após a derrota da revolução irrompida em julho desse ano em São\n",
      "Paulo.\n",
      "\n",
      "Com a redemocratização do país em 1945, candidatou-se pelo estado de São\n",
      "Paulo, na legenda do Partido Social Democrático (PSD), às eleições para\n",
      "a Assembléia Nacional Constituinte (ANC) realizadas em dezembro desse\n",
      "ano. Obteve uma suplência e, em julho de 1946, foi convocado para\n",
      "participar dos trabalhos constituintes. Com a promulgação da nova Carta\n",
      "(18/9/1946) e a transformação da Constituinte em Congresso ordinário,\n",
      "integrou a Comissão Permanente de Obras Públicas da Câmara Federal,\n",
      "tendo votado em janeiro de 1948 a favor da cassação dos mandatos dos\n",
      "parlamentares comunistas. Deixou a Câmara em janeiro de 1951.\n",
      "\n",
      "Foi ainda presidente da Companhia de Cimento Vale do Paraíba.\n",
      "\n",
      "Faleceu no Rio de Janeiro no dia 17 de maio de 1975.\n",
      "\n",
      "\n"
     ]
    }
   ],
   "source": [
    "with open(arquivos[0],'r') as f:\n",
    "    verbete = f.read()\n",
    "    print(verbete)"
   ]
  },
  {
   "cell_type": "markdown",
   "metadata": {},
   "source": [
    "A variável **verbete** que criamos na célula anterior é uma variável do tipo `string`, que é a otipo usado pelo Python para representar um bloco de texto. Podemos manipular o texto dentro de uma `string` de diversas maneiras:"
   ]
  },
  {
   "cell_type": "code",
   "execution_count": 26,
   "metadata": {},
   "outputs": [
    {
     "name": "stdout",
     "output_type": "stream",
     "text": [
      "\n",
      "title: COELHO, Machado\n",
      "natureza: biográfico\n",
      "sexo: m\n",
      "cargos:\n",
      " - dep. fed. DF 1927-1929 \n",
      " - dep. fed. DF 1930\n",
      " - const. 1946\n",
      " - dep. fed. SP 1946-1951\n",
      "\n"
     ]
    }
   ],
   "source": [
    "print(verbete.split('---')[1])"
   ]
  },
  {
   "cell_type": "markdown",
   "metadata": {},
   "source": [
    "Tipos de dados em Python, também conhecidos como  objetos, possuem métodos. O método `split` do tipo `string` segmenta uma string nas posicões em que ocorram uma sequência específica de caracteres, retornando um outro tipo de dado, denominado `lista`."
   ]
  },
  {
   "cell_type": "code",
   "execution_count": 27,
   "metadata": {},
   "outputs": [
    {
     "data": {
      "text/plain": [
       "list"
      ]
     },
     "execution_count": 27,
     "metadata": {},
     "output_type": "execute_result"
    }
   ],
   "source": [
    "type(verbete.split('---'))"
   ]
  },
  {
   "cell_type": "markdown",
   "metadata": {},
   "source": [
    "Listas são sequencias de objetos de quaisquer tipos que também apresenta seu conjunto de métodos. Para descobrir os métodos de qualquer objeto, basta colocar um ponto após o nome da variável e pressionar a tecla `<tab>`. Lista são delimitadas por colchetes: `[]` (lista vazia)."
   ]
  },
  {
   "cell_type": "code",
   "execution_count": 29,
   "metadata": {},
   "outputs": [
    {
     "data": {
      "text/plain": [
       "['',\n",
       " '\\ntitle: COELHO, Machado\\nnatureza: biográfico\\nsexo: m\\ncargos:\\n - dep. fed. DF 1927-1929 \\n - dep. fed. DF 1930\\n - const. 1946\\n - dep. fed. SP 1946-1951\\n',\n",
       " '\\n\\n«José Machado Coelho de Castro» nasceu em Lorena (SP).\\n\\nEstudou no Ginásio Diocesano de São Paulo e bacharelou-se em 1910 pela\\nFaculdade de Ciências Jurídicas e Sociais. Dedicando-se à advocacia, foi\\npromotor público em Cunha (SP) e depois delegado de polícia no Rio de\\nJaneiro, então Distrito Federal.\\n\\nIniciou sua vida política como deputado federal pelo Distrito Federal,\\nexercendo o mandato de 1927 a 1929. Reeleito para a legislatura iniciada\\nem maio de 1930, ocupava sua cadeira na Câmara quando, em 3 de outubro,\\nfoi deflagrado o movimento revolucionário liderado por Getúlio Vargas.\\nLigado ao governo federal, encontrava-se ao lado do presidente\\nWashington Luís, no palácio Guanabara, no momento de sua deposição no\\ndia 24 de outubro. Junto com outros companheiros também solidários ao\\nregime deposto e que se haviam asilado em embaixadas e legações, foi\\nenviado em novembro para o estrangeiro. Em outubro de 1932, estava\\npresente no porto de Alcântara, em Lisboa, para receber os\\nrevolucionários constitucionalistas exilados pelo governo de Getúlio\\nVargas após a derrota da revolução irrompida em julho desse ano em São\\nPaulo.\\n\\nCom a redemocratização do país em 1945, candidatou-se pelo estado de São\\nPaulo, na legenda do Partido Social Democrático (PSD), às eleições para\\na Assembléia Nacional Constituinte (ANC) realizadas em dezembro desse\\nano. Obteve uma suplência e, em julho de 1946, foi convocado para\\nparticipar dos trabalhos constituintes. Com a promulgação da nova Carta\\n(18/9/1946) e a transformação da Constituinte em Congresso ordinário,\\nintegrou a Comissão Permanente de Obras Públicas da Câmara Federal,\\ntendo votado em janeiro de 1948 a favor da cassação dos mandatos dos\\nparlamentares comunistas. Deixou a Câmara em janeiro de 1951.\\n\\nFoi ainda presidente da Companhia de Cimento Vale do Paraíba.\\n\\nFaleceu no Rio de Janeiro no dia 17 de maio de 1975.\\n\\n']"
      ]
     },
     "execution_count": 29,
     "metadata": {},
     "output_type": "execute_result"
    }
   ],
   "source": [
    "l = verbete.split('---')\n",
    "l"
   ]
  },
  {
   "cell_type": "markdown",
   "metadata": {},
   "source": [
    "Elementos de uma lista podem ser acessado por sua posição na sequência, por exemplo:"
   ]
  },
  {
   "cell_type": "code",
   "execution_count": 30,
   "metadata": {},
   "outputs": [
    {
     "name": "stdout",
     "output_type": "stream",
     "text": [
      "\n",
      "\n",
      "«José Machado Coelho de Castro» nasceu em Lorena (SP).\n",
      "\n",
      "Estudou no Ginásio Diocesano de São Paulo e bacharelou-se em 1910 pela\n",
      "Faculdade de Ciências Jurídicas e Sociais. Dedicando-se à advocacia, foi\n",
      "promotor público em Cunha (SP) e depois delegado de polícia no Rio de\n",
      "Janeiro, então Distrito Federal.\n",
      "\n",
      "Iniciou sua vida política como deputado federal pelo Distrito Federal,\n",
      "exercendo o mandato de 1927 a 1929. Reeleito para a legislatura iniciada\n",
      "em maio de 1930, ocupava sua cadeira na Câmara quando, em 3 de outubro,\n",
      "foi deflagrado o movimento revolucionário liderado por Getúlio Vargas.\n",
      "Ligado ao governo federal, encontrava-se ao lado do presidente\n",
      "Washington Luís, no palácio Guanabara, no momento de sua deposição no\n",
      "dia 24 de outubro. Junto com outros companheiros também solidários ao\n",
      "regime deposto e que se haviam asilado em embaixadas e legações, foi\n",
      "enviado em novembro para o estrangeiro. Em outubro de 1932, estava\n",
      "presente no porto de Alcântara, em Lisboa, para receber os\n",
      "revolucionários constitucionalistas exilados pelo governo de Getúlio\n",
      "Vargas após a derrota da revolução irrompida em julho desse ano em São\n",
      "Paulo.\n",
      "\n",
      "Com a redemocratização do país em 1945, candidatou-se pelo estado de São\n",
      "Paulo, na legenda do Partido Social Democrático (PSD), às eleições para\n",
      "a Assembléia Nacional Constituinte (ANC) realizadas em dezembro desse\n",
      "ano. Obteve uma suplência e, em julho de 1946, foi convocado para\n",
      "participar dos trabalhos constituintes. Com a promulgação da nova Carta\n",
      "(18/9/1946) e a transformação da Constituinte em Congresso ordinário,\n",
      "integrou a Comissão Permanente de Obras Públicas da Câmara Federal,\n",
      "tendo votado em janeiro de 1948 a favor da cassação dos mandatos dos\n",
      "parlamentares comunistas. Deixou a Câmara em janeiro de 1951.\n",
      "\n",
      "Foi ainda presidente da Companhia de Cimento Vale do Paraíba.\n",
      "\n",
      "Faleceu no Rio de Janeiro no dia 17 de maio de 1975.\n",
      "\n",
      "\n"
     ]
    }
   ],
   "source": [
    "print(l[2])"
   ]
  },
  {
   "cell_type": "markdown",
   "metadata": {},
   "source": [
    "## Abrindo um grande número de documentos texto\n",
    "Como vimos acima existem 7687 verbetes à nossa disposição no disco, mas não podemos abrir todos ao mesmo tempo pois, em primeiro lugar podem não caber na memória, em segundo lugar raramente precisaremos inpecioná-los todos ao mesmo tempo. O mais comum é analisá-los em sequência. Vamos inspecionar os primeiros 10:"
   ]
  },
  {
   "cell_type": "code",
   "execution_count": 35,
   "metadata": {},
   "outputs": [
    {
     "name": "stdout",
     "output_type": "stream",
     "text": [
      "Verbete:  1\n",
      "title: COELHO, Machado\n",
      "\n",
      "Verbete:  10\n",
      "title: ABÍLIO, Armando \n",
      "\n",
      "Verbete:  100\n",
      "title: ALEIXO, Pedro\n",
      "\n",
      "Verbete:  1000\n",
      "title: CAMPOS, Eduardo\n",
      "\n",
      "Verbete:  1001\n",
      "title: CAMPOS, Eleazar Soares\n",
      "\n",
      "Verbete:  1002\n",
      "title: CAMPOS, Epílogo de\n",
      "\n",
      "Verbete:  1003\n",
      "title: CAMPOS, França\n",
      "\n",
      "Verbete:  1004\n",
      "title: CAMPOS, Francisco Machado de\n",
      "\n",
      "Verbete:  1005\n",
      "title: CAMPOS, Francisco\n",
      "\n",
      "Verbete:  1006\n",
      "title: CAMPOS, Frederico\n",
      "\n"
     ]
    }
   ],
   "source": [
    "for a in arquivos[:10]:\n",
    "    with open (a, 'r') as f:\n",
    "        verbete = f.readlines()\n",
    "    print('Verbete: ', a.split('.text')[0].split('/')[-1])\n",
    "    print(verbete[1])"
   ]
  },
  {
   "cell_type": "code",
   "execution_count": 33,
   "metadata": {},
   "outputs": [
    {
     "data": {
      "text/plain": [
       "'../../dhbb/text/10.text'"
      ]
     },
     "execution_count": 33,
     "metadata": {},
     "output_type": "execute_result"
    }
   ],
   "source": [
    "arquivos[1]"
   ]
  },
  {
   "cell_type": "markdown",
   "metadata": {},
   "source": [
    "Acima utilizamos uma estrutura de repetição, denominada \"laço for\" para abrir sequencialmente os arquivos. É importante notar que a cada volta do laço, o arquivo texo é atribuído à mesma variável, o que significa que nunca há mais do que apenas um verbete na memória. Desta forma poderíamos potencialmente analisar todos os milhares de verbetes ocupando apenas uma quantidade pequena e constante de memória. Outro detalhe do código acima é que, para facilitar a extração do título do verbete, Fizemos a leitura do arquivo com o método `readlines` que retorna o verbete já divido em uma lista de linhas ao invés de uma `string`."
   ]
  },
  {
   "cell_type": "code",
   "execution_count": null,
   "metadata": {},
   "outputs": [],
   "source": []
  }
 ],
 "metadata": {
  "kernelspec": {
   "display_name": "Python 3",
   "language": "python",
   "name": "python3"
  },
  "language_info": {
   "codemirror_mode": {
    "name": "ipython",
    "version": 3
   },
   "file_extension": ".py",
   "mimetype": "text/x-python",
   "name": "python",
   "nbconvert_exporter": "python",
   "pygments_lexer": "ipython3",
   "version": "3.6.8"
  }
 },
 "nbformat": 4,
 "nbformat_minor": 4
}
