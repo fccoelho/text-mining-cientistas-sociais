{
 "cells": [
  {
   "cell_type": "markdown",
   "metadata": {},
   "source": [
    "# Abrindo Arquivos de Texto\n",
    "Neste curso de mineração de textos usaremos como material principal de trabalho, os verbetes do Dicionário Histórico e Biográfico do Brasil -- DHBB. Estes verbetes stão disponíveis para Download público.\n",
    "\n",
    "Neste capítulo vamos aprender a interagir com os verbetes no disco e extrair informações simples a partir dos mesmos.\n",
    "\n",
    "Vamos começar importando alguma bibliotecas que nos serão úteis nesta tarefa:"
   ]
  },
  {
   "cell_type": "code",
   "execution_count": 1,
   "metadata": {},
   "outputs": [],
   "source": [
    "import os\n",
    "import glob"
   ]
  },
  {
   "cell_type": "markdown",
   "metadata": {},
   "source": [
    "Assumindo que os dados do DHBB já foram baixados para um diretório local, podemos começar inspecionando o diretório e listando o seu conteúdo."
   ]
  },
  {
   "cell_type": "code",
   "execution_count": 4,
   "metadata": {},
   "outputs": [
    {
     "data": {
      "text/plain": [
       "7687"
      ]
     },
     "execution_count": 4,
     "metadata": {},
     "output_type": "execute_result"
    }
   ],
   "source": [
    "caminho = \"../dhbb/text/*.text\"\n",
    "arquivos  = glob.glob(caminho)\n",
    "len(arquivos)"
   ]
  },
  {
   "cell_type": "markdown",
   "metadata": {},
   "source": [
    "Temos 7687 verbetes neste diretório. Vamos agora ver como abrir um destes verbetes e inspecionar o seu conteúdo:"
   ]
  },
  {
   "cell_type": "code",
   "execution_count": 5,
   "metadata": {},
   "outputs": [
    {
     "data": {
      "text/plain": [
       "'../dhbb/text/1956.text'"
      ]
     },
     "execution_count": 5,
     "metadata": {},
     "output_type": "execute_result"
    }
   ],
   "source": [
    "arquivos[0]"
   ]
  },
  {
   "cell_type": "code",
   "execution_count": 6,
   "metadata": {},
   "outputs": [
    {
     "name": "stdout",
     "output_type": "stream",
     "text": [
      "---\n",
      "title: FERRAZ, Gabriel Lopes\n",
      "natureza: biográfico\n",
      "sexo: m\n",
      "cargos: \n",
      " - dep. fed. RJ 1960\n",
      "---\n",
      "\n",
      "«Gabriel Lopes Ferraz» nasceu no Rio de Janeiro, então Distrito Federal,\n",
      "no dia 20 de dezembro de 1907, filho de Álvaro Lopes Ferraz e de Maria\n",
      "Amélia dos Santos Ferraz.\n",
      "\n",
      "Médico, elegeu-se deputado estadual à Assembléia Legislativa do Estado\n",
      "do Rio de Janeiro na legenda do Partido Social Progressista (PSP) em\n",
      "outubro de 1954. Assumiu o mandato no início do ano seguinte,\n",
      "exercendo-o até janeiro de 1959. No pleito de outubro de 1958, disputou\n",
      "uma vaga, pelo PSP, na Câmara dos Deputados na bancada do Rio de\n",
      "Janeiro, mas obteve apenas uma suplência. Exerceu o mandato de julho a\n",
      "dezembro de 1960.\n",
      "\n",
      "Com a extinção dos partidos políticos pelo Ato Institucional nº 2\n",
      "(27/10/1965) e a posterior instauração do bipartidarismo, filiou-se à\n",
      "Aliança Renovadora Nacional (Arena), partido de apoio ao regime militar\n",
      "instaurado no país em março de 1964. Por esta legenda, candidatou-se a\n",
      "uma cadeira na Assembléia Legislativa do Rio de Janeiro no pleito de\n",
      "outubro de 1966, não sendo bem-sucedido.\n",
      "\n",
      "Em novembro de 1970, concorreu à prefeitura de Nilópolis, perdendo\n",
      "novamente. Contudo, no pleito de novembro de 1972 elegeu-se\n",
      "vice-prefeito de Nilópolis, sempre pela Arena. Desincompatibilizando-se\n",
      "do cargo executivo, candidatou-se a uma cadeira na Assembléia\n",
      "Legislativa, pela legenda da Arena, no pleito de novembro de 1974, não\n",
      "logrando êxito.\n",
      "\n",
      "\n",
      "\n"
     ]
    }
   ],
   "source": [
    "with open(arquivos[0],'r') as f:\n",
    "    verbete = f.read()\n",
    "    print(verbete)"
   ]
  },
  {
   "cell_type": "markdown",
   "metadata": {},
   "source": [
    "A variável **verbete** que criamos na célula anterior é uma variável do tipo `string`, que é a otipo usado pelo Python para representar um bloco de texto. Podemos manipular o texto dentro de uma `string` de diversas maneiras:"
   ]
  },
  {
   "cell_type": "code",
   "execution_count": 7,
   "metadata": {},
   "outputs": [
    {
     "name": "stdout",
     "output_type": "stream",
     "text": [
      "\n",
      "title: FERRAZ, Gabriel Lopes\n",
      "natureza: biográfico\n",
      "sexo: m\n",
      "cargos: \n",
      " - dep. fed. RJ 1960\n",
      "\n"
     ]
    }
   ],
   "source": [
    "print(verbete.split('---')[1])"
   ]
  },
  {
   "cell_type": "markdown",
   "metadata": {},
   "source": [
    "Tipos de dados em Python, também conhecidos como  objetos, possuem métodos. O método `split` do tipo `string` segmenta uma string nas posicões em que ocorram uma sequência específica de caracteres, retornando um outro tipo de dado, denominado `lista`."
   ]
  },
  {
   "cell_type": "code",
   "execution_count": 8,
   "metadata": {},
   "outputs": [
    {
     "data": {
      "text/plain": [
       "list"
      ]
     },
     "execution_count": 8,
     "metadata": {},
     "output_type": "execute_result"
    }
   ],
   "source": [
    "type(verbete.split('---'))"
   ]
  },
  {
   "cell_type": "markdown",
   "metadata": {},
   "source": [
    "Listas são sequencias de objetos de quaisquer tipos que também apresenta seu conjunto de métodos. Para descobrir os métodos de qualquer objeto, basta colocar um ponto após o nome da variável e pressionar a tecla `<tab>`. Listas são delimitadas por colchetes: `[]` (lista vazia)."
   ]
  },
  {
   "cell_type": "code",
   "execution_count": 9,
   "metadata": {},
   "outputs": [
    {
     "data": {
      "text/plain": [
       "['',\n",
       " '\\ntitle: FERRAZ, Gabriel Lopes\\nnatureza: biográfico\\nsexo: m\\ncargos: \\n - dep. fed. RJ 1960\\n',\n",
       " '\\n\\n«Gabriel Lopes Ferraz» nasceu no Rio de Janeiro, então Distrito Federal,\\nno dia 20 de dezembro de 1907, filho de Álvaro Lopes Ferraz e de Maria\\nAmélia dos Santos Ferraz.\\n\\nMédico, elegeu-se deputado estadual à Assembléia Legislativa do Estado\\ndo Rio de Janeiro na legenda do Partido Social Progressista (PSP) em\\noutubro de 1954. Assumiu o mandato no início do ano seguinte,\\nexercendo-o até janeiro de 1959. No pleito de outubro de 1958, disputou\\numa vaga, pelo PSP, na Câmara dos Deputados na bancada do Rio de\\nJaneiro, mas obteve apenas uma suplência. Exerceu o mandato de julho a\\ndezembro de 1960.\\n\\nCom a extinção dos partidos políticos pelo Ato Institucional nº 2\\n(27/10/1965) e a posterior instauração do bipartidarismo, filiou-se à\\nAliança Renovadora Nacional (Arena), partido de apoio ao regime militar\\ninstaurado no país em março de 1964. Por esta legenda, candidatou-se a\\numa cadeira na Assembléia Legislativa do Rio de Janeiro no pleito de\\noutubro de 1966, não sendo bem-sucedido.\\n\\nEm novembro de 1970, concorreu à prefeitura de Nilópolis, perdendo\\nnovamente. Contudo, no pleito de novembro de 1972 elegeu-se\\nvice-prefeito de Nilópolis, sempre pela Arena. Desincompatibilizando-se\\ndo cargo executivo, candidatou-se a uma cadeira na Assembléia\\nLegislativa, pela legenda da Arena, no pleito de novembro de 1974, não\\nlogrando êxito.\\n\\n\\n']"
      ]
     },
     "execution_count": 9,
     "metadata": {},
     "output_type": "execute_result"
    }
   ],
   "source": [
    "l = verbete.split('---')\n",
    "l"
   ]
  },
  {
   "cell_type": "markdown",
   "metadata": {},
   "source": [
    "Note que nas strings acima existem várias ocorrências da sequencia de caracteres `'\\n'`. Esta sequência identifica quebra de linhas. Podemos então utilizá-la para dividir o cabeçalho do verbete em uma lista de linhas:"
   ]
  },
  {
   "cell_type": "code",
   "execution_count": 10,
   "metadata": {},
   "outputs": [
    {
     "data": {
      "text/plain": [
       "['',\n",
       " 'title: FERRAZ, Gabriel Lopes',\n",
       " 'natureza: biográfico',\n",
       " 'sexo: m',\n",
       " 'cargos: ',\n",
       " ' - dep. fed. RJ 1960',\n",
       " '']"
      ]
     },
     "execution_count": 10,
     "metadata": {},
     "output_type": "execute_result"
    }
   ],
   "source": [
    "cabeçalho = verbete.split('---')[1]\n",
    "cabeçalho.split('\\n')"
   ]
  },
  {
   "cell_type": "markdown",
   "metadata": {},
   "source": [
    "Elementos de uma lista podem ser acessado por sua posição na sequência, por exemplo:"
   ]
  },
  {
   "cell_type": "code",
   "execution_count": 11,
   "metadata": {},
   "outputs": [
    {
     "name": "stdout",
     "output_type": "stream",
     "text": [
      "\n",
      "\n",
      "«Gabriel Lopes Ferraz» nasceu no Rio de Janeiro, então Distrito Federal,\n",
      "no dia 20 de dezembro de 1907, filho de Álvaro Lopes Ferraz e de Maria\n",
      "Amélia dos Santos Ferraz.\n",
      "\n",
      "Médico, elegeu-se deputado estadual à Assembléia Legislativa do Estado\n",
      "do Rio de Janeiro na legenda do Partido Social Progressista (PSP) em\n",
      "outubro de 1954. Assumiu o mandato no início do ano seguinte,\n",
      "exercendo-o até janeiro de 1959. No pleito de outubro de 1958, disputou\n",
      "uma vaga, pelo PSP, na Câmara dos Deputados na bancada do Rio de\n",
      "Janeiro, mas obteve apenas uma suplência. Exerceu o mandato de julho a\n",
      "dezembro de 1960.\n",
      "\n",
      "Com a extinção dos partidos políticos pelo Ato Institucional nº 2\n",
      "(27/10/1965) e a posterior instauração do bipartidarismo, filiou-se à\n",
      "Aliança Renovadora Nacional (Arena), partido de apoio ao regime militar\n",
      "instaurado no país em março de 1964. Por esta legenda, candidatou-se a\n",
      "uma cadeira na Assembléia Legislativa do Rio de Janeiro no pleito de\n",
      "outubro de 1966, não sendo bem-sucedido.\n",
      "\n",
      "Em novembro de 1970, concorreu à prefeitura de Nilópolis, perdendo\n",
      "novamente. Contudo, no pleito de novembro de 1972 elegeu-se\n",
      "vice-prefeito de Nilópolis, sempre pela Arena. Desincompatibilizando-se\n",
      "do cargo executivo, candidatou-se a uma cadeira na Assembléia\n",
      "Legislativa, pela legenda da Arena, no pleito de novembro de 1974, não\n",
      "logrando êxito.\n",
      "\n",
      "\n",
      "\n"
     ]
    }
   ],
   "source": [
    "print(l[2])"
   ]
  },
  {
   "cell_type": "code",
   "execution_count": 12,
   "metadata": {},
   "outputs": [
    {
     "data": {
      "text/plain": [
       "{'title': 'FERRAZ, Gabriel Lopes', 'natureza': 'biográfico', 'sexo': 'm'}"
      ]
     },
     "execution_count": 12,
     "metadata": {},
     "output_type": "execute_result"
    }
   ],
   "source": [
    "campos = {l.split(':')[0].strip() :l.split(':')[1].strip() for l in cabeçalho.split('\\n')[:4] if l}\n",
    "campos"
   ]
  },
  {
   "cell_type": "markdown",
   "metadata": {},
   "source": [
    "Na célula acima contruímos um novo tipo de variável chamada *Dicionário*, é basicamente um conjunto de pares, delimitado por `{}`. Estes pares são chamados pares `chave: valor`."
   ]
  },
  {
   "cell_type": "markdown",
   "metadata": {},
   "source": [
    "## Abrindo um grande número de documentos texto\n",
    "Como vimos acima existem 7687 verbetes à nossa disposição no disco, mas não podemos abrir todos ao mesmo tempo pois, em primeiro lugar podem não caber na memória, em segundo lugar raramente precisaremos inpecioná-los todos ao mesmo tempo. O mais comum é analisá-los em sequência. Vamos inspecionar os primeiros 10:"
   ]
  },
  {
   "cell_type": "code",
   "execution_count": 13,
   "metadata": {},
   "outputs": [
    {
     "name": "stdout",
     "output_type": "stream",
     "text": [
      "Verbete:  1956\n",
      "title: FERRAZ, Gabriel Lopes\n",
      "\n",
      "Verbete:  10978\n",
      "title: DESCONSI, Orlando \n",
      "\n",
      "Verbete:  2687\n",
      "title: LACERDA, Jorge\n",
      "\n",
      "Verbete:  3429\n",
      "title: MELO, Geraldo Medeiros de\n",
      "\n",
      "Verbete:  2839\n",
      "title: LIMA, Alceu Amoroso\n",
      "\n",
      "Verbete:  2088\n",
      "title: FONTES, Tomás\n",
      "\n",
      "Verbete:  11055\n",
      "title: FROSSARD, Denise\n",
      "\n",
      "Verbete:  11650\n",
      "title: MURAD, Jamil\n",
      "\n",
      "Verbete:  12159\n",
      "title: SÁ, Liliam\n",
      "\n",
      "Verbete:  4940\n",
      "title: SEIXAS, Luís Siqueira\n",
      "\n"
     ]
    }
   ],
   "source": [
    "for a in arquivos[:10]:\n",
    "    with open (a, 'r') as f:\n",
    "        verbete = f.readlines()\n",
    "    print('Verbete: ', a.split('.text')[0].split('/')[-1])\n",
    "    print(verbete[1])"
   ]
  },
  {
   "cell_type": "code",
   "execution_count": 14,
   "metadata": {},
   "outputs": [
    {
     "data": {
      "text/plain": [
       "'../dhbb/text/10978.text'"
      ]
     },
     "execution_count": 14,
     "metadata": {},
     "output_type": "execute_result"
    }
   ],
   "source": [
    "arquivos[1]"
   ]
  },
  {
   "cell_type": "markdown",
   "metadata": {},
   "source": [
    "Acima utilizamos uma estrutura de repetição, denominada \"laço for\" para abrir sequencialmente os arquivos. É importante notar que a cada volta do laço, o arquivo texo é atribuído à mesma variável, o que significa que nunca há mais do que apenas um verbete na memória. Desta forma poderíamos potencialmente analisar todos os milhares de verbetes ocupando apenas uma quantidade pequena e constante de memória. Outro detalhe do código acima é que, para facilitar a extração do título do verbete, Fizemos a leitura do arquivo com o método `readlines` que retorna o verbete já divido em uma lista de linhas ao invés de uma `string`."
   ]
  },
  {
   "cell_type": "markdown",
   "metadata": {},
   "source": [
    "## Outros recursos do DHBB\n",
    "O arquivo do DHBB disponível no Github oferece outros recursos textuais para nos auxiliar em nossa pesquisa, como por exemplos dicionários com identificadores de \"Entidades\" presentes nos verbetes, como pessoas, organizações, eventos, etc."
   ]
  },
  {
   "cell_type": "code",
   "execution_count": 26,
   "metadata": {},
   "outputs": [
    {
     "data": {
      "text/plain": [
       "['Aarão Rebelo\\n',\n",
       " 'Aarão Steinbruch\\n',\n",
       " 'Abalcazar Garcia\\n',\n",
       " 'Abdias Do Nascimento\\n',\n",
       " 'Abdon Goncalves Nanhay\\n',\n",
       " 'Abdon Gonçalves\\n',\n",
       " 'Abdon Sena\\n',\n",
       " 'Abdon de Mello\\n',\n",
       " 'Abdur R. Khan\\n',\n",
       " 'Abel Avila dos Santos\\n']"
      ]
     },
     "execution_count": 26,
     "metadata": {},
     "output_type": "execute_result"
    }
   ],
   "source": [
    "with  open(\"../dhbb/dic/pessoa-individuo.txt\", 'r') as f:\n",
    "    pessoas = f.readlines()\n",
    "pessoas[:10]"
   ]
  },
  {
   "cell_type": "code",
   "execution_count": 28,
   "metadata": {},
   "outputs": [
    {
     "data": {
      "text/plain": [
       "['Advogado\\n',\n",
       " 'Advogado Geral da União\\n',\n",
       " 'Agente de investimento\\n',\n",
       " 'Agente de segurança judiciária\\n',\n",
       " 'Alfaiate\\n',\n",
       " 'Analista administrativo\\n',\n",
       " 'Analista de comércio exterior\\n',\n",
       " 'Antiquário\\n',\n",
       " 'Arcebispo\\n',\n",
       " 'Armador\\n']"
      ]
     },
     "execution_count": 28,
     "metadata": {},
     "output_type": "execute_result"
    }
   ],
   "source": [
    "with  open(\"../dhbb/dic/pessoa-papel.txt\", 'r') as f:\n",
    "    profissão = f.readlines()\n",
    "profissão[:10]"
   ]
  },
  {
   "cell_type": "code",
   "execution_count": 29,
   "metadata": {},
   "outputs": [
    {
     "data": {
      "text/plain": [
       "['A Rusga\\n',\n",
       " 'ATENTADO DA TONELEIROS\\n',\n",
       " 'ATENTADO DO RIOCENTRO\\n',\n",
       " 'Aclamação de Amador Bueno\\n',\n",
       " 'Balaiada\\n',\n",
       " 'Batalha da Maria Antônia\\n',\n",
       " 'Batalha da Venda Grande\\n',\n",
       " 'Batalha das Toninhas\\n',\n",
       " 'Batalha de Santa Luzia\\n',\n",
       " 'COMÍCIO DAS REFORMAS\\n']"
      ]
     },
     "execution_count": 29,
     "metadata": {},
     "output_type": "execute_result"
    }
   ],
   "source": [
    "with  open(\"../dhbb/dic/evento.txt\", 'r') as f:\n",
    "    evento = f.readlines()\n",
    "evento[:10]"
   ]
  },
  {
   "cell_type": "code",
   "execution_count": 30,
   "metadata": {},
   "outputs": [
    {
     "data": {
      "text/plain": [
       "['Abrigo Lar dos Velhos Vicentini\\n',\n",
       " 'Academia Alagoana de Letras\\n',\n",
       " 'Academia Brasileira de Ciências\\n',\n",
       " 'Academia Brasileira de Ciências Econômicas e Administrativas\\n',\n",
       " 'Academia Brasileira de Ciências Sociais e Políticas\\n',\n",
       " 'Academia Brasileira de Direito Empresarial\\n',\n",
       " 'Academia Brasileira de Letras\\n',\n",
       " 'Academia Brasileira de Música\\n',\n",
       " 'Academia Brasiliense de Letras\\n',\n",
       " 'Academia Cultural de Curitiba\\n']"
      ]
     },
     "execution_count": 30,
     "metadata": {},
     "output_type": "execute_result"
    }
   ],
   "source": [
    "with  open(\"../dhbb/dic/organizacao.txt\", 'r') as f:\n",
    "    organização = f.readlines()\n",
    "organização[:10]"
   ]
  },
  {
   "cell_type": "code",
   "execution_count": 32,
   "metadata": {},
   "outputs": [
    {
     "data": {
      "text/plain": [
       "['anteprojeto Constitucional\\n',\n",
       " 'anteprojeto da Carta Magna\\n',\n",
       " 'anteprojeto da Comissão Provisória\\n',\n",
       " 'anteprojeto da Comissão Provisória de Estudos Constitucionais\\n',\n",
       " 'anteprojeto da Comissão de Sistematização\\n',\n",
       " 'anteprojeto da Consolidação das Leis do Trabalho\\n',\n",
       " 'anteprojeto da Constituição\\n',\n",
       " 'anteprojeto da Lei Orgânica da Magistratura\\n',\n",
       " 'anteprojeto da Lei de Acidentes no Trabalho\\n',\n",
       " 'anteprojeto da Lei de Direitos Autorais\\n']"
      ]
     },
     "execution_count": 32,
     "metadata": {},
     "output_type": "execute_result"
    }
   ],
   "source": [
    "with  open(\"../dhbb/dic/formulacao-politica.txt\", 'r') as f:\n",
    "    politica = f.readlines()\n",
    "politica[:10]"
   ]
  },
  {
   "cell_type": "markdown",
   "metadata": {},
   "source": [
    "# Extraindo Informação Estruturada\n",
    "Agora que sabemos como abrir arquivos de texto e ler o seu conteúdo, podemos experimentar a extração de imformações específicas dos verbetes e organizá-la em uma tabela. Para isso vamos lançar mão de uma biblioteca chamada **Pandas** para organizar em uma estrutura tabular, chamada `DataFrame` os dados que vamos extrair."
   ]
  },
  {
   "cell_type": "code",
   "execution_count": 15,
   "metadata": {},
   "outputs": [],
   "source": [
    "import pandas as pd\n",
    "pd.set_option(\"display.latex.repr\", True)"
   ]
  },
  {
   "cell_type": "markdown",
   "metadata": {},
   "source": [
    "Nós vimos acima que os verbetes contém uma seção inicial delimitada pelos caracteres `---` vamos utilizar esta característica do texto para guiar nossa extração de informação. Como você pode perceber, já começamos a reutilizar código que escrevemos anteriormente. Para facilitar o reuso e reduzir a necessidade de escrever múltiplas vezes o mesmo código vamos aprender a organizá-lo melhor. Vamos começar definindo uma função."
   ]
  },
  {
   "cell_type": "code",
   "execution_count": 16,
   "metadata": {},
   "outputs": [],
   "source": [
    "def tabula_verbete(n=None):\n",
    "    \"\"\"\n",
    "    Carrega todos os verbetes disponíveis, ou os primeiros n.\n",
    "    n:  número de verbetes a tabular\n",
    "    \"\"\"\n",
    "    if n is None:\n",
    "        n = len(arquivos)\n",
    "    linhas = []\n",
    "    for a in arquivos[:n]:\n",
    "        with open (a, 'r') as f:\n",
    "            verbete = f.read()\n",
    "        cabeçalho = verbete.split('---')[1]\n",
    "        campos = {l.split(':')[0].strip() :l.split(':')[1].strip() for l in cabeçalho.split('\\n')[:4] if l}\n",
    "        campos['arquivo'] = os.path.split(a)[1]\n",
    "#         campos['cargos'] = cabeçalho.split('cargos:')[1]\n",
    "#         campos['corpo'] = verbete.split('---')[2]\n",
    "        linhas.append(campos)\n",
    "    tabela = pd.DataFrame(data = linhas, columns=['arquivo','title', 'natureza', 'sexo'])\n",
    "    return tabela"
   ]
  },
  {
   "cell_type": "markdown",
   "metadata": {},
   "source": [
    "A função acima inclui a maior parte do código que escrevemos anteriormente, só que encapsulado em uma função que nos permite executar a extração e tabulação do cabeçalho para o numero de verbetes que desejarmos. Podemos ver abaixo que na verdade é muito rápido processar todos os verbetes."
   ]
  },
  {
   "cell_type": "code",
   "execution_count": 17,
   "metadata": {},
   "outputs": [
    {
     "name": "stdout",
     "output_type": "stream",
     "text": [
      "Help on function tabula_verbete in module __main__:\n",
      "\n",
      "tabula_verbete(n=None)\n",
      "    Carrega todos os verbetes disponíveis, ou os primeiros n.\n",
      "    n:  número de verbetes a tabular\n",
      "\n"
     ]
    }
   ],
   "source": [
    "help(tabula_verbete)"
   ]
  },
  {
   "cell_type": "code",
   "execution_count": 18,
   "metadata": {},
   "outputs": [
    {
     "data": {
      "text/html": [
       "<div>\n",
       "<style scoped>\n",
       "    .dataframe tbody tr th:only-of-type {\n",
       "        vertical-align: middle;\n",
       "    }\n",
       "\n",
       "    .dataframe tbody tr th {\n",
       "        vertical-align: top;\n",
       "    }\n",
       "\n",
       "    .dataframe thead th {\n",
       "        text-align: right;\n",
       "    }\n",
       "</style>\n",
       "<table border=\"1\" class=\"dataframe\">\n",
       "  <thead>\n",
       "    <tr style=\"text-align: right;\">\n",
       "      <th></th>\n",
       "      <th>arquivo</th>\n",
       "      <th>title</th>\n",
       "      <th>natureza</th>\n",
       "      <th>sexo</th>\n",
       "    </tr>\n",
       "  </thead>\n",
       "  <tbody>\n",
       "    <tr>\n",
       "      <td>0</td>\n",
       "      <td>1956.text</td>\n",
       "      <td>FERRAZ, Gabriel Lopes</td>\n",
       "      <td>biográfico</td>\n",
       "      <td>m</td>\n",
       "    </tr>\n",
       "    <tr>\n",
       "      <td>1</td>\n",
       "      <td>10978.text</td>\n",
       "      <td>DESCONSI, Orlando</td>\n",
       "      <td>biográfico</td>\n",
       "      <td>m</td>\n",
       "    </tr>\n",
       "    <tr>\n",
       "      <td>2</td>\n",
       "      <td>2687.text</td>\n",
       "      <td>LACERDA, Jorge</td>\n",
       "      <td>biográfico</td>\n",
       "      <td>m</td>\n",
       "    </tr>\n",
       "    <tr>\n",
       "      <td>3</td>\n",
       "      <td>3429.text</td>\n",
       "      <td>MELO, Geraldo Medeiros de</td>\n",
       "      <td>biográfico</td>\n",
       "      <td>m</td>\n",
       "    </tr>\n",
       "    <tr>\n",
       "      <td>4</td>\n",
       "      <td>2839.text</td>\n",
       "      <td>LIMA, Alceu Amoroso</td>\n",
       "      <td>biográfico</td>\n",
       "      <td>m</td>\n",
       "    </tr>\n",
       "  </tbody>\n",
       "</table>\n",
       "</div>"
      ],
      "text/latex": [
       "\\begin{tabular}{lllll}\n",
       "\\toprule\n",
       "{} &     arquivo &                      title &    natureza & sexo \\\\\n",
       "\\midrule\n",
       "0 &   1956.text &      FERRAZ, Gabriel Lopes &  biográfico &    m \\\\\n",
       "1 &  10978.text &          DESCONSI, Orlando &  biográfico &    m \\\\\n",
       "2 &   2687.text &             LACERDA, Jorge &  biográfico &    m \\\\\n",
       "3 &   3429.text &  MELO, Geraldo Medeiros de &  biográfico &    m \\\\\n",
       "4 &   2839.text &        LIMA, Alceu Amoroso &  biográfico &    m \\\\\n",
       "\\bottomrule\n",
       "\\end{tabular}\n"
      ],
      "text/plain": [
       "      arquivo                      title    natureza sexo\n",
       "0   1956.text      FERRAZ, Gabriel Lopes  biográfico    m\n",
       "1  10978.text          DESCONSI, Orlando  biográfico    m\n",
       "2   2687.text             LACERDA, Jorge  biográfico    m\n",
       "3   3429.text  MELO, Geraldo Medeiros de  biográfico    m\n",
       "4   2839.text        LIMA, Alceu Amoroso  biográfico    m"
      ]
     },
     "execution_count": 18,
     "metadata": {},
     "output_type": "execute_result"
    }
   ],
   "source": [
    "tab = tabula_verbete()\n",
    "tab.head()"
   ]
  },
  {
   "cell_type": "markdown",
   "metadata": {},
   "source": [
    "Podemos visualizar uma descrição básica da tabela resultante"
   ]
  },
  {
   "cell_type": "code",
   "execution_count": 19,
   "metadata": {
    "scrolled": true
   },
   "outputs": [
    {
     "data": {
      "text/html": [
       "<div>\n",
       "<style scoped>\n",
       "    .dataframe tbody tr th:only-of-type {\n",
       "        vertical-align: middle;\n",
       "    }\n",
       "\n",
       "    .dataframe tbody tr th {\n",
       "        vertical-align: top;\n",
       "    }\n",
       "\n",
       "    .dataframe thead th {\n",
       "        text-align: right;\n",
       "    }\n",
       "</style>\n",
       "<table border=\"1\" class=\"dataframe\">\n",
       "  <thead>\n",
       "    <tr style=\"text-align: right;\">\n",
       "      <th></th>\n",
       "      <th>arquivo</th>\n",
       "      <th>title</th>\n",
       "      <th>natureza</th>\n",
       "      <th>sexo</th>\n",
       "    </tr>\n",
       "  </thead>\n",
       "  <tbody>\n",
       "    <tr>\n",
       "      <td>count</td>\n",
       "      <td>7687</td>\n",
       "      <td>7687</td>\n",
       "      <td>7687</td>\n",
       "      <td>6722</td>\n",
       "    </tr>\n",
       "    <tr>\n",
       "      <td>unique</td>\n",
       "      <td>7687</td>\n",
       "      <td>7596</td>\n",
       "      <td>2</td>\n",
       "      <td>2</td>\n",
       "    </tr>\n",
       "    <tr>\n",
       "      <td>top</td>\n",
       "      <td>1638.text</td>\n",
       "      <td>ALBUQUERQUE, Carlos</td>\n",
       "      <td>biográfico</td>\n",
       "      <td>m</td>\n",
       "    </tr>\n",
       "    <tr>\n",
       "      <td>freq</td>\n",
       "      <td>1</td>\n",
       "      <td>3</td>\n",
       "      <td>6724</td>\n",
       "      <td>6517</td>\n",
       "    </tr>\n",
       "  </tbody>\n",
       "</table>\n",
       "</div>"
      ],
      "text/latex": [
       "\\begin{tabular}{lllll}\n",
       "\\toprule\n",
       "{} &    arquivo &                title &    natureza &  sexo \\\\\n",
       "\\midrule\n",
       "count  &       7687 &                 7687 &        7687 &  6722 \\\\\n",
       "unique &       7687 &                 7596 &           2 &     2 \\\\\n",
       "top    &  1638.text &  ALBUQUERQUE, Carlos &  biográfico &     m \\\\\n",
       "freq   &          1 &                    3 &        6724 &  6517 \\\\\n",
       "\\bottomrule\n",
       "\\end{tabular}\n"
      ],
      "text/plain": [
       "          arquivo                title    natureza  sexo\n",
       "count        7687                 7687        7687  6722\n",
       "unique       7687                 7596           2     2\n",
       "top     1638.text  ALBUQUERQUE, Carlos  biográfico     m\n",
       "freq            1                    3        6724  6517"
      ]
     },
     "execution_count": 19,
     "metadata": {},
     "output_type": "execute_result"
    }
   ],
   "source": [
    "tab.describe()"
   ]
  },
  {
   "cell_type": "markdown",
   "metadata": {},
   "source": [
    "Por exemplo fica fácil ver que no DHBB predominam biografias de personagens do sexo masculino."
   ]
  },
  {
   "cell_type": "code",
   "execution_count": 20,
   "metadata": {},
   "outputs": [
    {
     "name": "stdout",
     "output_type": "stream",
     "text": [
      "m    6517\n",
      "f     205\n",
      "Name: sexo, dtype: int64\n"
     ]
    }
   ],
   "source": [
    "print(tab.sexo.value_counts())"
   ]
  },
  {
   "cell_type": "markdown",
   "metadata": {},
   "source": [
    "Percebemos também que a natureza predominante dos verbetes é biográfica e que só existem duas naturezas, mas qua a outra?"
   ]
  },
  {
   "cell_type": "code",
   "execution_count": 21,
   "metadata": {},
   "outputs": [
    {
     "name": "stdout",
     "output_type": "stream",
     "text": [
      "biográfico    6724\n",
      "temático       963\n",
      "Name: natureza, dtype: int64\n"
     ]
    }
   ],
   "source": [
    "print(tab.natureza.value_counts())"
   ]
  },
  {
   "cell_type": "markdown",
   "metadata": {},
   "source": [
    "# Exportando para Bancos de Dados\n",
    "Depois de realizarmos a nossa análise e tabular os resultados, podemos exportar a tabela em vários formatos. Em primeiro lugar, caso queiramos abri nossa trabalho em uma planilha, devemos salvar no formato CSV, ou \"comma-separated-values\". Este formato pode ser aberto imediatamente em uma planilha."
   ]
  },
  {
   "cell_type": "code",
   "execution_count": 22,
   "metadata": {},
   "outputs": [],
   "source": [
    "tab.to_csv(\"minha_tabela.csv\", sep='|')"
   ]
  },
  {
   "cell_type": "markdown",
   "metadata": {},
   "source": [
    "Acima usamos o caracter \"|\" como separador para evitar confusões com as virgulas existentes no texto.\n",
    "## Exportando para um banco de dados relacional\n",
    "Para exportar para um banco relacional, precisamos de uma biblioteca adicional, o [SQLAlchemy](https://www.sqlalchemy.org/). Estabiblioteca nos permite interagir com a maioria dos banco relacionais. Aqui vamos usar o banco [SQLite](https://www.sqlite.org/index.html)."
   ]
  },
  {
   "cell_type": "code",
   "execution_count": 32,
   "metadata": {},
   "outputs": [],
   "source": [
    "from sqlalchemy import create_engine"
   ]
  },
  {
   "cell_type": "code",
   "execution_count": 34,
   "metadata": {},
   "outputs": [],
   "source": [
    "engine = create_engine('sqlite:///minha_tabela.sqlite', echo=False)\n",
    "tab.to_sql('resultados', con=engine, if_exists='append')"
   ]
  },
  {
   "cell_type": "markdown",
   "metadata": {},
   "source": [
    "Uma vez inserido no banco relacional, podemos fazer consultas aos dados usando a linguagem SQL. Abaixo obtemos o resultado da consulta em uma lista."
   ]
  },
  {
   "cell_type": "code",
   "execution_count": 39,
   "metadata": {},
   "outputs": [
    {
     "data": {
      "text/plain": [
       "[(354, '10989.text', 'Destacamento de Operações e Informações – Centro de Operações e Defesa Interna (DOI-CODI)', 'temático', None),\n",
       " (1027, '11595.text', 'Agência Brasileira de Inteligência (Abin)', 'temático', None),\n",
       " (1028, '11596.text', 'Associação Brasileira de Emissoras de Rádio e Televisão (ABERT)', 'temático', None),\n",
       " (1029, '11597.text', 'Associação Nacional de Jornais (ANJ)', 'temático', None),\n",
       " (1030, '11598.text', 'Associação Nacional dos Membros do Ministério Público (CONAMP)', 'temático', None),\n",
       " (1031, '11599.text', 'CAROS AMIGOS', 'temático', None),\n",
       " (1034, '11600.text', 'CARTA CAPITAL', 'temático', None),\n",
       " (1035, '11601.text', 'Central dos Trabalhadores e das Trabalhadoras do Brasil (CTB)', 'temático', None),\n",
       " (1036, '11602.text', 'Central Geral dos Trabalhadores do Brasil (CGTB)', 'temático', None),\n",
       " (1037, '11603.text', 'Conselho de Comunicação Social (CCS)', 'temático', None)]"
      ]
     },
     "execution_count": 39,
     "metadata": {},
     "output_type": "execute_result"
    }
   ],
   "source": [
    "engine.execute(\"select * from resultados where natureza='temático'\").fetchall()[:10]"
   ]
  },
  {
   "cell_type": "markdown",
   "metadata": {},
   "source": [
    "Se quisermos os resultado na forma de um `Dataframe`, podemos usar o **Pandas**."
   ]
  },
  {
   "cell_type": "code",
   "execution_count": 40,
   "metadata": {},
   "outputs": [
    {
     "data": {
      "text/html": [
       "<div>\n",
       "<style scoped>\n",
       "    .dataframe tbody tr th:only-of-type {\n",
       "        vertical-align: middle;\n",
       "    }\n",
       "\n",
       "    .dataframe tbody tr th {\n",
       "        vertical-align: top;\n",
       "    }\n",
       "\n",
       "    .dataframe thead th {\n",
       "        text-align: right;\n",
       "    }\n",
       "</style>\n",
       "<table border=\"1\" class=\"dataframe\">\n",
       "  <thead>\n",
       "    <tr style=\"text-align: right;\">\n",
       "      <th></th>\n",
       "      <th>index</th>\n",
       "      <th>arquivo</th>\n",
       "      <th>title</th>\n",
       "      <th>natureza</th>\n",
       "      <th>sexo</th>\n",
       "    </tr>\n",
       "  </thead>\n",
       "  <tbody>\n",
       "    <tr>\n",
       "      <th>0</th>\n",
       "      <td>354</td>\n",
       "      <td>10989.text</td>\n",
       "      <td>Destacamento de Operações e Informações – Cent...</td>\n",
       "      <td>temático</td>\n",
       "      <td>None</td>\n",
       "    </tr>\n",
       "    <tr>\n",
       "      <th>1</th>\n",
       "      <td>1027</td>\n",
       "      <td>11595.text</td>\n",
       "      <td>Agência Brasileira de Inteligência (Abin)</td>\n",
       "      <td>temático</td>\n",
       "      <td>None</td>\n",
       "    </tr>\n",
       "    <tr>\n",
       "      <th>2</th>\n",
       "      <td>1028</td>\n",
       "      <td>11596.text</td>\n",
       "      <td>Associação Brasileira de Emissoras de Rádio e ...</td>\n",
       "      <td>temático</td>\n",
       "      <td>None</td>\n",
       "    </tr>\n",
       "    <tr>\n",
       "      <th>3</th>\n",
       "      <td>1029</td>\n",
       "      <td>11597.text</td>\n",
       "      <td>Associação Nacional de Jornais (ANJ)</td>\n",
       "      <td>temático</td>\n",
       "      <td>None</td>\n",
       "    </tr>\n",
       "    <tr>\n",
       "      <th>4</th>\n",
       "      <td>1030</td>\n",
       "      <td>11598.text</td>\n",
       "      <td>Associação Nacional dos Membros do Ministério ...</td>\n",
       "      <td>temático</td>\n",
       "      <td>None</td>\n",
       "    </tr>\n",
       "  </tbody>\n",
       "</table>\n",
       "</div>"
      ],
      "text/latex": [
       "\\begin{tabular}{lrllll}\n",
       "\\toprule\n",
       "{} &  index &     arquivo &                                              title &  natureza &  sexo \\\\\n",
       "\\midrule\n",
       "0 &    354 &  10989.text &  Destacamento de Operações e Informações – Cent... &  temático &  None \\\\\n",
       "1 &   1027 &  11595.text &          Agência Brasileira de Inteligência (Abin) &  temático &  None \\\\\n",
       "2 &   1028 &  11596.text &  Associação Brasileira de Emissoras de Rádio e ... &  temático &  None \\\\\n",
       "3 &   1029 &  11597.text &               Associação Nacional de Jornais (ANJ) &  temático &  None \\\\\n",
       "4 &   1030 &  11598.text &  Associação Nacional dos Membros do Ministério ... &  temático &  None \\\\\n",
       "\\bottomrule\n",
       "\\end{tabular}\n"
      ],
      "text/plain": [
       "   index     arquivo                                              title  \\\n",
       "0    354  10989.text  Destacamento de Operações e Informações – Cent...   \n",
       "1   1027  11595.text          Agência Brasileira de Inteligência (Abin)   \n",
       "2   1028  11596.text  Associação Brasileira de Emissoras de Rádio e ...   \n",
       "3   1029  11597.text               Associação Nacional de Jornais (ANJ)   \n",
       "4   1030  11598.text  Associação Nacional dos Membros do Ministério ...   \n",
       "\n",
       "   natureza  sexo  \n",
       "0  temático  None  \n",
       "1  temático  None  \n",
       "2  temático  None  \n",
       "3  temático  None  \n",
       "4  temático  None  "
      ]
     },
     "execution_count": 40,
     "metadata": {},
     "output_type": "execute_result"
    }
   ],
   "source": [
    "pd.read_sql_query(\"select * from resultados where natureza='temático'\", con=engine).head()"
   ]
  },
  {
   "cell_type": "markdown",
   "metadata": {},
   "source": [
    "# Exercícios\n",
    "\n",
    "1. Construa uma função para buscar apenas verbetes de personagens que tenham ocupado o cargo de deputado federal. Tabule os resultados incluindo o número de mandatos.\n",
    "1. Construa uma função para buscar o primeiro verbete temático e apresente o seu conteúdo.\n",
    "1. Encontre todos os verbetes que contenham \"Academia Brasileira de Letras\". Que porcentagem destes correspondem a membros da dita academia?\n",
    "1. Construa uma linha do tempo que represente a cobertura histórica do DHBB."
   ]
  },
  {
   "cell_type": "code",
   "execution_count": null,
   "metadata": {},
   "outputs": [],
   "source": []
  }
 ],
 "metadata": {
  "kernelspec": {
   "display_name": "Python 3",
   "language": "python",
   "name": "python3"
  },
  "language_info": {
   "codemirror_mode": {
    "name": "ipython",
    "version": 3
   },
   "file_extension": ".py",
   "mimetype": "text/x-python",
   "name": "python",
   "nbconvert_exporter": "python",
   "pygments_lexer": "ipython3",
   "version": "3.7.3"
  },
  "latex_envs": {
   "LaTeX_envs_menu_present": true,
   "autoclose": false,
   "autocomplete": true,
   "bibliofile": "biblio.bib",
   "cite_by": "apalike",
   "current_citInitial": 1,
   "eqLabelWithNumbers": true,
   "eqNumInitial": 1,
   "hotkeys": {
    "equation": "Ctrl-E",
    "itemize": "Ctrl-I"
   },
   "labels_anchors": false,
   "latex_user_defs": false,
   "report_style_numbering": false,
   "user_envs_cfg": false
  },
  "latex_metadata": {
   "affiliation": "FGV-EMAp",
   "author": "Flávio Codeço Coelho",
   "bib": "notebook.bib",
   "title": "Interagindo com Arquivos de Texto"
  }
 },
 "nbformat": 4,
 "nbformat_minor": 4
}
